{
 "cells": [
  {
   "cell_type": "markdown",
   "id": "52b2210b",
   "metadata": {},
   "source": [
    "# Fine tuning T5 on XSum with Truncation of Tokens"
   ]
  },
  {
   "cell_type": "markdown",
   "id": "1cf56330",
   "metadata": {},
   "source": [
    "Pruning head and tail of sentences to see if accuracy is affected\n",
    "\n",
    "Reference: [How to Fine-Tune BERT for Text Classification?](https://arxiv.org/pdf/1905.05583.pdf)\n",
    "\n",
    "1. **head-only**: keep the first 510 tokens6\n",
    "2. **tail-only**: keep the last 510 tokens\n",
    "3. **head+tail**: empirically select the first 128\n",
    "and the last 382 tokens.\n",
    "\n",
    "Sections\n",
    "\n",
    "1. #### [Baseline Training with T5 and Xsum](#1)\n",
    "2. #### [Truncating middle tokens with T5 and Xsum](#2)\n",
    "3. #### [Plotting Loss](#3)\n",
    "3. #### [Draft](#4)"
   ]
  },
  {
   "cell_type": "markdown",
   "id": "c8374076",
   "metadata": {},
   "source": [
    "#### To do:\n",
    "* [x] Check if the truncation does happen\n",
    "* [x] Not count the padding (0's in the array)\n",
    "* [ ] Fix rouge score implementation\n",
    "* [ ] Fix predictions vs actuals results display\n",
    "* [ ] Implement the same setup as the paper\n"
   ]
  },
  {
   "cell_type": "markdown",
   "id": "93f031f4",
   "metadata": {},
   "source": [
    "<a id=\"1\"></a>\n",
    "# 1. Baseline Training with T5 and Xsum\n"
   ]
  },
  {
   "cell_type": "code",
   "execution_count": 1,
   "id": "9745dde2",
   "metadata": {},
   "outputs": [],
   "source": [
    "# !pip3 install datasets\n",
    "# !pip3 install rich\n",
    "# !pip3 install SentencePiece\n",
    "# !pip3 install rouge_score"
   ]
  },
  {
   "cell_type": "code",
   "execution_count": 2,
   "id": "e298f8ba",
   "metadata": {},
   "outputs": [
    {
     "name": "stderr",
     "output_type": "stream",
     "text": [
      "/usr/lib/python3/dist-packages/requests/__init__.py:89: RequestsDependencyWarning: urllib3 (1.26.9) or chardet (3.0.4) doesn't match a supported version!\n",
      "  warnings.warn(\"urllib3 ({}) or chardet ({}) doesn't match a supported \"\n"
     ]
    }
   ],
   "source": [
    "# Importing libraries\n",
    "import os\n",
    "import numpy as np\n",
    "import pandas as pd\n",
    "import torch\n",
    "import torch.nn.functional as F\n",
    "from torch.utils.data import DataLoader\n",
    "import os\n",
    "\n",
    "# rich: for a better display on terminal\n",
    "from rich.table import Column, Table\n",
    "from rich import box\n",
    "from rich.console import Console\n",
    "\n",
    "# Importing the T5 modules from huggingface/transformers\n",
    "from transformers import PegasusTokenizer, PegasusForConditionalGeneration, T5Tokenizer, T5ForConditionalGeneration, BartTokenizer, BartForConditionalGeneration, tokenization_utils_base\n",
    "\n",
    "import nltk\n",
    "\n",
    "from datasets import load_dataset\n",
    "from datasets import load_metric\n",
    "\n",
    "#uncomment this if you are not using puffer\n",
    "# import os\n",
    "# os.environ['http_proxy'] = 'http://192.41.170.23:3128'\n",
    "# os.environ['https_proxy'] = 'http://192.41.170.23:3128'\n",
    "\n",
    "# !pip3 install datasets\n",
    "# !pip3 install rich\n",
    "# !pip3 install SentencePiece\n",
    "# !pip3 install rouge_score"
   ]
  },
  {
   "cell_type": "code",
   "execution_count": 3,
   "id": "c45405c6",
   "metadata": {},
   "outputs": [
    {
     "name": "stdout",
     "output_type": "stream",
     "text": [
      "Done\n"
     ]
    }
   ],
   "source": [
    "print(\"Done\")"
   ]
  },
  {
   "cell_type": "markdown",
   "id": "382fe250",
   "metadata": {},
   "source": [
    "## Dataset Class"
   ]
  },
  {
   "cell_type": "code",
   "execution_count": 4,
   "id": "63da50f2",
   "metadata": {},
   "outputs": [],
   "source": [
    "from torch.utils.data import Dataset\n",
    "import torch\n",
    "import pandas as pd\n",
    "\n",
    "class Dataset(Dataset):\n",
    "    \"\"\"\n",
    "    Creating a custom dataset for reading the dataset and\n",
    "    loading it into the dataloader to pass it to the\n",
    "    neural network for finetuning the model\n",
    "\n",
    "    \"\"\"\n",
    "\n",
    "    def __init__(\n",
    "        self, data, tokenizer, model_name, source_len, target_len, source_text, target_text, #train = True,\n",
    "    ):\n",
    "        \"\"\"\n",
    "        Initializes a Dataset class\n",
    "\n",
    "        Args:yo\n",
    "            data: Input data\n",
    "            tokenizer (transformers.tokenizer): Transformers tokenizer\n",
    "            source_len (int): Max length of source text\n",
    "            target_len (int): Max length of target text\n",
    "            source_text (str): column name of source text\n",
    "            target_text (str): column name of target text\n",
    "        \"\"\"\n",
    "        self.tokenizer = tokenizer\n",
    "        self.data = data\n",
    "        self.source_len = source_len\n",
    "        self.summ_len = target_len\n",
    "        \n",
    "        # Xsum contains about 200000+ samples, so lets just take a small portion\n",
    "        self.source_text = self.data[source_text][:1000]\n",
    "        if \"t5\" in model_name:\n",
    "            self.source_text = self.add_prefix(self.source_text)\n",
    "        self.target_text = self.data[target_text][1:1000]\n",
    "\n",
    "    def __len__(self):\n",
    "        \"\"\"returns the length of data\"\"\"\n",
    "\n",
    "        return len(self.target_text)\n",
    "\n",
    "    def __getitem__(self, index):\n",
    "        \"\"\"return the input ids, attention masks and target ids\"\"\"\n",
    "\n",
    "        source_text = str(self.source_text[index])\n",
    "        target_text = str(self.target_text[index])\n",
    "\n",
    "        # cleaning data so as to ensure data is in string type\n",
    "        source_text = \" \".join(source_text.split())\n",
    "        target_text = \" \".join(target_text.split())\n",
    "\n",
    "        source = self.tokenizer.batch_encode_plus(\n",
    "            [source_text],\n",
    "            max_length=self.source_len,\n",
    "            pad_to_max_length=True,\n",
    "            truncation=True,\n",
    "            padding=\"max_length\",\n",
    "            return_tensors=\"pt\",\n",
    "        )\n",
    "        \n",
    "        target = self.tokenizer.batch_encode_plus(\n",
    "            [target_text],\n",
    "            max_length=self.summ_len,\n",
    "            pad_to_max_length=True,\n",
    "            truncation=True,\n",
    "            padding=\"max_length\",\n",
    "            return_tensors=\"pt\",\n",
    "        )\n",
    "\n",
    "        source_ids = source[\"input_ids\"].squeeze()\n",
    "        source_mask = source[\"attention_mask\"].squeeze()\n",
    "        target_ids = target[\"input_ids\"].squeeze()\n",
    "        target_mask = target[\"attention_mask\"].squeeze()\n",
    "\n",
    "        return {\n",
    "            \"source_ids\": source_ids.to(dtype=torch.long),\n",
    "            \"source_mask\": source_mask.to(dtype=torch.long),\n",
    "            \"target_ids\": target_ids.to(dtype=torch.long),\n",
    "            \"target_ids_y\": target_ids.to(dtype=torch.long),\n",
    "        }\n",
    "    \n",
    "    def add_prefix(self, examples):\n",
    "        prefix = \"summarize: \"\n",
    "        inputs = [prefix + doc for doc in examples]\n",
    "        return inputs"
   ]
  },
  {
   "cell_type": "markdown",
   "id": "bfc2ba1c",
   "metadata": {},
   "source": [
    "## Train Function"
   ]
  },
  {
   "cell_type": "code",
   "execution_count": 5,
   "id": "260cf1f1",
   "metadata": {},
   "outputs": [],
   "source": [
    "def train(epoch, tokenizer, model, device, loader, optimizer, scheduler):\n",
    "    \n",
    "    \"\"\"\n",
    "    Function to be called for training with the parameters passed from main function\n",
    "\n",
    "    \"\"\"\n",
    "\n",
    "    model.train()\n",
    "    losses = 0\n",
    "    for _, data in enumerate(loader, 0):\n",
    "        y = data[\"target_ids\"].to(device, dtype=torch.long)\n",
    "        y_ids = y[:, :-1].contiguous()\n",
    "        lm_labels = y[:, 1:].clone().detach()\n",
    "        lm_labels[y[:, 1:] == tokenizer.pad_token_id] = -100\n",
    "        ids = data[\"source_ids\"].to(device, dtype=torch.long)\n",
    "        mask = data[\"source_mask\"].to(device, dtype=torch.long)\n",
    "\n",
    "        outputs = model(\n",
    "            input_ids=ids,\n",
    "            attention_mask=mask,\n",
    "            decoder_input_ids=y_ids,\n",
    "            labels=lm_labels,\n",
    "        )\n",
    "        loss = outputs[0]\n",
    "        if _ % 10 == 0:\n",
    "            print(\"STEP: \", _,\"/\",len(loader))\n",
    "            training_logger.add_row(str(epoch), str(f'{_}/{len(loader)}'), str(loss))\n",
    "            console.print(training_logger)\n",
    "            \n",
    "        optimizer.zero_grad()\n",
    "        loss.backward()\n",
    "        optimizer.step()\n",
    "        losses += loss.detach()\n",
    "\n",
    "    scheduler.step()\n",
    "    losses = losses/len(loader)\n",
    "    return losses"
   ]
  },
  {
   "cell_type": "markdown",
   "id": "8759b40a",
   "metadata": {},
   "source": [
    "## Validation Function"
   ]
  },
  {
   "cell_type": "code",
   "execution_count": 6,
   "id": "f51e6697",
   "metadata": {},
   "outputs": [],
   "source": [
    "def validate(epoch, tokenizer, model, device, loader):\n",
    "\n",
    "    \"\"\"\n",
    "    Function to evaluate model for predictions\n",
    "\n",
    "    \"\"\"\n",
    "    model.eval()\n",
    "    predictions = []\n",
    "    actuals = []\n",
    "    with torch.no_grad():\n",
    "        for _, data in enumerate(loader, 0):\n",
    "            y = data['target_ids'].to(device, dtype = torch.long)\n",
    "            ids = data['source_ids'].to(device, dtype = torch.long)\n",
    "            mask = data['source_mask'].to(device, dtype = torch.long)\n",
    "\n",
    "            generated_ids = model.generate(\n",
    "                  input_ids = ids,\n",
    "                  attention_mask = mask, \n",
    "                  max_length=150, \n",
    "                  num_beams=2,\n",
    "                  repetition_penalty=2.5, \n",
    "                  length_penalty=1.0, \n",
    "                  early_stopping=True\n",
    "                  )\n",
    "            preds = [tokenizer.decode(g, skip_special_tokens=True, clean_up_tokenization_spaces=True) for g in generated_ids]\n",
    "            target = [tokenizer.decode(t, skip_special_tokens=True, clean_up_tokenization_spaces=True)for t in y]\n",
    "            if _ % 10==0:\n",
    "                console.print(f'Completed {_}')\n",
    "\n",
    "            predictions.extend(preds)\n",
    "            actuals.extend(target)\n",
    "\n",
    "    return predictions, actuals"
   ]
  },
  {
   "cell_type": "markdown",
   "id": "822d7626",
   "metadata": {},
   "source": [
    "<hr>"
   ]
  },
  {
   "cell_type": "markdown",
   "id": "7e5bf93e",
   "metadata": {},
   "source": [
    "## Rouge Score"
   ]
  },
  {
   "cell_type": "code",
   "execution_count": 7,
   "id": "c4172389",
   "metadata": {},
   "outputs": [],
   "source": [
    "from rouge_score import rouge_scorer\n",
    "\n",
    "def compute_metrics(predictions, actuals, tokenizer):\n",
    "    \n",
    "    scorer = rouge_scorer.RougeScorer(['rouge1'])\n",
    "    \n",
    "    # a dictionary that will contain the results\n",
    "    rouge = {'precision': [], 'recall': [], 'fmeasure': []}\n",
    "\n",
    "    # for each of the hypothesis and reference documents pair\n",
    "    for (p, a) in zip(predictions, actuals):\n",
    "        # computing the ROUGE\n",
    "        score = scorer.score(p, a)\n",
    "        # separating the measurements\n",
    "        precision, recall, fmeasure = score['rouge1']\n",
    "        # add them to the proper list in the dictionary\n",
    "        rouge['precision'].append(precision)\n",
    "        rouge['recall'].append(recall)\n",
    "        rouge['fmeasure'].append(fmeasure)\n",
    "\n",
    "    return rouge"
   ]
  },
  {
   "cell_type": "markdown",
   "id": "9abc5b37",
   "metadata": {},
   "source": [
    "<hr>\n",
    "\n",
    "## Trainer Class"
   ]
  },
  {
   "cell_type": "code",
   "execution_count": 8,
   "id": "2fc96ec6",
   "metadata": {},
   "outputs": [],
   "source": [
    "def Trainer(\n",
    "    dataset, source_text, target_text, model_params, output_dir=\"outputs/\", device = \"cuda:3\"\n",
    "):\n",
    "\n",
    "    \"\"\"\n",
    "    trainer\n",
    "\n",
    "    \"\"\"\n",
    "    \n",
    "    losses = []\n",
    "    \n",
    "    # Set random seeds and deterministic pytorch for reproducibility\n",
    "    torch.manual_seed(model_params[\"SEED\"])  # pytorch random seed\n",
    "    np.random.seed(model_params[\"SEED\"])  # numpy random seed\n",
    "    torch.backends.cudnn.deterministic = True\n",
    "\n",
    "    # logging\n",
    "    console.log(f\"\"\"[Model]: Loading {model_params[\"MODEL\"]}...\\n\"\"\")\n",
    "\n",
    "    # Defining the model. We are using t5-base model and added a Language model layer on top for generation of Summary.\n",
    "    # tokenzier for encoding the text\n",
    "    # Further this model is sent to device (GPU/TPU) for using the hardware.\n",
    "    if \"bart\" in model_params[\"MODEL\"]:\n",
    "        tokenizer = BartTokenizer.from_pretrained(f'facebook/{model_params[\"MODEL\"]}')\n",
    "        model = BartForConditionalGeneration.from_pretrained(f'facebook/{model_params[\"MODEL\"]}')\n",
    "    elif \"t5\" in model_params[\"MODEL\"]:\n",
    "        tokenizer = T5Tokenizer.from_pretrained(model_params[\"MODEL\"])\n",
    "        model = T5ForConditionalGeneration.from_pretrained(model_params[\"MODEL\"])\n",
    "    elif \"pegasus\" in model_params[\"MODEL\"]:\n",
    "        tokenizer = PegasusTokenizer.from_pretrained(f'google/{model_params[\"MODEL\"]}')\n",
    "        model = PegasusForConditionalGeneration.from_pretrained(f'google/{model_params[\"MODEL\"]}')\n",
    "    else:\n",
    "        raise ValueError(\"Undefined model\")\n",
    "        \n",
    "    model = model.to(device)\n",
    "\n",
    "    # logging\n",
    "    console.log(f\"[Data]: Reading data...\\n\")\n",
    "\n",
    "    # Creation of Dataset and Dataloader\n",
    "    train_dataset = dataset[\"train\"]\n",
    "    val_dataset = dataset[\"validation\"]\n",
    "    \n",
    "    console.print(f\"FULL Dataset: {dataset.shape}\")\n",
    "    console.print(f\"TRAIN Dataset: {train_dataset.shape}\")\n",
    "    console.print(f\"TEST Dataset: {val_dataset.shape}\\n\")\n",
    "    \n",
    "    del dataset\n",
    "    \n",
    "    # Creating the Training and Validation dataset for further creation of Dataloader\n",
    "    training_set = Dataset(\n",
    "        train_dataset,\n",
    "        tokenizer,\n",
    "        model_params[\"MODEL\"],\n",
    "        model_params[\"MAX_SOURCE_TEXT_LENGTH\"],\n",
    "        model_params[\"MAX_TARGET_TEXT_LENGTH\"],\n",
    "        source_text,\n",
    "        target_text,\n",
    "#         train = True,\n",
    "    )\n",
    "    val_set = Dataset(\n",
    "        val_dataset,\n",
    "        tokenizer,\n",
    "        model_params[\"MODEL\"],\n",
    "        model_params[\"MAX_SOURCE_TEXT_LENGTH\"],\n",
    "        model_params[\"MAX_TARGET_TEXT_LENGTH\"],\n",
    "        source_text,\n",
    "        target_text,\n",
    "#         train = False,\n",
    "    )\n",
    "    \n",
    "    del train_dataset, val_dataset\n",
    "    \n",
    "    # Defining the parameters for creation of dataloaders\n",
    "    train_params = {\n",
    "        \"batch_size\": model_params[\"TRAIN_BATCH_SIZE\"],\n",
    "        \"shuffle\": True,\n",
    "        \"num_workers\": 0,\n",
    "    }\n",
    "\n",
    "    val_params = {\n",
    "        \"batch_size\": model_params[\"VALID_BATCH_SIZE\"],\n",
    "        \"shuffle\": False,\n",
    "        \"num_workers\": 0,\n",
    "    }\n",
    "\n",
    "    # Creation of Dataloaders for testing and validation. This will be used down for training and validation stage for the model.\n",
    "    training_loader = DataLoader(training_set, **train_params)\n",
    "    val_loader = DataLoader(val_set, **val_params)\n",
    "    \n",
    "    print(\"TRAIN LOADER: \", len(training_loader))\n",
    "    print(\"VAL LOADER: \", len(val_loader))\n",
    "    \n",
    "    del train_params, val_params\n",
    "    \n",
    "    # Defining the optimizer that will be used to tune the weights of the network in the training session.\n",
    "    optimizer = torch.optim.Adam(\n",
    "        params=model.parameters(), lr=model_params[\"LEARNING_RATE\"]\n",
    "    )\n",
    "    \n",
    "    if model_params[\"SCHEDULER\"] == \"linear\":\n",
    "        scheduler = torch.optim.lr_scheduler.LinearLR(optimizer)\n",
    "    \n",
    "    # Training loop\n",
    "    console.log(f\"[Initiating Fine Tuning]...\\n\")\n",
    "\n",
    "    for epoch in range(model_params[\"TRAIN_EPOCHS\"]):\n",
    "\n",
    "        loss = train(epoch, tokenizer, model, device, training_loader, optimizer, scheduler)\n",
    "        losses.append(loss.cpu().numpy())\n",
    "\n",
    "        # evaluating test dataset        \n",
    "        predictions, actuals = validate(epoch, tokenizer, model, device, val_loader)\n",
    "        \n",
    "        final_df = pd.DataFrame({\"Generated Text\": predictions, \"Actual Text\": actuals})\n",
    "        final_df.to_csv(os.path.join(output_dir, f\"\"\"predictions_{model_params['MODEL']}_epoch{epoch}.csv\"\"\"))\n",
    "        print(\"SAVE TO CSV FINISHED\")\n",
    "        \n",
    "        \n",
    "        rouge = compute_metrics(predictions, actuals, tokenizer)\n",
    "        \n",
    "        rouge_df = pd.DataFrame.from_dict(rouge, orient='index')\n",
    "        rouge_df.to_csv(os.path.join(output_dir, f\"\"\"rouge_{model_params['MODEL']}_epoch{epoch}.csv\"\"\"))\n",
    "        print(\"SAVE ROUGE TO CSV FINISHED\")\n",
    "    \n",
    "    console.log(f\"[Saving Model]...\\n\")\n",
    "    # Saving the model after training\n",
    "    path = os.path.join(output_dir, \"model_files\")\n",
    "    model.save_pretrained(path)\n",
    "    tokenizer.save_pretrained(path)\n",
    "    \n",
    "    # converting list to array\n",
    "    arr = np.array(losses)\n",
    "    np.save(os.path.join(output_dir, f\"\"\"losses_{model_params['MODEL']}_epoch{model_params['TRAIN_EPOCHS']}\"\"\"), arr)\n",
    "\n",
    "    console.save_text(os.path.join(output_dir, \"logs.txt\"))\n",
    "\n",
    "    console.log(f\"[Validation Completed.]\\n\")\n",
    "    console.print(\n",
    "        f\"\"\"[Model] Model saved @ {os.path.join(output_dir, \"model_files\")}\\n\"\"\"\n",
    "    )\n",
    "    console.print(\n",
    "        f\"\"\"[Validation] Generation on Validation data saved @ {os.path.join(output_dir,'predictions.csv')}\\n\"\"\"\n",
    "    )\n",
    "    console.print(f\"\"\"[Logs] Logs saved @ {os.path.join(output_dir,'logs.txt')}\\n\"\"\")"
   ]
  },
  {
   "cell_type": "markdown",
   "id": "c6c98b31",
   "metadata": {},
   "source": [
    "### Loading Data"
   ]
  },
  {
   "cell_type": "code",
   "execution_count": 9,
   "id": "6aa74f3d",
   "metadata": {},
   "outputs": [
    {
     "name": "stdout",
     "output_type": "stream",
     "text": [
      "configured device:  cuda:3\n"
     ]
    },
    {
     "name": "stderr",
     "output_type": "stream",
     "text": [
      "Using custom data configuration default\n",
      "Reusing dataset xsum (/root/.cache/huggingface/datasets/xsum/default/1.2.0/32c23220eadddb1149b16ed2e9430a05293768cfffbdfd151058697d4c11f934)\n"
     ]
    },
    {
     "data": {
      "application/vnd.jupyter.widget-view+json": {
       "model_id": "c3a02ed1db134ac39928a3e4f18abb36",
       "version_major": 2,
       "version_minor": 0
      },
      "text/plain": [
       "  0%|          | 0/3 [00:00<?, ?it/s]"
      ]
     },
     "metadata": {},
     "output_type": "display_data"
    }
   ],
   "source": [
    "from torch import cuda\n",
    "device = 'cuda:3' if cuda.is_available() else 'cpu'\n",
    "print(\"configured device: \", device)\n",
    "\n",
    "data = 'xsum'\n",
    "\n",
    "if data == 'cnn_dailymail':\n",
    "    dataset = load_dataset(data, '3.0.0')\n",
    "    source_text = \"article\"\n",
    "    target_text = \"highlights\"\n",
    "elif data == \"xsum\":\n",
    "    dataset = load_dataset(data)\n",
    "    source_text = \"document\"\n",
    "    target_text = \"summary\"\n",
    "else:\n",
    "    raise ValueError(\"Undefined dataset\")"
   ]
  },
  {
   "cell_type": "markdown",
   "id": "2952d092",
   "metadata": {},
   "source": [
    "## Model Params"
   ]
  },
  {
   "cell_type": "code",
   "execution_count": 10,
   "id": "9b26e994",
   "metadata": {},
   "outputs": [
    {
     "name": "stdout",
     "output_type": "stream",
     "text": [
      "===== Ouputs to be saved in =======\n",
      "/root/NLP/nlp-ablation-t5/experiments\\outputs\\\n"
     ]
    }
   ],
   "source": [
    "# let's define model parameters specific to BART\n",
    "model_params = {\n",
    "    \"MODEL\": \"t5-small\",  # model_type: t5-base/t5-large\n",
    "    \"TRAIN_BATCH_SIZE\": 8,  # training batch size\n",
    "    \"VALID_BATCH_SIZE\": 8,  # validation batch size\n",
    "    \"TRAIN_EPOCHS\": 3,  # number of training epochs\n",
    "    \"VAL_EPOCHS\": 1,  # number of validation epochs\n",
    "    \"LEARNING_RATE\": 2e-05,  # learning rate default betas=(0.9, 0.999), eps=1e-08\n",
    "    \"SCHEDULER\": \"linear\",\n",
    "    \"MAX_SOURCE_TEXT_LENGTH\": 512,  # max length of source text\n",
    "    \"MAX_TARGET_TEXT_LENGTH\": 36,  # max length of target text\n",
    "    \"SEED\": 42,  # set seed for reproducibility\n",
    "}\n",
    "\n",
    "print(\"===== Ouputs to be saved in =======\")\n",
    "print(os.getcwd() + '\\outputs\\\\')"
   ]
  },
  {
   "cell_type": "markdown",
   "id": "93b0de37",
   "metadata": {},
   "source": [
    "## Train"
   ]
  },
  {
   "cell_type": "code",
   "execution_count": 11,
   "id": "31875aac",
   "metadata": {},
   "outputs": [
    {
     "data": {
      "text/html": [
       "<pre style=\"white-space:pre;overflow-x:auto;line-height:normal;font-family:Menlo,'DejaVu Sans Mono',consolas,'Courier New',monospace\"><span style=\"color: #7fbfbf; text-decoration-color: #7fbfbf\">[02:45:46] </span><span style=\"font-weight: bold\">[</span>Model<span style=\"font-weight: bold\">]</span>: Loading t5-small<span style=\"color: #808000; text-decoration-color: #808000\">...</span>                                      <a href=\"file:///tmp/ipykernel_31984/2866526439.py\" target=\"_blank\"><span style=\"color: #7f7f7f; text-decoration-color: #7f7f7f\">2866526439.py</span></a><span style=\"color: #7f7f7f; text-decoration-color: #7f7f7f\">:</span><a href=\"file:///tmp/ipykernel_31984/2866526439.py#18\" target=\"_blank\"><span style=\"color: #7f7f7f; text-decoration-color: #7f7f7f\">18</span></a>\n",
       "<span style=\"color: #7fbfbf; text-decoration-color: #7fbfbf\">           </span>                                                                  <span style=\"color: #7f7f7f; text-decoration-color: #7f7f7f\">                </span>\n",
       "</pre>\n"
      ],
      "text/plain": [
       "\u001b[2;36m[02:45:46]\u001b[0m\u001b[2;36m \u001b[0m\u001b[1m[\u001b[0mModel\u001b[1m]\u001b[0m: Loading t5-small\u001b[33m...\u001b[0m                                      \u001b]8;id=995096;file:///tmp/ipykernel_31984/2866526439.py\u001b\\\u001b[2m2866526439.py\u001b[0m\u001b]8;;\u001b\\\u001b[2m:\u001b[0m\u001b]8;id=761936;file:///tmp/ipykernel_31984/2866526439.py#18\u001b\\\u001b[2m18\u001b[0m\u001b]8;;\u001b\\\n",
       "\u001b[2;36m           \u001b[0m                                                                  \u001b[2m                \u001b[0m\n"
      ]
     },
     "metadata": {},
     "output_type": "display_data"
    },
    {
     "data": {
      "text/html": [
       "<pre style=\"white-space:pre;overflow-x:auto;line-height:normal;font-family:Menlo,'DejaVu Sans Mono',consolas,'Courier New',monospace\"><span style=\"color: #7fbfbf; text-decoration-color: #7fbfbf\">[02:46:05] </span><span style=\"font-weight: bold\">[</span>Data<span style=\"font-weight: bold\">]</span>: Reading data<span style=\"color: #808000; text-decoration-color: #808000\">...</span>                                           <a href=\"file:///tmp/ipykernel_31984/2866526439.py\" target=\"_blank\"><span style=\"color: #7f7f7f; text-decoration-color: #7f7f7f\">2866526439.py</span></a><span style=\"color: #7f7f7f; text-decoration-color: #7f7f7f\">:</span><a href=\"file:///tmp/ipykernel_31984/2866526439.py#38\" target=\"_blank\"><span style=\"color: #7f7f7f; text-decoration-color: #7f7f7f\">38</span></a>\n",
       "<span style=\"color: #7fbfbf; text-decoration-color: #7fbfbf\">           </span>                                                                  <span style=\"color: #7f7f7f; text-decoration-color: #7f7f7f\">                </span>\n",
       "</pre>\n"
      ],
      "text/plain": [
       "\u001b[2;36m[02:46:05]\u001b[0m\u001b[2;36m \u001b[0m\u001b[1m[\u001b[0mData\u001b[1m]\u001b[0m: Reading data\u001b[33m...\u001b[0m                                           \u001b]8;id=777192;file:///tmp/ipykernel_31984/2866526439.py\u001b\\\u001b[2m2866526439.py\u001b[0m\u001b]8;;\u001b\\\u001b[2m:\u001b[0m\u001b]8;id=308016;file:///tmp/ipykernel_31984/2866526439.py#38\u001b\\\u001b[2m38\u001b[0m\u001b]8;;\u001b\\\n",
       "\u001b[2;36m           \u001b[0m                                                                  \u001b[2m                \u001b[0m\n"
      ]
     },
     "metadata": {},
     "output_type": "display_data"
    },
    {
     "data": {
      "text/html": [
       "<pre style=\"white-space:pre;overflow-x:auto;line-height:normal;font-family:Menlo,'DejaVu Sans Mono',consolas,'Courier New',monospace\">FULL Dataset: <span style=\"font-weight: bold\">{</span><span style=\"color: #008000; text-decoration-color: #008000\">'train'</span>: <span style=\"font-weight: bold\">(</span><span style=\"color: #008080; text-decoration-color: #008080; font-weight: bold\">204045</span>, <span style=\"color: #008080; text-decoration-color: #008080; font-weight: bold\">3</span><span style=\"font-weight: bold\">)</span>, <span style=\"color: #008000; text-decoration-color: #008000\">'validation'</span>: <span style=\"font-weight: bold\">(</span><span style=\"color: #008080; text-decoration-color: #008080; font-weight: bold\">11332</span>, <span style=\"color: #008080; text-decoration-color: #008080; font-weight: bold\">3</span><span style=\"font-weight: bold\">)</span>, <span style=\"color: #008000; text-decoration-color: #008000\">'test'</span>: <span style=\"font-weight: bold\">(</span><span style=\"color: #008080; text-decoration-color: #008080; font-weight: bold\">11334</span>, <span style=\"color: #008080; text-decoration-color: #008080; font-weight: bold\">3</span><span style=\"font-weight: bold\">)}</span>\n",
       "</pre>\n"
      ],
      "text/plain": [
       "FULL Dataset: \u001b[1m{\u001b[0m\u001b[32m'train'\u001b[0m: \u001b[1m(\u001b[0m\u001b[1;36m204045\u001b[0m, \u001b[1;36m3\u001b[0m\u001b[1m)\u001b[0m, \u001b[32m'validation'\u001b[0m: \u001b[1m(\u001b[0m\u001b[1;36m11332\u001b[0m, \u001b[1;36m3\u001b[0m\u001b[1m)\u001b[0m, \u001b[32m'test'\u001b[0m: \u001b[1m(\u001b[0m\u001b[1;36m11334\u001b[0m, \u001b[1;36m3\u001b[0m\u001b[1m)\u001b[0m\u001b[1m}\u001b[0m\n"
      ]
     },
     "metadata": {},
     "output_type": "display_data"
    },
    {
     "data": {
      "text/html": [
       "<pre style=\"white-space:pre;overflow-x:auto;line-height:normal;font-family:Menlo,'DejaVu Sans Mono',consolas,'Courier New',monospace\">TRAIN Dataset: <span style=\"font-weight: bold\">(</span><span style=\"color: #008080; text-decoration-color: #008080; font-weight: bold\">204045</span>, <span style=\"color: #008080; text-decoration-color: #008080; font-weight: bold\">3</span><span style=\"font-weight: bold\">)</span>\n",
       "</pre>\n"
      ],
      "text/plain": [
       "TRAIN Dataset: \u001b[1m(\u001b[0m\u001b[1;36m204045\u001b[0m, \u001b[1;36m3\u001b[0m\u001b[1m)\u001b[0m\n"
      ]
     },
     "metadata": {},
     "output_type": "display_data"
    },
    {
     "data": {
      "text/html": [
       "<pre style=\"white-space:pre;overflow-x:auto;line-height:normal;font-family:Menlo,'DejaVu Sans Mono',consolas,'Courier New',monospace\">TEST Dataset: <span style=\"font-weight: bold\">(</span><span style=\"color: #008080; text-decoration-color: #008080; font-weight: bold\">11332</span>, <span style=\"color: #008080; text-decoration-color: #008080; font-weight: bold\">3</span><span style=\"font-weight: bold\">)</span>\n",
       "\n",
       "</pre>\n"
      ],
      "text/plain": [
       "TEST Dataset: \u001b[1m(\u001b[0m\u001b[1;36m11332\u001b[0m, \u001b[1;36m3\u001b[0m\u001b[1m)\u001b[0m\n",
       "\n"
      ]
     },
     "metadata": {},
     "output_type": "display_data"
    },
    {
     "name": "stdout",
     "output_type": "stream",
     "text": [
      "TRAIN LOADER:  125\n",
      "VAL LOADER:  125\n"
     ]
    },
    {
     "data": {
      "text/html": [
       "<pre style=\"white-space:pre;overflow-x:auto;line-height:normal;font-family:Menlo,'DejaVu Sans Mono',consolas,'Courier New',monospace\"><span style=\"color: #7fbfbf; text-decoration-color: #7fbfbf\">[02:46:08] </span><span style=\"font-weight: bold\">[</span>Initiating Fine Tuning<span style=\"font-weight: bold\">]</span><span style=\"color: #808000; text-decoration-color: #808000\">...</span>                                      <a href=\"file:///tmp/ipykernel_31984/2866526439.py\" target=\"_blank\"><span style=\"color: #7f7f7f; text-decoration-color: #7f7f7f\">2866526439.py</span></a><span style=\"color: #7f7f7f; text-decoration-color: #7f7f7f\">:</span><a href=\"file:///tmp/ipykernel_31984/2866526439.py#105\" target=\"_blank\"><span style=\"color: #7f7f7f; text-decoration-color: #7f7f7f\">105</span></a>\n",
       "<span style=\"color: #7fbfbf; text-decoration-color: #7fbfbf\">           </span>                                                                 <span style=\"color: #7f7f7f; text-decoration-color: #7f7f7f\">                 </span>\n",
       "</pre>\n"
      ],
      "text/plain": [
       "\u001b[2;36m[02:46:08]\u001b[0m\u001b[2;36m \u001b[0m\u001b[1m[\u001b[0mInitiating Fine Tuning\u001b[1m]\u001b[0m\u001b[33m...\u001b[0m                                      \u001b]8;id=456744;file:///tmp/ipykernel_31984/2866526439.py\u001b\\\u001b[2m2866526439.py\u001b[0m\u001b]8;;\u001b\\\u001b[2m:\u001b[0m\u001b]8;id=796966;file:///tmp/ipykernel_31984/2866526439.py#105\u001b\\\u001b[2m105\u001b[0m\u001b]8;;\u001b\\\n",
       "\u001b[2;36m           \u001b[0m                                                                 \u001b[2m                 \u001b[0m\n"
      ]
     },
     "metadata": {},
     "output_type": "display_data"
    },
    {
     "name": "stdout",
     "output_type": "stream",
     "text": [
      "STEP:  0 / 125\n"
     ]
    },
    {
     "data": {
      "text/html": [
       "<pre style=\"white-space:pre;overflow-x:auto;line-height:normal;font-family:Menlo,'DejaVu Sans Mono',consolas,'Courier New',monospace\"><span style=\"font-style: italic\">                               Training Status                               </span>\n",
       "+---------------------------------------------------------------------------+\n",
       "|<span style=\"font-weight: bold\">Epoch </span>|<span style=\"font-weight: bold\"> Steps </span>|<span style=\"font-weight: bold\">                            Loss                            </span>|\n",
       "|------+-------+------------------------------------------------------------|\n",
       "|  0   | 0/125 | tensor(6.9166, device='cuda:1', grad_fn=&lt;NllLossBackward0&gt;)|\n",
       "+---------------------------------------------------------------------------+\n",
       "</pre>\n"
      ],
      "text/plain": [
       "\u001b[3m                               Training Status                               \u001b[0m\n",
       "+---------------------------------------------------------------------------+\n",
       "|\u001b[1mEpoch\u001b[0m\u001b[1m \u001b[0m|\u001b[1m \u001b[0m\u001b[1mSteps\u001b[0m\u001b[1m \u001b[0m|\u001b[1m \u001b[0m\u001b[1m                           Loss                            \u001b[0m|\n",
       "|------+-------+------------------------------------------------------------|\n",
       "|  0   | 0/125 | tensor(6.9166, device='cuda:1', grad_fn=<NllLossBackward0>)|\n",
       "+---------------------------------------------------------------------------+\n"
      ]
     },
     "metadata": {},
     "output_type": "display_data"
    },
    {
     "name": "stdout",
     "output_type": "stream",
     "text": [
      "STEP:  10 / 125\n"
     ]
    },
    {
     "data": {
      "text/html": [
       "<pre style=\"white-space:pre;overflow-x:auto;line-height:normal;font-family:Menlo,'DejaVu Sans Mono',consolas,'Courier New',monospace\"><span style=\"font-style: italic\">                               Training Status                                </span>\n",
       "+----------------------------------------------------------------------------+\n",
       "|<span style=\"font-weight: bold\">Epoch </span>|<span style=\"font-weight: bold\"> Steps  </span>|<span style=\"font-weight: bold\">                            Loss                            </span>|\n",
       "|------+--------+------------------------------------------------------------|\n",
       "|  0   | 0/125  | tensor(6.9166, device='cuda:1', grad_fn=&lt;NllLossBackward0&gt;)|\n",
       "|  0   | 10/125 | tensor(6.0950, device='cuda:1', grad_fn=&lt;NllLossBackward0&gt;)|\n",
       "+----------------------------------------------------------------------------+\n",
       "</pre>\n"
      ],
      "text/plain": [
       "\u001b[3m                               Training Status                                \u001b[0m\n",
       "+----------------------------------------------------------------------------+\n",
       "|\u001b[1mEpoch\u001b[0m\u001b[1m \u001b[0m|\u001b[1m \u001b[0m\u001b[1mSteps \u001b[0m\u001b[1m \u001b[0m|\u001b[1m \u001b[0m\u001b[1m                           Loss                            \u001b[0m|\n",
       "|------+--------+------------------------------------------------------------|\n",
       "|  0   | 0/125  | tensor(6.9166, device='cuda:1', grad_fn=<NllLossBackward0>)|\n",
       "|  0   | 10/125 | tensor(6.0950, device='cuda:1', grad_fn=<NllLossBackward0>)|\n",
       "+----------------------------------------------------------------------------+\n"
      ]
     },
     "metadata": {},
     "output_type": "display_data"
    },
    {
     "name": "stdout",
     "output_type": "stream",
     "text": [
      "STEP:  20 / 125\n"
     ]
    },
    {
     "data": {
      "text/html": [
       "<pre style=\"white-space:pre;overflow-x:auto;line-height:normal;font-family:Menlo,'DejaVu Sans Mono',consolas,'Courier New',monospace\"><span style=\"font-style: italic\">                               Training Status                                </span>\n",
       "+----------------------------------------------------------------------------+\n",
       "|<span style=\"font-weight: bold\">Epoch </span>|<span style=\"font-weight: bold\"> Steps  </span>|<span style=\"font-weight: bold\">                            Loss                            </span>|\n",
       "|------+--------+------------------------------------------------------------|\n",
       "|  0   | 0/125  | tensor(6.9166, device='cuda:1', grad_fn=&lt;NllLossBackward0&gt;)|\n",
       "|  0   | 10/125 | tensor(6.0950, device='cuda:1', grad_fn=&lt;NllLossBackward0&gt;)|\n",
       "|  0   | 20/125 | tensor(6.0341, device='cuda:1', grad_fn=&lt;NllLossBackward0&gt;)|\n",
       "+----------------------------------------------------------------------------+\n",
       "</pre>\n"
      ],
      "text/plain": [
       "\u001b[3m                               Training Status                                \u001b[0m\n",
       "+----------------------------------------------------------------------------+\n",
       "|\u001b[1mEpoch\u001b[0m\u001b[1m \u001b[0m|\u001b[1m \u001b[0m\u001b[1mSteps \u001b[0m\u001b[1m \u001b[0m|\u001b[1m \u001b[0m\u001b[1m                           Loss                            \u001b[0m|\n",
       "|------+--------+------------------------------------------------------------|\n",
       "|  0   | 0/125  | tensor(6.9166, device='cuda:1', grad_fn=<NllLossBackward0>)|\n",
       "|  0   | 10/125 | tensor(6.0950, device='cuda:1', grad_fn=<NllLossBackward0>)|\n",
       "|  0   | 20/125 | tensor(6.0341, device='cuda:1', grad_fn=<NllLossBackward0>)|\n",
       "+----------------------------------------------------------------------------+\n"
      ]
     },
     "metadata": {},
     "output_type": "display_data"
    },
    {
     "name": "stdout",
     "output_type": "stream",
     "text": [
      "STEP:  30 / 125\n"
     ]
    },
    {
     "data": {
      "text/html": [
       "<pre style=\"white-space:pre;overflow-x:auto;line-height:normal;font-family:Menlo,'DejaVu Sans Mono',consolas,'Courier New',monospace\"><span style=\"font-style: italic\">                               Training Status                                </span>\n",
       "+----------------------------------------------------------------------------+\n",
       "|<span style=\"font-weight: bold\">Epoch </span>|<span style=\"font-weight: bold\"> Steps  </span>|<span style=\"font-weight: bold\">                            Loss                            </span>|\n",
       "|------+--------+------------------------------------------------------------|\n",
       "|  0   | 0/125  | tensor(6.9166, device='cuda:1', grad_fn=&lt;NllLossBackward0&gt;)|\n",
       "|  0   | 10/125 | tensor(6.0950, device='cuda:1', grad_fn=&lt;NllLossBackward0&gt;)|\n",
       "|  0   | 20/125 | tensor(6.0341, device='cuda:1', grad_fn=&lt;NllLossBackward0&gt;)|\n",
       "|  0   | 30/125 | tensor(6.6680, device='cuda:1', grad_fn=&lt;NllLossBackward0&gt;)|\n",
       "+----------------------------------------------------------------------------+\n",
       "</pre>\n"
      ],
      "text/plain": [
       "\u001b[3m                               Training Status                                \u001b[0m\n",
       "+----------------------------------------------------------------------------+\n",
       "|\u001b[1mEpoch\u001b[0m\u001b[1m \u001b[0m|\u001b[1m \u001b[0m\u001b[1mSteps \u001b[0m\u001b[1m \u001b[0m|\u001b[1m \u001b[0m\u001b[1m                           Loss                            \u001b[0m|\n",
       "|------+--------+------------------------------------------------------------|\n",
       "|  0   | 0/125  | tensor(6.9166, device='cuda:1', grad_fn=<NllLossBackward0>)|\n",
       "|  0   | 10/125 | tensor(6.0950, device='cuda:1', grad_fn=<NllLossBackward0>)|\n",
       "|  0   | 20/125 | tensor(6.0341, device='cuda:1', grad_fn=<NllLossBackward0>)|\n",
       "|  0   | 30/125 | tensor(6.6680, device='cuda:1', grad_fn=<NllLossBackward0>)|\n",
       "+----------------------------------------------------------------------------+\n"
      ]
     },
     "metadata": {},
     "output_type": "display_data"
    },
    {
     "name": "stdout",
     "output_type": "stream",
     "text": [
      "STEP:  40 / 125\n"
     ]
    },
    {
     "data": {
      "text/html": [
       "<pre style=\"white-space:pre;overflow-x:auto;line-height:normal;font-family:Menlo,'DejaVu Sans Mono',consolas,'Courier New',monospace\"><span style=\"font-style: italic\">                               Training Status                                </span>\n",
       "+----------------------------------------------------------------------------+\n",
       "|<span style=\"font-weight: bold\">Epoch </span>|<span style=\"font-weight: bold\"> Steps  </span>|<span style=\"font-weight: bold\">                            Loss                            </span>|\n",
       "|------+--------+------------------------------------------------------------|\n",
       "|  0   | 0/125  | tensor(6.9166, device='cuda:1', grad_fn=&lt;NllLossBackward0&gt;)|\n",
       "|  0   | 10/125 | tensor(6.0950, device='cuda:1', grad_fn=&lt;NllLossBackward0&gt;)|\n",
       "|  0   | 20/125 | tensor(6.0341, device='cuda:1', grad_fn=&lt;NllLossBackward0&gt;)|\n",
       "|  0   | 30/125 | tensor(6.6680, device='cuda:1', grad_fn=&lt;NllLossBackward0&gt;)|\n",
       "|  0   | 40/125 | tensor(6.0066, device='cuda:1', grad_fn=&lt;NllLossBackward0&gt;)|\n",
       "+----------------------------------------------------------------------------+\n",
       "</pre>\n"
      ],
      "text/plain": [
       "\u001b[3m                               Training Status                                \u001b[0m\n",
       "+----------------------------------------------------------------------------+\n",
       "|\u001b[1mEpoch\u001b[0m\u001b[1m \u001b[0m|\u001b[1m \u001b[0m\u001b[1mSteps \u001b[0m\u001b[1m \u001b[0m|\u001b[1m \u001b[0m\u001b[1m                           Loss                            \u001b[0m|\n",
       "|------+--------+------------------------------------------------------------|\n",
       "|  0   | 0/125  | tensor(6.9166, device='cuda:1', grad_fn=<NllLossBackward0>)|\n",
       "|  0   | 10/125 | tensor(6.0950, device='cuda:1', grad_fn=<NllLossBackward0>)|\n",
       "|  0   | 20/125 | tensor(6.0341, device='cuda:1', grad_fn=<NllLossBackward0>)|\n",
       "|  0   | 30/125 | tensor(6.6680, device='cuda:1', grad_fn=<NllLossBackward0>)|\n",
       "|  0   | 40/125 | tensor(6.0066, device='cuda:1', grad_fn=<NllLossBackward0>)|\n",
       "+----------------------------------------------------------------------------+\n"
      ]
     },
     "metadata": {},
     "output_type": "display_data"
    },
    {
     "name": "stdout",
     "output_type": "stream",
     "text": [
      "STEP:  50 / 125\n"
     ]
    },
    {
     "data": {
      "text/html": [
       "<pre style=\"white-space:pre;overflow-x:auto;line-height:normal;font-family:Menlo,'DejaVu Sans Mono',consolas,'Courier New',monospace\"><span style=\"font-style: italic\">                               Training Status                                </span>\n",
       "+----------------------------------------------------------------------------+\n",
       "|<span style=\"font-weight: bold\">Epoch </span>|<span style=\"font-weight: bold\"> Steps  </span>|<span style=\"font-weight: bold\">                            Loss                            </span>|\n",
       "|------+--------+------------------------------------------------------------|\n",
       "|  0   | 0/125  | tensor(6.9166, device='cuda:1', grad_fn=&lt;NllLossBackward0&gt;)|\n",
       "|  0   | 10/125 | tensor(6.0950, device='cuda:1', grad_fn=&lt;NllLossBackward0&gt;)|\n",
       "|  0   | 20/125 | tensor(6.0341, device='cuda:1', grad_fn=&lt;NllLossBackward0&gt;)|\n",
       "|  0   | 30/125 | tensor(6.6680, device='cuda:1', grad_fn=&lt;NllLossBackward0&gt;)|\n",
       "|  0   | 40/125 | tensor(6.0066, device='cuda:1', grad_fn=&lt;NllLossBackward0&gt;)|\n",
       "|  0   | 50/125 | tensor(5.5205, device='cuda:1', grad_fn=&lt;NllLossBackward0&gt;)|\n",
       "+----------------------------------------------------------------------------+\n",
       "</pre>\n"
      ],
      "text/plain": [
       "\u001b[3m                               Training Status                                \u001b[0m\n",
       "+----------------------------------------------------------------------------+\n",
       "|\u001b[1mEpoch\u001b[0m\u001b[1m \u001b[0m|\u001b[1m \u001b[0m\u001b[1mSteps \u001b[0m\u001b[1m \u001b[0m|\u001b[1m \u001b[0m\u001b[1m                           Loss                            \u001b[0m|\n",
       "|------+--------+------------------------------------------------------------|\n",
       "|  0   | 0/125  | tensor(6.9166, device='cuda:1', grad_fn=<NllLossBackward0>)|\n",
       "|  0   | 10/125 | tensor(6.0950, device='cuda:1', grad_fn=<NllLossBackward0>)|\n",
       "|  0   | 20/125 | tensor(6.0341, device='cuda:1', grad_fn=<NllLossBackward0>)|\n",
       "|  0   | 30/125 | tensor(6.6680, device='cuda:1', grad_fn=<NllLossBackward0>)|\n",
       "|  0   | 40/125 | tensor(6.0066, device='cuda:1', grad_fn=<NllLossBackward0>)|\n",
       "|  0   | 50/125 | tensor(5.5205, device='cuda:1', grad_fn=<NllLossBackward0>)|\n",
       "+----------------------------------------------------------------------------+\n"
      ]
     },
     "metadata": {},
     "output_type": "display_data"
    },
    {
     "name": "stdout",
     "output_type": "stream",
     "text": [
      "STEP:  60 / 125\n"
     ]
    },
    {
     "data": {
      "text/html": [
       "<pre style=\"white-space:pre;overflow-x:auto;line-height:normal;font-family:Menlo,'DejaVu Sans Mono',consolas,'Courier New',monospace\"><span style=\"font-style: italic\">                               Training Status                                </span>\n",
       "+----------------------------------------------------------------------------+\n",
       "|<span style=\"font-weight: bold\">Epoch </span>|<span style=\"font-weight: bold\"> Steps  </span>|<span style=\"font-weight: bold\">                            Loss                            </span>|\n",
       "|------+--------+------------------------------------------------------------|\n",
       "|  0   | 0/125  | tensor(6.9166, device='cuda:1', grad_fn=&lt;NllLossBackward0&gt;)|\n",
       "|  0   | 10/125 | tensor(6.0950, device='cuda:1', grad_fn=&lt;NllLossBackward0&gt;)|\n",
       "|  0   | 20/125 | tensor(6.0341, device='cuda:1', grad_fn=&lt;NllLossBackward0&gt;)|\n",
       "|  0   | 30/125 | tensor(6.6680, device='cuda:1', grad_fn=&lt;NllLossBackward0&gt;)|\n",
       "|  0   | 40/125 | tensor(6.0066, device='cuda:1', grad_fn=&lt;NllLossBackward0&gt;)|\n",
       "|  0   | 50/125 | tensor(5.5205, device='cuda:1', grad_fn=&lt;NllLossBackward0&gt;)|\n",
       "|  0   | 60/125 | tensor(5.8240, device='cuda:1', grad_fn=&lt;NllLossBackward0&gt;)|\n",
       "+----------------------------------------------------------------------------+\n",
       "</pre>\n"
      ],
      "text/plain": [
       "\u001b[3m                               Training Status                                \u001b[0m\n",
       "+----------------------------------------------------------------------------+\n",
       "|\u001b[1mEpoch\u001b[0m\u001b[1m \u001b[0m|\u001b[1m \u001b[0m\u001b[1mSteps \u001b[0m\u001b[1m \u001b[0m|\u001b[1m \u001b[0m\u001b[1m                           Loss                            \u001b[0m|\n",
       "|------+--------+------------------------------------------------------------|\n",
       "|  0   | 0/125  | tensor(6.9166, device='cuda:1', grad_fn=<NllLossBackward0>)|\n",
       "|  0   | 10/125 | tensor(6.0950, device='cuda:1', grad_fn=<NllLossBackward0>)|\n",
       "|  0   | 20/125 | tensor(6.0341, device='cuda:1', grad_fn=<NllLossBackward0>)|\n",
       "|  0   | 30/125 | tensor(6.6680, device='cuda:1', grad_fn=<NllLossBackward0>)|\n",
       "|  0   | 40/125 | tensor(6.0066, device='cuda:1', grad_fn=<NllLossBackward0>)|\n",
       "|  0   | 50/125 | tensor(5.5205, device='cuda:1', grad_fn=<NllLossBackward0>)|\n",
       "|  0   | 60/125 | tensor(5.8240, device='cuda:1', grad_fn=<NllLossBackward0>)|\n",
       "+----------------------------------------------------------------------------+\n"
      ]
     },
     "metadata": {},
     "output_type": "display_data"
    },
    {
     "name": "stdout",
     "output_type": "stream",
     "text": [
      "STEP:  70 / 125\n"
     ]
    },
    {
     "data": {
      "text/html": [
       "<pre style=\"white-space:pre;overflow-x:auto;line-height:normal;font-family:Menlo,'DejaVu Sans Mono',consolas,'Courier New',monospace\"><span style=\"font-style: italic\">                               Training Status                                </span>\n",
       "+----------------------------------------------------------------------------+\n",
       "|<span style=\"font-weight: bold\">Epoch </span>|<span style=\"font-weight: bold\"> Steps  </span>|<span style=\"font-weight: bold\">                            Loss                            </span>|\n",
       "|------+--------+------------------------------------------------------------|\n",
       "|  0   | 0/125  | tensor(6.9166, device='cuda:1', grad_fn=&lt;NllLossBackward0&gt;)|\n",
       "|  0   | 10/125 | tensor(6.0950, device='cuda:1', grad_fn=&lt;NllLossBackward0&gt;)|\n",
       "|  0   | 20/125 | tensor(6.0341, device='cuda:1', grad_fn=&lt;NllLossBackward0&gt;)|\n",
       "|  0   | 30/125 | tensor(6.6680, device='cuda:1', grad_fn=&lt;NllLossBackward0&gt;)|\n",
       "|  0   | 40/125 | tensor(6.0066, device='cuda:1', grad_fn=&lt;NllLossBackward0&gt;)|\n",
       "|  0   | 50/125 | tensor(5.5205, device='cuda:1', grad_fn=&lt;NllLossBackward0&gt;)|\n",
       "|  0   | 60/125 | tensor(5.8240, device='cuda:1', grad_fn=&lt;NllLossBackward0&gt;)|\n",
       "|  0   | 70/125 | tensor(6.2952, device='cuda:1', grad_fn=&lt;NllLossBackward0&gt;)|\n",
       "+----------------------------------------------------------------------------+\n",
       "</pre>\n"
      ],
      "text/plain": [
       "\u001b[3m                               Training Status                                \u001b[0m\n",
       "+----------------------------------------------------------------------------+\n",
       "|\u001b[1mEpoch\u001b[0m\u001b[1m \u001b[0m|\u001b[1m \u001b[0m\u001b[1mSteps \u001b[0m\u001b[1m \u001b[0m|\u001b[1m \u001b[0m\u001b[1m                           Loss                            \u001b[0m|\n",
       "|------+--------+------------------------------------------------------------|\n",
       "|  0   | 0/125  | tensor(6.9166, device='cuda:1', grad_fn=<NllLossBackward0>)|\n",
       "|  0   | 10/125 | tensor(6.0950, device='cuda:1', grad_fn=<NllLossBackward0>)|\n",
       "|  0   | 20/125 | tensor(6.0341, device='cuda:1', grad_fn=<NllLossBackward0>)|\n",
       "|  0   | 30/125 | tensor(6.6680, device='cuda:1', grad_fn=<NllLossBackward0>)|\n",
       "|  0   | 40/125 | tensor(6.0066, device='cuda:1', grad_fn=<NllLossBackward0>)|\n",
       "|  0   | 50/125 | tensor(5.5205, device='cuda:1', grad_fn=<NllLossBackward0>)|\n",
       "|  0   | 60/125 | tensor(5.8240, device='cuda:1', grad_fn=<NllLossBackward0>)|\n",
       "|  0   | 70/125 | tensor(6.2952, device='cuda:1', grad_fn=<NllLossBackward0>)|\n",
       "+----------------------------------------------------------------------------+\n"
      ]
     },
     "metadata": {},
     "output_type": "display_data"
    },
    {
     "name": "stdout",
     "output_type": "stream",
     "text": [
      "STEP:  80 / 125\n"
     ]
    },
    {
     "data": {
      "text/html": [
       "<pre style=\"white-space:pre;overflow-x:auto;line-height:normal;font-family:Menlo,'DejaVu Sans Mono',consolas,'Courier New',monospace\"><span style=\"font-style: italic\">                               Training Status                                </span>\n",
       "+----------------------------------------------------------------------------+\n",
       "|<span style=\"font-weight: bold\">Epoch </span>|<span style=\"font-weight: bold\"> Steps  </span>|<span style=\"font-weight: bold\">                            Loss                            </span>|\n",
       "|------+--------+------------------------------------------------------------|\n",
       "|  0   | 0/125  | tensor(6.9166, device='cuda:1', grad_fn=&lt;NllLossBackward0&gt;)|\n",
       "|  0   | 10/125 | tensor(6.0950, device='cuda:1', grad_fn=&lt;NllLossBackward0&gt;)|\n",
       "|  0   | 20/125 | tensor(6.0341, device='cuda:1', grad_fn=&lt;NllLossBackward0&gt;)|\n",
       "|  0   | 30/125 | tensor(6.6680, device='cuda:1', grad_fn=&lt;NllLossBackward0&gt;)|\n",
       "|  0   | 40/125 | tensor(6.0066, device='cuda:1', grad_fn=&lt;NllLossBackward0&gt;)|\n",
       "|  0   | 50/125 | tensor(5.5205, device='cuda:1', grad_fn=&lt;NllLossBackward0&gt;)|\n",
       "|  0   | 60/125 | tensor(5.8240, device='cuda:1', grad_fn=&lt;NllLossBackward0&gt;)|\n",
       "|  0   | 70/125 | tensor(6.2952, device='cuda:1', grad_fn=&lt;NllLossBackward0&gt;)|\n",
       "|  0   | 80/125 | tensor(5.8856, device='cuda:1', grad_fn=&lt;NllLossBackward0&gt;)|\n",
       "+----------------------------------------------------------------------------+\n",
       "</pre>\n"
      ],
      "text/plain": [
       "\u001b[3m                               Training Status                                \u001b[0m\n",
       "+----------------------------------------------------------------------------+\n",
       "|\u001b[1mEpoch\u001b[0m\u001b[1m \u001b[0m|\u001b[1m \u001b[0m\u001b[1mSteps \u001b[0m\u001b[1m \u001b[0m|\u001b[1m \u001b[0m\u001b[1m                           Loss                            \u001b[0m|\n",
       "|------+--------+------------------------------------------------------------|\n",
       "|  0   | 0/125  | tensor(6.9166, device='cuda:1', grad_fn=<NllLossBackward0>)|\n",
       "|  0   | 10/125 | tensor(6.0950, device='cuda:1', grad_fn=<NllLossBackward0>)|\n",
       "|  0   | 20/125 | tensor(6.0341, device='cuda:1', grad_fn=<NllLossBackward0>)|\n",
       "|  0   | 30/125 | tensor(6.6680, device='cuda:1', grad_fn=<NllLossBackward0>)|\n",
       "|  0   | 40/125 | tensor(6.0066, device='cuda:1', grad_fn=<NllLossBackward0>)|\n",
       "|  0   | 50/125 | tensor(5.5205, device='cuda:1', grad_fn=<NllLossBackward0>)|\n",
       "|  0   | 60/125 | tensor(5.8240, device='cuda:1', grad_fn=<NllLossBackward0>)|\n",
       "|  0   | 70/125 | tensor(6.2952, device='cuda:1', grad_fn=<NllLossBackward0>)|\n",
       "|  0   | 80/125 | tensor(5.8856, device='cuda:1', grad_fn=<NllLossBackward0>)|\n",
       "+----------------------------------------------------------------------------+\n"
      ]
     },
     "metadata": {},
     "output_type": "display_data"
    },
    {
     "name": "stdout",
     "output_type": "stream",
     "text": [
      "STEP:  90 / 125\n"
     ]
    },
    {
     "data": {
      "text/html": [
       "<pre style=\"white-space:pre;overflow-x:auto;line-height:normal;font-family:Menlo,'DejaVu Sans Mono',consolas,'Courier New',monospace\"><span style=\"font-style: italic\">                               Training Status                                </span>\n",
       "+----------------------------------------------------------------------------+\n",
       "|<span style=\"font-weight: bold\">Epoch </span>|<span style=\"font-weight: bold\"> Steps  </span>|<span style=\"font-weight: bold\">                            Loss                            </span>|\n",
       "|------+--------+------------------------------------------------------------|\n",
       "|  0   | 0/125  | tensor(6.9166, device='cuda:1', grad_fn=&lt;NllLossBackward0&gt;)|\n",
       "|  0   | 10/125 | tensor(6.0950, device='cuda:1', grad_fn=&lt;NllLossBackward0&gt;)|\n",
       "|  0   | 20/125 | tensor(6.0341, device='cuda:1', grad_fn=&lt;NllLossBackward0&gt;)|\n",
       "|  0   | 30/125 | tensor(6.6680, device='cuda:1', grad_fn=&lt;NllLossBackward0&gt;)|\n",
       "|  0   | 40/125 | tensor(6.0066, device='cuda:1', grad_fn=&lt;NllLossBackward0&gt;)|\n",
       "|  0   | 50/125 | tensor(5.5205, device='cuda:1', grad_fn=&lt;NllLossBackward0&gt;)|\n",
       "|  0   | 60/125 | tensor(5.8240, device='cuda:1', grad_fn=&lt;NllLossBackward0&gt;)|\n",
       "|  0   | 70/125 | tensor(6.2952, device='cuda:1', grad_fn=&lt;NllLossBackward0&gt;)|\n",
       "|  0   | 80/125 | tensor(5.8856, device='cuda:1', grad_fn=&lt;NllLossBackward0&gt;)|\n",
       "|  0   | 90/125 | tensor(5.5936, device='cuda:1', grad_fn=&lt;NllLossBackward0&gt;)|\n",
       "+----------------------------------------------------------------------------+\n",
       "</pre>\n"
      ],
      "text/plain": [
       "\u001b[3m                               Training Status                                \u001b[0m\n",
       "+----------------------------------------------------------------------------+\n",
       "|\u001b[1mEpoch\u001b[0m\u001b[1m \u001b[0m|\u001b[1m \u001b[0m\u001b[1mSteps \u001b[0m\u001b[1m \u001b[0m|\u001b[1m \u001b[0m\u001b[1m                           Loss                            \u001b[0m|\n",
       "|------+--------+------------------------------------------------------------|\n",
       "|  0   | 0/125  | tensor(6.9166, device='cuda:1', grad_fn=<NllLossBackward0>)|\n",
       "|  0   | 10/125 | tensor(6.0950, device='cuda:1', grad_fn=<NllLossBackward0>)|\n",
       "|  0   | 20/125 | tensor(6.0341, device='cuda:1', grad_fn=<NllLossBackward0>)|\n",
       "|  0   | 30/125 | tensor(6.6680, device='cuda:1', grad_fn=<NllLossBackward0>)|\n",
       "|  0   | 40/125 | tensor(6.0066, device='cuda:1', grad_fn=<NllLossBackward0>)|\n",
       "|  0   | 50/125 | tensor(5.5205, device='cuda:1', grad_fn=<NllLossBackward0>)|\n",
       "|  0   | 60/125 | tensor(5.8240, device='cuda:1', grad_fn=<NllLossBackward0>)|\n",
       "|  0   | 70/125 | tensor(6.2952, device='cuda:1', grad_fn=<NllLossBackward0>)|\n",
       "|  0   | 80/125 | tensor(5.8856, device='cuda:1', grad_fn=<NllLossBackward0>)|\n",
       "|  0   | 90/125 | tensor(5.5936, device='cuda:1', grad_fn=<NllLossBackward0>)|\n",
       "+----------------------------------------------------------------------------+\n"
      ]
     },
     "metadata": {},
     "output_type": "display_data"
    },
    {
     "name": "stdout",
     "output_type": "stream",
     "text": [
      "STEP:  100 / 125\n"
     ]
    },
    {
     "data": {
      "text/html": [
       "<pre style=\"white-space:pre;overflow-x:auto;line-height:normal;font-family:Menlo,'DejaVu Sans Mono',consolas,'Courier New',monospace\"><span style=\"font-style: italic\">                                Training Status                                </span>\n",
       "+-----------------------------------------------------------------------------+\n",
       "|<span style=\"font-weight: bold\">Epoch </span>|<span style=\"font-weight: bold\">  Steps  </span>|<span style=\"font-weight: bold\">                            Loss                            </span>|\n",
       "|------+---------+------------------------------------------------------------|\n",
       "|  0   |  0/125  | tensor(6.9166, device='cuda:1', grad_fn=&lt;NllLossBackward0&gt;)|\n",
       "|  0   | 10/125  | tensor(6.0950, device='cuda:1', grad_fn=&lt;NllLossBackward0&gt;)|\n",
       "|  0   | 20/125  | tensor(6.0341, device='cuda:1', grad_fn=&lt;NllLossBackward0&gt;)|\n",
       "|  0   | 30/125  | tensor(6.6680, device='cuda:1', grad_fn=&lt;NllLossBackward0&gt;)|\n",
       "|  0   | 40/125  | tensor(6.0066, device='cuda:1', grad_fn=&lt;NllLossBackward0&gt;)|\n",
       "|  0   | 50/125  | tensor(5.5205, device='cuda:1', grad_fn=&lt;NllLossBackward0&gt;)|\n",
       "|  0   | 60/125  | tensor(5.8240, device='cuda:1', grad_fn=&lt;NllLossBackward0&gt;)|\n",
       "|  0   | 70/125  | tensor(6.2952, device='cuda:1', grad_fn=&lt;NllLossBackward0&gt;)|\n",
       "|  0   | 80/125  | tensor(5.8856, device='cuda:1', grad_fn=&lt;NllLossBackward0&gt;)|\n",
       "|  0   | 90/125  | tensor(5.5936, device='cuda:1', grad_fn=&lt;NllLossBackward0&gt;)|\n",
       "|  0   | 100/125 | tensor(5.3247, device='cuda:1', grad_fn=&lt;NllLossBackward0&gt;)|\n",
       "+-----------------------------------------------------------------------------+\n",
       "</pre>\n"
      ],
      "text/plain": [
       "\u001b[3m                                Training Status                                \u001b[0m\n",
       "+-----------------------------------------------------------------------------+\n",
       "|\u001b[1mEpoch\u001b[0m\u001b[1m \u001b[0m|\u001b[1m \u001b[0m\u001b[1m Steps \u001b[0m\u001b[1m \u001b[0m|\u001b[1m \u001b[0m\u001b[1m                           Loss                            \u001b[0m|\n",
       "|------+---------+------------------------------------------------------------|\n",
       "|  0   |  0/125  | tensor(6.9166, device='cuda:1', grad_fn=<NllLossBackward0>)|\n",
       "|  0   | 10/125  | tensor(6.0950, device='cuda:1', grad_fn=<NllLossBackward0>)|\n",
       "|  0   | 20/125  | tensor(6.0341, device='cuda:1', grad_fn=<NllLossBackward0>)|\n",
       "|  0   | 30/125  | tensor(6.6680, device='cuda:1', grad_fn=<NllLossBackward0>)|\n",
       "|  0   | 40/125  | tensor(6.0066, device='cuda:1', grad_fn=<NllLossBackward0>)|\n",
       "|  0   | 50/125  | tensor(5.5205, device='cuda:1', grad_fn=<NllLossBackward0>)|\n",
       "|  0   | 60/125  | tensor(5.8240, device='cuda:1', grad_fn=<NllLossBackward0>)|\n",
       "|  0   | 70/125  | tensor(6.2952, device='cuda:1', grad_fn=<NllLossBackward0>)|\n",
       "|  0   | 80/125  | tensor(5.8856, device='cuda:1', grad_fn=<NllLossBackward0>)|\n",
       "|  0   | 90/125  | tensor(5.5936, device='cuda:1', grad_fn=<NllLossBackward0>)|\n",
       "|  0   | 100/125 | tensor(5.3247, device='cuda:1', grad_fn=<NllLossBackward0>)|\n",
       "+-----------------------------------------------------------------------------+\n"
      ]
     },
     "metadata": {},
     "output_type": "display_data"
    },
    {
     "name": "stdout",
     "output_type": "stream",
     "text": [
      "STEP:  110 / 125\n"
     ]
    },
    {
     "data": {
      "text/html": [
       "<pre style=\"white-space:pre;overflow-x:auto;line-height:normal;font-family:Menlo,'DejaVu Sans Mono',consolas,'Courier New',monospace\"><span style=\"font-style: italic\">                                Training Status                                </span>\n",
       "+-----------------------------------------------------------------------------+\n",
       "|<span style=\"font-weight: bold\">Epoch </span>|<span style=\"font-weight: bold\">  Steps  </span>|<span style=\"font-weight: bold\">                            Loss                            </span>|\n",
       "|------+---------+------------------------------------------------------------|\n",
       "|  0   |  0/125  | tensor(6.9166, device='cuda:1', grad_fn=&lt;NllLossBackward0&gt;)|\n",
       "|  0   | 10/125  | tensor(6.0950, device='cuda:1', grad_fn=&lt;NllLossBackward0&gt;)|\n",
       "|  0   | 20/125  | tensor(6.0341, device='cuda:1', grad_fn=&lt;NllLossBackward0&gt;)|\n",
       "|  0   | 30/125  | tensor(6.6680, device='cuda:1', grad_fn=&lt;NllLossBackward0&gt;)|\n",
       "|  0   | 40/125  | tensor(6.0066, device='cuda:1', grad_fn=&lt;NllLossBackward0&gt;)|\n",
       "|  0   | 50/125  | tensor(5.5205, device='cuda:1', grad_fn=&lt;NllLossBackward0&gt;)|\n",
       "|  0   | 60/125  | tensor(5.8240, device='cuda:1', grad_fn=&lt;NllLossBackward0&gt;)|\n",
       "|  0   | 70/125  | tensor(6.2952, device='cuda:1', grad_fn=&lt;NllLossBackward0&gt;)|\n",
       "|  0   | 80/125  | tensor(5.8856, device='cuda:1', grad_fn=&lt;NllLossBackward0&gt;)|\n",
       "|  0   | 90/125  | tensor(5.5936, device='cuda:1', grad_fn=&lt;NllLossBackward0&gt;)|\n",
       "|  0   | 100/125 | tensor(5.3247, device='cuda:1', grad_fn=&lt;NllLossBackward0&gt;)|\n",
       "|  0   | 110/125 | tensor(5.3783, device='cuda:1', grad_fn=&lt;NllLossBackward0&gt;)|\n",
       "+-----------------------------------------------------------------------------+\n",
       "</pre>\n"
      ],
      "text/plain": [
       "\u001b[3m                                Training Status                                \u001b[0m\n",
       "+-----------------------------------------------------------------------------+\n",
       "|\u001b[1mEpoch\u001b[0m\u001b[1m \u001b[0m|\u001b[1m \u001b[0m\u001b[1m Steps \u001b[0m\u001b[1m \u001b[0m|\u001b[1m \u001b[0m\u001b[1m                           Loss                            \u001b[0m|\n",
       "|------+---------+------------------------------------------------------------|\n",
       "|  0   |  0/125  | tensor(6.9166, device='cuda:1', grad_fn=<NllLossBackward0>)|\n",
       "|  0   | 10/125  | tensor(6.0950, device='cuda:1', grad_fn=<NllLossBackward0>)|\n",
       "|  0   | 20/125  | tensor(6.0341, device='cuda:1', grad_fn=<NllLossBackward0>)|\n",
       "|  0   | 30/125  | tensor(6.6680, device='cuda:1', grad_fn=<NllLossBackward0>)|\n",
       "|  0   | 40/125  | tensor(6.0066, device='cuda:1', grad_fn=<NllLossBackward0>)|\n",
       "|  0   | 50/125  | tensor(5.5205, device='cuda:1', grad_fn=<NllLossBackward0>)|\n",
       "|  0   | 60/125  | tensor(5.8240, device='cuda:1', grad_fn=<NllLossBackward0>)|\n",
       "|  0   | 70/125  | tensor(6.2952, device='cuda:1', grad_fn=<NllLossBackward0>)|\n",
       "|  0   | 80/125  | tensor(5.8856, device='cuda:1', grad_fn=<NllLossBackward0>)|\n",
       "|  0   | 90/125  | tensor(5.5936, device='cuda:1', grad_fn=<NllLossBackward0>)|\n",
       "|  0   | 100/125 | tensor(5.3247, device='cuda:1', grad_fn=<NllLossBackward0>)|\n",
       "|  0   | 110/125 | tensor(5.3783, device='cuda:1', grad_fn=<NllLossBackward0>)|\n",
       "+-----------------------------------------------------------------------------+\n"
      ]
     },
     "metadata": {},
     "output_type": "display_data"
    },
    {
     "name": "stdout",
     "output_type": "stream",
     "text": [
      "STEP:  120 / 125\n"
     ]
    },
    {
     "data": {
      "text/html": [
       "<pre style=\"white-space:pre;overflow-x:auto;line-height:normal;font-family:Menlo,'DejaVu Sans Mono',consolas,'Courier New',monospace\"><span style=\"font-style: italic\">                                Training Status                                </span>\n",
       "+-----------------------------------------------------------------------------+\n",
       "|<span style=\"font-weight: bold\">Epoch </span>|<span style=\"font-weight: bold\">  Steps  </span>|<span style=\"font-weight: bold\">                            Loss                            </span>|\n",
       "|------+---------+------------------------------------------------------------|\n",
       "|  0   |  0/125  | tensor(6.9166, device='cuda:1', grad_fn=&lt;NllLossBackward0&gt;)|\n",
       "|  0   | 10/125  | tensor(6.0950, device='cuda:1', grad_fn=&lt;NllLossBackward0&gt;)|\n",
       "|  0   | 20/125  | tensor(6.0341, device='cuda:1', grad_fn=&lt;NllLossBackward0&gt;)|\n",
       "|  0   | 30/125  | tensor(6.6680, device='cuda:1', grad_fn=&lt;NllLossBackward0&gt;)|\n",
       "|  0   | 40/125  | tensor(6.0066, device='cuda:1', grad_fn=&lt;NllLossBackward0&gt;)|\n",
       "|  0   | 50/125  | tensor(5.5205, device='cuda:1', grad_fn=&lt;NllLossBackward0&gt;)|\n",
       "|  0   | 60/125  | tensor(5.8240, device='cuda:1', grad_fn=&lt;NllLossBackward0&gt;)|\n",
       "|  0   | 70/125  | tensor(6.2952, device='cuda:1', grad_fn=&lt;NllLossBackward0&gt;)|\n",
       "|  0   | 80/125  | tensor(5.8856, device='cuda:1', grad_fn=&lt;NllLossBackward0&gt;)|\n",
       "|  0   | 90/125  | tensor(5.5936, device='cuda:1', grad_fn=&lt;NllLossBackward0&gt;)|\n",
       "|  0   | 100/125 | tensor(5.3247, device='cuda:1', grad_fn=&lt;NllLossBackward0&gt;)|\n",
       "|  0   | 110/125 | tensor(5.3783, device='cuda:1', grad_fn=&lt;NllLossBackward0&gt;)|\n",
       "|  0   | 120/125 | tensor(5.4052, device='cuda:1', grad_fn=&lt;NllLossBackward0&gt;)|\n",
       "+-----------------------------------------------------------------------------+\n",
       "</pre>\n"
      ],
      "text/plain": [
       "\u001b[3m                                Training Status                                \u001b[0m\n",
       "+-----------------------------------------------------------------------------+\n",
       "|\u001b[1mEpoch\u001b[0m\u001b[1m \u001b[0m|\u001b[1m \u001b[0m\u001b[1m Steps \u001b[0m\u001b[1m \u001b[0m|\u001b[1m \u001b[0m\u001b[1m                           Loss                            \u001b[0m|\n",
       "|------+---------+------------------------------------------------------------|\n",
       "|  0   |  0/125  | tensor(6.9166, device='cuda:1', grad_fn=<NllLossBackward0>)|\n",
       "|  0   | 10/125  | tensor(6.0950, device='cuda:1', grad_fn=<NllLossBackward0>)|\n",
       "|  0   | 20/125  | tensor(6.0341, device='cuda:1', grad_fn=<NllLossBackward0>)|\n",
       "|  0   | 30/125  | tensor(6.6680, device='cuda:1', grad_fn=<NllLossBackward0>)|\n",
       "|  0   | 40/125  | tensor(6.0066, device='cuda:1', grad_fn=<NllLossBackward0>)|\n",
       "|  0   | 50/125  | tensor(5.5205, device='cuda:1', grad_fn=<NllLossBackward0>)|\n",
       "|  0   | 60/125  | tensor(5.8240, device='cuda:1', grad_fn=<NllLossBackward0>)|\n",
       "|  0   | 70/125  | tensor(6.2952, device='cuda:1', grad_fn=<NllLossBackward0>)|\n",
       "|  0   | 80/125  | tensor(5.8856, device='cuda:1', grad_fn=<NllLossBackward0>)|\n",
       "|  0   | 90/125  | tensor(5.5936, device='cuda:1', grad_fn=<NllLossBackward0>)|\n",
       "|  0   | 100/125 | tensor(5.3247, device='cuda:1', grad_fn=<NllLossBackward0>)|\n",
       "|  0   | 110/125 | tensor(5.3783, device='cuda:1', grad_fn=<NllLossBackward0>)|\n",
       "|  0   | 120/125 | tensor(5.4052, device='cuda:1', grad_fn=<NllLossBackward0>)|\n",
       "+-----------------------------------------------------------------------------+\n"
      ]
     },
     "metadata": {},
     "output_type": "display_data"
    },
    {
     "data": {
      "text/html": [
       "<pre style=\"white-space:pre;overflow-x:auto;line-height:normal;font-family:Menlo,'DejaVu Sans Mono',consolas,'Courier New',monospace\">Completed <span style=\"color: #008080; text-decoration-color: #008080; font-weight: bold\">0</span>\n",
       "</pre>\n"
      ],
      "text/plain": [
       "Completed \u001b[1;36m0\u001b[0m\n"
      ]
     },
     "metadata": {},
     "output_type": "display_data"
    },
    {
     "data": {
      "text/html": [
       "<pre style=\"white-space:pre;overflow-x:auto;line-height:normal;font-family:Menlo,'DejaVu Sans Mono',consolas,'Courier New',monospace\">Completed <span style=\"color: #008080; text-decoration-color: #008080; font-weight: bold\">10</span>\n",
       "</pre>\n"
      ],
      "text/plain": [
       "Completed \u001b[1;36m10\u001b[0m\n"
      ]
     },
     "metadata": {},
     "output_type": "display_data"
    },
    {
     "data": {
      "text/html": [
       "<pre style=\"white-space:pre;overflow-x:auto;line-height:normal;font-family:Menlo,'DejaVu Sans Mono',consolas,'Courier New',monospace\">Completed <span style=\"color: #008080; text-decoration-color: #008080; font-weight: bold\">20</span>\n",
       "</pre>\n"
      ],
      "text/plain": [
       "Completed \u001b[1;36m20\u001b[0m\n"
      ]
     },
     "metadata": {},
     "output_type": "display_data"
    },
    {
     "data": {
      "text/html": [
       "<pre style=\"white-space:pre;overflow-x:auto;line-height:normal;font-family:Menlo,'DejaVu Sans Mono',consolas,'Courier New',monospace\">Completed <span style=\"color: #008080; text-decoration-color: #008080; font-weight: bold\">30</span>\n",
       "</pre>\n"
      ],
      "text/plain": [
       "Completed \u001b[1;36m30\u001b[0m\n"
      ]
     },
     "metadata": {},
     "output_type": "display_data"
    },
    {
     "data": {
      "text/html": [
       "<pre style=\"white-space:pre;overflow-x:auto;line-height:normal;font-family:Menlo,'DejaVu Sans Mono',consolas,'Courier New',monospace\">Completed <span style=\"color: #008080; text-decoration-color: #008080; font-weight: bold\">40</span>\n",
       "</pre>\n"
      ],
      "text/plain": [
       "Completed \u001b[1;36m40\u001b[0m\n"
      ]
     },
     "metadata": {},
     "output_type": "display_data"
    },
    {
     "data": {
      "text/html": [
       "<pre style=\"white-space:pre;overflow-x:auto;line-height:normal;font-family:Menlo,'DejaVu Sans Mono',consolas,'Courier New',monospace\">Completed <span style=\"color: #008080; text-decoration-color: #008080; font-weight: bold\">50</span>\n",
       "</pre>\n"
      ],
      "text/plain": [
       "Completed \u001b[1;36m50\u001b[0m\n"
      ]
     },
     "metadata": {},
     "output_type": "display_data"
    },
    {
     "data": {
      "text/html": [
       "<pre style=\"white-space:pre;overflow-x:auto;line-height:normal;font-family:Menlo,'DejaVu Sans Mono',consolas,'Courier New',monospace\">Completed <span style=\"color: #008080; text-decoration-color: #008080; font-weight: bold\">60</span>\n",
       "</pre>\n"
      ],
      "text/plain": [
       "Completed \u001b[1;36m60\u001b[0m\n"
      ]
     },
     "metadata": {},
     "output_type": "display_data"
    },
    {
     "data": {
      "text/html": [
       "<pre style=\"white-space:pre;overflow-x:auto;line-height:normal;font-family:Menlo,'DejaVu Sans Mono',consolas,'Courier New',monospace\">Completed <span style=\"color: #008080; text-decoration-color: #008080; font-weight: bold\">70</span>\n",
       "</pre>\n"
      ],
      "text/plain": [
       "Completed \u001b[1;36m70\u001b[0m\n"
      ]
     },
     "metadata": {},
     "output_type": "display_data"
    },
    {
     "data": {
      "text/html": [
       "<pre style=\"white-space:pre;overflow-x:auto;line-height:normal;font-family:Menlo,'DejaVu Sans Mono',consolas,'Courier New',monospace\">Completed <span style=\"color: #008080; text-decoration-color: #008080; font-weight: bold\">80</span>\n",
       "</pre>\n"
      ],
      "text/plain": [
       "Completed \u001b[1;36m80\u001b[0m\n"
      ]
     },
     "metadata": {},
     "output_type": "display_data"
    },
    {
     "data": {
      "text/html": [
       "<pre style=\"white-space:pre;overflow-x:auto;line-height:normal;font-family:Menlo,'DejaVu Sans Mono',consolas,'Courier New',monospace\">Completed <span style=\"color: #008080; text-decoration-color: #008080; font-weight: bold\">90</span>\n",
       "</pre>\n"
      ],
      "text/plain": [
       "Completed \u001b[1;36m90\u001b[0m\n"
      ]
     },
     "metadata": {},
     "output_type": "display_data"
    },
    {
     "data": {
      "text/html": [
       "<pre style=\"white-space:pre;overflow-x:auto;line-height:normal;font-family:Menlo,'DejaVu Sans Mono',consolas,'Courier New',monospace\">Completed <span style=\"color: #008080; text-decoration-color: #008080; font-weight: bold\">100</span>\n",
       "</pre>\n"
      ],
      "text/plain": [
       "Completed \u001b[1;36m100\u001b[0m\n"
      ]
     },
     "metadata": {},
     "output_type": "display_data"
    },
    {
     "data": {
      "text/html": [
       "<pre style=\"white-space:pre;overflow-x:auto;line-height:normal;font-family:Menlo,'DejaVu Sans Mono',consolas,'Courier New',monospace\">Completed <span style=\"color: #008080; text-decoration-color: #008080; font-weight: bold\">110</span>\n",
       "</pre>\n"
      ],
      "text/plain": [
       "Completed \u001b[1;36m110\u001b[0m\n"
      ]
     },
     "metadata": {},
     "output_type": "display_data"
    },
    {
     "data": {
      "text/html": [
       "<pre style=\"white-space:pre;overflow-x:auto;line-height:normal;font-family:Menlo,'DejaVu Sans Mono',consolas,'Courier New',monospace\">Completed <span style=\"color: #008080; text-decoration-color: #008080; font-weight: bold\">120</span>\n",
       "</pre>\n"
      ],
      "text/plain": [
       "Completed \u001b[1;36m120\u001b[0m\n"
      ]
     },
     "metadata": {},
     "output_type": "display_data"
    },
    {
     "name": "stdout",
     "output_type": "stream",
     "text": [
      "SAVE TO CSV FINISHED\n",
      "SAVE ROUGE TO CSV FINISHED\n",
      "STEP:  0 / 125\n"
     ]
    },
    {
     "data": {
      "text/html": [
       "<pre style=\"white-space:pre;overflow-x:auto;line-height:normal;font-family:Menlo,'DejaVu Sans Mono',consolas,'Courier New',monospace\"><span style=\"font-style: italic\">                                Training Status                                </span>\n",
       "+-----------------------------------------------------------------------------+\n",
       "|<span style=\"font-weight: bold\">Epoch </span>|<span style=\"font-weight: bold\">  Steps  </span>|<span style=\"font-weight: bold\">                            Loss                            </span>|\n",
       "|------+---------+------------------------------------------------------------|\n",
       "|  0   |  0/125  | tensor(6.9166, device='cuda:1', grad_fn=&lt;NllLossBackward0&gt;)|\n",
       "|  0   | 10/125  | tensor(6.0950, device='cuda:1', grad_fn=&lt;NllLossBackward0&gt;)|\n",
       "|  0   | 20/125  | tensor(6.0341, device='cuda:1', grad_fn=&lt;NllLossBackward0&gt;)|\n",
       "|  0   | 30/125  | tensor(6.6680, device='cuda:1', grad_fn=&lt;NllLossBackward0&gt;)|\n",
       "|  0   | 40/125  | tensor(6.0066, device='cuda:1', grad_fn=&lt;NllLossBackward0&gt;)|\n",
       "|  0   | 50/125  | tensor(5.5205, device='cuda:1', grad_fn=&lt;NllLossBackward0&gt;)|\n",
       "|  0   | 60/125  | tensor(5.8240, device='cuda:1', grad_fn=&lt;NllLossBackward0&gt;)|\n",
       "|  0   | 70/125  | tensor(6.2952, device='cuda:1', grad_fn=&lt;NllLossBackward0&gt;)|\n",
       "|  0   | 80/125  | tensor(5.8856, device='cuda:1', grad_fn=&lt;NllLossBackward0&gt;)|\n",
       "|  0   | 90/125  | tensor(5.5936, device='cuda:1', grad_fn=&lt;NllLossBackward0&gt;)|\n",
       "|  0   | 100/125 | tensor(5.3247, device='cuda:1', grad_fn=&lt;NllLossBackward0&gt;)|\n",
       "|  0   | 110/125 | tensor(5.3783, device='cuda:1', grad_fn=&lt;NllLossBackward0&gt;)|\n",
       "|  0   | 120/125 | tensor(5.4052, device='cuda:1', grad_fn=&lt;NllLossBackward0&gt;)|\n",
       "|  1   |  0/125  | tensor(5.7932, device='cuda:1', grad_fn=&lt;NllLossBackward0&gt;)|\n",
       "+-----------------------------------------------------------------------------+\n",
       "</pre>\n"
      ],
      "text/plain": [
       "\u001b[3m                                Training Status                                \u001b[0m\n",
       "+-----------------------------------------------------------------------------+\n",
       "|\u001b[1mEpoch\u001b[0m\u001b[1m \u001b[0m|\u001b[1m \u001b[0m\u001b[1m Steps \u001b[0m\u001b[1m \u001b[0m|\u001b[1m \u001b[0m\u001b[1m                           Loss                            \u001b[0m|\n",
       "|------+---------+------------------------------------------------------------|\n",
       "|  0   |  0/125  | tensor(6.9166, device='cuda:1', grad_fn=<NllLossBackward0>)|\n",
       "|  0   | 10/125  | tensor(6.0950, device='cuda:1', grad_fn=<NllLossBackward0>)|\n",
       "|  0   | 20/125  | tensor(6.0341, device='cuda:1', grad_fn=<NllLossBackward0>)|\n",
       "|  0   | 30/125  | tensor(6.6680, device='cuda:1', grad_fn=<NllLossBackward0>)|\n",
       "|  0   | 40/125  | tensor(6.0066, device='cuda:1', grad_fn=<NllLossBackward0>)|\n",
       "|  0   | 50/125  | tensor(5.5205, device='cuda:1', grad_fn=<NllLossBackward0>)|\n",
       "|  0   | 60/125  | tensor(5.8240, device='cuda:1', grad_fn=<NllLossBackward0>)|\n",
       "|  0   | 70/125  | tensor(6.2952, device='cuda:1', grad_fn=<NllLossBackward0>)|\n",
       "|  0   | 80/125  | tensor(5.8856, device='cuda:1', grad_fn=<NllLossBackward0>)|\n",
       "|  0   | 90/125  | tensor(5.5936, device='cuda:1', grad_fn=<NllLossBackward0>)|\n",
       "|  0   | 100/125 | tensor(5.3247, device='cuda:1', grad_fn=<NllLossBackward0>)|\n",
       "|  0   | 110/125 | tensor(5.3783, device='cuda:1', grad_fn=<NllLossBackward0>)|\n",
       "|  0   | 120/125 | tensor(5.4052, device='cuda:1', grad_fn=<NllLossBackward0>)|\n",
       "|  1   |  0/125  | tensor(5.7932, device='cuda:1', grad_fn=<NllLossBackward0>)|\n",
       "+-----------------------------------------------------------------------------+\n"
      ]
     },
     "metadata": {},
     "output_type": "display_data"
    },
    {
     "name": "stdout",
     "output_type": "stream",
     "text": [
      "STEP:  10 / 125\n"
     ]
    },
    {
     "data": {
      "text/html": [
       "<pre style=\"white-space:pre;overflow-x:auto;line-height:normal;font-family:Menlo,'DejaVu Sans Mono',consolas,'Courier New',monospace\"><span style=\"font-style: italic\">                                Training Status                                </span>\n",
       "+-----------------------------------------------------------------------------+\n",
       "|<span style=\"font-weight: bold\">Epoch </span>|<span style=\"font-weight: bold\">  Steps  </span>|<span style=\"font-weight: bold\">                            Loss                            </span>|\n",
       "|------+---------+------------------------------------------------------------|\n",
       "|  0   |  0/125  | tensor(6.9166, device='cuda:1', grad_fn=&lt;NllLossBackward0&gt;)|\n",
       "|  0   | 10/125  | tensor(6.0950, device='cuda:1', grad_fn=&lt;NllLossBackward0&gt;)|\n",
       "|  0   | 20/125  | tensor(6.0341, device='cuda:1', grad_fn=&lt;NllLossBackward0&gt;)|\n",
       "|  0   | 30/125  | tensor(6.6680, device='cuda:1', grad_fn=&lt;NllLossBackward0&gt;)|\n",
       "|  0   | 40/125  | tensor(6.0066, device='cuda:1', grad_fn=&lt;NllLossBackward0&gt;)|\n",
       "|  0   | 50/125  | tensor(5.5205, device='cuda:1', grad_fn=&lt;NllLossBackward0&gt;)|\n",
       "|  0   | 60/125  | tensor(5.8240, device='cuda:1', grad_fn=&lt;NllLossBackward0&gt;)|\n",
       "|  0   | 70/125  | tensor(6.2952, device='cuda:1', grad_fn=&lt;NllLossBackward0&gt;)|\n",
       "|  0   | 80/125  | tensor(5.8856, device='cuda:1', grad_fn=&lt;NllLossBackward0&gt;)|\n",
       "|  0   | 90/125  | tensor(5.5936, device='cuda:1', grad_fn=&lt;NllLossBackward0&gt;)|\n",
       "|  0   | 100/125 | tensor(5.3247, device='cuda:1', grad_fn=&lt;NllLossBackward0&gt;)|\n",
       "|  0   | 110/125 | tensor(5.3783, device='cuda:1', grad_fn=&lt;NllLossBackward0&gt;)|\n",
       "|  0   | 120/125 | tensor(5.4052, device='cuda:1', grad_fn=&lt;NllLossBackward0&gt;)|\n",
       "|  1   |  0/125  | tensor(5.7932, device='cuda:1', grad_fn=&lt;NllLossBackward0&gt;)|\n",
       "|  1   | 10/125  | tensor(5.5280, device='cuda:1', grad_fn=&lt;NllLossBackward0&gt;)|\n",
       "+-----------------------------------------------------------------------------+\n",
       "</pre>\n"
      ],
      "text/plain": [
       "\u001b[3m                                Training Status                                \u001b[0m\n",
       "+-----------------------------------------------------------------------------+\n",
       "|\u001b[1mEpoch\u001b[0m\u001b[1m \u001b[0m|\u001b[1m \u001b[0m\u001b[1m Steps \u001b[0m\u001b[1m \u001b[0m|\u001b[1m \u001b[0m\u001b[1m                           Loss                            \u001b[0m|\n",
       "|------+---------+------------------------------------------------------------|\n",
       "|  0   |  0/125  | tensor(6.9166, device='cuda:1', grad_fn=<NllLossBackward0>)|\n",
       "|  0   | 10/125  | tensor(6.0950, device='cuda:1', grad_fn=<NllLossBackward0>)|\n",
       "|  0   | 20/125  | tensor(6.0341, device='cuda:1', grad_fn=<NllLossBackward0>)|\n",
       "|  0   | 30/125  | tensor(6.6680, device='cuda:1', grad_fn=<NllLossBackward0>)|\n",
       "|  0   | 40/125  | tensor(6.0066, device='cuda:1', grad_fn=<NllLossBackward0>)|\n",
       "|  0   | 50/125  | tensor(5.5205, device='cuda:1', grad_fn=<NllLossBackward0>)|\n",
       "|  0   | 60/125  | tensor(5.8240, device='cuda:1', grad_fn=<NllLossBackward0>)|\n",
       "|  0   | 70/125  | tensor(6.2952, device='cuda:1', grad_fn=<NllLossBackward0>)|\n",
       "|  0   | 80/125  | tensor(5.8856, device='cuda:1', grad_fn=<NllLossBackward0>)|\n",
       "|  0   | 90/125  | tensor(5.5936, device='cuda:1', grad_fn=<NllLossBackward0>)|\n",
       "|  0   | 100/125 | tensor(5.3247, device='cuda:1', grad_fn=<NllLossBackward0>)|\n",
       "|  0   | 110/125 | tensor(5.3783, device='cuda:1', grad_fn=<NllLossBackward0>)|\n",
       "|  0   | 120/125 | tensor(5.4052, device='cuda:1', grad_fn=<NllLossBackward0>)|\n",
       "|  1   |  0/125  | tensor(5.7932, device='cuda:1', grad_fn=<NllLossBackward0>)|\n",
       "|  1   | 10/125  | tensor(5.5280, device='cuda:1', grad_fn=<NllLossBackward0>)|\n",
       "+-----------------------------------------------------------------------------+\n"
      ]
     },
     "metadata": {},
     "output_type": "display_data"
    },
    {
     "name": "stdout",
     "output_type": "stream",
     "text": [
      "STEP:  20 / 125\n"
     ]
    },
    {
     "data": {
      "text/html": [
       "<pre style=\"white-space:pre;overflow-x:auto;line-height:normal;font-family:Menlo,'DejaVu Sans Mono',consolas,'Courier New',monospace\"><span style=\"font-style: italic\">                                Training Status                                </span>\n",
       "+-----------------------------------------------------------------------------+\n",
       "|<span style=\"font-weight: bold\">Epoch </span>|<span style=\"font-weight: bold\">  Steps  </span>|<span style=\"font-weight: bold\">                            Loss                            </span>|\n",
       "|------+---------+------------------------------------------------------------|\n",
       "|  0   |  0/125  | tensor(6.9166, device='cuda:1', grad_fn=&lt;NllLossBackward0&gt;)|\n",
       "|  0   | 10/125  | tensor(6.0950, device='cuda:1', grad_fn=&lt;NllLossBackward0&gt;)|\n",
       "|  0   | 20/125  | tensor(6.0341, device='cuda:1', grad_fn=&lt;NllLossBackward0&gt;)|\n",
       "|  0   | 30/125  | tensor(6.6680, device='cuda:1', grad_fn=&lt;NllLossBackward0&gt;)|\n",
       "|  0   | 40/125  | tensor(6.0066, device='cuda:1', grad_fn=&lt;NllLossBackward0&gt;)|\n",
       "|  0   | 50/125  | tensor(5.5205, device='cuda:1', grad_fn=&lt;NllLossBackward0&gt;)|\n",
       "|  0   | 60/125  | tensor(5.8240, device='cuda:1', grad_fn=&lt;NllLossBackward0&gt;)|\n",
       "|  0   | 70/125  | tensor(6.2952, device='cuda:1', grad_fn=&lt;NllLossBackward0&gt;)|\n",
       "|  0   | 80/125  | tensor(5.8856, device='cuda:1', grad_fn=&lt;NllLossBackward0&gt;)|\n",
       "|  0   | 90/125  | tensor(5.5936, device='cuda:1', grad_fn=&lt;NllLossBackward0&gt;)|\n",
       "|  0   | 100/125 | tensor(5.3247, device='cuda:1', grad_fn=&lt;NllLossBackward0&gt;)|\n",
       "|  0   | 110/125 | tensor(5.3783, device='cuda:1', grad_fn=&lt;NllLossBackward0&gt;)|\n",
       "|  0   | 120/125 | tensor(5.4052, device='cuda:1', grad_fn=&lt;NllLossBackward0&gt;)|\n",
       "|  1   |  0/125  | tensor(5.7932, device='cuda:1', grad_fn=&lt;NllLossBackward0&gt;)|\n",
       "|  1   | 10/125  | tensor(5.5280, device='cuda:1', grad_fn=&lt;NllLossBackward0&gt;)|\n",
       "|  1   | 20/125  | tensor(5.5987, device='cuda:1', grad_fn=&lt;NllLossBackward0&gt;)|\n",
       "+-----------------------------------------------------------------------------+\n",
       "</pre>\n"
      ],
      "text/plain": [
       "\u001b[3m                                Training Status                                \u001b[0m\n",
       "+-----------------------------------------------------------------------------+\n",
       "|\u001b[1mEpoch\u001b[0m\u001b[1m \u001b[0m|\u001b[1m \u001b[0m\u001b[1m Steps \u001b[0m\u001b[1m \u001b[0m|\u001b[1m \u001b[0m\u001b[1m                           Loss                            \u001b[0m|\n",
       "|------+---------+------------------------------------------------------------|\n",
       "|  0   |  0/125  | tensor(6.9166, device='cuda:1', grad_fn=<NllLossBackward0>)|\n",
       "|  0   | 10/125  | tensor(6.0950, device='cuda:1', grad_fn=<NllLossBackward0>)|\n",
       "|  0   | 20/125  | tensor(6.0341, device='cuda:1', grad_fn=<NllLossBackward0>)|\n",
       "|  0   | 30/125  | tensor(6.6680, device='cuda:1', grad_fn=<NllLossBackward0>)|\n",
       "|  0   | 40/125  | tensor(6.0066, device='cuda:1', grad_fn=<NllLossBackward0>)|\n",
       "|  0   | 50/125  | tensor(5.5205, device='cuda:1', grad_fn=<NllLossBackward0>)|\n",
       "|  0   | 60/125  | tensor(5.8240, device='cuda:1', grad_fn=<NllLossBackward0>)|\n",
       "|  0   | 70/125  | tensor(6.2952, device='cuda:1', grad_fn=<NllLossBackward0>)|\n",
       "|  0   | 80/125  | tensor(5.8856, device='cuda:1', grad_fn=<NllLossBackward0>)|\n",
       "|  0   | 90/125  | tensor(5.5936, device='cuda:1', grad_fn=<NllLossBackward0>)|\n",
       "|  0   | 100/125 | tensor(5.3247, device='cuda:1', grad_fn=<NllLossBackward0>)|\n",
       "|  0   | 110/125 | tensor(5.3783, device='cuda:1', grad_fn=<NllLossBackward0>)|\n",
       "|  0   | 120/125 | tensor(5.4052, device='cuda:1', grad_fn=<NllLossBackward0>)|\n",
       "|  1   |  0/125  | tensor(5.7932, device='cuda:1', grad_fn=<NllLossBackward0>)|\n",
       "|  1   | 10/125  | tensor(5.5280, device='cuda:1', grad_fn=<NllLossBackward0>)|\n",
       "|  1   | 20/125  | tensor(5.5987, device='cuda:1', grad_fn=<NllLossBackward0>)|\n",
       "+-----------------------------------------------------------------------------+\n"
      ]
     },
     "metadata": {},
     "output_type": "display_data"
    },
    {
     "name": "stdout",
     "output_type": "stream",
     "text": [
      "STEP:  30 / 125\n"
     ]
    },
    {
     "data": {
      "text/html": [
       "<pre style=\"white-space:pre;overflow-x:auto;line-height:normal;font-family:Menlo,'DejaVu Sans Mono',consolas,'Courier New',monospace\"><span style=\"font-style: italic\">                                Training Status                                </span>\n",
       "+-----------------------------------------------------------------------------+\n",
       "|<span style=\"font-weight: bold\">Epoch </span>|<span style=\"font-weight: bold\">  Steps  </span>|<span style=\"font-weight: bold\">                            Loss                            </span>|\n",
       "|------+---------+------------------------------------------------------------|\n",
       "|  0   |  0/125  | tensor(6.9166, device='cuda:1', grad_fn=&lt;NllLossBackward0&gt;)|\n",
       "|  0   | 10/125  | tensor(6.0950, device='cuda:1', grad_fn=&lt;NllLossBackward0&gt;)|\n",
       "|  0   | 20/125  | tensor(6.0341, device='cuda:1', grad_fn=&lt;NllLossBackward0&gt;)|\n",
       "|  0   | 30/125  | tensor(6.6680, device='cuda:1', grad_fn=&lt;NllLossBackward0&gt;)|\n",
       "|  0   | 40/125  | tensor(6.0066, device='cuda:1', grad_fn=&lt;NllLossBackward0&gt;)|\n",
       "|  0   | 50/125  | tensor(5.5205, device='cuda:1', grad_fn=&lt;NllLossBackward0&gt;)|\n",
       "|  0   | 60/125  | tensor(5.8240, device='cuda:1', grad_fn=&lt;NllLossBackward0&gt;)|\n",
       "|  0   | 70/125  | tensor(6.2952, device='cuda:1', grad_fn=&lt;NllLossBackward0&gt;)|\n",
       "|  0   | 80/125  | tensor(5.8856, device='cuda:1', grad_fn=&lt;NllLossBackward0&gt;)|\n",
       "|  0   | 90/125  | tensor(5.5936, device='cuda:1', grad_fn=&lt;NllLossBackward0&gt;)|\n",
       "|  0   | 100/125 | tensor(5.3247, device='cuda:1', grad_fn=&lt;NllLossBackward0&gt;)|\n",
       "|  0   | 110/125 | tensor(5.3783, device='cuda:1', grad_fn=&lt;NllLossBackward0&gt;)|\n",
       "|  0   | 120/125 | tensor(5.4052, device='cuda:1', grad_fn=&lt;NllLossBackward0&gt;)|\n",
       "|  1   |  0/125  | tensor(5.7932, device='cuda:1', grad_fn=&lt;NllLossBackward0&gt;)|\n",
       "|  1   | 10/125  | tensor(5.5280, device='cuda:1', grad_fn=&lt;NllLossBackward0&gt;)|\n",
       "|  1   | 20/125  | tensor(5.5987, device='cuda:1', grad_fn=&lt;NllLossBackward0&gt;)|\n",
       "|  1   | 30/125  | tensor(5.4186, device='cuda:1', grad_fn=&lt;NllLossBackward0&gt;)|\n",
       "+-----------------------------------------------------------------------------+\n",
       "</pre>\n"
      ],
      "text/plain": [
       "\u001b[3m                                Training Status                                \u001b[0m\n",
       "+-----------------------------------------------------------------------------+\n",
       "|\u001b[1mEpoch\u001b[0m\u001b[1m \u001b[0m|\u001b[1m \u001b[0m\u001b[1m Steps \u001b[0m\u001b[1m \u001b[0m|\u001b[1m \u001b[0m\u001b[1m                           Loss                            \u001b[0m|\n",
       "|------+---------+------------------------------------------------------------|\n",
       "|  0   |  0/125  | tensor(6.9166, device='cuda:1', grad_fn=<NllLossBackward0>)|\n",
       "|  0   | 10/125  | tensor(6.0950, device='cuda:1', grad_fn=<NllLossBackward0>)|\n",
       "|  0   | 20/125  | tensor(6.0341, device='cuda:1', grad_fn=<NllLossBackward0>)|\n",
       "|  0   | 30/125  | tensor(6.6680, device='cuda:1', grad_fn=<NllLossBackward0>)|\n",
       "|  0   | 40/125  | tensor(6.0066, device='cuda:1', grad_fn=<NllLossBackward0>)|\n",
       "|  0   | 50/125  | tensor(5.5205, device='cuda:1', grad_fn=<NllLossBackward0>)|\n",
       "|  0   | 60/125  | tensor(5.8240, device='cuda:1', grad_fn=<NllLossBackward0>)|\n",
       "|  0   | 70/125  | tensor(6.2952, device='cuda:1', grad_fn=<NllLossBackward0>)|\n",
       "|  0   | 80/125  | tensor(5.8856, device='cuda:1', grad_fn=<NllLossBackward0>)|\n",
       "|  0   | 90/125  | tensor(5.5936, device='cuda:1', grad_fn=<NllLossBackward0>)|\n",
       "|  0   | 100/125 | tensor(5.3247, device='cuda:1', grad_fn=<NllLossBackward0>)|\n",
       "|  0   | 110/125 | tensor(5.3783, device='cuda:1', grad_fn=<NllLossBackward0>)|\n",
       "|  0   | 120/125 | tensor(5.4052, device='cuda:1', grad_fn=<NllLossBackward0>)|\n",
       "|  1   |  0/125  | tensor(5.7932, device='cuda:1', grad_fn=<NllLossBackward0>)|\n",
       "|  1   | 10/125  | tensor(5.5280, device='cuda:1', grad_fn=<NllLossBackward0>)|\n",
       "|  1   | 20/125  | tensor(5.5987, device='cuda:1', grad_fn=<NllLossBackward0>)|\n",
       "|  1   | 30/125  | tensor(5.4186, device='cuda:1', grad_fn=<NllLossBackward0>)|\n",
       "+-----------------------------------------------------------------------------+\n"
      ]
     },
     "metadata": {},
     "output_type": "display_data"
    },
    {
     "name": "stdout",
     "output_type": "stream",
     "text": [
      "STEP:  40 / 125\n"
     ]
    },
    {
     "data": {
      "text/html": [
       "<pre style=\"white-space:pre;overflow-x:auto;line-height:normal;font-family:Menlo,'DejaVu Sans Mono',consolas,'Courier New',monospace\"><span style=\"font-style: italic\">                                Training Status                                </span>\n",
       "+-----------------------------------------------------------------------------+\n",
       "|<span style=\"font-weight: bold\">Epoch </span>|<span style=\"font-weight: bold\">  Steps  </span>|<span style=\"font-weight: bold\">                            Loss                            </span>|\n",
       "|------+---------+------------------------------------------------------------|\n",
       "|  0   |  0/125  | tensor(6.9166, device='cuda:1', grad_fn=&lt;NllLossBackward0&gt;)|\n",
       "|  0   | 10/125  | tensor(6.0950, device='cuda:1', grad_fn=&lt;NllLossBackward0&gt;)|\n",
       "|  0   | 20/125  | tensor(6.0341, device='cuda:1', grad_fn=&lt;NllLossBackward0&gt;)|\n",
       "|  0   | 30/125  | tensor(6.6680, device='cuda:1', grad_fn=&lt;NllLossBackward0&gt;)|\n",
       "|  0   | 40/125  | tensor(6.0066, device='cuda:1', grad_fn=&lt;NllLossBackward0&gt;)|\n",
       "|  0   | 50/125  | tensor(5.5205, device='cuda:1', grad_fn=&lt;NllLossBackward0&gt;)|\n",
       "|  0   | 60/125  | tensor(5.8240, device='cuda:1', grad_fn=&lt;NllLossBackward0&gt;)|\n",
       "|  0   | 70/125  | tensor(6.2952, device='cuda:1', grad_fn=&lt;NllLossBackward0&gt;)|\n",
       "|  0   | 80/125  | tensor(5.8856, device='cuda:1', grad_fn=&lt;NllLossBackward0&gt;)|\n",
       "|  0   | 90/125  | tensor(5.5936, device='cuda:1', grad_fn=&lt;NllLossBackward0&gt;)|\n",
       "|  0   | 100/125 | tensor(5.3247, device='cuda:1', grad_fn=&lt;NllLossBackward0&gt;)|\n",
       "|  0   | 110/125 | tensor(5.3783, device='cuda:1', grad_fn=&lt;NllLossBackward0&gt;)|\n",
       "|  0   | 120/125 | tensor(5.4052, device='cuda:1', grad_fn=&lt;NllLossBackward0&gt;)|\n",
       "|  1   |  0/125  | tensor(5.7932, device='cuda:1', grad_fn=&lt;NllLossBackward0&gt;)|\n",
       "|  1   | 10/125  | tensor(5.5280, device='cuda:1', grad_fn=&lt;NllLossBackward0&gt;)|\n",
       "|  1   | 20/125  | tensor(5.5987, device='cuda:1', grad_fn=&lt;NllLossBackward0&gt;)|\n",
       "|  1   | 30/125  | tensor(5.4186, device='cuda:1', grad_fn=&lt;NllLossBackward0&gt;)|\n",
       "|  1   | 40/125  | tensor(5.5799, device='cuda:1', grad_fn=&lt;NllLossBackward0&gt;)|\n",
       "+-----------------------------------------------------------------------------+\n",
       "</pre>\n"
      ],
      "text/plain": [
       "\u001b[3m                                Training Status                                \u001b[0m\n",
       "+-----------------------------------------------------------------------------+\n",
       "|\u001b[1mEpoch\u001b[0m\u001b[1m \u001b[0m|\u001b[1m \u001b[0m\u001b[1m Steps \u001b[0m\u001b[1m \u001b[0m|\u001b[1m \u001b[0m\u001b[1m                           Loss                            \u001b[0m|\n",
       "|------+---------+------------------------------------------------------------|\n",
       "|  0   |  0/125  | tensor(6.9166, device='cuda:1', grad_fn=<NllLossBackward0>)|\n",
       "|  0   | 10/125  | tensor(6.0950, device='cuda:1', grad_fn=<NllLossBackward0>)|\n",
       "|  0   | 20/125  | tensor(6.0341, device='cuda:1', grad_fn=<NllLossBackward0>)|\n",
       "|  0   | 30/125  | tensor(6.6680, device='cuda:1', grad_fn=<NllLossBackward0>)|\n",
       "|  0   | 40/125  | tensor(6.0066, device='cuda:1', grad_fn=<NllLossBackward0>)|\n",
       "|  0   | 50/125  | tensor(5.5205, device='cuda:1', grad_fn=<NllLossBackward0>)|\n",
       "|  0   | 60/125  | tensor(5.8240, device='cuda:1', grad_fn=<NllLossBackward0>)|\n",
       "|  0   | 70/125  | tensor(6.2952, device='cuda:1', grad_fn=<NllLossBackward0>)|\n",
       "|  0   | 80/125  | tensor(5.8856, device='cuda:1', grad_fn=<NllLossBackward0>)|\n",
       "|  0   | 90/125  | tensor(5.5936, device='cuda:1', grad_fn=<NllLossBackward0>)|\n",
       "|  0   | 100/125 | tensor(5.3247, device='cuda:1', grad_fn=<NllLossBackward0>)|\n",
       "|  0   | 110/125 | tensor(5.3783, device='cuda:1', grad_fn=<NllLossBackward0>)|\n",
       "|  0   | 120/125 | tensor(5.4052, device='cuda:1', grad_fn=<NllLossBackward0>)|\n",
       "|  1   |  0/125  | tensor(5.7932, device='cuda:1', grad_fn=<NllLossBackward0>)|\n",
       "|  1   | 10/125  | tensor(5.5280, device='cuda:1', grad_fn=<NllLossBackward0>)|\n",
       "|  1   | 20/125  | tensor(5.5987, device='cuda:1', grad_fn=<NllLossBackward0>)|\n",
       "|  1   | 30/125  | tensor(5.4186, device='cuda:1', grad_fn=<NllLossBackward0>)|\n",
       "|  1   | 40/125  | tensor(5.5799, device='cuda:1', grad_fn=<NllLossBackward0>)|\n",
       "+-----------------------------------------------------------------------------+\n"
      ]
     },
     "metadata": {},
     "output_type": "display_data"
    },
    {
     "name": "stdout",
     "output_type": "stream",
     "text": [
      "STEP:  50 / 125\n"
     ]
    },
    {
     "data": {
      "text/html": [
       "<pre style=\"white-space:pre;overflow-x:auto;line-height:normal;font-family:Menlo,'DejaVu Sans Mono',consolas,'Courier New',monospace\"><span style=\"font-style: italic\">                                Training Status                                </span>\n",
       "+-----------------------------------------------------------------------------+\n",
       "|<span style=\"font-weight: bold\">Epoch </span>|<span style=\"font-weight: bold\">  Steps  </span>|<span style=\"font-weight: bold\">                            Loss                            </span>|\n",
       "|------+---------+------------------------------------------------------------|\n",
       "|  0   |  0/125  | tensor(6.9166, device='cuda:1', grad_fn=&lt;NllLossBackward0&gt;)|\n",
       "|  0   | 10/125  | tensor(6.0950, device='cuda:1', grad_fn=&lt;NllLossBackward0&gt;)|\n",
       "|  0   | 20/125  | tensor(6.0341, device='cuda:1', grad_fn=&lt;NllLossBackward0&gt;)|\n",
       "|  0   | 30/125  | tensor(6.6680, device='cuda:1', grad_fn=&lt;NllLossBackward0&gt;)|\n",
       "|  0   | 40/125  | tensor(6.0066, device='cuda:1', grad_fn=&lt;NllLossBackward0&gt;)|\n",
       "|  0   | 50/125  | tensor(5.5205, device='cuda:1', grad_fn=&lt;NllLossBackward0&gt;)|\n",
       "|  0   | 60/125  | tensor(5.8240, device='cuda:1', grad_fn=&lt;NllLossBackward0&gt;)|\n",
       "|  0   | 70/125  | tensor(6.2952, device='cuda:1', grad_fn=&lt;NllLossBackward0&gt;)|\n",
       "|  0   | 80/125  | tensor(5.8856, device='cuda:1', grad_fn=&lt;NllLossBackward0&gt;)|\n",
       "|  0   | 90/125  | tensor(5.5936, device='cuda:1', grad_fn=&lt;NllLossBackward0&gt;)|\n",
       "|  0   | 100/125 | tensor(5.3247, device='cuda:1', grad_fn=&lt;NllLossBackward0&gt;)|\n",
       "|  0   | 110/125 | tensor(5.3783, device='cuda:1', grad_fn=&lt;NllLossBackward0&gt;)|\n",
       "|  0   | 120/125 | tensor(5.4052, device='cuda:1', grad_fn=&lt;NllLossBackward0&gt;)|\n",
       "|  1   |  0/125  | tensor(5.7932, device='cuda:1', grad_fn=&lt;NllLossBackward0&gt;)|\n",
       "|  1   | 10/125  | tensor(5.5280, device='cuda:1', grad_fn=&lt;NllLossBackward0&gt;)|\n",
       "|  1   | 20/125  | tensor(5.5987, device='cuda:1', grad_fn=&lt;NllLossBackward0&gt;)|\n",
       "|  1   | 30/125  | tensor(5.4186, device='cuda:1', grad_fn=&lt;NllLossBackward0&gt;)|\n",
       "|  1   | 40/125  | tensor(5.5799, device='cuda:1', grad_fn=&lt;NllLossBackward0&gt;)|\n",
       "|  1   | 50/125  | tensor(5.7063, device='cuda:1', grad_fn=&lt;NllLossBackward0&gt;)|\n",
       "+-----------------------------------------------------------------------------+\n",
       "</pre>\n"
      ],
      "text/plain": [
       "\u001b[3m                                Training Status                                \u001b[0m\n",
       "+-----------------------------------------------------------------------------+\n",
       "|\u001b[1mEpoch\u001b[0m\u001b[1m \u001b[0m|\u001b[1m \u001b[0m\u001b[1m Steps \u001b[0m\u001b[1m \u001b[0m|\u001b[1m \u001b[0m\u001b[1m                           Loss                            \u001b[0m|\n",
       "|------+---------+------------------------------------------------------------|\n",
       "|  0   |  0/125  | tensor(6.9166, device='cuda:1', grad_fn=<NllLossBackward0>)|\n",
       "|  0   | 10/125  | tensor(6.0950, device='cuda:1', grad_fn=<NllLossBackward0>)|\n",
       "|  0   | 20/125  | tensor(6.0341, device='cuda:1', grad_fn=<NllLossBackward0>)|\n",
       "|  0   | 30/125  | tensor(6.6680, device='cuda:1', grad_fn=<NllLossBackward0>)|\n",
       "|  0   | 40/125  | tensor(6.0066, device='cuda:1', grad_fn=<NllLossBackward0>)|\n",
       "|  0   | 50/125  | tensor(5.5205, device='cuda:1', grad_fn=<NllLossBackward0>)|\n",
       "|  0   | 60/125  | tensor(5.8240, device='cuda:1', grad_fn=<NllLossBackward0>)|\n",
       "|  0   | 70/125  | tensor(6.2952, device='cuda:1', grad_fn=<NllLossBackward0>)|\n",
       "|  0   | 80/125  | tensor(5.8856, device='cuda:1', grad_fn=<NllLossBackward0>)|\n",
       "|  0   | 90/125  | tensor(5.5936, device='cuda:1', grad_fn=<NllLossBackward0>)|\n",
       "|  0   | 100/125 | tensor(5.3247, device='cuda:1', grad_fn=<NllLossBackward0>)|\n",
       "|  0   | 110/125 | tensor(5.3783, device='cuda:1', grad_fn=<NllLossBackward0>)|\n",
       "|  0   | 120/125 | tensor(5.4052, device='cuda:1', grad_fn=<NllLossBackward0>)|\n",
       "|  1   |  0/125  | tensor(5.7932, device='cuda:1', grad_fn=<NllLossBackward0>)|\n",
       "|  1   | 10/125  | tensor(5.5280, device='cuda:1', grad_fn=<NllLossBackward0>)|\n",
       "|  1   | 20/125  | tensor(5.5987, device='cuda:1', grad_fn=<NllLossBackward0>)|\n",
       "|  1   | 30/125  | tensor(5.4186, device='cuda:1', grad_fn=<NllLossBackward0>)|\n",
       "|  1   | 40/125  | tensor(5.5799, device='cuda:1', grad_fn=<NllLossBackward0>)|\n",
       "|  1   | 50/125  | tensor(5.7063, device='cuda:1', grad_fn=<NllLossBackward0>)|\n",
       "+-----------------------------------------------------------------------------+\n"
      ]
     },
     "metadata": {},
     "output_type": "display_data"
    },
    {
     "name": "stdout",
     "output_type": "stream",
     "text": [
      "STEP:  60 / 125\n"
     ]
    },
    {
     "data": {
      "text/html": [
       "<pre style=\"white-space:pre;overflow-x:auto;line-height:normal;font-family:Menlo,'DejaVu Sans Mono',consolas,'Courier New',monospace\"><span style=\"font-style: italic\">                                Training Status                                </span>\n",
       "+-----------------------------------------------------------------------------+\n",
       "|<span style=\"font-weight: bold\">Epoch </span>|<span style=\"font-weight: bold\">  Steps  </span>|<span style=\"font-weight: bold\">                            Loss                            </span>|\n",
       "|------+---------+------------------------------------------------------------|\n",
       "|  0   |  0/125  | tensor(6.9166, device='cuda:1', grad_fn=&lt;NllLossBackward0&gt;)|\n",
       "|  0   | 10/125  | tensor(6.0950, device='cuda:1', grad_fn=&lt;NllLossBackward0&gt;)|\n",
       "|  0   | 20/125  | tensor(6.0341, device='cuda:1', grad_fn=&lt;NllLossBackward0&gt;)|\n",
       "|  0   | 30/125  | tensor(6.6680, device='cuda:1', grad_fn=&lt;NllLossBackward0&gt;)|\n",
       "|  0   | 40/125  | tensor(6.0066, device='cuda:1', grad_fn=&lt;NllLossBackward0&gt;)|\n",
       "|  0   | 50/125  | tensor(5.5205, device='cuda:1', grad_fn=&lt;NllLossBackward0&gt;)|\n",
       "|  0   | 60/125  | tensor(5.8240, device='cuda:1', grad_fn=&lt;NllLossBackward0&gt;)|\n",
       "|  0   | 70/125  | tensor(6.2952, device='cuda:1', grad_fn=&lt;NllLossBackward0&gt;)|\n",
       "|  0   | 80/125  | tensor(5.8856, device='cuda:1', grad_fn=&lt;NllLossBackward0&gt;)|\n",
       "|  0   | 90/125  | tensor(5.5936, device='cuda:1', grad_fn=&lt;NllLossBackward0&gt;)|\n",
       "|  0   | 100/125 | tensor(5.3247, device='cuda:1', grad_fn=&lt;NllLossBackward0&gt;)|\n",
       "|  0   | 110/125 | tensor(5.3783, device='cuda:1', grad_fn=&lt;NllLossBackward0&gt;)|\n",
       "|  0   | 120/125 | tensor(5.4052, device='cuda:1', grad_fn=&lt;NllLossBackward0&gt;)|\n",
       "|  1   |  0/125  | tensor(5.7932, device='cuda:1', grad_fn=&lt;NllLossBackward0&gt;)|\n",
       "|  1   | 10/125  | tensor(5.5280, device='cuda:1', grad_fn=&lt;NllLossBackward0&gt;)|\n",
       "|  1   | 20/125  | tensor(5.5987, device='cuda:1', grad_fn=&lt;NllLossBackward0&gt;)|\n",
       "|  1   | 30/125  | tensor(5.4186, device='cuda:1', grad_fn=&lt;NllLossBackward0&gt;)|\n",
       "|  1   | 40/125  | tensor(5.5799, device='cuda:1', grad_fn=&lt;NllLossBackward0&gt;)|\n",
       "|  1   | 50/125  | tensor(5.7063, device='cuda:1', grad_fn=&lt;NllLossBackward0&gt;)|\n",
       "|  1   | 60/125  | tensor(5.2048, device='cuda:1', grad_fn=&lt;NllLossBackward0&gt;)|\n",
       "+-----------------------------------------------------------------------------+\n",
       "</pre>\n"
      ],
      "text/plain": [
       "\u001b[3m                                Training Status                                \u001b[0m\n",
       "+-----------------------------------------------------------------------------+\n",
       "|\u001b[1mEpoch\u001b[0m\u001b[1m \u001b[0m|\u001b[1m \u001b[0m\u001b[1m Steps \u001b[0m\u001b[1m \u001b[0m|\u001b[1m \u001b[0m\u001b[1m                           Loss                            \u001b[0m|\n",
       "|------+---------+------------------------------------------------------------|\n",
       "|  0   |  0/125  | tensor(6.9166, device='cuda:1', grad_fn=<NllLossBackward0>)|\n",
       "|  0   | 10/125  | tensor(6.0950, device='cuda:1', grad_fn=<NllLossBackward0>)|\n",
       "|  0   | 20/125  | tensor(6.0341, device='cuda:1', grad_fn=<NllLossBackward0>)|\n",
       "|  0   | 30/125  | tensor(6.6680, device='cuda:1', grad_fn=<NllLossBackward0>)|\n",
       "|  0   | 40/125  | tensor(6.0066, device='cuda:1', grad_fn=<NllLossBackward0>)|\n",
       "|  0   | 50/125  | tensor(5.5205, device='cuda:1', grad_fn=<NllLossBackward0>)|\n",
       "|  0   | 60/125  | tensor(5.8240, device='cuda:1', grad_fn=<NllLossBackward0>)|\n",
       "|  0   | 70/125  | tensor(6.2952, device='cuda:1', grad_fn=<NllLossBackward0>)|\n",
       "|  0   | 80/125  | tensor(5.8856, device='cuda:1', grad_fn=<NllLossBackward0>)|\n",
       "|  0   | 90/125  | tensor(5.5936, device='cuda:1', grad_fn=<NllLossBackward0>)|\n",
       "|  0   | 100/125 | tensor(5.3247, device='cuda:1', grad_fn=<NllLossBackward0>)|\n",
       "|  0   | 110/125 | tensor(5.3783, device='cuda:1', grad_fn=<NllLossBackward0>)|\n",
       "|  0   | 120/125 | tensor(5.4052, device='cuda:1', grad_fn=<NllLossBackward0>)|\n",
       "|  1   |  0/125  | tensor(5.7932, device='cuda:1', grad_fn=<NllLossBackward0>)|\n",
       "|  1   | 10/125  | tensor(5.5280, device='cuda:1', grad_fn=<NllLossBackward0>)|\n",
       "|  1   | 20/125  | tensor(5.5987, device='cuda:1', grad_fn=<NllLossBackward0>)|\n",
       "|  1   | 30/125  | tensor(5.4186, device='cuda:1', grad_fn=<NllLossBackward0>)|\n",
       "|  1   | 40/125  | tensor(5.5799, device='cuda:1', grad_fn=<NllLossBackward0>)|\n",
       "|  1   | 50/125  | tensor(5.7063, device='cuda:1', grad_fn=<NllLossBackward0>)|\n",
       "|  1   | 60/125  | tensor(5.2048, device='cuda:1', grad_fn=<NllLossBackward0>)|\n",
       "+-----------------------------------------------------------------------------+\n"
      ]
     },
     "metadata": {},
     "output_type": "display_data"
    },
    {
     "name": "stdout",
     "output_type": "stream",
     "text": [
      "STEP:  70 / 125\n"
     ]
    },
    {
     "data": {
      "text/html": [
       "<pre style=\"white-space:pre;overflow-x:auto;line-height:normal;font-family:Menlo,'DejaVu Sans Mono',consolas,'Courier New',monospace\"><span style=\"font-style: italic\">                                Training Status                                </span>\n",
       "+-----------------------------------------------------------------------------+\n",
       "|<span style=\"font-weight: bold\">Epoch </span>|<span style=\"font-weight: bold\">  Steps  </span>|<span style=\"font-weight: bold\">                            Loss                            </span>|\n",
       "|------+---------+------------------------------------------------------------|\n",
       "|  0   |  0/125  | tensor(6.9166, device='cuda:1', grad_fn=&lt;NllLossBackward0&gt;)|\n",
       "|  0   | 10/125  | tensor(6.0950, device='cuda:1', grad_fn=&lt;NllLossBackward0&gt;)|\n",
       "|  0   | 20/125  | tensor(6.0341, device='cuda:1', grad_fn=&lt;NllLossBackward0&gt;)|\n",
       "|  0   | 30/125  | tensor(6.6680, device='cuda:1', grad_fn=&lt;NllLossBackward0&gt;)|\n",
       "|  0   | 40/125  | tensor(6.0066, device='cuda:1', grad_fn=&lt;NllLossBackward0&gt;)|\n",
       "|  0   | 50/125  | tensor(5.5205, device='cuda:1', grad_fn=&lt;NllLossBackward0&gt;)|\n",
       "|  0   | 60/125  | tensor(5.8240, device='cuda:1', grad_fn=&lt;NllLossBackward0&gt;)|\n",
       "|  0   | 70/125  | tensor(6.2952, device='cuda:1', grad_fn=&lt;NllLossBackward0&gt;)|\n",
       "|  0   | 80/125  | tensor(5.8856, device='cuda:1', grad_fn=&lt;NllLossBackward0&gt;)|\n",
       "|  0   | 90/125  | tensor(5.5936, device='cuda:1', grad_fn=&lt;NllLossBackward0&gt;)|\n",
       "|  0   | 100/125 | tensor(5.3247, device='cuda:1', grad_fn=&lt;NllLossBackward0&gt;)|\n",
       "|  0   | 110/125 | tensor(5.3783, device='cuda:1', grad_fn=&lt;NllLossBackward0&gt;)|\n",
       "|  0   | 120/125 | tensor(5.4052, device='cuda:1', grad_fn=&lt;NllLossBackward0&gt;)|\n",
       "|  1   |  0/125  | tensor(5.7932, device='cuda:1', grad_fn=&lt;NllLossBackward0&gt;)|\n",
       "|  1   | 10/125  | tensor(5.5280, device='cuda:1', grad_fn=&lt;NllLossBackward0&gt;)|\n",
       "|  1   | 20/125  | tensor(5.5987, device='cuda:1', grad_fn=&lt;NllLossBackward0&gt;)|\n",
       "|  1   | 30/125  | tensor(5.4186, device='cuda:1', grad_fn=&lt;NllLossBackward0&gt;)|\n",
       "|  1   | 40/125  | tensor(5.5799, device='cuda:1', grad_fn=&lt;NllLossBackward0&gt;)|\n",
       "|  1   | 50/125  | tensor(5.7063, device='cuda:1', grad_fn=&lt;NllLossBackward0&gt;)|\n",
       "|  1   | 60/125  | tensor(5.2048, device='cuda:1', grad_fn=&lt;NllLossBackward0&gt;)|\n",
       "|  1   | 70/125  | tensor(5.5670, device='cuda:1', grad_fn=&lt;NllLossBackward0&gt;)|\n",
       "+-----------------------------------------------------------------------------+\n",
       "</pre>\n"
      ],
      "text/plain": [
       "\u001b[3m                                Training Status                                \u001b[0m\n",
       "+-----------------------------------------------------------------------------+\n",
       "|\u001b[1mEpoch\u001b[0m\u001b[1m \u001b[0m|\u001b[1m \u001b[0m\u001b[1m Steps \u001b[0m\u001b[1m \u001b[0m|\u001b[1m \u001b[0m\u001b[1m                           Loss                            \u001b[0m|\n",
       "|------+---------+------------------------------------------------------------|\n",
       "|  0   |  0/125  | tensor(6.9166, device='cuda:1', grad_fn=<NllLossBackward0>)|\n",
       "|  0   | 10/125  | tensor(6.0950, device='cuda:1', grad_fn=<NllLossBackward0>)|\n",
       "|  0   | 20/125  | tensor(6.0341, device='cuda:1', grad_fn=<NllLossBackward0>)|\n",
       "|  0   | 30/125  | tensor(6.6680, device='cuda:1', grad_fn=<NllLossBackward0>)|\n",
       "|  0   | 40/125  | tensor(6.0066, device='cuda:1', grad_fn=<NllLossBackward0>)|\n",
       "|  0   | 50/125  | tensor(5.5205, device='cuda:1', grad_fn=<NllLossBackward0>)|\n",
       "|  0   | 60/125  | tensor(5.8240, device='cuda:1', grad_fn=<NllLossBackward0>)|\n",
       "|  0   | 70/125  | tensor(6.2952, device='cuda:1', grad_fn=<NllLossBackward0>)|\n",
       "|  0   | 80/125  | tensor(5.8856, device='cuda:1', grad_fn=<NllLossBackward0>)|\n",
       "|  0   | 90/125  | tensor(5.5936, device='cuda:1', grad_fn=<NllLossBackward0>)|\n",
       "|  0   | 100/125 | tensor(5.3247, device='cuda:1', grad_fn=<NllLossBackward0>)|\n",
       "|  0   | 110/125 | tensor(5.3783, device='cuda:1', grad_fn=<NllLossBackward0>)|\n",
       "|  0   | 120/125 | tensor(5.4052, device='cuda:1', grad_fn=<NllLossBackward0>)|\n",
       "|  1   |  0/125  | tensor(5.7932, device='cuda:1', grad_fn=<NllLossBackward0>)|\n",
       "|  1   | 10/125  | tensor(5.5280, device='cuda:1', grad_fn=<NllLossBackward0>)|\n",
       "|  1   | 20/125  | tensor(5.5987, device='cuda:1', grad_fn=<NllLossBackward0>)|\n",
       "|  1   | 30/125  | tensor(5.4186, device='cuda:1', grad_fn=<NllLossBackward0>)|\n",
       "|  1   | 40/125  | tensor(5.5799, device='cuda:1', grad_fn=<NllLossBackward0>)|\n",
       "|  1   | 50/125  | tensor(5.7063, device='cuda:1', grad_fn=<NllLossBackward0>)|\n",
       "|  1   | 60/125  | tensor(5.2048, device='cuda:1', grad_fn=<NllLossBackward0>)|\n",
       "|  1   | 70/125  | tensor(5.5670, device='cuda:1', grad_fn=<NllLossBackward0>)|\n",
       "+-----------------------------------------------------------------------------+\n"
      ]
     },
     "metadata": {},
     "output_type": "display_data"
    },
    {
     "name": "stdout",
     "output_type": "stream",
     "text": [
      "STEP:  80 / 125\n"
     ]
    },
    {
     "data": {
      "text/html": [
       "<pre style=\"white-space:pre;overflow-x:auto;line-height:normal;font-family:Menlo,'DejaVu Sans Mono',consolas,'Courier New',monospace\"><span style=\"font-style: italic\">                                Training Status                                </span>\n",
       "+-----------------------------------------------------------------------------+\n",
       "|<span style=\"font-weight: bold\">Epoch </span>|<span style=\"font-weight: bold\">  Steps  </span>|<span style=\"font-weight: bold\">                            Loss                            </span>|\n",
       "|------+---------+------------------------------------------------------------|\n",
       "|  0   |  0/125  | tensor(6.9166, device='cuda:1', grad_fn=&lt;NllLossBackward0&gt;)|\n",
       "|  0   | 10/125  | tensor(6.0950, device='cuda:1', grad_fn=&lt;NllLossBackward0&gt;)|\n",
       "|  0   | 20/125  | tensor(6.0341, device='cuda:1', grad_fn=&lt;NllLossBackward0&gt;)|\n",
       "|  0   | 30/125  | tensor(6.6680, device='cuda:1', grad_fn=&lt;NllLossBackward0&gt;)|\n",
       "|  0   | 40/125  | tensor(6.0066, device='cuda:1', grad_fn=&lt;NllLossBackward0&gt;)|\n",
       "|  0   | 50/125  | tensor(5.5205, device='cuda:1', grad_fn=&lt;NllLossBackward0&gt;)|\n",
       "|  0   | 60/125  | tensor(5.8240, device='cuda:1', grad_fn=&lt;NllLossBackward0&gt;)|\n",
       "|  0   | 70/125  | tensor(6.2952, device='cuda:1', grad_fn=&lt;NllLossBackward0&gt;)|\n",
       "|  0   | 80/125  | tensor(5.8856, device='cuda:1', grad_fn=&lt;NllLossBackward0&gt;)|\n",
       "|  0   | 90/125  | tensor(5.5936, device='cuda:1', grad_fn=&lt;NllLossBackward0&gt;)|\n",
       "|  0   | 100/125 | tensor(5.3247, device='cuda:1', grad_fn=&lt;NllLossBackward0&gt;)|\n",
       "|  0   | 110/125 | tensor(5.3783, device='cuda:1', grad_fn=&lt;NllLossBackward0&gt;)|\n",
       "|  0   | 120/125 | tensor(5.4052, device='cuda:1', grad_fn=&lt;NllLossBackward0&gt;)|\n",
       "|  1   |  0/125  | tensor(5.7932, device='cuda:1', grad_fn=&lt;NllLossBackward0&gt;)|\n",
       "|  1   | 10/125  | tensor(5.5280, device='cuda:1', grad_fn=&lt;NllLossBackward0&gt;)|\n",
       "|  1   | 20/125  | tensor(5.5987, device='cuda:1', grad_fn=&lt;NllLossBackward0&gt;)|\n",
       "|  1   | 30/125  | tensor(5.4186, device='cuda:1', grad_fn=&lt;NllLossBackward0&gt;)|\n",
       "|  1   | 40/125  | tensor(5.5799, device='cuda:1', grad_fn=&lt;NllLossBackward0&gt;)|\n",
       "|  1   | 50/125  | tensor(5.7063, device='cuda:1', grad_fn=&lt;NllLossBackward0&gt;)|\n",
       "|  1   | 60/125  | tensor(5.2048, device='cuda:1', grad_fn=&lt;NllLossBackward0&gt;)|\n",
       "|  1   | 70/125  | tensor(5.5670, device='cuda:1', grad_fn=&lt;NllLossBackward0&gt;)|\n",
       "|  1   | 80/125  | tensor(5.7379, device='cuda:1', grad_fn=&lt;NllLossBackward0&gt;)|\n",
       "+-----------------------------------------------------------------------------+\n",
       "</pre>\n"
      ],
      "text/plain": [
       "\u001b[3m                                Training Status                                \u001b[0m\n",
       "+-----------------------------------------------------------------------------+\n",
       "|\u001b[1mEpoch\u001b[0m\u001b[1m \u001b[0m|\u001b[1m \u001b[0m\u001b[1m Steps \u001b[0m\u001b[1m \u001b[0m|\u001b[1m \u001b[0m\u001b[1m                           Loss                            \u001b[0m|\n",
       "|------+---------+------------------------------------------------------------|\n",
       "|  0   |  0/125  | tensor(6.9166, device='cuda:1', grad_fn=<NllLossBackward0>)|\n",
       "|  0   | 10/125  | tensor(6.0950, device='cuda:1', grad_fn=<NllLossBackward0>)|\n",
       "|  0   | 20/125  | tensor(6.0341, device='cuda:1', grad_fn=<NllLossBackward0>)|\n",
       "|  0   | 30/125  | tensor(6.6680, device='cuda:1', grad_fn=<NllLossBackward0>)|\n",
       "|  0   | 40/125  | tensor(6.0066, device='cuda:1', grad_fn=<NllLossBackward0>)|\n",
       "|  0   | 50/125  | tensor(5.5205, device='cuda:1', grad_fn=<NllLossBackward0>)|\n",
       "|  0   | 60/125  | tensor(5.8240, device='cuda:1', grad_fn=<NllLossBackward0>)|\n",
       "|  0   | 70/125  | tensor(6.2952, device='cuda:1', grad_fn=<NllLossBackward0>)|\n",
       "|  0   | 80/125  | tensor(5.8856, device='cuda:1', grad_fn=<NllLossBackward0>)|\n",
       "|  0   | 90/125  | tensor(5.5936, device='cuda:1', grad_fn=<NllLossBackward0>)|\n",
       "|  0   | 100/125 | tensor(5.3247, device='cuda:1', grad_fn=<NllLossBackward0>)|\n",
       "|  0   | 110/125 | tensor(5.3783, device='cuda:1', grad_fn=<NllLossBackward0>)|\n",
       "|  0   | 120/125 | tensor(5.4052, device='cuda:1', grad_fn=<NllLossBackward0>)|\n",
       "|  1   |  0/125  | tensor(5.7932, device='cuda:1', grad_fn=<NllLossBackward0>)|\n",
       "|  1   | 10/125  | tensor(5.5280, device='cuda:1', grad_fn=<NllLossBackward0>)|\n",
       "|  1   | 20/125  | tensor(5.5987, device='cuda:1', grad_fn=<NllLossBackward0>)|\n",
       "|  1   | 30/125  | tensor(5.4186, device='cuda:1', grad_fn=<NllLossBackward0>)|\n",
       "|  1   | 40/125  | tensor(5.5799, device='cuda:1', grad_fn=<NllLossBackward0>)|\n",
       "|  1   | 50/125  | tensor(5.7063, device='cuda:1', grad_fn=<NllLossBackward0>)|\n",
       "|  1   | 60/125  | tensor(5.2048, device='cuda:1', grad_fn=<NllLossBackward0>)|\n",
       "|  1   | 70/125  | tensor(5.5670, device='cuda:1', grad_fn=<NllLossBackward0>)|\n",
       "|  1   | 80/125  | tensor(5.7379, device='cuda:1', grad_fn=<NllLossBackward0>)|\n",
       "+-----------------------------------------------------------------------------+\n"
      ]
     },
     "metadata": {},
     "output_type": "display_data"
    },
    {
     "name": "stdout",
     "output_type": "stream",
     "text": [
      "STEP:  90 / 125\n"
     ]
    },
    {
     "data": {
      "text/html": [
       "<pre style=\"white-space:pre;overflow-x:auto;line-height:normal;font-family:Menlo,'DejaVu Sans Mono',consolas,'Courier New',monospace\"><span style=\"font-style: italic\">                                Training Status                                </span>\n",
       "+-----------------------------------------------------------------------------+\n",
       "|<span style=\"font-weight: bold\">Epoch </span>|<span style=\"font-weight: bold\">  Steps  </span>|<span style=\"font-weight: bold\">                            Loss                            </span>|\n",
       "|------+---------+------------------------------------------------------------|\n",
       "|  0   |  0/125  | tensor(6.9166, device='cuda:1', grad_fn=&lt;NllLossBackward0&gt;)|\n",
       "|  0   | 10/125  | tensor(6.0950, device='cuda:1', grad_fn=&lt;NllLossBackward0&gt;)|\n",
       "|  0   | 20/125  | tensor(6.0341, device='cuda:1', grad_fn=&lt;NllLossBackward0&gt;)|\n",
       "|  0   | 30/125  | tensor(6.6680, device='cuda:1', grad_fn=&lt;NllLossBackward0&gt;)|\n",
       "|  0   | 40/125  | tensor(6.0066, device='cuda:1', grad_fn=&lt;NllLossBackward0&gt;)|\n",
       "|  0   | 50/125  | tensor(5.5205, device='cuda:1', grad_fn=&lt;NllLossBackward0&gt;)|\n",
       "|  0   | 60/125  | tensor(5.8240, device='cuda:1', grad_fn=&lt;NllLossBackward0&gt;)|\n",
       "|  0   | 70/125  | tensor(6.2952, device='cuda:1', grad_fn=&lt;NllLossBackward0&gt;)|\n",
       "|  0   | 80/125  | tensor(5.8856, device='cuda:1', grad_fn=&lt;NllLossBackward0&gt;)|\n",
       "|  0   | 90/125  | tensor(5.5936, device='cuda:1', grad_fn=&lt;NllLossBackward0&gt;)|\n",
       "|  0   | 100/125 | tensor(5.3247, device='cuda:1', grad_fn=&lt;NllLossBackward0&gt;)|\n",
       "|  0   | 110/125 | tensor(5.3783, device='cuda:1', grad_fn=&lt;NllLossBackward0&gt;)|\n",
       "|  0   | 120/125 | tensor(5.4052, device='cuda:1', grad_fn=&lt;NllLossBackward0&gt;)|\n",
       "|  1   |  0/125  | tensor(5.7932, device='cuda:1', grad_fn=&lt;NllLossBackward0&gt;)|\n",
       "|  1   | 10/125  | tensor(5.5280, device='cuda:1', grad_fn=&lt;NllLossBackward0&gt;)|\n",
       "|  1   | 20/125  | tensor(5.5987, device='cuda:1', grad_fn=&lt;NllLossBackward0&gt;)|\n",
       "|  1   | 30/125  | tensor(5.4186, device='cuda:1', grad_fn=&lt;NllLossBackward0&gt;)|\n",
       "|  1   | 40/125  | tensor(5.5799, device='cuda:1', grad_fn=&lt;NllLossBackward0&gt;)|\n",
       "|  1   | 50/125  | tensor(5.7063, device='cuda:1', grad_fn=&lt;NllLossBackward0&gt;)|\n",
       "|  1   | 60/125  | tensor(5.2048, device='cuda:1', grad_fn=&lt;NllLossBackward0&gt;)|\n",
       "|  1   | 70/125  | tensor(5.5670, device='cuda:1', grad_fn=&lt;NllLossBackward0&gt;)|\n",
       "|  1   | 80/125  | tensor(5.7379, device='cuda:1', grad_fn=&lt;NllLossBackward0&gt;)|\n",
       "|  1   | 90/125  | tensor(5.4400, device='cuda:1', grad_fn=&lt;NllLossBackward0&gt;)|\n",
       "+-----------------------------------------------------------------------------+\n",
       "</pre>\n"
      ],
      "text/plain": [
       "\u001b[3m                                Training Status                                \u001b[0m\n",
       "+-----------------------------------------------------------------------------+\n",
       "|\u001b[1mEpoch\u001b[0m\u001b[1m \u001b[0m|\u001b[1m \u001b[0m\u001b[1m Steps \u001b[0m\u001b[1m \u001b[0m|\u001b[1m \u001b[0m\u001b[1m                           Loss                            \u001b[0m|\n",
       "|------+---------+------------------------------------------------------------|\n",
       "|  0   |  0/125  | tensor(6.9166, device='cuda:1', grad_fn=<NllLossBackward0>)|\n",
       "|  0   | 10/125  | tensor(6.0950, device='cuda:1', grad_fn=<NllLossBackward0>)|\n",
       "|  0   | 20/125  | tensor(6.0341, device='cuda:1', grad_fn=<NllLossBackward0>)|\n",
       "|  0   | 30/125  | tensor(6.6680, device='cuda:1', grad_fn=<NllLossBackward0>)|\n",
       "|  0   | 40/125  | tensor(6.0066, device='cuda:1', grad_fn=<NllLossBackward0>)|\n",
       "|  0   | 50/125  | tensor(5.5205, device='cuda:1', grad_fn=<NllLossBackward0>)|\n",
       "|  0   | 60/125  | tensor(5.8240, device='cuda:1', grad_fn=<NllLossBackward0>)|\n",
       "|  0   | 70/125  | tensor(6.2952, device='cuda:1', grad_fn=<NllLossBackward0>)|\n",
       "|  0   | 80/125  | tensor(5.8856, device='cuda:1', grad_fn=<NllLossBackward0>)|\n",
       "|  0   | 90/125  | tensor(5.5936, device='cuda:1', grad_fn=<NllLossBackward0>)|\n",
       "|  0   | 100/125 | tensor(5.3247, device='cuda:1', grad_fn=<NllLossBackward0>)|\n",
       "|  0   | 110/125 | tensor(5.3783, device='cuda:1', grad_fn=<NllLossBackward0>)|\n",
       "|  0   | 120/125 | tensor(5.4052, device='cuda:1', grad_fn=<NllLossBackward0>)|\n",
       "|  1   |  0/125  | tensor(5.7932, device='cuda:1', grad_fn=<NllLossBackward0>)|\n",
       "|  1   | 10/125  | tensor(5.5280, device='cuda:1', grad_fn=<NllLossBackward0>)|\n",
       "|  1   | 20/125  | tensor(5.5987, device='cuda:1', grad_fn=<NllLossBackward0>)|\n",
       "|  1   | 30/125  | tensor(5.4186, device='cuda:1', grad_fn=<NllLossBackward0>)|\n",
       "|  1   | 40/125  | tensor(5.5799, device='cuda:1', grad_fn=<NllLossBackward0>)|\n",
       "|  1   | 50/125  | tensor(5.7063, device='cuda:1', grad_fn=<NllLossBackward0>)|\n",
       "|  1   | 60/125  | tensor(5.2048, device='cuda:1', grad_fn=<NllLossBackward0>)|\n",
       "|  1   | 70/125  | tensor(5.5670, device='cuda:1', grad_fn=<NllLossBackward0>)|\n",
       "|  1   | 80/125  | tensor(5.7379, device='cuda:1', grad_fn=<NllLossBackward0>)|\n",
       "|  1   | 90/125  | tensor(5.4400, device='cuda:1', grad_fn=<NllLossBackward0>)|\n",
       "+-----------------------------------------------------------------------------+\n"
      ]
     },
     "metadata": {},
     "output_type": "display_data"
    },
    {
     "name": "stdout",
     "output_type": "stream",
     "text": [
      "STEP:  100 / 125\n"
     ]
    },
    {
     "data": {
      "text/html": [
       "<pre style=\"white-space:pre;overflow-x:auto;line-height:normal;font-family:Menlo,'DejaVu Sans Mono',consolas,'Courier New',monospace\"><span style=\"font-style: italic\">                                Training Status                                </span>\n",
       "+-----------------------------------------------------------------------------+\n",
       "|<span style=\"font-weight: bold\">Epoch </span>|<span style=\"font-weight: bold\">  Steps  </span>|<span style=\"font-weight: bold\">                            Loss                            </span>|\n",
       "|------+---------+------------------------------------------------------------|\n",
       "|  0   |  0/125  | tensor(6.9166, device='cuda:1', grad_fn=&lt;NllLossBackward0&gt;)|\n",
       "|  0   | 10/125  | tensor(6.0950, device='cuda:1', grad_fn=&lt;NllLossBackward0&gt;)|\n",
       "|  0   | 20/125  | tensor(6.0341, device='cuda:1', grad_fn=&lt;NllLossBackward0&gt;)|\n",
       "|  0   | 30/125  | tensor(6.6680, device='cuda:1', grad_fn=&lt;NllLossBackward0&gt;)|\n",
       "|  0   | 40/125  | tensor(6.0066, device='cuda:1', grad_fn=&lt;NllLossBackward0&gt;)|\n",
       "|  0   | 50/125  | tensor(5.5205, device='cuda:1', grad_fn=&lt;NllLossBackward0&gt;)|\n",
       "|  0   | 60/125  | tensor(5.8240, device='cuda:1', grad_fn=&lt;NllLossBackward0&gt;)|\n",
       "|  0   | 70/125  | tensor(6.2952, device='cuda:1', grad_fn=&lt;NllLossBackward0&gt;)|\n",
       "|  0   | 80/125  | tensor(5.8856, device='cuda:1', grad_fn=&lt;NllLossBackward0&gt;)|\n",
       "|  0   | 90/125  | tensor(5.5936, device='cuda:1', grad_fn=&lt;NllLossBackward0&gt;)|\n",
       "|  0   | 100/125 | tensor(5.3247, device='cuda:1', grad_fn=&lt;NllLossBackward0&gt;)|\n",
       "|  0   | 110/125 | tensor(5.3783, device='cuda:1', grad_fn=&lt;NllLossBackward0&gt;)|\n",
       "|  0   | 120/125 | tensor(5.4052, device='cuda:1', grad_fn=&lt;NllLossBackward0&gt;)|\n",
       "|  1   |  0/125  | tensor(5.7932, device='cuda:1', grad_fn=&lt;NllLossBackward0&gt;)|\n",
       "|  1   | 10/125  | tensor(5.5280, device='cuda:1', grad_fn=&lt;NllLossBackward0&gt;)|\n",
       "|  1   | 20/125  | tensor(5.5987, device='cuda:1', grad_fn=&lt;NllLossBackward0&gt;)|\n",
       "|  1   | 30/125  | tensor(5.4186, device='cuda:1', grad_fn=&lt;NllLossBackward0&gt;)|\n",
       "|  1   | 40/125  | tensor(5.5799, device='cuda:1', grad_fn=&lt;NllLossBackward0&gt;)|\n",
       "|  1   | 50/125  | tensor(5.7063, device='cuda:1', grad_fn=&lt;NllLossBackward0&gt;)|\n",
       "|  1   | 60/125  | tensor(5.2048, device='cuda:1', grad_fn=&lt;NllLossBackward0&gt;)|\n",
       "|  1   | 70/125  | tensor(5.5670, device='cuda:1', grad_fn=&lt;NllLossBackward0&gt;)|\n",
       "|  1   | 80/125  | tensor(5.7379, device='cuda:1', grad_fn=&lt;NllLossBackward0&gt;)|\n",
       "|  1   | 90/125  | tensor(5.4400, device='cuda:1', grad_fn=&lt;NllLossBackward0&gt;)|\n",
       "|  1   | 100/125 | tensor(5.0054, device='cuda:1', grad_fn=&lt;NllLossBackward0&gt;)|\n",
       "+-----------------------------------------------------------------------------+\n",
       "</pre>\n"
      ],
      "text/plain": [
       "\u001b[3m                                Training Status                                \u001b[0m\n",
       "+-----------------------------------------------------------------------------+\n",
       "|\u001b[1mEpoch\u001b[0m\u001b[1m \u001b[0m|\u001b[1m \u001b[0m\u001b[1m Steps \u001b[0m\u001b[1m \u001b[0m|\u001b[1m \u001b[0m\u001b[1m                           Loss                            \u001b[0m|\n",
       "|------+---------+------------------------------------------------------------|\n",
       "|  0   |  0/125  | tensor(6.9166, device='cuda:1', grad_fn=<NllLossBackward0>)|\n",
       "|  0   | 10/125  | tensor(6.0950, device='cuda:1', grad_fn=<NllLossBackward0>)|\n",
       "|  0   | 20/125  | tensor(6.0341, device='cuda:1', grad_fn=<NllLossBackward0>)|\n",
       "|  0   | 30/125  | tensor(6.6680, device='cuda:1', grad_fn=<NllLossBackward0>)|\n",
       "|  0   | 40/125  | tensor(6.0066, device='cuda:1', grad_fn=<NllLossBackward0>)|\n",
       "|  0   | 50/125  | tensor(5.5205, device='cuda:1', grad_fn=<NllLossBackward0>)|\n",
       "|  0   | 60/125  | tensor(5.8240, device='cuda:1', grad_fn=<NllLossBackward0>)|\n",
       "|  0   | 70/125  | tensor(6.2952, device='cuda:1', grad_fn=<NllLossBackward0>)|\n",
       "|  0   | 80/125  | tensor(5.8856, device='cuda:1', grad_fn=<NllLossBackward0>)|\n",
       "|  0   | 90/125  | tensor(5.5936, device='cuda:1', grad_fn=<NllLossBackward0>)|\n",
       "|  0   | 100/125 | tensor(5.3247, device='cuda:1', grad_fn=<NllLossBackward0>)|\n",
       "|  0   | 110/125 | tensor(5.3783, device='cuda:1', grad_fn=<NllLossBackward0>)|\n",
       "|  0   | 120/125 | tensor(5.4052, device='cuda:1', grad_fn=<NllLossBackward0>)|\n",
       "|  1   |  0/125  | tensor(5.7932, device='cuda:1', grad_fn=<NllLossBackward0>)|\n",
       "|  1   | 10/125  | tensor(5.5280, device='cuda:1', grad_fn=<NllLossBackward0>)|\n",
       "|  1   | 20/125  | tensor(5.5987, device='cuda:1', grad_fn=<NllLossBackward0>)|\n",
       "|  1   | 30/125  | tensor(5.4186, device='cuda:1', grad_fn=<NllLossBackward0>)|\n",
       "|  1   | 40/125  | tensor(5.5799, device='cuda:1', grad_fn=<NllLossBackward0>)|\n",
       "|  1   | 50/125  | tensor(5.7063, device='cuda:1', grad_fn=<NllLossBackward0>)|\n",
       "|  1   | 60/125  | tensor(5.2048, device='cuda:1', grad_fn=<NllLossBackward0>)|\n",
       "|  1   | 70/125  | tensor(5.5670, device='cuda:1', grad_fn=<NllLossBackward0>)|\n",
       "|  1   | 80/125  | tensor(5.7379, device='cuda:1', grad_fn=<NllLossBackward0>)|\n",
       "|  1   | 90/125  | tensor(5.4400, device='cuda:1', grad_fn=<NllLossBackward0>)|\n",
       "|  1   | 100/125 | tensor(5.0054, device='cuda:1', grad_fn=<NllLossBackward0>)|\n",
       "+-----------------------------------------------------------------------------+\n"
      ]
     },
     "metadata": {},
     "output_type": "display_data"
    },
    {
     "name": "stdout",
     "output_type": "stream",
     "text": [
      "STEP:  110 / 125\n"
     ]
    },
    {
     "data": {
      "text/html": [
       "<pre style=\"white-space:pre;overflow-x:auto;line-height:normal;font-family:Menlo,'DejaVu Sans Mono',consolas,'Courier New',monospace\"><span style=\"font-style: italic\">                                Training Status                                </span>\n",
       "+-----------------------------------------------------------------------------+\n",
       "|<span style=\"font-weight: bold\">Epoch </span>|<span style=\"font-weight: bold\">  Steps  </span>|<span style=\"font-weight: bold\">                            Loss                            </span>|\n",
       "|------+---------+------------------------------------------------------------|\n",
       "|  0   |  0/125  | tensor(6.9166, device='cuda:1', grad_fn=&lt;NllLossBackward0&gt;)|\n",
       "|  0   | 10/125  | tensor(6.0950, device='cuda:1', grad_fn=&lt;NllLossBackward0&gt;)|\n",
       "|  0   | 20/125  | tensor(6.0341, device='cuda:1', grad_fn=&lt;NllLossBackward0&gt;)|\n",
       "|  0   | 30/125  | tensor(6.6680, device='cuda:1', grad_fn=&lt;NllLossBackward0&gt;)|\n",
       "|  0   | 40/125  | tensor(6.0066, device='cuda:1', grad_fn=&lt;NllLossBackward0&gt;)|\n",
       "|  0   | 50/125  | tensor(5.5205, device='cuda:1', grad_fn=&lt;NllLossBackward0&gt;)|\n",
       "|  0   | 60/125  | tensor(5.8240, device='cuda:1', grad_fn=&lt;NllLossBackward0&gt;)|\n",
       "|  0   | 70/125  | tensor(6.2952, device='cuda:1', grad_fn=&lt;NllLossBackward0&gt;)|\n",
       "|  0   | 80/125  | tensor(5.8856, device='cuda:1', grad_fn=&lt;NllLossBackward0&gt;)|\n",
       "|  0   | 90/125  | tensor(5.5936, device='cuda:1', grad_fn=&lt;NllLossBackward0&gt;)|\n",
       "|  0   | 100/125 | tensor(5.3247, device='cuda:1', grad_fn=&lt;NllLossBackward0&gt;)|\n",
       "|  0   | 110/125 | tensor(5.3783, device='cuda:1', grad_fn=&lt;NllLossBackward0&gt;)|\n",
       "|  0   | 120/125 | tensor(5.4052, device='cuda:1', grad_fn=&lt;NllLossBackward0&gt;)|\n",
       "|  1   |  0/125  | tensor(5.7932, device='cuda:1', grad_fn=&lt;NllLossBackward0&gt;)|\n",
       "|  1   | 10/125  | tensor(5.5280, device='cuda:1', grad_fn=&lt;NllLossBackward0&gt;)|\n",
       "|  1   | 20/125  | tensor(5.5987, device='cuda:1', grad_fn=&lt;NllLossBackward0&gt;)|\n",
       "|  1   | 30/125  | tensor(5.4186, device='cuda:1', grad_fn=&lt;NllLossBackward0&gt;)|\n",
       "|  1   | 40/125  | tensor(5.5799, device='cuda:1', grad_fn=&lt;NllLossBackward0&gt;)|\n",
       "|  1   | 50/125  | tensor(5.7063, device='cuda:1', grad_fn=&lt;NllLossBackward0&gt;)|\n",
       "|  1   | 60/125  | tensor(5.2048, device='cuda:1', grad_fn=&lt;NllLossBackward0&gt;)|\n",
       "|  1   | 70/125  | tensor(5.5670, device='cuda:1', grad_fn=&lt;NllLossBackward0&gt;)|\n",
       "|  1   | 80/125  | tensor(5.7379, device='cuda:1', grad_fn=&lt;NllLossBackward0&gt;)|\n",
       "|  1   | 90/125  | tensor(5.4400, device='cuda:1', grad_fn=&lt;NllLossBackward0&gt;)|\n",
       "|  1   | 100/125 | tensor(5.0054, device='cuda:1', grad_fn=&lt;NllLossBackward0&gt;)|\n",
       "|  1   | 110/125 | tensor(5.5825, device='cuda:1', grad_fn=&lt;NllLossBackward0&gt;)|\n",
       "+-----------------------------------------------------------------------------+\n",
       "</pre>\n"
      ],
      "text/plain": [
       "\u001b[3m                                Training Status                                \u001b[0m\n",
       "+-----------------------------------------------------------------------------+\n",
       "|\u001b[1mEpoch\u001b[0m\u001b[1m \u001b[0m|\u001b[1m \u001b[0m\u001b[1m Steps \u001b[0m\u001b[1m \u001b[0m|\u001b[1m \u001b[0m\u001b[1m                           Loss                            \u001b[0m|\n",
       "|------+---------+------------------------------------------------------------|\n",
       "|  0   |  0/125  | tensor(6.9166, device='cuda:1', grad_fn=<NllLossBackward0>)|\n",
       "|  0   | 10/125  | tensor(6.0950, device='cuda:1', grad_fn=<NllLossBackward0>)|\n",
       "|  0   | 20/125  | tensor(6.0341, device='cuda:1', grad_fn=<NllLossBackward0>)|\n",
       "|  0   | 30/125  | tensor(6.6680, device='cuda:1', grad_fn=<NllLossBackward0>)|\n",
       "|  0   | 40/125  | tensor(6.0066, device='cuda:1', grad_fn=<NllLossBackward0>)|\n",
       "|  0   | 50/125  | tensor(5.5205, device='cuda:1', grad_fn=<NllLossBackward0>)|\n",
       "|  0   | 60/125  | tensor(5.8240, device='cuda:1', grad_fn=<NllLossBackward0>)|\n",
       "|  0   | 70/125  | tensor(6.2952, device='cuda:1', grad_fn=<NllLossBackward0>)|\n",
       "|  0   | 80/125  | tensor(5.8856, device='cuda:1', grad_fn=<NllLossBackward0>)|\n",
       "|  0   | 90/125  | tensor(5.5936, device='cuda:1', grad_fn=<NllLossBackward0>)|\n",
       "|  0   | 100/125 | tensor(5.3247, device='cuda:1', grad_fn=<NllLossBackward0>)|\n",
       "|  0   | 110/125 | tensor(5.3783, device='cuda:1', grad_fn=<NllLossBackward0>)|\n",
       "|  0   | 120/125 | tensor(5.4052, device='cuda:1', grad_fn=<NllLossBackward0>)|\n",
       "|  1   |  0/125  | tensor(5.7932, device='cuda:1', grad_fn=<NllLossBackward0>)|\n",
       "|  1   | 10/125  | tensor(5.5280, device='cuda:1', grad_fn=<NllLossBackward0>)|\n",
       "|  1   | 20/125  | tensor(5.5987, device='cuda:1', grad_fn=<NllLossBackward0>)|\n",
       "|  1   | 30/125  | tensor(5.4186, device='cuda:1', grad_fn=<NllLossBackward0>)|\n",
       "|  1   | 40/125  | tensor(5.5799, device='cuda:1', grad_fn=<NllLossBackward0>)|\n",
       "|  1   | 50/125  | tensor(5.7063, device='cuda:1', grad_fn=<NllLossBackward0>)|\n",
       "|  1   | 60/125  | tensor(5.2048, device='cuda:1', grad_fn=<NllLossBackward0>)|\n",
       "|  1   | 70/125  | tensor(5.5670, device='cuda:1', grad_fn=<NllLossBackward0>)|\n",
       "|  1   | 80/125  | tensor(5.7379, device='cuda:1', grad_fn=<NllLossBackward0>)|\n",
       "|  1   | 90/125  | tensor(5.4400, device='cuda:1', grad_fn=<NllLossBackward0>)|\n",
       "|  1   | 100/125 | tensor(5.0054, device='cuda:1', grad_fn=<NllLossBackward0>)|\n",
       "|  1   | 110/125 | tensor(5.5825, device='cuda:1', grad_fn=<NllLossBackward0>)|\n",
       "+-----------------------------------------------------------------------------+\n"
      ]
     },
     "metadata": {},
     "output_type": "display_data"
    },
    {
     "name": "stdout",
     "output_type": "stream",
     "text": [
      "STEP:  120 / 125\n"
     ]
    },
    {
     "data": {
      "text/html": [
       "<pre style=\"white-space:pre;overflow-x:auto;line-height:normal;font-family:Menlo,'DejaVu Sans Mono',consolas,'Courier New',monospace\"><span style=\"font-style: italic\">                                Training Status                                </span>\n",
       "+-----------------------------------------------------------------------------+\n",
       "|<span style=\"font-weight: bold\">Epoch </span>|<span style=\"font-weight: bold\">  Steps  </span>|<span style=\"font-weight: bold\">                            Loss                            </span>|\n",
       "|------+---------+------------------------------------------------------------|\n",
       "|  0   |  0/125  | tensor(6.9166, device='cuda:1', grad_fn=&lt;NllLossBackward0&gt;)|\n",
       "|  0   | 10/125  | tensor(6.0950, device='cuda:1', grad_fn=&lt;NllLossBackward0&gt;)|\n",
       "|  0   | 20/125  | tensor(6.0341, device='cuda:1', grad_fn=&lt;NllLossBackward0&gt;)|\n",
       "|  0   | 30/125  | tensor(6.6680, device='cuda:1', grad_fn=&lt;NllLossBackward0&gt;)|\n",
       "|  0   | 40/125  | tensor(6.0066, device='cuda:1', grad_fn=&lt;NllLossBackward0&gt;)|\n",
       "|  0   | 50/125  | tensor(5.5205, device='cuda:1', grad_fn=&lt;NllLossBackward0&gt;)|\n",
       "|  0   | 60/125  | tensor(5.8240, device='cuda:1', grad_fn=&lt;NllLossBackward0&gt;)|\n",
       "|  0   | 70/125  | tensor(6.2952, device='cuda:1', grad_fn=&lt;NllLossBackward0&gt;)|\n",
       "|  0   | 80/125  | tensor(5.8856, device='cuda:1', grad_fn=&lt;NllLossBackward0&gt;)|\n",
       "|  0   | 90/125  | tensor(5.5936, device='cuda:1', grad_fn=&lt;NllLossBackward0&gt;)|\n",
       "|  0   | 100/125 | tensor(5.3247, device='cuda:1', grad_fn=&lt;NllLossBackward0&gt;)|\n",
       "|  0   | 110/125 | tensor(5.3783, device='cuda:1', grad_fn=&lt;NllLossBackward0&gt;)|\n",
       "|  0   | 120/125 | tensor(5.4052, device='cuda:1', grad_fn=&lt;NllLossBackward0&gt;)|\n",
       "|  1   |  0/125  | tensor(5.7932, device='cuda:1', grad_fn=&lt;NllLossBackward0&gt;)|\n",
       "|  1   | 10/125  | tensor(5.5280, device='cuda:1', grad_fn=&lt;NllLossBackward0&gt;)|\n",
       "|  1   | 20/125  | tensor(5.5987, device='cuda:1', grad_fn=&lt;NllLossBackward0&gt;)|\n",
       "|  1   | 30/125  | tensor(5.4186, device='cuda:1', grad_fn=&lt;NllLossBackward0&gt;)|\n",
       "|  1   | 40/125  | tensor(5.5799, device='cuda:1', grad_fn=&lt;NllLossBackward0&gt;)|\n",
       "|  1   | 50/125  | tensor(5.7063, device='cuda:1', grad_fn=&lt;NllLossBackward0&gt;)|\n",
       "|  1   | 60/125  | tensor(5.2048, device='cuda:1', grad_fn=&lt;NllLossBackward0&gt;)|\n",
       "|  1   | 70/125  | tensor(5.5670, device='cuda:1', grad_fn=&lt;NllLossBackward0&gt;)|\n",
       "|  1   | 80/125  | tensor(5.7379, device='cuda:1', grad_fn=&lt;NllLossBackward0&gt;)|\n",
       "|  1   | 90/125  | tensor(5.4400, device='cuda:1', grad_fn=&lt;NllLossBackward0&gt;)|\n",
       "|  1   | 100/125 | tensor(5.0054, device='cuda:1', grad_fn=&lt;NllLossBackward0&gt;)|\n",
       "|  1   | 110/125 | tensor(5.5825, device='cuda:1', grad_fn=&lt;NllLossBackward0&gt;)|\n",
       "|  1   | 120/125 | tensor(4.9728, device='cuda:1', grad_fn=&lt;NllLossBackward0&gt;)|\n",
       "+-----------------------------------------------------------------------------+\n",
       "</pre>\n"
      ],
      "text/plain": [
       "\u001b[3m                                Training Status                                \u001b[0m\n",
       "+-----------------------------------------------------------------------------+\n",
       "|\u001b[1mEpoch\u001b[0m\u001b[1m \u001b[0m|\u001b[1m \u001b[0m\u001b[1m Steps \u001b[0m\u001b[1m \u001b[0m|\u001b[1m \u001b[0m\u001b[1m                           Loss                            \u001b[0m|\n",
       "|------+---------+------------------------------------------------------------|\n",
       "|  0   |  0/125  | tensor(6.9166, device='cuda:1', grad_fn=<NllLossBackward0>)|\n",
       "|  0   | 10/125  | tensor(6.0950, device='cuda:1', grad_fn=<NllLossBackward0>)|\n",
       "|  0   | 20/125  | tensor(6.0341, device='cuda:1', grad_fn=<NllLossBackward0>)|\n",
       "|  0   | 30/125  | tensor(6.6680, device='cuda:1', grad_fn=<NllLossBackward0>)|\n",
       "|  0   | 40/125  | tensor(6.0066, device='cuda:1', grad_fn=<NllLossBackward0>)|\n",
       "|  0   | 50/125  | tensor(5.5205, device='cuda:1', grad_fn=<NllLossBackward0>)|\n",
       "|  0   | 60/125  | tensor(5.8240, device='cuda:1', grad_fn=<NllLossBackward0>)|\n",
       "|  0   | 70/125  | tensor(6.2952, device='cuda:1', grad_fn=<NllLossBackward0>)|\n",
       "|  0   | 80/125  | tensor(5.8856, device='cuda:1', grad_fn=<NllLossBackward0>)|\n",
       "|  0   | 90/125  | tensor(5.5936, device='cuda:1', grad_fn=<NllLossBackward0>)|\n",
       "|  0   | 100/125 | tensor(5.3247, device='cuda:1', grad_fn=<NllLossBackward0>)|\n",
       "|  0   | 110/125 | tensor(5.3783, device='cuda:1', grad_fn=<NllLossBackward0>)|\n",
       "|  0   | 120/125 | tensor(5.4052, device='cuda:1', grad_fn=<NllLossBackward0>)|\n",
       "|  1   |  0/125  | tensor(5.7932, device='cuda:1', grad_fn=<NllLossBackward0>)|\n",
       "|  1   | 10/125  | tensor(5.5280, device='cuda:1', grad_fn=<NllLossBackward0>)|\n",
       "|  1   | 20/125  | tensor(5.5987, device='cuda:1', grad_fn=<NllLossBackward0>)|\n",
       "|  1   | 30/125  | tensor(5.4186, device='cuda:1', grad_fn=<NllLossBackward0>)|\n",
       "|  1   | 40/125  | tensor(5.5799, device='cuda:1', grad_fn=<NllLossBackward0>)|\n",
       "|  1   | 50/125  | tensor(5.7063, device='cuda:1', grad_fn=<NllLossBackward0>)|\n",
       "|  1   | 60/125  | tensor(5.2048, device='cuda:1', grad_fn=<NllLossBackward0>)|\n",
       "|  1   | 70/125  | tensor(5.5670, device='cuda:1', grad_fn=<NllLossBackward0>)|\n",
       "|  1   | 80/125  | tensor(5.7379, device='cuda:1', grad_fn=<NllLossBackward0>)|\n",
       "|  1   | 90/125  | tensor(5.4400, device='cuda:1', grad_fn=<NllLossBackward0>)|\n",
       "|  1   | 100/125 | tensor(5.0054, device='cuda:1', grad_fn=<NllLossBackward0>)|\n",
       "|  1   | 110/125 | tensor(5.5825, device='cuda:1', grad_fn=<NllLossBackward0>)|\n",
       "|  1   | 120/125 | tensor(4.9728, device='cuda:1', grad_fn=<NllLossBackward0>)|\n",
       "+-----------------------------------------------------------------------------+\n"
      ]
     },
     "metadata": {},
     "output_type": "display_data"
    },
    {
     "data": {
      "text/html": [
       "<pre style=\"white-space:pre;overflow-x:auto;line-height:normal;font-family:Menlo,'DejaVu Sans Mono',consolas,'Courier New',monospace\">Completed <span style=\"color: #008080; text-decoration-color: #008080; font-weight: bold\">0</span>\n",
       "</pre>\n"
      ],
      "text/plain": [
       "Completed \u001b[1;36m0\u001b[0m\n"
      ]
     },
     "metadata": {},
     "output_type": "display_data"
    },
    {
     "data": {
      "text/html": [
       "<pre style=\"white-space:pre;overflow-x:auto;line-height:normal;font-family:Menlo,'DejaVu Sans Mono',consolas,'Courier New',monospace\">Completed <span style=\"color: #008080; text-decoration-color: #008080; font-weight: bold\">10</span>\n",
       "</pre>\n"
      ],
      "text/plain": [
       "Completed \u001b[1;36m10\u001b[0m\n"
      ]
     },
     "metadata": {},
     "output_type": "display_data"
    },
    {
     "data": {
      "text/html": [
       "<pre style=\"white-space:pre;overflow-x:auto;line-height:normal;font-family:Menlo,'DejaVu Sans Mono',consolas,'Courier New',monospace\">Completed <span style=\"color: #008080; text-decoration-color: #008080; font-weight: bold\">20</span>\n",
       "</pre>\n"
      ],
      "text/plain": [
       "Completed \u001b[1;36m20\u001b[0m\n"
      ]
     },
     "metadata": {},
     "output_type": "display_data"
    },
    {
     "data": {
      "text/html": [
       "<pre style=\"white-space:pre;overflow-x:auto;line-height:normal;font-family:Menlo,'DejaVu Sans Mono',consolas,'Courier New',monospace\">Completed <span style=\"color: #008080; text-decoration-color: #008080; font-weight: bold\">30</span>\n",
       "</pre>\n"
      ],
      "text/plain": [
       "Completed \u001b[1;36m30\u001b[0m\n"
      ]
     },
     "metadata": {},
     "output_type": "display_data"
    },
    {
     "data": {
      "text/html": [
       "<pre style=\"white-space:pre;overflow-x:auto;line-height:normal;font-family:Menlo,'DejaVu Sans Mono',consolas,'Courier New',monospace\">Completed <span style=\"color: #008080; text-decoration-color: #008080; font-weight: bold\">40</span>\n",
       "</pre>\n"
      ],
      "text/plain": [
       "Completed \u001b[1;36m40\u001b[0m\n"
      ]
     },
     "metadata": {},
     "output_type": "display_data"
    },
    {
     "data": {
      "text/html": [
       "<pre style=\"white-space:pre;overflow-x:auto;line-height:normal;font-family:Menlo,'DejaVu Sans Mono',consolas,'Courier New',monospace\">Completed <span style=\"color: #008080; text-decoration-color: #008080; font-weight: bold\">50</span>\n",
       "</pre>\n"
      ],
      "text/plain": [
       "Completed \u001b[1;36m50\u001b[0m\n"
      ]
     },
     "metadata": {},
     "output_type": "display_data"
    },
    {
     "data": {
      "text/html": [
       "<pre style=\"white-space:pre;overflow-x:auto;line-height:normal;font-family:Menlo,'DejaVu Sans Mono',consolas,'Courier New',monospace\">Completed <span style=\"color: #008080; text-decoration-color: #008080; font-weight: bold\">60</span>\n",
       "</pre>\n"
      ],
      "text/plain": [
       "Completed \u001b[1;36m60\u001b[0m\n"
      ]
     },
     "metadata": {},
     "output_type": "display_data"
    },
    {
     "data": {
      "text/html": [
       "<pre style=\"white-space:pre;overflow-x:auto;line-height:normal;font-family:Menlo,'DejaVu Sans Mono',consolas,'Courier New',monospace\">Completed <span style=\"color: #008080; text-decoration-color: #008080; font-weight: bold\">70</span>\n",
       "</pre>\n"
      ],
      "text/plain": [
       "Completed \u001b[1;36m70\u001b[0m\n"
      ]
     },
     "metadata": {},
     "output_type": "display_data"
    },
    {
     "data": {
      "text/html": [
       "<pre style=\"white-space:pre;overflow-x:auto;line-height:normal;font-family:Menlo,'DejaVu Sans Mono',consolas,'Courier New',monospace\">Completed <span style=\"color: #008080; text-decoration-color: #008080; font-weight: bold\">80</span>\n",
       "</pre>\n"
      ],
      "text/plain": [
       "Completed \u001b[1;36m80\u001b[0m\n"
      ]
     },
     "metadata": {},
     "output_type": "display_data"
    },
    {
     "data": {
      "text/html": [
       "<pre style=\"white-space:pre;overflow-x:auto;line-height:normal;font-family:Menlo,'DejaVu Sans Mono',consolas,'Courier New',monospace\">Completed <span style=\"color: #008080; text-decoration-color: #008080; font-weight: bold\">90</span>\n",
       "</pre>\n"
      ],
      "text/plain": [
       "Completed \u001b[1;36m90\u001b[0m\n"
      ]
     },
     "metadata": {},
     "output_type": "display_data"
    },
    {
     "data": {
      "text/html": [
       "<pre style=\"white-space:pre;overflow-x:auto;line-height:normal;font-family:Menlo,'DejaVu Sans Mono',consolas,'Courier New',monospace\">Completed <span style=\"color: #008080; text-decoration-color: #008080; font-weight: bold\">100</span>\n",
       "</pre>\n"
      ],
      "text/plain": [
       "Completed \u001b[1;36m100\u001b[0m\n"
      ]
     },
     "metadata": {},
     "output_type": "display_data"
    },
    {
     "data": {
      "text/html": [
       "<pre style=\"white-space:pre;overflow-x:auto;line-height:normal;font-family:Menlo,'DejaVu Sans Mono',consolas,'Courier New',monospace\">Completed <span style=\"color: #008080; text-decoration-color: #008080; font-weight: bold\">110</span>\n",
       "</pre>\n"
      ],
      "text/plain": [
       "Completed \u001b[1;36m110\u001b[0m\n"
      ]
     },
     "metadata": {},
     "output_type": "display_data"
    },
    {
     "data": {
      "text/html": [
       "<pre style=\"white-space:pre;overflow-x:auto;line-height:normal;font-family:Menlo,'DejaVu Sans Mono',consolas,'Courier New',monospace\">Completed <span style=\"color: #008080; text-decoration-color: #008080; font-weight: bold\">120</span>\n",
       "</pre>\n"
      ],
      "text/plain": [
       "Completed \u001b[1;36m120\u001b[0m\n"
      ]
     },
     "metadata": {},
     "output_type": "display_data"
    },
    {
     "name": "stdout",
     "output_type": "stream",
     "text": [
      "SAVE TO CSV FINISHED\n",
      "SAVE ROUGE TO CSV FINISHED\n",
      "STEP:  0 / 125\n"
     ]
    },
    {
     "data": {
      "text/html": [
       "<pre style=\"white-space:pre;overflow-x:auto;line-height:normal;font-family:Menlo,'DejaVu Sans Mono',consolas,'Courier New',monospace\"><span style=\"font-style: italic\">                                Training Status                                </span>\n",
       "+-----------------------------------------------------------------------------+\n",
       "|<span style=\"font-weight: bold\">Epoch </span>|<span style=\"font-weight: bold\">  Steps  </span>|<span style=\"font-weight: bold\">                            Loss                            </span>|\n",
       "|------+---------+------------------------------------------------------------|\n",
       "|  0   |  0/125  | tensor(6.9166, device='cuda:1', grad_fn=&lt;NllLossBackward0&gt;)|\n",
       "|  0   | 10/125  | tensor(6.0950, device='cuda:1', grad_fn=&lt;NllLossBackward0&gt;)|\n",
       "|  0   | 20/125  | tensor(6.0341, device='cuda:1', grad_fn=&lt;NllLossBackward0&gt;)|\n",
       "|  0   | 30/125  | tensor(6.6680, device='cuda:1', grad_fn=&lt;NllLossBackward0&gt;)|\n",
       "|  0   | 40/125  | tensor(6.0066, device='cuda:1', grad_fn=&lt;NllLossBackward0&gt;)|\n",
       "|  0   | 50/125  | tensor(5.5205, device='cuda:1', grad_fn=&lt;NllLossBackward0&gt;)|\n",
       "|  0   | 60/125  | tensor(5.8240, device='cuda:1', grad_fn=&lt;NllLossBackward0&gt;)|\n",
       "|  0   | 70/125  | tensor(6.2952, device='cuda:1', grad_fn=&lt;NllLossBackward0&gt;)|\n",
       "|  0   | 80/125  | tensor(5.8856, device='cuda:1', grad_fn=&lt;NllLossBackward0&gt;)|\n",
       "|  0   | 90/125  | tensor(5.5936, device='cuda:1', grad_fn=&lt;NllLossBackward0&gt;)|\n",
       "|  0   | 100/125 | tensor(5.3247, device='cuda:1', grad_fn=&lt;NllLossBackward0&gt;)|\n",
       "|  0   | 110/125 | tensor(5.3783, device='cuda:1', grad_fn=&lt;NllLossBackward0&gt;)|\n",
       "|  0   | 120/125 | tensor(5.4052, device='cuda:1', grad_fn=&lt;NllLossBackward0&gt;)|\n",
       "|  1   |  0/125  | tensor(5.7932, device='cuda:1', grad_fn=&lt;NllLossBackward0&gt;)|\n",
       "|  1   | 10/125  | tensor(5.5280, device='cuda:1', grad_fn=&lt;NllLossBackward0&gt;)|\n",
       "|  1   | 20/125  | tensor(5.5987, device='cuda:1', grad_fn=&lt;NllLossBackward0&gt;)|\n",
       "|  1   | 30/125  | tensor(5.4186, device='cuda:1', grad_fn=&lt;NllLossBackward0&gt;)|\n",
       "|  1   | 40/125  | tensor(5.5799, device='cuda:1', grad_fn=&lt;NllLossBackward0&gt;)|\n",
       "|  1   | 50/125  | tensor(5.7063, device='cuda:1', grad_fn=&lt;NllLossBackward0&gt;)|\n",
       "|  1   | 60/125  | tensor(5.2048, device='cuda:1', grad_fn=&lt;NllLossBackward0&gt;)|\n",
       "|  1   | 70/125  | tensor(5.5670, device='cuda:1', grad_fn=&lt;NllLossBackward0&gt;)|\n",
       "|  1   | 80/125  | tensor(5.7379, device='cuda:1', grad_fn=&lt;NllLossBackward0&gt;)|\n",
       "|  1   | 90/125  | tensor(5.4400, device='cuda:1', grad_fn=&lt;NllLossBackward0&gt;)|\n",
       "|  1   | 100/125 | tensor(5.0054, device='cuda:1', grad_fn=&lt;NllLossBackward0&gt;)|\n",
       "|  1   | 110/125 | tensor(5.5825, device='cuda:1', grad_fn=&lt;NllLossBackward0&gt;)|\n",
       "|  1   | 120/125 | tensor(4.9728, device='cuda:1', grad_fn=&lt;NllLossBackward0&gt;)|\n",
       "|  2   |  0/125  | tensor(5.2219, device='cuda:1', grad_fn=&lt;NllLossBackward0&gt;)|\n",
       "+-----------------------------------------------------------------------------+\n",
       "</pre>\n"
      ],
      "text/plain": [
       "\u001b[3m                                Training Status                                \u001b[0m\n",
       "+-----------------------------------------------------------------------------+\n",
       "|\u001b[1mEpoch\u001b[0m\u001b[1m \u001b[0m|\u001b[1m \u001b[0m\u001b[1m Steps \u001b[0m\u001b[1m \u001b[0m|\u001b[1m \u001b[0m\u001b[1m                           Loss                            \u001b[0m|\n",
       "|------+---------+------------------------------------------------------------|\n",
       "|  0   |  0/125  | tensor(6.9166, device='cuda:1', grad_fn=<NllLossBackward0>)|\n",
       "|  0   | 10/125  | tensor(6.0950, device='cuda:1', grad_fn=<NllLossBackward0>)|\n",
       "|  0   | 20/125  | tensor(6.0341, device='cuda:1', grad_fn=<NllLossBackward0>)|\n",
       "|  0   | 30/125  | tensor(6.6680, device='cuda:1', grad_fn=<NllLossBackward0>)|\n",
       "|  0   | 40/125  | tensor(6.0066, device='cuda:1', grad_fn=<NllLossBackward0>)|\n",
       "|  0   | 50/125  | tensor(5.5205, device='cuda:1', grad_fn=<NllLossBackward0>)|\n",
       "|  0   | 60/125  | tensor(5.8240, device='cuda:1', grad_fn=<NllLossBackward0>)|\n",
       "|  0   | 70/125  | tensor(6.2952, device='cuda:1', grad_fn=<NllLossBackward0>)|\n",
       "|  0   | 80/125  | tensor(5.8856, device='cuda:1', grad_fn=<NllLossBackward0>)|\n",
       "|  0   | 90/125  | tensor(5.5936, device='cuda:1', grad_fn=<NllLossBackward0>)|\n",
       "|  0   | 100/125 | tensor(5.3247, device='cuda:1', grad_fn=<NllLossBackward0>)|\n",
       "|  0   | 110/125 | tensor(5.3783, device='cuda:1', grad_fn=<NllLossBackward0>)|\n",
       "|  0   | 120/125 | tensor(5.4052, device='cuda:1', grad_fn=<NllLossBackward0>)|\n",
       "|  1   |  0/125  | tensor(5.7932, device='cuda:1', grad_fn=<NllLossBackward0>)|\n",
       "|  1   | 10/125  | tensor(5.5280, device='cuda:1', grad_fn=<NllLossBackward0>)|\n",
       "|  1   | 20/125  | tensor(5.5987, device='cuda:1', grad_fn=<NllLossBackward0>)|\n",
       "|  1   | 30/125  | tensor(5.4186, device='cuda:1', grad_fn=<NllLossBackward0>)|\n",
       "|  1   | 40/125  | tensor(5.5799, device='cuda:1', grad_fn=<NllLossBackward0>)|\n",
       "|  1   | 50/125  | tensor(5.7063, device='cuda:1', grad_fn=<NllLossBackward0>)|\n",
       "|  1   | 60/125  | tensor(5.2048, device='cuda:1', grad_fn=<NllLossBackward0>)|\n",
       "|  1   | 70/125  | tensor(5.5670, device='cuda:1', grad_fn=<NllLossBackward0>)|\n",
       "|  1   | 80/125  | tensor(5.7379, device='cuda:1', grad_fn=<NllLossBackward0>)|\n",
       "|  1   | 90/125  | tensor(5.4400, device='cuda:1', grad_fn=<NllLossBackward0>)|\n",
       "|  1   | 100/125 | tensor(5.0054, device='cuda:1', grad_fn=<NllLossBackward0>)|\n",
       "|  1   | 110/125 | tensor(5.5825, device='cuda:1', grad_fn=<NllLossBackward0>)|\n",
       "|  1   | 120/125 | tensor(4.9728, device='cuda:1', grad_fn=<NllLossBackward0>)|\n",
       "|  2   |  0/125  | tensor(5.2219, device='cuda:1', grad_fn=<NllLossBackward0>)|\n",
       "+-----------------------------------------------------------------------------+\n"
      ]
     },
     "metadata": {},
     "output_type": "display_data"
    },
    {
     "name": "stdout",
     "output_type": "stream",
     "text": [
      "STEP:  10 / 125\n"
     ]
    },
    {
     "data": {
      "text/html": [
       "<pre style=\"white-space:pre;overflow-x:auto;line-height:normal;font-family:Menlo,'DejaVu Sans Mono',consolas,'Courier New',monospace\"><span style=\"font-style: italic\">                                Training Status                                </span>\n",
       "+-----------------------------------------------------------------------------+\n",
       "|<span style=\"font-weight: bold\">Epoch </span>|<span style=\"font-weight: bold\">  Steps  </span>|<span style=\"font-weight: bold\">                            Loss                            </span>|\n",
       "|------+---------+------------------------------------------------------------|\n",
       "|  0   |  0/125  | tensor(6.9166, device='cuda:1', grad_fn=&lt;NllLossBackward0&gt;)|\n",
       "|  0   | 10/125  | tensor(6.0950, device='cuda:1', grad_fn=&lt;NllLossBackward0&gt;)|\n",
       "|  0   | 20/125  | tensor(6.0341, device='cuda:1', grad_fn=&lt;NllLossBackward0&gt;)|\n",
       "|  0   | 30/125  | tensor(6.6680, device='cuda:1', grad_fn=&lt;NllLossBackward0&gt;)|\n",
       "|  0   | 40/125  | tensor(6.0066, device='cuda:1', grad_fn=&lt;NllLossBackward0&gt;)|\n",
       "|  0   | 50/125  | tensor(5.5205, device='cuda:1', grad_fn=&lt;NllLossBackward0&gt;)|\n",
       "|  0   | 60/125  | tensor(5.8240, device='cuda:1', grad_fn=&lt;NllLossBackward0&gt;)|\n",
       "|  0   | 70/125  | tensor(6.2952, device='cuda:1', grad_fn=&lt;NllLossBackward0&gt;)|\n",
       "|  0   | 80/125  | tensor(5.8856, device='cuda:1', grad_fn=&lt;NllLossBackward0&gt;)|\n",
       "|  0   | 90/125  | tensor(5.5936, device='cuda:1', grad_fn=&lt;NllLossBackward0&gt;)|\n",
       "|  0   | 100/125 | tensor(5.3247, device='cuda:1', grad_fn=&lt;NllLossBackward0&gt;)|\n",
       "|  0   | 110/125 | tensor(5.3783, device='cuda:1', grad_fn=&lt;NllLossBackward0&gt;)|\n",
       "|  0   | 120/125 | tensor(5.4052, device='cuda:1', grad_fn=&lt;NllLossBackward0&gt;)|\n",
       "|  1   |  0/125  | tensor(5.7932, device='cuda:1', grad_fn=&lt;NllLossBackward0&gt;)|\n",
       "|  1   | 10/125  | tensor(5.5280, device='cuda:1', grad_fn=&lt;NllLossBackward0&gt;)|\n",
       "|  1   | 20/125  | tensor(5.5987, device='cuda:1', grad_fn=&lt;NllLossBackward0&gt;)|\n",
       "|  1   | 30/125  | tensor(5.4186, device='cuda:1', grad_fn=&lt;NllLossBackward0&gt;)|\n",
       "|  1   | 40/125  | tensor(5.5799, device='cuda:1', grad_fn=&lt;NllLossBackward0&gt;)|\n",
       "|  1   | 50/125  | tensor(5.7063, device='cuda:1', grad_fn=&lt;NllLossBackward0&gt;)|\n",
       "|  1   | 60/125  | tensor(5.2048, device='cuda:1', grad_fn=&lt;NllLossBackward0&gt;)|\n",
       "|  1   | 70/125  | tensor(5.5670, device='cuda:1', grad_fn=&lt;NllLossBackward0&gt;)|\n",
       "|  1   | 80/125  | tensor(5.7379, device='cuda:1', grad_fn=&lt;NllLossBackward0&gt;)|\n",
       "|  1   | 90/125  | tensor(5.4400, device='cuda:1', grad_fn=&lt;NllLossBackward0&gt;)|\n",
       "|  1   | 100/125 | tensor(5.0054, device='cuda:1', grad_fn=&lt;NllLossBackward0&gt;)|\n",
       "|  1   | 110/125 | tensor(5.5825, device='cuda:1', grad_fn=&lt;NllLossBackward0&gt;)|\n",
       "|  1   | 120/125 | tensor(4.9728, device='cuda:1', grad_fn=&lt;NllLossBackward0&gt;)|\n",
       "|  2   |  0/125  | tensor(5.2219, device='cuda:1', grad_fn=&lt;NllLossBackward0&gt;)|\n",
       "|  2   | 10/125  | tensor(5.0607, device='cuda:1', grad_fn=&lt;NllLossBackward0&gt;)|\n",
       "+-----------------------------------------------------------------------------+\n",
       "</pre>\n"
      ],
      "text/plain": [
       "\u001b[3m                                Training Status                                \u001b[0m\n",
       "+-----------------------------------------------------------------------------+\n",
       "|\u001b[1mEpoch\u001b[0m\u001b[1m \u001b[0m|\u001b[1m \u001b[0m\u001b[1m Steps \u001b[0m\u001b[1m \u001b[0m|\u001b[1m \u001b[0m\u001b[1m                           Loss                            \u001b[0m|\n",
       "|------+---------+------------------------------------------------------------|\n",
       "|  0   |  0/125  | tensor(6.9166, device='cuda:1', grad_fn=<NllLossBackward0>)|\n",
       "|  0   | 10/125  | tensor(6.0950, device='cuda:1', grad_fn=<NllLossBackward0>)|\n",
       "|  0   | 20/125  | tensor(6.0341, device='cuda:1', grad_fn=<NllLossBackward0>)|\n",
       "|  0   | 30/125  | tensor(6.6680, device='cuda:1', grad_fn=<NllLossBackward0>)|\n",
       "|  0   | 40/125  | tensor(6.0066, device='cuda:1', grad_fn=<NllLossBackward0>)|\n",
       "|  0   | 50/125  | tensor(5.5205, device='cuda:1', grad_fn=<NllLossBackward0>)|\n",
       "|  0   | 60/125  | tensor(5.8240, device='cuda:1', grad_fn=<NllLossBackward0>)|\n",
       "|  0   | 70/125  | tensor(6.2952, device='cuda:1', grad_fn=<NllLossBackward0>)|\n",
       "|  0   | 80/125  | tensor(5.8856, device='cuda:1', grad_fn=<NllLossBackward0>)|\n",
       "|  0   | 90/125  | tensor(5.5936, device='cuda:1', grad_fn=<NllLossBackward0>)|\n",
       "|  0   | 100/125 | tensor(5.3247, device='cuda:1', grad_fn=<NllLossBackward0>)|\n",
       "|  0   | 110/125 | tensor(5.3783, device='cuda:1', grad_fn=<NllLossBackward0>)|\n",
       "|  0   | 120/125 | tensor(5.4052, device='cuda:1', grad_fn=<NllLossBackward0>)|\n",
       "|  1   |  0/125  | tensor(5.7932, device='cuda:1', grad_fn=<NllLossBackward0>)|\n",
       "|  1   | 10/125  | tensor(5.5280, device='cuda:1', grad_fn=<NllLossBackward0>)|\n",
       "|  1   | 20/125  | tensor(5.5987, device='cuda:1', grad_fn=<NllLossBackward0>)|\n",
       "|  1   | 30/125  | tensor(5.4186, device='cuda:1', grad_fn=<NllLossBackward0>)|\n",
       "|  1   | 40/125  | tensor(5.5799, device='cuda:1', grad_fn=<NllLossBackward0>)|\n",
       "|  1   | 50/125  | tensor(5.7063, device='cuda:1', grad_fn=<NllLossBackward0>)|\n",
       "|  1   | 60/125  | tensor(5.2048, device='cuda:1', grad_fn=<NllLossBackward0>)|\n",
       "|  1   | 70/125  | tensor(5.5670, device='cuda:1', grad_fn=<NllLossBackward0>)|\n",
       "|  1   | 80/125  | tensor(5.7379, device='cuda:1', grad_fn=<NllLossBackward0>)|\n",
       "|  1   | 90/125  | tensor(5.4400, device='cuda:1', grad_fn=<NllLossBackward0>)|\n",
       "|  1   | 100/125 | tensor(5.0054, device='cuda:1', grad_fn=<NllLossBackward0>)|\n",
       "|  1   | 110/125 | tensor(5.5825, device='cuda:1', grad_fn=<NllLossBackward0>)|\n",
       "|  1   | 120/125 | tensor(4.9728, device='cuda:1', grad_fn=<NllLossBackward0>)|\n",
       "|  2   |  0/125  | tensor(5.2219, device='cuda:1', grad_fn=<NllLossBackward0>)|\n",
       "|  2   | 10/125  | tensor(5.0607, device='cuda:1', grad_fn=<NllLossBackward0>)|\n",
       "+-----------------------------------------------------------------------------+\n"
      ]
     },
     "metadata": {},
     "output_type": "display_data"
    },
    {
     "name": "stdout",
     "output_type": "stream",
     "text": [
      "STEP:  20 / 125\n"
     ]
    },
    {
     "data": {
      "text/html": [
       "<pre style=\"white-space:pre;overflow-x:auto;line-height:normal;font-family:Menlo,'DejaVu Sans Mono',consolas,'Courier New',monospace\"><span style=\"font-style: italic\">                                Training Status                                </span>\n",
       "+-----------------------------------------------------------------------------+\n",
       "|<span style=\"font-weight: bold\">Epoch </span>|<span style=\"font-weight: bold\">  Steps  </span>|<span style=\"font-weight: bold\">                            Loss                            </span>|\n",
       "|------+---------+------------------------------------------------------------|\n",
       "|  0   |  0/125  | tensor(6.9166, device='cuda:1', grad_fn=&lt;NllLossBackward0&gt;)|\n",
       "|  0   | 10/125  | tensor(6.0950, device='cuda:1', grad_fn=&lt;NllLossBackward0&gt;)|\n",
       "|  0   | 20/125  | tensor(6.0341, device='cuda:1', grad_fn=&lt;NllLossBackward0&gt;)|\n",
       "|  0   | 30/125  | tensor(6.6680, device='cuda:1', grad_fn=&lt;NllLossBackward0&gt;)|\n",
       "|  0   | 40/125  | tensor(6.0066, device='cuda:1', grad_fn=&lt;NllLossBackward0&gt;)|\n",
       "|  0   | 50/125  | tensor(5.5205, device='cuda:1', grad_fn=&lt;NllLossBackward0&gt;)|\n",
       "|  0   | 60/125  | tensor(5.8240, device='cuda:1', grad_fn=&lt;NllLossBackward0&gt;)|\n",
       "|  0   | 70/125  | tensor(6.2952, device='cuda:1', grad_fn=&lt;NllLossBackward0&gt;)|\n",
       "|  0   | 80/125  | tensor(5.8856, device='cuda:1', grad_fn=&lt;NllLossBackward0&gt;)|\n",
       "|  0   | 90/125  | tensor(5.5936, device='cuda:1', grad_fn=&lt;NllLossBackward0&gt;)|\n",
       "|  0   | 100/125 | tensor(5.3247, device='cuda:1', grad_fn=&lt;NllLossBackward0&gt;)|\n",
       "|  0   | 110/125 | tensor(5.3783, device='cuda:1', grad_fn=&lt;NllLossBackward0&gt;)|\n",
       "|  0   | 120/125 | tensor(5.4052, device='cuda:1', grad_fn=&lt;NllLossBackward0&gt;)|\n",
       "|  1   |  0/125  | tensor(5.7932, device='cuda:1', grad_fn=&lt;NllLossBackward0&gt;)|\n",
       "|  1   | 10/125  | tensor(5.5280, device='cuda:1', grad_fn=&lt;NllLossBackward0&gt;)|\n",
       "|  1   | 20/125  | tensor(5.5987, device='cuda:1', grad_fn=&lt;NllLossBackward0&gt;)|\n",
       "|  1   | 30/125  | tensor(5.4186, device='cuda:1', grad_fn=&lt;NllLossBackward0&gt;)|\n",
       "|  1   | 40/125  | tensor(5.5799, device='cuda:1', grad_fn=&lt;NllLossBackward0&gt;)|\n",
       "|  1   | 50/125  | tensor(5.7063, device='cuda:1', grad_fn=&lt;NllLossBackward0&gt;)|\n",
       "|  1   | 60/125  | tensor(5.2048, device='cuda:1', grad_fn=&lt;NllLossBackward0&gt;)|\n",
       "|  1   | 70/125  | tensor(5.5670, device='cuda:1', grad_fn=&lt;NllLossBackward0&gt;)|\n",
       "|  1   | 80/125  | tensor(5.7379, device='cuda:1', grad_fn=&lt;NllLossBackward0&gt;)|\n",
       "|  1   | 90/125  | tensor(5.4400, device='cuda:1', grad_fn=&lt;NllLossBackward0&gt;)|\n",
       "|  1   | 100/125 | tensor(5.0054, device='cuda:1', grad_fn=&lt;NllLossBackward0&gt;)|\n",
       "|  1   | 110/125 | tensor(5.5825, device='cuda:1', grad_fn=&lt;NllLossBackward0&gt;)|\n",
       "|  1   | 120/125 | tensor(4.9728, device='cuda:1', grad_fn=&lt;NllLossBackward0&gt;)|\n",
       "|  2   |  0/125  | tensor(5.2219, device='cuda:1', grad_fn=&lt;NllLossBackward0&gt;)|\n",
       "|  2   | 10/125  | tensor(5.0607, device='cuda:1', grad_fn=&lt;NllLossBackward0&gt;)|\n",
       "|  2   | 20/125  | tensor(4.9993, device='cuda:1', grad_fn=&lt;NllLossBackward0&gt;)|\n",
       "+-----------------------------------------------------------------------------+\n",
       "</pre>\n"
      ],
      "text/plain": [
       "\u001b[3m                                Training Status                                \u001b[0m\n",
       "+-----------------------------------------------------------------------------+\n",
       "|\u001b[1mEpoch\u001b[0m\u001b[1m \u001b[0m|\u001b[1m \u001b[0m\u001b[1m Steps \u001b[0m\u001b[1m \u001b[0m|\u001b[1m \u001b[0m\u001b[1m                           Loss                            \u001b[0m|\n",
       "|------+---------+------------------------------------------------------------|\n",
       "|  0   |  0/125  | tensor(6.9166, device='cuda:1', grad_fn=<NllLossBackward0>)|\n",
       "|  0   | 10/125  | tensor(6.0950, device='cuda:1', grad_fn=<NllLossBackward0>)|\n",
       "|  0   | 20/125  | tensor(6.0341, device='cuda:1', grad_fn=<NllLossBackward0>)|\n",
       "|  0   | 30/125  | tensor(6.6680, device='cuda:1', grad_fn=<NllLossBackward0>)|\n",
       "|  0   | 40/125  | tensor(6.0066, device='cuda:1', grad_fn=<NllLossBackward0>)|\n",
       "|  0   | 50/125  | tensor(5.5205, device='cuda:1', grad_fn=<NllLossBackward0>)|\n",
       "|  0   | 60/125  | tensor(5.8240, device='cuda:1', grad_fn=<NllLossBackward0>)|\n",
       "|  0   | 70/125  | tensor(6.2952, device='cuda:1', grad_fn=<NllLossBackward0>)|\n",
       "|  0   | 80/125  | tensor(5.8856, device='cuda:1', grad_fn=<NllLossBackward0>)|\n",
       "|  0   | 90/125  | tensor(5.5936, device='cuda:1', grad_fn=<NllLossBackward0>)|\n",
       "|  0   | 100/125 | tensor(5.3247, device='cuda:1', grad_fn=<NllLossBackward0>)|\n",
       "|  0   | 110/125 | tensor(5.3783, device='cuda:1', grad_fn=<NllLossBackward0>)|\n",
       "|  0   | 120/125 | tensor(5.4052, device='cuda:1', grad_fn=<NllLossBackward0>)|\n",
       "|  1   |  0/125  | tensor(5.7932, device='cuda:1', grad_fn=<NllLossBackward0>)|\n",
       "|  1   | 10/125  | tensor(5.5280, device='cuda:1', grad_fn=<NllLossBackward0>)|\n",
       "|  1   | 20/125  | tensor(5.5987, device='cuda:1', grad_fn=<NllLossBackward0>)|\n",
       "|  1   | 30/125  | tensor(5.4186, device='cuda:1', grad_fn=<NllLossBackward0>)|\n",
       "|  1   | 40/125  | tensor(5.5799, device='cuda:1', grad_fn=<NllLossBackward0>)|\n",
       "|  1   | 50/125  | tensor(5.7063, device='cuda:1', grad_fn=<NllLossBackward0>)|\n",
       "|  1   | 60/125  | tensor(5.2048, device='cuda:1', grad_fn=<NllLossBackward0>)|\n",
       "|  1   | 70/125  | tensor(5.5670, device='cuda:1', grad_fn=<NllLossBackward0>)|\n",
       "|  1   | 80/125  | tensor(5.7379, device='cuda:1', grad_fn=<NllLossBackward0>)|\n",
       "|  1   | 90/125  | tensor(5.4400, device='cuda:1', grad_fn=<NllLossBackward0>)|\n",
       "|  1   | 100/125 | tensor(5.0054, device='cuda:1', grad_fn=<NllLossBackward0>)|\n",
       "|  1   | 110/125 | tensor(5.5825, device='cuda:1', grad_fn=<NllLossBackward0>)|\n",
       "|  1   | 120/125 | tensor(4.9728, device='cuda:1', grad_fn=<NllLossBackward0>)|\n",
       "|  2   |  0/125  | tensor(5.2219, device='cuda:1', grad_fn=<NllLossBackward0>)|\n",
       "|  2   | 10/125  | tensor(5.0607, device='cuda:1', grad_fn=<NllLossBackward0>)|\n",
       "|  2   | 20/125  | tensor(4.9993, device='cuda:1', grad_fn=<NllLossBackward0>)|\n",
       "+-----------------------------------------------------------------------------+\n"
      ]
     },
     "metadata": {},
     "output_type": "display_data"
    },
    {
     "name": "stdout",
     "output_type": "stream",
     "text": [
      "STEP:  30 / 125\n"
     ]
    },
    {
     "data": {
      "text/html": [
       "<pre style=\"white-space:pre;overflow-x:auto;line-height:normal;font-family:Menlo,'DejaVu Sans Mono',consolas,'Courier New',monospace\"><span style=\"font-style: italic\">                                Training Status                                </span>\n",
       "+-----------------------------------------------------------------------------+\n",
       "|<span style=\"font-weight: bold\">Epoch </span>|<span style=\"font-weight: bold\">  Steps  </span>|<span style=\"font-weight: bold\">                            Loss                            </span>|\n",
       "|------+---------+------------------------------------------------------------|\n",
       "|  0   |  0/125  | tensor(6.9166, device='cuda:1', grad_fn=&lt;NllLossBackward0&gt;)|\n",
       "|  0   | 10/125  | tensor(6.0950, device='cuda:1', grad_fn=&lt;NllLossBackward0&gt;)|\n",
       "|  0   | 20/125  | tensor(6.0341, device='cuda:1', grad_fn=&lt;NllLossBackward0&gt;)|\n",
       "|  0   | 30/125  | tensor(6.6680, device='cuda:1', grad_fn=&lt;NllLossBackward0&gt;)|\n",
       "|  0   | 40/125  | tensor(6.0066, device='cuda:1', grad_fn=&lt;NllLossBackward0&gt;)|\n",
       "|  0   | 50/125  | tensor(5.5205, device='cuda:1', grad_fn=&lt;NllLossBackward0&gt;)|\n",
       "|  0   | 60/125  | tensor(5.8240, device='cuda:1', grad_fn=&lt;NllLossBackward0&gt;)|\n",
       "|  0   | 70/125  | tensor(6.2952, device='cuda:1', grad_fn=&lt;NllLossBackward0&gt;)|\n",
       "|  0   | 80/125  | tensor(5.8856, device='cuda:1', grad_fn=&lt;NllLossBackward0&gt;)|\n",
       "|  0   | 90/125  | tensor(5.5936, device='cuda:1', grad_fn=&lt;NllLossBackward0&gt;)|\n",
       "|  0   | 100/125 | tensor(5.3247, device='cuda:1', grad_fn=&lt;NllLossBackward0&gt;)|\n",
       "|  0   | 110/125 | tensor(5.3783, device='cuda:1', grad_fn=&lt;NllLossBackward0&gt;)|\n",
       "|  0   | 120/125 | tensor(5.4052, device='cuda:1', grad_fn=&lt;NllLossBackward0&gt;)|\n",
       "|  1   |  0/125  | tensor(5.7932, device='cuda:1', grad_fn=&lt;NllLossBackward0&gt;)|\n",
       "|  1   | 10/125  | tensor(5.5280, device='cuda:1', grad_fn=&lt;NllLossBackward0&gt;)|\n",
       "|  1   | 20/125  | tensor(5.5987, device='cuda:1', grad_fn=&lt;NllLossBackward0&gt;)|\n",
       "|  1   | 30/125  | tensor(5.4186, device='cuda:1', grad_fn=&lt;NllLossBackward0&gt;)|\n",
       "|  1   | 40/125  | tensor(5.5799, device='cuda:1', grad_fn=&lt;NllLossBackward0&gt;)|\n",
       "|  1   | 50/125  | tensor(5.7063, device='cuda:1', grad_fn=&lt;NllLossBackward0&gt;)|\n",
       "|  1   | 60/125  | tensor(5.2048, device='cuda:1', grad_fn=&lt;NllLossBackward0&gt;)|\n",
       "|  1   | 70/125  | tensor(5.5670, device='cuda:1', grad_fn=&lt;NllLossBackward0&gt;)|\n",
       "|  1   | 80/125  | tensor(5.7379, device='cuda:1', grad_fn=&lt;NllLossBackward0&gt;)|\n",
       "|  1   | 90/125  | tensor(5.4400, device='cuda:1', grad_fn=&lt;NllLossBackward0&gt;)|\n",
       "|  1   | 100/125 | tensor(5.0054, device='cuda:1', grad_fn=&lt;NllLossBackward0&gt;)|\n",
       "|  1   | 110/125 | tensor(5.5825, device='cuda:1', grad_fn=&lt;NllLossBackward0&gt;)|\n",
       "|  1   | 120/125 | tensor(4.9728, device='cuda:1', grad_fn=&lt;NllLossBackward0&gt;)|\n",
       "|  2   |  0/125  | tensor(5.2219, device='cuda:1', grad_fn=&lt;NllLossBackward0&gt;)|\n",
       "|  2   | 10/125  | tensor(5.0607, device='cuda:1', grad_fn=&lt;NllLossBackward0&gt;)|\n",
       "|  2   | 20/125  | tensor(4.9993, device='cuda:1', grad_fn=&lt;NllLossBackward0&gt;)|\n",
       "|  2   | 30/125  | tensor(5.0697, device='cuda:1', grad_fn=&lt;NllLossBackward0&gt;)|\n",
       "+-----------------------------------------------------------------------------+\n",
       "</pre>\n"
      ],
      "text/plain": [
       "\u001b[3m                                Training Status                                \u001b[0m\n",
       "+-----------------------------------------------------------------------------+\n",
       "|\u001b[1mEpoch\u001b[0m\u001b[1m \u001b[0m|\u001b[1m \u001b[0m\u001b[1m Steps \u001b[0m\u001b[1m \u001b[0m|\u001b[1m \u001b[0m\u001b[1m                           Loss                            \u001b[0m|\n",
       "|------+---------+------------------------------------------------------------|\n",
       "|  0   |  0/125  | tensor(6.9166, device='cuda:1', grad_fn=<NllLossBackward0>)|\n",
       "|  0   | 10/125  | tensor(6.0950, device='cuda:1', grad_fn=<NllLossBackward0>)|\n",
       "|  0   | 20/125  | tensor(6.0341, device='cuda:1', grad_fn=<NllLossBackward0>)|\n",
       "|  0   | 30/125  | tensor(6.6680, device='cuda:1', grad_fn=<NllLossBackward0>)|\n",
       "|  0   | 40/125  | tensor(6.0066, device='cuda:1', grad_fn=<NllLossBackward0>)|\n",
       "|  0   | 50/125  | tensor(5.5205, device='cuda:1', grad_fn=<NllLossBackward0>)|\n",
       "|  0   | 60/125  | tensor(5.8240, device='cuda:1', grad_fn=<NllLossBackward0>)|\n",
       "|  0   | 70/125  | tensor(6.2952, device='cuda:1', grad_fn=<NllLossBackward0>)|\n",
       "|  0   | 80/125  | tensor(5.8856, device='cuda:1', grad_fn=<NllLossBackward0>)|\n",
       "|  0   | 90/125  | tensor(5.5936, device='cuda:1', grad_fn=<NllLossBackward0>)|\n",
       "|  0   | 100/125 | tensor(5.3247, device='cuda:1', grad_fn=<NllLossBackward0>)|\n",
       "|  0   | 110/125 | tensor(5.3783, device='cuda:1', grad_fn=<NllLossBackward0>)|\n",
       "|  0   | 120/125 | tensor(5.4052, device='cuda:1', grad_fn=<NllLossBackward0>)|\n",
       "|  1   |  0/125  | tensor(5.7932, device='cuda:1', grad_fn=<NllLossBackward0>)|\n",
       "|  1   | 10/125  | tensor(5.5280, device='cuda:1', grad_fn=<NllLossBackward0>)|\n",
       "|  1   | 20/125  | tensor(5.5987, device='cuda:1', grad_fn=<NllLossBackward0>)|\n",
       "|  1   | 30/125  | tensor(5.4186, device='cuda:1', grad_fn=<NllLossBackward0>)|\n",
       "|  1   | 40/125  | tensor(5.5799, device='cuda:1', grad_fn=<NllLossBackward0>)|\n",
       "|  1   | 50/125  | tensor(5.7063, device='cuda:1', grad_fn=<NllLossBackward0>)|\n",
       "|  1   | 60/125  | tensor(5.2048, device='cuda:1', grad_fn=<NllLossBackward0>)|\n",
       "|  1   | 70/125  | tensor(5.5670, device='cuda:1', grad_fn=<NllLossBackward0>)|\n",
       "|  1   | 80/125  | tensor(5.7379, device='cuda:1', grad_fn=<NllLossBackward0>)|\n",
       "|  1   | 90/125  | tensor(5.4400, device='cuda:1', grad_fn=<NllLossBackward0>)|\n",
       "|  1   | 100/125 | tensor(5.0054, device='cuda:1', grad_fn=<NllLossBackward0>)|\n",
       "|  1   | 110/125 | tensor(5.5825, device='cuda:1', grad_fn=<NllLossBackward0>)|\n",
       "|  1   | 120/125 | tensor(4.9728, device='cuda:1', grad_fn=<NllLossBackward0>)|\n",
       "|  2   |  0/125  | tensor(5.2219, device='cuda:1', grad_fn=<NllLossBackward0>)|\n",
       "|  2   | 10/125  | tensor(5.0607, device='cuda:1', grad_fn=<NllLossBackward0>)|\n",
       "|  2   | 20/125  | tensor(4.9993, device='cuda:1', grad_fn=<NllLossBackward0>)|\n",
       "|  2   | 30/125  | tensor(5.0697, device='cuda:1', grad_fn=<NllLossBackward0>)|\n",
       "+-----------------------------------------------------------------------------+\n"
      ]
     },
     "metadata": {},
     "output_type": "display_data"
    },
    {
     "name": "stdout",
     "output_type": "stream",
     "text": [
      "STEP:  40 / 125\n"
     ]
    },
    {
     "data": {
      "text/html": [
       "<pre style=\"white-space:pre;overflow-x:auto;line-height:normal;font-family:Menlo,'DejaVu Sans Mono',consolas,'Courier New',monospace\"><span style=\"font-style: italic\">                                Training Status                                </span>\n",
       "+-----------------------------------------------------------------------------+\n",
       "|<span style=\"font-weight: bold\">Epoch </span>|<span style=\"font-weight: bold\">  Steps  </span>|<span style=\"font-weight: bold\">                            Loss                            </span>|\n",
       "|------+---------+------------------------------------------------------------|\n",
       "|  0   |  0/125  | tensor(6.9166, device='cuda:1', grad_fn=&lt;NllLossBackward0&gt;)|\n",
       "|  0   | 10/125  | tensor(6.0950, device='cuda:1', grad_fn=&lt;NllLossBackward0&gt;)|\n",
       "|  0   | 20/125  | tensor(6.0341, device='cuda:1', grad_fn=&lt;NllLossBackward0&gt;)|\n",
       "|  0   | 30/125  | tensor(6.6680, device='cuda:1', grad_fn=&lt;NllLossBackward0&gt;)|\n",
       "|  0   | 40/125  | tensor(6.0066, device='cuda:1', grad_fn=&lt;NllLossBackward0&gt;)|\n",
       "|  0   | 50/125  | tensor(5.5205, device='cuda:1', grad_fn=&lt;NllLossBackward0&gt;)|\n",
       "|  0   | 60/125  | tensor(5.8240, device='cuda:1', grad_fn=&lt;NllLossBackward0&gt;)|\n",
       "|  0   | 70/125  | tensor(6.2952, device='cuda:1', grad_fn=&lt;NllLossBackward0&gt;)|\n",
       "|  0   | 80/125  | tensor(5.8856, device='cuda:1', grad_fn=&lt;NllLossBackward0&gt;)|\n",
       "|  0   | 90/125  | tensor(5.5936, device='cuda:1', grad_fn=&lt;NllLossBackward0&gt;)|\n",
       "|  0   | 100/125 | tensor(5.3247, device='cuda:1', grad_fn=&lt;NllLossBackward0&gt;)|\n",
       "|  0   | 110/125 | tensor(5.3783, device='cuda:1', grad_fn=&lt;NllLossBackward0&gt;)|\n",
       "|  0   | 120/125 | tensor(5.4052, device='cuda:1', grad_fn=&lt;NllLossBackward0&gt;)|\n",
       "|  1   |  0/125  | tensor(5.7932, device='cuda:1', grad_fn=&lt;NllLossBackward0&gt;)|\n",
       "|  1   | 10/125  | tensor(5.5280, device='cuda:1', grad_fn=&lt;NllLossBackward0&gt;)|\n",
       "|  1   | 20/125  | tensor(5.5987, device='cuda:1', grad_fn=&lt;NllLossBackward0&gt;)|\n",
       "|  1   | 30/125  | tensor(5.4186, device='cuda:1', grad_fn=&lt;NllLossBackward0&gt;)|\n",
       "|  1   | 40/125  | tensor(5.5799, device='cuda:1', grad_fn=&lt;NllLossBackward0&gt;)|\n",
       "|  1   | 50/125  | tensor(5.7063, device='cuda:1', grad_fn=&lt;NllLossBackward0&gt;)|\n",
       "|  1   | 60/125  | tensor(5.2048, device='cuda:1', grad_fn=&lt;NllLossBackward0&gt;)|\n",
       "|  1   | 70/125  | tensor(5.5670, device='cuda:1', grad_fn=&lt;NllLossBackward0&gt;)|\n",
       "|  1   | 80/125  | tensor(5.7379, device='cuda:1', grad_fn=&lt;NllLossBackward0&gt;)|\n",
       "|  1   | 90/125  | tensor(5.4400, device='cuda:1', grad_fn=&lt;NllLossBackward0&gt;)|\n",
       "|  1   | 100/125 | tensor(5.0054, device='cuda:1', grad_fn=&lt;NllLossBackward0&gt;)|\n",
       "|  1   | 110/125 | tensor(5.5825, device='cuda:1', grad_fn=&lt;NllLossBackward0&gt;)|\n",
       "|  1   | 120/125 | tensor(4.9728, device='cuda:1', grad_fn=&lt;NllLossBackward0&gt;)|\n",
       "|  2   |  0/125  | tensor(5.2219, device='cuda:1', grad_fn=&lt;NllLossBackward0&gt;)|\n",
       "|  2   | 10/125  | tensor(5.0607, device='cuda:1', grad_fn=&lt;NllLossBackward0&gt;)|\n",
       "|  2   | 20/125  | tensor(4.9993, device='cuda:1', grad_fn=&lt;NllLossBackward0&gt;)|\n",
       "|  2   | 30/125  | tensor(5.0697, device='cuda:1', grad_fn=&lt;NllLossBackward0&gt;)|\n",
       "|  2   | 40/125  | tensor(4.9073, device='cuda:1', grad_fn=&lt;NllLossBackward0&gt;)|\n",
       "+-----------------------------------------------------------------------------+\n",
       "</pre>\n"
      ],
      "text/plain": [
       "\u001b[3m                                Training Status                                \u001b[0m\n",
       "+-----------------------------------------------------------------------------+\n",
       "|\u001b[1mEpoch\u001b[0m\u001b[1m \u001b[0m|\u001b[1m \u001b[0m\u001b[1m Steps \u001b[0m\u001b[1m \u001b[0m|\u001b[1m \u001b[0m\u001b[1m                           Loss                            \u001b[0m|\n",
       "|------+---------+------------------------------------------------------------|\n",
       "|  0   |  0/125  | tensor(6.9166, device='cuda:1', grad_fn=<NllLossBackward0>)|\n",
       "|  0   | 10/125  | tensor(6.0950, device='cuda:1', grad_fn=<NllLossBackward0>)|\n",
       "|  0   | 20/125  | tensor(6.0341, device='cuda:1', grad_fn=<NllLossBackward0>)|\n",
       "|  0   | 30/125  | tensor(6.6680, device='cuda:1', grad_fn=<NllLossBackward0>)|\n",
       "|  0   | 40/125  | tensor(6.0066, device='cuda:1', grad_fn=<NllLossBackward0>)|\n",
       "|  0   | 50/125  | tensor(5.5205, device='cuda:1', grad_fn=<NllLossBackward0>)|\n",
       "|  0   | 60/125  | tensor(5.8240, device='cuda:1', grad_fn=<NllLossBackward0>)|\n",
       "|  0   | 70/125  | tensor(6.2952, device='cuda:1', grad_fn=<NllLossBackward0>)|\n",
       "|  0   | 80/125  | tensor(5.8856, device='cuda:1', grad_fn=<NllLossBackward0>)|\n",
       "|  0   | 90/125  | tensor(5.5936, device='cuda:1', grad_fn=<NllLossBackward0>)|\n",
       "|  0   | 100/125 | tensor(5.3247, device='cuda:1', grad_fn=<NllLossBackward0>)|\n",
       "|  0   | 110/125 | tensor(5.3783, device='cuda:1', grad_fn=<NllLossBackward0>)|\n",
       "|  0   | 120/125 | tensor(5.4052, device='cuda:1', grad_fn=<NllLossBackward0>)|\n",
       "|  1   |  0/125  | tensor(5.7932, device='cuda:1', grad_fn=<NllLossBackward0>)|\n",
       "|  1   | 10/125  | tensor(5.5280, device='cuda:1', grad_fn=<NllLossBackward0>)|\n",
       "|  1   | 20/125  | tensor(5.5987, device='cuda:1', grad_fn=<NllLossBackward0>)|\n",
       "|  1   | 30/125  | tensor(5.4186, device='cuda:1', grad_fn=<NllLossBackward0>)|\n",
       "|  1   | 40/125  | tensor(5.5799, device='cuda:1', grad_fn=<NllLossBackward0>)|\n",
       "|  1   | 50/125  | tensor(5.7063, device='cuda:1', grad_fn=<NllLossBackward0>)|\n",
       "|  1   | 60/125  | tensor(5.2048, device='cuda:1', grad_fn=<NllLossBackward0>)|\n",
       "|  1   | 70/125  | tensor(5.5670, device='cuda:1', grad_fn=<NllLossBackward0>)|\n",
       "|  1   | 80/125  | tensor(5.7379, device='cuda:1', grad_fn=<NllLossBackward0>)|\n",
       "|  1   | 90/125  | tensor(5.4400, device='cuda:1', grad_fn=<NllLossBackward0>)|\n",
       "|  1   | 100/125 | tensor(5.0054, device='cuda:1', grad_fn=<NllLossBackward0>)|\n",
       "|  1   | 110/125 | tensor(5.5825, device='cuda:1', grad_fn=<NllLossBackward0>)|\n",
       "|  1   | 120/125 | tensor(4.9728, device='cuda:1', grad_fn=<NllLossBackward0>)|\n",
       "|  2   |  0/125  | tensor(5.2219, device='cuda:1', grad_fn=<NllLossBackward0>)|\n",
       "|  2   | 10/125  | tensor(5.0607, device='cuda:1', grad_fn=<NllLossBackward0>)|\n",
       "|  2   | 20/125  | tensor(4.9993, device='cuda:1', grad_fn=<NllLossBackward0>)|\n",
       "|  2   | 30/125  | tensor(5.0697, device='cuda:1', grad_fn=<NllLossBackward0>)|\n",
       "|  2   | 40/125  | tensor(4.9073, device='cuda:1', grad_fn=<NllLossBackward0>)|\n",
       "+-----------------------------------------------------------------------------+\n"
      ]
     },
     "metadata": {},
     "output_type": "display_data"
    },
    {
     "name": "stdout",
     "output_type": "stream",
     "text": [
      "STEP:  50 / 125\n"
     ]
    },
    {
     "data": {
      "text/html": [
       "<pre style=\"white-space:pre;overflow-x:auto;line-height:normal;font-family:Menlo,'DejaVu Sans Mono',consolas,'Courier New',monospace\"><span style=\"font-style: italic\">                                Training Status                                </span>\n",
       "+-----------------------------------------------------------------------------+\n",
       "|<span style=\"font-weight: bold\">Epoch </span>|<span style=\"font-weight: bold\">  Steps  </span>|<span style=\"font-weight: bold\">                            Loss                            </span>|\n",
       "|------+---------+------------------------------------------------------------|\n",
       "|  0   |  0/125  | tensor(6.9166, device='cuda:1', grad_fn=&lt;NllLossBackward0&gt;)|\n",
       "|  0   | 10/125  | tensor(6.0950, device='cuda:1', grad_fn=&lt;NllLossBackward0&gt;)|\n",
       "|  0   | 20/125  | tensor(6.0341, device='cuda:1', grad_fn=&lt;NllLossBackward0&gt;)|\n",
       "|  0   | 30/125  | tensor(6.6680, device='cuda:1', grad_fn=&lt;NllLossBackward0&gt;)|\n",
       "|  0   | 40/125  | tensor(6.0066, device='cuda:1', grad_fn=&lt;NllLossBackward0&gt;)|\n",
       "|  0   | 50/125  | tensor(5.5205, device='cuda:1', grad_fn=&lt;NllLossBackward0&gt;)|\n",
       "|  0   | 60/125  | tensor(5.8240, device='cuda:1', grad_fn=&lt;NllLossBackward0&gt;)|\n",
       "|  0   | 70/125  | tensor(6.2952, device='cuda:1', grad_fn=&lt;NllLossBackward0&gt;)|\n",
       "|  0   | 80/125  | tensor(5.8856, device='cuda:1', grad_fn=&lt;NllLossBackward0&gt;)|\n",
       "|  0   | 90/125  | tensor(5.5936, device='cuda:1', grad_fn=&lt;NllLossBackward0&gt;)|\n",
       "|  0   | 100/125 | tensor(5.3247, device='cuda:1', grad_fn=&lt;NllLossBackward0&gt;)|\n",
       "|  0   | 110/125 | tensor(5.3783, device='cuda:1', grad_fn=&lt;NllLossBackward0&gt;)|\n",
       "|  0   | 120/125 | tensor(5.4052, device='cuda:1', grad_fn=&lt;NllLossBackward0&gt;)|\n",
       "|  1   |  0/125  | tensor(5.7932, device='cuda:1', grad_fn=&lt;NllLossBackward0&gt;)|\n",
       "|  1   | 10/125  | tensor(5.5280, device='cuda:1', grad_fn=&lt;NllLossBackward0&gt;)|\n",
       "|  1   | 20/125  | tensor(5.5987, device='cuda:1', grad_fn=&lt;NllLossBackward0&gt;)|\n",
       "|  1   | 30/125  | tensor(5.4186, device='cuda:1', grad_fn=&lt;NllLossBackward0&gt;)|\n",
       "|  1   | 40/125  | tensor(5.5799, device='cuda:1', grad_fn=&lt;NllLossBackward0&gt;)|\n",
       "|  1   | 50/125  | tensor(5.7063, device='cuda:1', grad_fn=&lt;NllLossBackward0&gt;)|\n",
       "|  1   | 60/125  | tensor(5.2048, device='cuda:1', grad_fn=&lt;NllLossBackward0&gt;)|\n",
       "|  1   | 70/125  | tensor(5.5670, device='cuda:1', grad_fn=&lt;NllLossBackward0&gt;)|\n",
       "|  1   | 80/125  | tensor(5.7379, device='cuda:1', grad_fn=&lt;NllLossBackward0&gt;)|\n",
       "|  1   | 90/125  | tensor(5.4400, device='cuda:1', grad_fn=&lt;NllLossBackward0&gt;)|\n",
       "|  1   | 100/125 | tensor(5.0054, device='cuda:1', grad_fn=&lt;NllLossBackward0&gt;)|\n",
       "|  1   | 110/125 | tensor(5.5825, device='cuda:1', grad_fn=&lt;NllLossBackward0&gt;)|\n",
       "|  1   | 120/125 | tensor(4.9728, device='cuda:1', grad_fn=&lt;NllLossBackward0&gt;)|\n",
       "|  2   |  0/125  | tensor(5.2219, device='cuda:1', grad_fn=&lt;NllLossBackward0&gt;)|\n",
       "|  2   | 10/125  | tensor(5.0607, device='cuda:1', grad_fn=&lt;NllLossBackward0&gt;)|\n",
       "|  2   | 20/125  | tensor(4.9993, device='cuda:1', grad_fn=&lt;NllLossBackward0&gt;)|\n",
       "|  2   | 30/125  | tensor(5.0697, device='cuda:1', grad_fn=&lt;NllLossBackward0&gt;)|\n",
       "|  2   | 40/125  | tensor(4.9073, device='cuda:1', grad_fn=&lt;NllLossBackward0&gt;)|\n",
       "|  2   | 50/125  | tensor(5.1232, device='cuda:1', grad_fn=&lt;NllLossBackward0&gt;)|\n",
       "+-----------------------------------------------------------------------------+\n",
       "</pre>\n"
      ],
      "text/plain": [
       "\u001b[3m                                Training Status                                \u001b[0m\n",
       "+-----------------------------------------------------------------------------+\n",
       "|\u001b[1mEpoch\u001b[0m\u001b[1m \u001b[0m|\u001b[1m \u001b[0m\u001b[1m Steps \u001b[0m\u001b[1m \u001b[0m|\u001b[1m \u001b[0m\u001b[1m                           Loss                            \u001b[0m|\n",
       "|------+---------+------------------------------------------------------------|\n",
       "|  0   |  0/125  | tensor(6.9166, device='cuda:1', grad_fn=<NllLossBackward0>)|\n",
       "|  0   | 10/125  | tensor(6.0950, device='cuda:1', grad_fn=<NllLossBackward0>)|\n",
       "|  0   | 20/125  | tensor(6.0341, device='cuda:1', grad_fn=<NllLossBackward0>)|\n",
       "|  0   | 30/125  | tensor(6.6680, device='cuda:1', grad_fn=<NllLossBackward0>)|\n",
       "|  0   | 40/125  | tensor(6.0066, device='cuda:1', grad_fn=<NllLossBackward0>)|\n",
       "|  0   | 50/125  | tensor(5.5205, device='cuda:1', grad_fn=<NllLossBackward0>)|\n",
       "|  0   | 60/125  | tensor(5.8240, device='cuda:1', grad_fn=<NllLossBackward0>)|\n",
       "|  0   | 70/125  | tensor(6.2952, device='cuda:1', grad_fn=<NllLossBackward0>)|\n",
       "|  0   | 80/125  | tensor(5.8856, device='cuda:1', grad_fn=<NllLossBackward0>)|\n",
       "|  0   | 90/125  | tensor(5.5936, device='cuda:1', grad_fn=<NllLossBackward0>)|\n",
       "|  0   | 100/125 | tensor(5.3247, device='cuda:1', grad_fn=<NllLossBackward0>)|\n",
       "|  0   | 110/125 | tensor(5.3783, device='cuda:1', grad_fn=<NllLossBackward0>)|\n",
       "|  0   | 120/125 | tensor(5.4052, device='cuda:1', grad_fn=<NllLossBackward0>)|\n",
       "|  1   |  0/125  | tensor(5.7932, device='cuda:1', grad_fn=<NllLossBackward0>)|\n",
       "|  1   | 10/125  | tensor(5.5280, device='cuda:1', grad_fn=<NllLossBackward0>)|\n",
       "|  1   | 20/125  | tensor(5.5987, device='cuda:1', grad_fn=<NllLossBackward0>)|\n",
       "|  1   | 30/125  | tensor(5.4186, device='cuda:1', grad_fn=<NllLossBackward0>)|\n",
       "|  1   | 40/125  | tensor(5.5799, device='cuda:1', grad_fn=<NllLossBackward0>)|\n",
       "|  1   | 50/125  | tensor(5.7063, device='cuda:1', grad_fn=<NllLossBackward0>)|\n",
       "|  1   | 60/125  | tensor(5.2048, device='cuda:1', grad_fn=<NllLossBackward0>)|\n",
       "|  1   | 70/125  | tensor(5.5670, device='cuda:1', grad_fn=<NllLossBackward0>)|\n",
       "|  1   | 80/125  | tensor(5.7379, device='cuda:1', grad_fn=<NllLossBackward0>)|\n",
       "|  1   | 90/125  | tensor(5.4400, device='cuda:1', grad_fn=<NllLossBackward0>)|\n",
       "|  1   | 100/125 | tensor(5.0054, device='cuda:1', grad_fn=<NllLossBackward0>)|\n",
       "|  1   | 110/125 | tensor(5.5825, device='cuda:1', grad_fn=<NllLossBackward0>)|\n",
       "|  1   | 120/125 | tensor(4.9728, device='cuda:1', grad_fn=<NllLossBackward0>)|\n",
       "|  2   |  0/125  | tensor(5.2219, device='cuda:1', grad_fn=<NllLossBackward0>)|\n",
       "|  2   | 10/125  | tensor(5.0607, device='cuda:1', grad_fn=<NllLossBackward0>)|\n",
       "|  2   | 20/125  | tensor(4.9993, device='cuda:1', grad_fn=<NllLossBackward0>)|\n",
       "|  2   | 30/125  | tensor(5.0697, device='cuda:1', grad_fn=<NllLossBackward0>)|\n",
       "|  2   | 40/125  | tensor(4.9073, device='cuda:1', grad_fn=<NllLossBackward0>)|\n",
       "|  2   | 50/125  | tensor(5.1232, device='cuda:1', grad_fn=<NllLossBackward0>)|\n",
       "+-----------------------------------------------------------------------------+\n"
      ]
     },
     "metadata": {},
     "output_type": "display_data"
    },
    {
     "name": "stdout",
     "output_type": "stream",
     "text": [
      "STEP:  60 / 125\n"
     ]
    },
    {
     "data": {
      "text/html": [
       "<pre style=\"white-space:pre;overflow-x:auto;line-height:normal;font-family:Menlo,'DejaVu Sans Mono',consolas,'Courier New',monospace\"><span style=\"font-style: italic\">                                Training Status                                </span>\n",
       "+-----------------------------------------------------------------------------+\n",
       "|<span style=\"font-weight: bold\">Epoch </span>|<span style=\"font-weight: bold\">  Steps  </span>|<span style=\"font-weight: bold\">                            Loss                            </span>|\n",
       "|------+---------+------------------------------------------------------------|\n",
       "|  0   |  0/125  | tensor(6.9166, device='cuda:1', grad_fn=&lt;NllLossBackward0&gt;)|\n",
       "|  0   | 10/125  | tensor(6.0950, device='cuda:1', grad_fn=&lt;NllLossBackward0&gt;)|\n",
       "|  0   | 20/125  | tensor(6.0341, device='cuda:1', grad_fn=&lt;NllLossBackward0&gt;)|\n",
       "|  0   | 30/125  | tensor(6.6680, device='cuda:1', grad_fn=&lt;NllLossBackward0&gt;)|\n",
       "|  0   | 40/125  | tensor(6.0066, device='cuda:1', grad_fn=&lt;NllLossBackward0&gt;)|\n",
       "|  0   | 50/125  | tensor(5.5205, device='cuda:1', grad_fn=&lt;NllLossBackward0&gt;)|\n",
       "|  0   | 60/125  | tensor(5.8240, device='cuda:1', grad_fn=&lt;NllLossBackward0&gt;)|\n",
       "|  0   | 70/125  | tensor(6.2952, device='cuda:1', grad_fn=&lt;NllLossBackward0&gt;)|\n",
       "|  0   | 80/125  | tensor(5.8856, device='cuda:1', grad_fn=&lt;NllLossBackward0&gt;)|\n",
       "|  0   | 90/125  | tensor(5.5936, device='cuda:1', grad_fn=&lt;NllLossBackward0&gt;)|\n",
       "|  0   | 100/125 | tensor(5.3247, device='cuda:1', grad_fn=&lt;NllLossBackward0&gt;)|\n",
       "|  0   | 110/125 | tensor(5.3783, device='cuda:1', grad_fn=&lt;NllLossBackward0&gt;)|\n",
       "|  0   | 120/125 | tensor(5.4052, device='cuda:1', grad_fn=&lt;NllLossBackward0&gt;)|\n",
       "|  1   |  0/125  | tensor(5.7932, device='cuda:1', grad_fn=&lt;NllLossBackward0&gt;)|\n",
       "|  1   | 10/125  | tensor(5.5280, device='cuda:1', grad_fn=&lt;NllLossBackward0&gt;)|\n",
       "|  1   | 20/125  | tensor(5.5987, device='cuda:1', grad_fn=&lt;NllLossBackward0&gt;)|\n",
       "|  1   | 30/125  | tensor(5.4186, device='cuda:1', grad_fn=&lt;NllLossBackward0&gt;)|\n",
       "|  1   | 40/125  | tensor(5.5799, device='cuda:1', grad_fn=&lt;NllLossBackward0&gt;)|\n",
       "|  1   | 50/125  | tensor(5.7063, device='cuda:1', grad_fn=&lt;NllLossBackward0&gt;)|\n",
       "|  1   | 60/125  | tensor(5.2048, device='cuda:1', grad_fn=&lt;NllLossBackward0&gt;)|\n",
       "|  1   | 70/125  | tensor(5.5670, device='cuda:1', grad_fn=&lt;NllLossBackward0&gt;)|\n",
       "|  1   | 80/125  | tensor(5.7379, device='cuda:1', grad_fn=&lt;NllLossBackward0&gt;)|\n",
       "|  1   | 90/125  | tensor(5.4400, device='cuda:1', grad_fn=&lt;NllLossBackward0&gt;)|\n",
       "|  1   | 100/125 | tensor(5.0054, device='cuda:1', grad_fn=&lt;NllLossBackward0&gt;)|\n",
       "|  1   | 110/125 | tensor(5.5825, device='cuda:1', grad_fn=&lt;NllLossBackward0&gt;)|\n",
       "|  1   | 120/125 | tensor(4.9728, device='cuda:1', grad_fn=&lt;NllLossBackward0&gt;)|\n",
       "|  2   |  0/125  | tensor(5.2219, device='cuda:1', grad_fn=&lt;NllLossBackward0&gt;)|\n",
       "|  2   | 10/125  | tensor(5.0607, device='cuda:1', grad_fn=&lt;NllLossBackward0&gt;)|\n",
       "|  2   | 20/125  | tensor(4.9993, device='cuda:1', grad_fn=&lt;NllLossBackward0&gt;)|\n",
       "|  2   | 30/125  | tensor(5.0697, device='cuda:1', grad_fn=&lt;NllLossBackward0&gt;)|\n",
       "|  2   | 40/125  | tensor(4.9073, device='cuda:1', grad_fn=&lt;NllLossBackward0&gt;)|\n",
       "|  2   | 50/125  | tensor(5.1232, device='cuda:1', grad_fn=&lt;NllLossBackward0&gt;)|\n",
       "|  2   | 60/125  | tensor(5.3920, device='cuda:1', grad_fn=&lt;NllLossBackward0&gt;)|\n",
       "+-----------------------------------------------------------------------------+\n",
       "</pre>\n"
      ],
      "text/plain": [
       "\u001b[3m                                Training Status                                \u001b[0m\n",
       "+-----------------------------------------------------------------------------+\n",
       "|\u001b[1mEpoch\u001b[0m\u001b[1m \u001b[0m|\u001b[1m \u001b[0m\u001b[1m Steps \u001b[0m\u001b[1m \u001b[0m|\u001b[1m \u001b[0m\u001b[1m                           Loss                            \u001b[0m|\n",
       "|------+---------+------------------------------------------------------------|\n",
       "|  0   |  0/125  | tensor(6.9166, device='cuda:1', grad_fn=<NllLossBackward0>)|\n",
       "|  0   | 10/125  | tensor(6.0950, device='cuda:1', grad_fn=<NllLossBackward0>)|\n",
       "|  0   | 20/125  | tensor(6.0341, device='cuda:1', grad_fn=<NllLossBackward0>)|\n",
       "|  0   | 30/125  | tensor(6.6680, device='cuda:1', grad_fn=<NllLossBackward0>)|\n",
       "|  0   | 40/125  | tensor(6.0066, device='cuda:1', grad_fn=<NllLossBackward0>)|\n",
       "|  0   | 50/125  | tensor(5.5205, device='cuda:1', grad_fn=<NllLossBackward0>)|\n",
       "|  0   | 60/125  | tensor(5.8240, device='cuda:1', grad_fn=<NllLossBackward0>)|\n",
       "|  0   | 70/125  | tensor(6.2952, device='cuda:1', grad_fn=<NllLossBackward0>)|\n",
       "|  0   | 80/125  | tensor(5.8856, device='cuda:1', grad_fn=<NllLossBackward0>)|\n",
       "|  0   | 90/125  | tensor(5.5936, device='cuda:1', grad_fn=<NllLossBackward0>)|\n",
       "|  0   | 100/125 | tensor(5.3247, device='cuda:1', grad_fn=<NllLossBackward0>)|\n",
       "|  0   | 110/125 | tensor(5.3783, device='cuda:1', grad_fn=<NllLossBackward0>)|\n",
       "|  0   | 120/125 | tensor(5.4052, device='cuda:1', grad_fn=<NllLossBackward0>)|\n",
       "|  1   |  0/125  | tensor(5.7932, device='cuda:1', grad_fn=<NllLossBackward0>)|\n",
       "|  1   | 10/125  | tensor(5.5280, device='cuda:1', grad_fn=<NllLossBackward0>)|\n",
       "|  1   | 20/125  | tensor(5.5987, device='cuda:1', grad_fn=<NllLossBackward0>)|\n",
       "|  1   | 30/125  | tensor(5.4186, device='cuda:1', grad_fn=<NllLossBackward0>)|\n",
       "|  1   | 40/125  | tensor(5.5799, device='cuda:1', grad_fn=<NllLossBackward0>)|\n",
       "|  1   | 50/125  | tensor(5.7063, device='cuda:1', grad_fn=<NllLossBackward0>)|\n",
       "|  1   | 60/125  | tensor(5.2048, device='cuda:1', grad_fn=<NllLossBackward0>)|\n",
       "|  1   | 70/125  | tensor(5.5670, device='cuda:1', grad_fn=<NllLossBackward0>)|\n",
       "|  1   | 80/125  | tensor(5.7379, device='cuda:1', grad_fn=<NllLossBackward0>)|\n",
       "|  1   | 90/125  | tensor(5.4400, device='cuda:1', grad_fn=<NllLossBackward0>)|\n",
       "|  1   | 100/125 | tensor(5.0054, device='cuda:1', grad_fn=<NllLossBackward0>)|\n",
       "|  1   | 110/125 | tensor(5.5825, device='cuda:1', grad_fn=<NllLossBackward0>)|\n",
       "|  1   | 120/125 | tensor(4.9728, device='cuda:1', grad_fn=<NllLossBackward0>)|\n",
       "|  2   |  0/125  | tensor(5.2219, device='cuda:1', grad_fn=<NllLossBackward0>)|\n",
       "|  2   | 10/125  | tensor(5.0607, device='cuda:1', grad_fn=<NllLossBackward0>)|\n",
       "|  2   | 20/125  | tensor(4.9993, device='cuda:1', grad_fn=<NllLossBackward0>)|\n",
       "|  2   | 30/125  | tensor(5.0697, device='cuda:1', grad_fn=<NllLossBackward0>)|\n",
       "|  2   | 40/125  | tensor(4.9073, device='cuda:1', grad_fn=<NllLossBackward0>)|\n",
       "|  2   | 50/125  | tensor(5.1232, device='cuda:1', grad_fn=<NllLossBackward0>)|\n",
       "|  2   | 60/125  | tensor(5.3920, device='cuda:1', grad_fn=<NllLossBackward0>)|\n",
       "+-----------------------------------------------------------------------------+\n"
      ]
     },
     "metadata": {},
     "output_type": "display_data"
    },
    {
     "name": "stdout",
     "output_type": "stream",
     "text": [
      "STEP:  70 / 125\n"
     ]
    },
    {
     "data": {
      "text/html": [
       "<pre style=\"white-space:pre;overflow-x:auto;line-height:normal;font-family:Menlo,'DejaVu Sans Mono',consolas,'Courier New',monospace\"><span style=\"font-style: italic\">                                Training Status                                </span>\n",
       "+-----------------------------------------------------------------------------+\n",
       "|<span style=\"font-weight: bold\">Epoch </span>|<span style=\"font-weight: bold\">  Steps  </span>|<span style=\"font-weight: bold\">                            Loss                            </span>|\n",
       "|------+---------+------------------------------------------------------------|\n",
       "|  0   |  0/125  | tensor(6.9166, device='cuda:1', grad_fn=&lt;NllLossBackward0&gt;)|\n",
       "|  0   | 10/125  | tensor(6.0950, device='cuda:1', grad_fn=&lt;NllLossBackward0&gt;)|\n",
       "|  0   | 20/125  | tensor(6.0341, device='cuda:1', grad_fn=&lt;NllLossBackward0&gt;)|\n",
       "|  0   | 30/125  | tensor(6.6680, device='cuda:1', grad_fn=&lt;NllLossBackward0&gt;)|\n",
       "|  0   | 40/125  | tensor(6.0066, device='cuda:1', grad_fn=&lt;NllLossBackward0&gt;)|\n",
       "|  0   | 50/125  | tensor(5.5205, device='cuda:1', grad_fn=&lt;NllLossBackward0&gt;)|\n",
       "|  0   | 60/125  | tensor(5.8240, device='cuda:1', grad_fn=&lt;NllLossBackward0&gt;)|\n",
       "|  0   | 70/125  | tensor(6.2952, device='cuda:1', grad_fn=&lt;NllLossBackward0&gt;)|\n",
       "|  0   | 80/125  | tensor(5.8856, device='cuda:1', grad_fn=&lt;NllLossBackward0&gt;)|\n",
       "|  0   | 90/125  | tensor(5.5936, device='cuda:1', grad_fn=&lt;NllLossBackward0&gt;)|\n",
       "|  0   | 100/125 | tensor(5.3247, device='cuda:1', grad_fn=&lt;NllLossBackward0&gt;)|\n",
       "|  0   | 110/125 | tensor(5.3783, device='cuda:1', grad_fn=&lt;NllLossBackward0&gt;)|\n",
       "|  0   | 120/125 | tensor(5.4052, device='cuda:1', grad_fn=&lt;NllLossBackward0&gt;)|\n",
       "|  1   |  0/125  | tensor(5.7932, device='cuda:1', grad_fn=&lt;NllLossBackward0&gt;)|\n",
       "|  1   | 10/125  | tensor(5.5280, device='cuda:1', grad_fn=&lt;NllLossBackward0&gt;)|\n",
       "|  1   | 20/125  | tensor(5.5987, device='cuda:1', grad_fn=&lt;NllLossBackward0&gt;)|\n",
       "|  1   | 30/125  | tensor(5.4186, device='cuda:1', grad_fn=&lt;NllLossBackward0&gt;)|\n",
       "|  1   | 40/125  | tensor(5.5799, device='cuda:1', grad_fn=&lt;NllLossBackward0&gt;)|\n",
       "|  1   | 50/125  | tensor(5.7063, device='cuda:1', grad_fn=&lt;NllLossBackward0&gt;)|\n",
       "|  1   | 60/125  | tensor(5.2048, device='cuda:1', grad_fn=&lt;NllLossBackward0&gt;)|\n",
       "|  1   | 70/125  | tensor(5.5670, device='cuda:1', grad_fn=&lt;NllLossBackward0&gt;)|\n",
       "|  1   | 80/125  | tensor(5.7379, device='cuda:1', grad_fn=&lt;NllLossBackward0&gt;)|\n",
       "|  1   | 90/125  | tensor(5.4400, device='cuda:1', grad_fn=&lt;NllLossBackward0&gt;)|\n",
       "|  1   | 100/125 | tensor(5.0054, device='cuda:1', grad_fn=&lt;NllLossBackward0&gt;)|\n",
       "|  1   | 110/125 | tensor(5.5825, device='cuda:1', grad_fn=&lt;NllLossBackward0&gt;)|\n",
       "|  1   | 120/125 | tensor(4.9728, device='cuda:1', grad_fn=&lt;NllLossBackward0&gt;)|\n",
       "|  2   |  0/125  | tensor(5.2219, device='cuda:1', grad_fn=&lt;NllLossBackward0&gt;)|\n",
       "|  2   | 10/125  | tensor(5.0607, device='cuda:1', grad_fn=&lt;NllLossBackward0&gt;)|\n",
       "|  2   | 20/125  | tensor(4.9993, device='cuda:1', grad_fn=&lt;NllLossBackward0&gt;)|\n",
       "|  2   | 30/125  | tensor(5.0697, device='cuda:1', grad_fn=&lt;NllLossBackward0&gt;)|\n",
       "|  2   | 40/125  | tensor(4.9073, device='cuda:1', grad_fn=&lt;NllLossBackward0&gt;)|\n",
       "|  2   | 50/125  | tensor(5.1232, device='cuda:1', grad_fn=&lt;NllLossBackward0&gt;)|\n",
       "|  2   | 60/125  | tensor(5.3920, device='cuda:1', grad_fn=&lt;NllLossBackward0&gt;)|\n",
       "|  2   | 70/125  | tensor(4.9762, device='cuda:1', grad_fn=&lt;NllLossBackward0&gt;)|\n",
       "+-----------------------------------------------------------------------------+\n",
       "</pre>\n"
      ],
      "text/plain": [
       "\u001b[3m                                Training Status                                \u001b[0m\n",
       "+-----------------------------------------------------------------------------+\n",
       "|\u001b[1mEpoch\u001b[0m\u001b[1m \u001b[0m|\u001b[1m \u001b[0m\u001b[1m Steps \u001b[0m\u001b[1m \u001b[0m|\u001b[1m \u001b[0m\u001b[1m                           Loss                            \u001b[0m|\n",
       "|------+---------+------------------------------------------------------------|\n",
       "|  0   |  0/125  | tensor(6.9166, device='cuda:1', grad_fn=<NllLossBackward0>)|\n",
       "|  0   | 10/125  | tensor(6.0950, device='cuda:1', grad_fn=<NllLossBackward0>)|\n",
       "|  0   | 20/125  | tensor(6.0341, device='cuda:1', grad_fn=<NllLossBackward0>)|\n",
       "|  0   | 30/125  | tensor(6.6680, device='cuda:1', grad_fn=<NllLossBackward0>)|\n",
       "|  0   | 40/125  | tensor(6.0066, device='cuda:1', grad_fn=<NllLossBackward0>)|\n",
       "|  0   | 50/125  | tensor(5.5205, device='cuda:1', grad_fn=<NllLossBackward0>)|\n",
       "|  0   | 60/125  | tensor(5.8240, device='cuda:1', grad_fn=<NllLossBackward0>)|\n",
       "|  0   | 70/125  | tensor(6.2952, device='cuda:1', grad_fn=<NllLossBackward0>)|\n",
       "|  0   | 80/125  | tensor(5.8856, device='cuda:1', grad_fn=<NllLossBackward0>)|\n",
       "|  0   | 90/125  | tensor(5.5936, device='cuda:1', grad_fn=<NllLossBackward0>)|\n",
       "|  0   | 100/125 | tensor(5.3247, device='cuda:1', grad_fn=<NllLossBackward0>)|\n",
       "|  0   | 110/125 | tensor(5.3783, device='cuda:1', grad_fn=<NllLossBackward0>)|\n",
       "|  0   | 120/125 | tensor(5.4052, device='cuda:1', grad_fn=<NllLossBackward0>)|\n",
       "|  1   |  0/125  | tensor(5.7932, device='cuda:1', grad_fn=<NllLossBackward0>)|\n",
       "|  1   | 10/125  | tensor(5.5280, device='cuda:1', grad_fn=<NllLossBackward0>)|\n",
       "|  1   | 20/125  | tensor(5.5987, device='cuda:1', grad_fn=<NllLossBackward0>)|\n",
       "|  1   | 30/125  | tensor(5.4186, device='cuda:1', grad_fn=<NllLossBackward0>)|\n",
       "|  1   | 40/125  | tensor(5.5799, device='cuda:1', grad_fn=<NllLossBackward0>)|\n",
       "|  1   | 50/125  | tensor(5.7063, device='cuda:1', grad_fn=<NllLossBackward0>)|\n",
       "|  1   | 60/125  | tensor(5.2048, device='cuda:1', grad_fn=<NllLossBackward0>)|\n",
       "|  1   | 70/125  | tensor(5.5670, device='cuda:1', grad_fn=<NllLossBackward0>)|\n",
       "|  1   | 80/125  | tensor(5.7379, device='cuda:1', grad_fn=<NllLossBackward0>)|\n",
       "|  1   | 90/125  | tensor(5.4400, device='cuda:1', grad_fn=<NllLossBackward0>)|\n",
       "|  1   | 100/125 | tensor(5.0054, device='cuda:1', grad_fn=<NllLossBackward0>)|\n",
       "|  1   | 110/125 | tensor(5.5825, device='cuda:1', grad_fn=<NllLossBackward0>)|\n",
       "|  1   | 120/125 | tensor(4.9728, device='cuda:1', grad_fn=<NllLossBackward0>)|\n",
       "|  2   |  0/125  | tensor(5.2219, device='cuda:1', grad_fn=<NllLossBackward0>)|\n",
       "|  2   | 10/125  | tensor(5.0607, device='cuda:1', grad_fn=<NllLossBackward0>)|\n",
       "|  2   | 20/125  | tensor(4.9993, device='cuda:1', grad_fn=<NllLossBackward0>)|\n",
       "|  2   | 30/125  | tensor(5.0697, device='cuda:1', grad_fn=<NllLossBackward0>)|\n",
       "|  2   | 40/125  | tensor(4.9073, device='cuda:1', grad_fn=<NllLossBackward0>)|\n",
       "|  2   | 50/125  | tensor(5.1232, device='cuda:1', grad_fn=<NllLossBackward0>)|\n",
       "|  2   | 60/125  | tensor(5.3920, device='cuda:1', grad_fn=<NllLossBackward0>)|\n",
       "|  2   | 70/125  | tensor(4.9762, device='cuda:1', grad_fn=<NllLossBackward0>)|\n",
       "+-----------------------------------------------------------------------------+\n"
      ]
     },
     "metadata": {},
     "output_type": "display_data"
    },
    {
     "name": "stdout",
     "output_type": "stream",
     "text": [
      "STEP:  80 / 125\n"
     ]
    },
    {
     "data": {
      "text/html": [
       "<pre style=\"white-space:pre;overflow-x:auto;line-height:normal;font-family:Menlo,'DejaVu Sans Mono',consolas,'Courier New',monospace\"><span style=\"font-style: italic\">                                Training Status                                </span>\n",
       "+-----------------------------------------------------------------------------+\n",
       "|<span style=\"font-weight: bold\">Epoch </span>|<span style=\"font-weight: bold\">  Steps  </span>|<span style=\"font-weight: bold\">                            Loss                            </span>|\n",
       "|------+---------+------------------------------------------------------------|\n",
       "|  0   |  0/125  | tensor(6.9166, device='cuda:1', grad_fn=&lt;NllLossBackward0&gt;)|\n",
       "|  0   | 10/125  | tensor(6.0950, device='cuda:1', grad_fn=&lt;NllLossBackward0&gt;)|\n",
       "|  0   | 20/125  | tensor(6.0341, device='cuda:1', grad_fn=&lt;NllLossBackward0&gt;)|\n",
       "|  0   | 30/125  | tensor(6.6680, device='cuda:1', grad_fn=&lt;NllLossBackward0&gt;)|\n",
       "|  0   | 40/125  | tensor(6.0066, device='cuda:1', grad_fn=&lt;NllLossBackward0&gt;)|\n",
       "|  0   | 50/125  | tensor(5.5205, device='cuda:1', grad_fn=&lt;NllLossBackward0&gt;)|\n",
       "|  0   | 60/125  | tensor(5.8240, device='cuda:1', grad_fn=&lt;NllLossBackward0&gt;)|\n",
       "|  0   | 70/125  | tensor(6.2952, device='cuda:1', grad_fn=&lt;NllLossBackward0&gt;)|\n",
       "|  0   | 80/125  | tensor(5.8856, device='cuda:1', grad_fn=&lt;NllLossBackward0&gt;)|\n",
       "|  0   | 90/125  | tensor(5.5936, device='cuda:1', grad_fn=&lt;NllLossBackward0&gt;)|\n",
       "|  0   | 100/125 | tensor(5.3247, device='cuda:1', grad_fn=&lt;NllLossBackward0&gt;)|\n",
       "|  0   | 110/125 | tensor(5.3783, device='cuda:1', grad_fn=&lt;NllLossBackward0&gt;)|\n",
       "|  0   | 120/125 | tensor(5.4052, device='cuda:1', grad_fn=&lt;NllLossBackward0&gt;)|\n",
       "|  1   |  0/125  | tensor(5.7932, device='cuda:1', grad_fn=&lt;NllLossBackward0&gt;)|\n",
       "|  1   | 10/125  | tensor(5.5280, device='cuda:1', grad_fn=&lt;NllLossBackward0&gt;)|\n",
       "|  1   | 20/125  | tensor(5.5987, device='cuda:1', grad_fn=&lt;NllLossBackward0&gt;)|\n",
       "|  1   | 30/125  | tensor(5.4186, device='cuda:1', grad_fn=&lt;NllLossBackward0&gt;)|\n",
       "|  1   | 40/125  | tensor(5.5799, device='cuda:1', grad_fn=&lt;NllLossBackward0&gt;)|\n",
       "|  1   | 50/125  | tensor(5.7063, device='cuda:1', grad_fn=&lt;NllLossBackward0&gt;)|\n",
       "|  1   | 60/125  | tensor(5.2048, device='cuda:1', grad_fn=&lt;NllLossBackward0&gt;)|\n",
       "|  1   | 70/125  | tensor(5.5670, device='cuda:1', grad_fn=&lt;NllLossBackward0&gt;)|\n",
       "|  1   | 80/125  | tensor(5.7379, device='cuda:1', grad_fn=&lt;NllLossBackward0&gt;)|\n",
       "|  1   | 90/125  | tensor(5.4400, device='cuda:1', grad_fn=&lt;NllLossBackward0&gt;)|\n",
       "|  1   | 100/125 | tensor(5.0054, device='cuda:1', grad_fn=&lt;NllLossBackward0&gt;)|\n",
       "|  1   | 110/125 | tensor(5.5825, device='cuda:1', grad_fn=&lt;NllLossBackward0&gt;)|\n",
       "|  1   | 120/125 | tensor(4.9728, device='cuda:1', grad_fn=&lt;NllLossBackward0&gt;)|\n",
       "|  2   |  0/125  | tensor(5.2219, device='cuda:1', grad_fn=&lt;NllLossBackward0&gt;)|\n",
       "|  2   | 10/125  | tensor(5.0607, device='cuda:1', grad_fn=&lt;NllLossBackward0&gt;)|\n",
       "|  2   | 20/125  | tensor(4.9993, device='cuda:1', grad_fn=&lt;NllLossBackward0&gt;)|\n",
       "|  2   | 30/125  | tensor(5.0697, device='cuda:1', grad_fn=&lt;NllLossBackward0&gt;)|\n",
       "|  2   | 40/125  | tensor(4.9073, device='cuda:1', grad_fn=&lt;NllLossBackward0&gt;)|\n",
       "|  2   | 50/125  | tensor(5.1232, device='cuda:1', grad_fn=&lt;NllLossBackward0&gt;)|\n",
       "|  2   | 60/125  | tensor(5.3920, device='cuda:1', grad_fn=&lt;NllLossBackward0&gt;)|\n",
       "|  2   | 70/125  | tensor(4.9762, device='cuda:1', grad_fn=&lt;NllLossBackward0&gt;)|\n",
       "|  2   | 80/125  | tensor(5.4549, device='cuda:1', grad_fn=&lt;NllLossBackward0&gt;)|\n",
       "+-----------------------------------------------------------------------------+\n",
       "</pre>\n"
      ],
      "text/plain": [
       "\u001b[3m                                Training Status                                \u001b[0m\n",
       "+-----------------------------------------------------------------------------+\n",
       "|\u001b[1mEpoch\u001b[0m\u001b[1m \u001b[0m|\u001b[1m \u001b[0m\u001b[1m Steps \u001b[0m\u001b[1m \u001b[0m|\u001b[1m \u001b[0m\u001b[1m                           Loss                            \u001b[0m|\n",
       "|------+---------+------------------------------------------------------------|\n",
       "|  0   |  0/125  | tensor(6.9166, device='cuda:1', grad_fn=<NllLossBackward0>)|\n",
       "|  0   | 10/125  | tensor(6.0950, device='cuda:1', grad_fn=<NllLossBackward0>)|\n",
       "|  0   | 20/125  | tensor(6.0341, device='cuda:1', grad_fn=<NllLossBackward0>)|\n",
       "|  0   | 30/125  | tensor(6.6680, device='cuda:1', grad_fn=<NllLossBackward0>)|\n",
       "|  0   | 40/125  | tensor(6.0066, device='cuda:1', grad_fn=<NllLossBackward0>)|\n",
       "|  0   | 50/125  | tensor(5.5205, device='cuda:1', grad_fn=<NllLossBackward0>)|\n",
       "|  0   | 60/125  | tensor(5.8240, device='cuda:1', grad_fn=<NllLossBackward0>)|\n",
       "|  0   | 70/125  | tensor(6.2952, device='cuda:1', grad_fn=<NllLossBackward0>)|\n",
       "|  0   | 80/125  | tensor(5.8856, device='cuda:1', grad_fn=<NllLossBackward0>)|\n",
       "|  0   | 90/125  | tensor(5.5936, device='cuda:1', grad_fn=<NllLossBackward0>)|\n",
       "|  0   | 100/125 | tensor(5.3247, device='cuda:1', grad_fn=<NllLossBackward0>)|\n",
       "|  0   | 110/125 | tensor(5.3783, device='cuda:1', grad_fn=<NllLossBackward0>)|\n",
       "|  0   | 120/125 | tensor(5.4052, device='cuda:1', grad_fn=<NllLossBackward0>)|\n",
       "|  1   |  0/125  | tensor(5.7932, device='cuda:1', grad_fn=<NllLossBackward0>)|\n",
       "|  1   | 10/125  | tensor(5.5280, device='cuda:1', grad_fn=<NllLossBackward0>)|\n",
       "|  1   | 20/125  | tensor(5.5987, device='cuda:1', grad_fn=<NllLossBackward0>)|\n",
       "|  1   | 30/125  | tensor(5.4186, device='cuda:1', grad_fn=<NllLossBackward0>)|\n",
       "|  1   | 40/125  | tensor(5.5799, device='cuda:1', grad_fn=<NllLossBackward0>)|\n",
       "|  1   | 50/125  | tensor(5.7063, device='cuda:1', grad_fn=<NllLossBackward0>)|\n",
       "|  1   | 60/125  | tensor(5.2048, device='cuda:1', grad_fn=<NllLossBackward0>)|\n",
       "|  1   | 70/125  | tensor(5.5670, device='cuda:1', grad_fn=<NllLossBackward0>)|\n",
       "|  1   | 80/125  | tensor(5.7379, device='cuda:1', grad_fn=<NllLossBackward0>)|\n",
       "|  1   | 90/125  | tensor(5.4400, device='cuda:1', grad_fn=<NllLossBackward0>)|\n",
       "|  1   | 100/125 | tensor(5.0054, device='cuda:1', grad_fn=<NllLossBackward0>)|\n",
       "|  1   | 110/125 | tensor(5.5825, device='cuda:1', grad_fn=<NllLossBackward0>)|\n",
       "|  1   | 120/125 | tensor(4.9728, device='cuda:1', grad_fn=<NllLossBackward0>)|\n",
       "|  2   |  0/125  | tensor(5.2219, device='cuda:1', grad_fn=<NllLossBackward0>)|\n",
       "|  2   | 10/125  | tensor(5.0607, device='cuda:1', grad_fn=<NllLossBackward0>)|\n",
       "|  2   | 20/125  | tensor(4.9993, device='cuda:1', grad_fn=<NllLossBackward0>)|\n",
       "|  2   | 30/125  | tensor(5.0697, device='cuda:1', grad_fn=<NllLossBackward0>)|\n",
       "|  2   | 40/125  | tensor(4.9073, device='cuda:1', grad_fn=<NllLossBackward0>)|\n",
       "|  2   | 50/125  | tensor(5.1232, device='cuda:1', grad_fn=<NllLossBackward0>)|\n",
       "|  2   | 60/125  | tensor(5.3920, device='cuda:1', grad_fn=<NllLossBackward0>)|\n",
       "|  2   | 70/125  | tensor(4.9762, device='cuda:1', grad_fn=<NllLossBackward0>)|\n",
       "|  2   | 80/125  | tensor(5.4549, device='cuda:1', grad_fn=<NllLossBackward0>)|\n",
       "+-----------------------------------------------------------------------------+\n"
      ]
     },
     "metadata": {},
     "output_type": "display_data"
    },
    {
     "name": "stdout",
     "output_type": "stream",
     "text": [
      "STEP:  90 / 125\n"
     ]
    },
    {
     "data": {
      "text/html": [
       "<pre style=\"white-space:pre;overflow-x:auto;line-height:normal;font-family:Menlo,'DejaVu Sans Mono',consolas,'Courier New',monospace\"><span style=\"font-style: italic\">                                Training Status                                </span>\n",
       "+-----------------------------------------------------------------------------+\n",
       "|<span style=\"font-weight: bold\">Epoch </span>|<span style=\"font-weight: bold\">  Steps  </span>|<span style=\"font-weight: bold\">                            Loss                            </span>|\n",
       "|------+---------+------------------------------------------------------------|\n",
       "|  0   |  0/125  | tensor(6.9166, device='cuda:1', grad_fn=&lt;NllLossBackward0&gt;)|\n",
       "|  0   | 10/125  | tensor(6.0950, device='cuda:1', grad_fn=&lt;NllLossBackward0&gt;)|\n",
       "|  0   | 20/125  | tensor(6.0341, device='cuda:1', grad_fn=&lt;NllLossBackward0&gt;)|\n",
       "|  0   | 30/125  | tensor(6.6680, device='cuda:1', grad_fn=&lt;NllLossBackward0&gt;)|\n",
       "|  0   | 40/125  | tensor(6.0066, device='cuda:1', grad_fn=&lt;NllLossBackward0&gt;)|\n",
       "|  0   | 50/125  | tensor(5.5205, device='cuda:1', grad_fn=&lt;NllLossBackward0&gt;)|\n",
       "|  0   | 60/125  | tensor(5.8240, device='cuda:1', grad_fn=&lt;NllLossBackward0&gt;)|\n",
       "|  0   | 70/125  | tensor(6.2952, device='cuda:1', grad_fn=&lt;NllLossBackward0&gt;)|\n",
       "|  0   | 80/125  | tensor(5.8856, device='cuda:1', grad_fn=&lt;NllLossBackward0&gt;)|\n",
       "|  0   | 90/125  | tensor(5.5936, device='cuda:1', grad_fn=&lt;NllLossBackward0&gt;)|\n",
       "|  0   | 100/125 | tensor(5.3247, device='cuda:1', grad_fn=&lt;NllLossBackward0&gt;)|\n",
       "|  0   | 110/125 | tensor(5.3783, device='cuda:1', grad_fn=&lt;NllLossBackward0&gt;)|\n",
       "|  0   | 120/125 | tensor(5.4052, device='cuda:1', grad_fn=&lt;NllLossBackward0&gt;)|\n",
       "|  1   |  0/125  | tensor(5.7932, device='cuda:1', grad_fn=&lt;NllLossBackward0&gt;)|\n",
       "|  1   | 10/125  | tensor(5.5280, device='cuda:1', grad_fn=&lt;NllLossBackward0&gt;)|\n",
       "|  1   | 20/125  | tensor(5.5987, device='cuda:1', grad_fn=&lt;NllLossBackward0&gt;)|\n",
       "|  1   | 30/125  | tensor(5.4186, device='cuda:1', grad_fn=&lt;NllLossBackward0&gt;)|\n",
       "|  1   | 40/125  | tensor(5.5799, device='cuda:1', grad_fn=&lt;NllLossBackward0&gt;)|\n",
       "|  1   | 50/125  | tensor(5.7063, device='cuda:1', grad_fn=&lt;NllLossBackward0&gt;)|\n",
       "|  1   | 60/125  | tensor(5.2048, device='cuda:1', grad_fn=&lt;NllLossBackward0&gt;)|\n",
       "|  1   | 70/125  | tensor(5.5670, device='cuda:1', grad_fn=&lt;NllLossBackward0&gt;)|\n",
       "|  1   | 80/125  | tensor(5.7379, device='cuda:1', grad_fn=&lt;NllLossBackward0&gt;)|\n",
       "|  1   | 90/125  | tensor(5.4400, device='cuda:1', grad_fn=&lt;NllLossBackward0&gt;)|\n",
       "|  1   | 100/125 | tensor(5.0054, device='cuda:1', grad_fn=&lt;NllLossBackward0&gt;)|\n",
       "|  1   | 110/125 | tensor(5.5825, device='cuda:1', grad_fn=&lt;NllLossBackward0&gt;)|\n",
       "|  1   | 120/125 | tensor(4.9728, device='cuda:1', grad_fn=&lt;NllLossBackward0&gt;)|\n",
       "|  2   |  0/125  | tensor(5.2219, device='cuda:1', grad_fn=&lt;NllLossBackward0&gt;)|\n",
       "|  2   | 10/125  | tensor(5.0607, device='cuda:1', grad_fn=&lt;NllLossBackward0&gt;)|\n",
       "|  2   | 20/125  | tensor(4.9993, device='cuda:1', grad_fn=&lt;NllLossBackward0&gt;)|\n",
       "|  2   | 30/125  | tensor(5.0697, device='cuda:1', grad_fn=&lt;NllLossBackward0&gt;)|\n",
       "|  2   | 40/125  | tensor(4.9073, device='cuda:1', grad_fn=&lt;NllLossBackward0&gt;)|\n",
       "|  2   | 50/125  | tensor(5.1232, device='cuda:1', grad_fn=&lt;NllLossBackward0&gt;)|\n",
       "|  2   | 60/125  | tensor(5.3920, device='cuda:1', grad_fn=&lt;NllLossBackward0&gt;)|\n",
       "|  2   | 70/125  | tensor(4.9762, device='cuda:1', grad_fn=&lt;NllLossBackward0&gt;)|\n",
       "|  2   | 80/125  | tensor(5.4549, device='cuda:1', grad_fn=&lt;NllLossBackward0&gt;)|\n",
       "|  2   | 90/125  | tensor(5.0798, device='cuda:1', grad_fn=&lt;NllLossBackward0&gt;)|\n",
       "+-----------------------------------------------------------------------------+\n",
       "</pre>\n"
      ],
      "text/plain": [
       "\u001b[3m                                Training Status                                \u001b[0m\n",
       "+-----------------------------------------------------------------------------+\n",
       "|\u001b[1mEpoch\u001b[0m\u001b[1m \u001b[0m|\u001b[1m \u001b[0m\u001b[1m Steps \u001b[0m\u001b[1m \u001b[0m|\u001b[1m \u001b[0m\u001b[1m                           Loss                            \u001b[0m|\n",
       "|------+---------+------------------------------------------------------------|\n",
       "|  0   |  0/125  | tensor(6.9166, device='cuda:1', grad_fn=<NllLossBackward0>)|\n",
       "|  0   | 10/125  | tensor(6.0950, device='cuda:1', grad_fn=<NllLossBackward0>)|\n",
       "|  0   | 20/125  | tensor(6.0341, device='cuda:1', grad_fn=<NllLossBackward0>)|\n",
       "|  0   | 30/125  | tensor(6.6680, device='cuda:1', grad_fn=<NllLossBackward0>)|\n",
       "|  0   | 40/125  | tensor(6.0066, device='cuda:1', grad_fn=<NllLossBackward0>)|\n",
       "|  0   | 50/125  | tensor(5.5205, device='cuda:1', grad_fn=<NllLossBackward0>)|\n",
       "|  0   | 60/125  | tensor(5.8240, device='cuda:1', grad_fn=<NllLossBackward0>)|\n",
       "|  0   | 70/125  | tensor(6.2952, device='cuda:1', grad_fn=<NllLossBackward0>)|\n",
       "|  0   | 80/125  | tensor(5.8856, device='cuda:1', grad_fn=<NllLossBackward0>)|\n",
       "|  0   | 90/125  | tensor(5.5936, device='cuda:1', grad_fn=<NllLossBackward0>)|\n",
       "|  0   | 100/125 | tensor(5.3247, device='cuda:1', grad_fn=<NllLossBackward0>)|\n",
       "|  0   | 110/125 | tensor(5.3783, device='cuda:1', grad_fn=<NllLossBackward0>)|\n",
       "|  0   | 120/125 | tensor(5.4052, device='cuda:1', grad_fn=<NllLossBackward0>)|\n",
       "|  1   |  0/125  | tensor(5.7932, device='cuda:1', grad_fn=<NllLossBackward0>)|\n",
       "|  1   | 10/125  | tensor(5.5280, device='cuda:1', grad_fn=<NllLossBackward0>)|\n",
       "|  1   | 20/125  | tensor(5.5987, device='cuda:1', grad_fn=<NllLossBackward0>)|\n",
       "|  1   | 30/125  | tensor(5.4186, device='cuda:1', grad_fn=<NllLossBackward0>)|\n",
       "|  1   | 40/125  | tensor(5.5799, device='cuda:1', grad_fn=<NllLossBackward0>)|\n",
       "|  1   | 50/125  | tensor(5.7063, device='cuda:1', grad_fn=<NllLossBackward0>)|\n",
       "|  1   | 60/125  | tensor(5.2048, device='cuda:1', grad_fn=<NllLossBackward0>)|\n",
       "|  1   | 70/125  | tensor(5.5670, device='cuda:1', grad_fn=<NllLossBackward0>)|\n",
       "|  1   | 80/125  | tensor(5.7379, device='cuda:1', grad_fn=<NllLossBackward0>)|\n",
       "|  1   | 90/125  | tensor(5.4400, device='cuda:1', grad_fn=<NllLossBackward0>)|\n",
       "|  1   | 100/125 | tensor(5.0054, device='cuda:1', grad_fn=<NllLossBackward0>)|\n",
       "|  1   | 110/125 | tensor(5.5825, device='cuda:1', grad_fn=<NllLossBackward0>)|\n",
       "|  1   | 120/125 | tensor(4.9728, device='cuda:1', grad_fn=<NllLossBackward0>)|\n",
       "|  2   |  0/125  | tensor(5.2219, device='cuda:1', grad_fn=<NllLossBackward0>)|\n",
       "|  2   | 10/125  | tensor(5.0607, device='cuda:1', grad_fn=<NllLossBackward0>)|\n",
       "|  2   | 20/125  | tensor(4.9993, device='cuda:1', grad_fn=<NllLossBackward0>)|\n",
       "|  2   | 30/125  | tensor(5.0697, device='cuda:1', grad_fn=<NllLossBackward0>)|\n",
       "|  2   | 40/125  | tensor(4.9073, device='cuda:1', grad_fn=<NllLossBackward0>)|\n",
       "|  2   | 50/125  | tensor(5.1232, device='cuda:1', grad_fn=<NllLossBackward0>)|\n",
       "|  2   | 60/125  | tensor(5.3920, device='cuda:1', grad_fn=<NllLossBackward0>)|\n",
       "|  2   | 70/125  | tensor(4.9762, device='cuda:1', grad_fn=<NllLossBackward0>)|\n",
       "|  2   | 80/125  | tensor(5.4549, device='cuda:1', grad_fn=<NllLossBackward0>)|\n",
       "|  2   | 90/125  | tensor(5.0798, device='cuda:1', grad_fn=<NllLossBackward0>)|\n",
       "+-----------------------------------------------------------------------------+\n"
      ]
     },
     "metadata": {},
     "output_type": "display_data"
    },
    {
     "name": "stdout",
     "output_type": "stream",
     "text": [
      "STEP:  100 / 125\n"
     ]
    },
    {
     "data": {
      "text/html": [
       "<pre style=\"white-space:pre;overflow-x:auto;line-height:normal;font-family:Menlo,'DejaVu Sans Mono',consolas,'Courier New',monospace\"><span style=\"font-style: italic\">                                Training Status                                </span>\n",
       "+-----------------------------------------------------------------------------+\n",
       "|<span style=\"font-weight: bold\">Epoch </span>|<span style=\"font-weight: bold\">  Steps  </span>|<span style=\"font-weight: bold\">                            Loss                            </span>|\n",
       "|------+---------+------------------------------------------------------------|\n",
       "|  0   |  0/125  | tensor(6.9166, device='cuda:1', grad_fn=&lt;NllLossBackward0&gt;)|\n",
       "|  0   | 10/125  | tensor(6.0950, device='cuda:1', grad_fn=&lt;NllLossBackward0&gt;)|\n",
       "|  0   | 20/125  | tensor(6.0341, device='cuda:1', grad_fn=&lt;NllLossBackward0&gt;)|\n",
       "|  0   | 30/125  | tensor(6.6680, device='cuda:1', grad_fn=&lt;NllLossBackward0&gt;)|\n",
       "|  0   | 40/125  | tensor(6.0066, device='cuda:1', grad_fn=&lt;NllLossBackward0&gt;)|\n",
       "|  0   | 50/125  | tensor(5.5205, device='cuda:1', grad_fn=&lt;NllLossBackward0&gt;)|\n",
       "|  0   | 60/125  | tensor(5.8240, device='cuda:1', grad_fn=&lt;NllLossBackward0&gt;)|\n",
       "|  0   | 70/125  | tensor(6.2952, device='cuda:1', grad_fn=&lt;NllLossBackward0&gt;)|\n",
       "|  0   | 80/125  | tensor(5.8856, device='cuda:1', grad_fn=&lt;NllLossBackward0&gt;)|\n",
       "|  0   | 90/125  | tensor(5.5936, device='cuda:1', grad_fn=&lt;NllLossBackward0&gt;)|\n",
       "|  0   | 100/125 | tensor(5.3247, device='cuda:1', grad_fn=&lt;NllLossBackward0&gt;)|\n",
       "|  0   | 110/125 | tensor(5.3783, device='cuda:1', grad_fn=&lt;NllLossBackward0&gt;)|\n",
       "|  0   | 120/125 | tensor(5.4052, device='cuda:1', grad_fn=&lt;NllLossBackward0&gt;)|\n",
       "|  1   |  0/125  | tensor(5.7932, device='cuda:1', grad_fn=&lt;NllLossBackward0&gt;)|\n",
       "|  1   | 10/125  | tensor(5.5280, device='cuda:1', grad_fn=&lt;NllLossBackward0&gt;)|\n",
       "|  1   | 20/125  | tensor(5.5987, device='cuda:1', grad_fn=&lt;NllLossBackward0&gt;)|\n",
       "|  1   | 30/125  | tensor(5.4186, device='cuda:1', grad_fn=&lt;NllLossBackward0&gt;)|\n",
       "|  1   | 40/125  | tensor(5.5799, device='cuda:1', grad_fn=&lt;NllLossBackward0&gt;)|\n",
       "|  1   | 50/125  | tensor(5.7063, device='cuda:1', grad_fn=&lt;NllLossBackward0&gt;)|\n",
       "|  1   | 60/125  | tensor(5.2048, device='cuda:1', grad_fn=&lt;NllLossBackward0&gt;)|\n",
       "|  1   | 70/125  | tensor(5.5670, device='cuda:1', grad_fn=&lt;NllLossBackward0&gt;)|\n",
       "|  1   | 80/125  | tensor(5.7379, device='cuda:1', grad_fn=&lt;NllLossBackward0&gt;)|\n",
       "|  1   | 90/125  | tensor(5.4400, device='cuda:1', grad_fn=&lt;NllLossBackward0&gt;)|\n",
       "|  1   | 100/125 | tensor(5.0054, device='cuda:1', grad_fn=&lt;NllLossBackward0&gt;)|\n",
       "|  1   | 110/125 | tensor(5.5825, device='cuda:1', grad_fn=&lt;NllLossBackward0&gt;)|\n",
       "|  1   | 120/125 | tensor(4.9728, device='cuda:1', grad_fn=&lt;NllLossBackward0&gt;)|\n",
       "|  2   |  0/125  | tensor(5.2219, device='cuda:1', grad_fn=&lt;NllLossBackward0&gt;)|\n",
       "|  2   | 10/125  | tensor(5.0607, device='cuda:1', grad_fn=&lt;NllLossBackward0&gt;)|\n",
       "|  2   | 20/125  | tensor(4.9993, device='cuda:1', grad_fn=&lt;NllLossBackward0&gt;)|\n",
       "|  2   | 30/125  | tensor(5.0697, device='cuda:1', grad_fn=&lt;NllLossBackward0&gt;)|\n",
       "|  2   | 40/125  | tensor(4.9073, device='cuda:1', grad_fn=&lt;NllLossBackward0&gt;)|\n",
       "|  2   | 50/125  | tensor(5.1232, device='cuda:1', grad_fn=&lt;NllLossBackward0&gt;)|\n",
       "|  2   | 60/125  | tensor(5.3920, device='cuda:1', grad_fn=&lt;NllLossBackward0&gt;)|\n",
       "|  2   | 70/125  | tensor(4.9762, device='cuda:1', grad_fn=&lt;NllLossBackward0&gt;)|\n",
       "|  2   | 80/125  | tensor(5.4549, device='cuda:1', grad_fn=&lt;NllLossBackward0&gt;)|\n",
       "|  2   | 90/125  | tensor(5.0798, device='cuda:1', grad_fn=&lt;NllLossBackward0&gt;)|\n",
       "|  2   | 100/125 | tensor(4.8630, device='cuda:1', grad_fn=&lt;NllLossBackward0&gt;)|\n",
       "+-----------------------------------------------------------------------------+\n",
       "</pre>\n"
      ],
      "text/plain": [
       "\u001b[3m                                Training Status                                \u001b[0m\n",
       "+-----------------------------------------------------------------------------+\n",
       "|\u001b[1mEpoch\u001b[0m\u001b[1m \u001b[0m|\u001b[1m \u001b[0m\u001b[1m Steps \u001b[0m\u001b[1m \u001b[0m|\u001b[1m \u001b[0m\u001b[1m                           Loss                            \u001b[0m|\n",
       "|------+---------+------------------------------------------------------------|\n",
       "|  0   |  0/125  | tensor(6.9166, device='cuda:1', grad_fn=<NllLossBackward0>)|\n",
       "|  0   | 10/125  | tensor(6.0950, device='cuda:1', grad_fn=<NllLossBackward0>)|\n",
       "|  0   | 20/125  | tensor(6.0341, device='cuda:1', grad_fn=<NllLossBackward0>)|\n",
       "|  0   | 30/125  | tensor(6.6680, device='cuda:1', grad_fn=<NllLossBackward0>)|\n",
       "|  0   | 40/125  | tensor(6.0066, device='cuda:1', grad_fn=<NllLossBackward0>)|\n",
       "|  0   | 50/125  | tensor(5.5205, device='cuda:1', grad_fn=<NllLossBackward0>)|\n",
       "|  0   | 60/125  | tensor(5.8240, device='cuda:1', grad_fn=<NllLossBackward0>)|\n",
       "|  0   | 70/125  | tensor(6.2952, device='cuda:1', grad_fn=<NllLossBackward0>)|\n",
       "|  0   | 80/125  | tensor(5.8856, device='cuda:1', grad_fn=<NllLossBackward0>)|\n",
       "|  0   | 90/125  | tensor(5.5936, device='cuda:1', grad_fn=<NllLossBackward0>)|\n",
       "|  0   | 100/125 | tensor(5.3247, device='cuda:1', grad_fn=<NllLossBackward0>)|\n",
       "|  0   | 110/125 | tensor(5.3783, device='cuda:1', grad_fn=<NllLossBackward0>)|\n",
       "|  0   | 120/125 | tensor(5.4052, device='cuda:1', grad_fn=<NllLossBackward0>)|\n",
       "|  1   |  0/125  | tensor(5.7932, device='cuda:1', grad_fn=<NllLossBackward0>)|\n",
       "|  1   | 10/125  | tensor(5.5280, device='cuda:1', grad_fn=<NllLossBackward0>)|\n",
       "|  1   | 20/125  | tensor(5.5987, device='cuda:1', grad_fn=<NllLossBackward0>)|\n",
       "|  1   | 30/125  | tensor(5.4186, device='cuda:1', grad_fn=<NllLossBackward0>)|\n",
       "|  1   | 40/125  | tensor(5.5799, device='cuda:1', grad_fn=<NllLossBackward0>)|\n",
       "|  1   | 50/125  | tensor(5.7063, device='cuda:1', grad_fn=<NllLossBackward0>)|\n",
       "|  1   | 60/125  | tensor(5.2048, device='cuda:1', grad_fn=<NllLossBackward0>)|\n",
       "|  1   | 70/125  | tensor(5.5670, device='cuda:1', grad_fn=<NllLossBackward0>)|\n",
       "|  1   | 80/125  | tensor(5.7379, device='cuda:1', grad_fn=<NllLossBackward0>)|\n",
       "|  1   | 90/125  | tensor(5.4400, device='cuda:1', grad_fn=<NllLossBackward0>)|\n",
       "|  1   | 100/125 | tensor(5.0054, device='cuda:1', grad_fn=<NllLossBackward0>)|\n",
       "|  1   | 110/125 | tensor(5.5825, device='cuda:1', grad_fn=<NllLossBackward0>)|\n",
       "|  1   | 120/125 | tensor(4.9728, device='cuda:1', grad_fn=<NllLossBackward0>)|\n",
       "|  2   |  0/125  | tensor(5.2219, device='cuda:1', grad_fn=<NllLossBackward0>)|\n",
       "|  2   | 10/125  | tensor(5.0607, device='cuda:1', grad_fn=<NllLossBackward0>)|\n",
       "|  2   | 20/125  | tensor(4.9993, device='cuda:1', grad_fn=<NllLossBackward0>)|\n",
       "|  2   | 30/125  | tensor(5.0697, device='cuda:1', grad_fn=<NllLossBackward0>)|\n",
       "|  2   | 40/125  | tensor(4.9073, device='cuda:1', grad_fn=<NllLossBackward0>)|\n",
       "|  2   | 50/125  | tensor(5.1232, device='cuda:1', grad_fn=<NllLossBackward0>)|\n",
       "|  2   | 60/125  | tensor(5.3920, device='cuda:1', grad_fn=<NllLossBackward0>)|\n",
       "|  2   | 70/125  | tensor(4.9762, device='cuda:1', grad_fn=<NllLossBackward0>)|\n",
       "|  2   | 80/125  | tensor(5.4549, device='cuda:1', grad_fn=<NllLossBackward0>)|\n",
       "|  2   | 90/125  | tensor(5.0798, device='cuda:1', grad_fn=<NllLossBackward0>)|\n",
       "|  2   | 100/125 | tensor(4.8630, device='cuda:1', grad_fn=<NllLossBackward0>)|\n",
       "+-----------------------------------------------------------------------------+\n"
      ]
     },
     "metadata": {},
     "output_type": "display_data"
    },
    {
     "name": "stdout",
     "output_type": "stream",
     "text": [
      "STEP:  110 / 125\n"
     ]
    },
    {
     "data": {
      "text/html": [
       "<pre style=\"white-space:pre;overflow-x:auto;line-height:normal;font-family:Menlo,'DejaVu Sans Mono',consolas,'Courier New',monospace\"><span style=\"font-style: italic\">                                Training Status                                </span>\n",
       "+-----------------------------------------------------------------------------+\n",
       "|<span style=\"font-weight: bold\">Epoch </span>|<span style=\"font-weight: bold\">  Steps  </span>|<span style=\"font-weight: bold\">                            Loss                            </span>|\n",
       "|------+---------+------------------------------------------------------------|\n",
       "|  0   |  0/125  | tensor(6.9166, device='cuda:1', grad_fn=&lt;NllLossBackward0&gt;)|\n",
       "|  0   | 10/125  | tensor(6.0950, device='cuda:1', grad_fn=&lt;NllLossBackward0&gt;)|\n",
       "|  0   | 20/125  | tensor(6.0341, device='cuda:1', grad_fn=&lt;NllLossBackward0&gt;)|\n",
       "|  0   | 30/125  | tensor(6.6680, device='cuda:1', grad_fn=&lt;NllLossBackward0&gt;)|\n",
       "|  0   | 40/125  | tensor(6.0066, device='cuda:1', grad_fn=&lt;NllLossBackward0&gt;)|\n",
       "|  0   | 50/125  | tensor(5.5205, device='cuda:1', grad_fn=&lt;NllLossBackward0&gt;)|\n",
       "|  0   | 60/125  | tensor(5.8240, device='cuda:1', grad_fn=&lt;NllLossBackward0&gt;)|\n",
       "|  0   | 70/125  | tensor(6.2952, device='cuda:1', grad_fn=&lt;NllLossBackward0&gt;)|\n",
       "|  0   | 80/125  | tensor(5.8856, device='cuda:1', grad_fn=&lt;NllLossBackward0&gt;)|\n",
       "|  0   | 90/125  | tensor(5.5936, device='cuda:1', grad_fn=&lt;NllLossBackward0&gt;)|\n",
       "|  0   | 100/125 | tensor(5.3247, device='cuda:1', grad_fn=&lt;NllLossBackward0&gt;)|\n",
       "|  0   | 110/125 | tensor(5.3783, device='cuda:1', grad_fn=&lt;NllLossBackward0&gt;)|\n",
       "|  0   | 120/125 | tensor(5.4052, device='cuda:1', grad_fn=&lt;NllLossBackward0&gt;)|\n",
       "|  1   |  0/125  | tensor(5.7932, device='cuda:1', grad_fn=&lt;NllLossBackward0&gt;)|\n",
       "|  1   | 10/125  | tensor(5.5280, device='cuda:1', grad_fn=&lt;NllLossBackward0&gt;)|\n",
       "|  1   | 20/125  | tensor(5.5987, device='cuda:1', grad_fn=&lt;NllLossBackward0&gt;)|\n",
       "|  1   | 30/125  | tensor(5.4186, device='cuda:1', grad_fn=&lt;NllLossBackward0&gt;)|\n",
       "|  1   | 40/125  | tensor(5.5799, device='cuda:1', grad_fn=&lt;NllLossBackward0&gt;)|\n",
       "|  1   | 50/125  | tensor(5.7063, device='cuda:1', grad_fn=&lt;NllLossBackward0&gt;)|\n",
       "|  1   | 60/125  | tensor(5.2048, device='cuda:1', grad_fn=&lt;NllLossBackward0&gt;)|\n",
       "|  1   | 70/125  | tensor(5.5670, device='cuda:1', grad_fn=&lt;NllLossBackward0&gt;)|\n",
       "|  1   | 80/125  | tensor(5.7379, device='cuda:1', grad_fn=&lt;NllLossBackward0&gt;)|\n",
       "|  1   | 90/125  | tensor(5.4400, device='cuda:1', grad_fn=&lt;NllLossBackward0&gt;)|\n",
       "|  1   | 100/125 | tensor(5.0054, device='cuda:1', grad_fn=&lt;NllLossBackward0&gt;)|\n",
       "|  1   | 110/125 | tensor(5.5825, device='cuda:1', grad_fn=&lt;NllLossBackward0&gt;)|\n",
       "|  1   | 120/125 | tensor(4.9728, device='cuda:1', grad_fn=&lt;NllLossBackward0&gt;)|\n",
       "|  2   |  0/125  | tensor(5.2219, device='cuda:1', grad_fn=&lt;NllLossBackward0&gt;)|\n",
       "|  2   | 10/125  | tensor(5.0607, device='cuda:1', grad_fn=&lt;NllLossBackward0&gt;)|\n",
       "|  2   | 20/125  | tensor(4.9993, device='cuda:1', grad_fn=&lt;NllLossBackward0&gt;)|\n",
       "|  2   | 30/125  | tensor(5.0697, device='cuda:1', grad_fn=&lt;NllLossBackward0&gt;)|\n",
       "|  2   | 40/125  | tensor(4.9073, device='cuda:1', grad_fn=&lt;NllLossBackward0&gt;)|\n",
       "|  2   | 50/125  | tensor(5.1232, device='cuda:1', grad_fn=&lt;NllLossBackward0&gt;)|\n",
       "|  2   | 60/125  | tensor(5.3920, device='cuda:1', grad_fn=&lt;NllLossBackward0&gt;)|\n",
       "|  2   | 70/125  | tensor(4.9762, device='cuda:1', grad_fn=&lt;NllLossBackward0&gt;)|\n",
       "|  2   | 80/125  | tensor(5.4549, device='cuda:1', grad_fn=&lt;NllLossBackward0&gt;)|\n",
       "|  2   | 90/125  | tensor(5.0798, device='cuda:1', grad_fn=&lt;NllLossBackward0&gt;)|\n",
       "|  2   | 100/125 | tensor(4.8630, device='cuda:1', grad_fn=&lt;NllLossBackward0&gt;)|\n",
       "|  2   | 110/125 | tensor(5.1097, device='cuda:1', grad_fn=&lt;NllLossBackward0&gt;)|\n",
       "+-----------------------------------------------------------------------------+\n",
       "</pre>\n"
      ],
      "text/plain": [
       "\u001b[3m                                Training Status                                \u001b[0m\n",
       "+-----------------------------------------------------------------------------+\n",
       "|\u001b[1mEpoch\u001b[0m\u001b[1m \u001b[0m|\u001b[1m \u001b[0m\u001b[1m Steps \u001b[0m\u001b[1m \u001b[0m|\u001b[1m \u001b[0m\u001b[1m                           Loss                            \u001b[0m|\n",
       "|------+---------+------------------------------------------------------------|\n",
       "|  0   |  0/125  | tensor(6.9166, device='cuda:1', grad_fn=<NllLossBackward0>)|\n",
       "|  0   | 10/125  | tensor(6.0950, device='cuda:1', grad_fn=<NllLossBackward0>)|\n",
       "|  0   | 20/125  | tensor(6.0341, device='cuda:1', grad_fn=<NllLossBackward0>)|\n",
       "|  0   | 30/125  | tensor(6.6680, device='cuda:1', grad_fn=<NllLossBackward0>)|\n",
       "|  0   | 40/125  | tensor(6.0066, device='cuda:1', grad_fn=<NllLossBackward0>)|\n",
       "|  0   | 50/125  | tensor(5.5205, device='cuda:1', grad_fn=<NllLossBackward0>)|\n",
       "|  0   | 60/125  | tensor(5.8240, device='cuda:1', grad_fn=<NllLossBackward0>)|\n",
       "|  0   | 70/125  | tensor(6.2952, device='cuda:1', grad_fn=<NllLossBackward0>)|\n",
       "|  0   | 80/125  | tensor(5.8856, device='cuda:1', grad_fn=<NllLossBackward0>)|\n",
       "|  0   | 90/125  | tensor(5.5936, device='cuda:1', grad_fn=<NllLossBackward0>)|\n",
       "|  0   | 100/125 | tensor(5.3247, device='cuda:1', grad_fn=<NllLossBackward0>)|\n",
       "|  0   | 110/125 | tensor(5.3783, device='cuda:1', grad_fn=<NllLossBackward0>)|\n",
       "|  0   | 120/125 | tensor(5.4052, device='cuda:1', grad_fn=<NllLossBackward0>)|\n",
       "|  1   |  0/125  | tensor(5.7932, device='cuda:1', grad_fn=<NllLossBackward0>)|\n",
       "|  1   | 10/125  | tensor(5.5280, device='cuda:1', grad_fn=<NllLossBackward0>)|\n",
       "|  1   | 20/125  | tensor(5.5987, device='cuda:1', grad_fn=<NllLossBackward0>)|\n",
       "|  1   | 30/125  | tensor(5.4186, device='cuda:1', grad_fn=<NllLossBackward0>)|\n",
       "|  1   | 40/125  | tensor(5.5799, device='cuda:1', grad_fn=<NllLossBackward0>)|\n",
       "|  1   | 50/125  | tensor(5.7063, device='cuda:1', grad_fn=<NllLossBackward0>)|\n",
       "|  1   | 60/125  | tensor(5.2048, device='cuda:1', grad_fn=<NllLossBackward0>)|\n",
       "|  1   | 70/125  | tensor(5.5670, device='cuda:1', grad_fn=<NllLossBackward0>)|\n",
       "|  1   | 80/125  | tensor(5.7379, device='cuda:1', grad_fn=<NllLossBackward0>)|\n",
       "|  1   | 90/125  | tensor(5.4400, device='cuda:1', grad_fn=<NllLossBackward0>)|\n",
       "|  1   | 100/125 | tensor(5.0054, device='cuda:1', grad_fn=<NllLossBackward0>)|\n",
       "|  1   | 110/125 | tensor(5.5825, device='cuda:1', grad_fn=<NllLossBackward0>)|\n",
       "|  1   | 120/125 | tensor(4.9728, device='cuda:1', grad_fn=<NllLossBackward0>)|\n",
       "|  2   |  0/125  | tensor(5.2219, device='cuda:1', grad_fn=<NllLossBackward0>)|\n",
       "|  2   | 10/125  | tensor(5.0607, device='cuda:1', grad_fn=<NllLossBackward0>)|\n",
       "|  2   | 20/125  | tensor(4.9993, device='cuda:1', grad_fn=<NllLossBackward0>)|\n",
       "|  2   | 30/125  | tensor(5.0697, device='cuda:1', grad_fn=<NllLossBackward0>)|\n",
       "|  2   | 40/125  | tensor(4.9073, device='cuda:1', grad_fn=<NllLossBackward0>)|\n",
       "|  2   | 50/125  | tensor(5.1232, device='cuda:1', grad_fn=<NllLossBackward0>)|\n",
       "|  2   | 60/125  | tensor(5.3920, device='cuda:1', grad_fn=<NllLossBackward0>)|\n",
       "|  2   | 70/125  | tensor(4.9762, device='cuda:1', grad_fn=<NllLossBackward0>)|\n",
       "|  2   | 80/125  | tensor(5.4549, device='cuda:1', grad_fn=<NllLossBackward0>)|\n",
       "|  2   | 90/125  | tensor(5.0798, device='cuda:1', grad_fn=<NllLossBackward0>)|\n",
       "|  2   | 100/125 | tensor(4.8630, device='cuda:1', grad_fn=<NllLossBackward0>)|\n",
       "|  2   | 110/125 | tensor(5.1097, device='cuda:1', grad_fn=<NllLossBackward0>)|\n",
       "+-----------------------------------------------------------------------------+\n"
      ]
     },
     "metadata": {},
     "output_type": "display_data"
    },
    {
     "name": "stdout",
     "output_type": "stream",
     "text": [
      "STEP:  120 / 125\n"
     ]
    },
    {
     "data": {
      "text/html": [
       "<pre style=\"white-space:pre;overflow-x:auto;line-height:normal;font-family:Menlo,'DejaVu Sans Mono',consolas,'Courier New',monospace\"><span style=\"font-style: italic\">                                Training Status                                </span>\n",
       "+-----------------------------------------------------------------------------+\n",
       "|<span style=\"font-weight: bold\">Epoch </span>|<span style=\"font-weight: bold\">  Steps  </span>|<span style=\"font-weight: bold\">                            Loss                            </span>|\n",
       "|------+---------+------------------------------------------------------------|\n",
       "|  0   |  0/125  | tensor(6.9166, device='cuda:1', grad_fn=&lt;NllLossBackward0&gt;)|\n",
       "|  0   | 10/125  | tensor(6.0950, device='cuda:1', grad_fn=&lt;NllLossBackward0&gt;)|\n",
       "|  0   | 20/125  | tensor(6.0341, device='cuda:1', grad_fn=&lt;NllLossBackward0&gt;)|\n",
       "|  0   | 30/125  | tensor(6.6680, device='cuda:1', grad_fn=&lt;NllLossBackward0&gt;)|\n",
       "|  0   | 40/125  | tensor(6.0066, device='cuda:1', grad_fn=&lt;NllLossBackward0&gt;)|\n",
       "|  0   | 50/125  | tensor(5.5205, device='cuda:1', grad_fn=&lt;NllLossBackward0&gt;)|\n",
       "|  0   | 60/125  | tensor(5.8240, device='cuda:1', grad_fn=&lt;NllLossBackward0&gt;)|\n",
       "|  0   | 70/125  | tensor(6.2952, device='cuda:1', grad_fn=&lt;NllLossBackward0&gt;)|\n",
       "|  0   | 80/125  | tensor(5.8856, device='cuda:1', grad_fn=&lt;NllLossBackward0&gt;)|\n",
       "|  0   | 90/125  | tensor(5.5936, device='cuda:1', grad_fn=&lt;NllLossBackward0&gt;)|\n",
       "|  0   | 100/125 | tensor(5.3247, device='cuda:1', grad_fn=&lt;NllLossBackward0&gt;)|\n",
       "|  0   | 110/125 | tensor(5.3783, device='cuda:1', grad_fn=&lt;NllLossBackward0&gt;)|\n",
       "|  0   | 120/125 | tensor(5.4052, device='cuda:1', grad_fn=&lt;NllLossBackward0&gt;)|\n",
       "|  1   |  0/125  | tensor(5.7932, device='cuda:1', grad_fn=&lt;NllLossBackward0&gt;)|\n",
       "|  1   | 10/125  | tensor(5.5280, device='cuda:1', grad_fn=&lt;NllLossBackward0&gt;)|\n",
       "|  1   | 20/125  | tensor(5.5987, device='cuda:1', grad_fn=&lt;NllLossBackward0&gt;)|\n",
       "|  1   | 30/125  | tensor(5.4186, device='cuda:1', grad_fn=&lt;NllLossBackward0&gt;)|\n",
       "|  1   | 40/125  | tensor(5.5799, device='cuda:1', grad_fn=&lt;NllLossBackward0&gt;)|\n",
       "|  1   | 50/125  | tensor(5.7063, device='cuda:1', grad_fn=&lt;NllLossBackward0&gt;)|\n",
       "|  1   | 60/125  | tensor(5.2048, device='cuda:1', grad_fn=&lt;NllLossBackward0&gt;)|\n",
       "|  1   | 70/125  | tensor(5.5670, device='cuda:1', grad_fn=&lt;NllLossBackward0&gt;)|\n",
       "|  1   | 80/125  | tensor(5.7379, device='cuda:1', grad_fn=&lt;NllLossBackward0&gt;)|\n",
       "|  1   | 90/125  | tensor(5.4400, device='cuda:1', grad_fn=&lt;NllLossBackward0&gt;)|\n",
       "|  1   | 100/125 | tensor(5.0054, device='cuda:1', grad_fn=&lt;NllLossBackward0&gt;)|\n",
       "|  1   | 110/125 | tensor(5.5825, device='cuda:1', grad_fn=&lt;NllLossBackward0&gt;)|\n",
       "|  1   | 120/125 | tensor(4.9728, device='cuda:1', grad_fn=&lt;NllLossBackward0&gt;)|\n",
       "|  2   |  0/125  | tensor(5.2219, device='cuda:1', grad_fn=&lt;NllLossBackward0&gt;)|\n",
       "|  2   | 10/125  | tensor(5.0607, device='cuda:1', grad_fn=&lt;NllLossBackward0&gt;)|\n",
       "|  2   | 20/125  | tensor(4.9993, device='cuda:1', grad_fn=&lt;NllLossBackward0&gt;)|\n",
       "|  2   | 30/125  | tensor(5.0697, device='cuda:1', grad_fn=&lt;NllLossBackward0&gt;)|\n",
       "|  2   | 40/125  | tensor(4.9073, device='cuda:1', grad_fn=&lt;NllLossBackward0&gt;)|\n",
       "|  2   | 50/125  | tensor(5.1232, device='cuda:1', grad_fn=&lt;NllLossBackward0&gt;)|\n",
       "|  2   | 60/125  | tensor(5.3920, device='cuda:1', grad_fn=&lt;NllLossBackward0&gt;)|\n",
       "|  2   | 70/125  | tensor(4.9762, device='cuda:1', grad_fn=&lt;NllLossBackward0&gt;)|\n",
       "|  2   | 80/125  | tensor(5.4549, device='cuda:1', grad_fn=&lt;NllLossBackward0&gt;)|\n",
       "|  2   | 90/125  | tensor(5.0798, device='cuda:1', grad_fn=&lt;NllLossBackward0&gt;)|\n",
       "|  2   | 100/125 | tensor(4.8630, device='cuda:1', grad_fn=&lt;NllLossBackward0&gt;)|\n",
       "|  2   | 110/125 | tensor(5.1097, device='cuda:1', grad_fn=&lt;NllLossBackward0&gt;)|\n",
       "|  2   | 120/125 | tensor(5.0070, device='cuda:1', grad_fn=&lt;NllLossBackward0&gt;)|\n",
       "+-----------------------------------------------------------------------------+\n",
       "</pre>\n"
      ],
      "text/plain": [
       "\u001b[3m                                Training Status                                \u001b[0m\n",
       "+-----------------------------------------------------------------------------+\n",
       "|\u001b[1mEpoch\u001b[0m\u001b[1m \u001b[0m|\u001b[1m \u001b[0m\u001b[1m Steps \u001b[0m\u001b[1m \u001b[0m|\u001b[1m \u001b[0m\u001b[1m                           Loss                            \u001b[0m|\n",
       "|------+---------+------------------------------------------------------------|\n",
       "|  0   |  0/125  | tensor(6.9166, device='cuda:1', grad_fn=<NllLossBackward0>)|\n",
       "|  0   | 10/125  | tensor(6.0950, device='cuda:1', grad_fn=<NllLossBackward0>)|\n",
       "|  0   | 20/125  | tensor(6.0341, device='cuda:1', grad_fn=<NllLossBackward0>)|\n",
       "|  0   | 30/125  | tensor(6.6680, device='cuda:1', grad_fn=<NllLossBackward0>)|\n",
       "|  0   | 40/125  | tensor(6.0066, device='cuda:1', grad_fn=<NllLossBackward0>)|\n",
       "|  0   | 50/125  | tensor(5.5205, device='cuda:1', grad_fn=<NllLossBackward0>)|\n",
       "|  0   | 60/125  | tensor(5.8240, device='cuda:1', grad_fn=<NllLossBackward0>)|\n",
       "|  0   | 70/125  | tensor(6.2952, device='cuda:1', grad_fn=<NllLossBackward0>)|\n",
       "|  0   | 80/125  | tensor(5.8856, device='cuda:1', grad_fn=<NllLossBackward0>)|\n",
       "|  0   | 90/125  | tensor(5.5936, device='cuda:1', grad_fn=<NllLossBackward0>)|\n",
       "|  0   | 100/125 | tensor(5.3247, device='cuda:1', grad_fn=<NllLossBackward0>)|\n",
       "|  0   | 110/125 | tensor(5.3783, device='cuda:1', grad_fn=<NllLossBackward0>)|\n",
       "|  0   | 120/125 | tensor(5.4052, device='cuda:1', grad_fn=<NllLossBackward0>)|\n",
       "|  1   |  0/125  | tensor(5.7932, device='cuda:1', grad_fn=<NllLossBackward0>)|\n",
       "|  1   | 10/125  | tensor(5.5280, device='cuda:1', grad_fn=<NllLossBackward0>)|\n",
       "|  1   | 20/125  | tensor(5.5987, device='cuda:1', grad_fn=<NllLossBackward0>)|\n",
       "|  1   | 30/125  | tensor(5.4186, device='cuda:1', grad_fn=<NllLossBackward0>)|\n",
       "|  1   | 40/125  | tensor(5.5799, device='cuda:1', grad_fn=<NllLossBackward0>)|\n",
       "|  1   | 50/125  | tensor(5.7063, device='cuda:1', grad_fn=<NllLossBackward0>)|\n",
       "|  1   | 60/125  | tensor(5.2048, device='cuda:1', grad_fn=<NllLossBackward0>)|\n",
       "|  1   | 70/125  | tensor(5.5670, device='cuda:1', grad_fn=<NllLossBackward0>)|\n",
       "|  1   | 80/125  | tensor(5.7379, device='cuda:1', grad_fn=<NllLossBackward0>)|\n",
       "|  1   | 90/125  | tensor(5.4400, device='cuda:1', grad_fn=<NllLossBackward0>)|\n",
       "|  1   | 100/125 | tensor(5.0054, device='cuda:1', grad_fn=<NllLossBackward0>)|\n",
       "|  1   | 110/125 | tensor(5.5825, device='cuda:1', grad_fn=<NllLossBackward0>)|\n",
       "|  1   | 120/125 | tensor(4.9728, device='cuda:1', grad_fn=<NllLossBackward0>)|\n",
       "|  2   |  0/125  | tensor(5.2219, device='cuda:1', grad_fn=<NllLossBackward0>)|\n",
       "|  2   | 10/125  | tensor(5.0607, device='cuda:1', grad_fn=<NllLossBackward0>)|\n",
       "|  2   | 20/125  | tensor(4.9993, device='cuda:1', grad_fn=<NllLossBackward0>)|\n",
       "|  2   | 30/125  | tensor(5.0697, device='cuda:1', grad_fn=<NllLossBackward0>)|\n",
       "|  2   | 40/125  | tensor(4.9073, device='cuda:1', grad_fn=<NllLossBackward0>)|\n",
       "|  2   | 50/125  | tensor(5.1232, device='cuda:1', grad_fn=<NllLossBackward0>)|\n",
       "|  2   | 60/125  | tensor(5.3920, device='cuda:1', grad_fn=<NllLossBackward0>)|\n",
       "|  2   | 70/125  | tensor(4.9762, device='cuda:1', grad_fn=<NllLossBackward0>)|\n",
       "|  2   | 80/125  | tensor(5.4549, device='cuda:1', grad_fn=<NllLossBackward0>)|\n",
       "|  2   | 90/125  | tensor(5.0798, device='cuda:1', grad_fn=<NllLossBackward0>)|\n",
       "|  2   | 100/125 | tensor(4.8630, device='cuda:1', grad_fn=<NllLossBackward0>)|\n",
       "|  2   | 110/125 | tensor(5.1097, device='cuda:1', grad_fn=<NllLossBackward0>)|\n",
       "|  2   | 120/125 | tensor(5.0070, device='cuda:1', grad_fn=<NllLossBackward0>)|\n",
       "+-----------------------------------------------------------------------------+\n"
      ]
     },
     "metadata": {},
     "output_type": "display_data"
    },
    {
     "data": {
      "text/html": [
       "<pre style=\"white-space:pre;overflow-x:auto;line-height:normal;font-family:Menlo,'DejaVu Sans Mono',consolas,'Courier New',monospace\">Completed <span style=\"color: #008080; text-decoration-color: #008080; font-weight: bold\">0</span>\n",
       "</pre>\n"
      ],
      "text/plain": [
       "Completed \u001b[1;36m0\u001b[0m\n"
      ]
     },
     "metadata": {},
     "output_type": "display_data"
    },
    {
     "data": {
      "text/html": [
       "<pre style=\"white-space:pre;overflow-x:auto;line-height:normal;font-family:Menlo,'DejaVu Sans Mono',consolas,'Courier New',monospace\">Completed <span style=\"color: #008080; text-decoration-color: #008080; font-weight: bold\">10</span>\n",
       "</pre>\n"
      ],
      "text/plain": [
       "Completed \u001b[1;36m10\u001b[0m\n"
      ]
     },
     "metadata": {},
     "output_type": "display_data"
    },
    {
     "data": {
      "text/html": [
       "<pre style=\"white-space:pre;overflow-x:auto;line-height:normal;font-family:Menlo,'DejaVu Sans Mono',consolas,'Courier New',monospace\">Completed <span style=\"color: #008080; text-decoration-color: #008080; font-weight: bold\">20</span>\n",
       "</pre>\n"
      ],
      "text/plain": [
       "Completed \u001b[1;36m20\u001b[0m\n"
      ]
     },
     "metadata": {},
     "output_type": "display_data"
    },
    {
     "data": {
      "text/html": [
       "<pre style=\"white-space:pre;overflow-x:auto;line-height:normal;font-family:Menlo,'DejaVu Sans Mono',consolas,'Courier New',monospace\">Completed <span style=\"color: #008080; text-decoration-color: #008080; font-weight: bold\">30</span>\n",
       "</pre>\n"
      ],
      "text/plain": [
       "Completed \u001b[1;36m30\u001b[0m\n"
      ]
     },
     "metadata": {},
     "output_type": "display_data"
    },
    {
     "data": {
      "text/html": [
       "<pre style=\"white-space:pre;overflow-x:auto;line-height:normal;font-family:Menlo,'DejaVu Sans Mono',consolas,'Courier New',monospace\">Completed <span style=\"color: #008080; text-decoration-color: #008080; font-weight: bold\">40</span>\n",
       "</pre>\n"
      ],
      "text/plain": [
       "Completed \u001b[1;36m40\u001b[0m\n"
      ]
     },
     "metadata": {},
     "output_type": "display_data"
    },
    {
     "data": {
      "text/html": [
       "<pre style=\"white-space:pre;overflow-x:auto;line-height:normal;font-family:Menlo,'DejaVu Sans Mono',consolas,'Courier New',monospace\">Completed <span style=\"color: #008080; text-decoration-color: #008080; font-weight: bold\">50</span>\n",
       "</pre>\n"
      ],
      "text/plain": [
       "Completed \u001b[1;36m50\u001b[0m\n"
      ]
     },
     "metadata": {},
     "output_type": "display_data"
    },
    {
     "data": {
      "text/html": [
       "<pre style=\"white-space:pre;overflow-x:auto;line-height:normal;font-family:Menlo,'DejaVu Sans Mono',consolas,'Courier New',monospace\">Completed <span style=\"color: #008080; text-decoration-color: #008080; font-weight: bold\">60</span>\n",
       "</pre>\n"
      ],
      "text/plain": [
       "Completed \u001b[1;36m60\u001b[0m\n"
      ]
     },
     "metadata": {},
     "output_type": "display_data"
    },
    {
     "data": {
      "text/html": [
       "<pre style=\"white-space:pre;overflow-x:auto;line-height:normal;font-family:Menlo,'DejaVu Sans Mono',consolas,'Courier New',monospace\">Completed <span style=\"color: #008080; text-decoration-color: #008080; font-weight: bold\">70</span>\n",
       "</pre>\n"
      ],
      "text/plain": [
       "Completed \u001b[1;36m70\u001b[0m\n"
      ]
     },
     "metadata": {},
     "output_type": "display_data"
    },
    {
     "data": {
      "text/html": [
       "<pre style=\"white-space:pre;overflow-x:auto;line-height:normal;font-family:Menlo,'DejaVu Sans Mono',consolas,'Courier New',monospace\">Completed <span style=\"color: #008080; text-decoration-color: #008080; font-weight: bold\">80</span>\n",
       "</pre>\n"
      ],
      "text/plain": [
       "Completed \u001b[1;36m80\u001b[0m\n"
      ]
     },
     "metadata": {},
     "output_type": "display_data"
    },
    {
     "data": {
      "text/html": [
       "<pre style=\"white-space:pre;overflow-x:auto;line-height:normal;font-family:Menlo,'DejaVu Sans Mono',consolas,'Courier New',monospace\">Completed <span style=\"color: #008080; text-decoration-color: #008080; font-weight: bold\">90</span>\n",
       "</pre>\n"
      ],
      "text/plain": [
       "Completed \u001b[1;36m90\u001b[0m\n"
      ]
     },
     "metadata": {},
     "output_type": "display_data"
    },
    {
     "data": {
      "text/html": [
       "<pre style=\"white-space:pre;overflow-x:auto;line-height:normal;font-family:Menlo,'DejaVu Sans Mono',consolas,'Courier New',monospace\">Completed <span style=\"color: #008080; text-decoration-color: #008080; font-weight: bold\">100</span>\n",
       "</pre>\n"
      ],
      "text/plain": [
       "Completed \u001b[1;36m100\u001b[0m\n"
      ]
     },
     "metadata": {},
     "output_type": "display_data"
    },
    {
     "data": {
      "text/html": [
       "<pre style=\"white-space:pre;overflow-x:auto;line-height:normal;font-family:Menlo,'DejaVu Sans Mono',consolas,'Courier New',monospace\">Completed <span style=\"color: #008080; text-decoration-color: #008080; font-weight: bold\">110</span>\n",
       "</pre>\n"
      ],
      "text/plain": [
       "Completed \u001b[1;36m110\u001b[0m\n"
      ]
     },
     "metadata": {},
     "output_type": "display_data"
    },
    {
     "data": {
      "text/html": [
       "<pre style=\"white-space:pre;overflow-x:auto;line-height:normal;font-family:Menlo,'DejaVu Sans Mono',consolas,'Courier New',monospace\">Completed <span style=\"color: #008080; text-decoration-color: #008080; font-weight: bold\">120</span>\n",
       "</pre>\n"
      ],
      "text/plain": [
       "Completed \u001b[1;36m120\u001b[0m\n"
      ]
     },
     "metadata": {},
     "output_type": "display_data"
    },
    {
     "name": "stdout",
     "output_type": "stream",
     "text": [
      "SAVE TO CSV FINISHED\n",
      "SAVE ROUGE TO CSV FINISHED\n"
     ]
    },
    {
     "data": {
      "text/html": [
       "<pre style=\"white-space:pre;overflow-x:auto;line-height:normal;font-family:Menlo,'DejaVu Sans Mono',consolas,'Courier New',monospace\"><span style=\"color: #7fbfbf; text-decoration-color: #7fbfbf\">[02:57:55] </span><span style=\"font-weight: bold\">[</span>Saving Model<span style=\"font-weight: bold\">]</span><span style=\"color: #808000; text-decoration-color: #808000\">...</span>                                                <a href=\"file:///tmp/ipykernel_31984/2866526439.py\" target=\"_blank\"><span style=\"color: #7f7f7f; text-decoration-color: #7f7f7f\">2866526439.py</span></a><span style=\"color: #7f7f7f; text-decoration-color: #7f7f7f\">:</span><a href=\"file:///tmp/ipykernel_31984/2866526439.py#126\" target=\"_blank\"><span style=\"color: #7f7f7f; text-decoration-color: #7f7f7f\">126</span></a>\n",
       "<span style=\"color: #7fbfbf; text-decoration-color: #7fbfbf\">           </span>                                                                 <span style=\"color: #7f7f7f; text-decoration-color: #7f7f7f\">                 </span>\n",
       "</pre>\n"
      ],
      "text/plain": [
       "\u001b[2;36m[02:57:55]\u001b[0m\u001b[2;36m \u001b[0m\u001b[1m[\u001b[0mSaving Model\u001b[1m]\u001b[0m\u001b[33m...\u001b[0m                                                \u001b]8;id=775225;file:///tmp/ipykernel_31984/2866526439.py\u001b\\\u001b[2m2866526439.py\u001b[0m\u001b]8;;\u001b\\\u001b[2m:\u001b[0m\u001b]8;id=893051;file:///tmp/ipykernel_31984/2866526439.py#126\u001b\\\u001b[2m126\u001b[0m\u001b]8;;\u001b\\\n",
       "\u001b[2;36m           \u001b[0m                                                                 \u001b[2m                 \u001b[0m\n"
      ]
     },
     "metadata": {},
     "output_type": "display_data"
    },
    {
     "data": {
      "text/html": [
       "<pre style=\"white-space:pre;overflow-x:auto;line-height:normal;font-family:Menlo,'DejaVu Sans Mono',consolas,'Courier New',monospace\"><span style=\"color: #7fbfbf; text-decoration-color: #7fbfbf\">[02:58:01] </span><span style=\"font-weight: bold\">[</span>Validation Completed.<span style=\"font-weight: bold\">]</span>                                          <a href=\"file:///tmp/ipykernel_31984/2866526439.py\" target=\"_blank\"><span style=\"color: #7f7f7f; text-decoration-color: #7f7f7f\">2866526439.py</span></a><span style=\"color: #7f7f7f; text-decoration-color: #7f7f7f\">:</span><a href=\"file:///tmp/ipykernel_31984/2866526439.py#138\" target=\"_blank\"><span style=\"color: #7f7f7f; text-decoration-color: #7f7f7f\">138</span></a>\n",
       "<span style=\"color: #7fbfbf; text-decoration-color: #7fbfbf\">           </span>                                                                 <span style=\"color: #7f7f7f; text-decoration-color: #7f7f7f\">                 </span>\n",
       "</pre>\n"
      ],
      "text/plain": [
       "\u001b[2;36m[02:58:01]\u001b[0m\u001b[2;36m \u001b[0m\u001b[1m[\u001b[0mValidation Completed.\u001b[1m]\u001b[0m                                          \u001b]8;id=613644;file:///tmp/ipykernel_31984/2866526439.py\u001b\\\u001b[2m2866526439.py\u001b[0m\u001b]8;;\u001b\\\u001b[2m:\u001b[0m\u001b]8;id=933468;file:///tmp/ipykernel_31984/2866526439.py#138\u001b\\\u001b[2m138\u001b[0m\u001b]8;;\u001b\\\n",
       "\u001b[2;36m           \u001b[0m                                                                 \u001b[2m                 \u001b[0m\n"
      ]
     },
     "metadata": {},
     "output_type": "display_data"
    },
    {
     "data": {
      "text/html": [
       "<pre style=\"white-space:pre;overflow-x:auto;line-height:normal;font-family:Menlo,'DejaVu Sans Mono',consolas,'Courier New',monospace\"><span style=\"font-weight: bold\">[</span>Model<span style=\"font-weight: bold\">]</span> Model saved @ outputs/model_files\n",
       "\n",
       "</pre>\n"
      ],
      "text/plain": [
       "\u001b[1m[\u001b[0mModel\u001b[1m]\u001b[0m Model saved @ outputs/model_files\n",
       "\n"
      ]
     },
     "metadata": {},
     "output_type": "display_data"
    },
    {
     "data": {
      "text/html": [
       "<pre style=\"white-space:pre;overflow-x:auto;line-height:normal;font-family:Menlo,'DejaVu Sans Mono',consolas,'Courier New',monospace\"><span style=\"font-weight: bold\">[</span>Validation<span style=\"font-weight: bold\">]</span> Generation on Validation data saved @ outputs/predictions.csv\n",
       "\n",
       "</pre>\n"
      ],
      "text/plain": [
       "\u001b[1m[\u001b[0mValidation\u001b[1m]\u001b[0m Generation on Validation data saved @ outputs/predictions.csv\n",
       "\n"
      ]
     },
     "metadata": {},
     "output_type": "display_data"
    },
    {
     "data": {
      "text/html": [
       "<pre style=\"white-space:pre;overflow-x:auto;line-height:normal;font-family:Menlo,'DejaVu Sans Mono',consolas,'Courier New',monospace\"><span style=\"font-weight: bold\">[</span>Logs<span style=\"font-weight: bold\">]</span> Logs saved @ outputs/logs.txt\n",
       "\n",
       "</pre>\n"
      ],
      "text/plain": [
       "\u001b[1m[\u001b[0mLogs\u001b[1m]\u001b[0m Logs saved @ outputs/logs.txt\n",
       "\n"
      ]
     },
     "metadata": {},
     "output_type": "display_data"
    }
   ],
   "source": [
    "console = Console(record=True)\n",
    "\n",
    "training_logger = Table(\n",
    "    Column(\"Epoch\", justify=\"center\"),\n",
    "    Column(\"Steps\", justify=\"center\"),\n",
    "    Column(\"Loss\", justify=\"center\"),\n",
    "    title=\"Training Status\",\n",
    "    pad_edge=False,\n",
    "    box=box.ASCII,\n",
    ")\n",
    "\n",
    "Trainer(\n",
    "    dataset=dataset,\n",
    "    source_text=source_text, \n",
    "    target_text=target_text,\n",
    "    model_params=model_params,\n",
    "#     output_dir=os.getcwd() + '\\outputs\\\\',\n",
    "    output_dir='outputs',\n",
    "    device = device,\n",
    ")"
   ]
  },
  {
   "cell_type": "code",
   "execution_count": 12,
   "id": "cfadd612",
   "metadata": {},
   "outputs": [
    {
     "name": "stdout",
     "output_type": "stream",
     "text": [
      "====================== Done =======================\n"
     ]
    }
   ],
   "source": [
    "print(\"====================== Done =======================\")"
   ]
  },
  {
   "cell_type": "code",
   "execution_count": 13,
   "id": "cfa8ddfd",
   "metadata": {},
   "outputs": [
    {
     "data": {
      "text/html": [
       "<div>\n",
       "<style scoped>\n",
       "    .dataframe tbody tr th:only-of-type {\n",
       "        vertical-align: middle;\n",
       "    }\n",
       "\n",
       "    .dataframe tbody tr th {\n",
       "        vertical-align: top;\n",
       "    }\n",
       "\n",
       "    .dataframe thead th {\n",
       "        text-align: right;\n",
       "    }\n",
       "</style>\n",
       "<table border=\"1\" class=\"dataframe\">\n",
       "  <thead>\n",
       "    <tr style=\"text-align: right;\">\n",
       "      <th></th>\n",
       "      <th>Unnamed: 0</th>\n",
       "      <th>0</th>\n",
       "      <th>1</th>\n",
       "      <th>2</th>\n",
       "      <th>3</th>\n",
       "      <th>4</th>\n",
       "      <th>5</th>\n",
       "      <th>6</th>\n",
       "      <th>7</th>\n",
       "      <th>8</th>\n",
       "      <th>...</th>\n",
       "      <th>989</th>\n",
       "      <th>990</th>\n",
       "      <th>991</th>\n",
       "      <th>992</th>\n",
       "      <th>993</th>\n",
       "      <th>994</th>\n",
       "      <th>995</th>\n",
       "      <th>996</th>\n",
       "      <th>997</th>\n",
       "      <th>998</th>\n",
       "    </tr>\n",
       "  </thead>\n",
       "  <tbody>\n",
       "    <tr>\n",
       "      <th>0</th>\n",
       "      <td>precision</td>\n",
       "      <td>0.0</td>\n",
       "      <td>0.111111</td>\n",
       "      <td>0.266667</td>\n",
       "      <td>0.045455</td>\n",
       "      <td>0.333333</td>\n",
       "      <td>0.120000</td>\n",
       "      <td>0.045455</td>\n",
       "      <td>0.037037</td>\n",
       "      <td>0.136364</td>\n",
       "      <td>...</td>\n",
       "      <td>0.105263</td>\n",
       "      <td>0.20</td>\n",
       "      <td>0.105263</td>\n",
       "      <td>0.115385</td>\n",
       "      <td>0.068966</td>\n",
       "      <td>0.111111</td>\n",
       "      <td>0.208333</td>\n",
       "      <td>0.115385</td>\n",
       "      <td>0.120000</td>\n",
       "      <td>0.038462</td>\n",
       "    </tr>\n",
       "    <tr>\n",
       "      <th>1</th>\n",
       "      <td>recall</td>\n",
       "      <td>0.0</td>\n",
       "      <td>0.100000</td>\n",
       "      <td>0.190476</td>\n",
       "      <td>0.040000</td>\n",
       "      <td>0.178571</td>\n",
       "      <td>0.150000</td>\n",
       "      <td>0.028571</td>\n",
       "      <td>0.058824</td>\n",
       "      <td>0.103448</td>\n",
       "      <td>...</td>\n",
       "      <td>0.105263</td>\n",
       "      <td>0.12</td>\n",
       "      <td>0.066667</td>\n",
       "      <td>0.136364</td>\n",
       "      <td>0.166667</td>\n",
       "      <td>0.250000</td>\n",
       "      <td>0.138889</td>\n",
       "      <td>0.096774</td>\n",
       "      <td>0.066667</td>\n",
       "      <td>0.052632</td>\n",
       "    </tr>\n",
       "    <tr>\n",
       "      <th>2</th>\n",
       "      <td>fmeasure</td>\n",
       "      <td>0.0</td>\n",
       "      <td>0.105263</td>\n",
       "      <td>0.222222</td>\n",
       "      <td>0.042553</td>\n",
       "      <td>0.232558</td>\n",
       "      <td>0.133333</td>\n",
       "      <td>0.035088</td>\n",
       "      <td>0.045455</td>\n",
       "      <td>0.117647</td>\n",
       "      <td>...</td>\n",
       "      <td>0.105263</td>\n",
       "      <td>0.15</td>\n",
       "      <td>0.081633</td>\n",
       "      <td>0.125000</td>\n",
       "      <td>0.097561</td>\n",
       "      <td>0.153846</td>\n",
       "      <td>0.166667</td>\n",
       "      <td>0.105263</td>\n",
       "      <td>0.085714</td>\n",
       "      <td>0.044444</td>\n",
       "    </tr>\n",
       "  </tbody>\n",
       "</table>\n",
       "<p>3 rows × 1000 columns</p>\n",
       "</div>"
      ],
      "text/plain": [
       "  Unnamed: 0    0         1         2         3         4         5         6  \\\n",
       "0  precision  0.0  0.111111  0.266667  0.045455  0.333333  0.120000  0.045455   \n",
       "1     recall  0.0  0.100000  0.190476  0.040000  0.178571  0.150000  0.028571   \n",
       "2   fmeasure  0.0  0.105263  0.222222  0.042553  0.232558  0.133333  0.035088   \n",
       "\n",
       "          7         8  ...       989   990       991       992       993  \\\n",
       "0  0.037037  0.136364  ...  0.105263  0.20  0.105263  0.115385  0.068966   \n",
       "1  0.058824  0.103448  ...  0.105263  0.12  0.066667  0.136364  0.166667   \n",
       "2  0.045455  0.117647  ...  0.105263  0.15  0.081633  0.125000  0.097561   \n",
       "\n",
       "        994       995       996       997       998  \n",
       "0  0.111111  0.208333  0.115385  0.120000  0.038462  \n",
       "1  0.250000  0.138889  0.096774  0.066667  0.052632  \n",
       "2  0.153846  0.166667  0.105263  0.085714  0.044444  \n",
       "\n",
       "[3 rows x 1000 columns]"
      ]
     },
     "execution_count": 13,
     "metadata": {},
     "output_type": "execute_result"
    }
   ],
   "source": [
    "import pandas as pd\n",
    "\n",
    "rouge_df = pd.read_csv('outputs/rouge_t5-small_epoch9.csv')\n",
    "\n",
    "rouge_df.head()"
   ]
  },
  {
   "cell_type": "code",
   "execution_count": 14,
   "id": "3c7a3f72",
   "metadata": {},
   "outputs": [],
   "source": [
    "# output_dir='outputs'\n",
    "\n",
    "# tosave = np.array([1,2,3,4,5])\n",
    "# np.save(os.path.join(output_dir, 'predictions.npy'), tosave)\n",
    "\n",
    "# print(\"Done\")"
   ]
  },
  {
   "cell_type": "markdown",
   "id": "684972b4",
   "metadata": {},
   "source": [
    "<hr>"
   ]
  },
  {
   "cell_type": "markdown",
   "id": "4cfdcfaf",
   "metadata": {},
   "source": [
    "<a id=\"2\"></a>\n",
    "# 2. Truncating middle tokens with T5 and Xsum"
   ]
  },
  {
   "cell_type": "markdown",
   "id": "f35a983c",
   "metadata": {},
   "source": [
    "Create a dataset class that truncates text data with tokenizer"
   ]
  },
  {
   "cell_type": "code",
   "execution_count": 11,
   "id": "8f63251c",
   "metadata": {},
   "outputs": [],
   "source": [
    "class Truncate_Dataset(Dataset):\n",
    "    \"\"\"\n",
    "    Creating a custom dataset for reading the dataset and\n",
    "    loading it into the dataloader to pass it to the\n",
    "    neural network for finetuning the model\n",
    "\n",
    "    \"\"\"\n",
    "\n",
    "    def __init__(\n",
    "        self, data, tokenizer, model_name, source_len, target_len, source_text, target_text, #train = True,\n",
    "    ):\n",
    "        \"\"\"\n",
    "        Initializes a Dataset class\n",
    "\n",
    "        Args:yo\n",
    "            data: Input data\n",
    "            tokenizer (transformers.tokenizer): Transformers tokenizer\n",
    "            source_len (int): Max length of source text\n",
    "            target_len (int): Max length of target text\n",
    "            source_text (str): column name of source text\n",
    "            target_text (str): column name of target text\n",
    "        \"\"\"\n",
    "        self.tokenizer = tokenizer\n",
    "        self.data = data\n",
    "        self.source_len = source_len\n",
    "        self.summ_len = target_len\n",
    "        \n",
    "        # Xsum contains about 200000+ samples, so lets just take a small portion\n",
    "        self.source_text = self.data[source_text][:1000]\n",
    "        if \"t5\" in model_name:\n",
    "            self.source_text = self.add_prefix(self.source_text)\n",
    "        self.target_text = self.data[target_text][1:1000]\n",
    "\n",
    "    def __len__(self):\n",
    "        \"\"\"returns the length of data\"\"\"\n",
    "\n",
    "        return len(self.target_text)\n",
    "\n",
    "    def __getitem__(self, index):\n",
    "        \"\"\"return the input ids, attention masks and target ids\"\"\"\n",
    "\n",
    "        source_text = str(self.source_text[index])\n",
    "        target_text = str(self.target_text[index])\n",
    "        \n",
    "\n",
    "        # cleaning data so as to ensure data is in string type\n",
    "        source_text = \" \".join(source_text.split())\n",
    "        target_text = \" \".join(target_text.split())\n",
    "\n",
    "        source = self.tokenizer.batch_encode_plus(\n",
    "            [source_text],\n",
    "            max_length=self.source_len,\n",
    "            pad_to_max_length=True,\n",
    "            truncation=True,\n",
    "            padding=\"max_length\",\n",
    "            return_tensors=\"pt\",\n",
    "        )\n",
    "        \n",
    "        # =====================\n",
    "        # Beginning truncation\n",
    "        \n",
    "        \n",
    "        # 1. Count the number of elements not a padding (not = 0) in source \n",
    "        no_real_tokens = sum(x != 0 for x in source.input_ids[0])\n",
    "        \n",
    "#         print(len(source.input_ids[0]))\n",
    "#         print(\"real\", no_real_tokens.item())\n",
    "        \n",
    "        # 2. Set the index from where to truncate on the right side using previous number\n",
    "        no_tokens = 70\n",
    "        left_remove_percent = .20\n",
    "        \n",
    "        left = int(left_remove_percent * no_real_tokens)\n",
    "#         print(\"left\", left)\n",
    "        \n",
    "        # 3. Truncate left and right, concat both (input ids and attention mask)\n",
    "        left_selection_ids = source.input_ids[0][:left]\n",
    "        right_selection_ids = source.input_ids[0][left+no_tokens:len(source.input_ids[0])]\n",
    "        \n",
    "        left_attention_mask = source.attention_mask[0][:left]\n",
    "        right_attention_mask = source.attention_mask[0][left+no_tokens:len(source.input_ids[0])]\n",
    "        \n",
    "        new_ids = torch.concat([left_selection_ids, right_selection_ids], 0)        \n",
    "        new_masks = torch.concat([left_attention_mask,right_attention_mask], 0)\n",
    "        \n",
    "        new_ids = new_ids.tolist()\n",
    "        new_masks = new_masks.tolist()\n",
    "        \n",
    "        # 4. Create a new source text\n",
    "        new_encoding = {\n",
    "            'input_ids': torch.Tensor([new_ids]),\n",
    "            'attention_mask': torch.Tensor([new_masks])\n",
    "        }\n",
    "        \n",
    "        # 5. Set new token encoding\n",
    "        new_source = tokenization_utils_base.BatchEncoding(new_encoding)\n",
    "        \n",
    "        # select 40% of tokens to the left and 40% to the right of the length of the sentence\n",
    "        \n",
    "        \n",
    "        \n",
    "        # =====================\n",
    "        \n",
    "        target = self.tokenizer.batch_encode_plus(\n",
    "            [target_text],\n",
    "            max_length=self.summ_len,\n",
    "            pad_to_max_length=True,\n",
    "            truncation=True,\n",
    "            padding=\"max_length\",\n",
    "            return_tensors=\"pt\",\n",
    "        )\n",
    "\n",
    "        source_ids = new_source[\"input_ids\"].squeeze()\n",
    "        source_mask = new_source[\"attention_mask\"].squeeze()\n",
    "        target_ids = target[\"input_ids\"].squeeze()\n",
    "        target_mask = target[\"attention_mask\"].squeeze()\n",
    "\n",
    "        return {\n",
    "            \"source_ids\": source_ids.to(dtype=torch.long),\n",
    "            \"source_mask\": source_mask.to(dtype=torch.long),\n",
    "            \"target_ids\": target_ids.to(dtype=torch.long),\n",
    "            \"target_ids_y\": target_ids.to(dtype=torch.long),\n",
    "        }\n",
    "    \n",
    "    def add_prefix(self, examples):\n",
    "        prefix = \"summarize: \"\n",
    "        inputs = [prefix + doc for doc in examples]\n",
    "        return inputs"
   ]
  },
  {
   "cell_type": "code",
   "execution_count": 12,
   "id": "86509e82",
   "metadata": {},
   "outputs": [],
   "source": [
    "def Truncate_Trainer(\n",
    "    dataset, source_text, target_text, model_params, output_dir=\"outputs/\", device = \"cuda:3\"\n",
    "):\n",
    "\n",
    "    \"\"\"\n",
    "    trainer\n",
    "\n",
    "    \"\"\"\n",
    "    \n",
    "    losses = []\n",
    "    \n",
    "    # Set random seeds and deterministic pytorch for reproducibility\n",
    "    torch.manual_seed(model_params[\"SEED\"])  # pytorch random seed\n",
    "    np.random.seed(model_params[\"SEED\"])  # numpy random seed\n",
    "    torch.backends.cudnn.deterministic = True\n",
    "\n",
    "    # logging\n",
    "    console.log(f\"\"\"[Model]: Loading {model_params[\"MODEL\"]}...\\n\"\"\")\n",
    "\n",
    "    # Defining the model. We are using t5-base model and added a Language model layer on top for generation of Summary.\n",
    "    # tokenzier for encoding the text\n",
    "    # Further this model is sent to device (GPU/TPU) for using the hardware.\n",
    "    if \"bart\" in model_params[\"MODEL\"]:\n",
    "        tokenizer = BartTokenizer.from_pretrained(f'facebook/{model_params[\"MODEL\"]}')\n",
    "        model = BartForConditionalGeneration.from_pretrained(f'facebook/{model_params[\"MODEL\"]}')\n",
    "    elif \"t5\" in model_params[\"MODEL\"]:\n",
    "        tokenizer = T5Tokenizer.from_pretrained(model_params[\"MODEL\"])\n",
    "        model = T5ForConditionalGeneration.from_pretrained(model_params[\"MODEL\"])\n",
    "    elif \"pegasus\" in model_params[\"MODEL\"]:\n",
    "        tokenizer = PegasusTokenizer.from_pretrained(f'google/{model_params[\"MODEL\"]}')\n",
    "        model = PegasusForConditionalGeneration.from_pretrained(f'google/{model_params[\"MODEL\"]}')\n",
    "    else:\n",
    "        raise ValueError(\"Undefined model\")\n",
    "        \n",
    "    model = model.to(device)\n",
    "\n",
    "    # logging\n",
    "    console.log(f\"[Data]: Reading data...\\n\")\n",
    "\n",
    "    # Creation of Dataset and Dataloader\n",
    "    train_dataset = dataset[\"train\"]\n",
    "    val_dataset = dataset[\"validation\"]\n",
    "    \n",
    "    console.print(f\"FULL Dataset: {dataset.shape}\")\n",
    "    console.print(f\"TRAIN Dataset: {train_dataset.shape}\")\n",
    "    console.print(f\"TEST Dataset: {val_dataset.shape}\\n\")\n",
    "    \n",
    "    del dataset\n",
    "    \n",
    "    # Creating the Training and Validation dataset for further creation of Dataloader\n",
    "    training_set = Truncate_Dataset(\n",
    "        train_dataset,\n",
    "        tokenizer,\n",
    "        model_params[\"MODEL\"],\n",
    "        model_params[\"MAX_SOURCE_TEXT_LENGTH\"],\n",
    "        model_params[\"MAX_TARGET_TEXT_LENGTH\"],\n",
    "        source_text,\n",
    "        target_text,\n",
    "#         train = True,\n",
    "    )\n",
    "    val_set = Truncate_Dataset(\n",
    "        val_dataset,\n",
    "        tokenizer,\n",
    "        model_params[\"MODEL\"],\n",
    "        model_params[\"MAX_SOURCE_TEXT_LENGTH\"],\n",
    "        model_params[\"MAX_TARGET_TEXT_LENGTH\"],\n",
    "        source_text,\n",
    "        target_text,\n",
    "#         train = False,\n",
    "    )\n",
    "    \n",
    "    del train_dataset, val_dataset\n",
    "    \n",
    "    # Defining the parameters for creation of dataloaders\n",
    "    train_params = {\n",
    "        \"batch_size\": model_params[\"TRAIN_BATCH_SIZE\"],\n",
    "        \"shuffle\": True,\n",
    "        \"num_workers\": 0,\n",
    "    }\n",
    "\n",
    "    val_params = {\n",
    "        \"batch_size\": model_params[\"VALID_BATCH_SIZE\"],\n",
    "        \"shuffle\": False,\n",
    "        \"num_workers\": 0,\n",
    "    }\n",
    "\n",
    "    # Creation of Dataloaders for testing and validation. This will be used down for training and validation stage for the model.\n",
    "    training_loader = DataLoader(training_set, **train_params)\n",
    "    val_loader = DataLoader(val_set, **val_params)\n",
    "    \n",
    "    print(\"TRAIN LOADER: \", len(training_loader))\n",
    "    print(\"VAL LOADER: \", len(val_loader))\n",
    "    \n",
    "    del train_params, val_params\n",
    "    \n",
    "    # Defining the optimizer that will be used to tune the weights of the network in the training session.\n",
    "    optimizer = torch.optim.Adam(\n",
    "        params=model.parameters(), lr=model_params[\"LEARNING_RATE\"]\n",
    "    )\n",
    "    \n",
    "    if model_params[\"SCHEDULER\"] == \"linear\":\n",
    "        scheduler = torch.optim.lr_scheduler.LinearLR(optimizer)\n",
    "    \n",
    "    # Training loop\n",
    "    console.log(f\"[Initiating Fine Tuning]...\\n\")\n",
    "\n",
    "    for epoch in range(model_params[\"TRAIN_EPOCHS\"]):\n",
    "\n",
    "        loss = train(epoch, tokenizer, model, device, training_loader, optimizer, scheduler)\n",
    "        losses.append(loss.cpu().numpy())\n",
    "\n",
    "        # evaluating test dataset        \n",
    "        predictions, actuals = validate(epoch, tokenizer, model, device, val_loader)\n",
    "        \n",
    "        final_df = pd.DataFrame({\"Generated Text\": predictions, \"Actual Text\": actuals})\n",
    "        final_df.to_csv(os.path.join(output_dir, f\"\"\"head+tail_predictions_{model_params['MODEL']}_epoch{epoch}.csv\"\"\"))\n",
    "        print(\"SAVE TO CSV FINISHED\")\n",
    "        \n",
    "        \n",
    "        rouge = compute_metrics(predictions, actuals, tokenizer)\n",
    "        \n",
    "        rouge_df = pd.DataFrame.from_dict(rouge, orient='index')\n",
    "        rouge_df.to_csv(os.path.join(output_dir, f\"\"\"head+tail_rouge_{model_params['MODEL']}_epoch{epoch}.csv\"\"\"))\n",
    "        print(\"SAVE ROUGE TO CSV FINISHED\")\n",
    "    \n",
    "    console.log(f\"[Saving Model]...\\n\")\n",
    "    # Saving the model after training\n",
    "    path = os.path.join(output_dir, \"model_files\")\n",
    "    model.save_pretrained(path)\n",
    "    tokenizer.save_pretrained(path)\n",
    "    \n",
    "    # converting list to array\n",
    "    arr = np.array(losses)\n",
    "    np.save(os.path.join(output_dir, f\"\"\"head+tail_losses_{model_params['MODEL']}_epoch{model_params['TRAIN_EPOCHS']}\"\"\"), arr)\n",
    "\n",
    "    console.save_text(os.path.join(output_dir, \"logs.txt\"))\n",
    "\n",
    "    console.log(f\"[Validation Completed.]\\n\")\n",
    "    console.print(\n",
    "        f\"\"\"[Model] Model saved @ {os.path.join(output_dir, \"model_files\")}\\n\"\"\"\n",
    "    )\n",
    "    console.print(\n",
    "        f\"\"\"[Validation] Generation on Validation data saved @ {os.path.join(output_dir,'predictions.csv')}\\n\"\"\"\n",
    "    )\n",
    "    console.print(f\"\"\"[Logs] Logs saved @ {os.path.join(output_dir,'logs.txt')}\\n\"\"\")"
   ]
  },
  {
   "cell_type": "code",
   "execution_count": 13,
   "id": "e6f26af0",
   "metadata": {},
   "outputs": [
    {
     "data": {
      "text/html": [
       "<pre style=\"white-space:pre;overflow-x:auto;line-height:normal;font-family:Menlo,'DejaVu Sans Mono',consolas,'Courier New',monospace\"><span style=\"color: #7fbfbf; text-decoration-color: #7fbfbf\">[05:51:24] </span><span style=\"font-weight: bold\">[</span>Model<span style=\"font-weight: bold\">]</span>: Loading t5-small<span style=\"color: #808000; text-decoration-color: #808000\">...</span>                                        <a href=\"file:///tmp/ipykernel_11848/16398453.py\" target=\"_blank\"><span style=\"color: #7f7f7f; text-decoration-color: #7f7f7f\">16398453.py</span></a><span style=\"color: #7f7f7f; text-decoration-color: #7f7f7f\">:</span><a href=\"file:///tmp/ipykernel_11848/16398453.py#18\" target=\"_blank\"><span style=\"color: #7f7f7f; text-decoration-color: #7f7f7f\">18</span></a>\n",
       "<span style=\"color: #7fbfbf; text-decoration-color: #7fbfbf\">           </span>                                                                    <span style=\"color: #7f7f7f; text-decoration-color: #7f7f7f\">              </span>\n",
       "</pre>\n"
      ],
      "text/plain": [
       "\u001b[2;36m[05:51:24]\u001b[0m\u001b[2;36m \u001b[0m\u001b[1m[\u001b[0mModel\u001b[1m]\u001b[0m: Loading t5-small\u001b[33m...\u001b[0m                                        \u001b]8;id=999527;file:///tmp/ipykernel_11848/16398453.py\u001b\\\u001b[2m16398453.py\u001b[0m\u001b]8;;\u001b\\\u001b[2m:\u001b[0m\u001b]8;id=355885;file:///tmp/ipykernel_11848/16398453.py#18\u001b\\\u001b[2m18\u001b[0m\u001b]8;;\u001b\\\n",
       "\u001b[2;36m           \u001b[0m                                                                    \u001b[2m              \u001b[0m\n"
      ]
     },
     "metadata": {},
     "output_type": "display_data"
    },
    {
     "data": {
      "text/html": [
       "<pre style=\"white-space:pre;overflow-x:auto;line-height:normal;font-family:Menlo,'DejaVu Sans Mono',consolas,'Courier New',monospace\"><span style=\"color: #7fbfbf; text-decoration-color: #7fbfbf\">[05:51:46] </span><span style=\"font-weight: bold\">[</span>Data<span style=\"font-weight: bold\">]</span>: Reading data<span style=\"color: #808000; text-decoration-color: #808000\">...</span>                                             <a href=\"file:///tmp/ipykernel_11848/16398453.py\" target=\"_blank\"><span style=\"color: #7f7f7f; text-decoration-color: #7f7f7f\">16398453.py</span></a><span style=\"color: #7f7f7f; text-decoration-color: #7f7f7f\">:</span><a href=\"file:///tmp/ipykernel_11848/16398453.py#38\" target=\"_blank\"><span style=\"color: #7f7f7f; text-decoration-color: #7f7f7f\">38</span></a>\n",
       "<span style=\"color: #7fbfbf; text-decoration-color: #7fbfbf\">           </span>                                                                    <span style=\"color: #7f7f7f; text-decoration-color: #7f7f7f\">              </span>\n",
       "</pre>\n"
      ],
      "text/plain": [
       "\u001b[2;36m[05:51:46]\u001b[0m\u001b[2;36m \u001b[0m\u001b[1m[\u001b[0mData\u001b[1m]\u001b[0m: Reading data\u001b[33m...\u001b[0m                                             \u001b]8;id=800142;file:///tmp/ipykernel_11848/16398453.py\u001b\\\u001b[2m16398453.py\u001b[0m\u001b]8;;\u001b\\\u001b[2m:\u001b[0m\u001b]8;id=614250;file:///tmp/ipykernel_11848/16398453.py#38\u001b\\\u001b[2m38\u001b[0m\u001b]8;;\u001b\\\n",
       "\u001b[2;36m           \u001b[0m                                                                    \u001b[2m              \u001b[0m\n"
      ]
     },
     "metadata": {},
     "output_type": "display_data"
    },
    {
     "data": {
      "text/html": [
       "<pre style=\"white-space:pre;overflow-x:auto;line-height:normal;font-family:Menlo,'DejaVu Sans Mono',consolas,'Courier New',monospace\">FULL Dataset: <span style=\"font-weight: bold\">{</span><span style=\"color: #008000; text-decoration-color: #008000\">'train'</span>: <span style=\"font-weight: bold\">(</span><span style=\"color: #008080; text-decoration-color: #008080; font-weight: bold\">204045</span>, <span style=\"color: #008080; text-decoration-color: #008080; font-weight: bold\">3</span><span style=\"font-weight: bold\">)</span>, <span style=\"color: #008000; text-decoration-color: #008000\">'validation'</span>: <span style=\"font-weight: bold\">(</span><span style=\"color: #008080; text-decoration-color: #008080; font-weight: bold\">11332</span>, <span style=\"color: #008080; text-decoration-color: #008080; font-weight: bold\">3</span><span style=\"font-weight: bold\">)</span>, <span style=\"color: #008000; text-decoration-color: #008000\">'test'</span>: <span style=\"font-weight: bold\">(</span><span style=\"color: #008080; text-decoration-color: #008080; font-weight: bold\">11334</span>, <span style=\"color: #008080; text-decoration-color: #008080; font-weight: bold\">3</span><span style=\"font-weight: bold\">)}</span>\n",
       "</pre>\n"
      ],
      "text/plain": [
       "FULL Dataset: \u001b[1m{\u001b[0m\u001b[32m'train'\u001b[0m: \u001b[1m(\u001b[0m\u001b[1;36m204045\u001b[0m, \u001b[1;36m3\u001b[0m\u001b[1m)\u001b[0m, \u001b[32m'validation'\u001b[0m: \u001b[1m(\u001b[0m\u001b[1;36m11332\u001b[0m, \u001b[1;36m3\u001b[0m\u001b[1m)\u001b[0m, \u001b[32m'test'\u001b[0m: \u001b[1m(\u001b[0m\u001b[1;36m11334\u001b[0m, \u001b[1;36m3\u001b[0m\u001b[1m)\u001b[0m\u001b[1m}\u001b[0m\n"
      ]
     },
     "metadata": {},
     "output_type": "display_data"
    },
    {
     "data": {
      "text/html": [
       "<pre style=\"white-space:pre;overflow-x:auto;line-height:normal;font-family:Menlo,'DejaVu Sans Mono',consolas,'Courier New',monospace\">TRAIN Dataset: <span style=\"font-weight: bold\">(</span><span style=\"color: #008080; text-decoration-color: #008080; font-weight: bold\">204045</span>, <span style=\"color: #008080; text-decoration-color: #008080; font-weight: bold\">3</span><span style=\"font-weight: bold\">)</span>\n",
       "</pre>\n"
      ],
      "text/plain": [
       "TRAIN Dataset: \u001b[1m(\u001b[0m\u001b[1;36m204045\u001b[0m, \u001b[1;36m3\u001b[0m\u001b[1m)\u001b[0m\n"
      ]
     },
     "metadata": {},
     "output_type": "display_data"
    },
    {
     "data": {
      "text/html": [
       "<pre style=\"white-space:pre;overflow-x:auto;line-height:normal;font-family:Menlo,'DejaVu Sans Mono',consolas,'Courier New',monospace\">TEST Dataset: <span style=\"font-weight: bold\">(</span><span style=\"color: #008080; text-decoration-color: #008080; font-weight: bold\">11332</span>, <span style=\"color: #008080; text-decoration-color: #008080; font-weight: bold\">3</span><span style=\"font-weight: bold\">)</span>\n",
       "\n",
       "</pre>\n"
      ],
      "text/plain": [
       "TEST Dataset: \u001b[1m(\u001b[0m\u001b[1;36m11332\u001b[0m, \u001b[1;36m3\u001b[0m\u001b[1m)\u001b[0m\n",
       "\n"
      ]
     },
     "metadata": {},
     "output_type": "display_data"
    },
    {
     "name": "stdout",
     "output_type": "stream",
     "text": [
      "TRAIN LOADER:  125\n",
      "VAL LOADER:  125\n"
     ]
    },
    {
     "data": {
      "text/html": [
       "<pre style=\"white-space:pre;overflow-x:auto;line-height:normal;font-family:Menlo,'DejaVu Sans Mono',consolas,'Courier New',monospace\"><span style=\"color: #7fbfbf; text-decoration-color: #7fbfbf\">[05:51:49] </span><span style=\"font-weight: bold\">[</span>Initiating Fine Tuning<span style=\"font-weight: bold\">]</span><span style=\"color: #808000; text-decoration-color: #808000\">...</span>                                        <a href=\"file:///tmp/ipykernel_11848/16398453.py\" target=\"_blank\"><span style=\"color: #7f7f7f; text-decoration-color: #7f7f7f\">16398453.py</span></a><span style=\"color: #7f7f7f; text-decoration-color: #7f7f7f\">:</span><a href=\"file:///tmp/ipykernel_11848/16398453.py#105\" target=\"_blank\"><span style=\"color: #7f7f7f; text-decoration-color: #7f7f7f\">105</span></a>\n",
       "<span style=\"color: #7fbfbf; text-decoration-color: #7fbfbf\">           </span>                                                                   <span style=\"color: #7f7f7f; text-decoration-color: #7f7f7f\">               </span>\n",
       "</pre>\n"
      ],
      "text/plain": [
       "\u001b[2;36m[05:51:49]\u001b[0m\u001b[2;36m \u001b[0m\u001b[1m[\u001b[0mInitiating Fine Tuning\u001b[1m]\u001b[0m\u001b[33m...\u001b[0m                                        \u001b]8;id=121525;file:///tmp/ipykernel_11848/16398453.py\u001b\\\u001b[2m16398453.py\u001b[0m\u001b]8;;\u001b\\\u001b[2m:\u001b[0m\u001b]8;id=353049;file:///tmp/ipykernel_11848/16398453.py#105\u001b\\\u001b[2m105\u001b[0m\u001b]8;;\u001b\\\n",
       "\u001b[2;36m           \u001b[0m                                                                   \u001b[2m               \u001b[0m\n"
      ]
     },
     "metadata": {},
     "output_type": "display_data"
    },
    {
     "name": "stdout",
     "output_type": "stream",
     "text": [
      "STEP:  0 / 125\n"
     ]
    },
    {
     "data": {
      "text/html": [
       "<pre style=\"white-space:pre;overflow-x:auto;line-height:normal;font-family:Menlo,'DejaVu Sans Mono',consolas,'Courier New',monospace\"><span style=\"font-style: italic\">                               Training Status                               </span>\n",
       "+---------------------------------------------------------------------------+\n",
       "|<span style=\"font-weight: bold\">Epoch </span>|<span style=\"font-weight: bold\"> Steps </span>|<span style=\"font-weight: bold\">                            Loss                            </span>|\n",
       "|------+-------+------------------------------------------------------------|\n",
       "|  0   | 0/125 | tensor(6.0223, device='cuda:3', grad_fn=&lt;NllLossBackward0&gt;)|\n",
       "+---------------------------------------------------------------------------+\n",
       "</pre>\n"
      ],
      "text/plain": [
       "\u001b[3m                               Training Status                               \u001b[0m\n",
       "+---------------------------------------------------------------------------+\n",
       "|\u001b[1mEpoch\u001b[0m\u001b[1m \u001b[0m|\u001b[1m \u001b[0m\u001b[1mSteps\u001b[0m\u001b[1m \u001b[0m|\u001b[1m \u001b[0m\u001b[1m                           Loss                            \u001b[0m|\n",
       "|------+-------+------------------------------------------------------------|\n",
       "|  0   | 0/125 | tensor(6.0223, device='cuda:3', grad_fn=<NllLossBackward0>)|\n",
       "+---------------------------------------------------------------------------+\n"
      ]
     },
     "metadata": {},
     "output_type": "display_data"
    },
    {
     "name": "stdout",
     "output_type": "stream",
     "text": [
      "STEP:  10 / 125\n"
     ]
    },
    {
     "data": {
      "text/html": [
       "<pre style=\"white-space:pre;overflow-x:auto;line-height:normal;font-family:Menlo,'DejaVu Sans Mono',consolas,'Courier New',monospace\"><span style=\"font-style: italic\">                               Training Status                                </span>\n",
       "+----------------------------------------------------------------------------+\n",
       "|<span style=\"font-weight: bold\">Epoch </span>|<span style=\"font-weight: bold\"> Steps  </span>|<span style=\"font-weight: bold\">                            Loss                            </span>|\n",
       "|------+--------+------------------------------------------------------------|\n",
       "|  0   | 0/125  | tensor(6.0223, device='cuda:3', grad_fn=&lt;NllLossBackward0&gt;)|\n",
       "|  0   | 10/125 | tensor(5.9450, device='cuda:3', grad_fn=&lt;NllLossBackward0&gt;)|\n",
       "+----------------------------------------------------------------------------+\n",
       "</pre>\n"
      ],
      "text/plain": [
       "\u001b[3m                               Training Status                                \u001b[0m\n",
       "+----------------------------------------------------------------------------+\n",
       "|\u001b[1mEpoch\u001b[0m\u001b[1m \u001b[0m|\u001b[1m \u001b[0m\u001b[1mSteps \u001b[0m\u001b[1m \u001b[0m|\u001b[1m \u001b[0m\u001b[1m                           Loss                            \u001b[0m|\n",
       "|------+--------+------------------------------------------------------------|\n",
       "|  0   | 0/125  | tensor(6.0223, device='cuda:3', grad_fn=<NllLossBackward0>)|\n",
       "|  0   | 10/125 | tensor(5.9450, device='cuda:3', grad_fn=<NllLossBackward0>)|\n",
       "+----------------------------------------------------------------------------+\n"
      ]
     },
     "metadata": {},
     "output_type": "display_data"
    },
    {
     "name": "stdout",
     "output_type": "stream",
     "text": [
      "STEP:  20 / 125\n"
     ]
    },
    {
     "data": {
      "text/html": [
       "<pre style=\"white-space:pre;overflow-x:auto;line-height:normal;font-family:Menlo,'DejaVu Sans Mono',consolas,'Courier New',monospace\"><span style=\"font-style: italic\">                               Training Status                                </span>\n",
       "+----------------------------------------------------------------------------+\n",
       "|<span style=\"font-weight: bold\">Epoch </span>|<span style=\"font-weight: bold\"> Steps  </span>|<span style=\"font-weight: bold\">                            Loss                            </span>|\n",
       "|------+--------+------------------------------------------------------------|\n",
       "|  0   | 0/125  | tensor(6.0223, device='cuda:3', grad_fn=&lt;NllLossBackward0&gt;)|\n",
       "|  0   | 10/125 | tensor(5.9450, device='cuda:3', grad_fn=&lt;NllLossBackward0&gt;)|\n",
       "|  0   | 20/125 | tensor(6.1867, device='cuda:3', grad_fn=&lt;NllLossBackward0&gt;)|\n",
       "+----------------------------------------------------------------------------+\n",
       "</pre>\n"
      ],
      "text/plain": [
       "\u001b[3m                               Training Status                                \u001b[0m\n",
       "+----------------------------------------------------------------------------+\n",
       "|\u001b[1mEpoch\u001b[0m\u001b[1m \u001b[0m|\u001b[1m \u001b[0m\u001b[1mSteps \u001b[0m\u001b[1m \u001b[0m|\u001b[1m \u001b[0m\u001b[1m                           Loss                            \u001b[0m|\n",
       "|------+--------+------------------------------------------------------------|\n",
       "|  0   | 0/125  | tensor(6.0223, device='cuda:3', grad_fn=<NllLossBackward0>)|\n",
       "|  0   | 10/125 | tensor(5.9450, device='cuda:3', grad_fn=<NllLossBackward0>)|\n",
       "|  0   | 20/125 | tensor(6.1867, device='cuda:3', grad_fn=<NllLossBackward0>)|\n",
       "+----------------------------------------------------------------------------+\n"
      ]
     },
     "metadata": {},
     "output_type": "display_data"
    },
    {
     "name": "stdout",
     "output_type": "stream",
     "text": [
      "STEP:  30 / 125\n"
     ]
    },
    {
     "data": {
      "text/html": [
       "<pre style=\"white-space:pre;overflow-x:auto;line-height:normal;font-family:Menlo,'DejaVu Sans Mono',consolas,'Courier New',monospace\"><span style=\"font-style: italic\">                               Training Status                                </span>\n",
       "+----------------------------------------------------------------------------+\n",
       "|<span style=\"font-weight: bold\">Epoch </span>|<span style=\"font-weight: bold\"> Steps  </span>|<span style=\"font-weight: bold\">                            Loss                            </span>|\n",
       "|------+--------+------------------------------------------------------------|\n",
       "|  0   | 0/125  | tensor(6.0223, device='cuda:3', grad_fn=&lt;NllLossBackward0&gt;)|\n",
       "|  0   | 10/125 | tensor(5.9450, device='cuda:3', grad_fn=&lt;NllLossBackward0&gt;)|\n",
       "|  0   | 20/125 | tensor(6.1867, device='cuda:3', grad_fn=&lt;NllLossBackward0&gt;)|\n",
       "|  0   | 30/125 | tensor(5.9451, device='cuda:3', grad_fn=&lt;NllLossBackward0&gt;)|\n",
       "+----------------------------------------------------------------------------+\n",
       "</pre>\n"
      ],
      "text/plain": [
       "\u001b[3m                               Training Status                                \u001b[0m\n",
       "+----------------------------------------------------------------------------+\n",
       "|\u001b[1mEpoch\u001b[0m\u001b[1m \u001b[0m|\u001b[1m \u001b[0m\u001b[1mSteps \u001b[0m\u001b[1m \u001b[0m|\u001b[1m \u001b[0m\u001b[1m                           Loss                            \u001b[0m|\n",
       "|------+--------+------------------------------------------------------------|\n",
       "|  0   | 0/125  | tensor(6.0223, device='cuda:3', grad_fn=<NllLossBackward0>)|\n",
       "|  0   | 10/125 | tensor(5.9450, device='cuda:3', grad_fn=<NllLossBackward0>)|\n",
       "|  0   | 20/125 | tensor(6.1867, device='cuda:3', grad_fn=<NllLossBackward0>)|\n",
       "|  0   | 30/125 | tensor(5.9451, device='cuda:3', grad_fn=<NllLossBackward0>)|\n",
       "+----------------------------------------------------------------------------+\n"
      ]
     },
     "metadata": {},
     "output_type": "display_data"
    },
    {
     "name": "stdout",
     "output_type": "stream",
     "text": [
      "STEP:  40 / 125\n"
     ]
    },
    {
     "data": {
      "text/html": [
       "<pre style=\"white-space:pre;overflow-x:auto;line-height:normal;font-family:Menlo,'DejaVu Sans Mono',consolas,'Courier New',monospace\"><span style=\"font-style: italic\">                               Training Status                                </span>\n",
       "+----------------------------------------------------------------------------+\n",
       "|<span style=\"font-weight: bold\">Epoch </span>|<span style=\"font-weight: bold\"> Steps  </span>|<span style=\"font-weight: bold\">                            Loss                            </span>|\n",
       "|------+--------+------------------------------------------------------------|\n",
       "|  0   | 0/125  | tensor(6.0223, device='cuda:3', grad_fn=&lt;NllLossBackward0&gt;)|\n",
       "|  0   | 10/125 | tensor(5.9450, device='cuda:3', grad_fn=&lt;NllLossBackward0&gt;)|\n",
       "|  0   | 20/125 | tensor(6.1867, device='cuda:3', grad_fn=&lt;NllLossBackward0&gt;)|\n",
       "|  0   | 30/125 | tensor(5.9451, device='cuda:3', grad_fn=&lt;NllLossBackward0&gt;)|\n",
       "|  0   | 40/125 | tensor(6.0357, device='cuda:3', grad_fn=&lt;NllLossBackward0&gt;)|\n",
       "+----------------------------------------------------------------------------+\n",
       "</pre>\n"
      ],
      "text/plain": [
       "\u001b[3m                               Training Status                                \u001b[0m\n",
       "+----------------------------------------------------------------------------+\n",
       "|\u001b[1mEpoch\u001b[0m\u001b[1m \u001b[0m|\u001b[1m \u001b[0m\u001b[1mSteps \u001b[0m\u001b[1m \u001b[0m|\u001b[1m \u001b[0m\u001b[1m                           Loss                            \u001b[0m|\n",
       "|------+--------+------------------------------------------------------------|\n",
       "|  0   | 0/125  | tensor(6.0223, device='cuda:3', grad_fn=<NllLossBackward0>)|\n",
       "|  0   | 10/125 | tensor(5.9450, device='cuda:3', grad_fn=<NllLossBackward0>)|\n",
       "|  0   | 20/125 | tensor(6.1867, device='cuda:3', grad_fn=<NllLossBackward0>)|\n",
       "|  0   | 30/125 | tensor(5.9451, device='cuda:3', grad_fn=<NllLossBackward0>)|\n",
       "|  0   | 40/125 | tensor(6.0357, device='cuda:3', grad_fn=<NllLossBackward0>)|\n",
       "+----------------------------------------------------------------------------+\n"
      ]
     },
     "metadata": {},
     "output_type": "display_data"
    },
    {
     "name": "stdout",
     "output_type": "stream",
     "text": [
      "STEP:  50 / 125\n"
     ]
    },
    {
     "data": {
      "text/html": [
       "<pre style=\"white-space:pre;overflow-x:auto;line-height:normal;font-family:Menlo,'DejaVu Sans Mono',consolas,'Courier New',monospace\"><span style=\"font-style: italic\">                               Training Status                                </span>\n",
       "+----------------------------------------------------------------------------+\n",
       "|<span style=\"font-weight: bold\">Epoch </span>|<span style=\"font-weight: bold\"> Steps  </span>|<span style=\"font-weight: bold\">                            Loss                            </span>|\n",
       "|------+--------+------------------------------------------------------------|\n",
       "|  0   | 0/125  | tensor(6.0223, device='cuda:3', grad_fn=&lt;NllLossBackward0&gt;)|\n",
       "|  0   | 10/125 | tensor(5.9450, device='cuda:3', grad_fn=&lt;NllLossBackward0&gt;)|\n",
       "|  0   | 20/125 | tensor(6.1867, device='cuda:3', grad_fn=&lt;NllLossBackward0&gt;)|\n",
       "|  0   | 30/125 | tensor(5.9451, device='cuda:3', grad_fn=&lt;NllLossBackward0&gt;)|\n",
       "|  0   | 40/125 | tensor(6.0357, device='cuda:3', grad_fn=&lt;NllLossBackward0&gt;)|\n",
       "|  0   | 50/125 | tensor(5.6037, device='cuda:3', grad_fn=&lt;NllLossBackward0&gt;)|\n",
       "+----------------------------------------------------------------------------+\n",
       "</pre>\n"
      ],
      "text/plain": [
       "\u001b[3m                               Training Status                                \u001b[0m\n",
       "+----------------------------------------------------------------------------+\n",
       "|\u001b[1mEpoch\u001b[0m\u001b[1m \u001b[0m|\u001b[1m \u001b[0m\u001b[1mSteps \u001b[0m\u001b[1m \u001b[0m|\u001b[1m \u001b[0m\u001b[1m                           Loss                            \u001b[0m|\n",
       "|------+--------+------------------------------------------------------------|\n",
       "|  0   | 0/125  | tensor(6.0223, device='cuda:3', grad_fn=<NllLossBackward0>)|\n",
       "|  0   | 10/125 | tensor(5.9450, device='cuda:3', grad_fn=<NllLossBackward0>)|\n",
       "|  0   | 20/125 | tensor(6.1867, device='cuda:3', grad_fn=<NllLossBackward0>)|\n",
       "|  0   | 30/125 | tensor(5.9451, device='cuda:3', grad_fn=<NllLossBackward0>)|\n",
       "|  0   | 40/125 | tensor(6.0357, device='cuda:3', grad_fn=<NllLossBackward0>)|\n",
       "|  0   | 50/125 | tensor(5.6037, device='cuda:3', grad_fn=<NllLossBackward0>)|\n",
       "+----------------------------------------------------------------------------+\n"
      ]
     },
     "metadata": {},
     "output_type": "display_data"
    },
    {
     "name": "stdout",
     "output_type": "stream",
     "text": [
      "STEP:  60 / 125\n"
     ]
    },
    {
     "data": {
      "text/html": [
       "<pre style=\"white-space:pre;overflow-x:auto;line-height:normal;font-family:Menlo,'DejaVu Sans Mono',consolas,'Courier New',monospace\"><span style=\"font-style: italic\">                               Training Status                                </span>\n",
       "+----------------------------------------------------------------------------+\n",
       "|<span style=\"font-weight: bold\">Epoch </span>|<span style=\"font-weight: bold\"> Steps  </span>|<span style=\"font-weight: bold\">                            Loss                            </span>|\n",
       "|------+--------+------------------------------------------------------------|\n",
       "|  0   | 0/125  | tensor(6.0223, device='cuda:3', grad_fn=&lt;NllLossBackward0&gt;)|\n",
       "|  0   | 10/125 | tensor(5.9450, device='cuda:3', grad_fn=&lt;NllLossBackward0&gt;)|\n",
       "|  0   | 20/125 | tensor(6.1867, device='cuda:3', grad_fn=&lt;NllLossBackward0&gt;)|\n",
       "|  0   | 30/125 | tensor(5.9451, device='cuda:3', grad_fn=&lt;NllLossBackward0&gt;)|\n",
       "|  0   | 40/125 | tensor(6.0357, device='cuda:3', grad_fn=&lt;NllLossBackward0&gt;)|\n",
       "|  0   | 50/125 | tensor(5.6037, device='cuda:3', grad_fn=&lt;NllLossBackward0&gt;)|\n",
       "|  0   | 60/125 | tensor(5.7155, device='cuda:3', grad_fn=&lt;NllLossBackward0&gt;)|\n",
       "+----------------------------------------------------------------------------+\n",
       "</pre>\n"
      ],
      "text/plain": [
       "\u001b[3m                               Training Status                                \u001b[0m\n",
       "+----------------------------------------------------------------------------+\n",
       "|\u001b[1mEpoch\u001b[0m\u001b[1m \u001b[0m|\u001b[1m \u001b[0m\u001b[1mSteps \u001b[0m\u001b[1m \u001b[0m|\u001b[1m \u001b[0m\u001b[1m                           Loss                            \u001b[0m|\n",
       "|------+--------+------------------------------------------------------------|\n",
       "|  0   | 0/125  | tensor(6.0223, device='cuda:3', grad_fn=<NllLossBackward0>)|\n",
       "|  0   | 10/125 | tensor(5.9450, device='cuda:3', grad_fn=<NllLossBackward0>)|\n",
       "|  0   | 20/125 | tensor(6.1867, device='cuda:3', grad_fn=<NllLossBackward0>)|\n",
       "|  0   | 30/125 | tensor(5.9451, device='cuda:3', grad_fn=<NllLossBackward0>)|\n",
       "|  0   | 40/125 | tensor(6.0357, device='cuda:3', grad_fn=<NllLossBackward0>)|\n",
       "|  0   | 50/125 | tensor(5.6037, device='cuda:3', grad_fn=<NllLossBackward0>)|\n",
       "|  0   | 60/125 | tensor(5.7155, device='cuda:3', grad_fn=<NllLossBackward0>)|\n",
       "+----------------------------------------------------------------------------+\n"
      ]
     },
     "metadata": {},
     "output_type": "display_data"
    },
    {
     "name": "stdout",
     "output_type": "stream",
     "text": [
      "STEP:  70 / 125\n"
     ]
    },
    {
     "data": {
      "text/html": [
       "<pre style=\"white-space:pre;overflow-x:auto;line-height:normal;font-family:Menlo,'DejaVu Sans Mono',consolas,'Courier New',monospace\"><span style=\"font-style: italic\">                               Training Status                                </span>\n",
       "+----------------------------------------------------------------------------+\n",
       "|<span style=\"font-weight: bold\">Epoch </span>|<span style=\"font-weight: bold\"> Steps  </span>|<span style=\"font-weight: bold\">                            Loss                            </span>|\n",
       "|------+--------+------------------------------------------------------------|\n",
       "|  0   | 0/125  | tensor(6.0223, device='cuda:3', grad_fn=&lt;NllLossBackward0&gt;)|\n",
       "|  0   | 10/125 | tensor(5.9450, device='cuda:3', grad_fn=&lt;NllLossBackward0&gt;)|\n",
       "|  0   | 20/125 | tensor(6.1867, device='cuda:3', grad_fn=&lt;NllLossBackward0&gt;)|\n",
       "|  0   | 30/125 | tensor(5.9451, device='cuda:3', grad_fn=&lt;NllLossBackward0&gt;)|\n",
       "|  0   | 40/125 | tensor(6.0357, device='cuda:3', grad_fn=&lt;NllLossBackward0&gt;)|\n",
       "|  0   | 50/125 | tensor(5.6037, device='cuda:3', grad_fn=&lt;NllLossBackward0&gt;)|\n",
       "|  0   | 60/125 | tensor(5.7155, device='cuda:3', grad_fn=&lt;NllLossBackward0&gt;)|\n",
       "|  0   | 70/125 | tensor(6.2216, device='cuda:3', grad_fn=&lt;NllLossBackward0&gt;)|\n",
       "+----------------------------------------------------------------------------+\n",
       "</pre>\n"
      ],
      "text/plain": [
       "\u001b[3m                               Training Status                                \u001b[0m\n",
       "+----------------------------------------------------------------------------+\n",
       "|\u001b[1mEpoch\u001b[0m\u001b[1m \u001b[0m|\u001b[1m \u001b[0m\u001b[1mSteps \u001b[0m\u001b[1m \u001b[0m|\u001b[1m \u001b[0m\u001b[1m                           Loss                            \u001b[0m|\n",
       "|------+--------+------------------------------------------------------------|\n",
       "|  0   | 0/125  | tensor(6.0223, device='cuda:3', grad_fn=<NllLossBackward0>)|\n",
       "|  0   | 10/125 | tensor(5.9450, device='cuda:3', grad_fn=<NllLossBackward0>)|\n",
       "|  0   | 20/125 | tensor(6.1867, device='cuda:3', grad_fn=<NllLossBackward0>)|\n",
       "|  0   | 30/125 | tensor(5.9451, device='cuda:3', grad_fn=<NllLossBackward0>)|\n",
       "|  0   | 40/125 | tensor(6.0357, device='cuda:3', grad_fn=<NllLossBackward0>)|\n",
       "|  0   | 50/125 | tensor(5.6037, device='cuda:3', grad_fn=<NllLossBackward0>)|\n",
       "|  0   | 60/125 | tensor(5.7155, device='cuda:3', grad_fn=<NllLossBackward0>)|\n",
       "|  0   | 70/125 | tensor(6.2216, device='cuda:3', grad_fn=<NllLossBackward0>)|\n",
       "+----------------------------------------------------------------------------+\n"
      ]
     },
     "metadata": {},
     "output_type": "display_data"
    },
    {
     "name": "stdout",
     "output_type": "stream",
     "text": [
      "STEP:  80 / 125\n"
     ]
    },
    {
     "data": {
      "text/html": [
       "<pre style=\"white-space:pre;overflow-x:auto;line-height:normal;font-family:Menlo,'DejaVu Sans Mono',consolas,'Courier New',monospace\"><span style=\"font-style: italic\">                               Training Status                                </span>\n",
       "+----------------------------------------------------------------------------+\n",
       "|<span style=\"font-weight: bold\">Epoch </span>|<span style=\"font-weight: bold\"> Steps  </span>|<span style=\"font-weight: bold\">                            Loss                            </span>|\n",
       "|------+--------+------------------------------------------------------------|\n",
       "|  0   | 0/125  | tensor(6.0223, device='cuda:3', grad_fn=&lt;NllLossBackward0&gt;)|\n",
       "|  0   | 10/125 | tensor(5.9450, device='cuda:3', grad_fn=&lt;NllLossBackward0&gt;)|\n",
       "|  0   | 20/125 | tensor(6.1867, device='cuda:3', grad_fn=&lt;NllLossBackward0&gt;)|\n",
       "|  0   | 30/125 | tensor(5.9451, device='cuda:3', grad_fn=&lt;NllLossBackward0&gt;)|\n",
       "|  0   | 40/125 | tensor(6.0357, device='cuda:3', grad_fn=&lt;NllLossBackward0&gt;)|\n",
       "|  0   | 50/125 | tensor(5.6037, device='cuda:3', grad_fn=&lt;NllLossBackward0&gt;)|\n",
       "|  0   | 60/125 | tensor(5.7155, device='cuda:3', grad_fn=&lt;NllLossBackward0&gt;)|\n",
       "|  0   | 70/125 | tensor(6.2216, device='cuda:3', grad_fn=&lt;NllLossBackward0&gt;)|\n",
       "|  0   | 80/125 | tensor(5.9054, device='cuda:3', grad_fn=&lt;NllLossBackward0&gt;)|\n",
       "+----------------------------------------------------------------------------+\n",
       "</pre>\n"
      ],
      "text/plain": [
       "\u001b[3m                               Training Status                                \u001b[0m\n",
       "+----------------------------------------------------------------------------+\n",
       "|\u001b[1mEpoch\u001b[0m\u001b[1m \u001b[0m|\u001b[1m \u001b[0m\u001b[1mSteps \u001b[0m\u001b[1m \u001b[0m|\u001b[1m \u001b[0m\u001b[1m                           Loss                            \u001b[0m|\n",
       "|------+--------+------------------------------------------------------------|\n",
       "|  0   | 0/125  | tensor(6.0223, device='cuda:3', grad_fn=<NllLossBackward0>)|\n",
       "|  0   | 10/125 | tensor(5.9450, device='cuda:3', grad_fn=<NllLossBackward0>)|\n",
       "|  0   | 20/125 | tensor(6.1867, device='cuda:3', grad_fn=<NllLossBackward0>)|\n",
       "|  0   | 30/125 | tensor(5.9451, device='cuda:3', grad_fn=<NllLossBackward0>)|\n",
       "|  0   | 40/125 | tensor(6.0357, device='cuda:3', grad_fn=<NllLossBackward0>)|\n",
       "|  0   | 50/125 | tensor(5.6037, device='cuda:3', grad_fn=<NllLossBackward0>)|\n",
       "|  0   | 60/125 | tensor(5.7155, device='cuda:3', grad_fn=<NllLossBackward0>)|\n",
       "|  0   | 70/125 | tensor(6.2216, device='cuda:3', grad_fn=<NllLossBackward0>)|\n",
       "|  0   | 80/125 | tensor(5.9054, device='cuda:3', grad_fn=<NllLossBackward0>)|\n",
       "+----------------------------------------------------------------------------+\n"
      ]
     },
     "metadata": {},
     "output_type": "display_data"
    },
    {
     "name": "stdout",
     "output_type": "stream",
     "text": [
      "STEP:  90 / 125\n"
     ]
    },
    {
     "data": {
      "text/html": [
       "<pre style=\"white-space:pre;overflow-x:auto;line-height:normal;font-family:Menlo,'DejaVu Sans Mono',consolas,'Courier New',monospace\"><span style=\"font-style: italic\">                               Training Status                                </span>\n",
       "+----------------------------------------------------------------------------+\n",
       "|<span style=\"font-weight: bold\">Epoch </span>|<span style=\"font-weight: bold\"> Steps  </span>|<span style=\"font-weight: bold\">                            Loss                            </span>|\n",
       "|------+--------+------------------------------------------------------------|\n",
       "|  0   | 0/125  | tensor(6.0223, device='cuda:3', grad_fn=&lt;NllLossBackward0&gt;)|\n",
       "|  0   | 10/125 | tensor(5.9450, device='cuda:3', grad_fn=&lt;NllLossBackward0&gt;)|\n",
       "|  0   | 20/125 | tensor(6.1867, device='cuda:3', grad_fn=&lt;NllLossBackward0&gt;)|\n",
       "|  0   | 30/125 | tensor(5.9451, device='cuda:3', grad_fn=&lt;NllLossBackward0&gt;)|\n",
       "|  0   | 40/125 | tensor(6.0357, device='cuda:3', grad_fn=&lt;NllLossBackward0&gt;)|\n",
       "|  0   | 50/125 | tensor(5.6037, device='cuda:3', grad_fn=&lt;NllLossBackward0&gt;)|\n",
       "|  0   | 60/125 | tensor(5.7155, device='cuda:3', grad_fn=&lt;NllLossBackward0&gt;)|\n",
       "|  0   | 70/125 | tensor(6.2216, device='cuda:3', grad_fn=&lt;NllLossBackward0&gt;)|\n",
       "|  0   | 80/125 | tensor(5.9054, device='cuda:3', grad_fn=&lt;NllLossBackward0&gt;)|\n",
       "|  0   | 90/125 | tensor(6.0301, device='cuda:3', grad_fn=&lt;NllLossBackward0&gt;)|\n",
       "+----------------------------------------------------------------------------+\n",
       "</pre>\n"
      ],
      "text/plain": [
       "\u001b[3m                               Training Status                                \u001b[0m\n",
       "+----------------------------------------------------------------------------+\n",
       "|\u001b[1mEpoch\u001b[0m\u001b[1m \u001b[0m|\u001b[1m \u001b[0m\u001b[1mSteps \u001b[0m\u001b[1m \u001b[0m|\u001b[1m \u001b[0m\u001b[1m                           Loss                            \u001b[0m|\n",
       "|------+--------+------------------------------------------------------------|\n",
       "|  0   | 0/125  | tensor(6.0223, device='cuda:3', grad_fn=<NllLossBackward0>)|\n",
       "|  0   | 10/125 | tensor(5.9450, device='cuda:3', grad_fn=<NllLossBackward0>)|\n",
       "|  0   | 20/125 | tensor(6.1867, device='cuda:3', grad_fn=<NllLossBackward0>)|\n",
       "|  0   | 30/125 | tensor(5.9451, device='cuda:3', grad_fn=<NllLossBackward0>)|\n",
       "|  0   | 40/125 | tensor(6.0357, device='cuda:3', grad_fn=<NllLossBackward0>)|\n",
       "|  0   | 50/125 | tensor(5.6037, device='cuda:3', grad_fn=<NllLossBackward0>)|\n",
       "|  0   | 60/125 | tensor(5.7155, device='cuda:3', grad_fn=<NllLossBackward0>)|\n",
       "|  0   | 70/125 | tensor(6.2216, device='cuda:3', grad_fn=<NllLossBackward0>)|\n",
       "|  0   | 80/125 | tensor(5.9054, device='cuda:3', grad_fn=<NllLossBackward0>)|\n",
       "|  0   | 90/125 | tensor(6.0301, device='cuda:3', grad_fn=<NllLossBackward0>)|\n",
       "+----------------------------------------------------------------------------+\n"
      ]
     },
     "metadata": {},
     "output_type": "display_data"
    },
    {
     "name": "stdout",
     "output_type": "stream",
     "text": [
      "STEP:  100 / 125\n"
     ]
    },
    {
     "data": {
      "text/html": [
       "<pre style=\"white-space:pre;overflow-x:auto;line-height:normal;font-family:Menlo,'DejaVu Sans Mono',consolas,'Courier New',monospace\"><span style=\"font-style: italic\">                                Training Status                                </span>\n",
       "+-----------------------------------------------------------------------------+\n",
       "|<span style=\"font-weight: bold\">Epoch </span>|<span style=\"font-weight: bold\">  Steps  </span>|<span style=\"font-weight: bold\">                            Loss                            </span>|\n",
       "|------+---------+------------------------------------------------------------|\n",
       "|  0   |  0/125  | tensor(6.0223, device='cuda:3', grad_fn=&lt;NllLossBackward0&gt;)|\n",
       "|  0   | 10/125  | tensor(5.9450, device='cuda:3', grad_fn=&lt;NllLossBackward0&gt;)|\n",
       "|  0   | 20/125  | tensor(6.1867, device='cuda:3', grad_fn=&lt;NllLossBackward0&gt;)|\n",
       "|  0   | 30/125  | tensor(5.9451, device='cuda:3', grad_fn=&lt;NllLossBackward0&gt;)|\n",
       "|  0   | 40/125  | tensor(6.0357, device='cuda:3', grad_fn=&lt;NllLossBackward0&gt;)|\n",
       "|  0   | 50/125  | tensor(5.6037, device='cuda:3', grad_fn=&lt;NllLossBackward0&gt;)|\n",
       "|  0   | 60/125  | tensor(5.7155, device='cuda:3', grad_fn=&lt;NllLossBackward0&gt;)|\n",
       "|  0   | 70/125  | tensor(6.2216, device='cuda:3', grad_fn=&lt;NllLossBackward0&gt;)|\n",
       "|  0   | 80/125  | tensor(5.9054, device='cuda:3', grad_fn=&lt;NllLossBackward0&gt;)|\n",
       "|  0   | 90/125  | tensor(6.0301, device='cuda:3', grad_fn=&lt;NllLossBackward0&gt;)|\n",
       "|  0   | 100/125 | tensor(5.9282, device='cuda:3', grad_fn=&lt;NllLossBackward0&gt;)|\n",
       "+-----------------------------------------------------------------------------+\n",
       "</pre>\n"
      ],
      "text/plain": [
       "\u001b[3m                                Training Status                                \u001b[0m\n",
       "+-----------------------------------------------------------------------------+\n",
       "|\u001b[1mEpoch\u001b[0m\u001b[1m \u001b[0m|\u001b[1m \u001b[0m\u001b[1m Steps \u001b[0m\u001b[1m \u001b[0m|\u001b[1m \u001b[0m\u001b[1m                           Loss                            \u001b[0m|\n",
       "|------+---------+------------------------------------------------------------|\n",
       "|  0   |  0/125  | tensor(6.0223, device='cuda:3', grad_fn=<NllLossBackward0>)|\n",
       "|  0   | 10/125  | tensor(5.9450, device='cuda:3', grad_fn=<NllLossBackward0>)|\n",
       "|  0   | 20/125  | tensor(6.1867, device='cuda:3', grad_fn=<NllLossBackward0>)|\n",
       "|  0   | 30/125  | tensor(5.9451, device='cuda:3', grad_fn=<NllLossBackward0>)|\n",
       "|  0   | 40/125  | tensor(6.0357, device='cuda:3', grad_fn=<NllLossBackward0>)|\n",
       "|  0   | 50/125  | tensor(5.6037, device='cuda:3', grad_fn=<NllLossBackward0>)|\n",
       "|  0   | 60/125  | tensor(5.7155, device='cuda:3', grad_fn=<NllLossBackward0>)|\n",
       "|  0   | 70/125  | tensor(6.2216, device='cuda:3', grad_fn=<NllLossBackward0>)|\n",
       "|  0   | 80/125  | tensor(5.9054, device='cuda:3', grad_fn=<NllLossBackward0>)|\n",
       "|  0   | 90/125  | tensor(6.0301, device='cuda:3', grad_fn=<NllLossBackward0>)|\n",
       "|  0   | 100/125 | tensor(5.9282, device='cuda:3', grad_fn=<NllLossBackward0>)|\n",
       "+-----------------------------------------------------------------------------+\n"
      ]
     },
     "metadata": {},
     "output_type": "display_data"
    },
    {
     "name": "stdout",
     "output_type": "stream",
     "text": [
      "STEP:  110 / 125\n"
     ]
    },
    {
     "data": {
      "text/html": [
       "<pre style=\"white-space:pre;overflow-x:auto;line-height:normal;font-family:Menlo,'DejaVu Sans Mono',consolas,'Courier New',monospace\"><span style=\"font-style: italic\">                                Training Status                                </span>\n",
       "+-----------------------------------------------------------------------------+\n",
       "|<span style=\"font-weight: bold\">Epoch </span>|<span style=\"font-weight: bold\">  Steps  </span>|<span style=\"font-weight: bold\">                            Loss                            </span>|\n",
       "|------+---------+------------------------------------------------------------|\n",
       "|  0   |  0/125  | tensor(6.0223, device='cuda:3', grad_fn=&lt;NllLossBackward0&gt;)|\n",
       "|  0   | 10/125  | tensor(5.9450, device='cuda:3', grad_fn=&lt;NllLossBackward0&gt;)|\n",
       "|  0   | 20/125  | tensor(6.1867, device='cuda:3', grad_fn=&lt;NllLossBackward0&gt;)|\n",
       "|  0   | 30/125  | tensor(5.9451, device='cuda:3', grad_fn=&lt;NllLossBackward0&gt;)|\n",
       "|  0   | 40/125  | tensor(6.0357, device='cuda:3', grad_fn=&lt;NllLossBackward0&gt;)|\n",
       "|  0   | 50/125  | tensor(5.6037, device='cuda:3', grad_fn=&lt;NllLossBackward0&gt;)|\n",
       "|  0   | 60/125  | tensor(5.7155, device='cuda:3', grad_fn=&lt;NllLossBackward0&gt;)|\n",
       "|  0   | 70/125  | tensor(6.2216, device='cuda:3', grad_fn=&lt;NllLossBackward0&gt;)|\n",
       "|  0   | 80/125  | tensor(5.9054, device='cuda:3', grad_fn=&lt;NllLossBackward0&gt;)|\n",
       "|  0   | 90/125  | tensor(6.0301, device='cuda:3', grad_fn=&lt;NllLossBackward0&gt;)|\n",
       "|  0   | 100/125 | tensor(5.9282, device='cuda:3', grad_fn=&lt;NllLossBackward0&gt;)|\n",
       "|  0   | 110/125 | tensor(5.4164, device='cuda:3', grad_fn=&lt;NllLossBackward0&gt;)|\n",
       "+-----------------------------------------------------------------------------+\n",
       "</pre>\n"
      ],
      "text/plain": [
       "\u001b[3m                                Training Status                                \u001b[0m\n",
       "+-----------------------------------------------------------------------------+\n",
       "|\u001b[1mEpoch\u001b[0m\u001b[1m \u001b[0m|\u001b[1m \u001b[0m\u001b[1m Steps \u001b[0m\u001b[1m \u001b[0m|\u001b[1m \u001b[0m\u001b[1m                           Loss                            \u001b[0m|\n",
       "|------+---------+------------------------------------------------------------|\n",
       "|  0   |  0/125  | tensor(6.0223, device='cuda:3', grad_fn=<NllLossBackward0>)|\n",
       "|  0   | 10/125  | tensor(5.9450, device='cuda:3', grad_fn=<NllLossBackward0>)|\n",
       "|  0   | 20/125  | tensor(6.1867, device='cuda:3', grad_fn=<NllLossBackward0>)|\n",
       "|  0   | 30/125  | tensor(5.9451, device='cuda:3', grad_fn=<NllLossBackward0>)|\n",
       "|  0   | 40/125  | tensor(6.0357, device='cuda:3', grad_fn=<NllLossBackward0>)|\n",
       "|  0   | 50/125  | tensor(5.6037, device='cuda:3', grad_fn=<NllLossBackward0>)|\n",
       "|  0   | 60/125  | tensor(5.7155, device='cuda:3', grad_fn=<NllLossBackward0>)|\n",
       "|  0   | 70/125  | tensor(6.2216, device='cuda:3', grad_fn=<NllLossBackward0>)|\n",
       "|  0   | 80/125  | tensor(5.9054, device='cuda:3', grad_fn=<NllLossBackward0>)|\n",
       "|  0   | 90/125  | tensor(6.0301, device='cuda:3', grad_fn=<NllLossBackward0>)|\n",
       "|  0   | 100/125 | tensor(5.9282, device='cuda:3', grad_fn=<NllLossBackward0>)|\n",
       "|  0   | 110/125 | tensor(5.4164, device='cuda:3', grad_fn=<NllLossBackward0>)|\n",
       "+-----------------------------------------------------------------------------+\n"
      ]
     },
     "metadata": {},
     "output_type": "display_data"
    },
    {
     "name": "stdout",
     "output_type": "stream",
     "text": [
      "STEP:  120 / 125\n"
     ]
    },
    {
     "data": {
      "text/html": [
       "<pre style=\"white-space:pre;overflow-x:auto;line-height:normal;font-family:Menlo,'DejaVu Sans Mono',consolas,'Courier New',monospace\"><span style=\"font-style: italic\">                                Training Status                                </span>\n",
       "+-----------------------------------------------------------------------------+\n",
       "|<span style=\"font-weight: bold\">Epoch </span>|<span style=\"font-weight: bold\">  Steps  </span>|<span style=\"font-weight: bold\">                            Loss                            </span>|\n",
       "|------+---------+------------------------------------------------------------|\n",
       "|  0   |  0/125  | tensor(6.0223, device='cuda:3', grad_fn=&lt;NllLossBackward0&gt;)|\n",
       "|  0   | 10/125  | tensor(5.9450, device='cuda:3', grad_fn=&lt;NllLossBackward0&gt;)|\n",
       "|  0   | 20/125  | tensor(6.1867, device='cuda:3', grad_fn=&lt;NllLossBackward0&gt;)|\n",
       "|  0   | 30/125  | tensor(5.9451, device='cuda:3', grad_fn=&lt;NllLossBackward0&gt;)|\n",
       "|  0   | 40/125  | tensor(6.0357, device='cuda:3', grad_fn=&lt;NllLossBackward0&gt;)|\n",
       "|  0   | 50/125  | tensor(5.6037, device='cuda:3', grad_fn=&lt;NllLossBackward0&gt;)|\n",
       "|  0   | 60/125  | tensor(5.7155, device='cuda:3', grad_fn=&lt;NllLossBackward0&gt;)|\n",
       "|  0   | 70/125  | tensor(6.2216, device='cuda:3', grad_fn=&lt;NllLossBackward0&gt;)|\n",
       "|  0   | 80/125  | tensor(5.9054, device='cuda:3', grad_fn=&lt;NllLossBackward0&gt;)|\n",
       "|  0   | 90/125  | tensor(6.0301, device='cuda:3', grad_fn=&lt;NllLossBackward0&gt;)|\n",
       "|  0   | 100/125 | tensor(5.9282, device='cuda:3', grad_fn=&lt;NllLossBackward0&gt;)|\n",
       "|  0   | 110/125 | tensor(5.4164, device='cuda:3', grad_fn=&lt;NllLossBackward0&gt;)|\n",
       "|  0   | 120/125 | tensor(5.5291, device='cuda:3', grad_fn=&lt;NllLossBackward0&gt;)|\n",
       "+-----------------------------------------------------------------------------+\n",
       "</pre>\n"
      ],
      "text/plain": [
       "\u001b[3m                                Training Status                                \u001b[0m\n",
       "+-----------------------------------------------------------------------------+\n",
       "|\u001b[1mEpoch\u001b[0m\u001b[1m \u001b[0m|\u001b[1m \u001b[0m\u001b[1m Steps \u001b[0m\u001b[1m \u001b[0m|\u001b[1m \u001b[0m\u001b[1m                           Loss                            \u001b[0m|\n",
       "|------+---------+------------------------------------------------------------|\n",
       "|  0   |  0/125  | tensor(6.0223, device='cuda:3', grad_fn=<NllLossBackward0>)|\n",
       "|  0   | 10/125  | tensor(5.9450, device='cuda:3', grad_fn=<NllLossBackward0>)|\n",
       "|  0   | 20/125  | tensor(6.1867, device='cuda:3', grad_fn=<NllLossBackward0>)|\n",
       "|  0   | 30/125  | tensor(5.9451, device='cuda:3', grad_fn=<NllLossBackward0>)|\n",
       "|  0   | 40/125  | tensor(6.0357, device='cuda:3', grad_fn=<NllLossBackward0>)|\n",
       "|  0   | 50/125  | tensor(5.6037, device='cuda:3', grad_fn=<NllLossBackward0>)|\n",
       "|  0   | 60/125  | tensor(5.7155, device='cuda:3', grad_fn=<NllLossBackward0>)|\n",
       "|  0   | 70/125  | tensor(6.2216, device='cuda:3', grad_fn=<NllLossBackward0>)|\n",
       "|  0   | 80/125  | tensor(5.9054, device='cuda:3', grad_fn=<NllLossBackward0>)|\n",
       "|  0   | 90/125  | tensor(6.0301, device='cuda:3', grad_fn=<NllLossBackward0>)|\n",
       "|  0   | 100/125 | tensor(5.9282, device='cuda:3', grad_fn=<NllLossBackward0>)|\n",
       "|  0   | 110/125 | tensor(5.4164, device='cuda:3', grad_fn=<NllLossBackward0>)|\n",
       "|  0   | 120/125 | tensor(5.5291, device='cuda:3', grad_fn=<NllLossBackward0>)|\n",
       "+-----------------------------------------------------------------------------+\n"
      ]
     },
     "metadata": {},
     "output_type": "display_data"
    },
    {
     "data": {
      "text/html": [
       "<pre style=\"white-space:pre;overflow-x:auto;line-height:normal;font-family:Menlo,'DejaVu Sans Mono',consolas,'Courier New',monospace\">Completed <span style=\"color: #008080; text-decoration-color: #008080; font-weight: bold\">0</span>\n",
       "</pre>\n"
      ],
      "text/plain": [
       "Completed \u001b[1;36m0\u001b[0m\n"
      ]
     },
     "metadata": {},
     "output_type": "display_data"
    },
    {
     "data": {
      "text/html": [
       "<pre style=\"white-space:pre;overflow-x:auto;line-height:normal;font-family:Menlo,'DejaVu Sans Mono',consolas,'Courier New',monospace\">Completed <span style=\"color: #008080; text-decoration-color: #008080; font-weight: bold\">10</span>\n",
       "</pre>\n"
      ],
      "text/plain": [
       "Completed \u001b[1;36m10\u001b[0m\n"
      ]
     },
     "metadata": {},
     "output_type": "display_data"
    },
    {
     "data": {
      "text/html": [
       "<pre style=\"white-space:pre;overflow-x:auto;line-height:normal;font-family:Menlo,'DejaVu Sans Mono',consolas,'Courier New',monospace\">Completed <span style=\"color: #008080; text-decoration-color: #008080; font-weight: bold\">20</span>\n",
       "</pre>\n"
      ],
      "text/plain": [
       "Completed \u001b[1;36m20\u001b[0m\n"
      ]
     },
     "metadata": {},
     "output_type": "display_data"
    },
    {
     "data": {
      "text/html": [
       "<pre style=\"white-space:pre;overflow-x:auto;line-height:normal;font-family:Menlo,'DejaVu Sans Mono',consolas,'Courier New',monospace\">Completed <span style=\"color: #008080; text-decoration-color: #008080; font-weight: bold\">30</span>\n",
       "</pre>\n"
      ],
      "text/plain": [
       "Completed \u001b[1;36m30\u001b[0m\n"
      ]
     },
     "metadata": {},
     "output_type": "display_data"
    },
    {
     "data": {
      "text/html": [
       "<pre style=\"white-space:pre;overflow-x:auto;line-height:normal;font-family:Menlo,'DejaVu Sans Mono',consolas,'Courier New',monospace\">Completed <span style=\"color: #008080; text-decoration-color: #008080; font-weight: bold\">40</span>\n",
       "</pre>\n"
      ],
      "text/plain": [
       "Completed \u001b[1;36m40\u001b[0m\n"
      ]
     },
     "metadata": {},
     "output_type": "display_data"
    },
    {
     "data": {
      "text/html": [
       "<pre style=\"white-space:pre;overflow-x:auto;line-height:normal;font-family:Menlo,'DejaVu Sans Mono',consolas,'Courier New',monospace\">Completed <span style=\"color: #008080; text-decoration-color: #008080; font-weight: bold\">50</span>\n",
       "</pre>\n"
      ],
      "text/plain": [
       "Completed \u001b[1;36m50\u001b[0m\n"
      ]
     },
     "metadata": {},
     "output_type": "display_data"
    },
    {
     "data": {
      "text/html": [
       "<pre style=\"white-space:pre;overflow-x:auto;line-height:normal;font-family:Menlo,'DejaVu Sans Mono',consolas,'Courier New',monospace\">Completed <span style=\"color: #008080; text-decoration-color: #008080; font-weight: bold\">60</span>\n",
       "</pre>\n"
      ],
      "text/plain": [
       "Completed \u001b[1;36m60\u001b[0m\n"
      ]
     },
     "metadata": {},
     "output_type": "display_data"
    },
    {
     "data": {
      "text/html": [
       "<pre style=\"white-space:pre;overflow-x:auto;line-height:normal;font-family:Menlo,'DejaVu Sans Mono',consolas,'Courier New',monospace\">Completed <span style=\"color: #008080; text-decoration-color: #008080; font-weight: bold\">70</span>\n",
       "</pre>\n"
      ],
      "text/plain": [
       "Completed \u001b[1;36m70\u001b[0m\n"
      ]
     },
     "metadata": {},
     "output_type": "display_data"
    },
    {
     "data": {
      "text/html": [
       "<pre style=\"white-space:pre;overflow-x:auto;line-height:normal;font-family:Menlo,'DejaVu Sans Mono',consolas,'Courier New',monospace\">Completed <span style=\"color: #008080; text-decoration-color: #008080; font-weight: bold\">80</span>\n",
       "</pre>\n"
      ],
      "text/plain": [
       "Completed \u001b[1;36m80\u001b[0m\n"
      ]
     },
     "metadata": {},
     "output_type": "display_data"
    },
    {
     "data": {
      "text/html": [
       "<pre style=\"white-space:pre;overflow-x:auto;line-height:normal;font-family:Menlo,'DejaVu Sans Mono',consolas,'Courier New',monospace\">Completed <span style=\"color: #008080; text-decoration-color: #008080; font-weight: bold\">90</span>\n",
       "</pre>\n"
      ],
      "text/plain": [
       "Completed \u001b[1;36m90\u001b[0m\n"
      ]
     },
     "metadata": {},
     "output_type": "display_data"
    },
    {
     "data": {
      "text/html": [
       "<pre style=\"white-space:pre;overflow-x:auto;line-height:normal;font-family:Menlo,'DejaVu Sans Mono',consolas,'Courier New',monospace\">Completed <span style=\"color: #008080; text-decoration-color: #008080; font-weight: bold\">100</span>\n",
       "</pre>\n"
      ],
      "text/plain": [
       "Completed \u001b[1;36m100\u001b[0m\n"
      ]
     },
     "metadata": {},
     "output_type": "display_data"
    },
    {
     "data": {
      "text/html": [
       "<pre style=\"white-space:pre;overflow-x:auto;line-height:normal;font-family:Menlo,'DejaVu Sans Mono',consolas,'Courier New',monospace\">Completed <span style=\"color: #008080; text-decoration-color: #008080; font-weight: bold\">110</span>\n",
       "</pre>\n"
      ],
      "text/plain": [
       "Completed \u001b[1;36m110\u001b[0m\n"
      ]
     },
     "metadata": {},
     "output_type": "display_data"
    },
    {
     "data": {
      "text/html": [
       "<pre style=\"white-space:pre;overflow-x:auto;line-height:normal;font-family:Menlo,'DejaVu Sans Mono',consolas,'Courier New',monospace\">Completed <span style=\"color: #008080; text-decoration-color: #008080; font-weight: bold\">120</span>\n",
       "</pre>\n"
      ],
      "text/plain": [
       "Completed \u001b[1;36m120\u001b[0m\n"
      ]
     },
     "metadata": {},
     "output_type": "display_data"
    },
    {
     "name": "stdout",
     "output_type": "stream",
     "text": [
      "SAVE TO CSV FINISHED\n",
      "SAVE ROUGE TO CSV FINISHED\n",
      "STEP:  0 / 125\n"
     ]
    },
    {
     "data": {
      "text/html": [
       "<pre style=\"white-space:pre;overflow-x:auto;line-height:normal;font-family:Menlo,'DejaVu Sans Mono',consolas,'Courier New',monospace\"><span style=\"font-style: italic\">                                Training Status                                </span>\n",
       "+-----------------------------------------------------------------------------+\n",
       "|<span style=\"font-weight: bold\">Epoch </span>|<span style=\"font-weight: bold\">  Steps  </span>|<span style=\"font-weight: bold\">                            Loss                            </span>|\n",
       "|------+---------+------------------------------------------------------------|\n",
       "|  0   |  0/125  | tensor(6.0223, device='cuda:3', grad_fn=&lt;NllLossBackward0&gt;)|\n",
       "|  0   | 10/125  | tensor(5.9450, device='cuda:3', grad_fn=&lt;NllLossBackward0&gt;)|\n",
       "|  0   | 20/125  | tensor(6.1867, device='cuda:3', grad_fn=&lt;NllLossBackward0&gt;)|\n",
       "|  0   | 30/125  | tensor(5.9451, device='cuda:3', grad_fn=&lt;NllLossBackward0&gt;)|\n",
       "|  0   | 40/125  | tensor(6.0357, device='cuda:3', grad_fn=&lt;NllLossBackward0&gt;)|\n",
       "|  0   | 50/125  | tensor(5.6037, device='cuda:3', grad_fn=&lt;NllLossBackward0&gt;)|\n",
       "|  0   | 60/125  | tensor(5.7155, device='cuda:3', grad_fn=&lt;NllLossBackward0&gt;)|\n",
       "|  0   | 70/125  | tensor(6.2216, device='cuda:3', grad_fn=&lt;NllLossBackward0&gt;)|\n",
       "|  0   | 80/125  | tensor(5.9054, device='cuda:3', grad_fn=&lt;NllLossBackward0&gt;)|\n",
       "|  0   | 90/125  | tensor(6.0301, device='cuda:3', grad_fn=&lt;NllLossBackward0&gt;)|\n",
       "|  0   | 100/125 | tensor(5.9282, device='cuda:3', grad_fn=&lt;NllLossBackward0&gt;)|\n",
       "|  0   | 110/125 | tensor(5.4164, device='cuda:3', grad_fn=&lt;NllLossBackward0&gt;)|\n",
       "|  0   | 120/125 | tensor(5.5291, device='cuda:3', grad_fn=&lt;NllLossBackward0&gt;)|\n",
       "|  1   |  0/125  | tensor(5.8595, device='cuda:3', grad_fn=&lt;NllLossBackward0&gt;)|\n",
       "+-----------------------------------------------------------------------------+\n",
       "</pre>\n"
      ],
      "text/plain": [
       "\u001b[3m                                Training Status                                \u001b[0m\n",
       "+-----------------------------------------------------------------------------+\n",
       "|\u001b[1mEpoch\u001b[0m\u001b[1m \u001b[0m|\u001b[1m \u001b[0m\u001b[1m Steps \u001b[0m\u001b[1m \u001b[0m|\u001b[1m \u001b[0m\u001b[1m                           Loss                            \u001b[0m|\n",
       "|------+---------+------------------------------------------------------------|\n",
       "|  0   |  0/125  | tensor(6.0223, device='cuda:3', grad_fn=<NllLossBackward0>)|\n",
       "|  0   | 10/125  | tensor(5.9450, device='cuda:3', grad_fn=<NllLossBackward0>)|\n",
       "|  0   | 20/125  | tensor(6.1867, device='cuda:3', grad_fn=<NllLossBackward0>)|\n",
       "|  0   | 30/125  | tensor(5.9451, device='cuda:3', grad_fn=<NllLossBackward0>)|\n",
       "|  0   | 40/125  | tensor(6.0357, device='cuda:3', grad_fn=<NllLossBackward0>)|\n",
       "|  0   | 50/125  | tensor(5.6037, device='cuda:3', grad_fn=<NllLossBackward0>)|\n",
       "|  0   | 60/125  | tensor(5.7155, device='cuda:3', grad_fn=<NllLossBackward0>)|\n",
       "|  0   | 70/125  | tensor(6.2216, device='cuda:3', grad_fn=<NllLossBackward0>)|\n",
       "|  0   | 80/125  | tensor(5.9054, device='cuda:3', grad_fn=<NllLossBackward0>)|\n",
       "|  0   | 90/125  | tensor(6.0301, device='cuda:3', grad_fn=<NllLossBackward0>)|\n",
       "|  0   | 100/125 | tensor(5.9282, device='cuda:3', grad_fn=<NllLossBackward0>)|\n",
       "|  0   | 110/125 | tensor(5.4164, device='cuda:3', grad_fn=<NllLossBackward0>)|\n",
       "|  0   | 120/125 | tensor(5.5291, device='cuda:3', grad_fn=<NllLossBackward0>)|\n",
       "|  1   |  0/125  | tensor(5.8595, device='cuda:3', grad_fn=<NllLossBackward0>)|\n",
       "+-----------------------------------------------------------------------------+\n"
      ]
     },
     "metadata": {},
     "output_type": "display_data"
    },
    {
     "name": "stdout",
     "output_type": "stream",
     "text": [
      "STEP:  10 / 125\n"
     ]
    },
    {
     "data": {
      "text/html": [
       "<pre style=\"white-space:pre;overflow-x:auto;line-height:normal;font-family:Menlo,'DejaVu Sans Mono',consolas,'Courier New',monospace\"><span style=\"font-style: italic\">                                Training Status                                </span>\n",
       "+-----------------------------------------------------------------------------+\n",
       "|<span style=\"font-weight: bold\">Epoch </span>|<span style=\"font-weight: bold\">  Steps  </span>|<span style=\"font-weight: bold\">                            Loss                            </span>|\n",
       "|------+---------+------------------------------------------------------------|\n",
       "|  0   |  0/125  | tensor(6.0223, device='cuda:3', grad_fn=&lt;NllLossBackward0&gt;)|\n",
       "|  0   | 10/125  | tensor(5.9450, device='cuda:3', grad_fn=&lt;NllLossBackward0&gt;)|\n",
       "|  0   | 20/125  | tensor(6.1867, device='cuda:3', grad_fn=&lt;NllLossBackward0&gt;)|\n",
       "|  0   | 30/125  | tensor(5.9451, device='cuda:3', grad_fn=&lt;NllLossBackward0&gt;)|\n",
       "|  0   | 40/125  | tensor(6.0357, device='cuda:3', grad_fn=&lt;NllLossBackward0&gt;)|\n",
       "|  0   | 50/125  | tensor(5.6037, device='cuda:3', grad_fn=&lt;NllLossBackward0&gt;)|\n",
       "|  0   | 60/125  | tensor(5.7155, device='cuda:3', grad_fn=&lt;NllLossBackward0&gt;)|\n",
       "|  0   | 70/125  | tensor(6.2216, device='cuda:3', grad_fn=&lt;NllLossBackward0&gt;)|\n",
       "|  0   | 80/125  | tensor(5.9054, device='cuda:3', grad_fn=&lt;NllLossBackward0&gt;)|\n",
       "|  0   | 90/125  | tensor(6.0301, device='cuda:3', grad_fn=&lt;NllLossBackward0&gt;)|\n",
       "|  0   | 100/125 | tensor(5.9282, device='cuda:3', grad_fn=&lt;NllLossBackward0&gt;)|\n",
       "|  0   | 110/125 | tensor(5.4164, device='cuda:3', grad_fn=&lt;NllLossBackward0&gt;)|\n",
       "|  0   | 120/125 | tensor(5.5291, device='cuda:3', grad_fn=&lt;NllLossBackward0&gt;)|\n",
       "|  1   |  0/125  | tensor(5.8595, device='cuda:3', grad_fn=&lt;NllLossBackward0&gt;)|\n",
       "|  1   | 10/125  | tensor(5.8180, device='cuda:3', grad_fn=&lt;NllLossBackward0&gt;)|\n",
       "+-----------------------------------------------------------------------------+\n",
       "</pre>\n"
      ],
      "text/plain": [
       "\u001b[3m                                Training Status                                \u001b[0m\n",
       "+-----------------------------------------------------------------------------+\n",
       "|\u001b[1mEpoch\u001b[0m\u001b[1m \u001b[0m|\u001b[1m \u001b[0m\u001b[1m Steps \u001b[0m\u001b[1m \u001b[0m|\u001b[1m \u001b[0m\u001b[1m                           Loss                            \u001b[0m|\n",
       "|------+---------+------------------------------------------------------------|\n",
       "|  0   |  0/125  | tensor(6.0223, device='cuda:3', grad_fn=<NllLossBackward0>)|\n",
       "|  0   | 10/125  | tensor(5.9450, device='cuda:3', grad_fn=<NllLossBackward0>)|\n",
       "|  0   | 20/125  | tensor(6.1867, device='cuda:3', grad_fn=<NllLossBackward0>)|\n",
       "|  0   | 30/125  | tensor(5.9451, device='cuda:3', grad_fn=<NllLossBackward0>)|\n",
       "|  0   | 40/125  | tensor(6.0357, device='cuda:3', grad_fn=<NllLossBackward0>)|\n",
       "|  0   | 50/125  | tensor(5.6037, device='cuda:3', grad_fn=<NllLossBackward0>)|\n",
       "|  0   | 60/125  | tensor(5.7155, device='cuda:3', grad_fn=<NllLossBackward0>)|\n",
       "|  0   | 70/125  | tensor(6.2216, device='cuda:3', grad_fn=<NllLossBackward0>)|\n",
       "|  0   | 80/125  | tensor(5.9054, device='cuda:3', grad_fn=<NllLossBackward0>)|\n",
       "|  0   | 90/125  | tensor(6.0301, device='cuda:3', grad_fn=<NllLossBackward0>)|\n",
       "|  0   | 100/125 | tensor(5.9282, device='cuda:3', grad_fn=<NllLossBackward0>)|\n",
       "|  0   | 110/125 | tensor(5.4164, device='cuda:3', grad_fn=<NllLossBackward0>)|\n",
       "|  0   | 120/125 | tensor(5.5291, device='cuda:3', grad_fn=<NllLossBackward0>)|\n",
       "|  1   |  0/125  | tensor(5.8595, device='cuda:3', grad_fn=<NllLossBackward0>)|\n",
       "|  1   | 10/125  | tensor(5.8180, device='cuda:3', grad_fn=<NllLossBackward0>)|\n",
       "+-----------------------------------------------------------------------------+\n"
      ]
     },
     "metadata": {},
     "output_type": "display_data"
    },
    {
     "name": "stdout",
     "output_type": "stream",
     "text": [
      "STEP:  20 / 125\n"
     ]
    },
    {
     "data": {
      "text/html": [
       "<pre style=\"white-space:pre;overflow-x:auto;line-height:normal;font-family:Menlo,'DejaVu Sans Mono',consolas,'Courier New',monospace\"><span style=\"font-style: italic\">                                Training Status                                </span>\n",
       "+-----------------------------------------------------------------------------+\n",
       "|<span style=\"font-weight: bold\">Epoch </span>|<span style=\"font-weight: bold\">  Steps  </span>|<span style=\"font-weight: bold\">                            Loss                            </span>|\n",
       "|------+---------+------------------------------------------------------------|\n",
       "|  0   |  0/125  | tensor(6.0223, device='cuda:3', grad_fn=&lt;NllLossBackward0&gt;)|\n",
       "|  0   | 10/125  | tensor(5.9450, device='cuda:3', grad_fn=&lt;NllLossBackward0&gt;)|\n",
       "|  0   | 20/125  | tensor(6.1867, device='cuda:3', grad_fn=&lt;NllLossBackward0&gt;)|\n",
       "|  0   | 30/125  | tensor(5.9451, device='cuda:3', grad_fn=&lt;NllLossBackward0&gt;)|\n",
       "|  0   | 40/125  | tensor(6.0357, device='cuda:3', grad_fn=&lt;NllLossBackward0&gt;)|\n",
       "|  0   | 50/125  | tensor(5.6037, device='cuda:3', grad_fn=&lt;NllLossBackward0&gt;)|\n",
       "|  0   | 60/125  | tensor(5.7155, device='cuda:3', grad_fn=&lt;NllLossBackward0&gt;)|\n",
       "|  0   | 70/125  | tensor(6.2216, device='cuda:3', grad_fn=&lt;NllLossBackward0&gt;)|\n",
       "|  0   | 80/125  | tensor(5.9054, device='cuda:3', grad_fn=&lt;NllLossBackward0&gt;)|\n",
       "|  0   | 90/125  | tensor(6.0301, device='cuda:3', grad_fn=&lt;NllLossBackward0&gt;)|\n",
       "|  0   | 100/125 | tensor(5.9282, device='cuda:3', grad_fn=&lt;NllLossBackward0&gt;)|\n",
       "|  0   | 110/125 | tensor(5.4164, device='cuda:3', grad_fn=&lt;NllLossBackward0&gt;)|\n",
       "|  0   | 120/125 | tensor(5.5291, device='cuda:3', grad_fn=&lt;NllLossBackward0&gt;)|\n",
       "|  1   |  0/125  | tensor(5.8595, device='cuda:3', grad_fn=&lt;NllLossBackward0&gt;)|\n",
       "|  1   | 10/125  | tensor(5.8180, device='cuda:3', grad_fn=&lt;NllLossBackward0&gt;)|\n",
       "|  1   | 20/125  | tensor(5.5301, device='cuda:3', grad_fn=&lt;NllLossBackward0&gt;)|\n",
       "+-----------------------------------------------------------------------------+\n",
       "</pre>\n"
      ],
      "text/plain": [
       "\u001b[3m                                Training Status                                \u001b[0m\n",
       "+-----------------------------------------------------------------------------+\n",
       "|\u001b[1mEpoch\u001b[0m\u001b[1m \u001b[0m|\u001b[1m \u001b[0m\u001b[1m Steps \u001b[0m\u001b[1m \u001b[0m|\u001b[1m \u001b[0m\u001b[1m                           Loss                            \u001b[0m|\n",
       "|------+---------+------------------------------------------------------------|\n",
       "|  0   |  0/125  | tensor(6.0223, device='cuda:3', grad_fn=<NllLossBackward0>)|\n",
       "|  0   | 10/125  | tensor(5.9450, device='cuda:3', grad_fn=<NllLossBackward0>)|\n",
       "|  0   | 20/125  | tensor(6.1867, device='cuda:3', grad_fn=<NllLossBackward0>)|\n",
       "|  0   | 30/125  | tensor(5.9451, device='cuda:3', grad_fn=<NllLossBackward0>)|\n",
       "|  0   | 40/125  | tensor(6.0357, device='cuda:3', grad_fn=<NllLossBackward0>)|\n",
       "|  0   | 50/125  | tensor(5.6037, device='cuda:3', grad_fn=<NllLossBackward0>)|\n",
       "|  0   | 60/125  | tensor(5.7155, device='cuda:3', grad_fn=<NllLossBackward0>)|\n",
       "|  0   | 70/125  | tensor(6.2216, device='cuda:3', grad_fn=<NllLossBackward0>)|\n",
       "|  0   | 80/125  | tensor(5.9054, device='cuda:3', grad_fn=<NllLossBackward0>)|\n",
       "|  0   | 90/125  | tensor(6.0301, device='cuda:3', grad_fn=<NllLossBackward0>)|\n",
       "|  0   | 100/125 | tensor(5.9282, device='cuda:3', grad_fn=<NllLossBackward0>)|\n",
       "|  0   | 110/125 | tensor(5.4164, device='cuda:3', grad_fn=<NllLossBackward0>)|\n",
       "|  0   | 120/125 | tensor(5.5291, device='cuda:3', grad_fn=<NllLossBackward0>)|\n",
       "|  1   |  0/125  | tensor(5.8595, device='cuda:3', grad_fn=<NllLossBackward0>)|\n",
       "|  1   | 10/125  | tensor(5.8180, device='cuda:3', grad_fn=<NllLossBackward0>)|\n",
       "|  1   | 20/125  | tensor(5.5301, device='cuda:3', grad_fn=<NllLossBackward0>)|\n",
       "+-----------------------------------------------------------------------------+\n"
      ]
     },
     "metadata": {},
     "output_type": "display_data"
    },
    {
     "name": "stdout",
     "output_type": "stream",
     "text": [
      "STEP:  30 / 125\n"
     ]
    },
    {
     "data": {
      "text/html": [
       "<pre style=\"white-space:pre;overflow-x:auto;line-height:normal;font-family:Menlo,'DejaVu Sans Mono',consolas,'Courier New',monospace\"><span style=\"font-style: italic\">                                Training Status                                </span>\n",
       "+-----------------------------------------------------------------------------+\n",
       "|<span style=\"font-weight: bold\">Epoch </span>|<span style=\"font-weight: bold\">  Steps  </span>|<span style=\"font-weight: bold\">                            Loss                            </span>|\n",
       "|------+---------+------------------------------------------------------------|\n",
       "|  0   |  0/125  | tensor(6.0223, device='cuda:3', grad_fn=&lt;NllLossBackward0&gt;)|\n",
       "|  0   | 10/125  | tensor(5.9450, device='cuda:3', grad_fn=&lt;NllLossBackward0&gt;)|\n",
       "|  0   | 20/125  | tensor(6.1867, device='cuda:3', grad_fn=&lt;NllLossBackward0&gt;)|\n",
       "|  0   | 30/125  | tensor(5.9451, device='cuda:3', grad_fn=&lt;NllLossBackward0&gt;)|\n",
       "|  0   | 40/125  | tensor(6.0357, device='cuda:3', grad_fn=&lt;NllLossBackward0&gt;)|\n",
       "|  0   | 50/125  | tensor(5.6037, device='cuda:3', grad_fn=&lt;NllLossBackward0&gt;)|\n",
       "|  0   | 60/125  | tensor(5.7155, device='cuda:3', grad_fn=&lt;NllLossBackward0&gt;)|\n",
       "|  0   | 70/125  | tensor(6.2216, device='cuda:3', grad_fn=&lt;NllLossBackward0&gt;)|\n",
       "|  0   | 80/125  | tensor(5.9054, device='cuda:3', grad_fn=&lt;NllLossBackward0&gt;)|\n",
       "|  0   | 90/125  | tensor(6.0301, device='cuda:3', grad_fn=&lt;NllLossBackward0&gt;)|\n",
       "|  0   | 100/125 | tensor(5.9282, device='cuda:3', grad_fn=&lt;NllLossBackward0&gt;)|\n",
       "|  0   | 110/125 | tensor(5.4164, device='cuda:3', grad_fn=&lt;NllLossBackward0&gt;)|\n",
       "|  0   | 120/125 | tensor(5.5291, device='cuda:3', grad_fn=&lt;NllLossBackward0&gt;)|\n",
       "|  1   |  0/125  | tensor(5.8595, device='cuda:3', grad_fn=&lt;NllLossBackward0&gt;)|\n",
       "|  1   | 10/125  | tensor(5.8180, device='cuda:3', grad_fn=&lt;NllLossBackward0&gt;)|\n",
       "|  1   | 20/125  | tensor(5.5301, device='cuda:3', grad_fn=&lt;NllLossBackward0&gt;)|\n",
       "|  1   | 30/125  | tensor(5.6330, device='cuda:3', grad_fn=&lt;NllLossBackward0&gt;)|\n",
       "+-----------------------------------------------------------------------------+\n",
       "</pre>\n"
      ],
      "text/plain": [
       "\u001b[3m                                Training Status                                \u001b[0m\n",
       "+-----------------------------------------------------------------------------+\n",
       "|\u001b[1mEpoch\u001b[0m\u001b[1m \u001b[0m|\u001b[1m \u001b[0m\u001b[1m Steps \u001b[0m\u001b[1m \u001b[0m|\u001b[1m \u001b[0m\u001b[1m                           Loss                            \u001b[0m|\n",
       "|------+---------+------------------------------------------------------------|\n",
       "|  0   |  0/125  | tensor(6.0223, device='cuda:3', grad_fn=<NllLossBackward0>)|\n",
       "|  0   | 10/125  | tensor(5.9450, device='cuda:3', grad_fn=<NllLossBackward0>)|\n",
       "|  0   | 20/125  | tensor(6.1867, device='cuda:3', grad_fn=<NllLossBackward0>)|\n",
       "|  0   | 30/125  | tensor(5.9451, device='cuda:3', grad_fn=<NllLossBackward0>)|\n",
       "|  0   | 40/125  | tensor(6.0357, device='cuda:3', grad_fn=<NllLossBackward0>)|\n",
       "|  0   | 50/125  | tensor(5.6037, device='cuda:3', grad_fn=<NllLossBackward0>)|\n",
       "|  0   | 60/125  | tensor(5.7155, device='cuda:3', grad_fn=<NllLossBackward0>)|\n",
       "|  0   | 70/125  | tensor(6.2216, device='cuda:3', grad_fn=<NllLossBackward0>)|\n",
       "|  0   | 80/125  | tensor(5.9054, device='cuda:3', grad_fn=<NllLossBackward0>)|\n",
       "|  0   | 90/125  | tensor(6.0301, device='cuda:3', grad_fn=<NllLossBackward0>)|\n",
       "|  0   | 100/125 | tensor(5.9282, device='cuda:3', grad_fn=<NllLossBackward0>)|\n",
       "|  0   | 110/125 | tensor(5.4164, device='cuda:3', grad_fn=<NllLossBackward0>)|\n",
       "|  0   | 120/125 | tensor(5.5291, device='cuda:3', grad_fn=<NllLossBackward0>)|\n",
       "|  1   |  0/125  | tensor(5.8595, device='cuda:3', grad_fn=<NllLossBackward0>)|\n",
       "|  1   | 10/125  | tensor(5.8180, device='cuda:3', grad_fn=<NllLossBackward0>)|\n",
       "|  1   | 20/125  | tensor(5.5301, device='cuda:3', grad_fn=<NllLossBackward0>)|\n",
       "|  1   | 30/125  | tensor(5.6330, device='cuda:3', grad_fn=<NllLossBackward0>)|\n",
       "+-----------------------------------------------------------------------------+\n"
      ]
     },
     "metadata": {},
     "output_type": "display_data"
    },
    {
     "name": "stdout",
     "output_type": "stream",
     "text": [
      "STEP:  40 / 125\n"
     ]
    },
    {
     "data": {
      "text/html": [
       "<pre style=\"white-space:pre;overflow-x:auto;line-height:normal;font-family:Menlo,'DejaVu Sans Mono',consolas,'Courier New',monospace\"><span style=\"font-style: italic\">                                Training Status                                </span>\n",
       "+-----------------------------------------------------------------------------+\n",
       "|<span style=\"font-weight: bold\">Epoch </span>|<span style=\"font-weight: bold\">  Steps  </span>|<span style=\"font-weight: bold\">                            Loss                            </span>|\n",
       "|------+---------+------------------------------------------------------------|\n",
       "|  0   |  0/125  | tensor(6.0223, device='cuda:3', grad_fn=&lt;NllLossBackward0&gt;)|\n",
       "|  0   | 10/125  | tensor(5.9450, device='cuda:3', grad_fn=&lt;NllLossBackward0&gt;)|\n",
       "|  0   | 20/125  | tensor(6.1867, device='cuda:3', grad_fn=&lt;NllLossBackward0&gt;)|\n",
       "|  0   | 30/125  | tensor(5.9451, device='cuda:3', grad_fn=&lt;NllLossBackward0&gt;)|\n",
       "|  0   | 40/125  | tensor(6.0357, device='cuda:3', grad_fn=&lt;NllLossBackward0&gt;)|\n",
       "|  0   | 50/125  | tensor(5.6037, device='cuda:3', grad_fn=&lt;NllLossBackward0&gt;)|\n",
       "|  0   | 60/125  | tensor(5.7155, device='cuda:3', grad_fn=&lt;NllLossBackward0&gt;)|\n",
       "|  0   | 70/125  | tensor(6.2216, device='cuda:3', grad_fn=&lt;NllLossBackward0&gt;)|\n",
       "|  0   | 80/125  | tensor(5.9054, device='cuda:3', grad_fn=&lt;NllLossBackward0&gt;)|\n",
       "|  0   | 90/125  | tensor(6.0301, device='cuda:3', grad_fn=&lt;NllLossBackward0&gt;)|\n",
       "|  0   | 100/125 | tensor(5.9282, device='cuda:3', grad_fn=&lt;NllLossBackward0&gt;)|\n",
       "|  0   | 110/125 | tensor(5.4164, device='cuda:3', grad_fn=&lt;NllLossBackward0&gt;)|\n",
       "|  0   | 120/125 | tensor(5.5291, device='cuda:3', grad_fn=&lt;NllLossBackward0&gt;)|\n",
       "|  1   |  0/125  | tensor(5.8595, device='cuda:3', grad_fn=&lt;NllLossBackward0&gt;)|\n",
       "|  1   | 10/125  | tensor(5.8180, device='cuda:3', grad_fn=&lt;NllLossBackward0&gt;)|\n",
       "|  1   | 20/125  | tensor(5.5301, device='cuda:3', grad_fn=&lt;NllLossBackward0&gt;)|\n",
       "|  1   | 30/125  | tensor(5.6330, device='cuda:3', grad_fn=&lt;NllLossBackward0&gt;)|\n",
       "|  1   | 40/125  | tensor(5.7374, device='cuda:3', grad_fn=&lt;NllLossBackward0&gt;)|\n",
       "+-----------------------------------------------------------------------------+\n",
       "</pre>\n"
      ],
      "text/plain": [
       "\u001b[3m                                Training Status                                \u001b[0m\n",
       "+-----------------------------------------------------------------------------+\n",
       "|\u001b[1mEpoch\u001b[0m\u001b[1m \u001b[0m|\u001b[1m \u001b[0m\u001b[1m Steps \u001b[0m\u001b[1m \u001b[0m|\u001b[1m \u001b[0m\u001b[1m                           Loss                            \u001b[0m|\n",
       "|------+---------+------------------------------------------------------------|\n",
       "|  0   |  0/125  | tensor(6.0223, device='cuda:3', grad_fn=<NllLossBackward0>)|\n",
       "|  0   | 10/125  | tensor(5.9450, device='cuda:3', grad_fn=<NllLossBackward0>)|\n",
       "|  0   | 20/125  | tensor(6.1867, device='cuda:3', grad_fn=<NllLossBackward0>)|\n",
       "|  0   | 30/125  | tensor(5.9451, device='cuda:3', grad_fn=<NllLossBackward0>)|\n",
       "|  0   | 40/125  | tensor(6.0357, device='cuda:3', grad_fn=<NllLossBackward0>)|\n",
       "|  0   | 50/125  | tensor(5.6037, device='cuda:3', grad_fn=<NllLossBackward0>)|\n",
       "|  0   | 60/125  | tensor(5.7155, device='cuda:3', grad_fn=<NllLossBackward0>)|\n",
       "|  0   | 70/125  | tensor(6.2216, device='cuda:3', grad_fn=<NllLossBackward0>)|\n",
       "|  0   | 80/125  | tensor(5.9054, device='cuda:3', grad_fn=<NllLossBackward0>)|\n",
       "|  0   | 90/125  | tensor(6.0301, device='cuda:3', grad_fn=<NllLossBackward0>)|\n",
       "|  0   | 100/125 | tensor(5.9282, device='cuda:3', grad_fn=<NllLossBackward0>)|\n",
       "|  0   | 110/125 | tensor(5.4164, device='cuda:3', grad_fn=<NllLossBackward0>)|\n",
       "|  0   | 120/125 | tensor(5.5291, device='cuda:3', grad_fn=<NllLossBackward0>)|\n",
       "|  1   |  0/125  | tensor(5.8595, device='cuda:3', grad_fn=<NllLossBackward0>)|\n",
       "|  1   | 10/125  | tensor(5.8180, device='cuda:3', grad_fn=<NllLossBackward0>)|\n",
       "|  1   | 20/125  | tensor(5.5301, device='cuda:3', grad_fn=<NllLossBackward0>)|\n",
       "|  1   | 30/125  | tensor(5.6330, device='cuda:3', grad_fn=<NllLossBackward0>)|\n",
       "|  1   | 40/125  | tensor(5.7374, device='cuda:3', grad_fn=<NllLossBackward0>)|\n",
       "+-----------------------------------------------------------------------------+\n"
      ]
     },
     "metadata": {},
     "output_type": "display_data"
    },
    {
     "name": "stdout",
     "output_type": "stream",
     "text": [
      "STEP:  50 / 125\n"
     ]
    },
    {
     "data": {
      "text/html": [
       "<pre style=\"white-space:pre;overflow-x:auto;line-height:normal;font-family:Menlo,'DejaVu Sans Mono',consolas,'Courier New',monospace\"><span style=\"font-style: italic\">                                Training Status                                </span>\n",
       "+-----------------------------------------------------------------------------+\n",
       "|<span style=\"font-weight: bold\">Epoch </span>|<span style=\"font-weight: bold\">  Steps  </span>|<span style=\"font-weight: bold\">                            Loss                            </span>|\n",
       "|------+---------+------------------------------------------------------------|\n",
       "|  0   |  0/125  | tensor(6.0223, device='cuda:3', grad_fn=&lt;NllLossBackward0&gt;)|\n",
       "|  0   | 10/125  | tensor(5.9450, device='cuda:3', grad_fn=&lt;NllLossBackward0&gt;)|\n",
       "|  0   | 20/125  | tensor(6.1867, device='cuda:3', grad_fn=&lt;NllLossBackward0&gt;)|\n",
       "|  0   | 30/125  | tensor(5.9451, device='cuda:3', grad_fn=&lt;NllLossBackward0&gt;)|\n",
       "|  0   | 40/125  | tensor(6.0357, device='cuda:3', grad_fn=&lt;NllLossBackward0&gt;)|\n",
       "|  0   | 50/125  | tensor(5.6037, device='cuda:3', grad_fn=&lt;NllLossBackward0&gt;)|\n",
       "|  0   | 60/125  | tensor(5.7155, device='cuda:3', grad_fn=&lt;NllLossBackward0&gt;)|\n",
       "|  0   | 70/125  | tensor(6.2216, device='cuda:3', grad_fn=&lt;NllLossBackward0&gt;)|\n",
       "|  0   | 80/125  | tensor(5.9054, device='cuda:3', grad_fn=&lt;NllLossBackward0&gt;)|\n",
       "|  0   | 90/125  | tensor(6.0301, device='cuda:3', grad_fn=&lt;NllLossBackward0&gt;)|\n",
       "|  0   | 100/125 | tensor(5.9282, device='cuda:3', grad_fn=&lt;NllLossBackward0&gt;)|\n",
       "|  0   | 110/125 | tensor(5.4164, device='cuda:3', grad_fn=&lt;NllLossBackward0&gt;)|\n",
       "|  0   | 120/125 | tensor(5.5291, device='cuda:3', grad_fn=&lt;NllLossBackward0&gt;)|\n",
       "|  1   |  0/125  | tensor(5.8595, device='cuda:3', grad_fn=&lt;NllLossBackward0&gt;)|\n",
       "|  1   | 10/125  | tensor(5.8180, device='cuda:3', grad_fn=&lt;NllLossBackward0&gt;)|\n",
       "|  1   | 20/125  | tensor(5.5301, device='cuda:3', grad_fn=&lt;NllLossBackward0&gt;)|\n",
       "|  1   | 30/125  | tensor(5.6330, device='cuda:3', grad_fn=&lt;NllLossBackward0&gt;)|\n",
       "|  1   | 40/125  | tensor(5.7374, device='cuda:3', grad_fn=&lt;NllLossBackward0&gt;)|\n",
       "|  1   | 50/125  | tensor(5.5296, device='cuda:3', grad_fn=&lt;NllLossBackward0&gt;)|\n",
       "+-----------------------------------------------------------------------------+\n",
       "</pre>\n"
      ],
      "text/plain": [
       "\u001b[3m                                Training Status                                \u001b[0m\n",
       "+-----------------------------------------------------------------------------+\n",
       "|\u001b[1mEpoch\u001b[0m\u001b[1m \u001b[0m|\u001b[1m \u001b[0m\u001b[1m Steps \u001b[0m\u001b[1m \u001b[0m|\u001b[1m \u001b[0m\u001b[1m                           Loss                            \u001b[0m|\n",
       "|------+---------+------------------------------------------------------------|\n",
       "|  0   |  0/125  | tensor(6.0223, device='cuda:3', grad_fn=<NllLossBackward0>)|\n",
       "|  0   | 10/125  | tensor(5.9450, device='cuda:3', grad_fn=<NllLossBackward0>)|\n",
       "|  0   | 20/125  | tensor(6.1867, device='cuda:3', grad_fn=<NllLossBackward0>)|\n",
       "|  0   | 30/125  | tensor(5.9451, device='cuda:3', grad_fn=<NllLossBackward0>)|\n",
       "|  0   | 40/125  | tensor(6.0357, device='cuda:3', grad_fn=<NllLossBackward0>)|\n",
       "|  0   | 50/125  | tensor(5.6037, device='cuda:3', grad_fn=<NllLossBackward0>)|\n",
       "|  0   | 60/125  | tensor(5.7155, device='cuda:3', grad_fn=<NllLossBackward0>)|\n",
       "|  0   | 70/125  | tensor(6.2216, device='cuda:3', grad_fn=<NllLossBackward0>)|\n",
       "|  0   | 80/125  | tensor(5.9054, device='cuda:3', grad_fn=<NllLossBackward0>)|\n",
       "|  0   | 90/125  | tensor(6.0301, device='cuda:3', grad_fn=<NllLossBackward0>)|\n",
       "|  0   | 100/125 | tensor(5.9282, device='cuda:3', grad_fn=<NllLossBackward0>)|\n",
       "|  0   | 110/125 | tensor(5.4164, device='cuda:3', grad_fn=<NllLossBackward0>)|\n",
       "|  0   | 120/125 | tensor(5.5291, device='cuda:3', grad_fn=<NllLossBackward0>)|\n",
       "|  1   |  0/125  | tensor(5.8595, device='cuda:3', grad_fn=<NllLossBackward0>)|\n",
       "|  1   | 10/125  | tensor(5.8180, device='cuda:3', grad_fn=<NllLossBackward0>)|\n",
       "|  1   | 20/125  | tensor(5.5301, device='cuda:3', grad_fn=<NllLossBackward0>)|\n",
       "|  1   | 30/125  | tensor(5.6330, device='cuda:3', grad_fn=<NllLossBackward0>)|\n",
       "|  1   | 40/125  | tensor(5.7374, device='cuda:3', grad_fn=<NllLossBackward0>)|\n",
       "|  1   | 50/125  | tensor(5.5296, device='cuda:3', grad_fn=<NllLossBackward0>)|\n",
       "+-----------------------------------------------------------------------------+\n"
      ]
     },
     "metadata": {},
     "output_type": "display_data"
    },
    {
     "name": "stdout",
     "output_type": "stream",
     "text": [
      "STEP:  60 / 125\n"
     ]
    },
    {
     "data": {
      "text/html": [
       "<pre style=\"white-space:pre;overflow-x:auto;line-height:normal;font-family:Menlo,'DejaVu Sans Mono',consolas,'Courier New',monospace\"><span style=\"font-style: italic\">                                Training Status                                </span>\n",
       "+-----------------------------------------------------------------------------+\n",
       "|<span style=\"font-weight: bold\">Epoch </span>|<span style=\"font-weight: bold\">  Steps  </span>|<span style=\"font-weight: bold\">                            Loss                            </span>|\n",
       "|------+---------+------------------------------------------------------------|\n",
       "|  0   |  0/125  | tensor(6.0223, device='cuda:3', grad_fn=&lt;NllLossBackward0&gt;)|\n",
       "|  0   | 10/125  | tensor(5.9450, device='cuda:3', grad_fn=&lt;NllLossBackward0&gt;)|\n",
       "|  0   | 20/125  | tensor(6.1867, device='cuda:3', grad_fn=&lt;NllLossBackward0&gt;)|\n",
       "|  0   | 30/125  | tensor(5.9451, device='cuda:3', grad_fn=&lt;NllLossBackward0&gt;)|\n",
       "|  0   | 40/125  | tensor(6.0357, device='cuda:3', grad_fn=&lt;NllLossBackward0&gt;)|\n",
       "|  0   | 50/125  | tensor(5.6037, device='cuda:3', grad_fn=&lt;NllLossBackward0&gt;)|\n",
       "|  0   | 60/125  | tensor(5.7155, device='cuda:3', grad_fn=&lt;NllLossBackward0&gt;)|\n",
       "|  0   | 70/125  | tensor(6.2216, device='cuda:3', grad_fn=&lt;NllLossBackward0&gt;)|\n",
       "|  0   | 80/125  | tensor(5.9054, device='cuda:3', grad_fn=&lt;NllLossBackward0&gt;)|\n",
       "|  0   | 90/125  | tensor(6.0301, device='cuda:3', grad_fn=&lt;NllLossBackward0&gt;)|\n",
       "|  0   | 100/125 | tensor(5.9282, device='cuda:3', grad_fn=&lt;NllLossBackward0&gt;)|\n",
       "|  0   | 110/125 | tensor(5.4164, device='cuda:3', grad_fn=&lt;NllLossBackward0&gt;)|\n",
       "|  0   | 120/125 | tensor(5.5291, device='cuda:3', grad_fn=&lt;NllLossBackward0&gt;)|\n",
       "|  1   |  0/125  | tensor(5.8595, device='cuda:3', grad_fn=&lt;NllLossBackward0&gt;)|\n",
       "|  1   | 10/125  | tensor(5.8180, device='cuda:3', grad_fn=&lt;NllLossBackward0&gt;)|\n",
       "|  1   | 20/125  | tensor(5.5301, device='cuda:3', grad_fn=&lt;NllLossBackward0&gt;)|\n",
       "|  1   | 30/125  | tensor(5.6330, device='cuda:3', grad_fn=&lt;NllLossBackward0&gt;)|\n",
       "|  1   | 40/125  | tensor(5.7374, device='cuda:3', grad_fn=&lt;NllLossBackward0&gt;)|\n",
       "|  1   | 50/125  | tensor(5.5296, device='cuda:3', grad_fn=&lt;NllLossBackward0&gt;)|\n",
       "|  1   | 60/125  | tensor(5.9385, device='cuda:3', grad_fn=&lt;NllLossBackward0&gt;)|\n",
       "+-----------------------------------------------------------------------------+\n",
       "</pre>\n"
      ],
      "text/plain": [
       "\u001b[3m                                Training Status                                \u001b[0m\n",
       "+-----------------------------------------------------------------------------+\n",
       "|\u001b[1mEpoch\u001b[0m\u001b[1m \u001b[0m|\u001b[1m \u001b[0m\u001b[1m Steps \u001b[0m\u001b[1m \u001b[0m|\u001b[1m \u001b[0m\u001b[1m                           Loss                            \u001b[0m|\n",
       "|------+---------+------------------------------------------------------------|\n",
       "|  0   |  0/125  | tensor(6.0223, device='cuda:3', grad_fn=<NllLossBackward0>)|\n",
       "|  0   | 10/125  | tensor(5.9450, device='cuda:3', grad_fn=<NllLossBackward0>)|\n",
       "|  0   | 20/125  | tensor(6.1867, device='cuda:3', grad_fn=<NllLossBackward0>)|\n",
       "|  0   | 30/125  | tensor(5.9451, device='cuda:3', grad_fn=<NllLossBackward0>)|\n",
       "|  0   | 40/125  | tensor(6.0357, device='cuda:3', grad_fn=<NllLossBackward0>)|\n",
       "|  0   | 50/125  | tensor(5.6037, device='cuda:3', grad_fn=<NllLossBackward0>)|\n",
       "|  0   | 60/125  | tensor(5.7155, device='cuda:3', grad_fn=<NllLossBackward0>)|\n",
       "|  0   | 70/125  | tensor(6.2216, device='cuda:3', grad_fn=<NllLossBackward0>)|\n",
       "|  0   | 80/125  | tensor(5.9054, device='cuda:3', grad_fn=<NllLossBackward0>)|\n",
       "|  0   | 90/125  | tensor(6.0301, device='cuda:3', grad_fn=<NllLossBackward0>)|\n",
       "|  0   | 100/125 | tensor(5.9282, device='cuda:3', grad_fn=<NllLossBackward0>)|\n",
       "|  0   | 110/125 | tensor(5.4164, device='cuda:3', grad_fn=<NllLossBackward0>)|\n",
       "|  0   | 120/125 | tensor(5.5291, device='cuda:3', grad_fn=<NllLossBackward0>)|\n",
       "|  1   |  0/125  | tensor(5.8595, device='cuda:3', grad_fn=<NllLossBackward0>)|\n",
       "|  1   | 10/125  | tensor(5.8180, device='cuda:3', grad_fn=<NllLossBackward0>)|\n",
       "|  1   | 20/125  | tensor(5.5301, device='cuda:3', grad_fn=<NllLossBackward0>)|\n",
       "|  1   | 30/125  | tensor(5.6330, device='cuda:3', grad_fn=<NllLossBackward0>)|\n",
       "|  1   | 40/125  | tensor(5.7374, device='cuda:3', grad_fn=<NllLossBackward0>)|\n",
       "|  1   | 50/125  | tensor(5.5296, device='cuda:3', grad_fn=<NllLossBackward0>)|\n",
       "|  1   | 60/125  | tensor(5.9385, device='cuda:3', grad_fn=<NllLossBackward0>)|\n",
       "+-----------------------------------------------------------------------------+\n"
      ]
     },
     "metadata": {},
     "output_type": "display_data"
    },
    {
     "name": "stdout",
     "output_type": "stream",
     "text": [
      "STEP:  70 / 125\n"
     ]
    },
    {
     "data": {
      "text/html": [
       "<pre style=\"white-space:pre;overflow-x:auto;line-height:normal;font-family:Menlo,'DejaVu Sans Mono',consolas,'Courier New',monospace\"><span style=\"font-style: italic\">                                Training Status                                </span>\n",
       "+-----------------------------------------------------------------------------+\n",
       "|<span style=\"font-weight: bold\">Epoch </span>|<span style=\"font-weight: bold\">  Steps  </span>|<span style=\"font-weight: bold\">                            Loss                            </span>|\n",
       "|------+---------+------------------------------------------------------------|\n",
       "|  0   |  0/125  | tensor(6.0223, device='cuda:3', grad_fn=&lt;NllLossBackward0&gt;)|\n",
       "|  0   | 10/125  | tensor(5.9450, device='cuda:3', grad_fn=&lt;NllLossBackward0&gt;)|\n",
       "|  0   | 20/125  | tensor(6.1867, device='cuda:3', grad_fn=&lt;NllLossBackward0&gt;)|\n",
       "|  0   | 30/125  | tensor(5.9451, device='cuda:3', grad_fn=&lt;NllLossBackward0&gt;)|\n",
       "|  0   | 40/125  | tensor(6.0357, device='cuda:3', grad_fn=&lt;NllLossBackward0&gt;)|\n",
       "|  0   | 50/125  | tensor(5.6037, device='cuda:3', grad_fn=&lt;NllLossBackward0&gt;)|\n",
       "|  0   | 60/125  | tensor(5.7155, device='cuda:3', grad_fn=&lt;NllLossBackward0&gt;)|\n",
       "|  0   | 70/125  | tensor(6.2216, device='cuda:3', grad_fn=&lt;NllLossBackward0&gt;)|\n",
       "|  0   | 80/125  | tensor(5.9054, device='cuda:3', grad_fn=&lt;NllLossBackward0&gt;)|\n",
       "|  0   | 90/125  | tensor(6.0301, device='cuda:3', grad_fn=&lt;NllLossBackward0&gt;)|\n",
       "|  0   | 100/125 | tensor(5.9282, device='cuda:3', grad_fn=&lt;NllLossBackward0&gt;)|\n",
       "|  0   | 110/125 | tensor(5.4164, device='cuda:3', grad_fn=&lt;NllLossBackward0&gt;)|\n",
       "|  0   | 120/125 | tensor(5.5291, device='cuda:3', grad_fn=&lt;NllLossBackward0&gt;)|\n",
       "|  1   |  0/125  | tensor(5.8595, device='cuda:3', grad_fn=&lt;NllLossBackward0&gt;)|\n",
       "|  1   | 10/125  | tensor(5.8180, device='cuda:3', grad_fn=&lt;NllLossBackward0&gt;)|\n",
       "|  1   | 20/125  | tensor(5.5301, device='cuda:3', grad_fn=&lt;NllLossBackward0&gt;)|\n",
       "|  1   | 30/125  | tensor(5.6330, device='cuda:3', grad_fn=&lt;NllLossBackward0&gt;)|\n",
       "|  1   | 40/125  | tensor(5.7374, device='cuda:3', grad_fn=&lt;NllLossBackward0&gt;)|\n",
       "|  1   | 50/125  | tensor(5.5296, device='cuda:3', grad_fn=&lt;NllLossBackward0&gt;)|\n",
       "|  1   | 60/125  | tensor(5.9385, device='cuda:3', grad_fn=&lt;NllLossBackward0&gt;)|\n",
       "|  1   | 70/125  | tensor(6.2005, device='cuda:3', grad_fn=&lt;NllLossBackward0&gt;)|\n",
       "+-----------------------------------------------------------------------------+\n",
       "</pre>\n"
      ],
      "text/plain": [
       "\u001b[3m                                Training Status                                \u001b[0m\n",
       "+-----------------------------------------------------------------------------+\n",
       "|\u001b[1mEpoch\u001b[0m\u001b[1m \u001b[0m|\u001b[1m \u001b[0m\u001b[1m Steps \u001b[0m\u001b[1m \u001b[0m|\u001b[1m \u001b[0m\u001b[1m                           Loss                            \u001b[0m|\n",
       "|------+---------+------------------------------------------------------------|\n",
       "|  0   |  0/125  | tensor(6.0223, device='cuda:3', grad_fn=<NllLossBackward0>)|\n",
       "|  0   | 10/125  | tensor(5.9450, device='cuda:3', grad_fn=<NllLossBackward0>)|\n",
       "|  0   | 20/125  | tensor(6.1867, device='cuda:3', grad_fn=<NllLossBackward0>)|\n",
       "|  0   | 30/125  | tensor(5.9451, device='cuda:3', grad_fn=<NllLossBackward0>)|\n",
       "|  0   | 40/125  | tensor(6.0357, device='cuda:3', grad_fn=<NllLossBackward0>)|\n",
       "|  0   | 50/125  | tensor(5.6037, device='cuda:3', grad_fn=<NllLossBackward0>)|\n",
       "|  0   | 60/125  | tensor(5.7155, device='cuda:3', grad_fn=<NllLossBackward0>)|\n",
       "|  0   | 70/125  | tensor(6.2216, device='cuda:3', grad_fn=<NllLossBackward0>)|\n",
       "|  0   | 80/125  | tensor(5.9054, device='cuda:3', grad_fn=<NllLossBackward0>)|\n",
       "|  0   | 90/125  | tensor(6.0301, device='cuda:3', grad_fn=<NllLossBackward0>)|\n",
       "|  0   | 100/125 | tensor(5.9282, device='cuda:3', grad_fn=<NllLossBackward0>)|\n",
       "|  0   | 110/125 | tensor(5.4164, device='cuda:3', grad_fn=<NllLossBackward0>)|\n",
       "|  0   | 120/125 | tensor(5.5291, device='cuda:3', grad_fn=<NllLossBackward0>)|\n",
       "|  1   |  0/125  | tensor(5.8595, device='cuda:3', grad_fn=<NllLossBackward0>)|\n",
       "|  1   | 10/125  | tensor(5.8180, device='cuda:3', grad_fn=<NllLossBackward0>)|\n",
       "|  1   | 20/125  | tensor(5.5301, device='cuda:3', grad_fn=<NllLossBackward0>)|\n",
       "|  1   | 30/125  | tensor(5.6330, device='cuda:3', grad_fn=<NllLossBackward0>)|\n",
       "|  1   | 40/125  | tensor(5.7374, device='cuda:3', grad_fn=<NllLossBackward0>)|\n",
       "|  1   | 50/125  | tensor(5.5296, device='cuda:3', grad_fn=<NllLossBackward0>)|\n",
       "|  1   | 60/125  | tensor(5.9385, device='cuda:3', grad_fn=<NllLossBackward0>)|\n",
       "|  1   | 70/125  | tensor(6.2005, device='cuda:3', grad_fn=<NllLossBackward0>)|\n",
       "+-----------------------------------------------------------------------------+\n"
      ]
     },
     "metadata": {},
     "output_type": "display_data"
    },
    {
     "name": "stdout",
     "output_type": "stream",
     "text": [
      "STEP:  80 / 125\n"
     ]
    },
    {
     "data": {
      "text/html": [
       "<pre style=\"white-space:pre;overflow-x:auto;line-height:normal;font-family:Menlo,'DejaVu Sans Mono',consolas,'Courier New',monospace\"><span style=\"font-style: italic\">                                Training Status                                </span>\n",
       "+-----------------------------------------------------------------------------+\n",
       "|<span style=\"font-weight: bold\">Epoch </span>|<span style=\"font-weight: bold\">  Steps  </span>|<span style=\"font-weight: bold\">                            Loss                            </span>|\n",
       "|------+---------+------------------------------------------------------------|\n",
       "|  0   |  0/125  | tensor(6.0223, device='cuda:3', grad_fn=&lt;NllLossBackward0&gt;)|\n",
       "|  0   | 10/125  | tensor(5.9450, device='cuda:3', grad_fn=&lt;NllLossBackward0&gt;)|\n",
       "|  0   | 20/125  | tensor(6.1867, device='cuda:3', grad_fn=&lt;NllLossBackward0&gt;)|\n",
       "|  0   | 30/125  | tensor(5.9451, device='cuda:3', grad_fn=&lt;NllLossBackward0&gt;)|\n",
       "|  0   | 40/125  | tensor(6.0357, device='cuda:3', grad_fn=&lt;NllLossBackward0&gt;)|\n",
       "|  0   | 50/125  | tensor(5.6037, device='cuda:3', grad_fn=&lt;NllLossBackward0&gt;)|\n",
       "|  0   | 60/125  | tensor(5.7155, device='cuda:3', grad_fn=&lt;NllLossBackward0&gt;)|\n",
       "|  0   | 70/125  | tensor(6.2216, device='cuda:3', grad_fn=&lt;NllLossBackward0&gt;)|\n",
       "|  0   | 80/125  | tensor(5.9054, device='cuda:3', grad_fn=&lt;NllLossBackward0&gt;)|\n",
       "|  0   | 90/125  | tensor(6.0301, device='cuda:3', grad_fn=&lt;NllLossBackward0&gt;)|\n",
       "|  0   | 100/125 | tensor(5.9282, device='cuda:3', grad_fn=&lt;NllLossBackward0&gt;)|\n",
       "|  0   | 110/125 | tensor(5.4164, device='cuda:3', grad_fn=&lt;NllLossBackward0&gt;)|\n",
       "|  0   | 120/125 | tensor(5.5291, device='cuda:3', grad_fn=&lt;NllLossBackward0&gt;)|\n",
       "|  1   |  0/125  | tensor(5.8595, device='cuda:3', grad_fn=&lt;NllLossBackward0&gt;)|\n",
       "|  1   | 10/125  | tensor(5.8180, device='cuda:3', grad_fn=&lt;NllLossBackward0&gt;)|\n",
       "|  1   | 20/125  | tensor(5.5301, device='cuda:3', grad_fn=&lt;NllLossBackward0&gt;)|\n",
       "|  1   | 30/125  | tensor(5.6330, device='cuda:3', grad_fn=&lt;NllLossBackward0&gt;)|\n",
       "|  1   | 40/125  | tensor(5.7374, device='cuda:3', grad_fn=&lt;NllLossBackward0&gt;)|\n",
       "|  1   | 50/125  | tensor(5.5296, device='cuda:3', grad_fn=&lt;NllLossBackward0&gt;)|\n",
       "|  1   | 60/125  | tensor(5.9385, device='cuda:3', grad_fn=&lt;NllLossBackward0&gt;)|\n",
       "|  1   | 70/125  | tensor(6.2005, device='cuda:3', grad_fn=&lt;NllLossBackward0&gt;)|\n",
       "|  1   | 80/125  | tensor(5.7302, device='cuda:3', grad_fn=&lt;NllLossBackward0&gt;)|\n",
       "+-----------------------------------------------------------------------------+\n",
       "</pre>\n"
      ],
      "text/plain": [
       "\u001b[3m                                Training Status                                \u001b[0m\n",
       "+-----------------------------------------------------------------------------+\n",
       "|\u001b[1mEpoch\u001b[0m\u001b[1m \u001b[0m|\u001b[1m \u001b[0m\u001b[1m Steps \u001b[0m\u001b[1m \u001b[0m|\u001b[1m \u001b[0m\u001b[1m                           Loss                            \u001b[0m|\n",
       "|------+---------+------------------------------------------------------------|\n",
       "|  0   |  0/125  | tensor(6.0223, device='cuda:3', grad_fn=<NllLossBackward0>)|\n",
       "|  0   | 10/125  | tensor(5.9450, device='cuda:3', grad_fn=<NllLossBackward0>)|\n",
       "|  0   | 20/125  | tensor(6.1867, device='cuda:3', grad_fn=<NllLossBackward0>)|\n",
       "|  0   | 30/125  | tensor(5.9451, device='cuda:3', grad_fn=<NllLossBackward0>)|\n",
       "|  0   | 40/125  | tensor(6.0357, device='cuda:3', grad_fn=<NllLossBackward0>)|\n",
       "|  0   | 50/125  | tensor(5.6037, device='cuda:3', grad_fn=<NllLossBackward0>)|\n",
       "|  0   | 60/125  | tensor(5.7155, device='cuda:3', grad_fn=<NllLossBackward0>)|\n",
       "|  0   | 70/125  | tensor(6.2216, device='cuda:3', grad_fn=<NllLossBackward0>)|\n",
       "|  0   | 80/125  | tensor(5.9054, device='cuda:3', grad_fn=<NllLossBackward0>)|\n",
       "|  0   | 90/125  | tensor(6.0301, device='cuda:3', grad_fn=<NllLossBackward0>)|\n",
       "|  0   | 100/125 | tensor(5.9282, device='cuda:3', grad_fn=<NllLossBackward0>)|\n",
       "|  0   | 110/125 | tensor(5.4164, device='cuda:3', grad_fn=<NllLossBackward0>)|\n",
       "|  0   | 120/125 | tensor(5.5291, device='cuda:3', grad_fn=<NllLossBackward0>)|\n",
       "|  1   |  0/125  | tensor(5.8595, device='cuda:3', grad_fn=<NllLossBackward0>)|\n",
       "|  1   | 10/125  | tensor(5.8180, device='cuda:3', grad_fn=<NllLossBackward0>)|\n",
       "|  1   | 20/125  | tensor(5.5301, device='cuda:3', grad_fn=<NllLossBackward0>)|\n",
       "|  1   | 30/125  | tensor(5.6330, device='cuda:3', grad_fn=<NllLossBackward0>)|\n",
       "|  1   | 40/125  | tensor(5.7374, device='cuda:3', grad_fn=<NllLossBackward0>)|\n",
       "|  1   | 50/125  | tensor(5.5296, device='cuda:3', grad_fn=<NllLossBackward0>)|\n",
       "|  1   | 60/125  | tensor(5.9385, device='cuda:3', grad_fn=<NllLossBackward0>)|\n",
       "|  1   | 70/125  | tensor(6.2005, device='cuda:3', grad_fn=<NllLossBackward0>)|\n",
       "|  1   | 80/125  | tensor(5.7302, device='cuda:3', grad_fn=<NllLossBackward0>)|\n",
       "+-----------------------------------------------------------------------------+\n"
      ]
     },
     "metadata": {},
     "output_type": "display_data"
    },
    {
     "name": "stdout",
     "output_type": "stream",
     "text": [
      "STEP:  90 / 125\n"
     ]
    },
    {
     "data": {
      "text/html": [
       "<pre style=\"white-space:pre;overflow-x:auto;line-height:normal;font-family:Menlo,'DejaVu Sans Mono',consolas,'Courier New',monospace\"><span style=\"font-style: italic\">                                Training Status                                </span>\n",
       "+-----------------------------------------------------------------------------+\n",
       "|<span style=\"font-weight: bold\">Epoch </span>|<span style=\"font-weight: bold\">  Steps  </span>|<span style=\"font-weight: bold\">                            Loss                            </span>|\n",
       "|------+---------+------------------------------------------------------------|\n",
       "|  0   |  0/125  | tensor(6.0223, device='cuda:3', grad_fn=&lt;NllLossBackward0&gt;)|\n",
       "|  0   | 10/125  | tensor(5.9450, device='cuda:3', grad_fn=&lt;NllLossBackward0&gt;)|\n",
       "|  0   | 20/125  | tensor(6.1867, device='cuda:3', grad_fn=&lt;NllLossBackward0&gt;)|\n",
       "|  0   | 30/125  | tensor(5.9451, device='cuda:3', grad_fn=&lt;NllLossBackward0&gt;)|\n",
       "|  0   | 40/125  | tensor(6.0357, device='cuda:3', grad_fn=&lt;NllLossBackward0&gt;)|\n",
       "|  0   | 50/125  | tensor(5.6037, device='cuda:3', grad_fn=&lt;NllLossBackward0&gt;)|\n",
       "|  0   | 60/125  | tensor(5.7155, device='cuda:3', grad_fn=&lt;NllLossBackward0&gt;)|\n",
       "|  0   | 70/125  | tensor(6.2216, device='cuda:3', grad_fn=&lt;NllLossBackward0&gt;)|\n",
       "|  0   | 80/125  | tensor(5.9054, device='cuda:3', grad_fn=&lt;NllLossBackward0&gt;)|\n",
       "|  0   | 90/125  | tensor(6.0301, device='cuda:3', grad_fn=&lt;NllLossBackward0&gt;)|\n",
       "|  0   | 100/125 | tensor(5.9282, device='cuda:3', grad_fn=&lt;NllLossBackward0&gt;)|\n",
       "|  0   | 110/125 | tensor(5.4164, device='cuda:3', grad_fn=&lt;NllLossBackward0&gt;)|\n",
       "|  0   | 120/125 | tensor(5.5291, device='cuda:3', grad_fn=&lt;NllLossBackward0&gt;)|\n",
       "|  1   |  0/125  | tensor(5.8595, device='cuda:3', grad_fn=&lt;NllLossBackward0&gt;)|\n",
       "|  1   | 10/125  | tensor(5.8180, device='cuda:3', grad_fn=&lt;NllLossBackward0&gt;)|\n",
       "|  1   | 20/125  | tensor(5.5301, device='cuda:3', grad_fn=&lt;NllLossBackward0&gt;)|\n",
       "|  1   | 30/125  | tensor(5.6330, device='cuda:3', grad_fn=&lt;NllLossBackward0&gt;)|\n",
       "|  1   | 40/125  | tensor(5.7374, device='cuda:3', grad_fn=&lt;NllLossBackward0&gt;)|\n",
       "|  1   | 50/125  | tensor(5.5296, device='cuda:3', grad_fn=&lt;NllLossBackward0&gt;)|\n",
       "|  1   | 60/125  | tensor(5.9385, device='cuda:3', grad_fn=&lt;NllLossBackward0&gt;)|\n",
       "|  1   | 70/125  | tensor(6.2005, device='cuda:3', grad_fn=&lt;NllLossBackward0&gt;)|\n",
       "|  1   | 80/125  | tensor(5.7302, device='cuda:3', grad_fn=&lt;NllLossBackward0&gt;)|\n",
       "|  1   | 90/125  | tensor(5.4282, device='cuda:3', grad_fn=&lt;NllLossBackward0&gt;)|\n",
       "+-----------------------------------------------------------------------------+\n",
       "</pre>\n"
      ],
      "text/plain": [
       "\u001b[3m                                Training Status                                \u001b[0m\n",
       "+-----------------------------------------------------------------------------+\n",
       "|\u001b[1mEpoch\u001b[0m\u001b[1m \u001b[0m|\u001b[1m \u001b[0m\u001b[1m Steps \u001b[0m\u001b[1m \u001b[0m|\u001b[1m \u001b[0m\u001b[1m                           Loss                            \u001b[0m|\n",
       "|------+---------+------------------------------------------------------------|\n",
       "|  0   |  0/125  | tensor(6.0223, device='cuda:3', grad_fn=<NllLossBackward0>)|\n",
       "|  0   | 10/125  | tensor(5.9450, device='cuda:3', grad_fn=<NllLossBackward0>)|\n",
       "|  0   | 20/125  | tensor(6.1867, device='cuda:3', grad_fn=<NllLossBackward0>)|\n",
       "|  0   | 30/125  | tensor(5.9451, device='cuda:3', grad_fn=<NllLossBackward0>)|\n",
       "|  0   | 40/125  | tensor(6.0357, device='cuda:3', grad_fn=<NllLossBackward0>)|\n",
       "|  0   | 50/125  | tensor(5.6037, device='cuda:3', grad_fn=<NllLossBackward0>)|\n",
       "|  0   | 60/125  | tensor(5.7155, device='cuda:3', grad_fn=<NllLossBackward0>)|\n",
       "|  0   | 70/125  | tensor(6.2216, device='cuda:3', grad_fn=<NllLossBackward0>)|\n",
       "|  0   | 80/125  | tensor(5.9054, device='cuda:3', grad_fn=<NllLossBackward0>)|\n",
       "|  0   | 90/125  | tensor(6.0301, device='cuda:3', grad_fn=<NllLossBackward0>)|\n",
       "|  0   | 100/125 | tensor(5.9282, device='cuda:3', grad_fn=<NllLossBackward0>)|\n",
       "|  0   | 110/125 | tensor(5.4164, device='cuda:3', grad_fn=<NllLossBackward0>)|\n",
       "|  0   | 120/125 | tensor(5.5291, device='cuda:3', grad_fn=<NllLossBackward0>)|\n",
       "|  1   |  0/125  | tensor(5.8595, device='cuda:3', grad_fn=<NllLossBackward0>)|\n",
       "|  1   | 10/125  | tensor(5.8180, device='cuda:3', grad_fn=<NllLossBackward0>)|\n",
       "|  1   | 20/125  | tensor(5.5301, device='cuda:3', grad_fn=<NllLossBackward0>)|\n",
       "|  1   | 30/125  | tensor(5.6330, device='cuda:3', grad_fn=<NllLossBackward0>)|\n",
       "|  1   | 40/125  | tensor(5.7374, device='cuda:3', grad_fn=<NllLossBackward0>)|\n",
       "|  1   | 50/125  | tensor(5.5296, device='cuda:3', grad_fn=<NllLossBackward0>)|\n",
       "|  1   | 60/125  | tensor(5.9385, device='cuda:3', grad_fn=<NllLossBackward0>)|\n",
       "|  1   | 70/125  | tensor(6.2005, device='cuda:3', grad_fn=<NllLossBackward0>)|\n",
       "|  1   | 80/125  | tensor(5.7302, device='cuda:3', grad_fn=<NllLossBackward0>)|\n",
       "|  1   | 90/125  | tensor(5.4282, device='cuda:3', grad_fn=<NllLossBackward0>)|\n",
       "+-----------------------------------------------------------------------------+\n"
      ]
     },
     "metadata": {},
     "output_type": "display_data"
    },
    {
     "name": "stdout",
     "output_type": "stream",
     "text": [
      "STEP:  100 / 125\n"
     ]
    },
    {
     "data": {
      "text/html": [
       "<pre style=\"white-space:pre;overflow-x:auto;line-height:normal;font-family:Menlo,'DejaVu Sans Mono',consolas,'Courier New',monospace\"><span style=\"font-style: italic\">                                Training Status                                </span>\n",
       "+-----------------------------------------------------------------------------+\n",
       "|<span style=\"font-weight: bold\">Epoch </span>|<span style=\"font-weight: bold\">  Steps  </span>|<span style=\"font-weight: bold\">                            Loss                            </span>|\n",
       "|------+---------+------------------------------------------------------------|\n",
       "|  0   |  0/125  | tensor(6.0223, device='cuda:3', grad_fn=&lt;NllLossBackward0&gt;)|\n",
       "|  0   | 10/125  | tensor(5.9450, device='cuda:3', grad_fn=&lt;NllLossBackward0&gt;)|\n",
       "|  0   | 20/125  | tensor(6.1867, device='cuda:3', grad_fn=&lt;NllLossBackward0&gt;)|\n",
       "|  0   | 30/125  | tensor(5.9451, device='cuda:3', grad_fn=&lt;NllLossBackward0&gt;)|\n",
       "|  0   | 40/125  | tensor(6.0357, device='cuda:3', grad_fn=&lt;NllLossBackward0&gt;)|\n",
       "|  0   | 50/125  | tensor(5.6037, device='cuda:3', grad_fn=&lt;NllLossBackward0&gt;)|\n",
       "|  0   | 60/125  | tensor(5.7155, device='cuda:3', grad_fn=&lt;NllLossBackward0&gt;)|\n",
       "|  0   | 70/125  | tensor(6.2216, device='cuda:3', grad_fn=&lt;NllLossBackward0&gt;)|\n",
       "|  0   | 80/125  | tensor(5.9054, device='cuda:3', grad_fn=&lt;NllLossBackward0&gt;)|\n",
       "|  0   | 90/125  | tensor(6.0301, device='cuda:3', grad_fn=&lt;NllLossBackward0&gt;)|\n",
       "|  0   | 100/125 | tensor(5.9282, device='cuda:3', grad_fn=&lt;NllLossBackward0&gt;)|\n",
       "|  0   | 110/125 | tensor(5.4164, device='cuda:3', grad_fn=&lt;NllLossBackward0&gt;)|\n",
       "|  0   | 120/125 | tensor(5.5291, device='cuda:3', grad_fn=&lt;NllLossBackward0&gt;)|\n",
       "|  1   |  0/125  | tensor(5.8595, device='cuda:3', grad_fn=&lt;NllLossBackward0&gt;)|\n",
       "|  1   | 10/125  | tensor(5.8180, device='cuda:3', grad_fn=&lt;NllLossBackward0&gt;)|\n",
       "|  1   | 20/125  | tensor(5.5301, device='cuda:3', grad_fn=&lt;NllLossBackward0&gt;)|\n",
       "|  1   | 30/125  | tensor(5.6330, device='cuda:3', grad_fn=&lt;NllLossBackward0&gt;)|\n",
       "|  1   | 40/125  | tensor(5.7374, device='cuda:3', grad_fn=&lt;NllLossBackward0&gt;)|\n",
       "|  1   | 50/125  | tensor(5.5296, device='cuda:3', grad_fn=&lt;NllLossBackward0&gt;)|\n",
       "|  1   | 60/125  | tensor(5.9385, device='cuda:3', grad_fn=&lt;NllLossBackward0&gt;)|\n",
       "|  1   | 70/125  | tensor(6.2005, device='cuda:3', grad_fn=&lt;NllLossBackward0&gt;)|\n",
       "|  1   | 80/125  | tensor(5.7302, device='cuda:3', grad_fn=&lt;NllLossBackward0&gt;)|\n",
       "|  1   | 90/125  | tensor(5.4282, device='cuda:3', grad_fn=&lt;NllLossBackward0&gt;)|\n",
       "|  1   | 100/125 | tensor(5.1424, device='cuda:3', grad_fn=&lt;NllLossBackward0&gt;)|\n",
       "+-----------------------------------------------------------------------------+\n",
       "</pre>\n"
      ],
      "text/plain": [
       "\u001b[3m                                Training Status                                \u001b[0m\n",
       "+-----------------------------------------------------------------------------+\n",
       "|\u001b[1mEpoch\u001b[0m\u001b[1m \u001b[0m|\u001b[1m \u001b[0m\u001b[1m Steps \u001b[0m\u001b[1m \u001b[0m|\u001b[1m \u001b[0m\u001b[1m                           Loss                            \u001b[0m|\n",
       "|------+---------+------------------------------------------------------------|\n",
       "|  0   |  0/125  | tensor(6.0223, device='cuda:3', grad_fn=<NllLossBackward0>)|\n",
       "|  0   | 10/125  | tensor(5.9450, device='cuda:3', grad_fn=<NllLossBackward0>)|\n",
       "|  0   | 20/125  | tensor(6.1867, device='cuda:3', grad_fn=<NllLossBackward0>)|\n",
       "|  0   | 30/125  | tensor(5.9451, device='cuda:3', grad_fn=<NllLossBackward0>)|\n",
       "|  0   | 40/125  | tensor(6.0357, device='cuda:3', grad_fn=<NllLossBackward0>)|\n",
       "|  0   | 50/125  | tensor(5.6037, device='cuda:3', grad_fn=<NllLossBackward0>)|\n",
       "|  0   | 60/125  | tensor(5.7155, device='cuda:3', grad_fn=<NllLossBackward0>)|\n",
       "|  0   | 70/125  | tensor(6.2216, device='cuda:3', grad_fn=<NllLossBackward0>)|\n",
       "|  0   | 80/125  | tensor(5.9054, device='cuda:3', grad_fn=<NllLossBackward0>)|\n",
       "|  0   | 90/125  | tensor(6.0301, device='cuda:3', grad_fn=<NllLossBackward0>)|\n",
       "|  0   | 100/125 | tensor(5.9282, device='cuda:3', grad_fn=<NllLossBackward0>)|\n",
       "|  0   | 110/125 | tensor(5.4164, device='cuda:3', grad_fn=<NllLossBackward0>)|\n",
       "|  0   | 120/125 | tensor(5.5291, device='cuda:3', grad_fn=<NllLossBackward0>)|\n",
       "|  1   |  0/125  | tensor(5.8595, device='cuda:3', grad_fn=<NllLossBackward0>)|\n",
       "|  1   | 10/125  | tensor(5.8180, device='cuda:3', grad_fn=<NllLossBackward0>)|\n",
       "|  1   | 20/125  | tensor(5.5301, device='cuda:3', grad_fn=<NllLossBackward0>)|\n",
       "|  1   | 30/125  | tensor(5.6330, device='cuda:3', grad_fn=<NllLossBackward0>)|\n",
       "|  1   | 40/125  | tensor(5.7374, device='cuda:3', grad_fn=<NllLossBackward0>)|\n",
       "|  1   | 50/125  | tensor(5.5296, device='cuda:3', grad_fn=<NllLossBackward0>)|\n",
       "|  1   | 60/125  | tensor(5.9385, device='cuda:3', grad_fn=<NllLossBackward0>)|\n",
       "|  1   | 70/125  | tensor(6.2005, device='cuda:3', grad_fn=<NllLossBackward0>)|\n",
       "|  1   | 80/125  | tensor(5.7302, device='cuda:3', grad_fn=<NllLossBackward0>)|\n",
       "|  1   | 90/125  | tensor(5.4282, device='cuda:3', grad_fn=<NllLossBackward0>)|\n",
       "|  1   | 100/125 | tensor(5.1424, device='cuda:3', grad_fn=<NllLossBackward0>)|\n",
       "+-----------------------------------------------------------------------------+\n"
      ]
     },
     "metadata": {},
     "output_type": "display_data"
    },
    {
     "name": "stdout",
     "output_type": "stream",
     "text": [
      "STEP:  110 / 125\n"
     ]
    },
    {
     "data": {
      "text/html": [
       "<pre style=\"white-space:pre;overflow-x:auto;line-height:normal;font-family:Menlo,'DejaVu Sans Mono',consolas,'Courier New',monospace\"><span style=\"font-style: italic\">                                Training Status                                </span>\n",
       "+-----------------------------------------------------------------------------+\n",
       "|<span style=\"font-weight: bold\">Epoch </span>|<span style=\"font-weight: bold\">  Steps  </span>|<span style=\"font-weight: bold\">                            Loss                            </span>|\n",
       "|------+---------+------------------------------------------------------------|\n",
       "|  0   |  0/125  | tensor(6.0223, device='cuda:3', grad_fn=&lt;NllLossBackward0&gt;)|\n",
       "|  0   | 10/125  | tensor(5.9450, device='cuda:3', grad_fn=&lt;NllLossBackward0&gt;)|\n",
       "|  0   | 20/125  | tensor(6.1867, device='cuda:3', grad_fn=&lt;NllLossBackward0&gt;)|\n",
       "|  0   | 30/125  | tensor(5.9451, device='cuda:3', grad_fn=&lt;NllLossBackward0&gt;)|\n",
       "|  0   | 40/125  | tensor(6.0357, device='cuda:3', grad_fn=&lt;NllLossBackward0&gt;)|\n",
       "|  0   | 50/125  | tensor(5.6037, device='cuda:3', grad_fn=&lt;NllLossBackward0&gt;)|\n",
       "|  0   | 60/125  | tensor(5.7155, device='cuda:3', grad_fn=&lt;NllLossBackward0&gt;)|\n",
       "|  0   | 70/125  | tensor(6.2216, device='cuda:3', grad_fn=&lt;NllLossBackward0&gt;)|\n",
       "|  0   | 80/125  | tensor(5.9054, device='cuda:3', grad_fn=&lt;NllLossBackward0&gt;)|\n",
       "|  0   | 90/125  | tensor(6.0301, device='cuda:3', grad_fn=&lt;NllLossBackward0&gt;)|\n",
       "|  0   | 100/125 | tensor(5.9282, device='cuda:3', grad_fn=&lt;NllLossBackward0&gt;)|\n",
       "|  0   | 110/125 | tensor(5.4164, device='cuda:3', grad_fn=&lt;NllLossBackward0&gt;)|\n",
       "|  0   | 120/125 | tensor(5.5291, device='cuda:3', grad_fn=&lt;NllLossBackward0&gt;)|\n",
       "|  1   |  0/125  | tensor(5.8595, device='cuda:3', grad_fn=&lt;NllLossBackward0&gt;)|\n",
       "|  1   | 10/125  | tensor(5.8180, device='cuda:3', grad_fn=&lt;NllLossBackward0&gt;)|\n",
       "|  1   | 20/125  | tensor(5.5301, device='cuda:3', grad_fn=&lt;NllLossBackward0&gt;)|\n",
       "|  1   | 30/125  | tensor(5.6330, device='cuda:3', grad_fn=&lt;NllLossBackward0&gt;)|\n",
       "|  1   | 40/125  | tensor(5.7374, device='cuda:3', grad_fn=&lt;NllLossBackward0&gt;)|\n",
       "|  1   | 50/125  | tensor(5.5296, device='cuda:3', grad_fn=&lt;NllLossBackward0&gt;)|\n",
       "|  1   | 60/125  | tensor(5.9385, device='cuda:3', grad_fn=&lt;NllLossBackward0&gt;)|\n",
       "|  1   | 70/125  | tensor(6.2005, device='cuda:3', grad_fn=&lt;NllLossBackward0&gt;)|\n",
       "|  1   | 80/125  | tensor(5.7302, device='cuda:3', grad_fn=&lt;NllLossBackward0&gt;)|\n",
       "|  1   | 90/125  | tensor(5.4282, device='cuda:3', grad_fn=&lt;NllLossBackward0&gt;)|\n",
       "|  1   | 100/125 | tensor(5.1424, device='cuda:3', grad_fn=&lt;NllLossBackward0&gt;)|\n",
       "|  1   | 110/125 | tensor(5.7634, device='cuda:3', grad_fn=&lt;NllLossBackward0&gt;)|\n",
       "+-----------------------------------------------------------------------------+\n",
       "</pre>\n"
      ],
      "text/plain": [
       "\u001b[3m                                Training Status                                \u001b[0m\n",
       "+-----------------------------------------------------------------------------+\n",
       "|\u001b[1mEpoch\u001b[0m\u001b[1m \u001b[0m|\u001b[1m \u001b[0m\u001b[1m Steps \u001b[0m\u001b[1m \u001b[0m|\u001b[1m \u001b[0m\u001b[1m                           Loss                            \u001b[0m|\n",
       "|------+---------+------------------------------------------------------------|\n",
       "|  0   |  0/125  | tensor(6.0223, device='cuda:3', grad_fn=<NllLossBackward0>)|\n",
       "|  0   | 10/125  | tensor(5.9450, device='cuda:3', grad_fn=<NllLossBackward0>)|\n",
       "|  0   | 20/125  | tensor(6.1867, device='cuda:3', grad_fn=<NllLossBackward0>)|\n",
       "|  0   | 30/125  | tensor(5.9451, device='cuda:3', grad_fn=<NllLossBackward0>)|\n",
       "|  0   | 40/125  | tensor(6.0357, device='cuda:3', grad_fn=<NllLossBackward0>)|\n",
       "|  0   | 50/125  | tensor(5.6037, device='cuda:3', grad_fn=<NllLossBackward0>)|\n",
       "|  0   | 60/125  | tensor(5.7155, device='cuda:3', grad_fn=<NllLossBackward0>)|\n",
       "|  0   | 70/125  | tensor(6.2216, device='cuda:3', grad_fn=<NllLossBackward0>)|\n",
       "|  0   | 80/125  | tensor(5.9054, device='cuda:3', grad_fn=<NllLossBackward0>)|\n",
       "|  0   | 90/125  | tensor(6.0301, device='cuda:3', grad_fn=<NllLossBackward0>)|\n",
       "|  0   | 100/125 | tensor(5.9282, device='cuda:3', grad_fn=<NllLossBackward0>)|\n",
       "|  0   | 110/125 | tensor(5.4164, device='cuda:3', grad_fn=<NllLossBackward0>)|\n",
       "|  0   | 120/125 | tensor(5.5291, device='cuda:3', grad_fn=<NllLossBackward0>)|\n",
       "|  1   |  0/125  | tensor(5.8595, device='cuda:3', grad_fn=<NllLossBackward0>)|\n",
       "|  1   | 10/125  | tensor(5.8180, device='cuda:3', grad_fn=<NllLossBackward0>)|\n",
       "|  1   | 20/125  | tensor(5.5301, device='cuda:3', grad_fn=<NllLossBackward0>)|\n",
       "|  1   | 30/125  | tensor(5.6330, device='cuda:3', grad_fn=<NllLossBackward0>)|\n",
       "|  1   | 40/125  | tensor(5.7374, device='cuda:3', grad_fn=<NllLossBackward0>)|\n",
       "|  1   | 50/125  | tensor(5.5296, device='cuda:3', grad_fn=<NllLossBackward0>)|\n",
       "|  1   | 60/125  | tensor(5.9385, device='cuda:3', grad_fn=<NllLossBackward0>)|\n",
       "|  1   | 70/125  | tensor(6.2005, device='cuda:3', grad_fn=<NllLossBackward0>)|\n",
       "|  1   | 80/125  | tensor(5.7302, device='cuda:3', grad_fn=<NllLossBackward0>)|\n",
       "|  1   | 90/125  | tensor(5.4282, device='cuda:3', grad_fn=<NllLossBackward0>)|\n",
       "|  1   | 100/125 | tensor(5.1424, device='cuda:3', grad_fn=<NllLossBackward0>)|\n",
       "|  1   | 110/125 | tensor(5.7634, device='cuda:3', grad_fn=<NllLossBackward0>)|\n",
       "+-----------------------------------------------------------------------------+\n"
      ]
     },
     "metadata": {},
     "output_type": "display_data"
    },
    {
     "name": "stdout",
     "output_type": "stream",
     "text": [
      "STEP:  120 / 125\n"
     ]
    },
    {
     "data": {
      "text/html": [
       "<pre style=\"white-space:pre;overflow-x:auto;line-height:normal;font-family:Menlo,'DejaVu Sans Mono',consolas,'Courier New',monospace\"><span style=\"font-style: italic\">                                Training Status                                </span>\n",
       "+-----------------------------------------------------------------------------+\n",
       "|<span style=\"font-weight: bold\">Epoch </span>|<span style=\"font-weight: bold\">  Steps  </span>|<span style=\"font-weight: bold\">                            Loss                            </span>|\n",
       "|------+---------+------------------------------------------------------------|\n",
       "|  0   |  0/125  | tensor(6.0223, device='cuda:3', grad_fn=&lt;NllLossBackward0&gt;)|\n",
       "|  0   | 10/125  | tensor(5.9450, device='cuda:3', grad_fn=&lt;NllLossBackward0&gt;)|\n",
       "|  0   | 20/125  | tensor(6.1867, device='cuda:3', grad_fn=&lt;NllLossBackward0&gt;)|\n",
       "|  0   | 30/125  | tensor(5.9451, device='cuda:3', grad_fn=&lt;NllLossBackward0&gt;)|\n",
       "|  0   | 40/125  | tensor(6.0357, device='cuda:3', grad_fn=&lt;NllLossBackward0&gt;)|\n",
       "|  0   | 50/125  | tensor(5.6037, device='cuda:3', grad_fn=&lt;NllLossBackward0&gt;)|\n",
       "|  0   | 60/125  | tensor(5.7155, device='cuda:3', grad_fn=&lt;NllLossBackward0&gt;)|\n",
       "|  0   | 70/125  | tensor(6.2216, device='cuda:3', grad_fn=&lt;NllLossBackward0&gt;)|\n",
       "|  0   | 80/125  | tensor(5.9054, device='cuda:3', grad_fn=&lt;NllLossBackward0&gt;)|\n",
       "|  0   | 90/125  | tensor(6.0301, device='cuda:3', grad_fn=&lt;NllLossBackward0&gt;)|\n",
       "|  0   | 100/125 | tensor(5.9282, device='cuda:3', grad_fn=&lt;NllLossBackward0&gt;)|\n",
       "|  0   | 110/125 | tensor(5.4164, device='cuda:3', grad_fn=&lt;NllLossBackward0&gt;)|\n",
       "|  0   | 120/125 | tensor(5.5291, device='cuda:3', grad_fn=&lt;NllLossBackward0&gt;)|\n",
       "|  1   |  0/125  | tensor(5.8595, device='cuda:3', grad_fn=&lt;NllLossBackward0&gt;)|\n",
       "|  1   | 10/125  | tensor(5.8180, device='cuda:3', grad_fn=&lt;NllLossBackward0&gt;)|\n",
       "|  1   | 20/125  | tensor(5.5301, device='cuda:3', grad_fn=&lt;NllLossBackward0&gt;)|\n",
       "|  1   | 30/125  | tensor(5.6330, device='cuda:3', grad_fn=&lt;NllLossBackward0&gt;)|\n",
       "|  1   | 40/125  | tensor(5.7374, device='cuda:3', grad_fn=&lt;NllLossBackward0&gt;)|\n",
       "|  1   | 50/125  | tensor(5.5296, device='cuda:3', grad_fn=&lt;NllLossBackward0&gt;)|\n",
       "|  1   | 60/125  | tensor(5.9385, device='cuda:3', grad_fn=&lt;NllLossBackward0&gt;)|\n",
       "|  1   | 70/125  | tensor(6.2005, device='cuda:3', grad_fn=&lt;NllLossBackward0&gt;)|\n",
       "|  1   | 80/125  | tensor(5.7302, device='cuda:3', grad_fn=&lt;NllLossBackward0&gt;)|\n",
       "|  1   | 90/125  | tensor(5.4282, device='cuda:3', grad_fn=&lt;NllLossBackward0&gt;)|\n",
       "|  1   | 100/125 | tensor(5.1424, device='cuda:3', grad_fn=&lt;NllLossBackward0&gt;)|\n",
       "|  1   | 110/125 | tensor(5.7634, device='cuda:3', grad_fn=&lt;NllLossBackward0&gt;)|\n",
       "|  1   | 120/125 | tensor(5.0087, device='cuda:3', grad_fn=&lt;NllLossBackward0&gt;)|\n",
       "+-----------------------------------------------------------------------------+\n",
       "</pre>\n"
      ],
      "text/plain": [
       "\u001b[3m                                Training Status                                \u001b[0m\n",
       "+-----------------------------------------------------------------------------+\n",
       "|\u001b[1mEpoch\u001b[0m\u001b[1m \u001b[0m|\u001b[1m \u001b[0m\u001b[1m Steps \u001b[0m\u001b[1m \u001b[0m|\u001b[1m \u001b[0m\u001b[1m                           Loss                            \u001b[0m|\n",
       "|------+---------+------------------------------------------------------------|\n",
       "|  0   |  0/125  | tensor(6.0223, device='cuda:3', grad_fn=<NllLossBackward0>)|\n",
       "|  0   | 10/125  | tensor(5.9450, device='cuda:3', grad_fn=<NllLossBackward0>)|\n",
       "|  0   | 20/125  | tensor(6.1867, device='cuda:3', grad_fn=<NllLossBackward0>)|\n",
       "|  0   | 30/125  | tensor(5.9451, device='cuda:3', grad_fn=<NllLossBackward0>)|\n",
       "|  0   | 40/125  | tensor(6.0357, device='cuda:3', grad_fn=<NllLossBackward0>)|\n",
       "|  0   | 50/125  | tensor(5.6037, device='cuda:3', grad_fn=<NllLossBackward0>)|\n",
       "|  0   | 60/125  | tensor(5.7155, device='cuda:3', grad_fn=<NllLossBackward0>)|\n",
       "|  0   | 70/125  | tensor(6.2216, device='cuda:3', grad_fn=<NllLossBackward0>)|\n",
       "|  0   | 80/125  | tensor(5.9054, device='cuda:3', grad_fn=<NllLossBackward0>)|\n",
       "|  0   | 90/125  | tensor(6.0301, device='cuda:3', grad_fn=<NllLossBackward0>)|\n",
       "|  0   | 100/125 | tensor(5.9282, device='cuda:3', grad_fn=<NllLossBackward0>)|\n",
       "|  0   | 110/125 | tensor(5.4164, device='cuda:3', grad_fn=<NllLossBackward0>)|\n",
       "|  0   | 120/125 | tensor(5.5291, device='cuda:3', grad_fn=<NllLossBackward0>)|\n",
       "|  1   |  0/125  | tensor(5.8595, device='cuda:3', grad_fn=<NllLossBackward0>)|\n",
       "|  1   | 10/125  | tensor(5.8180, device='cuda:3', grad_fn=<NllLossBackward0>)|\n",
       "|  1   | 20/125  | tensor(5.5301, device='cuda:3', grad_fn=<NllLossBackward0>)|\n",
       "|  1   | 30/125  | tensor(5.6330, device='cuda:3', grad_fn=<NllLossBackward0>)|\n",
       "|  1   | 40/125  | tensor(5.7374, device='cuda:3', grad_fn=<NllLossBackward0>)|\n",
       "|  1   | 50/125  | tensor(5.5296, device='cuda:3', grad_fn=<NllLossBackward0>)|\n",
       "|  1   | 60/125  | tensor(5.9385, device='cuda:3', grad_fn=<NllLossBackward0>)|\n",
       "|  1   | 70/125  | tensor(6.2005, device='cuda:3', grad_fn=<NllLossBackward0>)|\n",
       "|  1   | 80/125  | tensor(5.7302, device='cuda:3', grad_fn=<NllLossBackward0>)|\n",
       "|  1   | 90/125  | tensor(5.4282, device='cuda:3', grad_fn=<NllLossBackward0>)|\n",
       "|  1   | 100/125 | tensor(5.1424, device='cuda:3', grad_fn=<NllLossBackward0>)|\n",
       "|  1   | 110/125 | tensor(5.7634, device='cuda:3', grad_fn=<NllLossBackward0>)|\n",
       "|  1   | 120/125 | tensor(5.0087, device='cuda:3', grad_fn=<NllLossBackward0>)|\n",
       "+-----------------------------------------------------------------------------+\n"
      ]
     },
     "metadata": {},
     "output_type": "display_data"
    },
    {
     "data": {
      "text/html": [
       "<pre style=\"white-space:pre;overflow-x:auto;line-height:normal;font-family:Menlo,'DejaVu Sans Mono',consolas,'Courier New',monospace\">Completed <span style=\"color: #008080; text-decoration-color: #008080; font-weight: bold\">0</span>\n",
       "</pre>\n"
      ],
      "text/plain": [
       "Completed \u001b[1;36m0\u001b[0m\n"
      ]
     },
     "metadata": {},
     "output_type": "display_data"
    },
    {
     "data": {
      "text/html": [
       "<pre style=\"white-space:pre;overflow-x:auto;line-height:normal;font-family:Menlo,'DejaVu Sans Mono',consolas,'Courier New',monospace\">Completed <span style=\"color: #008080; text-decoration-color: #008080; font-weight: bold\">10</span>\n",
       "</pre>\n"
      ],
      "text/plain": [
       "Completed \u001b[1;36m10\u001b[0m\n"
      ]
     },
     "metadata": {},
     "output_type": "display_data"
    },
    {
     "data": {
      "text/html": [
       "<pre style=\"white-space:pre;overflow-x:auto;line-height:normal;font-family:Menlo,'DejaVu Sans Mono',consolas,'Courier New',monospace\">Completed <span style=\"color: #008080; text-decoration-color: #008080; font-weight: bold\">20</span>\n",
       "</pre>\n"
      ],
      "text/plain": [
       "Completed \u001b[1;36m20\u001b[0m\n"
      ]
     },
     "metadata": {},
     "output_type": "display_data"
    },
    {
     "data": {
      "text/html": [
       "<pre style=\"white-space:pre;overflow-x:auto;line-height:normal;font-family:Menlo,'DejaVu Sans Mono',consolas,'Courier New',monospace\">Completed <span style=\"color: #008080; text-decoration-color: #008080; font-weight: bold\">30</span>\n",
       "</pre>\n"
      ],
      "text/plain": [
       "Completed \u001b[1;36m30\u001b[0m\n"
      ]
     },
     "metadata": {},
     "output_type": "display_data"
    },
    {
     "data": {
      "text/html": [
       "<pre style=\"white-space:pre;overflow-x:auto;line-height:normal;font-family:Menlo,'DejaVu Sans Mono',consolas,'Courier New',monospace\">Completed <span style=\"color: #008080; text-decoration-color: #008080; font-weight: bold\">40</span>\n",
       "</pre>\n"
      ],
      "text/plain": [
       "Completed \u001b[1;36m40\u001b[0m\n"
      ]
     },
     "metadata": {},
     "output_type": "display_data"
    },
    {
     "data": {
      "text/html": [
       "<pre style=\"white-space:pre;overflow-x:auto;line-height:normal;font-family:Menlo,'DejaVu Sans Mono',consolas,'Courier New',monospace\">Completed <span style=\"color: #008080; text-decoration-color: #008080; font-weight: bold\">50</span>\n",
       "</pre>\n"
      ],
      "text/plain": [
       "Completed \u001b[1;36m50\u001b[0m\n"
      ]
     },
     "metadata": {},
     "output_type": "display_data"
    },
    {
     "data": {
      "text/html": [
       "<pre style=\"white-space:pre;overflow-x:auto;line-height:normal;font-family:Menlo,'DejaVu Sans Mono',consolas,'Courier New',monospace\">Completed <span style=\"color: #008080; text-decoration-color: #008080; font-weight: bold\">60</span>\n",
       "</pre>\n"
      ],
      "text/plain": [
       "Completed \u001b[1;36m60\u001b[0m\n"
      ]
     },
     "metadata": {},
     "output_type": "display_data"
    },
    {
     "data": {
      "text/html": [
       "<pre style=\"white-space:pre;overflow-x:auto;line-height:normal;font-family:Menlo,'DejaVu Sans Mono',consolas,'Courier New',monospace\">Completed <span style=\"color: #008080; text-decoration-color: #008080; font-weight: bold\">70</span>\n",
       "</pre>\n"
      ],
      "text/plain": [
       "Completed \u001b[1;36m70\u001b[0m\n"
      ]
     },
     "metadata": {},
     "output_type": "display_data"
    },
    {
     "data": {
      "text/html": [
       "<pre style=\"white-space:pre;overflow-x:auto;line-height:normal;font-family:Menlo,'DejaVu Sans Mono',consolas,'Courier New',monospace\">Completed <span style=\"color: #008080; text-decoration-color: #008080; font-weight: bold\">80</span>\n",
       "</pre>\n"
      ],
      "text/plain": [
       "Completed \u001b[1;36m80\u001b[0m\n"
      ]
     },
     "metadata": {},
     "output_type": "display_data"
    },
    {
     "data": {
      "text/html": [
       "<pre style=\"white-space:pre;overflow-x:auto;line-height:normal;font-family:Menlo,'DejaVu Sans Mono',consolas,'Courier New',monospace\">Completed <span style=\"color: #008080; text-decoration-color: #008080; font-weight: bold\">90</span>\n",
       "</pre>\n"
      ],
      "text/plain": [
       "Completed \u001b[1;36m90\u001b[0m\n"
      ]
     },
     "metadata": {},
     "output_type": "display_data"
    },
    {
     "data": {
      "text/html": [
       "<pre style=\"white-space:pre;overflow-x:auto;line-height:normal;font-family:Menlo,'DejaVu Sans Mono',consolas,'Courier New',monospace\">Completed <span style=\"color: #008080; text-decoration-color: #008080; font-weight: bold\">100</span>\n",
       "</pre>\n"
      ],
      "text/plain": [
       "Completed \u001b[1;36m100\u001b[0m\n"
      ]
     },
     "metadata": {},
     "output_type": "display_data"
    },
    {
     "data": {
      "text/html": [
       "<pre style=\"white-space:pre;overflow-x:auto;line-height:normal;font-family:Menlo,'DejaVu Sans Mono',consolas,'Courier New',monospace\">Completed <span style=\"color: #008080; text-decoration-color: #008080; font-weight: bold\">110</span>\n",
       "</pre>\n"
      ],
      "text/plain": [
       "Completed \u001b[1;36m110\u001b[0m\n"
      ]
     },
     "metadata": {},
     "output_type": "display_data"
    },
    {
     "data": {
      "text/html": [
       "<pre style=\"white-space:pre;overflow-x:auto;line-height:normal;font-family:Menlo,'DejaVu Sans Mono',consolas,'Courier New',monospace\">Completed <span style=\"color: #008080; text-decoration-color: #008080; font-weight: bold\">120</span>\n",
       "</pre>\n"
      ],
      "text/plain": [
       "Completed \u001b[1;36m120\u001b[0m\n"
      ]
     },
     "metadata": {},
     "output_type": "display_data"
    },
    {
     "name": "stdout",
     "output_type": "stream",
     "text": [
      "SAVE TO CSV FINISHED\n",
      "SAVE ROUGE TO CSV FINISHED\n",
      "STEP:  0 / 125\n"
     ]
    },
    {
     "data": {
      "text/html": [
       "<pre style=\"white-space:pre;overflow-x:auto;line-height:normal;font-family:Menlo,'DejaVu Sans Mono',consolas,'Courier New',monospace\"><span style=\"font-style: italic\">                                Training Status                                </span>\n",
       "+-----------------------------------------------------------------------------+\n",
       "|<span style=\"font-weight: bold\">Epoch </span>|<span style=\"font-weight: bold\">  Steps  </span>|<span style=\"font-weight: bold\">                            Loss                            </span>|\n",
       "|------+---------+------------------------------------------------------------|\n",
       "|  0   |  0/125  | tensor(6.0223, device='cuda:3', grad_fn=&lt;NllLossBackward0&gt;)|\n",
       "|  0   | 10/125  | tensor(5.9450, device='cuda:3', grad_fn=&lt;NllLossBackward0&gt;)|\n",
       "|  0   | 20/125  | tensor(6.1867, device='cuda:3', grad_fn=&lt;NllLossBackward0&gt;)|\n",
       "|  0   | 30/125  | tensor(5.9451, device='cuda:3', grad_fn=&lt;NllLossBackward0&gt;)|\n",
       "|  0   | 40/125  | tensor(6.0357, device='cuda:3', grad_fn=&lt;NllLossBackward0&gt;)|\n",
       "|  0   | 50/125  | tensor(5.6037, device='cuda:3', grad_fn=&lt;NllLossBackward0&gt;)|\n",
       "|  0   | 60/125  | tensor(5.7155, device='cuda:3', grad_fn=&lt;NllLossBackward0&gt;)|\n",
       "|  0   | 70/125  | tensor(6.2216, device='cuda:3', grad_fn=&lt;NllLossBackward0&gt;)|\n",
       "|  0   | 80/125  | tensor(5.9054, device='cuda:3', grad_fn=&lt;NllLossBackward0&gt;)|\n",
       "|  0   | 90/125  | tensor(6.0301, device='cuda:3', grad_fn=&lt;NllLossBackward0&gt;)|\n",
       "|  0   | 100/125 | tensor(5.9282, device='cuda:3', grad_fn=&lt;NllLossBackward0&gt;)|\n",
       "|  0   | 110/125 | tensor(5.4164, device='cuda:3', grad_fn=&lt;NllLossBackward0&gt;)|\n",
       "|  0   | 120/125 | tensor(5.5291, device='cuda:3', grad_fn=&lt;NllLossBackward0&gt;)|\n",
       "|  1   |  0/125  | tensor(5.8595, device='cuda:3', grad_fn=&lt;NllLossBackward0&gt;)|\n",
       "|  1   | 10/125  | tensor(5.8180, device='cuda:3', grad_fn=&lt;NllLossBackward0&gt;)|\n",
       "|  1   | 20/125  | tensor(5.5301, device='cuda:3', grad_fn=&lt;NllLossBackward0&gt;)|\n",
       "|  1   | 30/125  | tensor(5.6330, device='cuda:3', grad_fn=&lt;NllLossBackward0&gt;)|\n",
       "|  1   | 40/125  | tensor(5.7374, device='cuda:3', grad_fn=&lt;NllLossBackward0&gt;)|\n",
       "|  1   | 50/125  | tensor(5.5296, device='cuda:3', grad_fn=&lt;NllLossBackward0&gt;)|\n",
       "|  1   | 60/125  | tensor(5.9385, device='cuda:3', grad_fn=&lt;NllLossBackward0&gt;)|\n",
       "|  1   | 70/125  | tensor(6.2005, device='cuda:3', grad_fn=&lt;NllLossBackward0&gt;)|\n",
       "|  1   | 80/125  | tensor(5.7302, device='cuda:3', grad_fn=&lt;NllLossBackward0&gt;)|\n",
       "|  1   | 90/125  | tensor(5.4282, device='cuda:3', grad_fn=&lt;NllLossBackward0&gt;)|\n",
       "|  1   | 100/125 | tensor(5.1424, device='cuda:3', grad_fn=&lt;NllLossBackward0&gt;)|\n",
       "|  1   | 110/125 | tensor(5.7634, device='cuda:3', grad_fn=&lt;NllLossBackward0&gt;)|\n",
       "|  1   | 120/125 | tensor(5.0087, device='cuda:3', grad_fn=&lt;NllLossBackward0&gt;)|\n",
       "|  2   |  0/125  | tensor(5.2657, device='cuda:3', grad_fn=&lt;NllLossBackward0&gt;)|\n",
       "+-----------------------------------------------------------------------------+\n",
       "</pre>\n"
      ],
      "text/plain": [
       "\u001b[3m                                Training Status                                \u001b[0m\n",
       "+-----------------------------------------------------------------------------+\n",
       "|\u001b[1mEpoch\u001b[0m\u001b[1m \u001b[0m|\u001b[1m \u001b[0m\u001b[1m Steps \u001b[0m\u001b[1m \u001b[0m|\u001b[1m \u001b[0m\u001b[1m                           Loss                            \u001b[0m|\n",
       "|------+---------+------------------------------------------------------------|\n",
       "|  0   |  0/125  | tensor(6.0223, device='cuda:3', grad_fn=<NllLossBackward0>)|\n",
       "|  0   | 10/125  | tensor(5.9450, device='cuda:3', grad_fn=<NllLossBackward0>)|\n",
       "|  0   | 20/125  | tensor(6.1867, device='cuda:3', grad_fn=<NllLossBackward0>)|\n",
       "|  0   | 30/125  | tensor(5.9451, device='cuda:3', grad_fn=<NllLossBackward0>)|\n",
       "|  0   | 40/125  | tensor(6.0357, device='cuda:3', grad_fn=<NllLossBackward0>)|\n",
       "|  0   | 50/125  | tensor(5.6037, device='cuda:3', grad_fn=<NllLossBackward0>)|\n",
       "|  0   | 60/125  | tensor(5.7155, device='cuda:3', grad_fn=<NllLossBackward0>)|\n",
       "|  0   | 70/125  | tensor(6.2216, device='cuda:3', grad_fn=<NllLossBackward0>)|\n",
       "|  0   | 80/125  | tensor(5.9054, device='cuda:3', grad_fn=<NllLossBackward0>)|\n",
       "|  0   | 90/125  | tensor(6.0301, device='cuda:3', grad_fn=<NllLossBackward0>)|\n",
       "|  0   | 100/125 | tensor(5.9282, device='cuda:3', grad_fn=<NllLossBackward0>)|\n",
       "|  0   | 110/125 | tensor(5.4164, device='cuda:3', grad_fn=<NllLossBackward0>)|\n",
       "|  0   | 120/125 | tensor(5.5291, device='cuda:3', grad_fn=<NllLossBackward0>)|\n",
       "|  1   |  0/125  | tensor(5.8595, device='cuda:3', grad_fn=<NllLossBackward0>)|\n",
       "|  1   | 10/125  | tensor(5.8180, device='cuda:3', grad_fn=<NllLossBackward0>)|\n",
       "|  1   | 20/125  | tensor(5.5301, device='cuda:3', grad_fn=<NllLossBackward0>)|\n",
       "|  1   | 30/125  | tensor(5.6330, device='cuda:3', grad_fn=<NllLossBackward0>)|\n",
       "|  1   | 40/125  | tensor(5.7374, device='cuda:3', grad_fn=<NllLossBackward0>)|\n",
       "|  1   | 50/125  | tensor(5.5296, device='cuda:3', grad_fn=<NllLossBackward0>)|\n",
       "|  1   | 60/125  | tensor(5.9385, device='cuda:3', grad_fn=<NllLossBackward0>)|\n",
       "|  1   | 70/125  | tensor(6.2005, device='cuda:3', grad_fn=<NllLossBackward0>)|\n",
       "|  1   | 80/125  | tensor(5.7302, device='cuda:3', grad_fn=<NllLossBackward0>)|\n",
       "|  1   | 90/125  | tensor(5.4282, device='cuda:3', grad_fn=<NllLossBackward0>)|\n",
       "|  1   | 100/125 | tensor(5.1424, device='cuda:3', grad_fn=<NllLossBackward0>)|\n",
       "|  1   | 110/125 | tensor(5.7634, device='cuda:3', grad_fn=<NllLossBackward0>)|\n",
       "|  1   | 120/125 | tensor(5.0087, device='cuda:3', grad_fn=<NllLossBackward0>)|\n",
       "|  2   |  0/125  | tensor(5.2657, device='cuda:3', grad_fn=<NllLossBackward0>)|\n",
       "+-----------------------------------------------------------------------------+\n"
      ]
     },
     "metadata": {},
     "output_type": "display_data"
    },
    {
     "name": "stdout",
     "output_type": "stream",
     "text": [
      "STEP:  10 / 125\n"
     ]
    },
    {
     "data": {
      "text/html": [
       "<pre style=\"white-space:pre;overflow-x:auto;line-height:normal;font-family:Menlo,'DejaVu Sans Mono',consolas,'Courier New',monospace\"><span style=\"font-style: italic\">                                Training Status                                </span>\n",
       "+-----------------------------------------------------------------------------+\n",
       "|<span style=\"font-weight: bold\">Epoch </span>|<span style=\"font-weight: bold\">  Steps  </span>|<span style=\"font-weight: bold\">                            Loss                            </span>|\n",
       "|------+---------+------------------------------------------------------------|\n",
       "|  0   |  0/125  | tensor(6.0223, device='cuda:3', grad_fn=&lt;NllLossBackward0&gt;)|\n",
       "|  0   | 10/125  | tensor(5.9450, device='cuda:3', grad_fn=&lt;NllLossBackward0&gt;)|\n",
       "|  0   | 20/125  | tensor(6.1867, device='cuda:3', grad_fn=&lt;NllLossBackward0&gt;)|\n",
       "|  0   | 30/125  | tensor(5.9451, device='cuda:3', grad_fn=&lt;NllLossBackward0&gt;)|\n",
       "|  0   | 40/125  | tensor(6.0357, device='cuda:3', grad_fn=&lt;NllLossBackward0&gt;)|\n",
       "|  0   | 50/125  | tensor(5.6037, device='cuda:3', grad_fn=&lt;NllLossBackward0&gt;)|\n",
       "|  0   | 60/125  | tensor(5.7155, device='cuda:3', grad_fn=&lt;NllLossBackward0&gt;)|\n",
       "|  0   | 70/125  | tensor(6.2216, device='cuda:3', grad_fn=&lt;NllLossBackward0&gt;)|\n",
       "|  0   | 80/125  | tensor(5.9054, device='cuda:3', grad_fn=&lt;NllLossBackward0&gt;)|\n",
       "|  0   | 90/125  | tensor(6.0301, device='cuda:3', grad_fn=&lt;NllLossBackward0&gt;)|\n",
       "|  0   | 100/125 | tensor(5.9282, device='cuda:3', grad_fn=&lt;NllLossBackward0&gt;)|\n",
       "|  0   | 110/125 | tensor(5.4164, device='cuda:3', grad_fn=&lt;NllLossBackward0&gt;)|\n",
       "|  0   | 120/125 | tensor(5.5291, device='cuda:3', grad_fn=&lt;NllLossBackward0&gt;)|\n",
       "|  1   |  0/125  | tensor(5.8595, device='cuda:3', grad_fn=&lt;NllLossBackward0&gt;)|\n",
       "|  1   | 10/125  | tensor(5.8180, device='cuda:3', grad_fn=&lt;NllLossBackward0&gt;)|\n",
       "|  1   | 20/125  | tensor(5.5301, device='cuda:3', grad_fn=&lt;NllLossBackward0&gt;)|\n",
       "|  1   | 30/125  | tensor(5.6330, device='cuda:3', grad_fn=&lt;NllLossBackward0&gt;)|\n",
       "|  1   | 40/125  | tensor(5.7374, device='cuda:3', grad_fn=&lt;NllLossBackward0&gt;)|\n",
       "|  1   | 50/125  | tensor(5.5296, device='cuda:3', grad_fn=&lt;NllLossBackward0&gt;)|\n",
       "|  1   | 60/125  | tensor(5.9385, device='cuda:3', grad_fn=&lt;NllLossBackward0&gt;)|\n",
       "|  1   | 70/125  | tensor(6.2005, device='cuda:3', grad_fn=&lt;NllLossBackward0&gt;)|\n",
       "|  1   | 80/125  | tensor(5.7302, device='cuda:3', grad_fn=&lt;NllLossBackward0&gt;)|\n",
       "|  1   | 90/125  | tensor(5.4282, device='cuda:3', grad_fn=&lt;NllLossBackward0&gt;)|\n",
       "|  1   | 100/125 | tensor(5.1424, device='cuda:3', grad_fn=&lt;NllLossBackward0&gt;)|\n",
       "|  1   | 110/125 | tensor(5.7634, device='cuda:3', grad_fn=&lt;NllLossBackward0&gt;)|\n",
       "|  1   | 120/125 | tensor(5.0087, device='cuda:3', grad_fn=&lt;NllLossBackward0&gt;)|\n",
       "|  2   |  0/125  | tensor(5.2657, device='cuda:3', grad_fn=&lt;NllLossBackward0&gt;)|\n",
       "|  2   | 10/125  | tensor(5.0255, device='cuda:3', grad_fn=&lt;NllLossBackward0&gt;)|\n",
       "+-----------------------------------------------------------------------------+\n",
       "</pre>\n"
      ],
      "text/plain": [
       "\u001b[3m                                Training Status                                \u001b[0m\n",
       "+-----------------------------------------------------------------------------+\n",
       "|\u001b[1mEpoch\u001b[0m\u001b[1m \u001b[0m|\u001b[1m \u001b[0m\u001b[1m Steps \u001b[0m\u001b[1m \u001b[0m|\u001b[1m \u001b[0m\u001b[1m                           Loss                            \u001b[0m|\n",
       "|------+---------+------------------------------------------------------------|\n",
       "|  0   |  0/125  | tensor(6.0223, device='cuda:3', grad_fn=<NllLossBackward0>)|\n",
       "|  0   | 10/125  | tensor(5.9450, device='cuda:3', grad_fn=<NllLossBackward0>)|\n",
       "|  0   | 20/125  | tensor(6.1867, device='cuda:3', grad_fn=<NllLossBackward0>)|\n",
       "|  0   | 30/125  | tensor(5.9451, device='cuda:3', grad_fn=<NllLossBackward0>)|\n",
       "|  0   | 40/125  | tensor(6.0357, device='cuda:3', grad_fn=<NllLossBackward0>)|\n",
       "|  0   | 50/125  | tensor(5.6037, device='cuda:3', grad_fn=<NllLossBackward0>)|\n",
       "|  0   | 60/125  | tensor(5.7155, device='cuda:3', grad_fn=<NllLossBackward0>)|\n",
       "|  0   | 70/125  | tensor(6.2216, device='cuda:3', grad_fn=<NllLossBackward0>)|\n",
       "|  0   | 80/125  | tensor(5.9054, device='cuda:3', grad_fn=<NllLossBackward0>)|\n",
       "|  0   | 90/125  | tensor(6.0301, device='cuda:3', grad_fn=<NllLossBackward0>)|\n",
       "|  0   | 100/125 | tensor(5.9282, device='cuda:3', grad_fn=<NllLossBackward0>)|\n",
       "|  0   | 110/125 | tensor(5.4164, device='cuda:3', grad_fn=<NllLossBackward0>)|\n",
       "|  0   | 120/125 | tensor(5.5291, device='cuda:3', grad_fn=<NllLossBackward0>)|\n",
       "|  1   |  0/125  | tensor(5.8595, device='cuda:3', grad_fn=<NllLossBackward0>)|\n",
       "|  1   | 10/125  | tensor(5.8180, device='cuda:3', grad_fn=<NllLossBackward0>)|\n",
       "|  1   | 20/125  | tensor(5.5301, device='cuda:3', grad_fn=<NllLossBackward0>)|\n",
       "|  1   | 30/125  | tensor(5.6330, device='cuda:3', grad_fn=<NllLossBackward0>)|\n",
       "|  1   | 40/125  | tensor(5.7374, device='cuda:3', grad_fn=<NllLossBackward0>)|\n",
       "|  1   | 50/125  | tensor(5.5296, device='cuda:3', grad_fn=<NllLossBackward0>)|\n",
       "|  1   | 60/125  | tensor(5.9385, device='cuda:3', grad_fn=<NllLossBackward0>)|\n",
       "|  1   | 70/125  | tensor(6.2005, device='cuda:3', grad_fn=<NllLossBackward0>)|\n",
       "|  1   | 80/125  | tensor(5.7302, device='cuda:3', grad_fn=<NllLossBackward0>)|\n",
       "|  1   | 90/125  | tensor(5.4282, device='cuda:3', grad_fn=<NllLossBackward0>)|\n",
       "|  1   | 100/125 | tensor(5.1424, device='cuda:3', grad_fn=<NllLossBackward0>)|\n",
       "|  1   | 110/125 | tensor(5.7634, device='cuda:3', grad_fn=<NllLossBackward0>)|\n",
       "|  1   | 120/125 | tensor(5.0087, device='cuda:3', grad_fn=<NllLossBackward0>)|\n",
       "|  2   |  0/125  | tensor(5.2657, device='cuda:3', grad_fn=<NllLossBackward0>)|\n",
       "|  2   | 10/125  | tensor(5.0255, device='cuda:3', grad_fn=<NllLossBackward0>)|\n",
       "+-----------------------------------------------------------------------------+\n"
      ]
     },
     "metadata": {},
     "output_type": "display_data"
    },
    {
     "name": "stdout",
     "output_type": "stream",
     "text": [
      "STEP:  20 / 125\n"
     ]
    },
    {
     "data": {
      "text/html": [
       "<pre style=\"white-space:pre;overflow-x:auto;line-height:normal;font-family:Menlo,'DejaVu Sans Mono',consolas,'Courier New',monospace\"><span style=\"font-style: italic\">                                Training Status                                </span>\n",
       "+-----------------------------------------------------------------------------+\n",
       "|<span style=\"font-weight: bold\">Epoch </span>|<span style=\"font-weight: bold\">  Steps  </span>|<span style=\"font-weight: bold\">                            Loss                            </span>|\n",
       "|------+---------+------------------------------------------------------------|\n",
       "|  0   |  0/125  | tensor(6.0223, device='cuda:3', grad_fn=&lt;NllLossBackward0&gt;)|\n",
       "|  0   | 10/125  | tensor(5.9450, device='cuda:3', grad_fn=&lt;NllLossBackward0&gt;)|\n",
       "|  0   | 20/125  | tensor(6.1867, device='cuda:3', grad_fn=&lt;NllLossBackward0&gt;)|\n",
       "|  0   | 30/125  | tensor(5.9451, device='cuda:3', grad_fn=&lt;NllLossBackward0&gt;)|\n",
       "|  0   | 40/125  | tensor(6.0357, device='cuda:3', grad_fn=&lt;NllLossBackward0&gt;)|\n",
       "|  0   | 50/125  | tensor(5.6037, device='cuda:3', grad_fn=&lt;NllLossBackward0&gt;)|\n",
       "|  0   | 60/125  | tensor(5.7155, device='cuda:3', grad_fn=&lt;NllLossBackward0&gt;)|\n",
       "|  0   | 70/125  | tensor(6.2216, device='cuda:3', grad_fn=&lt;NllLossBackward0&gt;)|\n",
       "|  0   | 80/125  | tensor(5.9054, device='cuda:3', grad_fn=&lt;NllLossBackward0&gt;)|\n",
       "|  0   | 90/125  | tensor(6.0301, device='cuda:3', grad_fn=&lt;NllLossBackward0&gt;)|\n",
       "|  0   | 100/125 | tensor(5.9282, device='cuda:3', grad_fn=&lt;NllLossBackward0&gt;)|\n",
       "|  0   | 110/125 | tensor(5.4164, device='cuda:3', grad_fn=&lt;NllLossBackward0&gt;)|\n",
       "|  0   | 120/125 | tensor(5.5291, device='cuda:3', grad_fn=&lt;NllLossBackward0&gt;)|\n",
       "|  1   |  0/125  | tensor(5.8595, device='cuda:3', grad_fn=&lt;NllLossBackward0&gt;)|\n",
       "|  1   | 10/125  | tensor(5.8180, device='cuda:3', grad_fn=&lt;NllLossBackward0&gt;)|\n",
       "|  1   | 20/125  | tensor(5.5301, device='cuda:3', grad_fn=&lt;NllLossBackward0&gt;)|\n",
       "|  1   | 30/125  | tensor(5.6330, device='cuda:3', grad_fn=&lt;NllLossBackward0&gt;)|\n",
       "|  1   | 40/125  | tensor(5.7374, device='cuda:3', grad_fn=&lt;NllLossBackward0&gt;)|\n",
       "|  1   | 50/125  | tensor(5.5296, device='cuda:3', grad_fn=&lt;NllLossBackward0&gt;)|\n",
       "|  1   | 60/125  | tensor(5.9385, device='cuda:3', grad_fn=&lt;NllLossBackward0&gt;)|\n",
       "|  1   | 70/125  | tensor(6.2005, device='cuda:3', grad_fn=&lt;NllLossBackward0&gt;)|\n",
       "|  1   | 80/125  | tensor(5.7302, device='cuda:3', grad_fn=&lt;NllLossBackward0&gt;)|\n",
       "|  1   | 90/125  | tensor(5.4282, device='cuda:3', grad_fn=&lt;NllLossBackward0&gt;)|\n",
       "|  1   | 100/125 | tensor(5.1424, device='cuda:3', grad_fn=&lt;NllLossBackward0&gt;)|\n",
       "|  1   | 110/125 | tensor(5.7634, device='cuda:3', grad_fn=&lt;NllLossBackward0&gt;)|\n",
       "|  1   | 120/125 | tensor(5.0087, device='cuda:3', grad_fn=&lt;NllLossBackward0&gt;)|\n",
       "|  2   |  0/125  | tensor(5.2657, device='cuda:3', grad_fn=&lt;NllLossBackward0&gt;)|\n",
       "|  2   | 10/125  | tensor(5.0255, device='cuda:3', grad_fn=&lt;NllLossBackward0&gt;)|\n",
       "|  2   | 20/125  | tensor(5.1562, device='cuda:3', grad_fn=&lt;NllLossBackward0&gt;)|\n",
       "+-----------------------------------------------------------------------------+\n",
       "</pre>\n"
      ],
      "text/plain": [
       "\u001b[3m                                Training Status                                \u001b[0m\n",
       "+-----------------------------------------------------------------------------+\n",
       "|\u001b[1mEpoch\u001b[0m\u001b[1m \u001b[0m|\u001b[1m \u001b[0m\u001b[1m Steps \u001b[0m\u001b[1m \u001b[0m|\u001b[1m \u001b[0m\u001b[1m                           Loss                            \u001b[0m|\n",
       "|------+---------+------------------------------------------------------------|\n",
       "|  0   |  0/125  | tensor(6.0223, device='cuda:3', grad_fn=<NllLossBackward0>)|\n",
       "|  0   | 10/125  | tensor(5.9450, device='cuda:3', grad_fn=<NllLossBackward0>)|\n",
       "|  0   | 20/125  | tensor(6.1867, device='cuda:3', grad_fn=<NllLossBackward0>)|\n",
       "|  0   | 30/125  | tensor(5.9451, device='cuda:3', grad_fn=<NllLossBackward0>)|\n",
       "|  0   | 40/125  | tensor(6.0357, device='cuda:3', grad_fn=<NllLossBackward0>)|\n",
       "|  0   | 50/125  | tensor(5.6037, device='cuda:3', grad_fn=<NllLossBackward0>)|\n",
       "|  0   | 60/125  | tensor(5.7155, device='cuda:3', grad_fn=<NllLossBackward0>)|\n",
       "|  0   | 70/125  | tensor(6.2216, device='cuda:3', grad_fn=<NllLossBackward0>)|\n",
       "|  0   | 80/125  | tensor(5.9054, device='cuda:3', grad_fn=<NllLossBackward0>)|\n",
       "|  0   | 90/125  | tensor(6.0301, device='cuda:3', grad_fn=<NllLossBackward0>)|\n",
       "|  0   | 100/125 | tensor(5.9282, device='cuda:3', grad_fn=<NllLossBackward0>)|\n",
       "|  0   | 110/125 | tensor(5.4164, device='cuda:3', grad_fn=<NllLossBackward0>)|\n",
       "|  0   | 120/125 | tensor(5.5291, device='cuda:3', grad_fn=<NllLossBackward0>)|\n",
       "|  1   |  0/125  | tensor(5.8595, device='cuda:3', grad_fn=<NllLossBackward0>)|\n",
       "|  1   | 10/125  | tensor(5.8180, device='cuda:3', grad_fn=<NllLossBackward0>)|\n",
       "|  1   | 20/125  | tensor(5.5301, device='cuda:3', grad_fn=<NllLossBackward0>)|\n",
       "|  1   | 30/125  | tensor(5.6330, device='cuda:3', grad_fn=<NllLossBackward0>)|\n",
       "|  1   | 40/125  | tensor(5.7374, device='cuda:3', grad_fn=<NllLossBackward0>)|\n",
       "|  1   | 50/125  | tensor(5.5296, device='cuda:3', grad_fn=<NllLossBackward0>)|\n",
       "|  1   | 60/125  | tensor(5.9385, device='cuda:3', grad_fn=<NllLossBackward0>)|\n",
       "|  1   | 70/125  | tensor(6.2005, device='cuda:3', grad_fn=<NllLossBackward0>)|\n",
       "|  1   | 80/125  | tensor(5.7302, device='cuda:3', grad_fn=<NllLossBackward0>)|\n",
       "|  1   | 90/125  | tensor(5.4282, device='cuda:3', grad_fn=<NllLossBackward0>)|\n",
       "|  1   | 100/125 | tensor(5.1424, device='cuda:3', grad_fn=<NllLossBackward0>)|\n",
       "|  1   | 110/125 | tensor(5.7634, device='cuda:3', grad_fn=<NllLossBackward0>)|\n",
       "|  1   | 120/125 | tensor(5.0087, device='cuda:3', grad_fn=<NllLossBackward0>)|\n",
       "|  2   |  0/125  | tensor(5.2657, device='cuda:3', grad_fn=<NllLossBackward0>)|\n",
       "|  2   | 10/125  | tensor(5.0255, device='cuda:3', grad_fn=<NllLossBackward0>)|\n",
       "|  2   | 20/125  | tensor(5.1562, device='cuda:3', grad_fn=<NllLossBackward0>)|\n",
       "+-----------------------------------------------------------------------------+\n"
      ]
     },
     "metadata": {},
     "output_type": "display_data"
    },
    {
     "name": "stdout",
     "output_type": "stream",
     "text": [
      "STEP:  30 / 125\n"
     ]
    },
    {
     "data": {
      "text/html": [
       "<pre style=\"white-space:pre;overflow-x:auto;line-height:normal;font-family:Menlo,'DejaVu Sans Mono',consolas,'Courier New',monospace\"><span style=\"font-style: italic\">                                Training Status                                </span>\n",
       "+-----------------------------------------------------------------------------+\n",
       "|<span style=\"font-weight: bold\">Epoch </span>|<span style=\"font-weight: bold\">  Steps  </span>|<span style=\"font-weight: bold\">                            Loss                            </span>|\n",
       "|------+---------+------------------------------------------------------------|\n",
       "|  0   |  0/125  | tensor(6.0223, device='cuda:3', grad_fn=&lt;NllLossBackward0&gt;)|\n",
       "|  0   | 10/125  | tensor(5.9450, device='cuda:3', grad_fn=&lt;NllLossBackward0&gt;)|\n",
       "|  0   | 20/125  | tensor(6.1867, device='cuda:3', grad_fn=&lt;NllLossBackward0&gt;)|\n",
       "|  0   | 30/125  | tensor(5.9451, device='cuda:3', grad_fn=&lt;NllLossBackward0&gt;)|\n",
       "|  0   | 40/125  | tensor(6.0357, device='cuda:3', grad_fn=&lt;NllLossBackward0&gt;)|\n",
       "|  0   | 50/125  | tensor(5.6037, device='cuda:3', grad_fn=&lt;NllLossBackward0&gt;)|\n",
       "|  0   | 60/125  | tensor(5.7155, device='cuda:3', grad_fn=&lt;NllLossBackward0&gt;)|\n",
       "|  0   | 70/125  | tensor(6.2216, device='cuda:3', grad_fn=&lt;NllLossBackward0&gt;)|\n",
       "|  0   | 80/125  | tensor(5.9054, device='cuda:3', grad_fn=&lt;NllLossBackward0&gt;)|\n",
       "|  0   | 90/125  | tensor(6.0301, device='cuda:3', grad_fn=&lt;NllLossBackward0&gt;)|\n",
       "|  0   | 100/125 | tensor(5.9282, device='cuda:3', grad_fn=&lt;NllLossBackward0&gt;)|\n",
       "|  0   | 110/125 | tensor(5.4164, device='cuda:3', grad_fn=&lt;NllLossBackward0&gt;)|\n",
       "|  0   | 120/125 | tensor(5.5291, device='cuda:3', grad_fn=&lt;NllLossBackward0&gt;)|\n",
       "|  1   |  0/125  | tensor(5.8595, device='cuda:3', grad_fn=&lt;NllLossBackward0&gt;)|\n",
       "|  1   | 10/125  | tensor(5.8180, device='cuda:3', grad_fn=&lt;NllLossBackward0&gt;)|\n",
       "|  1   | 20/125  | tensor(5.5301, device='cuda:3', grad_fn=&lt;NllLossBackward0&gt;)|\n",
       "|  1   | 30/125  | tensor(5.6330, device='cuda:3', grad_fn=&lt;NllLossBackward0&gt;)|\n",
       "|  1   | 40/125  | tensor(5.7374, device='cuda:3', grad_fn=&lt;NllLossBackward0&gt;)|\n",
       "|  1   | 50/125  | tensor(5.5296, device='cuda:3', grad_fn=&lt;NllLossBackward0&gt;)|\n",
       "|  1   | 60/125  | tensor(5.9385, device='cuda:3', grad_fn=&lt;NllLossBackward0&gt;)|\n",
       "|  1   | 70/125  | tensor(6.2005, device='cuda:3', grad_fn=&lt;NllLossBackward0&gt;)|\n",
       "|  1   | 80/125  | tensor(5.7302, device='cuda:3', grad_fn=&lt;NllLossBackward0&gt;)|\n",
       "|  1   | 90/125  | tensor(5.4282, device='cuda:3', grad_fn=&lt;NllLossBackward0&gt;)|\n",
       "|  1   | 100/125 | tensor(5.1424, device='cuda:3', grad_fn=&lt;NllLossBackward0&gt;)|\n",
       "|  1   | 110/125 | tensor(5.7634, device='cuda:3', grad_fn=&lt;NllLossBackward0&gt;)|\n",
       "|  1   | 120/125 | tensor(5.0087, device='cuda:3', grad_fn=&lt;NllLossBackward0&gt;)|\n",
       "|  2   |  0/125  | tensor(5.2657, device='cuda:3', grad_fn=&lt;NllLossBackward0&gt;)|\n",
       "|  2   | 10/125  | tensor(5.0255, device='cuda:3', grad_fn=&lt;NllLossBackward0&gt;)|\n",
       "|  2   | 20/125  | tensor(5.1562, device='cuda:3', grad_fn=&lt;NllLossBackward0&gt;)|\n",
       "|  2   | 30/125  | tensor(5.3614, device='cuda:3', grad_fn=&lt;NllLossBackward0&gt;)|\n",
       "+-----------------------------------------------------------------------------+\n",
       "</pre>\n"
      ],
      "text/plain": [
       "\u001b[3m                                Training Status                                \u001b[0m\n",
       "+-----------------------------------------------------------------------------+\n",
       "|\u001b[1mEpoch\u001b[0m\u001b[1m \u001b[0m|\u001b[1m \u001b[0m\u001b[1m Steps \u001b[0m\u001b[1m \u001b[0m|\u001b[1m \u001b[0m\u001b[1m                           Loss                            \u001b[0m|\n",
       "|------+---------+------------------------------------------------------------|\n",
       "|  0   |  0/125  | tensor(6.0223, device='cuda:3', grad_fn=<NllLossBackward0>)|\n",
       "|  0   | 10/125  | tensor(5.9450, device='cuda:3', grad_fn=<NllLossBackward0>)|\n",
       "|  0   | 20/125  | tensor(6.1867, device='cuda:3', grad_fn=<NllLossBackward0>)|\n",
       "|  0   | 30/125  | tensor(5.9451, device='cuda:3', grad_fn=<NllLossBackward0>)|\n",
       "|  0   | 40/125  | tensor(6.0357, device='cuda:3', grad_fn=<NllLossBackward0>)|\n",
       "|  0   | 50/125  | tensor(5.6037, device='cuda:3', grad_fn=<NllLossBackward0>)|\n",
       "|  0   | 60/125  | tensor(5.7155, device='cuda:3', grad_fn=<NllLossBackward0>)|\n",
       "|  0   | 70/125  | tensor(6.2216, device='cuda:3', grad_fn=<NllLossBackward0>)|\n",
       "|  0   | 80/125  | tensor(5.9054, device='cuda:3', grad_fn=<NllLossBackward0>)|\n",
       "|  0   | 90/125  | tensor(6.0301, device='cuda:3', grad_fn=<NllLossBackward0>)|\n",
       "|  0   | 100/125 | tensor(5.9282, device='cuda:3', grad_fn=<NllLossBackward0>)|\n",
       "|  0   | 110/125 | tensor(5.4164, device='cuda:3', grad_fn=<NllLossBackward0>)|\n",
       "|  0   | 120/125 | tensor(5.5291, device='cuda:3', grad_fn=<NllLossBackward0>)|\n",
       "|  1   |  0/125  | tensor(5.8595, device='cuda:3', grad_fn=<NllLossBackward0>)|\n",
       "|  1   | 10/125  | tensor(5.8180, device='cuda:3', grad_fn=<NllLossBackward0>)|\n",
       "|  1   | 20/125  | tensor(5.5301, device='cuda:3', grad_fn=<NllLossBackward0>)|\n",
       "|  1   | 30/125  | tensor(5.6330, device='cuda:3', grad_fn=<NllLossBackward0>)|\n",
       "|  1   | 40/125  | tensor(5.7374, device='cuda:3', grad_fn=<NllLossBackward0>)|\n",
       "|  1   | 50/125  | tensor(5.5296, device='cuda:3', grad_fn=<NllLossBackward0>)|\n",
       "|  1   | 60/125  | tensor(5.9385, device='cuda:3', grad_fn=<NllLossBackward0>)|\n",
       "|  1   | 70/125  | tensor(6.2005, device='cuda:3', grad_fn=<NllLossBackward0>)|\n",
       "|  1   | 80/125  | tensor(5.7302, device='cuda:3', grad_fn=<NllLossBackward0>)|\n",
       "|  1   | 90/125  | tensor(5.4282, device='cuda:3', grad_fn=<NllLossBackward0>)|\n",
       "|  1   | 100/125 | tensor(5.1424, device='cuda:3', grad_fn=<NllLossBackward0>)|\n",
       "|  1   | 110/125 | tensor(5.7634, device='cuda:3', grad_fn=<NllLossBackward0>)|\n",
       "|  1   | 120/125 | tensor(5.0087, device='cuda:3', grad_fn=<NllLossBackward0>)|\n",
       "|  2   |  0/125  | tensor(5.2657, device='cuda:3', grad_fn=<NllLossBackward0>)|\n",
       "|  2   | 10/125  | tensor(5.0255, device='cuda:3', grad_fn=<NllLossBackward0>)|\n",
       "|  2   | 20/125  | tensor(5.1562, device='cuda:3', grad_fn=<NllLossBackward0>)|\n",
       "|  2   | 30/125  | tensor(5.3614, device='cuda:3', grad_fn=<NllLossBackward0>)|\n",
       "+-----------------------------------------------------------------------------+\n"
      ]
     },
     "metadata": {},
     "output_type": "display_data"
    },
    {
     "name": "stdout",
     "output_type": "stream",
     "text": [
      "STEP:  40 / 125\n"
     ]
    },
    {
     "data": {
      "text/html": [
       "<pre style=\"white-space:pre;overflow-x:auto;line-height:normal;font-family:Menlo,'DejaVu Sans Mono',consolas,'Courier New',monospace\"><span style=\"font-style: italic\">                                Training Status                                </span>\n",
       "+-----------------------------------------------------------------------------+\n",
       "|<span style=\"font-weight: bold\">Epoch </span>|<span style=\"font-weight: bold\">  Steps  </span>|<span style=\"font-weight: bold\">                            Loss                            </span>|\n",
       "|------+---------+------------------------------------------------------------|\n",
       "|  0   |  0/125  | tensor(6.0223, device='cuda:3', grad_fn=&lt;NllLossBackward0&gt;)|\n",
       "|  0   | 10/125  | tensor(5.9450, device='cuda:3', grad_fn=&lt;NllLossBackward0&gt;)|\n",
       "|  0   | 20/125  | tensor(6.1867, device='cuda:3', grad_fn=&lt;NllLossBackward0&gt;)|\n",
       "|  0   | 30/125  | tensor(5.9451, device='cuda:3', grad_fn=&lt;NllLossBackward0&gt;)|\n",
       "|  0   | 40/125  | tensor(6.0357, device='cuda:3', grad_fn=&lt;NllLossBackward0&gt;)|\n",
       "|  0   | 50/125  | tensor(5.6037, device='cuda:3', grad_fn=&lt;NllLossBackward0&gt;)|\n",
       "|  0   | 60/125  | tensor(5.7155, device='cuda:3', grad_fn=&lt;NllLossBackward0&gt;)|\n",
       "|  0   | 70/125  | tensor(6.2216, device='cuda:3', grad_fn=&lt;NllLossBackward0&gt;)|\n",
       "|  0   | 80/125  | tensor(5.9054, device='cuda:3', grad_fn=&lt;NllLossBackward0&gt;)|\n",
       "|  0   | 90/125  | tensor(6.0301, device='cuda:3', grad_fn=&lt;NllLossBackward0&gt;)|\n",
       "|  0   | 100/125 | tensor(5.9282, device='cuda:3', grad_fn=&lt;NllLossBackward0&gt;)|\n",
       "|  0   | 110/125 | tensor(5.4164, device='cuda:3', grad_fn=&lt;NllLossBackward0&gt;)|\n",
       "|  0   | 120/125 | tensor(5.5291, device='cuda:3', grad_fn=&lt;NllLossBackward0&gt;)|\n",
       "|  1   |  0/125  | tensor(5.8595, device='cuda:3', grad_fn=&lt;NllLossBackward0&gt;)|\n",
       "|  1   | 10/125  | tensor(5.8180, device='cuda:3', grad_fn=&lt;NllLossBackward0&gt;)|\n",
       "|  1   | 20/125  | tensor(5.5301, device='cuda:3', grad_fn=&lt;NllLossBackward0&gt;)|\n",
       "|  1   | 30/125  | tensor(5.6330, device='cuda:3', grad_fn=&lt;NllLossBackward0&gt;)|\n",
       "|  1   | 40/125  | tensor(5.7374, device='cuda:3', grad_fn=&lt;NllLossBackward0&gt;)|\n",
       "|  1   | 50/125  | tensor(5.5296, device='cuda:3', grad_fn=&lt;NllLossBackward0&gt;)|\n",
       "|  1   | 60/125  | tensor(5.9385, device='cuda:3', grad_fn=&lt;NllLossBackward0&gt;)|\n",
       "|  1   | 70/125  | tensor(6.2005, device='cuda:3', grad_fn=&lt;NllLossBackward0&gt;)|\n",
       "|  1   | 80/125  | tensor(5.7302, device='cuda:3', grad_fn=&lt;NllLossBackward0&gt;)|\n",
       "|  1   | 90/125  | tensor(5.4282, device='cuda:3', grad_fn=&lt;NllLossBackward0&gt;)|\n",
       "|  1   | 100/125 | tensor(5.1424, device='cuda:3', grad_fn=&lt;NllLossBackward0&gt;)|\n",
       "|  1   | 110/125 | tensor(5.7634, device='cuda:3', grad_fn=&lt;NllLossBackward0&gt;)|\n",
       "|  1   | 120/125 | tensor(5.0087, device='cuda:3', grad_fn=&lt;NllLossBackward0&gt;)|\n",
       "|  2   |  0/125  | tensor(5.2657, device='cuda:3', grad_fn=&lt;NllLossBackward0&gt;)|\n",
       "|  2   | 10/125  | tensor(5.0255, device='cuda:3', grad_fn=&lt;NllLossBackward0&gt;)|\n",
       "|  2   | 20/125  | tensor(5.1562, device='cuda:3', grad_fn=&lt;NllLossBackward0&gt;)|\n",
       "|  2   | 30/125  | tensor(5.3614, device='cuda:3', grad_fn=&lt;NllLossBackward0&gt;)|\n",
       "|  2   | 40/125  | tensor(5.0289, device='cuda:3', grad_fn=&lt;NllLossBackward0&gt;)|\n",
       "+-----------------------------------------------------------------------------+\n",
       "</pre>\n"
      ],
      "text/plain": [
       "\u001b[3m                                Training Status                                \u001b[0m\n",
       "+-----------------------------------------------------------------------------+\n",
       "|\u001b[1mEpoch\u001b[0m\u001b[1m \u001b[0m|\u001b[1m \u001b[0m\u001b[1m Steps \u001b[0m\u001b[1m \u001b[0m|\u001b[1m \u001b[0m\u001b[1m                           Loss                            \u001b[0m|\n",
       "|------+---------+------------------------------------------------------------|\n",
       "|  0   |  0/125  | tensor(6.0223, device='cuda:3', grad_fn=<NllLossBackward0>)|\n",
       "|  0   | 10/125  | tensor(5.9450, device='cuda:3', grad_fn=<NllLossBackward0>)|\n",
       "|  0   | 20/125  | tensor(6.1867, device='cuda:3', grad_fn=<NllLossBackward0>)|\n",
       "|  0   | 30/125  | tensor(5.9451, device='cuda:3', grad_fn=<NllLossBackward0>)|\n",
       "|  0   | 40/125  | tensor(6.0357, device='cuda:3', grad_fn=<NllLossBackward0>)|\n",
       "|  0   | 50/125  | tensor(5.6037, device='cuda:3', grad_fn=<NllLossBackward0>)|\n",
       "|  0   | 60/125  | tensor(5.7155, device='cuda:3', grad_fn=<NllLossBackward0>)|\n",
       "|  0   | 70/125  | tensor(6.2216, device='cuda:3', grad_fn=<NllLossBackward0>)|\n",
       "|  0   | 80/125  | tensor(5.9054, device='cuda:3', grad_fn=<NllLossBackward0>)|\n",
       "|  0   | 90/125  | tensor(6.0301, device='cuda:3', grad_fn=<NllLossBackward0>)|\n",
       "|  0   | 100/125 | tensor(5.9282, device='cuda:3', grad_fn=<NllLossBackward0>)|\n",
       "|  0   | 110/125 | tensor(5.4164, device='cuda:3', grad_fn=<NllLossBackward0>)|\n",
       "|  0   | 120/125 | tensor(5.5291, device='cuda:3', grad_fn=<NllLossBackward0>)|\n",
       "|  1   |  0/125  | tensor(5.8595, device='cuda:3', grad_fn=<NllLossBackward0>)|\n",
       "|  1   | 10/125  | tensor(5.8180, device='cuda:3', grad_fn=<NllLossBackward0>)|\n",
       "|  1   | 20/125  | tensor(5.5301, device='cuda:3', grad_fn=<NllLossBackward0>)|\n",
       "|  1   | 30/125  | tensor(5.6330, device='cuda:3', grad_fn=<NllLossBackward0>)|\n",
       "|  1   | 40/125  | tensor(5.7374, device='cuda:3', grad_fn=<NllLossBackward0>)|\n",
       "|  1   | 50/125  | tensor(5.5296, device='cuda:3', grad_fn=<NllLossBackward0>)|\n",
       "|  1   | 60/125  | tensor(5.9385, device='cuda:3', grad_fn=<NllLossBackward0>)|\n",
       "|  1   | 70/125  | tensor(6.2005, device='cuda:3', grad_fn=<NllLossBackward0>)|\n",
       "|  1   | 80/125  | tensor(5.7302, device='cuda:3', grad_fn=<NllLossBackward0>)|\n",
       "|  1   | 90/125  | tensor(5.4282, device='cuda:3', grad_fn=<NllLossBackward0>)|\n",
       "|  1   | 100/125 | tensor(5.1424, device='cuda:3', grad_fn=<NllLossBackward0>)|\n",
       "|  1   | 110/125 | tensor(5.7634, device='cuda:3', grad_fn=<NllLossBackward0>)|\n",
       "|  1   | 120/125 | tensor(5.0087, device='cuda:3', grad_fn=<NllLossBackward0>)|\n",
       "|  2   |  0/125  | tensor(5.2657, device='cuda:3', grad_fn=<NllLossBackward0>)|\n",
       "|  2   | 10/125  | tensor(5.0255, device='cuda:3', grad_fn=<NllLossBackward0>)|\n",
       "|  2   | 20/125  | tensor(5.1562, device='cuda:3', grad_fn=<NllLossBackward0>)|\n",
       "|  2   | 30/125  | tensor(5.3614, device='cuda:3', grad_fn=<NllLossBackward0>)|\n",
       "|  2   | 40/125  | tensor(5.0289, device='cuda:3', grad_fn=<NllLossBackward0>)|\n",
       "+-----------------------------------------------------------------------------+\n"
      ]
     },
     "metadata": {},
     "output_type": "display_data"
    },
    {
     "name": "stdout",
     "output_type": "stream",
     "text": [
      "STEP:  50 / 125\n"
     ]
    },
    {
     "data": {
      "text/html": [
       "<pre style=\"white-space:pre;overflow-x:auto;line-height:normal;font-family:Menlo,'DejaVu Sans Mono',consolas,'Courier New',monospace\"><span style=\"font-style: italic\">                                Training Status                                </span>\n",
       "+-----------------------------------------------------------------------------+\n",
       "|<span style=\"font-weight: bold\">Epoch </span>|<span style=\"font-weight: bold\">  Steps  </span>|<span style=\"font-weight: bold\">                            Loss                            </span>|\n",
       "|------+---------+------------------------------------------------------------|\n",
       "|  0   |  0/125  | tensor(6.0223, device='cuda:3', grad_fn=&lt;NllLossBackward0&gt;)|\n",
       "|  0   | 10/125  | tensor(5.9450, device='cuda:3', grad_fn=&lt;NllLossBackward0&gt;)|\n",
       "|  0   | 20/125  | tensor(6.1867, device='cuda:3', grad_fn=&lt;NllLossBackward0&gt;)|\n",
       "|  0   | 30/125  | tensor(5.9451, device='cuda:3', grad_fn=&lt;NllLossBackward0&gt;)|\n",
       "|  0   | 40/125  | tensor(6.0357, device='cuda:3', grad_fn=&lt;NllLossBackward0&gt;)|\n",
       "|  0   | 50/125  | tensor(5.6037, device='cuda:3', grad_fn=&lt;NllLossBackward0&gt;)|\n",
       "|  0   | 60/125  | tensor(5.7155, device='cuda:3', grad_fn=&lt;NllLossBackward0&gt;)|\n",
       "|  0   | 70/125  | tensor(6.2216, device='cuda:3', grad_fn=&lt;NllLossBackward0&gt;)|\n",
       "|  0   | 80/125  | tensor(5.9054, device='cuda:3', grad_fn=&lt;NllLossBackward0&gt;)|\n",
       "|  0   | 90/125  | tensor(6.0301, device='cuda:3', grad_fn=&lt;NllLossBackward0&gt;)|\n",
       "|  0   | 100/125 | tensor(5.9282, device='cuda:3', grad_fn=&lt;NllLossBackward0&gt;)|\n",
       "|  0   | 110/125 | tensor(5.4164, device='cuda:3', grad_fn=&lt;NllLossBackward0&gt;)|\n",
       "|  0   | 120/125 | tensor(5.5291, device='cuda:3', grad_fn=&lt;NllLossBackward0&gt;)|\n",
       "|  1   |  0/125  | tensor(5.8595, device='cuda:3', grad_fn=&lt;NllLossBackward0&gt;)|\n",
       "|  1   | 10/125  | tensor(5.8180, device='cuda:3', grad_fn=&lt;NllLossBackward0&gt;)|\n",
       "|  1   | 20/125  | tensor(5.5301, device='cuda:3', grad_fn=&lt;NllLossBackward0&gt;)|\n",
       "|  1   | 30/125  | tensor(5.6330, device='cuda:3', grad_fn=&lt;NllLossBackward0&gt;)|\n",
       "|  1   | 40/125  | tensor(5.7374, device='cuda:3', grad_fn=&lt;NllLossBackward0&gt;)|\n",
       "|  1   | 50/125  | tensor(5.5296, device='cuda:3', grad_fn=&lt;NllLossBackward0&gt;)|\n",
       "|  1   | 60/125  | tensor(5.9385, device='cuda:3', grad_fn=&lt;NllLossBackward0&gt;)|\n",
       "|  1   | 70/125  | tensor(6.2005, device='cuda:3', grad_fn=&lt;NllLossBackward0&gt;)|\n",
       "|  1   | 80/125  | tensor(5.7302, device='cuda:3', grad_fn=&lt;NllLossBackward0&gt;)|\n",
       "|  1   | 90/125  | tensor(5.4282, device='cuda:3', grad_fn=&lt;NllLossBackward0&gt;)|\n",
       "|  1   | 100/125 | tensor(5.1424, device='cuda:3', grad_fn=&lt;NllLossBackward0&gt;)|\n",
       "|  1   | 110/125 | tensor(5.7634, device='cuda:3', grad_fn=&lt;NllLossBackward0&gt;)|\n",
       "|  1   | 120/125 | tensor(5.0087, device='cuda:3', grad_fn=&lt;NllLossBackward0&gt;)|\n",
       "|  2   |  0/125  | tensor(5.2657, device='cuda:3', grad_fn=&lt;NllLossBackward0&gt;)|\n",
       "|  2   | 10/125  | tensor(5.0255, device='cuda:3', grad_fn=&lt;NllLossBackward0&gt;)|\n",
       "|  2   | 20/125  | tensor(5.1562, device='cuda:3', grad_fn=&lt;NllLossBackward0&gt;)|\n",
       "|  2   | 30/125  | tensor(5.3614, device='cuda:3', grad_fn=&lt;NllLossBackward0&gt;)|\n",
       "|  2   | 40/125  | tensor(5.0289, device='cuda:3', grad_fn=&lt;NllLossBackward0&gt;)|\n",
       "|  2   | 50/125  | tensor(5.2895, device='cuda:3', grad_fn=&lt;NllLossBackward0&gt;)|\n",
       "+-----------------------------------------------------------------------------+\n",
       "</pre>\n"
      ],
      "text/plain": [
       "\u001b[3m                                Training Status                                \u001b[0m\n",
       "+-----------------------------------------------------------------------------+\n",
       "|\u001b[1mEpoch\u001b[0m\u001b[1m \u001b[0m|\u001b[1m \u001b[0m\u001b[1m Steps \u001b[0m\u001b[1m \u001b[0m|\u001b[1m \u001b[0m\u001b[1m                           Loss                            \u001b[0m|\n",
       "|------+---------+------------------------------------------------------------|\n",
       "|  0   |  0/125  | tensor(6.0223, device='cuda:3', grad_fn=<NllLossBackward0>)|\n",
       "|  0   | 10/125  | tensor(5.9450, device='cuda:3', grad_fn=<NllLossBackward0>)|\n",
       "|  0   | 20/125  | tensor(6.1867, device='cuda:3', grad_fn=<NllLossBackward0>)|\n",
       "|  0   | 30/125  | tensor(5.9451, device='cuda:3', grad_fn=<NllLossBackward0>)|\n",
       "|  0   | 40/125  | tensor(6.0357, device='cuda:3', grad_fn=<NllLossBackward0>)|\n",
       "|  0   | 50/125  | tensor(5.6037, device='cuda:3', grad_fn=<NllLossBackward0>)|\n",
       "|  0   | 60/125  | tensor(5.7155, device='cuda:3', grad_fn=<NllLossBackward0>)|\n",
       "|  0   | 70/125  | tensor(6.2216, device='cuda:3', grad_fn=<NllLossBackward0>)|\n",
       "|  0   | 80/125  | tensor(5.9054, device='cuda:3', grad_fn=<NllLossBackward0>)|\n",
       "|  0   | 90/125  | tensor(6.0301, device='cuda:3', grad_fn=<NllLossBackward0>)|\n",
       "|  0   | 100/125 | tensor(5.9282, device='cuda:3', grad_fn=<NllLossBackward0>)|\n",
       "|  0   | 110/125 | tensor(5.4164, device='cuda:3', grad_fn=<NllLossBackward0>)|\n",
       "|  0   | 120/125 | tensor(5.5291, device='cuda:3', grad_fn=<NllLossBackward0>)|\n",
       "|  1   |  0/125  | tensor(5.8595, device='cuda:3', grad_fn=<NllLossBackward0>)|\n",
       "|  1   | 10/125  | tensor(5.8180, device='cuda:3', grad_fn=<NllLossBackward0>)|\n",
       "|  1   | 20/125  | tensor(5.5301, device='cuda:3', grad_fn=<NllLossBackward0>)|\n",
       "|  1   | 30/125  | tensor(5.6330, device='cuda:3', grad_fn=<NllLossBackward0>)|\n",
       "|  1   | 40/125  | tensor(5.7374, device='cuda:3', grad_fn=<NllLossBackward0>)|\n",
       "|  1   | 50/125  | tensor(5.5296, device='cuda:3', grad_fn=<NllLossBackward0>)|\n",
       "|  1   | 60/125  | tensor(5.9385, device='cuda:3', grad_fn=<NllLossBackward0>)|\n",
       "|  1   | 70/125  | tensor(6.2005, device='cuda:3', grad_fn=<NllLossBackward0>)|\n",
       "|  1   | 80/125  | tensor(5.7302, device='cuda:3', grad_fn=<NllLossBackward0>)|\n",
       "|  1   | 90/125  | tensor(5.4282, device='cuda:3', grad_fn=<NllLossBackward0>)|\n",
       "|  1   | 100/125 | tensor(5.1424, device='cuda:3', grad_fn=<NllLossBackward0>)|\n",
       "|  1   | 110/125 | tensor(5.7634, device='cuda:3', grad_fn=<NllLossBackward0>)|\n",
       "|  1   | 120/125 | tensor(5.0087, device='cuda:3', grad_fn=<NllLossBackward0>)|\n",
       "|  2   |  0/125  | tensor(5.2657, device='cuda:3', grad_fn=<NllLossBackward0>)|\n",
       "|  2   | 10/125  | tensor(5.0255, device='cuda:3', grad_fn=<NllLossBackward0>)|\n",
       "|  2   | 20/125  | tensor(5.1562, device='cuda:3', grad_fn=<NllLossBackward0>)|\n",
       "|  2   | 30/125  | tensor(5.3614, device='cuda:3', grad_fn=<NllLossBackward0>)|\n",
       "|  2   | 40/125  | tensor(5.0289, device='cuda:3', grad_fn=<NllLossBackward0>)|\n",
       "|  2   | 50/125  | tensor(5.2895, device='cuda:3', grad_fn=<NllLossBackward0>)|\n",
       "+-----------------------------------------------------------------------------+\n"
      ]
     },
     "metadata": {},
     "output_type": "display_data"
    },
    {
     "name": "stdout",
     "output_type": "stream",
     "text": [
      "STEP:  60 / 125\n"
     ]
    },
    {
     "data": {
      "text/html": [
       "<pre style=\"white-space:pre;overflow-x:auto;line-height:normal;font-family:Menlo,'DejaVu Sans Mono',consolas,'Courier New',monospace\"><span style=\"font-style: italic\">                                Training Status                                </span>\n",
       "+-----------------------------------------------------------------------------+\n",
       "|<span style=\"font-weight: bold\">Epoch </span>|<span style=\"font-weight: bold\">  Steps  </span>|<span style=\"font-weight: bold\">                            Loss                            </span>|\n",
       "|------+---------+------------------------------------------------------------|\n",
       "|  0   |  0/125  | tensor(6.0223, device='cuda:3', grad_fn=&lt;NllLossBackward0&gt;)|\n",
       "|  0   | 10/125  | tensor(5.9450, device='cuda:3', grad_fn=&lt;NllLossBackward0&gt;)|\n",
       "|  0   | 20/125  | tensor(6.1867, device='cuda:3', grad_fn=&lt;NllLossBackward0&gt;)|\n",
       "|  0   | 30/125  | tensor(5.9451, device='cuda:3', grad_fn=&lt;NllLossBackward0&gt;)|\n",
       "|  0   | 40/125  | tensor(6.0357, device='cuda:3', grad_fn=&lt;NllLossBackward0&gt;)|\n",
       "|  0   | 50/125  | tensor(5.6037, device='cuda:3', grad_fn=&lt;NllLossBackward0&gt;)|\n",
       "|  0   | 60/125  | tensor(5.7155, device='cuda:3', grad_fn=&lt;NllLossBackward0&gt;)|\n",
       "|  0   | 70/125  | tensor(6.2216, device='cuda:3', grad_fn=&lt;NllLossBackward0&gt;)|\n",
       "|  0   | 80/125  | tensor(5.9054, device='cuda:3', grad_fn=&lt;NllLossBackward0&gt;)|\n",
       "|  0   | 90/125  | tensor(6.0301, device='cuda:3', grad_fn=&lt;NllLossBackward0&gt;)|\n",
       "|  0   | 100/125 | tensor(5.9282, device='cuda:3', grad_fn=&lt;NllLossBackward0&gt;)|\n",
       "|  0   | 110/125 | tensor(5.4164, device='cuda:3', grad_fn=&lt;NllLossBackward0&gt;)|\n",
       "|  0   | 120/125 | tensor(5.5291, device='cuda:3', grad_fn=&lt;NllLossBackward0&gt;)|\n",
       "|  1   |  0/125  | tensor(5.8595, device='cuda:3', grad_fn=&lt;NllLossBackward0&gt;)|\n",
       "|  1   | 10/125  | tensor(5.8180, device='cuda:3', grad_fn=&lt;NllLossBackward0&gt;)|\n",
       "|  1   | 20/125  | tensor(5.5301, device='cuda:3', grad_fn=&lt;NllLossBackward0&gt;)|\n",
       "|  1   | 30/125  | tensor(5.6330, device='cuda:3', grad_fn=&lt;NllLossBackward0&gt;)|\n",
       "|  1   | 40/125  | tensor(5.7374, device='cuda:3', grad_fn=&lt;NllLossBackward0&gt;)|\n",
       "|  1   | 50/125  | tensor(5.5296, device='cuda:3', grad_fn=&lt;NllLossBackward0&gt;)|\n",
       "|  1   | 60/125  | tensor(5.9385, device='cuda:3', grad_fn=&lt;NllLossBackward0&gt;)|\n",
       "|  1   | 70/125  | tensor(6.2005, device='cuda:3', grad_fn=&lt;NllLossBackward0&gt;)|\n",
       "|  1   | 80/125  | tensor(5.7302, device='cuda:3', grad_fn=&lt;NllLossBackward0&gt;)|\n",
       "|  1   | 90/125  | tensor(5.4282, device='cuda:3', grad_fn=&lt;NllLossBackward0&gt;)|\n",
       "|  1   | 100/125 | tensor(5.1424, device='cuda:3', grad_fn=&lt;NllLossBackward0&gt;)|\n",
       "|  1   | 110/125 | tensor(5.7634, device='cuda:3', grad_fn=&lt;NllLossBackward0&gt;)|\n",
       "|  1   | 120/125 | tensor(5.0087, device='cuda:3', grad_fn=&lt;NllLossBackward0&gt;)|\n",
       "|  2   |  0/125  | tensor(5.2657, device='cuda:3', grad_fn=&lt;NllLossBackward0&gt;)|\n",
       "|  2   | 10/125  | tensor(5.0255, device='cuda:3', grad_fn=&lt;NllLossBackward0&gt;)|\n",
       "|  2   | 20/125  | tensor(5.1562, device='cuda:3', grad_fn=&lt;NllLossBackward0&gt;)|\n",
       "|  2   | 30/125  | tensor(5.3614, device='cuda:3', grad_fn=&lt;NllLossBackward0&gt;)|\n",
       "|  2   | 40/125  | tensor(5.0289, device='cuda:3', grad_fn=&lt;NllLossBackward0&gt;)|\n",
       "|  2   | 50/125  | tensor(5.2895, device='cuda:3', grad_fn=&lt;NllLossBackward0&gt;)|\n",
       "|  2   | 60/125  | tensor(5.3304, device='cuda:3', grad_fn=&lt;NllLossBackward0&gt;)|\n",
       "+-----------------------------------------------------------------------------+\n",
       "</pre>\n"
      ],
      "text/plain": [
       "\u001b[3m                                Training Status                                \u001b[0m\n",
       "+-----------------------------------------------------------------------------+\n",
       "|\u001b[1mEpoch\u001b[0m\u001b[1m \u001b[0m|\u001b[1m \u001b[0m\u001b[1m Steps \u001b[0m\u001b[1m \u001b[0m|\u001b[1m \u001b[0m\u001b[1m                           Loss                            \u001b[0m|\n",
       "|------+---------+------------------------------------------------------------|\n",
       "|  0   |  0/125  | tensor(6.0223, device='cuda:3', grad_fn=<NllLossBackward0>)|\n",
       "|  0   | 10/125  | tensor(5.9450, device='cuda:3', grad_fn=<NllLossBackward0>)|\n",
       "|  0   | 20/125  | tensor(6.1867, device='cuda:3', grad_fn=<NllLossBackward0>)|\n",
       "|  0   | 30/125  | tensor(5.9451, device='cuda:3', grad_fn=<NllLossBackward0>)|\n",
       "|  0   | 40/125  | tensor(6.0357, device='cuda:3', grad_fn=<NllLossBackward0>)|\n",
       "|  0   | 50/125  | tensor(5.6037, device='cuda:3', grad_fn=<NllLossBackward0>)|\n",
       "|  0   | 60/125  | tensor(5.7155, device='cuda:3', grad_fn=<NllLossBackward0>)|\n",
       "|  0   | 70/125  | tensor(6.2216, device='cuda:3', grad_fn=<NllLossBackward0>)|\n",
       "|  0   | 80/125  | tensor(5.9054, device='cuda:3', grad_fn=<NllLossBackward0>)|\n",
       "|  0   | 90/125  | tensor(6.0301, device='cuda:3', grad_fn=<NllLossBackward0>)|\n",
       "|  0   | 100/125 | tensor(5.9282, device='cuda:3', grad_fn=<NllLossBackward0>)|\n",
       "|  0   | 110/125 | tensor(5.4164, device='cuda:3', grad_fn=<NllLossBackward0>)|\n",
       "|  0   | 120/125 | tensor(5.5291, device='cuda:3', grad_fn=<NllLossBackward0>)|\n",
       "|  1   |  0/125  | tensor(5.8595, device='cuda:3', grad_fn=<NllLossBackward0>)|\n",
       "|  1   | 10/125  | tensor(5.8180, device='cuda:3', grad_fn=<NllLossBackward0>)|\n",
       "|  1   | 20/125  | tensor(5.5301, device='cuda:3', grad_fn=<NllLossBackward0>)|\n",
       "|  1   | 30/125  | tensor(5.6330, device='cuda:3', grad_fn=<NllLossBackward0>)|\n",
       "|  1   | 40/125  | tensor(5.7374, device='cuda:3', grad_fn=<NllLossBackward0>)|\n",
       "|  1   | 50/125  | tensor(5.5296, device='cuda:3', grad_fn=<NllLossBackward0>)|\n",
       "|  1   | 60/125  | tensor(5.9385, device='cuda:3', grad_fn=<NllLossBackward0>)|\n",
       "|  1   | 70/125  | tensor(6.2005, device='cuda:3', grad_fn=<NllLossBackward0>)|\n",
       "|  1   | 80/125  | tensor(5.7302, device='cuda:3', grad_fn=<NllLossBackward0>)|\n",
       "|  1   | 90/125  | tensor(5.4282, device='cuda:3', grad_fn=<NllLossBackward0>)|\n",
       "|  1   | 100/125 | tensor(5.1424, device='cuda:3', grad_fn=<NllLossBackward0>)|\n",
       "|  1   | 110/125 | tensor(5.7634, device='cuda:3', grad_fn=<NllLossBackward0>)|\n",
       "|  1   | 120/125 | tensor(5.0087, device='cuda:3', grad_fn=<NllLossBackward0>)|\n",
       "|  2   |  0/125  | tensor(5.2657, device='cuda:3', grad_fn=<NllLossBackward0>)|\n",
       "|  2   | 10/125  | tensor(5.0255, device='cuda:3', grad_fn=<NllLossBackward0>)|\n",
       "|  2   | 20/125  | tensor(5.1562, device='cuda:3', grad_fn=<NllLossBackward0>)|\n",
       "|  2   | 30/125  | tensor(5.3614, device='cuda:3', grad_fn=<NllLossBackward0>)|\n",
       "|  2   | 40/125  | tensor(5.0289, device='cuda:3', grad_fn=<NllLossBackward0>)|\n",
       "|  2   | 50/125  | tensor(5.2895, device='cuda:3', grad_fn=<NllLossBackward0>)|\n",
       "|  2   | 60/125  | tensor(5.3304, device='cuda:3', grad_fn=<NllLossBackward0>)|\n",
       "+-----------------------------------------------------------------------------+\n"
      ]
     },
     "metadata": {},
     "output_type": "display_data"
    },
    {
     "name": "stdout",
     "output_type": "stream",
     "text": [
      "STEP:  70 / 125\n"
     ]
    },
    {
     "data": {
      "text/html": [
       "<pre style=\"white-space:pre;overflow-x:auto;line-height:normal;font-family:Menlo,'DejaVu Sans Mono',consolas,'Courier New',monospace\"><span style=\"font-style: italic\">                                Training Status                                </span>\n",
       "+-----------------------------------------------------------------------------+\n",
       "|<span style=\"font-weight: bold\">Epoch </span>|<span style=\"font-weight: bold\">  Steps  </span>|<span style=\"font-weight: bold\">                            Loss                            </span>|\n",
       "|------+---------+------------------------------------------------------------|\n",
       "|  0   |  0/125  | tensor(6.0223, device='cuda:3', grad_fn=&lt;NllLossBackward0&gt;)|\n",
       "|  0   | 10/125  | tensor(5.9450, device='cuda:3', grad_fn=&lt;NllLossBackward0&gt;)|\n",
       "|  0   | 20/125  | tensor(6.1867, device='cuda:3', grad_fn=&lt;NllLossBackward0&gt;)|\n",
       "|  0   | 30/125  | tensor(5.9451, device='cuda:3', grad_fn=&lt;NllLossBackward0&gt;)|\n",
       "|  0   | 40/125  | tensor(6.0357, device='cuda:3', grad_fn=&lt;NllLossBackward0&gt;)|\n",
       "|  0   | 50/125  | tensor(5.6037, device='cuda:3', grad_fn=&lt;NllLossBackward0&gt;)|\n",
       "|  0   | 60/125  | tensor(5.7155, device='cuda:3', grad_fn=&lt;NllLossBackward0&gt;)|\n",
       "|  0   | 70/125  | tensor(6.2216, device='cuda:3', grad_fn=&lt;NllLossBackward0&gt;)|\n",
       "|  0   | 80/125  | tensor(5.9054, device='cuda:3', grad_fn=&lt;NllLossBackward0&gt;)|\n",
       "|  0   | 90/125  | tensor(6.0301, device='cuda:3', grad_fn=&lt;NllLossBackward0&gt;)|\n",
       "|  0   | 100/125 | tensor(5.9282, device='cuda:3', grad_fn=&lt;NllLossBackward0&gt;)|\n",
       "|  0   | 110/125 | tensor(5.4164, device='cuda:3', grad_fn=&lt;NllLossBackward0&gt;)|\n",
       "|  0   | 120/125 | tensor(5.5291, device='cuda:3', grad_fn=&lt;NllLossBackward0&gt;)|\n",
       "|  1   |  0/125  | tensor(5.8595, device='cuda:3', grad_fn=&lt;NllLossBackward0&gt;)|\n",
       "|  1   | 10/125  | tensor(5.8180, device='cuda:3', grad_fn=&lt;NllLossBackward0&gt;)|\n",
       "|  1   | 20/125  | tensor(5.5301, device='cuda:3', grad_fn=&lt;NllLossBackward0&gt;)|\n",
       "|  1   | 30/125  | tensor(5.6330, device='cuda:3', grad_fn=&lt;NllLossBackward0&gt;)|\n",
       "|  1   | 40/125  | tensor(5.7374, device='cuda:3', grad_fn=&lt;NllLossBackward0&gt;)|\n",
       "|  1   | 50/125  | tensor(5.5296, device='cuda:3', grad_fn=&lt;NllLossBackward0&gt;)|\n",
       "|  1   | 60/125  | tensor(5.9385, device='cuda:3', grad_fn=&lt;NllLossBackward0&gt;)|\n",
       "|  1   | 70/125  | tensor(6.2005, device='cuda:3', grad_fn=&lt;NllLossBackward0&gt;)|\n",
       "|  1   | 80/125  | tensor(5.7302, device='cuda:3', grad_fn=&lt;NllLossBackward0&gt;)|\n",
       "|  1   | 90/125  | tensor(5.4282, device='cuda:3', grad_fn=&lt;NllLossBackward0&gt;)|\n",
       "|  1   | 100/125 | tensor(5.1424, device='cuda:3', grad_fn=&lt;NllLossBackward0&gt;)|\n",
       "|  1   | 110/125 | tensor(5.7634, device='cuda:3', grad_fn=&lt;NllLossBackward0&gt;)|\n",
       "|  1   | 120/125 | tensor(5.0087, device='cuda:3', grad_fn=&lt;NllLossBackward0&gt;)|\n",
       "|  2   |  0/125  | tensor(5.2657, device='cuda:3', grad_fn=&lt;NllLossBackward0&gt;)|\n",
       "|  2   | 10/125  | tensor(5.0255, device='cuda:3', grad_fn=&lt;NllLossBackward0&gt;)|\n",
       "|  2   | 20/125  | tensor(5.1562, device='cuda:3', grad_fn=&lt;NllLossBackward0&gt;)|\n",
       "|  2   | 30/125  | tensor(5.3614, device='cuda:3', grad_fn=&lt;NllLossBackward0&gt;)|\n",
       "|  2   | 40/125  | tensor(5.0289, device='cuda:3', grad_fn=&lt;NllLossBackward0&gt;)|\n",
       "|  2   | 50/125  | tensor(5.2895, device='cuda:3', grad_fn=&lt;NllLossBackward0&gt;)|\n",
       "|  2   | 60/125  | tensor(5.3304, device='cuda:3', grad_fn=&lt;NllLossBackward0&gt;)|\n",
       "|  2   | 70/125  | tensor(5.0167, device='cuda:3', grad_fn=&lt;NllLossBackward0&gt;)|\n",
       "+-----------------------------------------------------------------------------+\n",
       "</pre>\n"
      ],
      "text/plain": [
       "\u001b[3m                                Training Status                                \u001b[0m\n",
       "+-----------------------------------------------------------------------------+\n",
       "|\u001b[1mEpoch\u001b[0m\u001b[1m \u001b[0m|\u001b[1m \u001b[0m\u001b[1m Steps \u001b[0m\u001b[1m \u001b[0m|\u001b[1m \u001b[0m\u001b[1m                           Loss                            \u001b[0m|\n",
       "|------+---------+------------------------------------------------------------|\n",
       "|  0   |  0/125  | tensor(6.0223, device='cuda:3', grad_fn=<NllLossBackward0>)|\n",
       "|  0   | 10/125  | tensor(5.9450, device='cuda:3', grad_fn=<NllLossBackward0>)|\n",
       "|  0   | 20/125  | tensor(6.1867, device='cuda:3', grad_fn=<NllLossBackward0>)|\n",
       "|  0   | 30/125  | tensor(5.9451, device='cuda:3', grad_fn=<NllLossBackward0>)|\n",
       "|  0   | 40/125  | tensor(6.0357, device='cuda:3', grad_fn=<NllLossBackward0>)|\n",
       "|  0   | 50/125  | tensor(5.6037, device='cuda:3', grad_fn=<NllLossBackward0>)|\n",
       "|  0   | 60/125  | tensor(5.7155, device='cuda:3', grad_fn=<NllLossBackward0>)|\n",
       "|  0   | 70/125  | tensor(6.2216, device='cuda:3', grad_fn=<NllLossBackward0>)|\n",
       "|  0   | 80/125  | tensor(5.9054, device='cuda:3', grad_fn=<NllLossBackward0>)|\n",
       "|  0   | 90/125  | tensor(6.0301, device='cuda:3', grad_fn=<NllLossBackward0>)|\n",
       "|  0   | 100/125 | tensor(5.9282, device='cuda:3', grad_fn=<NllLossBackward0>)|\n",
       "|  0   | 110/125 | tensor(5.4164, device='cuda:3', grad_fn=<NllLossBackward0>)|\n",
       "|  0   | 120/125 | tensor(5.5291, device='cuda:3', grad_fn=<NllLossBackward0>)|\n",
       "|  1   |  0/125  | tensor(5.8595, device='cuda:3', grad_fn=<NllLossBackward0>)|\n",
       "|  1   | 10/125  | tensor(5.8180, device='cuda:3', grad_fn=<NllLossBackward0>)|\n",
       "|  1   | 20/125  | tensor(5.5301, device='cuda:3', grad_fn=<NllLossBackward0>)|\n",
       "|  1   | 30/125  | tensor(5.6330, device='cuda:3', grad_fn=<NllLossBackward0>)|\n",
       "|  1   | 40/125  | tensor(5.7374, device='cuda:3', grad_fn=<NllLossBackward0>)|\n",
       "|  1   | 50/125  | tensor(5.5296, device='cuda:3', grad_fn=<NllLossBackward0>)|\n",
       "|  1   | 60/125  | tensor(5.9385, device='cuda:3', grad_fn=<NllLossBackward0>)|\n",
       "|  1   | 70/125  | tensor(6.2005, device='cuda:3', grad_fn=<NllLossBackward0>)|\n",
       "|  1   | 80/125  | tensor(5.7302, device='cuda:3', grad_fn=<NllLossBackward0>)|\n",
       "|  1   | 90/125  | tensor(5.4282, device='cuda:3', grad_fn=<NllLossBackward0>)|\n",
       "|  1   | 100/125 | tensor(5.1424, device='cuda:3', grad_fn=<NllLossBackward0>)|\n",
       "|  1   | 110/125 | tensor(5.7634, device='cuda:3', grad_fn=<NllLossBackward0>)|\n",
       "|  1   | 120/125 | tensor(5.0087, device='cuda:3', grad_fn=<NllLossBackward0>)|\n",
       "|  2   |  0/125  | tensor(5.2657, device='cuda:3', grad_fn=<NllLossBackward0>)|\n",
       "|  2   | 10/125  | tensor(5.0255, device='cuda:3', grad_fn=<NllLossBackward0>)|\n",
       "|  2   | 20/125  | tensor(5.1562, device='cuda:3', grad_fn=<NllLossBackward0>)|\n",
       "|  2   | 30/125  | tensor(5.3614, device='cuda:3', grad_fn=<NllLossBackward0>)|\n",
       "|  2   | 40/125  | tensor(5.0289, device='cuda:3', grad_fn=<NllLossBackward0>)|\n",
       "|  2   | 50/125  | tensor(5.2895, device='cuda:3', grad_fn=<NllLossBackward0>)|\n",
       "|  2   | 60/125  | tensor(5.3304, device='cuda:3', grad_fn=<NllLossBackward0>)|\n",
       "|  2   | 70/125  | tensor(5.0167, device='cuda:3', grad_fn=<NllLossBackward0>)|\n",
       "+-----------------------------------------------------------------------------+\n"
      ]
     },
     "metadata": {},
     "output_type": "display_data"
    },
    {
     "name": "stdout",
     "output_type": "stream",
     "text": [
      "STEP:  80 / 125\n"
     ]
    },
    {
     "data": {
      "text/html": [
       "<pre style=\"white-space:pre;overflow-x:auto;line-height:normal;font-family:Menlo,'DejaVu Sans Mono',consolas,'Courier New',monospace\"><span style=\"font-style: italic\">                                Training Status                                </span>\n",
       "+-----------------------------------------------------------------------------+\n",
       "|<span style=\"font-weight: bold\">Epoch </span>|<span style=\"font-weight: bold\">  Steps  </span>|<span style=\"font-weight: bold\">                            Loss                            </span>|\n",
       "|------+---------+------------------------------------------------------------|\n",
       "|  0   |  0/125  | tensor(6.0223, device='cuda:3', grad_fn=&lt;NllLossBackward0&gt;)|\n",
       "|  0   | 10/125  | tensor(5.9450, device='cuda:3', grad_fn=&lt;NllLossBackward0&gt;)|\n",
       "|  0   | 20/125  | tensor(6.1867, device='cuda:3', grad_fn=&lt;NllLossBackward0&gt;)|\n",
       "|  0   | 30/125  | tensor(5.9451, device='cuda:3', grad_fn=&lt;NllLossBackward0&gt;)|\n",
       "|  0   | 40/125  | tensor(6.0357, device='cuda:3', grad_fn=&lt;NllLossBackward0&gt;)|\n",
       "|  0   | 50/125  | tensor(5.6037, device='cuda:3', grad_fn=&lt;NllLossBackward0&gt;)|\n",
       "|  0   | 60/125  | tensor(5.7155, device='cuda:3', grad_fn=&lt;NllLossBackward0&gt;)|\n",
       "|  0   | 70/125  | tensor(6.2216, device='cuda:3', grad_fn=&lt;NllLossBackward0&gt;)|\n",
       "|  0   | 80/125  | tensor(5.9054, device='cuda:3', grad_fn=&lt;NllLossBackward0&gt;)|\n",
       "|  0   | 90/125  | tensor(6.0301, device='cuda:3', grad_fn=&lt;NllLossBackward0&gt;)|\n",
       "|  0   | 100/125 | tensor(5.9282, device='cuda:3', grad_fn=&lt;NllLossBackward0&gt;)|\n",
       "|  0   | 110/125 | tensor(5.4164, device='cuda:3', grad_fn=&lt;NllLossBackward0&gt;)|\n",
       "|  0   | 120/125 | tensor(5.5291, device='cuda:3', grad_fn=&lt;NllLossBackward0&gt;)|\n",
       "|  1   |  0/125  | tensor(5.8595, device='cuda:3', grad_fn=&lt;NllLossBackward0&gt;)|\n",
       "|  1   | 10/125  | tensor(5.8180, device='cuda:3', grad_fn=&lt;NllLossBackward0&gt;)|\n",
       "|  1   | 20/125  | tensor(5.5301, device='cuda:3', grad_fn=&lt;NllLossBackward0&gt;)|\n",
       "|  1   | 30/125  | tensor(5.6330, device='cuda:3', grad_fn=&lt;NllLossBackward0&gt;)|\n",
       "|  1   | 40/125  | tensor(5.7374, device='cuda:3', grad_fn=&lt;NllLossBackward0&gt;)|\n",
       "|  1   | 50/125  | tensor(5.5296, device='cuda:3', grad_fn=&lt;NllLossBackward0&gt;)|\n",
       "|  1   | 60/125  | tensor(5.9385, device='cuda:3', grad_fn=&lt;NllLossBackward0&gt;)|\n",
       "|  1   | 70/125  | tensor(6.2005, device='cuda:3', grad_fn=&lt;NllLossBackward0&gt;)|\n",
       "|  1   | 80/125  | tensor(5.7302, device='cuda:3', grad_fn=&lt;NllLossBackward0&gt;)|\n",
       "|  1   | 90/125  | tensor(5.4282, device='cuda:3', grad_fn=&lt;NllLossBackward0&gt;)|\n",
       "|  1   | 100/125 | tensor(5.1424, device='cuda:3', grad_fn=&lt;NllLossBackward0&gt;)|\n",
       "|  1   | 110/125 | tensor(5.7634, device='cuda:3', grad_fn=&lt;NllLossBackward0&gt;)|\n",
       "|  1   | 120/125 | tensor(5.0087, device='cuda:3', grad_fn=&lt;NllLossBackward0&gt;)|\n",
       "|  2   |  0/125  | tensor(5.2657, device='cuda:3', grad_fn=&lt;NllLossBackward0&gt;)|\n",
       "|  2   | 10/125  | tensor(5.0255, device='cuda:3', grad_fn=&lt;NllLossBackward0&gt;)|\n",
       "|  2   | 20/125  | tensor(5.1562, device='cuda:3', grad_fn=&lt;NllLossBackward0&gt;)|\n",
       "|  2   | 30/125  | tensor(5.3614, device='cuda:3', grad_fn=&lt;NllLossBackward0&gt;)|\n",
       "|  2   | 40/125  | tensor(5.0289, device='cuda:3', grad_fn=&lt;NllLossBackward0&gt;)|\n",
       "|  2   | 50/125  | tensor(5.2895, device='cuda:3', grad_fn=&lt;NllLossBackward0&gt;)|\n",
       "|  2   | 60/125  | tensor(5.3304, device='cuda:3', grad_fn=&lt;NllLossBackward0&gt;)|\n",
       "|  2   | 70/125  | tensor(5.0167, device='cuda:3', grad_fn=&lt;NllLossBackward0&gt;)|\n",
       "|  2   | 80/125  | tensor(5.8224, device='cuda:3', grad_fn=&lt;NllLossBackward0&gt;)|\n",
       "+-----------------------------------------------------------------------------+\n",
       "</pre>\n"
      ],
      "text/plain": [
       "\u001b[3m                                Training Status                                \u001b[0m\n",
       "+-----------------------------------------------------------------------------+\n",
       "|\u001b[1mEpoch\u001b[0m\u001b[1m \u001b[0m|\u001b[1m \u001b[0m\u001b[1m Steps \u001b[0m\u001b[1m \u001b[0m|\u001b[1m \u001b[0m\u001b[1m                           Loss                            \u001b[0m|\n",
       "|------+---------+------------------------------------------------------------|\n",
       "|  0   |  0/125  | tensor(6.0223, device='cuda:3', grad_fn=<NllLossBackward0>)|\n",
       "|  0   | 10/125  | tensor(5.9450, device='cuda:3', grad_fn=<NllLossBackward0>)|\n",
       "|  0   | 20/125  | tensor(6.1867, device='cuda:3', grad_fn=<NllLossBackward0>)|\n",
       "|  0   | 30/125  | tensor(5.9451, device='cuda:3', grad_fn=<NllLossBackward0>)|\n",
       "|  0   | 40/125  | tensor(6.0357, device='cuda:3', grad_fn=<NllLossBackward0>)|\n",
       "|  0   | 50/125  | tensor(5.6037, device='cuda:3', grad_fn=<NllLossBackward0>)|\n",
       "|  0   | 60/125  | tensor(5.7155, device='cuda:3', grad_fn=<NllLossBackward0>)|\n",
       "|  0   | 70/125  | tensor(6.2216, device='cuda:3', grad_fn=<NllLossBackward0>)|\n",
       "|  0   | 80/125  | tensor(5.9054, device='cuda:3', grad_fn=<NllLossBackward0>)|\n",
       "|  0   | 90/125  | tensor(6.0301, device='cuda:3', grad_fn=<NllLossBackward0>)|\n",
       "|  0   | 100/125 | tensor(5.9282, device='cuda:3', grad_fn=<NllLossBackward0>)|\n",
       "|  0   | 110/125 | tensor(5.4164, device='cuda:3', grad_fn=<NllLossBackward0>)|\n",
       "|  0   | 120/125 | tensor(5.5291, device='cuda:3', grad_fn=<NllLossBackward0>)|\n",
       "|  1   |  0/125  | tensor(5.8595, device='cuda:3', grad_fn=<NllLossBackward0>)|\n",
       "|  1   | 10/125  | tensor(5.8180, device='cuda:3', grad_fn=<NllLossBackward0>)|\n",
       "|  1   | 20/125  | tensor(5.5301, device='cuda:3', grad_fn=<NllLossBackward0>)|\n",
       "|  1   | 30/125  | tensor(5.6330, device='cuda:3', grad_fn=<NllLossBackward0>)|\n",
       "|  1   | 40/125  | tensor(5.7374, device='cuda:3', grad_fn=<NllLossBackward0>)|\n",
       "|  1   | 50/125  | tensor(5.5296, device='cuda:3', grad_fn=<NllLossBackward0>)|\n",
       "|  1   | 60/125  | tensor(5.9385, device='cuda:3', grad_fn=<NllLossBackward0>)|\n",
       "|  1   | 70/125  | tensor(6.2005, device='cuda:3', grad_fn=<NllLossBackward0>)|\n",
       "|  1   | 80/125  | tensor(5.7302, device='cuda:3', grad_fn=<NllLossBackward0>)|\n",
       "|  1   | 90/125  | tensor(5.4282, device='cuda:3', grad_fn=<NllLossBackward0>)|\n",
       "|  1   | 100/125 | tensor(5.1424, device='cuda:3', grad_fn=<NllLossBackward0>)|\n",
       "|  1   | 110/125 | tensor(5.7634, device='cuda:3', grad_fn=<NllLossBackward0>)|\n",
       "|  1   | 120/125 | tensor(5.0087, device='cuda:3', grad_fn=<NllLossBackward0>)|\n",
       "|  2   |  0/125  | tensor(5.2657, device='cuda:3', grad_fn=<NllLossBackward0>)|\n",
       "|  2   | 10/125  | tensor(5.0255, device='cuda:3', grad_fn=<NllLossBackward0>)|\n",
       "|  2   | 20/125  | tensor(5.1562, device='cuda:3', grad_fn=<NllLossBackward0>)|\n",
       "|  2   | 30/125  | tensor(5.3614, device='cuda:3', grad_fn=<NllLossBackward0>)|\n",
       "|  2   | 40/125  | tensor(5.0289, device='cuda:3', grad_fn=<NllLossBackward0>)|\n",
       "|  2   | 50/125  | tensor(5.2895, device='cuda:3', grad_fn=<NllLossBackward0>)|\n",
       "|  2   | 60/125  | tensor(5.3304, device='cuda:3', grad_fn=<NllLossBackward0>)|\n",
       "|  2   | 70/125  | tensor(5.0167, device='cuda:3', grad_fn=<NllLossBackward0>)|\n",
       "|  2   | 80/125  | tensor(5.8224, device='cuda:3', grad_fn=<NllLossBackward0>)|\n",
       "+-----------------------------------------------------------------------------+\n"
      ]
     },
     "metadata": {},
     "output_type": "display_data"
    },
    {
     "name": "stdout",
     "output_type": "stream",
     "text": [
      "STEP:  90 / 125\n"
     ]
    },
    {
     "data": {
      "text/html": [
       "<pre style=\"white-space:pre;overflow-x:auto;line-height:normal;font-family:Menlo,'DejaVu Sans Mono',consolas,'Courier New',monospace\"><span style=\"font-style: italic\">                                Training Status                                </span>\n",
       "+-----------------------------------------------------------------------------+\n",
       "|<span style=\"font-weight: bold\">Epoch </span>|<span style=\"font-weight: bold\">  Steps  </span>|<span style=\"font-weight: bold\">                            Loss                            </span>|\n",
       "|------+---------+------------------------------------------------------------|\n",
       "|  0   |  0/125  | tensor(6.0223, device='cuda:3', grad_fn=&lt;NllLossBackward0&gt;)|\n",
       "|  0   | 10/125  | tensor(5.9450, device='cuda:3', grad_fn=&lt;NllLossBackward0&gt;)|\n",
       "|  0   | 20/125  | tensor(6.1867, device='cuda:3', grad_fn=&lt;NllLossBackward0&gt;)|\n",
       "|  0   | 30/125  | tensor(5.9451, device='cuda:3', grad_fn=&lt;NllLossBackward0&gt;)|\n",
       "|  0   | 40/125  | tensor(6.0357, device='cuda:3', grad_fn=&lt;NllLossBackward0&gt;)|\n",
       "|  0   | 50/125  | tensor(5.6037, device='cuda:3', grad_fn=&lt;NllLossBackward0&gt;)|\n",
       "|  0   | 60/125  | tensor(5.7155, device='cuda:3', grad_fn=&lt;NllLossBackward0&gt;)|\n",
       "|  0   | 70/125  | tensor(6.2216, device='cuda:3', grad_fn=&lt;NllLossBackward0&gt;)|\n",
       "|  0   | 80/125  | tensor(5.9054, device='cuda:3', grad_fn=&lt;NllLossBackward0&gt;)|\n",
       "|  0   | 90/125  | tensor(6.0301, device='cuda:3', grad_fn=&lt;NllLossBackward0&gt;)|\n",
       "|  0   | 100/125 | tensor(5.9282, device='cuda:3', grad_fn=&lt;NllLossBackward0&gt;)|\n",
       "|  0   | 110/125 | tensor(5.4164, device='cuda:3', grad_fn=&lt;NllLossBackward0&gt;)|\n",
       "|  0   | 120/125 | tensor(5.5291, device='cuda:3', grad_fn=&lt;NllLossBackward0&gt;)|\n",
       "|  1   |  0/125  | tensor(5.8595, device='cuda:3', grad_fn=&lt;NllLossBackward0&gt;)|\n",
       "|  1   | 10/125  | tensor(5.8180, device='cuda:3', grad_fn=&lt;NllLossBackward0&gt;)|\n",
       "|  1   | 20/125  | tensor(5.5301, device='cuda:3', grad_fn=&lt;NllLossBackward0&gt;)|\n",
       "|  1   | 30/125  | tensor(5.6330, device='cuda:3', grad_fn=&lt;NllLossBackward0&gt;)|\n",
       "|  1   | 40/125  | tensor(5.7374, device='cuda:3', grad_fn=&lt;NllLossBackward0&gt;)|\n",
       "|  1   | 50/125  | tensor(5.5296, device='cuda:3', grad_fn=&lt;NllLossBackward0&gt;)|\n",
       "|  1   | 60/125  | tensor(5.9385, device='cuda:3', grad_fn=&lt;NllLossBackward0&gt;)|\n",
       "|  1   | 70/125  | tensor(6.2005, device='cuda:3', grad_fn=&lt;NllLossBackward0&gt;)|\n",
       "|  1   | 80/125  | tensor(5.7302, device='cuda:3', grad_fn=&lt;NllLossBackward0&gt;)|\n",
       "|  1   | 90/125  | tensor(5.4282, device='cuda:3', grad_fn=&lt;NllLossBackward0&gt;)|\n",
       "|  1   | 100/125 | tensor(5.1424, device='cuda:3', grad_fn=&lt;NllLossBackward0&gt;)|\n",
       "|  1   | 110/125 | tensor(5.7634, device='cuda:3', grad_fn=&lt;NllLossBackward0&gt;)|\n",
       "|  1   | 120/125 | tensor(5.0087, device='cuda:3', grad_fn=&lt;NllLossBackward0&gt;)|\n",
       "|  2   |  0/125  | tensor(5.2657, device='cuda:3', grad_fn=&lt;NllLossBackward0&gt;)|\n",
       "|  2   | 10/125  | tensor(5.0255, device='cuda:3', grad_fn=&lt;NllLossBackward0&gt;)|\n",
       "|  2   | 20/125  | tensor(5.1562, device='cuda:3', grad_fn=&lt;NllLossBackward0&gt;)|\n",
       "|  2   | 30/125  | tensor(5.3614, device='cuda:3', grad_fn=&lt;NllLossBackward0&gt;)|\n",
       "|  2   | 40/125  | tensor(5.0289, device='cuda:3', grad_fn=&lt;NllLossBackward0&gt;)|\n",
       "|  2   | 50/125  | tensor(5.2895, device='cuda:3', grad_fn=&lt;NllLossBackward0&gt;)|\n",
       "|  2   | 60/125  | tensor(5.3304, device='cuda:3', grad_fn=&lt;NllLossBackward0&gt;)|\n",
       "|  2   | 70/125  | tensor(5.0167, device='cuda:3', grad_fn=&lt;NllLossBackward0&gt;)|\n",
       "|  2   | 80/125  | tensor(5.8224, device='cuda:3', grad_fn=&lt;NllLossBackward0&gt;)|\n",
       "|  2   | 90/125  | tensor(5.0540, device='cuda:3', grad_fn=&lt;NllLossBackward0&gt;)|\n",
       "+-----------------------------------------------------------------------------+\n",
       "</pre>\n"
      ],
      "text/plain": [
       "\u001b[3m                                Training Status                                \u001b[0m\n",
       "+-----------------------------------------------------------------------------+\n",
       "|\u001b[1mEpoch\u001b[0m\u001b[1m \u001b[0m|\u001b[1m \u001b[0m\u001b[1m Steps \u001b[0m\u001b[1m \u001b[0m|\u001b[1m \u001b[0m\u001b[1m                           Loss                            \u001b[0m|\n",
       "|------+---------+------------------------------------------------------------|\n",
       "|  0   |  0/125  | tensor(6.0223, device='cuda:3', grad_fn=<NllLossBackward0>)|\n",
       "|  0   | 10/125  | tensor(5.9450, device='cuda:3', grad_fn=<NllLossBackward0>)|\n",
       "|  0   | 20/125  | tensor(6.1867, device='cuda:3', grad_fn=<NllLossBackward0>)|\n",
       "|  0   | 30/125  | tensor(5.9451, device='cuda:3', grad_fn=<NllLossBackward0>)|\n",
       "|  0   | 40/125  | tensor(6.0357, device='cuda:3', grad_fn=<NllLossBackward0>)|\n",
       "|  0   | 50/125  | tensor(5.6037, device='cuda:3', grad_fn=<NllLossBackward0>)|\n",
       "|  0   | 60/125  | tensor(5.7155, device='cuda:3', grad_fn=<NllLossBackward0>)|\n",
       "|  0   | 70/125  | tensor(6.2216, device='cuda:3', grad_fn=<NllLossBackward0>)|\n",
       "|  0   | 80/125  | tensor(5.9054, device='cuda:3', grad_fn=<NllLossBackward0>)|\n",
       "|  0   | 90/125  | tensor(6.0301, device='cuda:3', grad_fn=<NllLossBackward0>)|\n",
       "|  0   | 100/125 | tensor(5.9282, device='cuda:3', grad_fn=<NllLossBackward0>)|\n",
       "|  0   | 110/125 | tensor(5.4164, device='cuda:3', grad_fn=<NllLossBackward0>)|\n",
       "|  0   | 120/125 | tensor(5.5291, device='cuda:3', grad_fn=<NllLossBackward0>)|\n",
       "|  1   |  0/125  | tensor(5.8595, device='cuda:3', grad_fn=<NllLossBackward0>)|\n",
       "|  1   | 10/125  | tensor(5.8180, device='cuda:3', grad_fn=<NllLossBackward0>)|\n",
       "|  1   | 20/125  | tensor(5.5301, device='cuda:3', grad_fn=<NllLossBackward0>)|\n",
       "|  1   | 30/125  | tensor(5.6330, device='cuda:3', grad_fn=<NllLossBackward0>)|\n",
       "|  1   | 40/125  | tensor(5.7374, device='cuda:3', grad_fn=<NllLossBackward0>)|\n",
       "|  1   | 50/125  | tensor(5.5296, device='cuda:3', grad_fn=<NllLossBackward0>)|\n",
       "|  1   | 60/125  | tensor(5.9385, device='cuda:3', grad_fn=<NllLossBackward0>)|\n",
       "|  1   | 70/125  | tensor(6.2005, device='cuda:3', grad_fn=<NllLossBackward0>)|\n",
       "|  1   | 80/125  | tensor(5.7302, device='cuda:3', grad_fn=<NllLossBackward0>)|\n",
       "|  1   | 90/125  | tensor(5.4282, device='cuda:3', grad_fn=<NllLossBackward0>)|\n",
       "|  1   | 100/125 | tensor(5.1424, device='cuda:3', grad_fn=<NllLossBackward0>)|\n",
       "|  1   | 110/125 | tensor(5.7634, device='cuda:3', grad_fn=<NllLossBackward0>)|\n",
       "|  1   | 120/125 | tensor(5.0087, device='cuda:3', grad_fn=<NllLossBackward0>)|\n",
       "|  2   |  0/125  | tensor(5.2657, device='cuda:3', grad_fn=<NllLossBackward0>)|\n",
       "|  2   | 10/125  | tensor(5.0255, device='cuda:3', grad_fn=<NllLossBackward0>)|\n",
       "|  2   | 20/125  | tensor(5.1562, device='cuda:3', grad_fn=<NllLossBackward0>)|\n",
       "|  2   | 30/125  | tensor(5.3614, device='cuda:3', grad_fn=<NllLossBackward0>)|\n",
       "|  2   | 40/125  | tensor(5.0289, device='cuda:3', grad_fn=<NllLossBackward0>)|\n",
       "|  2   | 50/125  | tensor(5.2895, device='cuda:3', grad_fn=<NllLossBackward0>)|\n",
       "|  2   | 60/125  | tensor(5.3304, device='cuda:3', grad_fn=<NllLossBackward0>)|\n",
       "|  2   | 70/125  | tensor(5.0167, device='cuda:3', grad_fn=<NllLossBackward0>)|\n",
       "|  2   | 80/125  | tensor(5.8224, device='cuda:3', grad_fn=<NllLossBackward0>)|\n",
       "|  2   | 90/125  | tensor(5.0540, device='cuda:3', grad_fn=<NllLossBackward0>)|\n",
       "+-----------------------------------------------------------------------------+\n"
      ]
     },
     "metadata": {},
     "output_type": "display_data"
    },
    {
     "name": "stdout",
     "output_type": "stream",
     "text": [
      "STEP:  100 / 125\n"
     ]
    },
    {
     "data": {
      "text/html": [
       "<pre style=\"white-space:pre;overflow-x:auto;line-height:normal;font-family:Menlo,'DejaVu Sans Mono',consolas,'Courier New',monospace\"><span style=\"font-style: italic\">                                Training Status                                </span>\n",
       "+-----------------------------------------------------------------------------+\n",
       "|<span style=\"font-weight: bold\">Epoch </span>|<span style=\"font-weight: bold\">  Steps  </span>|<span style=\"font-weight: bold\">                            Loss                            </span>|\n",
       "|------+---------+------------------------------------------------------------|\n",
       "|  0   |  0/125  | tensor(6.0223, device='cuda:3', grad_fn=&lt;NllLossBackward0&gt;)|\n",
       "|  0   | 10/125  | tensor(5.9450, device='cuda:3', grad_fn=&lt;NllLossBackward0&gt;)|\n",
       "|  0   | 20/125  | tensor(6.1867, device='cuda:3', grad_fn=&lt;NllLossBackward0&gt;)|\n",
       "|  0   | 30/125  | tensor(5.9451, device='cuda:3', grad_fn=&lt;NllLossBackward0&gt;)|\n",
       "|  0   | 40/125  | tensor(6.0357, device='cuda:3', grad_fn=&lt;NllLossBackward0&gt;)|\n",
       "|  0   | 50/125  | tensor(5.6037, device='cuda:3', grad_fn=&lt;NllLossBackward0&gt;)|\n",
       "|  0   | 60/125  | tensor(5.7155, device='cuda:3', grad_fn=&lt;NllLossBackward0&gt;)|\n",
       "|  0   | 70/125  | tensor(6.2216, device='cuda:3', grad_fn=&lt;NllLossBackward0&gt;)|\n",
       "|  0   | 80/125  | tensor(5.9054, device='cuda:3', grad_fn=&lt;NllLossBackward0&gt;)|\n",
       "|  0   | 90/125  | tensor(6.0301, device='cuda:3', grad_fn=&lt;NllLossBackward0&gt;)|\n",
       "|  0   | 100/125 | tensor(5.9282, device='cuda:3', grad_fn=&lt;NllLossBackward0&gt;)|\n",
       "|  0   | 110/125 | tensor(5.4164, device='cuda:3', grad_fn=&lt;NllLossBackward0&gt;)|\n",
       "|  0   | 120/125 | tensor(5.5291, device='cuda:3', grad_fn=&lt;NllLossBackward0&gt;)|\n",
       "|  1   |  0/125  | tensor(5.8595, device='cuda:3', grad_fn=&lt;NllLossBackward0&gt;)|\n",
       "|  1   | 10/125  | tensor(5.8180, device='cuda:3', grad_fn=&lt;NllLossBackward0&gt;)|\n",
       "|  1   | 20/125  | tensor(5.5301, device='cuda:3', grad_fn=&lt;NllLossBackward0&gt;)|\n",
       "|  1   | 30/125  | tensor(5.6330, device='cuda:3', grad_fn=&lt;NllLossBackward0&gt;)|\n",
       "|  1   | 40/125  | tensor(5.7374, device='cuda:3', grad_fn=&lt;NllLossBackward0&gt;)|\n",
       "|  1   | 50/125  | tensor(5.5296, device='cuda:3', grad_fn=&lt;NllLossBackward0&gt;)|\n",
       "|  1   | 60/125  | tensor(5.9385, device='cuda:3', grad_fn=&lt;NllLossBackward0&gt;)|\n",
       "|  1   | 70/125  | tensor(6.2005, device='cuda:3', grad_fn=&lt;NllLossBackward0&gt;)|\n",
       "|  1   | 80/125  | tensor(5.7302, device='cuda:3', grad_fn=&lt;NllLossBackward0&gt;)|\n",
       "|  1   | 90/125  | tensor(5.4282, device='cuda:3', grad_fn=&lt;NllLossBackward0&gt;)|\n",
       "|  1   | 100/125 | tensor(5.1424, device='cuda:3', grad_fn=&lt;NllLossBackward0&gt;)|\n",
       "|  1   | 110/125 | tensor(5.7634, device='cuda:3', grad_fn=&lt;NllLossBackward0&gt;)|\n",
       "|  1   | 120/125 | tensor(5.0087, device='cuda:3', grad_fn=&lt;NllLossBackward0&gt;)|\n",
       "|  2   |  0/125  | tensor(5.2657, device='cuda:3', grad_fn=&lt;NllLossBackward0&gt;)|\n",
       "|  2   | 10/125  | tensor(5.0255, device='cuda:3', grad_fn=&lt;NllLossBackward0&gt;)|\n",
       "|  2   | 20/125  | tensor(5.1562, device='cuda:3', grad_fn=&lt;NllLossBackward0&gt;)|\n",
       "|  2   | 30/125  | tensor(5.3614, device='cuda:3', grad_fn=&lt;NllLossBackward0&gt;)|\n",
       "|  2   | 40/125  | tensor(5.0289, device='cuda:3', grad_fn=&lt;NllLossBackward0&gt;)|\n",
       "|  2   | 50/125  | tensor(5.2895, device='cuda:3', grad_fn=&lt;NllLossBackward0&gt;)|\n",
       "|  2   | 60/125  | tensor(5.3304, device='cuda:3', grad_fn=&lt;NllLossBackward0&gt;)|\n",
       "|  2   | 70/125  | tensor(5.0167, device='cuda:3', grad_fn=&lt;NllLossBackward0&gt;)|\n",
       "|  2   | 80/125  | tensor(5.8224, device='cuda:3', grad_fn=&lt;NllLossBackward0&gt;)|\n",
       "|  2   | 90/125  | tensor(5.0540, device='cuda:3', grad_fn=&lt;NllLossBackward0&gt;)|\n",
       "|  2   | 100/125 | tensor(4.9125, device='cuda:3', grad_fn=&lt;NllLossBackward0&gt;)|\n",
       "+-----------------------------------------------------------------------------+\n",
       "</pre>\n"
      ],
      "text/plain": [
       "\u001b[3m                                Training Status                                \u001b[0m\n",
       "+-----------------------------------------------------------------------------+\n",
       "|\u001b[1mEpoch\u001b[0m\u001b[1m \u001b[0m|\u001b[1m \u001b[0m\u001b[1m Steps \u001b[0m\u001b[1m \u001b[0m|\u001b[1m \u001b[0m\u001b[1m                           Loss                            \u001b[0m|\n",
       "|------+---------+------------------------------------------------------------|\n",
       "|  0   |  0/125  | tensor(6.0223, device='cuda:3', grad_fn=<NllLossBackward0>)|\n",
       "|  0   | 10/125  | tensor(5.9450, device='cuda:3', grad_fn=<NllLossBackward0>)|\n",
       "|  0   | 20/125  | tensor(6.1867, device='cuda:3', grad_fn=<NllLossBackward0>)|\n",
       "|  0   | 30/125  | tensor(5.9451, device='cuda:3', grad_fn=<NllLossBackward0>)|\n",
       "|  0   | 40/125  | tensor(6.0357, device='cuda:3', grad_fn=<NllLossBackward0>)|\n",
       "|  0   | 50/125  | tensor(5.6037, device='cuda:3', grad_fn=<NllLossBackward0>)|\n",
       "|  0   | 60/125  | tensor(5.7155, device='cuda:3', grad_fn=<NllLossBackward0>)|\n",
       "|  0   | 70/125  | tensor(6.2216, device='cuda:3', grad_fn=<NllLossBackward0>)|\n",
       "|  0   | 80/125  | tensor(5.9054, device='cuda:3', grad_fn=<NllLossBackward0>)|\n",
       "|  0   | 90/125  | tensor(6.0301, device='cuda:3', grad_fn=<NllLossBackward0>)|\n",
       "|  0   | 100/125 | tensor(5.9282, device='cuda:3', grad_fn=<NllLossBackward0>)|\n",
       "|  0   | 110/125 | tensor(5.4164, device='cuda:3', grad_fn=<NllLossBackward0>)|\n",
       "|  0   | 120/125 | tensor(5.5291, device='cuda:3', grad_fn=<NllLossBackward0>)|\n",
       "|  1   |  0/125  | tensor(5.8595, device='cuda:3', grad_fn=<NllLossBackward0>)|\n",
       "|  1   | 10/125  | tensor(5.8180, device='cuda:3', grad_fn=<NllLossBackward0>)|\n",
       "|  1   | 20/125  | tensor(5.5301, device='cuda:3', grad_fn=<NllLossBackward0>)|\n",
       "|  1   | 30/125  | tensor(5.6330, device='cuda:3', grad_fn=<NllLossBackward0>)|\n",
       "|  1   | 40/125  | tensor(5.7374, device='cuda:3', grad_fn=<NllLossBackward0>)|\n",
       "|  1   | 50/125  | tensor(5.5296, device='cuda:3', grad_fn=<NllLossBackward0>)|\n",
       "|  1   | 60/125  | tensor(5.9385, device='cuda:3', grad_fn=<NllLossBackward0>)|\n",
       "|  1   | 70/125  | tensor(6.2005, device='cuda:3', grad_fn=<NllLossBackward0>)|\n",
       "|  1   | 80/125  | tensor(5.7302, device='cuda:3', grad_fn=<NllLossBackward0>)|\n",
       "|  1   | 90/125  | tensor(5.4282, device='cuda:3', grad_fn=<NllLossBackward0>)|\n",
       "|  1   | 100/125 | tensor(5.1424, device='cuda:3', grad_fn=<NllLossBackward0>)|\n",
       "|  1   | 110/125 | tensor(5.7634, device='cuda:3', grad_fn=<NllLossBackward0>)|\n",
       "|  1   | 120/125 | tensor(5.0087, device='cuda:3', grad_fn=<NllLossBackward0>)|\n",
       "|  2   |  0/125  | tensor(5.2657, device='cuda:3', grad_fn=<NllLossBackward0>)|\n",
       "|  2   | 10/125  | tensor(5.0255, device='cuda:3', grad_fn=<NllLossBackward0>)|\n",
       "|  2   | 20/125  | tensor(5.1562, device='cuda:3', grad_fn=<NllLossBackward0>)|\n",
       "|  2   | 30/125  | tensor(5.3614, device='cuda:3', grad_fn=<NllLossBackward0>)|\n",
       "|  2   | 40/125  | tensor(5.0289, device='cuda:3', grad_fn=<NllLossBackward0>)|\n",
       "|  2   | 50/125  | tensor(5.2895, device='cuda:3', grad_fn=<NllLossBackward0>)|\n",
       "|  2   | 60/125  | tensor(5.3304, device='cuda:3', grad_fn=<NllLossBackward0>)|\n",
       "|  2   | 70/125  | tensor(5.0167, device='cuda:3', grad_fn=<NllLossBackward0>)|\n",
       "|  2   | 80/125  | tensor(5.8224, device='cuda:3', grad_fn=<NllLossBackward0>)|\n",
       "|  2   | 90/125  | tensor(5.0540, device='cuda:3', grad_fn=<NllLossBackward0>)|\n",
       "|  2   | 100/125 | tensor(4.9125, device='cuda:3', grad_fn=<NllLossBackward0>)|\n",
       "+-----------------------------------------------------------------------------+\n"
      ]
     },
     "metadata": {},
     "output_type": "display_data"
    },
    {
     "name": "stdout",
     "output_type": "stream",
     "text": [
      "STEP:  110 / 125\n"
     ]
    },
    {
     "data": {
      "text/html": [
       "<pre style=\"white-space:pre;overflow-x:auto;line-height:normal;font-family:Menlo,'DejaVu Sans Mono',consolas,'Courier New',monospace\"><span style=\"font-style: italic\">                                Training Status                                </span>\n",
       "+-----------------------------------------------------------------------------+\n",
       "|<span style=\"font-weight: bold\">Epoch </span>|<span style=\"font-weight: bold\">  Steps  </span>|<span style=\"font-weight: bold\">                            Loss                            </span>|\n",
       "|------+---------+------------------------------------------------------------|\n",
       "|  0   |  0/125  | tensor(6.0223, device='cuda:3', grad_fn=&lt;NllLossBackward0&gt;)|\n",
       "|  0   | 10/125  | tensor(5.9450, device='cuda:3', grad_fn=&lt;NllLossBackward0&gt;)|\n",
       "|  0   | 20/125  | tensor(6.1867, device='cuda:3', grad_fn=&lt;NllLossBackward0&gt;)|\n",
       "|  0   | 30/125  | tensor(5.9451, device='cuda:3', grad_fn=&lt;NllLossBackward0&gt;)|\n",
       "|  0   | 40/125  | tensor(6.0357, device='cuda:3', grad_fn=&lt;NllLossBackward0&gt;)|\n",
       "|  0   | 50/125  | tensor(5.6037, device='cuda:3', grad_fn=&lt;NllLossBackward0&gt;)|\n",
       "|  0   | 60/125  | tensor(5.7155, device='cuda:3', grad_fn=&lt;NllLossBackward0&gt;)|\n",
       "|  0   | 70/125  | tensor(6.2216, device='cuda:3', grad_fn=&lt;NllLossBackward0&gt;)|\n",
       "|  0   | 80/125  | tensor(5.9054, device='cuda:3', grad_fn=&lt;NllLossBackward0&gt;)|\n",
       "|  0   | 90/125  | tensor(6.0301, device='cuda:3', grad_fn=&lt;NllLossBackward0&gt;)|\n",
       "|  0   | 100/125 | tensor(5.9282, device='cuda:3', grad_fn=&lt;NllLossBackward0&gt;)|\n",
       "|  0   | 110/125 | tensor(5.4164, device='cuda:3', grad_fn=&lt;NllLossBackward0&gt;)|\n",
       "|  0   | 120/125 | tensor(5.5291, device='cuda:3', grad_fn=&lt;NllLossBackward0&gt;)|\n",
       "|  1   |  0/125  | tensor(5.8595, device='cuda:3', grad_fn=&lt;NllLossBackward0&gt;)|\n",
       "|  1   | 10/125  | tensor(5.8180, device='cuda:3', grad_fn=&lt;NllLossBackward0&gt;)|\n",
       "|  1   | 20/125  | tensor(5.5301, device='cuda:3', grad_fn=&lt;NllLossBackward0&gt;)|\n",
       "|  1   | 30/125  | tensor(5.6330, device='cuda:3', grad_fn=&lt;NllLossBackward0&gt;)|\n",
       "|  1   | 40/125  | tensor(5.7374, device='cuda:3', grad_fn=&lt;NllLossBackward0&gt;)|\n",
       "|  1   | 50/125  | tensor(5.5296, device='cuda:3', grad_fn=&lt;NllLossBackward0&gt;)|\n",
       "|  1   | 60/125  | tensor(5.9385, device='cuda:3', grad_fn=&lt;NllLossBackward0&gt;)|\n",
       "|  1   | 70/125  | tensor(6.2005, device='cuda:3', grad_fn=&lt;NllLossBackward0&gt;)|\n",
       "|  1   | 80/125  | tensor(5.7302, device='cuda:3', grad_fn=&lt;NllLossBackward0&gt;)|\n",
       "|  1   | 90/125  | tensor(5.4282, device='cuda:3', grad_fn=&lt;NllLossBackward0&gt;)|\n",
       "|  1   | 100/125 | tensor(5.1424, device='cuda:3', grad_fn=&lt;NllLossBackward0&gt;)|\n",
       "|  1   | 110/125 | tensor(5.7634, device='cuda:3', grad_fn=&lt;NllLossBackward0&gt;)|\n",
       "|  1   | 120/125 | tensor(5.0087, device='cuda:3', grad_fn=&lt;NllLossBackward0&gt;)|\n",
       "|  2   |  0/125  | tensor(5.2657, device='cuda:3', grad_fn=&lt;NllLossBackward0&gt;)|\n",
       "|  2   | 10/125  | tensor(5.0255, device='cuda:3', grad_fn=&lt;NllLossBackward0&gt;)|\n",
       "|  2   | 20/125  | tensor(5.1562, device='cuda:3', grad_fn=&lt;NllLossBackward0&gt;)|\n",
       "|  2   | 30/125  | tensor(5.3614, device='cuda:3', grad_fn=&lt;NllLossBackward0&gt;)|\n",
       "|  2   | 40/125  | tensor(5.0289, device='cuda:3', grad_fn=&lt;NllLossBackward0&gt;)|\n",
       "|  2   | 50/125  | tensor(5.2895, device='cuda:3', grad_fn=&lt;NllLossBackward0&gt;)|\n",
       "|  2   | 60/125  | tensor(5.3304, device='cuda:3', grad_fn=&lt;NllLossBackward0&gt;)|\n",
       "|  2   | 70/125  | tensor(5.0167, device='cuda:3', grad_fn=&lt;NllLossBackward0&gt;)|\n",
       "|  2   | 80/125  | tensor(5.8224, device='cuda:3', grad_fn=&lt;NllLossBackward0&gt;)|\n",
       "|  2   | 90/125  | tensor(5.0540, device='cuda:3', grad_fn=&lt;NllLossBackward0&gt;)|\n",
       "|  2   | 100/125 | tensor(4.9125, device='cuda:3', grad_fn=&lt;NllLossBackward0&gt;)|\n",
       "|  2   | 110/125 | tensor(5.3468, device='cuda:3', grad_fn=&lt;NllLossBackward0&gt;)|\n",
       "+-----------------------------------------------------------------------------+\n",
       "</pre>\n"
      ],
      "text/plain": [
       "\u001b[3m                                Training Status                                \u001b[0m\n",
       "+-----------------------------------------------------------------------------+\n",
       "|\u001b[1mEpoch\u001b[0m\u001b[1m \u001b[0m|\u001b[1m \u001b[0m\u001b[1m Steps \u001b[0m\u001b[1m \u001b[0m|\u001b[1m \u001b[0m\u001b[1m                           Loss                            \u001b[0m|\n",
       "|------+---------+------------------------------------------------------------|\n",
       "|  0   |  0/125  | tensor(6.0223, device='cuda:3', grad_fn=<NllLossBackward0>)|\n",
       "|  0   | 10/125  | tensor(5.9450, device='cuda:3', grad_fn=<NllLossBackward0>)|\n",
       "|  0   | 20/125  | tensor(6.1867, device='cuda:3', grad_fn=<NllLossBackward0>)|\n",
       "|  0   | 30/125  | tensor(5.9451, device='cuda:3', grad_fn=<NllLossBackward0>)|\n",
       "|  0   | 40/125  | tensor(6.0357, device='cuda:3', grad_fn=<NllLossBackward0>)|\n",
       "|  0   | 50/125  | tensor(5.6037, device='cuda:3', grad_fn=<NllLossBackward0>)|\n",
       "|  0   | 60/125  | tensor(5.7155, device='cuda:3', grad_fn=<NllLossBackward0>)|\n",
       "|  0   | 70/125  | tensor(6.2216, device='cuda:3', grad_fn=<NllLossBackward0>)|\n",
       "|  0   | 80/125  | tensor(5.9054, device='cuda:3', grad_fn=<NllLossBackward0>)|\n",
       "|  0   | 90/125  | tensor(6.0301, device='cuda:3', grad_fn=<NllLossBackward0>)|\n",
       "|  0   | 100/125 | tensor(5.9282, device='cuda:3', grad_fn=<NllLossBackward0>)|\n",
       "|  0   | 110/125 | tensor(5.4164, device='cuda:3', grad_fn=<NllLossBackward0>)|\n",
       "|  0   | 120/125 | tensor(5.5291, device='cuda:3', grad_fn=<NllLossBackward0>)|\n",
       "|  1   |  0/125  | tensor(5.8595, device='cuda:3', grad_fn=<NllLossBackward0>)|\n",
       "|  1   | 10/125  | tensor(5.8180, device='cuda:3', grad_fn=<NllLossBackward0>)|\n",
       "|  1   | 20/125  | tensor(5.5301, device='cuda:3', grad_fn=<NllLossBackward0>)|\n",
       "|  1   | 30/125  | tensor(5.6330, device='cuda:3', grad_fn=<NllLossBackward0>)|\n",
       "|  1   | 40/125  | tensor(5.7374, device='cuda:3', grad_fn=<NllLossBackward0>)|\n",
       "|  1   | 50/125  | tensor(5.5296, device='cuda:3', grad_fn=<NllLossBackward0>)|\n",
       "|  1   | 60/125  | tensor(5.9385, device='cuda:3', grad_fn=<NllLossBackward0>)|\n",
       "|  1   | 70/125  | tensor(6.2005, device='cuda:3', grad_fn=<NllLossBackward0>)|\n",
       "|  1   | 80/125  | tensor(5.7302, device='cuda:3', grad_fn=<NllLossBackward0>)|\n",
       "|  1   | 90/125  | tensor(5.4282, device='cuda:3', grad_fn=<NllLossBackward0>)|\n",
       "|  1   | 100/125 | tensor(5.1424, device='cuda:3', grad_fn=<NllLossBackward0>)|\n",
       "|  1   | 110/125 | tensor(5.7634, device='cuda:3', grad_fn=<NllLossBackward0>)|\n",
       "|  1   | 120/125 | tensor(5.0087, device='cuda:3', grad_fn=<NllLossBackward0>)|\n",
       "|  2   |  0/125  | tensor(5.2657, device='cuda:3', grad_fn=<NllLossBackward0>)|\n",
       "|  2   | 10/125  | tensor(5.0255, device='cuda:3', grad_fn=<NllLossBackward0>)|\n",
       "|  2   | 20/125  | tensor(5.1562, device='cuda:3', grad_fn=<NllLossBackward0>)|\n",
       "|  2   | 30/125  | tensor(5.3614, device='cuda:3', grad_fn=<NllLossBackward0>)|\n",
       "|  2   | 40/125  | tensor(5.0289, device='cuda:3', grad_fn=<NllLossBackward0>)|\n",
       "|  2   | 50/125  | tensor(5.2895, device='cuda:3', grad_fn=<NllLossBackward0>)|\n",
       "|  2   | 60/125  | tensor(5.3304, device='cuda:3', grad_fn=<NllLossBackward0>)|\n",
       "|  2   | 70/125  | tensor(5.0167, device='cuda:3', grad_fn=<NllLossBackward0>)|\n",
       "|  2   | 80/125  | tensor(5.8224, device='cuda:3', grad_fn=<NllLossBackward0>)|\n",
       "|  2   | 90/125  | tensor(5.0540, device='cuda:3', grad_fn=<NllLossBackward0>)|\n",
       "|  2   | 100/125 | tensor(4.9125, device='cuda:3', grad_fn=<NllLossBackward0>)|\n",
       "|  2   | 110/125 | tensor(5.3468, device='cuda:3', grad_fn=<NllLossBackward0>)|\n",
       "+-----------------------------------------------------------------------------+\n"
      ]
     },
     "metadata": {},
     "output_type": "display_data"
    },
    {
     "name": "stdout",
     "output_type": "stream",
     "text": [
      "STEP:  120 / 125\n"
     ]
    },
    {
     "data": {
      "text/html": [
       "<pre style=\"white-space:pre;overflow-x:auto;line-height:normal;font-family:Menlo,'DejaVu Sans Mono',consolas,'Courier New',monospace\"><span style=\"font-style: italic\">                                Training Status                                </span>\n",
       "+-----------------------------------------------------------------------------+\n",
       "|<span style=\"font-weight: bold\">Epoch </span>|<span style=\"font-weight: bold\">  Steps  </span>|<span style=\"font-weight: bold\">                            Loss                            </span>|\n",
       "|------+---------+------------------------------------------------------------|\n",
       "|  0   |  0/125  | tensor(6.0223, device='cuda:3', grad_fn=&lt;NllLossBackward0&gt;)|\n",
       "|  0   | 10/125  | tensor(5.9450, device='cuda:3', grad_fn=&lt;NllLossBackward0&gt;)|\n",
       "|  0   | 20/125  | tensor(6.1867, device='cuda:3', grad_fn=&lt;NllLossBackward0&gt;)|\n",
       "|  0   | 30/125  | tensor(5.9451, device='cuda:3', grad_fn=&lt;NllLossBackward0&gt;)|\n",
       "|  0   | 40/125  | tensor(6.0357, device='cuda:3', grad_fn=&lt;NllLossBackward0&gt;)|\n",
       "|  0   | 50/125  | tensor(5.6037, device='cuda:3', grad_fn=&lt;NllLossBackward0&gt;)|\n",
       "|  0   | 60/125  | tensor(5.7155, device='cuda:3', grad_fn=&lt;NllLossBackward0&gt;)|\n",
       "|  0   | 70/125  | tensor(6.2216, device='cuda:3', grad_fn=&lt;NllLossBackward0&gt;)|\n",
       "|  0   | 80/125  | tensor(5.9054, device='cuda:3', grad_fn=&lt;NllLossBackward0&gt;)|\n",
       "|  0   | 90/125  | tensor(6.0301, device='cuda:3', grad_fn=&lt;NllLossBackward0&gt;)|\n",
       "|  0   | 100/125 | tensor(5.9282, device='cuda:3', grad_fn=&lt;NllLossBackward0&gt;)|\n",
       "|  0   | 110/125 | tensor(5.4164, device='cuda:3', grad_fn=&lt;NllLossBackward0&gt;)|\n",
       "|  0   | 120/125 | tensor(5.5291, device='cuda:3', grad_fn=&lt;NllLossBackward0&gt;)|\n",
       "|  1   |  0/125  | tensor(5.8595, device='cuda:3', grad_fn=&lt;NllLossBackward0&gt;)|\n",
       "|  1   | 10/125  | tensor(5.8180, device='cuda:3', grad_fn=&lt;NllLossBackward0&gt;)|\n",
       "|  1   | 20/125  | tensor(5.5301, device='cuda:3', grad_fn=&lt;NllLossBackward0&gt;)|\n",
       "|  1   | 30/125  | tensor(5.6330, device='cuda:3', grad_fn=&lt;NllLossBackward0&gt;)|\n",
       "|  1   | 40/125  | tensor(5.7374, device='cuda:3', grad_fn=&lt;NllLossBackward0&gt;)|\n",
       "|  1   | 50/125  | tensor(5.5296, device='cuda:3', grad_fn=&lt;NllLossBackward0&gt;)|\n",
       "|  1   | 60/125  | tensor(5.9385, device='cuda:3', grad_fn=&lt;NllLossBackward0&gt;)|\n",
       "|  1   | 70/125  | tensor(6.2005, device='cuda:3', grad_fn=&lt;NllLossBackward0&gt;)|\n",
       "|  1   | 80/125  | tensor(5.7302, device='cuda:3', grad_fn=&lt;NllLossBackward0&gt;)|\n",
       "|  1   | 90/125  | tensor(5.4282, device='cuda:3', grad_fn=&lt;NllLossBackward0&gt;)|\n",
       "|  1   | 100/125 | tensor(5.1424, device='cuda:3', grad_fn=&lt;NllLossBackward0&gt;)|\n",
       "|  1   | 110/125 | tensor(5.7634, device='cuda:3', grad_fn=&lt;NllLossBackward0&gt;)|\n",
       "|  1   | 120/125 | tensor(5.0087, device='cuda:3', grad_fn=&lt;NllLossBackward0&gt;)|\n",
       "|  2   |  0/125  | tensor(5.2657, device='cuda:3', grad_fn=&lt;NllLossBackward0&gt;)|\n",
       "|  2   | 10/125  | tensor(5.0255, device='cuda:3', grad_fn=&lt;NllLossBackward0&gt;)|\n",
       "|  2   | 20/125  | tensor(5.1562, device='cuda:3', grad_fn=&lt;NllLossBackward0&gt;)|\n",
       "|  2   | 30/125  | tensor(5.3614, device='cuda:3', grad_fn=&lt;NllLossBackward0&gt;)|\n",
       "|  2   | 40/125  | tensor(5.0289, device='cuda:3', grad_fn=&lt;NllLossBackward0&gt;)|\n",
       "|  2   | 50/125  | tensor(5.2895, device='cuda:3', grad_fn=&lt;NllLossBackward0&gt;)|\n",
       "|  2   | 60/125  | tensor(5.3304, device='cuda:3', grad_fn=&lt;NllLossBackward0&gt;)|\n",
       "|  2   | 70/125  | tensor(5.0167, device='cuda:3', grad_fn=&lt;NllLossBackward0&gt;)|\n",
       "|  2   | 80/125  | tensor(5.8224, device='cuda:3', grad_fn=&lt;NllLossBackward0&gt;)|\n",
       "|  2   | 90/125  | tensor(5.0540, device='cuda:3', grad_fn=&lt;NllLossBackward0&gt;)|\n",
       "|  2   | 100/125 | tensor(4.9125, device='cuda:3', grad_fn=&lt;NllLossBackward0&gt;)|\n",
       "|  2   | 110/125 | tensor(5.3468, device='cuda:3', grad_fn=&lt;NllLossBackward0&gt;)|\n",
       "|  2   | 120/125 | tensor(4.9986, device='cuda:3', grad_fn=&lt;NllLossBackward0&gt;)|\n",
       "+-----------------------------------------------------------------------------+\n",
       "</pre>\n"
      ],
      "text/plain": [
       "\u001b[3m                                Training Status                                \u001b[0m\n",
       "+-----------------------------------------------------------------------------+\n",
       "|\u001b[1mEpoch\u001b[0m\u001b[1m \u001b[0m|\u001b[1m \u001b[0m\u001b[1m Steps \u001b[0m\u001b[1m \u001b[0m|\u001b[1m \u001b[0m\u001b[1m                           Loss                            \u001b[0m|\n",
       "|------+---------+------------------------------------------------------------|\n",
       "|  0   |  0/125  | tensor(6.0223, device='cuda:3', grad_fn=<NllLossBackward0>)|\n",
       "|  0   | 10/125  | tensor(5.9450, device='cuda:3', grad_fn=<NllLossBackward0>)|\n",
       "|  0   | 20/125  | tensor(6.1867, device='cuda:3', grad_fn=<NllLossBackward0>)|\n",
       "|  0   | 30/125  | tensor(5.9451, device='cuda:3', grad_fn=<NllLossBackward0>)|\n",
       "|  0   | 40/125  | tensor(6.0357, device='cuda:3', grad_fn=<NllLossBackward0>)|\n",
       "|  0   | 50/125  | tensor(5.6037, device='cuda:3', grad_fn=<NllLossBackward0>)|\n",
       "|  0   | 60/125  | tensor(5.7155, device='cuda:3', grad_fn=<NllLossBackward0>)|\n",
       "|  0   | 70/125  | tensor(6.2216, device='cuda:3', grad_fn=<NllLossBackward0>)|\n",
       "|  0   | 80/125  | tensor(5.9054, device='cuda:3', grad_fn=<NllLossBackward0>)|\n",
       "|  0   | 90/125  | tensor(6.0301, device='cuda:3', grad_fn=<NllLossBackward0>)|\n",
       "|  0   | 100/125 | tensor(5.9282, device='cuda:3', grad_fn=<NllLossBackward0>)|\n",
       "|  0   | 110/125 | tensor(5.4164, device='cuda:3', grad_fn=<NllLossBackward0>)|\n",
       "|  0   | 120/125 | tensor(5.5291, device='cuda:3', grad_fn=<NllLossBackward0>)|\n",
       "|  1   |  0/125  | tensor(5.8595, device='cuda:3', grad_fn=<NllLossBackward0>)|\n",
       "|  1   | 10/125  | tensor(5.8180, device='cuda:3', grad_fn=<NllLossBackward0>)|\n",
       "|  1   | 20/125  | tensor(5.5301, device='cuda:3', grad_fn=<NllLossBackward0>)|\n",
       "|  1   | 30/125  | tensor(5.6330, device='cuda:3', grad_fn=<NllLossBackward0>)|\n",
       "|  1   | 40/125  | tensor(5.7374, device='cuda:3', grad_fn=<NllLossBackward0>)|\n",
       "|  1   | 50/125  | tensor(5.5296, device='cuda:3', grad_fn=<NllLossBackward0>)|\n",
       "|  1   | 60/125  | tensor(5.9385, device='cuda:3', grad_fn=<NllLossBackward0>)|\n",
       "|  1   | 70/125  | tensor(6.2005, device='cuda:3', grad_fn=<NllLossBackward0>)|\n",
       "|  1   | 80/125  | tensor(5.7302, device='cuda:3', grad_fn=<NllLossBackward0>)|\n",
       "|  1   | 90/125  | tensor(5.4282, device='cuda:3', grad_fn=<NllLossBackward0>)|\n",
       "|  1   | 100/125 | tensor(5.1424, device='cuda:3', grad_fn=<NllLossBackward0>)|\n",
       "|  1   | 110/125 | tensor(5.7634, device='cuda:3', grad_fn=<NllLossBackward0>)|\n",
       "|  1   | 120/125 | tensor(5.0087, device='cuda:3', grad_fn=<NllLossBackward0>)|\n",
       "|  2   |  0/125  | tensor(5.2657, device='cuda:3', grad_fn=<NllLossBackward0>)|\n",
       "|  2   | 10/125  | tensor(5.0255, device='cuda:3', grad_fn=<NllLossBackward0>)|\n",
       "|  2   | 20/125  | tensor(5.1562, device='cuda:3', grad_fn=<NllLossBackward0>)|\n",
       "|  2   | 30/125  | tensor(5.3614, device='cuda:3', grad_fn=<NllLossBackward0>)|\n",
       "|  2   | 40/125  | tensor(5.0289, device='cuda:3', grad_fn=<NllLossBackward0>)|\n",
       "|  2   | 50/125  | tensor(5.2895, device='cuda:3', grad_fn=<NllLossBackward0>)|\n",
       "|  2   | 60/125  | tensor(5.3304, device='cuda:3', grad_fn=<NllLossBackward0>)|\n",
       "|  2   | 70/125  | tensor(5.0167, device='cuda:3', grad_fn=<NllLossBackward0>)|\n",
       "|  2   | 80/125  | tensor(5.8224, device='cuda:3', grad_fn=<NllLossBackward0>)|\n",
       "|  2   | 90/125  | tensor(5.0540, device='cuda:3', grad_fn=<NllLossBackward0>)|\n",
       "|  2   | 100/125 | tensor(4.9125, device='cuda:3', grad_fn=<NllLossBackward0>)|\n",
       "|  2   | 110/125 | tensor(5.3468, device='cuda:3', grad_fn=<NllLossBackward0>)|\n",
       "|  2   | 120/125 | tensor(4.9986, device='cuda:3', grad_fn=<NllLossBackward0>)|\n",
       "+-----------------------------------------------------------------------------+\n"
      ]
     },
     "metadata": {},
     "output_type": "display_data"
    },
    {
     "data": {
      "text/html": [
       "<pre style=\"white-space:pre;overflow-x:auto;line-height:normal;font-family:Menlo,'DejaVu Sans Mono',consolas,'Courier New',monospace\">Completed <span style=\"color: #008080; text-decoration-color: #008080; font-weight: bold\">0</span>\n",
       "</pre>\n"
      ],
      "text/plain": [
       "Completed \u001b[1;36m0\u001b[0m\n"
      ]
     },
     "metadata": {},
     "output_type": "display_data"
    },
    {
     "data": {
      "text/html": [
       "<pre style=\"white-space:pre;overflow-x:auto;line-height:normal;font-family:Menlo,'DejaVu Sans Mono',consolas,'Courier New',monospace\">Completed <span style=\"color: #008080; text-decoration-color: #008080; font-weight: bold\">10</span>\n",
       "</pre>\n"
      ],
      "text/plain": [
       "Completed \u001b[1;36m10\u001b[0m\n"
      ]
     },
     "metadata": {},
     "output_type": "display_data"
    },
    {
     "data": {
      "text/html": [
       "<pre style=\"white-space:pre;overflow-x:auto;line-height:normal;font-family:Menlo,'DejaVu Sans Mono',consolas,'Courier New',monospace\">Completed <span style=\"color: #008080; text-decoration-color: #008080; font-weight: bold\">20</span>\n",
       "</pre>\n"
      ],
      "text/plain": [
       "Completed \u001b[1;36m20\u001b[0m\n"
      ]
     },
     "metadata": {},
     "output_type": "display_data"
    },
    {
     "data": {
      "text/html": [
       "<pre style=\"white-space:pre;overflow-x:auto;line-height:normal;font-family:Menlo,'DejaVu Sans Mono',consolas,'Courier New',monospace\">Completed <span style=\"color: #008080; text-decoration-color: #008080; font-weight: bold\">30</span>\n",
       "</pre>\n"
      ],
      "text/plain": [
       "Completed \u001b[1;36m30\u001b[0m\n"
      ]
     },
     "metadata": {},
     "output_type": "display_data"
    },
    {
     "data": {
      "text/html": [
       "<pre style=\"white-space:pre;overflow-x:auto;line-height:normal;font-family:Menlo,'DejaVu Sans Mono',consolas,'Courier New',monospace\">Completed <span style=\"color: #008080; text-decoration-color: #008080; font-weight: bold\">40</span>\n",
       "</pre>\n"
      ],
      "text/plain": [
       "Completed \u001b[1;36m40\u001b[0m\n"
      ]
     },
     "metadata": {},
     "output_type": "display_data"
    },
    {
     "data": {
      "text/html": [
       "<pre style=\"white-space:pre;overflow-x:auto;line-height:normal;font-family:Menlo,'DejaVu Sans Mono',consolas,'Courier New',monospace\">Completed <span style=\"color: #008080; text-decoration-color: #008080; font-weight: bold\">50</span>\n",
       "</pre>\n"
      ],
      "text/plain": [
       "Completed \u001b[1;36m50\u001b[0m\n"
      ]
     },
     "metadata": {},
     "output_type": "display_data"
    },
    {
     "data": {
      "text/html": [
       "<pre style=\"white-space:pre;overflow-x:auto;line-height:normal;font-family:Menlo,'DejaVu Sans Mono',consolas,'Courier New',monospace\">Completed <span style=\"color: #008080; text-decoration-color: #008080; font-weight: bold\">60</span>\n",
       "</pre>\n"
      ],
      "text/plain": [
       "Completed \u001b[1;36m60\u001b[0m\n"
      ]
     },
     "metadata": {},
     "output_type": "display_data"
    },
    {
     "data": {
      "text/html": [
       "<pre style=\"white-space:pre;overflow-x:auto;line-height:normal;font-family:Menlo,'DejaVu Sans Mono',consolas,'Courier New',monospace\">Completed <span style=\"color: #008080; text-decoration-color: #008080; font-weight: bold\">70</span>\n",
       "</pre>\n"
      ],
      "text/plain": [
       "Completed \u001b[1;36m70\u001b[0m\n"
      ]
     },
     "metadata": {},
     "output_type": "display_data"
    },
    {
     "data": {
      "text/html": [
       "<pre style=\"white-space:pre;overflow-x:auto;line-height:normal;font-family:Menlo,'DejaVu Sans Mono',consolas,'Courier New',monospace\">Completed <span style=\"color: #008080; text-decoration-color: #008080; font-weight: bold\">80</span>\n",
       "</pre>\n"
      ],
      "text/plain": [
       "Completed \u001b[1;36m80\u001b[0m\n"
      ]
     },
     "metadata": {},
     "output_type": "display_data"
    },
    {
     "data": {
      "text/html": [
       "<pre style=\"white-space:pre;overflow-x:auto;line-height:normal;font-family:Menlo,'DejaVu Sans Mono',consolas,'Courier New',monospace\">Completed <span style=\"color: #008080; text-decoration-color: #008080; font-weight: bold\">90</span>\n",
       "</pre>\n"
      ],
      "text/plain": [
       "Completed \u001b[1;36m90\u001b[0m\n"
      ]
     },
     "metadata": {},
     "output_type": "display_data"
    },
    {
     "data": {
      "text/html": [
       "<pre style=\"white-space:pre;overflow-x:auto;line-height:normal;font-family:Menlo,'DejaVu Sans Mono',consolas,'Courier New',monospace\">Completed <span style=\"color: #008080; text-decoration-color: #008080; font-weight: bold\">100</span>\n",
       "</pre>\n"
      ],
      "text/plain": [
       "Completed \u001b[1;36m100\u001b[0m\n"
      ]
     },
     "metadata": {},
     "output_type": "display_data"
    },
    {
     "data": {
      "text/html": [
       "<pre style=\"white-space:pre;overflow-x:auto;line-height:normal;font-family:Menlo,'DejaVu Sans Mono',consolas,'Courier New',monospace\">Completed <span style=\"color: #008080; text-decoration-color: #008080; font-weight: bold\">110</span>\n",
       "</pre>\n"
      ],
      "text/plain": [
       "Completed \u001b[1;36m110\u001b[0m\n"
      ]
     },
     "metadata": {},
     "output_type": "display_data"
    },
    {
     "data": {
      "text/html": [
       "<pre style=\"white-space:pre;overflow-x:auto;line-height:normal;font-family:Menlo,'DejaVu Sans Mono',consolas,'Courier New',monospace\">Completed <span style=\"color: #008080; text-decoration-color: #008080; font-weight: bold\">120</span>\n",
       "</pre>\n"
      ],
      "text/plain": [
       "Completed \u001b[1;36m120\u001b[0m\n"
      ]
     },
     "metadata": {},
     "output_type": "display_data"
    },
    {
     "name": "stdout",
     "output_type": "stream",
     "text": [
      "SAVE TO CSV FINISHED\n",
      "SAVE ROUGE TO CSV FINISHED\n"
     ]
    },
    {
     "data": {
      "text/html": [
       "<pre style=\"white-space:pre;overflow-x:auto;line-height:normal;font-family:Menlo,'DejaVu Sans Mono',consolas,'Courier New',monospace\"><span style=\"color: #7fbfbf; text-decoration-color: #7fbfbf\">[06:09:58] </span><span style=\"font-weight: bold\">[</span>Saving Model<span style=\"font-weight: bold\">]</span><span style=\"color: #808000; text-decoration-color: #808000\">...</span>                                                  <a href=\"file:///tmp/ipykernel_11848/16398453.py\" target=\"_blank\"><span style=\"color: #7f7f7f; text-decoration-color: #7f7f7f\">16398453.py</span></a><span style=\"color: #7f7f7f; text-decoration-color: #7f7f7f\">:</span><a href=\"file:///tmp/ipykernel_11848/16398453.py#126\" target=\"_blank\"><span style=\"color: #7f7f7f; text-decoration-color: #7f7f7f\">126</span></a>\n",
       "<span style=\"color: #7fbfbf; text-decoration-color: #7fbfbf\">           </span>                                                                   <span style=\"color: #7f7f7f; text-decoration-color: #7f7f7f\">               </span>\n",
       "</pre>\n"
      ],
      "text/plain": [
       "\u001b[2;36m[06:09:58]\u001b[0m\u001b[2;36m \u001b[0m\u001b[1m[\u001b[0mSaving Model\u001b[1m]\u001b[0m\u001b[33m...\u001b[0m                                                  \u001b]8;id=842763;file:///tmp/ipykernel_11848/16398453.py\u001b\\\u001b[2m16398453.py\u001b[0m\u001b]8;;\u001b\\\u001b[2m:\u001b[0m\u001b]8;id=603356;file:///tmp/ipykernel_11848/16398453.py#126\u001b\\\u001b[2m126\u001b[0m\u001b]8;;\u001b\\\n",
       "\u001b[2;36m           \u001b[0m                                                                   \u001b[2m               \u001b[0m\n"
      ]
     },
     "metadata": {},
     "output_type": "display_data"
    },
    {
     "data": {
      "text/html": [
       "<pre style=\"white-space:pre;overflow-x:auto;line-height:normal;font-family:Menlo,'DejaVu Sans Mono',consolas,'Courier New',monospace\"><span style=\"color: #7fbfbf; text-decoration-color: #7fbfbf\">[06:10:01] </span><span style=\"font-weight: bold\">[</span>Validation Completed.<span style=\"font-weight: bold\">]</span>                                            <a href=\"file:///tmp/ipykernel_11848/16398453.py\" target=\"_blank\"><span style=\"color: #7f7f7f; text-decoration-color: #7f7f7f\">16398453.py</span></a><span style=\"color: #7f7f7f; text-decoration-color: #7f7f7f\">:</span><a href=\"file:///tmp/ipykernel_11848/16398453.py#138\" target=\"_blank\"><span style=\"color: #7f7f7f; text-decoration-color: #7f7f7f\">138</span></a>\n",
       "<span style=\"color: #7fbfbf; text-decoration-color: #7fbfbf\">           </span>                                                                   <span style=\"color: #7f7f7f; text-decoration-color: #7f7f7f\">               </span>\n",
       "</pre>\n"
      ],
      "text/plain": [
       "\u001b[2;36m[06:10:01]\u001b[0m\u001b[2;36m \u001b[0m\u001b[1m[\u001b[0mValidation Completed.\u001b[1m]\u001b[0m                                            \u001b]8;id=400778;file:///tmp/ipykernel_11848/16398453.py\u001b\\\u001b[2m16398453.py\u001b[0m\u001b]8;;\u001b\\\u001b[2m:\u001b[0m\u001b]8;id=430611;file:///tmp/ipykernel_11848/16398453.py#138\u001b\\\u001b[2m138\u001b[0m\u001b]8;;\u001b\\\n",
       "\u001b[2;36m           \u001b[0m                                                                   \u001b[2m               \u001b[0m\n"
      ]
     },
     "metadata": {},
     "output_type": "display_data"
    },
    {
     "data": {
      "text/html": [
       "<pre style=\"white-space:pre;overflow-x:auto;line-height:normal;font-family:Menlo,'DejaVu Sans Mono',consolas,'Courier New',monospace\"><span style=\"font-weight: bold\">[</span>Model<span style=\"font-weight: bold\">]</span> Model saved @ outputs_with_truncation/model_files\n",
       "\n",
       "</pre>\n"
      ],
      "text/plain": [
       "\u001b[1m[\u001b[0mModel\u001b[1m]\u001b[0m Model saved @ outputs_with_truncation/model_files\n",
       "\n"
      ]
     },
     "metadata": {},
     "output_type": "display_data"
    },
    {
     "data": {
      "text/html": [
       "<pre style=\"white-space:pre;overflow-x:auto;line-height:normal;font-family:Menlo,'DejaVu Sans Mono',consolas,'Courier New',monospace\"><span style=\"font-weight: bold\">[</span>Validation<span style=\"font-weight: bold\">]</span> Generation on Validation data saved @ outputs_with_truncation/predictions.csv\n",
       "\n",
       "</pre>\n"
      ],
      "text/plain": [
       "\u001b[1m[\u001b[0mValidation\u001b[1m]\u001b[0m Generation on Validation data saved @ outputs_with_truncation/predictions.csv\n",
       "\n"
      ]
     },
     "metadata": {},
     "output_type": "display_data"
    },
    {
     "data": {
      "text/html": [
       "<pre style=\"white-space:pre;overflow-x:auto;line-height:normal;font-family:Menlo,'DejaVu Sans Mono',consolas,'Courier New',monospace\"><span style=\"font-weight: bold\">[</span>Logs<span style=\"font-weight: bold\">]</span> Logs saved @ outputs_with_truncation/logs.txt\n",
       "\n",
       "</pre>\n"
      ],
      "text/plain": [
       "\u001b[1m[\u001b[0mLogs\u001b[1m]\u001b[0m Logs saved @ outputs_with_truncation/logs.txt\n",
       "\n"
      ]
     },
     "metadata": {},
     "output_type": "display_data"
    }
   ],
   "source": [
    "console = Console(record=True)\n",
    "\n",
    "training_logger = Table(\n",
    "    Column(\"Epoch\", justify=\"center\"),\n",
    "    Column(\"Steps\", justify=\"center\"),\n",
    "    Column(\"Loss\", justify=\"center\"),\n",
    "    title=\"Training Status\",\n",
    "    pad_edge=False,\n",
    "    box=box.ASCII,\n",
    ")\n",
    "\n",
    "Truncate_Trainer(\n",
    "    dataset=dataset,\n",
    "    source_text=source_text, \n",
    "    target_text=target_text,\n",
    "    model_params=model_params,\n",
    "    output_dir='outputs_with_truncation',\n",
    "    device = device,\n",
    ")"
   ]
  },
  {
   "cell_type": "code",
   "execution_count": null,
   "id": "2f4b7d39",
   "metadata": {},
   "outputs": [],
   "source": [
    "print(\"\\n====================== Results with truncation =======================\")\n",
    "\n",
    "import pandas as pd\n",
    "\n",
    "rouge_df_headtail = pd.read_csv('outputs_with_truncation/head+tail_rouge_t5-small_epoch9.csv')\n",
    "\n",
    "rouge_df_headtail\n"
   ]
  },
  {
   "cell_type": "code",
   "execution_count": 15,
   "id": "50fc7776",
   "metadata": {},
   "outputs": [
    {
     "name": "stdout",
     "output_type": "stream",
     "text": [
      "\n",
      "====================== Results without (baseline) =======================\n"
     ]
    },
    {
     "data": {
      "text/html": [
       "<div>\n",
       "<style scoped>\n",
       "    .dataframe tbody tr th:only-of-type {\n",
       "        vertical-align: middle;\n",
       "    }\n",
       "\n",
       "    .dataframe tbody tr th {\n",
       "        vertical-align: top;\n",
       "    }\n",
       "\n",
       "    .dataframe thead th {\n",
       "        text-align: right;\n",
       "    }\n",
       "</style>\n",
       "<table border=\"1\" class=\"dataframe\">\n",
       "  <thead>\n",
       "    <tr style=\"text-align: right;\">\n",
       "      <th></th>\n",
       "      <th>Unnamed: 0</th>\n",
       "      <th>0</th>\n",
       "      <th>1</th>\n",
       "      <th>2</th>\n",
       "      <th>3</th>\n",
       "      <th>4</th>\n",
       "      <th>5</th>\n",
       "      <th>6</th>\n",
       "      <th>7</th>\n",
       "      <th>8</th>\n",
       "      <th>...</th>\n",
       "      <th>989</th>\n",
       "      <th>990</th>\n",
       "      <th>991</th>\n",
       "      <th>992</th>\n",
       "      <th>993</th>\n",
       "      <th>994</th>\n",
       "      <th>995</th>\n",
       "      <th>996</th>\n",
       "      <th>997</th>\n",
       "      <th>998</th>\n",
       "    </tr>\n",
       "  </thead>\n",
       "  <tbody>\n",
       "    <tr>\n",
       "      <th>0</th>\n",
       "      <td>precision</td>\n",
       "      <td>0.0</td>\n",
       "      <td>0.111111</td>\n",
       "      <td>0.266667</td>\n",
       "      <td>0.045455</td>\n",
       "      <td>0.333333</td>\n",
       "      <td>0.120000</td>\n",
       "      <td>0.045455</td>\n",
       "      <td>0.037037</td>\n",
       "      <td>0.136364</td>\n",
       "      <td>...</td>\n",
       "      <td>0.105263</td>\n",
       "      <td>0.20</td>\n",
       "      <td>0.105263</td>\n",
       "      <td>0.115385</td>\n",
       "      <td>0.068966</td>\n",
       "      <td>0.111111</td>\n",
       "      <td>0.208333</td>\n",
       "      <td>0.115385</td>\n",
       "      <td>0.120000</td>\n",
       "      <td>0.038462</td>\n",
       "    </tr>\n",
       "    <tr>\n",
       "      <th>1</th>\n",
       "      <td>recall</td>\n",
       "      <td>0.0</td>\n",
       "      <td>0.100000</td>\n",
       "      <td>0.190476</td>\n",
       "      <td>0.040000</td>\n",
       "      <td>0.178571</td>\n",
       "      <td>0.150000</td>\n",
       "      <td>0.028571</td>\n",
       "      <td>0.058824</td>\n",
       "      <td>0.103448</td>\n",
       "      <td>...</td>\n",
       "      <td>0.105263</td>\n",
       "      <td>0.12</td>\n",
       "      <td>0.066667</td>\n",
       "      <td>0.136364</td>\n",
       "      <td>0.166667</td>\n",
       "      <td>0.250000</td>\n",
       "      <td>0.138889</td>\n",
       "      <td>0.096774</td>\n",
       "      <td>0.066667</td>\n",
       "      <td>0.052632</td>\n",
       "    </tr>\n",
       "    <tr>\n",
       "      <th>2</th>\n",
       "      <td>fmeasure</td>\n",
       "      <td>0.0</td>\n",
       "      <td>0.105263</td>\n",
       "      <td>0.222222</td>\n",
       "      <td>0.042553</td>\n",
       "      <td>0.232558</td>\n",
       "      <td>0.133333</td>\n",
       "      <td>0.035088</td>\n",
       "      <td>0.045455</td>\n",
       "      <td>0.117647</td>\n",
       "      <td>...</td>\n",
       "      <td>0.105263</td>\n",
       "      <td>0.15</td>\n",
       "      <td>0.081633</td>\n",
       "      <td>0.125000</td>\n",
       "      <td>0.097561</td>\n",
       "      <td>0.153846</td>\n",
       "      <td>0.166667</td>\n",
       "      <td>0.105263</td>\n",
       "      <td>0.085714</td>\n",
       "      <td>0.044444</td>\n",
       "    </tr>\n",
       "  </tbody>\n",
       "</table>\n",
       "<p>3 rows × 1000 columns</p>\n",
       "</div>"
      ],
      "text/plain": [
       "  Unnamed: 0    0         1         2         3         4         5         6  \\\n",
       "0  precision  0.0  0.111111  0.266667  0.045455  0.333333  0.120000  0.045455   \n",
       "1     recall  0.0  0.100000  0.190476  0.040000  0.178571  0.150000  0.028571   \n",
       "2   fmeasure  0.0  0.105263  0.222222  0.042553  0.232558  0.133333  0.035088   \n",
       "\n",
       "          7         8  ...       989   990       991       992       993  \\\n",
       "0  0.037037  0.136364  ...  0.105263  0.20  0.105263  0.115385  0.068966   \n",
       "1  0.058824  0.103448  ...  0.105263  0.12  0.066667  0.136364  0.166667   \n",
       "2  0.045455  0.117647  ...  0.105263  0.15  0.081633  0.125000  0.097561   \n",
       "\n",
       "        994       995       996       997       998  \n",
       "0  0.111111  0.208333  0.115385  0.120000  0.038462  \n",
       "1  0.250000  0.138889  0.096774  0.066667  0.052632  \n",
       "2  0.153846  0.166667  0.105263  0.085714  0.044444  \n",
       "\n",
       "[3 rows x 1000 columns]"
      ]
     },
     "execution_count": 15,
     "metadata": {},
     "output_type": "execute_result"
    }
   ],
   "source": [
    "print(\"\\n====================== Results without (baseline) =======================\")\n",
    "rouge_df = pd.read_csv('outputs/rouge_t5-small_epoch9.csv')\n",
    "rouge_df"
   ]
  },
  {
   "cell_type": "markdown",
   "id": "a0a38486",
   "metadata": {},
   "source": [
    "<hr>"
   ]
  },
  {
   "cell_type": "markdown",
   "id": "30a36783",
   "metadata": {},
   "source": [
    "<a id=\"3\"></a>\n",
    "\n",
    "## Plotting losses"
   ]
  },
  {
   "cell_type": "code",
   "execution_count": 17,
   "id": "a5a3ee76",
   "metadata": {},
   "outputs": [
    {
     "data": {
      "image/png": "[encoded data removed]",
      "text/plain": [
       "<Figure size 720x720 with 1 Axes>"
      ]
     },
     "metadata": {
      "needs_background": "light"
     },
     "output_type": "display_data"
    }
   ],
   "source": [
    "import matplotlib.pyplot as plt\n",
    "import numpy as np\n",
    "\n",
    "\n",
    "baseline_loss = np.load('outputs/losses_t5-small_epoch3.npy')\n",
    "truncate_middle_loss = np.load('outputs_with_truncation/head+tail_losses_t5-small_epoch3.npy')\n",
    "plt.figure(figsize=(10,10))\n",
    "plt.plot(baseline_loss, label='no truncation')\n",
    "plt.plot(truncate_middle_loss, label='middle words truncation')\n",
    "plt.legend()\n",
    "plt.show()"
   ]
  },
  {
   "cell_type": "code",
   "execution_count": 18,
   "id": "2638330d",
   "metadata": {},
   "outputs": [
    {
     "name": "stdout",
     "output_type": "stream",
     "text": [
      "-----Generated-----\n",
      " ex-Reading defender denies fraudulent trading charges relating to the Sodje Sports Foundation. all four have denied the offence and are due to stand trial in July.\n",
      "-----Actual-----\n",
      " Middlesex batsman Adam Voges will be out until August after suffering a torn calf muscle in his right leg.\n",
      "\n",
      "\n",
      "-----Generated-----\n",
      " defending county champions Middlesex are sixth in the division one table. the 37-year-old has scored 230 runs in four first-class games this season.\n",
      "-----Actual-----\n",
      " The Duchess of Cambridge will feature on the cover of British Vogue to mark the magazine's centenary.\n",
      "\n",
      "\n",
      "-----Generated-----\n",
      " the duchess is seen looking relaxed and wearing casual clothes. the shoot was in collaboration with the National Portrait Gallery.\n",
      "-----Actual-----\n",
      " Google has hired the creator of one of the web's most notorious forums - 4chan.\n",
      "\n",
      "\n",
      "-----Generated-----\n",
      " Chris Poole stepped down as administrator of 4chan in January 2015. he is expected to turn his attentions to google's social networking efforts.\n",
      "-----Actual-----\n",
      " Two teenagers have been charged in connection with an incident in west Belfast in which a car collided with two police vehicles.\n",
      "\n",
      "\n",
      "-----Generated-----\n",
      " four police officers were injured in the incident on Friday night. a man, 19, and a boy, 16, have been charged with six counts of aggravated vehicle taking.\n",
      "-----Actual-----\n",
      " A pedestrian has been struck by a taxi in Dundee after it mounted the pavement.\n",
      "\n",
      "\n"
     ]
    }
   ],
   "source": [
    "predsdf = pd.read_csv('outputs/predictions_t5-small_epoch3.csv')\n",
    "\n",
    "preds_np = np.asarray(predsdf)\n",
    "\n",
    "\n",
    "for i in range(5):\n",
    "    print(\"-----Generated-----\\n\", preds_np[i][1])\n",
    "    print(\"-----Actual-----\\n\", preds_np[i][2])    \n",
    "    print('\\n')"
   ]
  },
  {
   "cell_type": "code",
   "execution_count": 20,
   "id": "8f6fbcb7",
   "metadata": {},
   "outputs": [
    {
     "name": "stdout",
     "output_type": "stream",
     "text": [
      "-----Generated-----\n",
      " all four denied fraudulent trading charges relating to the Sodje Sports Foundation. charge relates to offences which allegedly took place between 2008 and 2014.\n",
      "-----Actual-----\n",
      " Middlesex batsman Adam Voges will be out until August after suffering a torn calf muscle in his right leg.\n",
      "\n",
      "\n",
      "-----Generated-----\n",
      " Voges forced to retire hurt on 86 after suffering injury while batting in county championship draw with Somerset on 4 June. the 37- first-class games this season at an average of 57.50.\n",
      "-----Actual-----\n",
      " The Duchess of Cambridge will feature on the cover of British Vogue to mark the magazine's centenary.\n",
      "\n",
      "\n",
      "-----Generated-----\n",
      " the duchess is seen looking relaxed and wearing casual clothes. the shoot was in collaboration with the National Portrait Gallery.\n",
      "-----Actual-----\n",
      " Google has hired the creator of one of the web's most notorious forums - 4chan.\n",
      "\n",
      "\n",
      "-----Generated-----\n",
      " the site was widely credited as being the first place where leaked images of nude celebrities were posted following 2014's well-publicised security breach affecting Apple's iCloud service.\n",
      "-----Actual-----\n",
      " Two teenagers have been charged in connection with an incident in west Belfast in which a car collided with two police vehicles.\n",
      "\n",
      "\n",
      "-----Generated-----\n",
      " four police officers were injured in the incident on Friday night. a man, aged 19, and six counts of aggravated vehicle taking.\n",
      "-----Actual-----\n",
      " A pedestrian has been struck by a taxi in Dundee after it mounted the pavement.\n",
      "\n",
      "\n"
     ]
    }
   ],
   "source": [
    "predsdf = pd.read_csv('outputs_with_truncation/head+tail_predictions_t5-small_epoch3.csv')\n",
    "\n",
    "preds_np = np.asarray(predsdf)\n",
    "\n",
    "\n",
    "for i in range(5):\n",
    "    print(\"-----Generated-----\\n\", preds_np[i][1])\n",
    "    print(\"-----Actual-----\\n\", preds_np[i][2])    \n",
    "    print('\\n')"
   ]
  },
  {
   "cell_type": "markdown",
   "id": "ba8e4bf5",
   "metadata": {},
   "source": [
    "<hr>"
   ]
  },
  {
   "cell_type": "markdown",
   "id": "64c85a7d",
   "metadata": {},
   "source": [
    "<a id=\"4\"></a>\n",
    "\n",
    "## Draft Experiments (Random stuff)"
   ]
  },
  {
   "cell_type": "code",
   "execution_count": null,
   "id": "738b58f4",
   "metadata": {},
   "outputs": [],
   "source": [
    "### Experiment\n",
    "\n",
    "sentences = [\n",
    "    'In Japan, there is no lake bigger than Lake Biwa.',\n",
    "'Tom\\'s apartment is way too big for just one man.',\n",
    "'Did you hear about the new animal discovered in Ecuador?',\n",
    "]\n",
    "\n",
    "tokenizer = T5Tokenizer.from_pretrained(model_params[\"MODEL\"])\n",
    "encoded_input = tokenizer(sentences, padding=True, truncation=True, max_length=10)\n",
    "print(encoded_input['input_ids'][0])"
   ]
  },
  {
   "cell_type": "code",
   "execution_count": null,
   "id": "27b88d9b",
   "metadata": {},
   "outputs": [],
   "source": [
    "decoded = tokenizer.decode(tokenizer(sentences, padding=True, \n",
    "                                      truncation=True, max_length=8)['input_ids'][0])\n",
    "print(decoded)"
   ]
  },
  {
   "cell_type": "code",
   "execution_count": null,
   "id": "1f44b3f2",
   "metadata": {},
   "outputs": [],
   "source": [
    "print(\"Before=\", encoded_input)"
   ]
  },
  {
   "cell_type": "code",
   "execution_count": null,
   "id": "979422eb",
   "metadata": {},
   "outputs": [],
   "source": [
    "test = [i for i in range(0,50)]\n",
    "left = int(.4 * len(test))\n",
    "right = int(.4 * len(test))\n",
    "\n",
    "left_selection = test[:left]\n",
    "right_selection = test[-right:]\n",
    "all_indices = left_selection + right_selection\n",
    "print(right_selection)"
   ]
  },
  {
   "cell_type": "code",
   "execution_count": null,
   "id": "74f3fe72",
   "metadata": {},
   "outputs": [],
   "source": [
    "from transformers import tokenization_utils_base\n",
    "\n",
    "newdict = {'input_ids': [[86, 3411, 6, 132, 19, 150, 6957, 4038, 145, 1]]}\n",
    "new_encoding = tokenization_utils_base.BatchEncoding(newdict)\n",
    "\n",
    "print(new_encoding)"
   ]
  },
  {
   "cell_type": "code",
   "execution_count": null,
   "id": "42d52c7f",
   "metadata": {},
   "outputs": [],
   "source": [
    "a = encoded_input.input_ids[0][0:3]\n",
    "print(type(a))\n",
    "a = torch.Tensor(a)\n",
    "print(type(a))\n",
    "# after = torch.Tensor([a]) # expected error here\n",
    "\n",
    "#fix:\n",
    "a = a.tolist()\n",
    "after=torch.Tensor([a])\n",
    "\n",
    "\n",
    "\n",
    "print(after)\n",
    "after = torch.Tensor([encoded_input.input_ids[0][0:3]])\n",
    "print(after)\n",
    "print(type(after))\n",
    "encoded_input['intput_ids'] = after\n",
    "print(\"After:\", encoded_input)"
   ]
  },
  {
   "cell_type": "markdown",
   "id": "5bc5f099",
   "metadata": {},
   "source": [
    "### Encoding test"
   ]
  },
  {
   "cell_type": "code",
   "execution_count": 11,
   "id": "80020c2a",
   "metadata": {},
   "outputs": [],
   "source": [
    "sentence_to_test = 'A fire alarm went off at the Holiday Inn in Hope Street at about 04:20 BST on Saturday and guests were asked to leave the hotel. As they gathered outside they saw the two buses, parked side-by-side in the car park, engulfed by flames. One of the tour groups is from Germany, the other from China and Taiwan. It was their first night in Northern Ireland. The driver of one of the buses said many of the passengers had left personal belongings on board and these had been destroyed. Both groups have organised replacement coaches and will begin their tour of the north coast later than they had planned. Police have appealed for information about the attack. Insp David Gibson said: It appears as though the fire started under one of the buses before spreading to the second. While the exact cause is still under investigation, it is thought that the fire was started deliberately.'"
   ]
  },
  {
   "cell_type": "code",
   "execution_count": 17,
   "id": "fe6f7b4f",
   "metadata": {},
   "outputs": [
    {
     "name": "stdout",
     "output_type": "stream",
     "text": [
      "{'input_ids': [71, 1472, 6196, 877, 326, 44, 8, 9108, 86, 29, 16, 6000, 1887, 44, 81, 11484, 10, 1755, 272, 4209, 30, 1856, 11, 2554, 130, 1380, 12, 1175, 8, 1595, 5, 282, 79, 3, 9094, 1067, 79, 1509, 8, 192, 14264, 6, 3, 16669, 596, 18, 969, 18, 1583, 16, 8, 443, 2447, 6, 3, 35, 6106, 19565, 57, 12314, 7, 5, 555, 13, 8, 1552, 1637, 19, 45, 3434, 6, 8, 119, 45, 1473, 11, 14441, 5, 94, 47, 70, 166, 706, 16, 5961, 5316, 5, 37, 2535, 13, 80, 13, 8, 14264, 243, 186, 13, 8, 9234, 141, 646, 525, 12770, 7, 30, 1476, 11, 175, 141, 118, 10932, 5, 2867, 1637, 43, 13666, 3709, 11210, 11, 56, 1731, 70, 1552, 13, 8, 3457, 4939, 865, 145, 79, 141, 4355, 5, 5076, 43, 3958, 15, 26, 21, 251, 81, 8, 3211, 5, 86, 7, 102, 1955, 24723, 243, 10, 94, 3475, 38, 713, 8, 1472, 708, 365, 80, 13, 8, 14264, 274, 16436, 12, 8, 511, 5, 818, 8, 2883, 1137, 19, 341, 365, 4962, 6, 34, 19, 816, 24, 8, 1472, 47, 708, 24067, 5, 1], 'attention_mask': [1, 1, 1, 1, 1, 1, 1, 1, 1, 1, 1, 1, 1, 1, 1, 1, 1, 1, 1, 1, 1, 1, 1, 1, 1, 1, 1, 1, 1, 1, 1, 1, 1, 1, 1, 1, 1, 1, 1, 1, 1, 1, 1, 1, 1, 1, 1, 1, 1, 1, 1, 1, 1, 1, 1, 1, 1, 1, 1, 1, 1, 1, 1, 1, 1, 1, 1, 1, 1, 1, 1, 1, 1, 1, 1, 1, 1, 1, 1, 1, 1, 1, 1, 1, 1, 1, 1, 1, 1, 1, 1, 1, 1, 1, 1, 1, 1, 1, 1, 1, 1, 1, 1, 1, 1, 1, 1, 1, 1, 1, 1, 1, 1, 1, 1, 1, 1, 1, 1, 1, 1, 1, 1, 1, 1, 1, 1, 1, 1, 1, 1, 1, 1, 1, 1, 1, 1, 1, 1, 1, 1, 1, 1, 1, 1, 1, 1, 1, 1, 1, 1, 1, 1, 1, 1, 1, 1, 1, 1, 1, 1, 1, 1, 1, 1, 1, 1, 1, 1, 1, 1, 1, 1, 1, 1, 1, 1, 1, 1, 1, 1, 1, 1, 1, 1, 1, 1, 1, 1]}\n"
     ]
    }
   ],
   "source": [
    "tokenizer2 = T5Tokenizer.from_pretrained(model_params[\"MODEL\"])\n",
    "source = tokenizer2(sentence_to_test, padding=True, truncation=True, max_length=512)\n",
    "\n",
    "print(source)"
   ]
  },
  {
   "cell_type": "code",
   "execution_count": 39,
   "id": "68454e71",
   "metadata": {},
   "outputs": [
    {
     "name": "stdout",
     "output_type": "stream",
     "text": [
      "Previous length:  189\n",
      "After:  139\n"
     ]
    }
   ],
   "source": [
    "no_real_tokens = sum(x != 0 for x in source.input_ids)\n",
    "\n",
    "no_tokens = 50\n",
    "left_remove_percent = .25\n",
    "\n",
    "left = int(left_remove_percent * no_real_tokens)\n",
    "\n",
    "left_selection_ids = torch.Tensor(source.input_ids[:left])\n",
    "right_selection_ids = torch.Tensor(source.input_ids[left+no_tokens:len(source.input_ids)])\n",
    "        \n",
    "left_attention_mask = torch.Tensor(source.attention_mask[:left])\n",
    "right_attention_mask = torch.Tensor(source.attention_mask[left+no_tokens:len(source.input_ids)])\n",
    "        \n",
    "\n",
    "new_ids = torch.concat([left_selection_ids, right_selection_ids], 0)        \n",
    "new_masks = torch.concat([left_attention_mask,right_attention_mask], 0)\n",
    "        \n",
    "new_ids = new_ids.tolist()\n",
    "new_masks = new_masks.tolist()\n",
    "\n",
    "new_encoding = {\n",
    "    'input_ids': torch.Tensor([new_ids]),\n",
    "    'attention_mask': torch.Tensor([new_masks])\n",
    "}\n",
    "\n",
    "new_source = tokenization_utils_base.BatchEncoding(new_encoding)\n",
    "\n",
    "print(\"Previous length: \", len(source.input_ids))\n",
    "print(\"After: \", len(new_source['input_ids'][0]))\n",
    "# print(new_source)"
   ]
  }
 ],
 "metadata": {
  "kernelspec": {
   "display_name": "Python 3 (ipykernel)",
   "language": "python",
   "name": "python3"
  },
  "language_info": {
   "codemirror_mode": {
    "name": "ipython",
    "version": 3
   },
   "file_extension": ".py",
   "mimetype": "text/x-python",
   "name": "python",
   "nbconvert_exporter": "python",
   "pygments_lexer": "ipython3",
   "version": "3.8.10"
  }
 },
 "nbformat": 4,
 "nbformat_minor": 5
}
