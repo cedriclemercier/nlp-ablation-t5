{
 "cells": [
  {
   "cell_type": "markdown",
   "id": "52b2210b",
   "metadata": {},
   "source": [
    "# Fine tuning T5 on XSum with Truncation of Tokens"
   ]
  },
  {
   "cell_type": "markdown",
   "id": "1cf56330",
   "metadata": {},
   "source": [
    "Pruning head and tail of sentences to see if accuracy is affected\n",
    "\n",
    "Sections\n",
    "\n",
    "1. #### [Baseline Training with T5 and Xsum](#1)\n",
    "2. #### [Truncating middle tokens with T5 and Xsum](#2)\n",
    "3. #### [Plotting Loss](#3)\n",
    "3. #### [Draft](#4)"
   ]
  },
  {
   "cell_type": "markdown",
   "id": "93f031f4",
   "metadata": {},
   "source": [
    "<a id=\"1\"></a>\n",
    "# 1. Baseline Training with T5 and Xsum\n"
   ]
  },
  {
   "cell_type": "code",
   "execution_count": 1,
   "id": "e298f8ba",
   "metadata": {},
   "outputs": [],
   "source": [
    "# Importing libraries\n",
    "import os\n",
    "import numpy as np\n",
    "import pandas as pd\n",
    "import torch\n",
    "import torch.nn.functional as F\n",
    "from torch.utils.data import DataLoader\n",
    "import os\n",
    "\n",
    "# rich: for a better display on terminal\n",
    "from rich.table import Column, Table\n",
    "from rich import box\n",
    "from rich.console import Console\n",
    "\n",
    "# Importing the T5 modules from huggingface/transformers\n",
    "from transformers import PegasusTokenizer, PegasusForConditionalGeneration, T5Tokenizer, T5ForConditionalGeneration, BartTokenizer, BartForConditionalGeneration, tokenization_utils_base\n",
    "\n",
    "import nltk\n",
    "\n",
    "from datasets import load_dataset\n",
    "from datasets import load_metric\n",
    "\n",
    "#uncomment this if you are not using puffer\n",
    "# import os\n",
    "# os.environ['http_proxy'] = 'http://192.41.170.23:3128'\n",
    "# os.environ['https_proxy'] = 'http://192.41.170.23:3128'\n",
    "\n",
    "# !pip3 install datasets\n",
    "# !pip3 install rich\n",
    "# !pip3 install SentencePiece\n",
    "# !pip3 install rouge_score"
   ]
  },
  {
   "cell_type": "markdown",
   "id": "382fe250",
   "metadata": {},
   "source": [
    "## Dataset Class"
   ]
  },
  {
   "cell_type": "code",
   "execution_count": 2,
   "id": "63da50f2",
   "metadata": {},
   "outputs": [],
   "source": [
    "from torch.utils.data import Dataset\n",
    "import torch\n",
    "import pandas as pd\n",
    "\n",
    "class Dataset(Dataset):\n",
    "    \"\"\"\n",
    "    Creating a custom dataset for reading the dataset and\n",
    "    loading it into the dataloader to pass it to the\n",
    "    neural network for finetuning the model\n",
    "\n",
    "    \"\"\"\n",
    "\n",
    "    def __init__(\n",
    "        self, data, tokenizer, model_name, source_len, target_len, source_text, target_text, #train = True,\n",
    "    ):\n",
    "        \"\"\"\n",
    "        Initializes a Dataset class\n",
    "\n",
    "        Args:yo\n",
    "            data: Input data\n",
    "            tokenizer (transformers.tokenizer): Transformers tokenizer\n",
    "            source_len (int): Max length of source text\n",
    "            target_len (int): Max length of target text\n",
    "            source_text (str): column name of source text\n",
    "            target_text (str): column name of target text\n",
    "        \"\"\"\n",
    "        self.tokenizer = tokenizer\n",
    "        self.data = data\n",
    "        self.source_len = source_len\n",
    "        self.summ_len = target_len\n",
    "        \n",
    "        # Xsum contains about 200000+ samples, so lets just take a small portion\n",
    "        self.source_text = self.data[source_text][:1000]\n",
    "        if \"t5\" in model_name:\n",
    "            self.source_text = self.add_prefix(self.source_text)\n",
    "        self.target_text = self.data[target_text][1:1000]\n",
    "\n",
    "    def __len__(self):\n",
    "        \"\"\"returns the length of data\"\"\"\n",
    "\n",
    "        return len(self.target_text)\n",
    "\n",
    "    def __getitem__(self, index):\n",
    "        \"\"\"return the input ids, attention masks and target ids\"\"\"\n",
    "\n",
    "        source_text = str(self.source_text[index])\n",
    "        target_text = str(self.target_text[index])\n",
    "\n",
    "        # cleaning data so as to ensure data is in string type\n",
    "        source_text = \" \".join(source_text.split())\n",
    "        target_text = \" \".join(target_text.split())\n",
    "\n",
    "        source = self.tokenizer.batch_encode_plus(\n",
    "            [source_text],\n",
    "            max_length=self.source_len,\n",
    "            pad_to_max_length=True,\n",
    "            truncation=True,\n",
    "            padding=\"max_length\",\n",
    "            return_tensors=\"pt\",\n",
    "        )\n",
    "        \n",
    "        target = self.tokenizer.batch_encode_plus(\n",
    "            [target_text],\n",
    "            max_length=self.summ_len,\n",
    "            pad_to_max_length=True,\n",
    "            truncation=True,\n",
    "            padding=\"max_length\",\n",
    "            return_tensors=\"pt\",\n",
    "        )\n",
    "\n",
    "        source_ids = source[\"input_ids\"].squeeze()\n",
    "        source_mask = source[\"attention_mask\"].squeeze()\n",
    "        target_ids = target[\"input_ids\"].squeeze()\n",
    "        target_mask = target[\"attention_mask\"].squeeze()\n",
    "\n",
    "        return {\n",
    "            \"source_ids\": source_ids.to(dtype=torch.long),\n",
    "            \"source_mask\": source_mask.to(dtype=torch.long),\n",
    "            \"target_ids\": target_ids.to(dtype=torch.long),\n",
    "            \"target_ids_y\": target_ids.to(dtype=torch.long),\n",
    "        }\n",
    "    \n",
    "    def add_prefix(self, examples):\n",
    "        prefix = \"summarize: \"\n",
    "        inputs = [prefix + doc for doc in examples]\n",
    "        return inputs"
   ]
  },
  {
   "cell_type": "markdown",
   "id": "bfc2ba1c",
   "metadata": {},
   "source": [
    "## Train Function"
   ]
  },
  {
   "cell_type": "code",
   "execution_count": 3,
   "id": "260cf1f1",
   "metadata": {},
   "outputs": [],
   "source": [
    "def train(epoch, tokenizer, model, device, loader, optimizer, scheduler):\n",
    "    \n",
    "    \"\"\"\n",
    "    Function to be called for training with the parameters passed from main function\n",
    "\n",
    "    \"\"\"\n",
    "\n",
    "    model.train()\n",
    "    losses = 0\n",
    "    for _, data in enumerate(loader, 0):\n",
    "        y = data[\"target_ids\"].to(device, dtype=torch.long)\n",
    "        y_ids = y[:, :-1].contiguous()\n",
    "        lm_labels = y[:, 1:].clone().detach()\n",
    "        lm_labels[y[:, 1:] == tokenizer.pad_token_id] = -100\n",
    "        ids = data[\"source_ids\"].to(device, dtype=torch.long)\n",
    "        mask = data[\"source_mask\"].to(device, dtype=torch.long)\n",
    "\n",
    "        outputs = model(\n",
    "            input_ids=ids,\n",
    "            attention_mask=mask,\n",
    "            decoder_input_ids=y_ids,\n",
    "            labels=lm_labels,\n",
    "        )\n",
    "        loss = outputs[0]\n",
    "        if _ % 10 == 0:\n",
    "            print(\"STEP: \", _,\"/\",len(loader))\n",
    "            training_logger.add_row(str(epoch), str(f'{_}/{len(loader)}'), str(loss))\n",
    "            console.print(training_logger)\n",
    "            \n",
    "        optimizer.zero_grad()\n",
    "        loss.backward()\n",
    "        optimizer.step()\n",
    "        losses += loss.detach()\n",
    "\n",
    "    scheduler.step()\n",
    "    losses = losses/len(loader)\n",
    "    return losses"
   ]
  },
  {
   "cell_type": "markdown",
   "id": "8759b40a",
   "metadata": {},
   "source": [
    "## Validation Function"
   ]
  },
  {
   "cell_type": "code",
   "execution_count": 4,
   "id": "f51e6697",
   "metadata": {},
   "outputs": [],
   "source": [
    "def validate(epoch, tokenizer, model, device, loader):\n",
    "\n",
    "    \"\"\"\n",
    "    Function to evaluate model for predictions\n",
    "\n",
    "    \"\"\"\n",
    "    model.eval()\n",
    "    predictions = []\n",
    "    actuals = []\n",
    "    with torch.no_grad():\n",
    "        for _, data in enumerate(loader, 0):\n",
    "            y = data['target_ids'].to(device, dtype = torch.long)\n",
    "            ids = data['source_ids'].to(device, dtype = torch.long)\n",
    "            mask = data['source_mask'].to(device, dtype = torch.long)\n",
    "\n",
    "            generated_ids = model.generate(\n",
    "                  input_ids = ids,\n",
    "                  attention_mask = mask, \n",
    "                  max_length=150, \n",
    "                  num_beams=2,\n",
    "                  repetition_penalty=2.5, \n",
    "                  length_penalty=1.0, \n",
    "                  early_stopping=True\n",
    "                  )\n",
    "            preds = [tokenizer.decode(g, skip_special_tokens=True, clean_up_tokenization_spaces=True) for g in generated_ids]\n",
    "            target = [tokenizer.decode(t, skip_special_tokens=True, clean_up_tokenization_spaces=True)for t in y]\n",
    "            if _ % 10==0:\n",
    "                console.print(f'Completed {_}')\n",
    "\n",
    "            predictions.extend(preds)\n",
    "            actuals.extend(target)\n",
    "\n",
    "    return predictions, actuals"
   ]
  },
  {
   "cell_type": "markdown",
   "id": "822d7626",
   "metadata": {},
   "source": [
    "<hr>"
   ]
  },
  {
   "cell_type": "markdown",
   "id": "7e5bf93e",
   "metadata": {},
   "source": [
    "## Rouge Score"
   ]
  },
  {
   "cell_type": "code",
   "execution_count": 5,
   "id": "c4172389",
   "metadata": {},
   "outputs": [],
   "source": [
    "from rouge_score import rouge_scorer\n",
    "\n",
    "def compute_metrics(predictions, actuals, tokenizer):\n",
    "    \n",
    "    scorer = rouge_scorer.RougeScorer(['rouge1'])\n",
    "    \n",
    "    # a dictionary that will contain the results\n",
    "    rouge = {'precision': [], 'recall': [], 'fmeasure': []}\n",
    "\n",
    "    # for each of the hypothesis and reference documents pair\n",
    "    for (p, a) in zip(predictions, actuals):\n",
    "        # computing the ROUGE\n",
    "        score = scorer.score(p, a)\n",
    "        # separating the measurements\n",
    "        precision, recall, fmeasure = score['rouge1']\n",
    "        # add them to the proper list in the dictionary\n",
    "        rouge['precision'].append(precision)\n",
    "        rouge['recall'].append(recall)\n",
    "        rouge['fmeasure'].append(fmeasure)\n",
    "\n",
    "    return rouge"
   ]
  },
  {
   "cell_type": "markdown",
   "id": "9abc5b37",
   "metadata": {},
   "source": [
    "<hr>\n",
    "\n",
    "## Trainer Class"
   ]
  },
  {
   "cell_type": "code",
   "execution_count": 6,
   "id": "2fc96ec6",
   "metadata": {},
   "outputs": [],
   "source": [
    "def Trainer(\n",
    "    dataset, source_text, target_text, model_params, output_dir=\"outputs/\", device = \"cuda\"\n",
    "):\n",
    "\n",
    "    \"\"\"\n",
    "    trainer\n",
    "\n",
    "    \"\"\"\n",
    "    \n",
    "    losses = []\n",
    "    \n",
    "    # Set random seeds and deterministic pytorch for reproducibility\n",
    "    torch.manual_seed(model_params[\"SEED\"])  # pytorch random seed\n",
    "    np.random.seed(model_params[\"SEED\"])  # numpy random seed\n",
    "    torch.backends.cudnn.deterministic = True\n",
    "\n",
    "    # logging\n",
    "    console.log(f\"\"\"[Model]: Loading {model_params[\"MODEL\"]}...\\n\"\"\")\n",
    "\n",
    "    # Defining the model. We are using t5-base model and added a Language model layer on top for generation of Summary.\n",
    "    # tokenzier for encoding the text\n",
    "    # Further this model is sent to device (GPU/TPU) for using the hardware.\n",
    "    if \"bart\" in model_params[\"MODEL\"]:\n",
    "        tokenizer = BartTokenizer.from_pretrained(f'facebook/{model_params[\"MODEL\"]}')\n",
    "        model = BartForConditionalGeneration.from_pretrained(f'facebook/{model_params[\"MODEL\"]}')\n",
    "    elif \"t5\" in model_params[\"MODEL\"]:\n",
    "        tokenizer = T5Tokenizer.from_pretrained(model_params[\"MODEL\"])\n",
    "        model = T5ForConditionalGeneration.from_pretrained(model_params[\"MODEL\"])\n",
    "    elif \"pegasus\" in model_params[\"MODEL\"]:\n",
    "        tokenizer = PegasusTokenizer.from_pretrained(f'google/{model_params[\"MODEL\"]}')\n",
    "        model = PegasusForConditionalGeneration.from_pretrained(f'google/{model_params[\"MODEL\"]}')\n",
    "    else:\n",
    "        raise ValueError(\"Undefined model\")\n",
    "        \n",
    "    model = model.to(device)\n",
    "\n",
    "    # logging\n",
    "    console.log(f\"[Data]: Reading data...\\n\")\n",
    "\n",
    "    # Creation of Dataset and Dataloader\n",
    "    train_dataset = dataset[\"train\"]\n",
    "    val_dataset = dataset[\"validation\"]\n",
    "    \n",
    "    console.print(f\"FULL Dataset: {dataset.shape}\")\n",
    "    console.print(f\"TRAIN Dataset: {train_dataset.shape}\")\n",
    "    console.print(f\"TEST Dataset: {val_dataset.shape}\\n\")\n",
    "    \n",
    "    del dataset\n",
    "    \n",
    "    # Creating the Training and Validation dataset for further creation of Dataloader\n",
    "    training_set = Dataset(\n",
    "        train_dataset,\n",
    "        tokenizer,\n",
    "        model_params[\"MODEL\"],\n",
    "        model_params[\"MAX_SOURCE_TEXT_LENGTH\"],\n",
    "        model_params[\"MAX_TARGET_TEXT_LENGTH\"],\n",
    "        source_text,\n",
    "        target_text,\n",
    "#         train = True,\n",
    "    )\n",
    "    val_set = Dataset(\n",
    "        val_dataset,\n",
    "        tokenizer,\n",
    "        model_params[\"MODEL\"],\n",
    "        model_params[\"MAX_SOURCE_TEXT_LENGTH\"],\n",
    "        model_params[\"MAX_TARGET_TEXT_LENGTH\"],\n",
    "        source_text,\n",
    "        target_text,\n",
    "#         train = False,\n",
    "    )\n",
    "    \n",
    "    del train_dataset, val_dataset\n",
    "    \n",
    "    # Defining the parameters for creation of dataloaders\n",
    "    train_params = {\n",
    "        \"batch_size\": model_params[\"TRAIN_BATCH_SIZE\"],\n",
    "        \"shuffle\": True,\n",
    "        \"num_workers\": 0,\n",
    "    }\n",
    "\n",
    "    val_params = {\n",
    "        \"batch_size\": model_params[\"VALID_BATCH_SIZE\"],\n",
    "        \"shuffle\": False,\n",
    "        \"num_workers\": 0,\n",
    "    }\n",
    "\n",
    "    # Creation of Dataloaders for testing and validation. This will be used down for training and validation stage for the model.\n",
    "    training_loader = DataLoader(training_set, **train_params)\n",
    "    val_loader = DataLoader(val_set, **val_params)\n",
    "    \n",
    "    print(\"TRAIN LOADER: \", len(training_loader))\n",
    "    print(\"VAL LOADER: \", len(val_loader))\n",
    "    \n",
    "    del train_params, val_params\n",
    "    \n",
    "    # Defining the optimizer that will be used to tune the weights of the network in the training session.\n",
    "    optimizer = torch.optim.Adam(\n",
    "        params=model.parameters(), lr=model_params[\"LEARNING_RATE\"]\n",
    "    )\n",
    "    \n",
    "    if model_params[\"SCHEDULER\"] == \"linear\":\n",
    "        scheduler = torch.optim.lr_scheduler.LinearLR(optimizer)\n",
    "    \n",
    "    # Training loop\n",
    "    console.log(f\"[Initiating Fine Tuning]...\\n\")\n",
    "\n",
    "    for epoch in range(model_params[\"TRAIN_EPOCHS\"]):\n",
    "\n",
    "        loss = train(epoch, tokenizer, model, device, training_loader, optimizer, scheduler)\n",
    "        losses.append(loss.cpu().numpy())\n",
    "\n",
    "        # evaluating test dataset        \n",
    "        predictions, actuals = validate(epoch, tokenizer, model, device, val_loader)\n",
    "        \n",
    "        final_df = pd.DataFrame({\"Generated Text\": predictions, \"Actual Text\": actuals})\n",
    "        final_df.to_csv(os.path.join(output_dir, f\"\"\"predictions_{model_params['MODEL']}_epoch{epoch}.csv\"\"\"))\n",
    "        print(\"SAVE TO CSV FINISHED\")\n",
    "        \n",
    "        \n",
    "        rouge = compute_metrics(predictions, actuals, tokenizer)\n",
    "        \n",
    "        rouge_df = pd.DataFrame.from_dict(rouge, orient='index')\n",
    "        rouge_df.to_csv(os.path.join(output_dir, f\"\"\"rouge_{model_params['MODEL']}_epoch{epoch}.csv\"\"\"))\n",
    "        print(\"SAVE ROUGE TO CSV FINISHED\")\n",
    "    \n",
    "    console.log(f\"[Saving Model]...\\n\")\n",
    "    # Saving the model after training\n",
    "    path = os.path.join(output_dir, \"model_files\")\n",
    "    model.save_pretrained(path)\n",
    "    tokenizer.save_pretrained(path)\n",
    "    \n",
    "    # converting list to array\n",
    "    arr = np.array(losses)\n",
    "    np.save(os.path.join(output_dir, f\"\"\"losses_{model_params['MODEL']}_epoch{model_params['TRAIN_EPOCHS']}\"\"\"), arr)\n",
    "\n",
    "    console.save_text(os.path.join(output_dir, \"logs.txt\"))\n",
    "\n",
    "    console.log(f\"[Validation Completed.]\\n\")\n",
    "    console.print(\n",
    "        f\"\"\"[Model] Model saved @ {os.path.join(output_dir, \"model_files\")}\\n\"\"\"\n",
    "    )\n",
    "    console.print(\n",
    "        f\"\"\"[Validation] Generation on Validation data saved @ {os.path.join(output_dir,'predictions.csv')}\\n\"\"\"\n",
    "    )\n",
    "    console.print(f\"\"\"[Logs] Logs saved @ {os.path.join(output_dir,'logs.txt')}\\n\"\"\")"
   ]
  },
  {
   "cell_type": "markdown",
   "id": "c6c98b31",
   "metadata": {},
   "source": [
    "### Loading Data"
   ]
  },
  {
   "cell_type": "code",
   "execution_count": 7,
   "id": "6aa74f3d",
   "metadata": {},
   "outputs": [
    {
     "name": "stdout",
     "output_type": "stream",
     "text": [
      "configured device:  cuda\n"
     ]
    },
    {
     "name": "stderr",
     "output_type": "stream",
     "text": [
      "Using custom data configuration default\n",
      "Reusing dataset xsum (C:\\Users\\cedri\\.cache\\huggingface\\datasets\\xsum\\default\\1.2.0\\32c23220eadddb1149b16ed2e9430a05293768cfffbdfd151058697d4c11f934)\n"
     ]
    },
    {
     "data": {
      "application/vnd.jupyter.widget-view+json": {
       "model_id": "60d7343407494fd0b8b190f6f0c6c037",
       "version_major": 2,
       "version_minor": 0
      },
      "text/plain": [
       "  0%|          | 0/3 [00:00<?, ?it/s]"
      ]
     },
     "metadata": {},
     "output_type": "display_data"
    }
   ],
   "source": [
    "from torch import cuda\n",
    "device = 'cuda' if cuda.is_available() else 'cpu'\n",
    "print(\"configured device: \", device)\n",
    "\n",
    "data = 'xsum'\n",
    "\n",
    "if data == 'cnn_dailymail':\n",
    "    dataset = load_dataset(data, '3.0.0')\n",
    "    source_text = \"article\"\n",
    "    target_text = \"highlights\"\n",
    "elif data == \"xsum\":\n",
    "    dataset = load_dataset(data)\n",
    "    source_text = \"document\"\n",
    "    target_text = \"summary\"\n",
    "else:\n",
    "    raise ValueError(\"Undefined dataset\")"
   ]
  },
  {
   "cell_type": "markdown",
   "id": "2952d092",
   "metadata": {},
   "source": [
    "## Model Params"
   ]
  },
  {
   "cell_type": "code",
   "execution_count": 8,
   "id": "9b26e994",
   "metadata": {},
   "outputs": [
    {
     "name": "stdout",
     "output_type": "stream",
     "text": [
      "===== Ouputs to be saved in =======\n",
      "C:\\Program Files (x86)\\Projects - Ongoing\\AIT\\NLP\\Project\\nlp-ablation-t5\\experiments\\outputs\\\n"
     ]
    }
   ],
   "source": [
    "# let's define model parameters specific to BART\n",
    "model_params = {\n",
    "    \"MODEL\": \"t5-small\",  # model_type: t5-base/t5-large\n",
    "    \"TRAIN_BATCH_SIZE\": 8,  # training batch size\n",
    "    \"VALID_BATCH_SIZE\": 8,  # validation batch size\n",
    "    \"TRAIN_EPOCHS\": 3,  # number of training epochs\n",
    "    \"VAL_EPOCHS\": 1,  # number of validation epochs\n",
    "    \"LEARNING_RATE\": 2e-05,  # learning rate default betas=(0.9, 0.999), eps=1e-08\n",
    "    \"SCHEDULER\": \"linear\",\n",
    "    \"MAX_SOURCE_TEXT_LENGTH\": 512,  # max length of source text\n",
    "    \"MAX_TARGET_TEXT_LENGTH\": 36,  # max length of target text\n",
    "    \"SEED\": 42,  # set seed for reproducibility\n",
    "}\n",
    "\n",
    "print(\"===== Ouputs to be saved in =======\")\n",
    "print(os.getcwd() + '\\outputs\\\\')"
   ]
  },
  {
   "cell_type": "markdown",
   "id": "93b0de37",
   "metadata": {},
   "source": [
    "## Train"
   ]
  },
  {
   "cell_type": "code",
   "execution_count": 12,
   "id": "31875aac",
   "metadata": {},
   "outputs": [
    {
     "data": {
      "text/html": [
       "<pre style=\"white-space:pre;overflow-x:auto;line-height:normal;font-family:Menlo,'DejaVu Sans Mono',consolas,'Courier New',monospace\"><span style=\"color: #7fbfbf; text-decoration-color: #7fbfbf\">[13:24:20] </span><span style=\"font-weight: bold\">[</span>Model<span style=\"font-weight: bold\">]</span>: Loading t5-small<span style=\"color: #808000; text-decoration-color: #808000\">...</span>          <a href=\"file://C:\\Users\\Public\\Documents\\Wondershare\\CreatorTemp\\ipykernel_12248\\3408253027.py\"><span style=\"color: #7f7f7f; text-decoration-color: #7f7f7f\">CreatorTemp/ipykernel_12248/3408253027.py</span></a><span style=\"color: #7f7f7f; text-decoration-color: #7f7f7f\">:</span><a href=\"file://C:\\Users\\Public\\Documents\\Wondershare\\CreatorTemp\\ipykernel_12248\\3408253027.py#18\"><span style=\"color: #7f7f7f; text-decoration-color: #7f7f7f\">18</span></a>\n",
       "<span style=\"color: #7fbfbf; text-decoration-color: #7fbfbf\">           </span>                                      <span style=\"color: #7f7f7f; text-decoration-color: #7f7f7f\">                                            </span>\n",
       "</pre>\n"
      ],
      "text/plain": [
       "\u001b[2;36m[13:24:20]\u001b[0m\u001b[2;36m \u001b[0m\u001b[1m[\u001b[0mModel\u001b[1m]\u001b[0m: Loading t5-small\u001b[33m...\u001b[0m          \u001b]8;id=644955;file://C:\\Users\\Public\\Documents\\Wondershare\\CreatorTemp\\ipykernel_12248\\3408253027.py\u001b\\\u001b[2mCreatorTemp/ipykernel_12248/3408253027.py\u001b[0m\u001b]8;;\u001b\\\u001b[2m:\u001b[0m\u001b]8;id=662091;file://C:\\Users\\Public\\Documents\\Wondershare\\CreatorTemp\\ipykernel_12248\\3408253027.py#18\u001b\\\u001b[2m18\u001b[0m\u001b]8;;\u001b\\\n",
       "\u001b[2;36m           \u001b[0m                                      \u001b[2m                                            \u001b[0m\n"
      ]
     },
     "metadata": {},
     "output_type": "display_data"
    },
    {
     "data": {
      "text/html": [
       "<pre style=\"white-space:pre;overflow-x:auto;line-height:normal;font-family:Menlo,'DejaVu Sans Mono',consolas,'Courier New',monospace\"><span style=\"color: #7fbfbf; text-decoration-color: #7fbfbf\">[13:24:31] </span><span style=\"font-weight: bold\">[</span>Data<span style=\"font-weight: bold\">]</span>: Reading data<span style=\"color: #808000; text-decoration-color: #808000\">...</span>               <a href=\"file://C:\\Users\\Public\\Documents\\Wondershare\\CreatorTemp\\ipykernel_12248\\3408253027.py\"><span style=\"color: #7f7f7f; text-decoration-color: #7f7f7f\">CreatorTemp/ipykernel_12248/3408253027.py</span></a><span style=\"color: #7f7f7f; text-decoration-color: #7f7f7f\">:</span><a href=\"file://C:\\Users\\Public\\Documents\\Wondershare\\CreatorTemp\\ipykernel_12248\\3408253027.py#38\"><span style=\"color: #7f7f7f; text-decoration-color: #7f7f7f\">38</span></a>\n",
       "<span style=\"color: #7fbfbf; text-decoration-color: #7fbfbf\">           </span>                                      <span style=\"color: #7f7f7f; text-decoration-color: #7f7f7f\">                                            </span>\n",
       "</pre>\n"
      ],
      "text/plain": [
       "\u001b[2;36m[13:24:31]\u001b[0m\u001b[2;36m \u001b[0m\u001b[1m[\u001b[0mData\u001b[1m]\u001b[0m: Reading data\u001b[33m...\u001b[0m               \u001b]8;id=450925;file://C:\\Users\\Public\\Documents\\Wondershare\\CreatorTemp\\ipykernel_12248\\3408253027.py\u001b\\\u001b[2mCreatorTemp/ipykernel_12248/3408253027.py\u001b[0m\u001b]8;;\u001b\\\u001b[2m:\u001b[0m\u001b]8;id=500592;file://C:\\Users\\Public\\Documents\\Wondershare\\CreatorTemp\\ipykernel_12248\\3408253027.py#38\u001b\\\u001b[2m38\u001b[0m\u001b]8;;\u001b\\\n",
       "\u001b[2;36m           \u001b[0m                                      \u001b[2m                                            \u001b[0m\n"
      ]
     },
     "metadata": {},
     "output_type": "display_data"
    },
    {
     "data": {
      "text/html": [
       "<pre style=\"white-space:pre;overflow-x:auto;line-height:normal;font-family:Menlo,'DejaVu Sans Mono',consolas,'Courier New',monospace\">FULL Dataset: <span style=\"font-weight: bold\">{</span><span style=\"color: #008000; text-decoration-color: #008000\">'train'</span>: <span style=\"font-weight: bold\">(</span><span style=\"color: #008080; text-decoration-color: #008080; font-weight: bold\">204045</span>, <span style=\"color: #008080; text-decoration-color: #008080; font-weight: bold\">3</span><span style=\"font-weight: bold\">)</span>, <span style=\"color: #008000; text-decoration-color: #008000\">'validation'</span>: <span style=\"font-weight: bold\">(</span><span style=\"color: #008080; text-decoration-color: #008080; font-weight: bold\">11332</span>, <span style=\"color: #008080; text-decoration-color: #008080; font-weight: bold\">3</span><span style=\"font-weight: bold\">)</span>, <span style=\"color: #008000; text-decoration-color: #008000\">'test'</span>: <span style=\"font-weight: bold\">(</span><span style=\"color: #008080; text-decoration-color: #008080; font-weight: bold\">11334</span>, <span style=\"color: #008080; text-decoration-color: #008080; font-weight: bold\">3</span><span style=\"font-weight: bold\">)}</span>\n",
       "</pre>\n"
      ],
      "text/plain": [
       "FULL Dataset: \u001b[1m{\u001b[0m\u001b[32m'train'\u001b[0m: \u001b[1m(\u001b[0m\u001b[1;36m204045\u001b[0m, \u001b[1;36m3\u001b[0m\u001b[1m)\u001b[0m, \u001b[32m'validation'\u001b[0m: \u001b[1m(\u001b[0m\u001b[1;36m11332\u001b[0m, \u001b[1;36m3\u001b[0m\u001b[1m)\u001b[0m, \u001b[32m'test'\u001b[0m: \u001b[1m(\u001b[0m\u001b[1;36m11334\u001b[0m, \u001b[1;36m3\u001b[0m\u001b[1m)\u001b[0m\u001b[1m}\u001b[0m\n"
      ]
     },
     "metadata": {},
     "output_type": "display_data"
    },
    {
     "data": {
      "text/html": [
       "<pre style=\"white-space:pre;overflow-x:auto;line-height:normal;font-family:Menlo,'DejaVu Sans Mono',consolas,'Courier New',monospace\">TRAIN Dataset: <span style=\"font-weight: bold\">(</span><span style=\"color: #008080; text-decoration-color: #008080; font-weight: bold\">204045</span>, <span style=\"color: #008080; text-decoration-color: #008080; font-weight: bold\">3</span><span style=\"font-weight: bold\">)</span>\n",
       "</pre>\n"
      ],
      "text/plain": [
       "TRAIN Dataset: \u001b[1m(\u001b[0m\u001b[1;36m204045\u001b[0m, \u001b[1;36m3\u001b[0m\u001b[1m)\u001b[0m\n"
      ]
     },
     "metadata": {},
     "output_type": "display_data"
    },
    {
     "data": {
      "text/html": [
       "<pre style=\"white-space:pre;overflow-x:auto;line-height:normal;font-family:Menlo,'DejaVu Sans Mono',consolas,'Courier New',monospace\">TEST Dataset: <span style=\"font-weight: bold\">(</span><span style=\"color: #008080; text-decoration-color: #008080; font-weight: bold\">11332</span>, <span style=\"color: #008080; text-decoration-color: #008080; font-weight: bold\">3</span><span style=\"font-weight: bold\">)</span>\n",
       "\n",
       "</pre>\n"
      ],
      "text/plain": [
       "TEST Dataset: \u001b[1m(\u001b[0m\u001b[1;36m11332\u001b[0m, \u001b[1;36m3\u001b[0m\u001b[1m)\u001b[0m\n",
       "\n"
      ]
     },
     "metadata": {},
     "output_type": "display_data"
    },
    {
     "name": "stdout",
     "output_type": "stream",
     "text": [
      "TRAIN LOADER:  125\n",
      "VAL LOADER:  125\n"
     ]
    },
    {
     "data": {
      "text/html": [
       "<pre style=\"white-space:pre;overflow-x:auto;line-height:normal;font-family:Menlo,'DejaVu Sans Mono',consolas,'Courier New',monospace\"><span style=\"color: #7fbfbf; text-decoration-color: #7fbfbf\">[13:24:32] </span><span style=\"font-weight: bold\">[</span>Initiating Fine Tuning<span style=\"font-weight: bold\">]</span><span style=\"color: #808000; text-decoration-color: #808000\">...</span>          <a href=\"file://C:\\Users\\Public\\Documents\\Wondershare\\CreatorTemp\\ipykernel_12248\\3408253027.py\"><span style=\"color: #7f7f7f; text-decoration-color: #7f7f7f\">CreatorTemp/ipykernel_12248/3408253027.py</span></a><span style=\"color: #7f7f7f; text-decoration-color: #7f7f7f\">:</span><a href=\"file://C:\\Users\\Public\\Documents\\Wondershare\\CreatorTemp\\ipykernel_12248\\3408253027.py#105\"><span style=\"color: #7f7f7f; text-decoration-color: #7f7f7f\">105</span></a>\n",
       "<span style=\"color: #7fbfbf; text-decoration-color: #7fbfbf\">           </span>                                     <span style=\"color: #7f7f7f; text-decoration-color: #7f7f7f\">                                             </span>\n",
       "</pre>\n"
      ],
      "text/plain": [
       "\u001b[2;36m[13:24:32]\u001b[0m\u001b[2;36m \u001b[0m\u001b[1m[\u001b[0mInitiating Fine Tuning\u001b[1m]\u001b[0m\u001b[33m...\u001b[0m          \u001b]8;id=724528;file://C:\\Users\\Public\\Documents\\Wondershare\\CreatorTemp\\ipykernel_12248\\3408253027.py\u001b\\\u001b[2mCreatorTemp/ipykernel_12248/3408253027.py\u001b[0m\u001b]8;;\u001b\\\u001b[2m:\u001b[0m\u001b]8;id=380700;file://C:\\Users\\Public\\Documents\\Wondershare\\CreatorTemp\\ipykernel_12248\\3408253027.py#105\u001b\\\u001b[2m105\u001b[0m\u001b]8;;\u001b\\\n",
       "\u001b[2;36m           \u001b[0m                                     \u001b[2m                                             \u001b[0m\n"
      ]
     },
     "metadata": {},
     "output_type": "display_data"
    },
    {
     "name": "stdout",
     "output_type": "stream",
     "text": [
      "STEP:  0 / 125\n"
     ]
    },
    {
     "data": {
      "text/html": [
       "<pre style=\"white-space:pre;overflow-x:auto;line-height:normal;font-family:Menlo,'DejaVu Sans Mono',consolas,'Courier New',monospace\"><span style=\"font-style: italic\">                               Training Status                               </span>\n",
       "+---------------------------------------------------------------------------+\n",
       "|<span style=\"font-weight: bold\">Epoch </span>|<span style=\"font-weight: bold\"> Steps </span>|<span style=\"font-weight: bold\">                            Loss                            </span>|\n",
       "|------+-------+------------------------------------------------------------|\n",
       "|  0   | 0/125 | tensor(6.2060, device='cuda:0', grad_fn=&lt;NllLossBackward0&gt;)|\n",
       "+---------------------------------------------------------------------------+\n",
       "</pre>\n"
      ],
      "text/plain": [
       "\u001b[3m                               Training Status                               \u001b[0m\n",
       "+---------------------------------------------------------------------------+\n",
       "|\u001b[1mEpoch\u001b[0m\u001b[1m \u001b[0m|\u001b[1m \u001b[0m\u001b[1mSteps\u001b[0m\u001b[1m \u001b[0m|\u001b[1m \u001b[0m\u001b[1m                           Loss                            \u001b[0m|\n",
       "|------+-------+------------------------------------------------------------|\n",
       "|  0   | 0/125 | tensor(6.2060, device='cuda:0', grad_fn=<NllLossBackward0>)|\n",
       "+---------------------------------------------------------------------------+\n"
      ]
     },
     "metadata": {},
     "output_type": "display_data"
    },
    {
     "name": "stdout",
     "output_type": "stream",
     "text": [
      "STEP:  10 / 125\n"
     ]
    },
    {
     "data": {
      "text/html": [
       "<pre style=\"white-space:pre;overflow-x:auto;line-height:normal;font-family:Menlo,'DejaVu Sans Mono',consolas,'Courier New',monospace\"><span style=\"font-style: italic\">                               Training Status                                </span>\n",
       "+----------------------------------------------------------------------------+\n",
       "|<span style=\"font-weight: bold\">Epoch </span>|<span style=\"font-weight: bold\"> Steps  </span>|<span style=\"font-weight: bold\">                            Loss                            </span>|\n",
       "|------+--------+------------------------------------------------------------|\n",
       "|  0   | 0/125  | tensor(6.2060, device='cuda:0', grad_fn=&lt;NllLossBackward0&gt;)|\n",
       "|  0   | 10/125 | tensor(6.0331, device='cuda:0', grad_fn=&lt;NllLossBackward0&gt;)|\n",
       "+----------------------------------------------------------------------------+\n",
       "</pre>\n"
      ],
      "text/plain": [
       "\u001b[3m                               Training Status                                \u001b[0m\n",
       "+----------------------------------------------------------------------------+\n",
       "|\u001b[1mEpoch\u001b[0m\u001b[1m \u001b[0m|\u001b[1m \u001b[0m\u001b[1mSteps \u001b[0m\u001b[1m \u001b[0m|\u001b[1m \u001b[0m\u001b[1m                           Loss                            \u001b[0m|\n",
       "|------+--------+------------------------------------------------------------|\n",
       "|  0   | 0/125  | tensor(6.2060, device='cuda:0', grad_fn=<NllLossBackward0>)|\n",
       "|  0   | 10/125 | tensor(6.0331, device='cuda:0', grad_fn=<NllLossBackward0>)|\n",
       "+----------------------------------------------------------------------------+\n"
      ]
     },
     "metadata": {},
     "output_type": "display_data"
    },
    {
     "name": "stdout",
     "output_type": "stream",
     "text": [
      "STEP:  20 / 125\n"
     ]
    },
    {
     "data": {
      "text/html": [
       "<pre style=\"white-space:pre;overflow-x:auto;line-height:normal;font-family:Menlo,'DejaVu Sans Mono',consolas,'Courier New',monospace\"><span style=\"font-style: italic\">                               Training Status                                </span>\n",
       "+----------------------------------------------------------------------------+\n",
       "|<span style=\"font-weight: bold\">Epoch </span>|<span style=\"font-weight: bold\"> Steps  </span>|<span style=\"font-weight: bold\">                            Loss                            </span>|\n",
       "|------+--------+------------------------------------------------------------|\n",
       "|  0   | 0/125  | tensor(6.2060, device='cuda:0', grad_fn=&lt;NllLossBackward0&gt;)|\n",
       "|  0   | 10/125 | tensor(6.0331, device='cuda:0', grad_fn=&lt;NllLossBackward0&gt;)|\n",
       "|  0   | 20/125 | tensor(6.0198, device='cuda:0', grad_fn=&lt;NllLossBackward0&gt;)|\n",
       "+----------------------------------------------------------------------------+\n",
       "</pre>\n"
      ],
      "text/plain": [
       "\u001b[3m                               Training Status                                \u001b[0m\n",
       "+----------------------------------------------------------------------------+\n",
       "|\u001b[1mEpoch\u001b[0m\u001b[1m \u001b[0m|\u001b[1m \u001b[0m\u001b[1mSteps \u001b[0m\u001b[1m \u001b[0m|\u001b[1m \u001b[0m\u001b[1m                           Loss                            \u001b[0m|\n",
       "|------+--------+------------------------------------------------------------|\n",
       "|  0   | 0/125  | tensor(6.2060, device='cuda:0', grad_fn=<NllLossBackward0>)|\n",
       "|  0   | 10/125 | tensor(6.0331, device='cuda:0', grad_fn=<NllLossBackward0>)|\n",
       "|  0   | 20/125 | tensor(6.0198, device='cuda:0', grad_fn=<NllLossBackward0>)|\n",
       "+----------------------------------------------------------------------------+\n"
      ]
     },
     "metadata": {},
     "output_type": "display_data"
    },
    {
     "name": "stdout",
     "output_type": "stream",
     "text": [
      "STEP:  30 / 125\n"
     ]
    },
    {
     "data": {
      "text/html": [
       "<pre style=\"white-space:pre;overflow-x:auto;line-height:normal;font-family:Menlo,'DejaVu Sans Mono',consolas,'Courier New',monospace\"><span style=\"font-style: italic\">                               Training Status                                </span>\n",
       "+----------------------------------------------------------------------------+\n",
       "|<span style=\"font-weight: bold\">Epoch </span>|<span style=\"font-weight: bold\"> Steps  </span>|<span style=\"font-weight: bold\">                            Loss                            </span>|\n",
       "|------+--------+------------------------------------------------------------|\n",
       "|  0   | 0/125  | tensor(6.2060, device='cuda:0', grad_fn=&lt;NllLossBackward0&gt;)|\n",
       "|  0   | 10/125 | tensor(6.0331, device='cuda:0', grad_fn=&lt;NllLossBackward0&gt;)|\n",
       "|  0   | 20/125 | tensor(6.0198, device='cuda:0', grad_fn=&lt;NllLossBackward0&gt;)|\n",
       "|  0   | 30/125 | tensor(6.3243, device='cuda:0', grad_fn=&lt;NllLossBackward0&gt;)|\n",
       "+----------------------------------------------------------------------------+\n",
       "</pre>\n"
      ],
      "text/plain": [
       "\u001b[3m                               Training Status                                \u001b[0m\n",
       "+----------------------------------------------------------------------------+\n",
       "|\u001b[1mEpoch\u001b[0m\u001b[1m \u001b[0m|\u001b[1m \u001b[0m\u001b[1mSteps \u001b[0m\u001b[1m \u001b[0m|\u001b[1m \u001b[0m\u001b[1m                           Loss                            \u001b[0m|\n",
       "|------+--------+------------------------------------------------------------|\n",
       "|  0   | 0/125  | tensor(6.2060, device='cuda:0', grad_fn=<NllLossBackward0>)|\n",
       "|  0   | 10/125 | tensor(6.0331, device='cuda:0', grad_fn=<NllLossBackward0>)|\n",
       "|  0   | 20/125 | tensor(6.0198, device='cuda:0', grad_fn=<NllLossBackward0>)|\n",
       "|  0   | 30/125 | tensor(6.3243, device='cuda:0', grad_fn=<NllLossBackward0>)|\n",
       "+----------------------------------------------------------------------------+\n"
      ]
     },
     "metadata": {},
     "output_type": "display_data"
    },
    {
     "name": "stdout",
     "output_type": "stream",
     "text": [
      "STEP:  40 / 125\n"
     ]
    },
    {
     "data": {
      "text/html": [
       "<pre style=\"white-space:pre;overflow-x:auto;line-height:normal;font-family:Menlo,'DejaVu Sans Mono',consolas,'Courier New',monospace\"><span style=\"font-style: italic\">                               Training Status                                </span>\n",
       "+----------------------------------------------------------------------------+\n",
       "|<span style=\"font-weight: bold\">Epoch </span>|<span style=\"font-weight: bold\"> Steps  </span>|<span style=\"font-weight: bold\">                            Loss                            </span>|\n",
       "|------+--------+------------------------------------------------------------|\n",
       "|  0   | 0/125  | tensor(6.2060, device='cuda:0', grad_fn=&lt;NllLossBackward0&gt;)|\n",
       "|  0   | 10/125 | tensor(6.0331, device='cuda:0', grad_fn=&lt;NllLossBackward0&gt;)|\n",
       "|  0   | 20/125 | tensor(6.0198, device='cuda:0', grad_fn=&lt;NllLossBackward0&gt;)|\n",
       "|  0   | 30/125 | tensor(6.3243, device='cuda:0', grad_fn=&lt;NllLossBackward0&gt;)|\n",
       "|  0   | 40/125 | tensor(6.0157, device='cuda:0', grad_fn=&lt;NllLossBackward0&gt;)|\n",
       "+----------------------------------------------------------------------------+\n",
       "</pre>\n"
      ],
      "text/plain": [
       "\u001b[3m                               Training Status                                \u001b[0m\n",
       "+----------------------------------------------------------------------------+\n",
       "|\u001b[1mEpoch\u001b[0m\u001b[1m \u001b[0m|\u001b[1m \u001b[0m\u001b[1mSteps \u001b[0m\u001b[1m \u001b[0m|\u001b[1m \u001b[0m\u001b[1m                           Loss                            \u001b[0m|\n",
       "|------+--------+------------------------------------------------------------|\n",
       "|  0   | 0/125  | tensor(6.2060, device='cuda:0', grad_fn=<NllLossBackward0>)|\n",
       "|  0   | 10/125 | tensor(6.0331, device='cuda:0', grad_fn=<NllLossBackward0>)|\n",
       "|  0   | 20/125 | tensor(6.0198, device='cuda:0', grad_fn=<NllLossBackward0>)|\n",
       "|  0   | 30/125 | tensor(6.3243, device='cuda:0', grad_fn=<NllLossBackward0>)|\n",
       "|  0   | 40/125 | tensor(6.0157, device='cuda:0', grad_fn=<NllLossBackward0>)|\n",
       "+----------------------------------------------------------------------------+\n"
      ]
     },
     "metadata": {},
     "output_type": "display_data"
    },
    {
     "name": "stdout",
     "output_type": "stream",
     "text": [
      "STEP:  50 / 125\n"
     ]
    },
    {
     "data": {
      "text/html": [
       "<pre style=\"white-space:pre;overflow-x:auto;line-height:normal;font-family:Menlo,'DejaVu Sans Mono',consolas,'Courier New',monospace\"><span style=\"font-style: italic\">                               Training Status                                </span>\n",
       "+----------------------------------------------------------------------------+\n",
       "|<span style=\"font-weight: bold\">Epoch </span>|<span style=\"font-weight: bold\"> Steps  </span>|<span style=\"font-weight: bold\">                            Loss                            </span>|\n",
       "|------+--------+------------------------------------------------------------|\n",
       "|  0   | 0/125  | tensor(6.2060, device='cuda:0', grad_fn=&lt;NllLossBackward0&gt;)|\n",
       "|  0   | 10/125 | tensor(6.0331, device='cuda:0', grad_fn=&lt;NllLossBackward0&gt;)|\n",
       "|  0   | 20/125 | tensor(6.0198, device='cuda:0', grad_fn=&lt;NllLossBackward0&gt;)|\n",
       "|  0   | 30/125 | tensor(6.3243, device='cuda:0', grad_fn=&lt;NllLossBackward0&gt;)|\n",
       "|  0   | 40/125 | tensor(6.0157, device='cuda:0', grad_fn=&lt;NllLossBackward0&gt;)|\n",
       "|  0   | 50/125 | tensor(5.3991, device='cuda:0', grad_fn=&lt;NllLossBackward0&gt;)|\n",
       "+----------------------------------------------------------------------------+\n",
       "</pre>\n"
      ],
      "text/plain": [
       "\u001b[3m                               Training Status                                \u001b[0m\n",
       "+----------------------------------------------------------------------------+\n",
       "|\u001b[1mEpoch\u001b[0m\u001b[1m \u001b[0m|\u001b[1m \u001b[0m\u001b[1mSteps \u001b[0m\u001b[1m \u001b[0m|\u001b[1m \u001b[0m\u001b[1m                           Loss                            \u001b[0m|\n",
       "|------+--------+------------------------------------------------------------|\n",
       "|  0   | 0/125  | tensor(6.2060, device='cuda:0', grad_fn=<NllLossBackward0>)|\n",
       "|  0   | 10/125 | tensor(6.0331, device='cuda:0', grad_fn=<NllLossBackward0>)|\n",
       "|  0   | 20/125 | tensor(6.0198, device='cuda:0', grad_fn=<NllLossBackward0>)|\n",
       "|  0   | 30/125 | tensor(6.3243, device='cuda:0', grad_fn=<NllLossBackward0>)|\n",
       "|  0   | 40/125 | tensor(6.0157, device='cuda:0', grad_fn=<NllLossBackward0>)|\n",
       "|  0   | 50/125 | tensor(5.3991, device='cuda:0', grad_fn=<NllLossBackward0>)|\n",
       "+----------------------------------------------------------------------------+\n"
      ]
     },
     "metadata": {},
     "output_type": "display_data"
    },
    {
     "name": "stdout",
     "output_type": "stream",
     "text": [
      "STEP:  60 / 125\n"
     ]
    },
    {
     "data": {
      "text/html": [
       "<pre style=\"white-space:pre;overflow-x:auto;line-height:normal;font-family:Menlo,'DejaVu Sans Mono',consolas,'Courier New',monospace\"><span style=\"font-style: italic\">                               Training Status                                </span>\n",
       "+----------------------------------------------------------------------------+\n",
       "|<span style=\"font-weight: bold\">Epoch </span>|<span style=\"font-weight: bold\"> Steps  </span>|<span style=\"font-weight: bold\">                            Loss                            </span>|\n",
       "|------+--------+------------------------------------------------------------|\n",
       "|  0   | 0/125  | tensor(6.2060, device='cuda:0', grad_fn=&lt;NllLossBackward0&gt;)|\n",
       "|  0   | 10/125 | tensor(6.0331, device='cuda:0', grad_fn=&lt;NllLossBackward0&gt;)|\n",
       "|  0   | 20/125 | tensor(6.0198, device='cuda:0', grad_fn=&lt;NllLossBackward0&gt;)|\n",
       "|  0   | 30/125 | tensor(6.3243, device='cuda:0', grad_fn=&lt;NllLossBackward0&gt;)|\n",
       "|  0   | 40/125 | tensor(6.0157, device='cuda:0', grad_fn=&lt;NllLossBackward0&gt;)|\n",
       "|  0   | 50/125 | tensor(5.3991, device='cuda:0', grad_fn=&lt;NllLossBackward0&gt;)|\n",
       "|  0   | 60/125 | tensor(5.8357, device='cuda:0', grad_fn=&lt;NllLossBackward0&gt;)|\n",
       "+----------------------------------------------------------------------------+\n",
       "</pre>\n"
      ],
      "text/plain": [
       "\u001b[3m                               Training Status                                \u001b[0m\n",
       "+----------------------------------------------------------------------------+\n",
       "|\u001b[1mEpoch\u001b[0m\u001b[1m \u001b[0m|\u001b[1m \u001b[0m\u001b[1mSteps \u001b[0m\u001b[1m \u001b[0m|\u001b[1m \u001b[0m\u001b[1m                           Loss                            \u001b[0m|\n",
       "|------+--------+------------------------------------------------------------|\n",
       "|  0   | 0/125  | tensor(6.2060, device='cuda:0', grad_fn=<NllLossBackward0>)|\n",
       "|  0   | 10/125 | tensor(6.0331, device='cuda:0', grad_fn=<NllLossBackward0>)|\n",
       "|  0   | 20/125 | tensor(6.0198, device='cuda:0', grad_fn=<NllLossBackward0>)|\n",
       "|  0   | 30/125 | tensor(6.3243, device='cuda:0', grad_fn=<NllLossBackward0>)|\n",
       "|  0   | 40/125 | tensor(6.0157, device='cuda:0', grad_fn=<NllLossBackward0>)|\n",
       "|  0   | 50/125 | tensor(5.3991, device='cuda:0', grad_fn=<NllLossBackward0>)|\n",
       "|  0   | 60/125 | tensor(5.8357, device='cuda:0', grad_fn=<NllLossBackward0>)|\n",
       "+----------------------------------------------------------------------------+\n"
      ]
     },
     "metadata": {},
     "output_type": "display_data"
    },
    {
     "name": "stdout",
     "output_type": "stream",
     "text": [
      "STEP:  70 / 125\n"
     ]
    },
    {
     "data": {
      "text/html": [
       "<pre style=\"white-space:pre;overflow-x:auto;line-height:normal;font-family:Menlo,'DejaVu Sans Mono',consolas,'Courier New',monospace\"><span style=\"font-style: italic\">                               Training Status                                </span>\n",
       "+----------------------------------------------------------------------------+\n",
       "|<span style=\"font-weight: bold\">Epoch </span>|<span style=\"font-weight: bold\"> Steps  </span>|<span style=\"font-weight: bold\">                            Loss                            </span>|\n",
       "|------+--------+------------------------------------------------------------|\n",
       "|  0   | 0/125  | tensor(6.2060, device='cuda:0', grad_fn=&lt;NllLossBackward0&gt;)|\n",
       "|  0   | 10/125 | tensor(6.0331, device='cuda:0', grad_fn=&lt;NllLossBackward0&gt;)|\n",
       "|  0   | 20/125 | tensor(6.0198, device='cuda:0', grad_fn=&lt;NllLossBackward0&gt;)|\n",
       "|  0   | 30/125 | tensor(6.3243, device='cuda:0', grad_fn=&lt;NllLossBackward0&gt;)|\n",
       "|  0   | 40/125 | tensor(6.0157, device='cuda:0', grad_fn=&lt;NllLossBackward0&gt;)|\n",
       "|  0   | 50/125 | tensor(5.3991, device='cuda:0', grad_fn=&lt;NllLossBackward0&gt;)|\n",
       "|  0   | 60/125 | tensor(5.8357, device='cuda:0', grad_fn=&lt;NllLossBackward0&gt;)|\n",
       "|  0   | 70/125 | tensor(6.0591, device='cuda:0', grad_fn=&lt;NllLossBackward0&gt;)|\n",
       "+----------------------------------------------------------------------------+\n",
       "</pre>\n"
      ],
      "text/plain": [
       "\u001b[3m                               Training Status                                \u001b[0m\n",
       "+----------------------------------------------------------------------------+\n",
       "|\u001b[1mEpoch\u001b[0m\u001b[1m \u001b[0m|\u001b[1m \u001b[0m\u001b[1mSteps \u001b[0m\u001b[1m \u001b[0m|\u001b[1m \u001b[0m\u001b[1m                           Loss                            \u001b[0m|\n",
       "|------+--------+------------------------------------------------------------|\n",
       "|  0   | 0/125  | tensor(6.2060, device='cuda:0', grad_fn=<NllLossBackward0>)|\n",
       "|  0   | 10/125 | tensor(6.0331, device='cuda:0', grad_fn=<NllLossBackward0>)|\n",
       "|  0   | 20/125 | tensor(6.0198, device='cuda:0', grad_fn=<NllLossBackward0>)|\n",
       "|  0   | 30/125 | tensor(6.3243, device='cuda:0', grad_fn=<NllLossBackward0>)|\n",
       "|  0   | 40/125 | tensor(6.0157, device='cuda:0', grad_fn=<NllLossBackward0>)|\n",
       "|  0   | 50/125 | tensor(5.3991, device='cuda:0', grad_fn=<NllLossBackward0>)|\n",
       "|  0   | 60/125 | tensor(5.8357, device='cuda:0', grad_fn=<NllLossBackward0>)|\n",
       "|  0   | 70/125 | tensor(6.0591, device='cuda:0', grad_fn=<NllLossBackward0>)|\n",
       "+----------------------------------------------------------------------------+\n"
      ]
     },
     "metadata": {},
     "output_type": "display_data"
    },
    {
     "name": "stdout",
     "output_type": "stream",
     "text": [
      "STEP:  80 / 125\n"
     ]
    },
    {
     "data": {
      "text/html": [
       "<pre style=\"white-space:pre;overflow-x:auto;line-height:normal;font-family:Menlo,'DejaVu Sans Mono',consolas,'Courier New',monospace\"><span style=\"font-style: italic\">                               Training Status                                </span>\n",
       "+----------------------------------------------------------------------------+\n",
       "|<span style=\"font-weight: bold\">Epoch </span>|<span style=\"font-weight: bold\"> Steps  </span>|<span style=\"font-weight: bold\">                            Loss                            </span>|\n",
       "|------+--------+------------------------------------------------------------|\n",
       "|  0   | 0/125  | tensor(6.2060, device='cuda:0', grad_fn=&lt;NllLossBackward0&gt;)|\n",
       "|  0   | 10/125 | tensor(6.0331, device='cuda:0', grad_fn=&lt;NllLossBackward0&gt;)|\n",
       "|  0   | 20/125 | tensor(6.0198, device='cuda:0', grad_fn=&lt;NllLossBackward0&gt;)|\n",
       "|  0   | 30/125 | tensor(6.3243, device='cuda:0', grad_fn=&lt;NllLossBackward0&gt;)|\n",
       "|  0   | 40/125 | tensor(6.0157, device='cuda:0', grad_fn=&lt;NllLossBackward0&gt;)|\n",
       "|  0   | 50/125 | tensor(5.3991, device='cuda:0', grad_fn=&lt;NllLossBackward0&gt;)|\n",
       "|  0   | 60/125 | tensor(5.8357, device='cuda:0', grad_fn=&lt;NllLossBackward0&gt;)|\n",
       "|  0   | 70/125 | tensor(6.0591, device='cuda:0', grad_fn=&lt;NllLossBackward0&gt;)|\n",
       "|  0   | 80/125 | tensor(5.6659, device='cuda:0', grad_fn=&lt;NllLossBackward0&gt;)|\n",
       "+----------------------------------------------------------------------------+\n",
       "</pre>\n"
      ],
      "text/plain": [
       "\u001b[3m                               Training Status                                \u001b[0m\n",
       "+----------------------------------------------------------------------------+\n",
       "|\u001b[1mEpoch\u001b[0m\u001b[1m \u001b[0m|\u001b[1m \u001b[0m\u001b[1mSteps \u001b[0m\u001b[1m \u001b[0m|\u001b[1m \u001b[0m\u001b[1m                           Loss                            \u001b[0m|\n",
       "|------+--------+------------------------------------------------------------|\n",
       "|  0   | 0/125  | tensor(6.2060, device='cuda:0', grad_fn=<NllLossBackward0>)|\n",
       "|  0   | 10/125 | tensor(6.0331, device='cuda:0', grad_fn=<NllLossBackward0>)|\n",
       "|  0   | 20/125 | tensor(6.0198, device='cuda:0', grad_fn=<NllLossBackward0>)|\n",
       "|  0   | 30/125 | tensor(6.3243, device='cuda:0', grad_fn=<NllLossBackward0>)|\n",
       "|  0   | 40/125 | tensor(6.0157, device='cuda:0', grad_fn=<NllLossBackward0>)|\n",
       "|  0   | 50/125 | tensor(5.3991, device='cuda:0', grad_fn=<NllLossBackward0>)|\n",
       "|  0   | 60/125 | tensor(5.8357, device='cuda:0', grad_fn=<NllLossBackward0>)|\n",
       "|  0   | 70/125 | tensor(6.0591, device='cuda:0', grad_fn=<NllLossBackward0>)|\n",
       "|  0   | 80/125 | tensor(5.6659, device='cuda:0', grad_fn=<NllLossBackward0>)|\n",
       "+----------------------------------------------------------------------------+\n"
      ]
     },
     "metadata": {},
     "output_type": "display_data"
    },
    {
     "name": "stdout",
     "output_type": "stream",
     "text": [
      "STEP:  90 / 125\n"
     ]
    },
    {
     "data": {
      "text/html": [
       "<pre style=\"white-space:pre;overflow-x:auto;line-height:normal;font-family:Menlo,'DejaVu Sans Mono',consolas,'Courier New',monospace\"><span style=\"font-style: italic\">                               Training Status                                </span>\n",
       "+----------------------------------------------------------------------------+\n",
       "|<span style=\"font-weight: bold\">Epoch </span>|<span style=\"font-weight: bold\"> Steps  </span>|<span style=\"font-weight: bold\">                            Loss                            </span>|\n",
       "|------+--------+------------------------------------------------------------|\n",
       "|  0   | 0/125  | tensor(6.2060, device='cuda:0', grad_fn=&lt;NllLossBackward0&gt;)|\n",
       "|  0   | 10/125 | tensor(6.0331, device='cuda:0', grad_fn=&lt;NllLossBackward0&gt;)|\n",
       "|  0   | 20/125 | tensor(6.0198, device='cuda:0', grad_fn=&lt;NllLossBackward0&gt;)|\n",
       "|  0   | 30/125 | tensor(6.3243, device='cuda:0', grad_fn=&lt;NllLossBackward0&gt;)|\n",
       "|  0   | 40/125 | tensor(6.0157, device='cuda:0', grad_fn=&lt;NllLossBackward0&gt;)|\n",
       "|  0   | 50/125 | tensor(5.3991, device='cuda:0', grad_fn=&lt;NllLossBackward0&gt;)|\n",
       "|  0   | 60/125 | tensor(5.8357, device='cuda:0', grad_fn=&lt;NllLossBackward0&gt;)|\n",
       "|  0   | 70/125 | tensor(6.0591, device='cuda:0', grad_fn=&lt;NllLossBackward0&gt;)|\n",
       "|  0   | 80/125 | tensor(5.6659, device='cuda:0', grad_fn=&lt;NllLossBackward0&gt;)|\n",
       "|  0   | 90/125 | tensor(5.6208, device='cuda:0', grad_fn=&lt;NllLossBackward0&gt;)|\n",
       "+----------------------------------------------------------------------------+\n",
       "</pre>\n"
      ],
      "text/plain": [
       "\u001b[3m                               Training Status                                \u001b[0m\n",
       "+----------------------------------------------------------------------------+\n",
       "|\u001b[1mEpoch\u001b[0m\u001b[1m \u001b[0m|\u001b[1m \u001b[0m\u001b[1mSteps \u001b[0m\u001b[1m \u001b[0m|\u001b[1m \u001b[0m\u001b[1m                           Loss                            \u001b[0m|\n",
       "|------+--------+------------------------------------------------------------|\n",
       "|  0   | 0/125  | tensor(6.2060, device='cuda:0', grad_fn=<NllLossBackward0>)|\n",
       "|  0   | 10/125 | tensor(6.0331, device='cuda:0', grad_fn=<NllLossBackward0>)|\n",
       "|  0   | 20/125 | tensor(6.0198, device='cuda:0', grad_fn=<NllLossBackward0>)|\n",
       "|  0   | 30/125 | tensor(6.3243, device='cuda:0', grad_fn=<NllLossBackward0>)|\n",
       "|  0   | 40/125 | tensor(6.0157, device='cuda:0', grad_fn=<NllLossBackward0>)|\n",
       "|  0   | 50/125 | tensor(5.3991, device='cuda:0', grad_fn=<NllLossBackward0>)|\n",
       "|  0   | 60/125 | tensor(5.8357, device='cuda:0', grad_fn=<NllLossBackward0>)|\n",
       "|  0   | 70/125 | tensor(6.0591, device='cuda:0', grad_fn=<NllLossBackward0>)|\n",
       "|  0   | 80/125 | tensor(5.6659, device='cuda:0', grad_fn=<NllLossBackward0>)|\n",
       "|  0   | 90/125 | tensor(5.6208, device='cuda:0', grad_fn=<NllLossBackward0>)|\n",
       "+----------------------------------------------------------------------------+\n"
      ]
     },
     "metadata": {},
     "output_type": "display_data"
    },
    {
     "name": "stdout",
     "output_type": "stream",
     "text": [
      "STEP:  100 / 125\n"
     ]
    },
    {
     "data": {
      "text/html": [
       "<pre style=\"white-space:pre;overflow-x:auto;line-height:normal;font-family:Menlo,'DejaVu Sans Mono',consolas,'Courier New',monospace\"><span style=\"font-style: italic\">                                Training Status                                </span>\n",
       "+-----------------------------------------------------------------------------+\n",
       "|<span style=\"font-weight: bold\">Epoch </span>|<span style=\"font-weight: bold\">  Steps  </span>|<span style=\"font-weight: bold\">                            Loss                            </span>|\n",
       "|------+---------+------------------------------------------------------------|\n",
       "|  0   |  0/125  | tensor(6.2060, device='cuda:0', grad_fn=&lt;NllLossBackward0&gt;)|\n",
       "|  0   | 10/125  | tensor(6.0331, device='cuda:0', grad_fn=&lt;NllLossBackward0&gt;)|\n",
       "|  0   | 20/125  | tensor(6.0198, device='cuda:0', grad_fn=&lt;NllLossBackward0&gt;)|\n",
       "|  0   | 30/125  | tensor(6.3243, device='cuda:0', grad_fn=&lt;NllLossBackward0&gt;)|\n",
       "|  0   | 40/125  | tensor(6.0157, device='cuda:0', grad_fn=&lt;NllLossBackward0&gt;)|\n",
       "|  0   | 50/125  | tensor(5.3991, device='cuda:0', grad_fn=&lt;NllLossBackward0&gt;)|\n",
       "|  0   | 60/125  | tensor(5.8357, device='cuda:0', grad_fn=&lt;NllLossBackward0&gt;)|\n",
       "|  0   | 70/125  | tensor(6.0591, device='cuda:0', grad_fn=&lt;NllLossBackward0&gt;)|\n",
       "|  0   | 80/125  | tensor(5.6659, device='cuda:0', grad_fn=&lt;NllLossBackward0&gt;)|\n",
       "|  0   | 90/125  | tensor(5.6208, device='cuda:0', grad_fn=&lt;NllLossBackward0&gt;)|\n",
       "|  0   | 100/125 | tensor(5.3076, device='cuda:0', grad_fn=&lt;NllLossBackward0&gt;)|\n",
       "+-----------------------------------------------------------------------------+\n",
       "</pre>\n"
      ],
      "text/plain": [
       "\u001b[3m                                Training Status                                \u001b[0m\n",
       "+-----------------------------------------------------------------------------+\n",
       "|\u001b[1mEpoch\u001b[0m\u001b[1m \u001b[0m|\u001b[1m \u001b[0m\u001b[1m Steps \u001b[0m\u001b[1m \u001b[0m|\u001b[1m \u001b[0m\u001b[1m                           Loss                            \u001b[0m|\n",
       "|------+---------+------------------------------------------------------------|\n",
       "|  0   |  0/125  | tensor(6.2060, device='cuda:0', grad_fn=<NllLossBackward0>)|\n",
       "|  0   | 10/125  | tensor(6.0331, device='cuda:0', grad_fn=<NllLossBackward0>)|\n",
       "|  0   | 20/125  | tensor(6.0198, device='cuda:0', grad_fn=<NllLossBackward0>)|\n",
       "|  0   | 30/125  | tensor(6.3243, device='cuda:0', grad_fn=<NllLossBackward0>)|\n",
       "|  0   | 40/125  | tensor(6.0157, device='cuda:0', grad_fn=<NllLossBackward0>)|\n",
       "|  0   | 50/125  | tensor(5.3991, device='cuda:0', grad_fn=<NllLossBackward0>)|\n",
       "|  0   | 60/125  | tensor(5.8357, device='cuda:0', grad_fn=<NllLossBackward0>)|\n",
       "|  0   | 70/125  | tensor(6.0591, device='cuda:0', grad_fn=<NllLossBackward0>)|\n",
       "|  0   | 80/125  | tensor(5.6659, device='cuda:0', grad_fn=<NllLossBackward0>)|\n",
       "|  0   | 90/125  | tensor(5.6208, device='cuda:0', grad_fn=<NllLossBackward0>)|\n",
       "|  0   | 100/125 | tensor(5.3076, device='cuda:0', grad_fn=<NllLossBackward0>)|\n",
       "+-----------------------------------------------------------------------------+\n"
      ]
     },
     "metadata": {},
     "output_type": "display_data"
    },
    {
     "name": "stdout",
     "output_type": "stream",
     "text": [
      "STEP:  110 / 125\n"
     ]
    },
    {
     "data": {
      "text/html": [
       "<pre style=\"white-space:pre;overflow-x:auto;line-height:normal;font-family:Menlo,'DejaVu Sans Mono',consolas,'Courier New',monospace\"><span style=\"font-style: italic\">                                Training Status                                </span>\n",
       "+-----------------------------------------------------------------------------+\n",
       "|<span style=\"font-weight: bold\">Epoch </span>|<span style=\"font-weight: bold\">  Steps  </span>|<span style=\"font-weight: bold\">                            Loss                            </span>|\n",
       "|------+---------+------------------------------------------------------------|\n",
       "|  0   |  0/125  | tensor(6.2060, device='cuda:0', grad_fn=&lt;NllLossBackward0&gt;)|\n",
       "|  0   | 10/125  | tensor(6.0331, device='cuda:0', grad_fn=&lt;NllLossBackward0&gt;)|\n",
       "|  0   | 20/125  | tensor(6.0198, device='cuda:0', grad_fn=&lt;NllLossBackward0&gt;)|\n",
       "|  0   | 30/125  | tensor(6.3243, device='cuda:0', grad_fn=&lt;NllLossBackward0&gt;)|\n",
       "|  0   | 40/125  | tensor(6.0157, device='cuda:0', grad_fn=&lt;NllLossBackward0&gt;)|\n",
       "|  0   | 50/125  | tensor(5.3991, device='cuda:0', grad_fn=&lt;NllLossBackward0&gt;)|\n",
       "|  0   | 60/125  | tensor(5.8357, device='cuda:0', grad_fn=&lt;NllLossBackward0&gt;)|\n",
       "|  0   | 70/125  | tensor(6.0591, device='cuda:0', grad_fn=&lt;NllLossBackward0&gt;)|\n",
       "|  0   | 80/125  | tensor(5.6659, device='cuda:0', grad_fn=&lt;NllLossBackward0&gt;)|\n",
       "|  0   | 90/125  | tensor(5.6208, device='cuda:0', grad_fn=&lt;NllLossBackward0&gt;)|\n",
       "|  0   | 100/125 | tensor(5.3076, device='cuda:0', grad_fn=&lt;NllLossBackward0&gt;)|\n",
       "|  0   | 110/125 | tensor(5.4850, device='cuda:0', grad_fn=&lt;NllLossBackward0&gt;)|\n",
       "+-----------------------------------------------------------------------------+\n",
       "</pre>\n"
      ],
      "text/plain": [
       "\u001b[3m                                Training Status                                \u001b[0m\n",
       "+-----------------------------------------------------------------------------+\n",
       "|\u001b[1mEpoch\u001b[0m\u001b[1m \u001b[0m|\u001b[1m \u001b[0m\u001b[1m Steps \u001b[0m\u001b[1m \u001b[0m|\u001b[1m \u001b[0m\u001b[1m                           Loss                            \u001b[0m|\n",
       "|------+---------+------------------------------------------------------------|\n",
       "|  0   |  0/125  | tensor(6.2060, device='cuda:0', grad_fn=<NllLossBackward0>)|\n",
       "|  0   | 10/125  | tensor(6.0331, device='cuda:0', grad_fn=<NllLossBackward0>)|\n",
       "|  0   | 20/125  | tensor(6.0198, device='cuda:0', grad_fn=<NllLossBackward0>)|\n",
       "|  0   | 30/125  | tensor(6.3243, device='cuda:0', grad_fn=<NllLossBackward0>)|\n",
       "|  0   | 40/125  | tensor(6.0157, device='cuda:0', grad_fn=<NllLossBackward0>)|\n",
       "|  0   | 50/125  | tensor(5.3991, device='cuda:0', grad_fn=<NllLossBackward0>)|\n",
       "|  0   | 60/125  | tensor(5.8357, device='cuda:0', grad_fn=<NllLossBackward0>)|\n",
       "|  0   | 70/125  | tensor(6.0591, device='cuda:0', grad_fn=<NllLossBackward0>)|\n",
       "|  0   | 80/125  | tensor(5.6659, device='cuda:0', grad_fn=<NllLossBackward0>)|\n",
       "|  0   | 90/125  | tensor(5.6208, device='cuda:0', grad_fn=<NllLossBackward0>)|\n",
       "|  0   | 100/125 | tensor(5.3076, device='cuda:0', grad_fn=<NllLossBackward0>)|\n",
       "|  0   | 110/125 | tensor(5.4850, device='cuda:0', grad_fn=<NllLossBackward0>)|\n",
       "+-----------------------------------------------------------------------------+\n"
      ]
     },
     "metadata": {},
     "output_type": "display_data"
    },
    {
     "name": "stdout",
     "output_type": "stream",
     "text": [
      "STEP:  120 / 125\n"
     ]
    },
    {
     "data": {
      "text/html": [
       "<pre style=\"white-space:pre;overflow-x:auto;line-height:normal;font-family:Menlo,'DejaVu Sans Mono',consolas,'Courier New',monospace\"><span style=\"font-style: italic\">                                Training Status                                </span>\n",
       "+-----------------------------------------------------------------------------+\n",
       "|<span style=\"font-weight: bold\">Epoch </span>|<span style=\"font-weight: bold\">  Steps  </span>|<span style=\"font-weight: bold\">                            Loss                            </span>|\n",
       "|------+---------+------------------------------------------------------------|\n",
       "|  0   |  0/125  | tensor(6.2060, device='cuda:0', grad_fn=&lt;NllLossBackward0&gt;)|\n",
       "|  0   | 10/125  | tensor(6.0331, device='cuda:0', grad_fn=&lt;NllLossBackward0&gt;)|\n",
       "|  0   | 20/125  | tensor(6.0198, device='cuda:0', grad_fn=&lt;NllLossBackward0&gt;)|\n",
       "|  0   | 30/125  | tensor(6.3243, device='cuda:0', grad_fn=&lt;NllLossBackward0&gt;)|\n",
       "|  0   | 40/125  | tensor(6.0157, device='cuda:0', grad_fn=&lt;NllLossBackward0&gt;)|\n",
       "|  0   | 50/125  | tensor(5.3991, device='cuda:0', grad_fn=&lt;NllLossBackward0&gt;)|\n",
       "|  0   | 60/125  | tensor(5.8357, device='cuda:0', grad_fn=&lt;NllLossBackward0&gt;)|\n",
       "|  0   | 70/125  | tensor(6.0591, device='cuda:0', grad_fn=&lt;NllLossBackward0&gt;)|\n",
       "|  0   | 80/125  | tensor(5.6659, device='cuda:0', grad_fn=&lt;NllLossBackward0&gt;)|\n",
       "|  0   | 90/125  | tensor(5.6208, device='cuda:0', grad_fn=&lt;NllLossBackward0&gt;)|\n",
       "|  0   | 100/125 | tensor(5.3076, device='cuda:0', grad_fn=&lt;NllLossBackward0&gt;)|\n",
       "|  0   | 110/125 | tensor(5.4850, device='cuda:0', grad_fn=&lt;NllLossBackward0&gt;)|\n",
       "|  0   | 120/125 | tensor(5.3753, device='cuda:0', grad_fn=&lt;NllLossBackward0&gt;)|\n",
       "+-----------------------------------------------------------------------------+\n",
       "</pre>\n"
      ],
      "text/plain": [
       "\u001b[3m                                Training Status                                \u001b[0m\n",
       "+-----------------------------------------------------------------------------+\n",
       "|\u001b[1mEpoch\u001b[0m\u001b[1m \u001b[0m|\u001b[1m \u001b[0m\u001b[1m Steps \u001b[0m\u001b[1m \u001b[0m|\u001b[1m \u001b[0m\u001b[1m                           Loss                            \u001b[0m|\n",
       "|------+---------+------------------------------------------------------------|\n",
       "|  0   |  0/125  | tensor(6.2060, device='cuda:0', grad_fn=<NllLossBackward0>)|\n",
       "|  0   | 10/125  | tensor(6.0331, device='cuda:0', grad_fn=<NllLossBackward0>)|\n",
       "|  0   | 20/125  | tensor(6.0198, device='cuda:0', grad_fn=<NllLossBackward0>)|\n",
       "|  0   | 30/125  | tensor(6.3243, device='cuda:0', grad_fn=<NllLossBackward0>)|\n",
       "|  0   | 40/125  | tensor(6.0157, device='cuda:0', grad_fn=<NllLossBackward0>)|\n",
       "|  0   | 50/125  | tensor(5.3991, device='cuda:0', grad_fn=<NllLossBackward0>)|\n",
       "|  0   | 60/125  | tensor(5.8357, device='cuda:0', grad_fn=<NllLossBackward0>)|\n",
       "|  0   | 70/125  | tensor(6.0591, device='cuda:0', grad_fn=<NllLossBackward0>)|\n",
       "|  0   | 80/125  | tensor(5.6659, device='cuda:0', grad_fn=<NllLossBackward0>)|\n",
       "|  0   | 90/125  | tensor(5.6208, device='cuda:0', grad_fn=<NllLossBackward0>)|\n",
       "|  0   | 100/125 | tensor(5.3076, device='cuda:0', grad_fn=<NllLossBackward0>)|\n",
       "|  0   | 110/125 | tensor(5.4850, device='cuda:0', grad_fn=<NllLossBackward0>)|\n",
       "|  0   | 120/125 | tensor(5.3753, device='cuda:0', grad_fn=<NllLossBackward0>)|\n",
       "+-----------------------------------------------------------------------------+\n"
      ]
     },
     "metadata": {},
     "output_type": "display_data"
    },
    {
     "data": {
      "text/html": [
       "<pre style=\"white-space:pre;overflow-x:auto;line-height:normal;font-family:Menlo,'DejaVu Sans Mono',consolas,'Courier New',monospace\">Completed <span style=\"color: #008080; text-decoration-color: #008080; font-weight: bold\">0</span>\n",
       "</pre>\n"
      ],
      "text/plain": [
       "Completed \u001b[1;36m0\u001b[0m\n"
      ]
     },
     "metadata": {},
     "output_type": "display_data"
    },
    {
     "data": {
      "text/html": [
       "<pre style=\"white-space:pre;overflow-x:auto;line-height:normal;font-family:Menlo,'DejaVu Sans Mono',consolas,'Courier New',monospace\">Completed <span style=\"color: #008080; text-decoration-color: #008080; font-weight: bold\">10</span>\n",
       "</pre>\n"
      ],
      "text/plain": [
       "Completed \u001b[1;36m10\u001b[0m\n"
      ]
     },
     "metadata": {},
     "output_type": "display_data"
    },
    {
     "data": {
      "text/html": [
       "<pre style=\"white-space:pre;overflow-x:auto;line-height:normal;font-family:Menlo,'DejaVu Sans Mono',consolas,'Courier New',monospace\">Completed <span style=\"color: #008080; text-decoration-color: #008080; font-weight: bold\">20</span>\n",
       "</pre>\n"
      ],
      "text/plain": [
       "Completed \u001b[1;36m20\u001b[0m\n"
      ]
     },
     "metadata": {},
     "output_type": "display_data"
    },
    {
     "data": {
      "text/html": [
       "<pre style=\"white-space:pre;overflow-x:auto;line-height:normal;font-family:Menlo,'DejaVu Sans Mono',consolas,'Courier New',monospace\">Completed <span style=\"color: #008080; text-decoration-color: #008080; font-weight: bold\">30</span>\n",
       "</pre>\n"
      ],
      "text/plain": [
       "Completed \u001b[1;36m30\u001b[0m\n"
      ]
     },
     "metadata": {},
     "output_type": "display_data"
    },
    {
     "data": {
      "text/html": [
       "<pre style=\"white-space:pre;overflow-x:auto;line-height:normal;font-family:Menlo,'DejaVu Sans Mono',consolas,'Courier New',monospace\">Completed <span style=\"color: #008080; text-decoration-color: #008080; font-weight: bold\">40</span>\n",
       "</pre>\n"
      ],
      "text/plain": [
       "Completed \u001b[1;36m40\u001b[0m\n"
      ]
     },
     "metadata": {},
     "output_type": "display_data"
    },
    {
     "data": {
      "text/html": [
       "<pre style=\"white-space:pre;overflow-x:auto;line-height:normal;font-family:Menlo,'DejaVu Sans Mono',consolas,'Courier New',monospace\">Completed <span style=\"color: #008080; text-decoration-color: #008080; font-weight: bold\">50</span>\n",
       "</pre>\n"
      ],
      "text/plain": [
       "Completed \u001b[1;36m50\u001b[0m\n"
      ]
     },
     "metadata": {},
     "output_type": "display_data"
    },
    {
     "data": {
      "text/html": [
       "<pre style=\"white-space:pre;overflow-x:auto;line-height:normal;font-family:Menlo,'DejaVu Sans Mono',consolas,'Courier New',monospace\">Completed <span style=\"color: #008080; text-decoration-color: #008080; font-weight: bold\">60</span>\n",
       "</pre>\n"
      ],
      "text/plain": [
       "Completed \u001b[1;36m60\u001b[0m\n"
      ]
     },
     "metadata": {},
     "output_type": "display_data"
    },
    {
     "data": {
      "text/html": [
       "<pre style=\"white-space:pre;overflow-x:auto;line-height:normal;font-family:Menlo,'DejaVu Sans Mono',consolas,'Courier New',monospace\">Completed <span style=\"color: #008080; text-decoration-color: #008080; font-weight: bold\">70</span>\n",
       "</pre>\n"
      ],
      "text/plain": [
       "Completed \u001b[1;36m70\u001b[0m\n"
      ]
     },
     "metadata": {},
     "output_type": "display_data"
    },
    {
     "data": {
      "text/html": [
       "<pre style=\"white-space:pre;overflow-x:auto;line-height:normal;font-family:Menlo,'DejaVu Sans Mono',consolas,'Courier New',monospace\">Completed <span style=\"color: #008080; text-decoration-color: #008080; font-weight: bold\">80</span>\n",
       "</pre>\n"
      ],
      "text/plain": [
       "Completed \u001b[1;36m80\u001b[0m\n"
      ]
     },
     "metadata": {},
     "output_type": "display_data"
    },
    {
     "data": {
      "text/html": [
       "<pre style=\"white-space:pre;overflow-x:auto;line-height:normal;font-family:Menlo,'DejaVu Sans Mono',consolas,'Courier New',monospace\">Completed <span style=\"color: #008080; text-decoration-color: #008080; font-weight: bold\">90</span>\n",
       "</pre>\n"
      ],
      "text/plain": [
       "Completed \u001b[1;36m90\u001b[0m\n"
      ]
     },
     "metadata": {},
     "output_type": "display_data"
    },
    {
     "data": {
      "text/html": [
       "<pre style=\"white-space:pre;overflow-x:auto;line-height:normal;font-family:Menlo,'DejaVu Sans Mono',consolas,'Courier New',monospace\">Completed <span style=\"color: #008080; text-decoration-color: #008080; font-weight: bold\">100</span>\n",
       "</pre>\n"
      ],
      "text/plain": [
       "Completed \u001b[1;36m100\u001b[0m\n"
      ]
     },
     "metadata": {},
     "output_type": "display_data"
    },
    {
     "data": {
      "text/html": [
       "<pre style=\"white-space:pre;overflow-x:auto;line-height:normal;font-family:Menlo,'DejaVu Sans Mono',consolas,'Courier New',monospace\">Completed <span style=\"color: #008080; text-decoration-color: #008080; font-weight: bold\">110</span>\n",
       "</pre>\n"
      ],
      "text/plain": [
       "Completed \u001b[1;36m110\u001b[0m\n"
      ]
     },
     "metadata": {},
     "output_type": "display_data"
    },
    {
     "data": {
      "text/html": [
       "<pre style=\"white-space:pre;overflow-x:auto;line-height:normal;font-family:Menlo,'DejaVu Sans Mono',consolas,'Courier New',monospace\">Completed <span style=\"color: #008080; text-decoration-color: #008080; font-weight: bold\">120</span>\n",
       "</pre>\n"
      ],
      "text/plain": [
       "Completed \u001b[1;36m120\u001b[0m\n"
      ]
     },
     "metadata": {},
     "output_type": "display_data"
    },
    {
     "name": "stdout",
     "output_type": "stream",
     "text": [
      "SAVE TO CSV FINISHED\n",
      "SAVE ROUGE TO CSV FINISHED\n",
      "STEP:  0 / 125\n"
     ]
    },
    {
     "data": {
      "text/html": [
       "<pre style=\"white-space:pre;overflow-x:auto;line-height:normal;font-family:Menlo,'DejaVu Sans Mono',consolas,'Courier New',monospace\"><span style=\"font-style: italic\">                                Training Status                                </span>\n",
       "+-----------------------------------------------------------------------------+\n",
       "|<span style=\"font-weight: bold\">Epoch </span>|<span style=\"font-weight: bold\">  Steps  </span>|<span style=\"font-weight: bold\">                            Loss                            </span>|\n",
       "|------+---------+------------------------------------------------------------|\n",
       "|  0   |  0/125  | tensor(6.2060, device='cuda:0', grad_fn=&lt;NllLossBackward0&gt;)|\n",
       "|  0   | 10/125  | tensor(6.0331, device='cuda:0', grad_fn=&lt;NllLossBackward0&gt;)|\n",
       "|  0   | 20/125  | tensor(6.0198, device='cuda:0', grad_fn=&lt;NllLossBackward0&gt;)|\n",
       "|  0   | 30/125  | tensor(6.3243, device='cuda:0', grad_fn=&lt;NllLossBackward0&gt;)|\n",
       "|  0   | 40/125  | tensor(6.0157, device='cuda:0', grad_fn=&lt;NllLossBackward0&gt;)|\n",
       "|  0   | 50/125  | tensor(5.3991, device='cuda:0', grad_fn=&lt;NllLossBackward0&gt;)|\n",
       "|  0   | 60/125  | tensor(5.8357, device='cuda:0', grad_fn=&lt;NllLossBackward0&gt;)|\n",
       "|  0   | 70/125  | tensor(6.0591, device='cuda:0', grad_fn=&lt;NllLossBackward0&gt;)|\n",
       "|  0   | 80/125  | tensor(5.6659, device='cuda:0', grad_fn=&lt;NllLossBackward0&gt;)|\n",
       "|  0   | 90/125  | tensor(5.6208, device='cuda:0', grad_fn=&lt;NllLossBackward0&gt;)|\n",
       "|  0   | 100/125 | tensor(5.3076, device='cuda:0', grad_fn=&lt;NllLossBackward0&gt;)|\n",
       "|  0   | 110/125 | tensor(5.4850, device='cuda:0', grad_fn=&lt;NllLossBackward0&gt;)|\n",
       "|  0   | 120/125 | tensor(5.3753, device='cuda:0', grad_fn=&lt;NllLossBackward0&gt;)|\n",
       "|  1   |  0/125  | tensor(5.7506, device='cuda:0', grad_fn=&lt;NllLossBackward0&gt;)|\n",
       "+-----------------------------------------------------------------------------+\n",
       "</pre>\n"
      ],
      "text/plain": [
       "\u001b[3m                                Training Status                                \u001b[0m\n",
       "+-----------------------------------------------------------------------------+\n",
       "|\u001b[1mEpoch\u001b[0m\u001b[1m \u001b[0m|\u001b[1m \u001b[0m\u001b[1m Steps \u001b[0m\u001b[1m \u001b[0m|\u001b[1m \u001b[0m\u001b[1m                           Loss                            \u001b[0m|\n",
       "|------+---------+------------------------------------------------------------|\n",
       "|  0   |  0/125  | tensor(6.2060, device='cuda:0', grad_fn=<NllLossBackward0>)|\n",
       "|  0   | 10/125  | tensor(6.0331, device='cuda:0', grad_fn=<NllLossBackward0>)|\n",
       "|  0   | 20/125  | tensor(6.0198, device='cuda:0', grad_fn=<NllLossBackward0>)|\n",
       "|  0   | 30/125  | tensor(6.3243, device='cuda:0', grad_fn=<NllLossBackward0>)|\n",
       "|  0   | 40/125  | tensor(6.0157, device='cuda:0', grad_fn=<NllLossBackward0>)|\n",
       "|  0   | 50/125  | tensor(5.3991, device='cuda:0', grad_fn=<NllLossBackward0>)|\n",
       "|  0   | 60/125  | tensor(5.8357, device='cuda:0', grad_fn=<NllLossBackward0>)|\n",
       "|  0   | 70/125  | tensor(6.0591, device='cuda:0', grad_fn=<NllLossBackward0>)|\n",
       "|  0   | 80/125  | tensor(5.6659, device='cuda:0', grad_fn=<NllLossBackward0>)|\n",
       "|  0   | 90/125  | tensor(5.6208, device='cuda:0', grad_fn=<NllLossBackward0>)|\n",
       "|  0   | 100/125 | tensor(5.3076, device='cuda:0', grad_fn=<NllLossBackward0>)|\n",
       "|  0   | 110/125 | tensor(5.4850, device='cuda:0', grad_fn=<NllLossBackward0>)|\n",
       "|  0   | 120/125 | tensor(5.3753, device='cuda:0', grad_fn=<NllLossBackward0>)|\n",
       "|  1   |  0/125  | tensor(5.7506, device='cuda:0', grad_fn=<NllLossBackward0>)|\n",
       "+-----------------------------------------------------------------------------+\n"
      ]
     },
     "metadata": {},
     "output_type": "display_data"
    },
    {
     "name": "stdout",
     "output_type": "stream",
     "text": [
      "STEP:  10 / 125\n"
     ]
    },
    {
     "data": {
      "text/html": [
       "<pre style=\"white-space:pre;overflow-x:auto;line-height:normal;font-family:Menlo,'DejaVu Sans Mono',consolas,'Courier New',monospace\"><span style=\"font-style: italic\">                                Training Status                                </span>\n",
       "+-----------------------------------------------------------------------------+\n",
       "|<span style=\"font-weight: bold\">Epoch </span>|<span style=\"font-weight: bold\">  Steps  </span>|<span style=\"font-weight: bold\">                            Loss                            </span>|\n",
       "|------+---------+------------------------------------------------------------|\n",
       "|  0   |  0/125  | tensor(6.2060, device='cuda:0', grad_fn=&lt;NllLossBackward0&gt;)|\n",
       "|  0   | 10/125  | tensor(6.0331, device='cuda:0', grad_fn=&lt;NllLossBackward0&gt;)|\n",
       "|  0   | 20/125  | tensor(6.0198, device='cuda:0', grad_fn=&lt;NllLossBackward0&gt;)|\n",
       "|  0   | 30/125  | tensor(6.3243, device='cuda:0', grad_fn=&lt;NllLossBackward0&gt;)|\n",
       "|  0   | 40/125  | tensor(6.0157, device='cuda:0', grad_fn=&lt;NllLossBackward0&gt;)|\n",
       "|  0   | 50/125  | tensor(5.3991, device='cuda:0', grad_fn=&lt;NllLossBackward0&gt;)|\n",
       "|  0   | 60/125  | tensor(5.8357, device='cuda:0', grad_fn=&lt;NllLossBackward0&gt;)|\n",
       "|  0   | 70/125  | tensor(6.0591, device='cuda:0', grad_fn=&lt;NllLossBackward0&gt;)|\n",
       "|  0   | 80/125  | tensor(5.6659, device='cuda:0', grad_fn=&lt;NllLossBackward0&gt;)|\n",
       "|  0   | 90/125  | tensor(5.6208, device='cuda:0', grad_fn=&lt;NllLossBackward0&gt;)|\n",
       "|  0   | 100/125 | tensor(5.3076, device='cuda:0', grad_fn=&lt;NllLossBackward0&gt;)|\n",
       "|  0   | 110/125 | tensor(5.4850, device='cuda:0', grad_fn=&lt;NllLossBackward0&gt;)|\n",
       "|  0   | 120/125 | tensor(5.3753, device='cuda:0', grad_fn=&lt;NllLossBackward0&gt;)|\n",
       "|  1   |  0/125  | tensor(5.7506, device='cuda:0', grad_fn=&lt;NllLossBackward0&gt;)|\n",
       "|  1   | 10/125  | tensor(5.7020, device='cuda:0', grad_fn=&lt;NllLossBackward0&gt;)|\n",
       "+-----------------------------------------------------------------------------+\n",
       "</pre>\n"
      ],
      "text/plain": [
       "\u001b[3m                                Training Status                                \u001b[0m\n",
       "+-----------------------------------------------------------------------------+\n",
       "|\u001b[1mEpoch\u001b[0m\u001b[1m \u001b[0m|\u001b[1m \u001b[0m\u001b[1m Steps \u001b[0m\u001b[1m \u001b[0m|\u001b[1m \u001b[0m\u001b[1m                           Loss                            \u001b[0m|\n",
       "|------+---------+------------------------------------------------------------|\n",
       "|  0   |  0/125  | tensor(6.2060, device='cuda:0', grad_fn=<NllLossBackward0>)|\n",
       "|  0   | 10/125  | tensor(6.0331, device='cuda:0', grad_fn=<NllLossBackward0>)|\n",
       "|  0   | 20/125  | tensor(6.0198, device='cuda:0', grad_fn=<NllLossBackward0>)|\n",
       "|  0   | 30/125  | tensor(6.3243, device='cuda:0', grad_fn=<NllLossBackward0>)|\n",
       "|  0   | 40/125  | tensor(6.0157, device='cuda:0', grad_fn=<NllLossBackward0>)|\n",
       "|  0   | 50/125  | tensor(5.3991, device='cuda:0', grad_fn=<NllLossBackward0>)|\n",
       "|  0   | 60/125  | tensor(5.8357, device='cuda:0', grad_fn=<NllLossBackward0>)|\n",
       "|  0   | 70/125  | tensor(6.0591, device='cuda:0', grad_fn=<NllLossBackward0>)|\n",
       "|  0   | 80/125  | tensor(5.6659, device='cuda:0', grad_fn=<NllLossBackward0>)|\n",
       "|  0   | 90/125  | tensor(5.6208, device='cuda:0', grad_fn=<NllLossBackward0>)|\n",
       "|  0   | 100/125 | tensor(5.3076, device='cuda:0', grad_fn=<NllLossBackward0>)|\n",
       "|  0   | 110/125 | tensor(5.4850, device='cuda:0', grad_fn=<NllLossBackward0>)|\n",
       "|  0   | 120/125 | tensor(5.3753, device='cuda:0', grad_fn=<NllLossBackward0>)|\n",
       "|  1   |  0/125  | tensor(5.7506, device='cuda:0', grad_fn=<NllLossBackward0>)|\n",
       "|  1   | 10/125  | tensor(5.7020, device='cuda:0', grad_fn=<NllLossBackward0>)|\n",
       "+-----------------------------------------------------------------------------+\n"
      ]
     },
     "metadata": {},
     "output_type": "display_data"
    },
    {
     "name": "stdout",
     "output_type": "stream",
     "text": [
      "STEP:  20 / 125\n"
     ]
    },
    {
     "data": {
      "text/html": [
       "<pre style=\"white-space:pre;overflow-x:auto;line-height:normal;font-family:Menlo,'DejaVu Sans Mono',consolas,'Courier New',monospace\"><span style=\"font-style: italic\">                                Training Status                                </span>\n",
       "+-----------------------------------------------------------------------------+\n",
       "|<span style=\"font-weight: bold\">Epoch </span>|<span style=\"font-weight: bold\">  Steps  </span>|<span style=\"font-weight: bold\">                            Loss                            </span>|\n",
       "|------+---------+------------------------------------------------------------|\n",
       "|  0   |  0/125  | tensor(6.2060, device='cuda:0', grad_fn=&lt;NllLossBackward0&gt;)|\n",
       "|  0   | 10/125  | tensor(6.0331, device='cuda:0', grad_fn=&lt;NllLossBackward0&gt;)|\n",
       "|  0   | 20/125  | tensor(6.0198, device='cuda:0', grad_fn=&lt;NllLossBackward0&gt;)|\n",
       "|  0   | 30/125  | tensor(6.3243, device='cuda:0', grad_fn=&lt;NllLossBackward0&gt;)|\n",
       "|  0   | 40/125  | tensor(6.0157, device='cuda:0', grad_fn=&lt;NllLossBackward0&gt;)|\n",
       "|  0   | 50/125  | tensor(5.3991, device='cuda:0', grad_fn=&lt;NllLossBackward0&gt;)|\n",
       "|  0   | 60/125  | tensor(5.8357, device='cuda:0', grad_fn=&lt;NllLossBackward0&gt;)|\n",
       "|  0   | 70/125  | tensor(6.0591, device='cuda:0', grad_fn=&lt;NllLossBackward0&gt;)|\n",
       "|  0   | 80/125  | tensor(5.6659, device='cuda:0', grad_fn=&lt;NllLossBackward0&gt;)|\n",
       "|  0   | 90/125  | tensor(5.6208, device='cuda:0', grad_fn=&lt;NllLossBackward0&gt;)|\n",
       "|  0   | 100/125 | tensor(5.3076, device='cuda:0', grad_fn=&lt;NllLossBackward0&gt;)|\n",
       "|  0   | 110/125 | tensor(5.4850, device='cuda:0', grad_fn=&lt;NllLossBackward0&gt;)|\n",
       "|  0   | 120/125 | tensor(5.3753, device='cuda:0', grad_fn=&lt;NllLossBackward0&gt;)|\n",
       "|  1   |  0/125  | tensor(5.7506, device='cuda:0', grad_fn=&lt;NllLossBackward0&gt;)|\n",
       "|  1   | 10/125  | tensor(5.7020, device='cuda:0', grad_fn=&lt;NllLossBackward0&gt;)|\n",
       "|  1   | 20/125  | tensor(5.6206, device='cuda:0', grad_fn=&lt;NllLossBackward0&gt;)|\n",
       "+-----------------------------------------------------------------------------+\n",
       "</pre>\n"
      ],
      "text/plain": [
       "\u001b[3m                                Training Status                                \u001b[0m\n",
       "+-----------------------------------------------------------------------------+\n",
       "|\u001b[1mEpoch\u001b[0m\u001b[1m \u001b[0m|\u001b[1m \u001b[0m\u001b[1m Steps \u001b[0m\u001b[1m \u001b[0m|\u001b[1m \u001b[0m\u001b[1m                           Loss                            \u001b[0m|\n",
       "|------+---------+------------------------------------------------------------|\n",
       "|  0   |  0/125  | tensor(6.2060, device='cuda:0', grad_fn=<NllLossBackward0>)|\n",
       "|  0   | 10/125  | tensor(6.0331, device='cuda:0', grad_fn=<NllLossBackward0>)|\n",
       "|  0   | 20/125  | tensor(6.0198, device='cuda:0', grad_fn=<NllLossBackward0>)|\n",
       "|  0   | 30/125  | tensor(6.3243, device='cuda:0', grad_fn=<NllLossBackward0>)|\n",
       "|  0   | 40/125  | tensor(6.0157, device='cuda:0', grad_fn=<NllLossBackward0>)|\n",
       "|  0   | 50/125  | tensor(5.3991, device='cuda:0', grad_fn=<NllLossBackward0>)|\n",
       "|  0   | 60/125  | tensor(5.8357, device='cuda:0', grad_fn=<NllLossBackward0>)|\n",
       "|  0   | 70/125  | tensor(6.0591, device='cuda:0', grad_fn=<NllLossBackward0>)|\n",
       "|  0   | 80/125  | tensor(5.6659, device='cuda:0', grad_fn=<NllLossBackward0>)|\n",
       "|  0   | 90/125  | tensor(5.6208, device='cuda:0', grad_fn=<NllLossBackward0>)|\n",
       "|  0   | 100/125 | tensor(5.3076, device='cuda:0', grad_fn=<NllLossBackward0>)|\n",
       "|  0   | 110/125 | tensor(5.4850, device='cuda:0', grad_fn=<NllLossBackward0>)|\n",
       "|  0   | 120/125 | tensor(5.3753, device='cuda:0', grad_fn=<NllLossBackward0>)|\n",
       "|  1   |  0/125  | tensor(5.7506, device='cuda:0', grad_fn=<NllLossBackward0>)|\n",
       "|  1   | 10/125  | tensor(5.7020, device='cuda:0', grad_fn=<NllLossBackward0>)|\n",
       "|  1   | 20/125  | tensor(5.6206, device='cuda:0', grad_fn=<NllLossBackward0>)|\n",
       "+-----------------------------------------------------------------------------+\n"
      ]
     },
     "metadata": {},
     "output_type": "display_data"
    },
    {
     "name": "stdout",
     "output_type": "stream",
     "text": [
      "STEP:  30 / 125\n"
     ]
    },
    {
     "data": {
      "text/html": [
       "<pre style=\"white-space:pre;overflow-x:auto;line-height:normal;font-family:Menlo,'DejaVu Sans Mono',consolas,'Courier New',monospace\"><span style=\"font-style: italic\">                                Training Status                                </span>\n",
       "+-----------------------------------------------------------------------------+\n",
       "|<span style=\"font-weight: bold\">Epoch </span>|<span style=\"font-weight: bold\">  Steps  </span>|<span style=\"font-weight: bold\">                            Loss                            </span>|\n",
       "|------+---------+------------------------------------------------------------|\n",
       "|  0   |  0/125  | tensor(6.2060, device='cuda:0', grad_fn=&lt;NllLossBackward0&gt;)|\n",
       "|  0   | 10/125  | tensor(6.0331, device='cuda:0', grad_fn=&lt;NllLossBackward0&gt;)|\n",
       "|  0   | 20/125  | tensor(6.0198, device='cuda:0', grad_fn=&lt;NllLossBackward0&gt;)|\n",
       "|  0   | 30/125  | tensor(6.3243, device='cuda:0', grad_fn=&lt;NllLossBackward0&gt;)|\n",
       "|  0   | 40/125  | tensor(6.0157, device='cuda:0', grad_fn=&lt;NllLossBackward0&gt;)|\n",
       "|  0   | 50/125  | tensor(5.3991, device='cuda:0', grad_fn=&lt;NllLossBackward0&gt;)|\n",
       "|  0   | 60/125  | tensor(5.8357, device='cuda:0', grad_fn=&lt;NllLossBackward0&gt;)|\n",
       "|  0   | 70/125  | tensor(6.0591, device='cuda:0', grad_fn=&lt;NllLossBackward0&gt;)|\n",
       "|  0   | 80/125  | tensor(5.6659, device='cuda:0', grad_fn=&lt;NllLossBackward0&gt;)|\n",
       "|  0   | 90/125  | tensor(5.6208, device='cuda:0', grad_fn=&lt;NllLossBackward0&gt;)|\n",
       "|  0   | 100/125 | tensor(5.3076, device='cuda:0', grad_fn=&lt;NllLossBackward0&gt;)|\n",
       "|  0   | 110/125 | tensor(5.4850, device='cuda:0', grad_fn=&lt;NllLossBackward0&gt;)|\n",
       "|  0   | 120/125 | tensor(5.3753, device='cuda:0', grad_fn=&lt;NllLossBackward0&gt;)|\n",
       "|  1   |  0/125  | tensor(5.7506, device='cuda:0', grad_fn=&lt;NllLossBackward0&gt;)|\n",
       "|  1   | 10/125  | tensor(5.7020, device='cuda:0', grad_fn=&lt;NllLossBackward0&gt;)|\n",
       "|  1   | 20/125  | tensor(5.6206, device='cuda:0', grad_fn=&lt;NllLossBackward0&gt;)|\n",
       "|  1   | 30/125  | tensor(5.5501, device='cuda:0', grad_fn=&lt;NllLossBackward0&gt;)|\n",
       "+-----------------------------------------------------------------------------+\n",
       "</pre>\n"
      ],
      "text/plain": [
       "\u001b[3m                                Training Status                                \u001b[0m\n",
       "+-----------------------------------------------------------------------------+\n",
       "|\u001b[1mEpoch\u001b[0m\u001b[1m \u001b[0m|\u001b[1m \u001b[0m\u001b[1m Steps \u001b[0m\u001b[1m \u001b[0m|\u001b[1m \u001b[0m\u001b[1m                           Loss                            \u001b[0m|\n",
       "|------+---------+------------------------------------------------------------|\n",
       "|  0   |  0/125  | tensor(6.2060, device='cuda:0', grad_fn=<NllLossBackward0>)|\n",
       "|  0   | 10/125  | tensor(6.0331, device='cuda:0', grad_fn=<NllLossBackward0>)|\n",
       "|  0   | 20/125  | tensor(6.0198, device='cuda:0', grad_fn=<NllLossBackward0>)|\n",
       "|  0   | 30/125  | tensor(6.3243, device='cuda:0', grad_fn=<NllLossBackward0>)|\n",
       "|  0   | 40/125  | tensor(6.0157, device='cuda:0', grad_fn=<NllLossBackward0>)|\n",
       "|  0   | 50/125  | tensor(5.3991, device='cuda:0', grad_fn=<NllLossBackward0>)|\n",
       "|  0   | 60/125  | tensor(5.8357, device='cuda:0', grad_fn=<NllLossBackward0>)|\n",
       "|  0   | 70/125  | tensor(6.0591, device='cuda:0', grad_fn=<NllLossBackward0>)|\n",
       "|  0   | 80/125  | tensor(5.6659, device='cuda:0', grad_fn=<NllLossBackward0>)|\n",
       "|  0   | 90/125  | tensor(5.6208, device='cuda:0', grad_fn=<NllLossBackward0>)|\n",
       "|  0   | 100/125 | tensor(5.3076, device='cuda:0', grad_fn=<NllLossBackward0>)|\n",
       "|  0   | 110/125 | tensor(5.4850, device='cuda:0', grad_fn=<NllLossBackward0>)|\n",
       "|  0   | 120/125 | tensor(5.3753, device='cuda:0', grad_fn=<NllLossBackward0>)|\n",
       "|  1   |  0/125  | tensor(5.7506, device='cuda:0', grad_fn=<NllLossBackward0>)|\n",
       "|  1   | 10/125  | tensor(5.7020, device='cuda:0', grad_fn=<NllLossBackward0>)|\n",
       "|  1   | 20/125  | tensor(5.6206, device='cuda:0', grad_fn=<NllLossBackward0>)|\n",
       "|  1   | 30/125  | tensor(5.5501, device='cuda:0', grad_fn=<NllLossBackward0>)|\n",
       "+-----------------------------------------------------------------------------+\n"
      ]
     },
     "metadata": {},
     "output_type": "display_data"
    },
    {
     "name": "stdout",
     "output_type": "stream",
     "text": [
      "STEP:  40 / 125\n"
     ]
    },
    {
     "data": {
      "text/html": [
       "<pre style=\"white-space:pre;overflow-x:auto;line-height:normal;font-family:Menlo,'DejaVu Sans Mono',consolas,'Courier New',monospace\"><span style=\"font-style: italic\">                                Training Status                                </span>\n",
       "+-----------------------------------------------------------------------------+\n",
       "|<span style=\"font-weight: bold\">Epoch </span>|<span style=\"font-weight: bold\">  Steps  </span>|<span style=\"font-weight: bold\">                            Loss                            </span>|\n",
       "|------+---------+------------------------------------------------------------|\n",
       "|  0   |  0/125  | tensor(6.2060, device='cuda:0', grad_fn=&lt;NllLossBackward0&gt;)|\n",
       "|  0   | 10/125  | tensor(6.0331, device='cuda:0', grad_fn=&lt;NllLossBackward0&gt;)|\n",
       "|  0   | 20/125  | tensor(6.0198, device='cuda:0', grad_fn=&lt;NllLossBackward0&gt;)|\n",
       "|  0   | 30/125  | tensor(6.3243, device='cuda:0', grad_fn=&lt;NllLossBackward0&gt;)|\n",
       "|  0   | 40/125  | tensor(6.0157, device='cuda:0', grad_fn=&lt;NllLossBackward0&gt;)|\n",
       "|  0   | 50/125  | tensor(5.3991, device='cuda:0', grad_fn=&lt;NllLossBackward0&gt;)|\n",
       "|  0   | 60/125  | tensor(5.8357, device='cuda:0', grad_fn=&lt;NllLossBackward0&gt;)|\n",
       "|  0   | 70/125  | tensor(6.0591, device='cuda:0', grad_fn=&lt;NllLossBackward0&gt;)|\n",
       "|  0   | 80/125  | tensor(5.6659, device='cuda:0', grad_fn=&lt;NllLossBackward0&gt;)|\n",
       "|  0   | 90/125  | tensor(5.6208, device='cuda:0', grad_fn=&lt;NllLossBackward0&gt;)|\n",
       "|  0   | 100/125 | tensor(5.3076, device='cuda:0', grad_fn=&lt;NllLossBackward0&gt;)|\n",
       "|  0   | 110/125 | tensor(5.4850, device='cuda:0', grad_fn=&lt;NllLossBackward0&gt;)|\n",
       "|  0   | 120/125 | tensor(5.3753, device='cuda:0', grad_fn=&lt;NllLossBackward0&gt;)|\n",
       "|  1   |  0/125  | tensor(5.7506, device='cuda:0', grad_fn=&lt;NllLossBackward0&gt;)|\n",
       "|  1   | 10/125  | tensor(5.7020, device='cuda:0', grad_fn=&lt;NllLossBackward0&gt;)|\n",
       "|  1   | 20/125  | tensor(5.6206, device='cuda:0', grad_fn=&lt;NllLossBackward0&gt;)|\n",
       "|  1   | 30/125  | tensor(5.5501, device='cuda:0', grad_fn=&lt;NllLossBackward0&gt;)|\n",
       "|  1   | 40/125  | tensor(5.6147, device='cuda:0', grad_fn=&lt;NllLossBackward0&gt;)|\n",
       "+-----------------------------------------------------------------------------+\n",
       "</pre>\n"
      ],
      "text/plain": [
       "\u001b[3m                                Training Status                                \u001b[0m\n",
       "+-----------------------------------------------------------------------------+\n",
       "|\u001b[1mEpoch\u001b[0m\u001b[1m \u001b[0m|\u001b[1m \u001b[0m\u001b[1m Steps \u001b[0m\u001b[1m \u001b[0m|\u001b[1m \u001b[0m\u001b[1m                           Loss                            \u001b[0m|\n",
       "|------+---------+------------------------------------------------------------|\n",
       "|  0   |  0/125  | tensor(6.2060, device='cuda:0', grad_fn=<NllLossBackward0>)|\n",
       "|  0   | 10/125  | tensor(6.0331, device='cuda:0', grad_fn=<NllLossBackward0>)|\n",
       "|  0   | 20/125  | tensor(6.0198, device='cuda:0', grad_fn=<NllLossBackward0>)|\n",
       "|  0   | 30/125  | tensor(6.3243, device='cuda:0', grad_fn=<NllLossBackward0>)|\n",
       "|  0   | 40/125  | tensor(6.0157, device='cuda:0', grad_fn=<NllLossBackward0>)|\n",
       "|  0   | 50/125  | tensor(5.3991, device='cuda:0', grad_fn=<NllLossBackward0>)|\n",
       "|  0   | 60/125  | tensor(5.8357, device='cuda:0', grad_fn=<NllLossBackward0>)|\n",
       "|  0   | 70/125  | tensor(6.0591, device='cuda:0', grad_fn=<NllLossBackward0>)|\n",
       "|  0   | 80/125  | tensor(5.6659, device='cuda:0', grad_fn=<NllLossBackward0>)|\n",
       "|  0   | 90/125  | tensor(5.6208, device='cuda:0', grad_fn=<NllLossBackward0>)|\n",
       "|  0   | 100/125 | tensor(5.3076, device='cuda:0', grad_fn=<NllLossBackward0>)|\n",
       "|  0   | 110/125 | tensor(5.4850, device='cuda:0', grad_fn=<NllLossBackward0>)|\n",
       "|  0   | 120/125 | tensor(5.3753, device='cuda:0', grad_fn=<NllLossBackward0>)|\n",
       "|  1   |  0/125  | tensor(5.7506, device='cuda:0', grad_fn=<NllLossBackward0>)|\n",
       "|  1   | 10/125  | tensor(5.7020, device='cuda:0', grad_fn=<NllLossBackward0>)|\n",
       "|  1   | 20/125  | tensor(5.6206, device='cuda:0', grad_fn=<NllLossBackward0>)|\n",
       "|  1   | 30/125  | tensor(5.5501, device='cuda:0', grad_fn=<NllLossBackward0>)|\n",
       "|  1   | 40/125  | tensor(5.6147, device='cuda:0', grad_fn=<NllLossBackward0>)|\n",
       "+-----------------------------------------------------------------------------+\n"
      ]
     },
     "metadata": {},
     "output_type": "display_data"
    },
    {
     "name": "stdout",
     "output_type": "stream",
     "text": [
      "STEP:  50 / 125\n"
     ]
    },
    {
     "data": {
      "text/html": [
       "<pre style=\"white-space:pre;overflow-x:auto;line-height:normal;font-family:Menlo,'DejaVu Sans Mono',consolas,'Courier New',monospace\"><span style=\"font-style: italic\">                                Training Status                                </span>\n",
       "+-----------------------------------------------------------------------------+\n",
       "|<span style=\"font-weight: bold\">Epoch </span>|<span style=\"font-weight: bold\">  Steps  </span>|<span style=\"font-weight: bold\">                            Loss                            </span>|\n",
       "|------+---------+------------------------------------------------------------|\n",
       "|  0   |  0/125  | tensor(6.2060, device='cuda:0', grad_fn=&lt;NllLossBackward0&gt;)|\n",
       "|  0   | 10/125  | tensor(6.0331, device='cuda:0', grad_fn=&lt;NllLossBackward0&gt;)|\n",
       "|  0   | 20/125  | tensor(6.0198, device='cuda:0', grad_fn=&lt;NllLossBackward0&gt;)|\n",
       "|  0   | 30/125  | tensor(6.3243, device='cuda:0', grad_fn=&lt;NllLossBackward0&gt;)|\n",
       "|  0   | 40/125  | tensor(6.0157, device='cuda:0', grad_fn=&lt;NllLossBackward0&gt;)|\n",
       "|  0   | 50/125  | tensor(5.3991, device='cuda:0', grad_fn=&lt;NllLossBackward0&gt;)|\n",
       "|  0   | 60/125  | tensor(5.8357, device='cuda:0', grad_fn=&lt;NllLossBackward0&gt;)|\n",
       "|  0   | 70/125  | tensor(6.0591, device='cuda:0', grad_fn=&lt;NllLossBackward0&gt;)|\n",
       "|  0   | 80/125  | tensor(5.6659, device='cuda:0', grad_fn=&lt;NllLossBackward0&gt;)|\n",
       "|  0   | 90/125  | tensor(5.6208, device='cuda:0', grad_fn=&lt;NllLossBackward0&gt;)|\n",
       "|  0   | 100/125 | tensor(5.3076, device='cuda:0', grad_fn=&lt;NllLossBackward0&gt;)|\n",
       "|  0   | 110/125 | tensor(5.4850, device='cuda:0', grad_fn=&lt;NllLossBackward0&gt;)|\n",
       "|  0   | 120/125 | tensor(5.3753, device='cuda:0', grad_fn=&lt;NllLossBackward0&gt;)|\n",
       "|  1   |  0/125  | tensor(5.7506, device='cuda:0', grad_fn=&lt;NllLossBackward0&gt;)|\n",
       "|  1   | 10/125  | tensor(5.7020, device='cuda:0', grad_fn=&lt;NllLossBackward0&gt;)|\n",
       "|  1   | 20/125  | tensor(5.6206, device='cuda:0', grad_fn=&lt;NllLossBackward0&gt;)|\n",
       "|  1   | 30/125  | tensor(5.5501, device='cuda:0', grad_fn=&lt;NllLossBackward0&gt;)|\n",
       "|  1   | 40/125  | tensor(5.6147, device='cuda:0', grad_fn=&lt;NllLossBackward0&gt;)|\n",
       "|  1   | 50/125  | tensor(5.4470, device='cuda:0', grad_fn=&lt;NllLossBackward0&gt;)|\n",
       "+-----------------------------------------------------------------------------+\n",
       "</pre>\n"
      ],
      "text/plain": [
       "\u001b[3m                                Training Status                                \u001b[0m\n",
       "+-----------------------------------------------------------------------------+\n",
       "|\u001b[1mEpoch\u001b[0m\u001b[1m \u001b[0m|\u001b[1m \u001b[0m\u001b[1m Steps \u001b[0m\u001b[1m \u001b[0m|\u001b[1m \u001b[0m\u001b[1m                           Loss                            \u001b[0m|\n",
       "|------+---------+------------------------------------------------------------|\n",
       "|  0   |  0/125  | tensor(6.2060, device='cuda:0', grad_fn=<NllLossBackward0>)|\n",
       "|  0   | 10/125  | tensor(6.0331, device='cuda:0', grad_fn=<NllLossBackward0>)|\n",
       "|  0   | 20/125  | tensor(6.0198, device='cuda:0', grad_fn=<NllLossBackward0>)|\n",
       "|  0   | 30/125  | tensor(6.3243, device='cuda:0', grad_fn=<NllLossBackward0>)|\n",
       "|  0   | 40/125  | tensor(6.0157, device='cuda:0', grad_fn=<NllLossBackward0>)|\n",
       "|  0   | 50/125  | tensor(5.3991, device='cuda:0', grad_fn=<NllLossBackward0>)|\n",
       "|  0   | 60/125  | tensor(5.8357, device='cuda:0', grad_fn=<NllLossBackward0>)|\n",
       "|  0   | 70/125  | tensor(6.0591, device='cuda:0', grad_fn=<NllLossBackward0>)|\n",
       "|  0   | 80/125  | tensor(5.6659, device='cuda:0', grad_fn=<NllLossBackward0>)|\n",
       "|  0   | 90/125  | tensor(5.6208, device='cuda:0', grad_fn=<NllLossBackward0>)|\n",
       "|  0   | 100/125 | tensor(5.3076, device='cuda:0', grad_fn=<NllLossBackward0>)|\n",
       "|  0   | 110/125 | tensor(5.4850, device='cuda:0', grad_fn=<NllLossBackward0>)|\n",
       "|  0   | 120/125 | tensor(5.3753, device='cuda:0', grad_fn=<NllLossBackward0>)|\n",
       "|  1   |  0/125  | tensor(5.7506, device='cuda:0', grad_fn=<NllLossBackward0>)|\n",
       "|  1   | 10/125  | tensor(5.7020, device='cuda:0', grad_fn=<NllLossBackward0>)|\n",
       "|  1   | 20/125  | tensor(5.6206, device='cuda:0', grad_fn=<NllLossBackward0>)|\n",
       "|  1   | 30/125  | tensor(5.5501, device='cuda:0', grad_fn=<NllLossBackward0>)|\n",
       "|  1   | 40/125  | tensor(5.6147, device='cuda:0', grad_fn=<NllLossBackward0>)|\n",
       "|  1   | 50/125  | tensor(5.4470, device='cuda:0', grad_fn=<NllLossBackward0>)|\n",
       "+-----------------------------------------------------------------------------+\n"
      ]
     },
     "metadata": {},
     "output_type": "display_data"
    },
    {
     "name": "stdout",
     "output_type": "stream",
     "text": [
      "STEP:  60 / 125\n"
     ]
    },
    {
     "data": {
      "text/html": [
       "<pre style=\"white-space:pre;overflow-x:auto;line-height:normal;font-family:Menlo,'DejaVu Sans Mono',consolas,'Courier New',monospace\"><span style=\"font-style: italic\">                                Training Status                                </span>\n",
       "+-----------------------------------------------------------------------------+\n",
       "|<span style=\"font-weight: bold\">Epoch </span>|<span style=\"font-weight: bold\">  Steps  </span>|<span style=\"font-weight: bold\">                            Loss                            </span>|\n",
       "|------+---------+------------------------------------------------------------|\n",
       "|  0   |  0/125  | tensor(6.2060, device='cuda:0', grad_fn=&lt;NllLossBackward0&gt;)|\n",
       "|  0   | 10/125  | tensor(6.0331, device='cuda:0', grad_fn=&lt;NllLossBackward0&gt;)|\n",
       "|  0   | 20/125  | tensor(6.0198, device='cuda:0', grad_fn=&lt;NllLossBackward0&gt;)|\n",
       "|  0   | 30/125  | tensor(6.3243, device='cuda:0', grad_fn=&lt;NllLossBackward0&gt;)|\n",
       "|  0   | 40/125  | tensor(6.0157, device='cuda:0', grad_fn=&lt;NllLossBackward0&gt;)|\n",
       "|  0   | 50/125  | tensor(5.3991, device='cuda:0', grad_fn=&lt;NllLossBackward0&gt;)|\n",
       "|  0   | 60/125  | tensor(5.8357, device='cuda:0', grad_fn=&lt;NllLossBackward0&gt;)|\n",
       "|  0   | 70/125  | tensor(6.0591, device='cuda:0', grad_fn=&lt;NllLossBackward0&gt;)|\n",
       "|  0   | 80/125  | tensor(5.6659, device='cuda:0', grad_fn=&lt;NllLossBackward0&gt;)|\n",
       "|  0   | 90/125  | tensor(5.6208, device='cuda:0', grad_fn=&lt;NllLossBackward0&gt;)|\n",
       "|  0   | 100/125 | tensor(5.3076, device='cuda:0', grad_fn=&lt;NllLossBackward0&gt;)|\n",
       "|  0   | 110/125 | tensor(5.4850, device='cuda:0', grad_fn=&lt;NllLossBackward0&gt;)|\n",
       "|  0   | 120/125 | tensor(5.3753, device='cuda:0', grad_fn=&lt;NllLossBackward0&gt;)|\n",
       "|  1   |  0/125  | tensor(5.7506, device='cuda:0', grad_fn=&lt;NllLossBackward0&gt;)|\n",
       "|  1   | 10/125  | tensor(5.7020, device='cuda:0', grad_fn=&lt;NllLossBackward0&gt;)|\n",
       "|  1   | 20/125  | tensor(5.6206, device='cuda:0', grad_fn=&lt;NllLossBackward0&gt;)|\n",
       "|  1   | 30/125  | tensor(5.5501, device='cuda:0', grad_fn=&lt;NllLossBackward0&gt;)|\n",
       "|  1   | 40/125  | tensor(5.6147, device='cuda:0', grad_fn=&lt;NllLossBackward0&gt;)|\n",
       "|  1   | 50/125  | tensor(5.4470, device='cuda:0', grad_fn=&lt;NllLossBackward0&gt;)|\n",
       "|  1   | 60/125  | tensor(5.4128, device='cuda:0', grad_fn=&lt;NllLossBackward0&gt;)|\n",
       "+-----------------------------------------------------------------------------+\n",
       "</pre>\n"
      ],
      "text/plain": [
       "\u001b[3m                                Training Status                                \u001b[0m\n",
       "+-----------------------------------------------------------------------------+\n",
       "|\u001b[1mEpoch\u001b[0m\u001b[1m \u001b[0m|\u001b[1m \u001b[0m\u001b[1m Steps \u001b[0m\u001b[1m \u001b[0m|\u001b[1m \u001b[0m\u001b[1m                           Loss                            \u001b[0m|\n",
       "|------+---------+------------------------------------------------------------|\n",
       "|  0   |  0/125  | tensor(6.2060, device='cuda:0', grad_fn=<NllLossBackward0>)|\n",
       "|  0   | 10/125  | tensor(6.0331, device='cuda:0', grad_fn=<NllLossBackward0>)|\n",
       "|  0   | 20/125  | tensor(6.0198, device='cuda:0', grad_fn=<NllLossBackward0>)|\n",
       "|  0   | 30/125  | tensor(6.3243, device='cuda:0', grad_fn=<NllLossBackward0>)|\n",
       "|  0   | 40/125  | tensor(6.0157, device='cuda:0', grad_fn=<NllLossBackward0>)|\n",
       "|  0   | 50/125  | tensor(5.3991, device='cuda:0', grad_fn=<NllLossBackward0>)|\n",
       "|  0   | 60/125  | tensor(5.8357, device='cuda:0', grad_fn=<NllLossBackward0>)|\n",
       "|  0   | 70/125  | tensor(6.0591, device='cuda:0', grad_fn=<NllLossBackward0>)|\n",
       "|  0   | 80/125  | tensor(5.6659, device='cuda:0', grad_fn=<NllLossBackward0>)|\n",
       "|  0   | 90/125  | tensor(5.6208, device='cuda:0', grad_fn=<NllLossBackward0>)|\n",
       "|  0   | 100/125 | tensor(5.3076, device='cuda:0', grad_fn=<NllLossBackward0>)|\n",
       "|  0   | 110/125 | tensor(5.4850, device='cuda:0', grad_fn=<NllLossBackward0>)|\n",
       "|  0   | 120/125 | tensor(5.3753, device='cuda:0', grad_fn=<NllLossBackward0>)|\n",
       "|  1   |  0/125  | tensor(5.7506, device='cuda:0', grad_fn=<NllLossBackward0>)|\n",
       "|  1   | 10/125  | tensor(5.7020, device='cuda:0', grad_fn=<NllLossBackward0>)|\n",
       "|  1   | 20/125  | tensor(5.6206, device='cuda:0', grad_fn=<NllLossBackward0>)|\n",
       "|  1   | 30/125  | tensor(5.5501, device='cuda:0', grad_fn=<NllLossBackward0>)|\n",
       "|  1   | 40/125  | tensor(5.6147, device='cuda:0', grad_fn=<NllLossBackward0>)|\n",
       "|  1   | 50/125  | tensor(5.4470, device='cuda:0', grad_fn=<NllLossBackward0>)|\n",
       "|  1   | 60/125  | tensor(5.4128, device='cuda:0', grad_fn=<NllLossBackward0>)|\n",
       "+-----------------------------------------------------------------------------+\n"
      ]
     },
     "metadata": {},
     "output_type": "display_data"
    },
    {
     "name": "stdout",
     "output_type": "stream",
     "text": [
      "STEP:  70 / 125\n"
     ]
    },
    {
     "data": {
      "text/html": [
       "<pre style=\"white-space:pre;overflow-x:auto;line-height:normal;font-family:Menlo,'DejaVu Sans Mono',consolas,'Courier New',monospace\"><span style=\"font-style: italic\">                                Training Status                                </span>\n",
       "+-----------------------------------------------------------------------------+\n",
       "|<span style=\"font-weight: bold\">Epoch </span>|<span style=\"font-weight: bold\">  Steps  </span>|<span style=\"font-weight: bold\">                            Loss                            </span>|\n",
       "|------+---------+------------------------------------------------------------|\n",
       "|  0   |  0/125  | tensor(6.2060, device='cuda:0', grad_fn=&lt;NllLossBackward0&gt;)|\n",
       "|  0   | 10/125  | tensor(6.0331, device='cuda:0', grad_fn=&lt;NllLossBackward0&gt;)|\n",
       "|  0   | 20/125  | tensor(6.0198, device='cuda:0', grad_fn=&lt;NllLossBackward0&gt;)|\n",
       "|  0   | 30/125  | tensor(6.3243, device='cuda:0', grad_fn=&lt;NllLossBackward0&gt;)|\n",
       "|  0   | 40/125  | tensor(6.0157, device='cuda:0', grad_fn=&lt;NllLossBackward0&gt;)|\n",
       "|  0   | 50/125  | tensor(5.3991, device='cuda:0', grad_fn=&lt;NllLossBackward0&gt;)|\n",
       "|  0   | 60/125  | tensor(5.8357, device='cuda:0', grad_fn=&lt;NllLossBackward0&gt;)|\n",
       "|  0   | 70/125  | tensor(6.0591, device='cuda:0', grad_fn=&lt;NllLossBackward0&gt;)|\n",
       "|  0   | 80/125  | tensor(5.6659, device='cuda:0', grad_fn=&lt;NllLossBackward0&gt;)|\n",
       "|  0   | 90/125  | tensor(5.6208, device='cuda:0', grad_fn=&lt;NllLossBackward0&gt;)|\n",
       "|  0   | 100/125 | tensor(5.3076, device='cuda:0', grad_fn=&lt;NllLossBackward0&gt;)|\n",
       "|  0   | 110/125 | tensor(5.4850, device='cuda:0', grad_fn=&lt;NllLossBackward0&gt;)|\n",
       "|  0   | 120/125 | tensor(5.3753, device='cuda:0', grad_fn=&lt;NllLossBackward0&gt;)|\n",
       "|  1   |  0/125  | tensor(5.7506, device='cuda:0', grad_fn=&lt;NllLossBackward0&gt;)|\n",
       "|  1   | 10/125  | tensor(5.7020, device='cuda:0', grad_fn=&lt;NllLossBackward0&gt;)|\n",
       "|  1   | 20/125  | tensor(5.6206, device='cuda:0', grad_fn=&lt;NllLossBackward0&gt;)|\n",
       "|  1   | 30/125  | tensor(5.5501, device='cuda:0', grad_fn=&lt;NllLossBackward0&gt;)|\n",
       "|  1   | 40/125  | tensor(5.6147, device='cuda:0', grad_fn=&lt;NllLossBackward0&gt;)|\n",
       "|  1   | 50/125  | tensor(5.4470, device='cuda:0', grad_fn=&lt;NllLossBackward0&gt;)|\n",
       "|  1   | 60/125  | tensor(5.4128, device='cuda:0', grad_fn=&lt;NllLossBackward0&gt;)|\n",
       "|  1   | 70/125  | tensor(5.5632, device='cuda:0', grad_fn=&lt;NllLossBackward0&gt;)|\n",
       "+-----------------------------------------------------------------------------+\n",
       "</pre>\n"
      ],
      "text/plain": [
       "\u001b[3m                                Training Status                                \u001b[0m\n",
       "+-----------------------------------------------------------------------------+\n",
       "|\u001b[1mEpoch\u001b[0m\u001b[1m \u001b[0m|\u001b[1m \u001b[0m\u001b[1m Steps \u001b[0m\u001b[1m \u001b[0m|\u001b[1m \u001b[0m\u001b[1m                           Loss                            \u001b[0m|\n",
       "|------+---------+------------------------------------------------------------|\n",
       "|  0   |  0/125  | tensor(6.2060, device='cuda:0', grad_fn=<NllLossBackward0>)|\n",
       "|  0   | 10/125  | tensor(6.0331, device='cuda:0', grad_fn=<NllLossBackward0>)|\n",
       "|  0   | 20/125  | tensor(6.0198, device='cuda:0', grad_fn=<NllLossBackward0>)|\n",
       "|  0   | 30/125  | tensor(6.3243, device='cuda:0', grad_fn=<NllLossBackward0>)|\n",
       "|  0   | 40/125  | tensor(6.0157, device='cuda:0', grad_fn=<NllLossBackward0>)|\n",
       "|  0   | 50/125  | tensor(5.3991, device='cuda:0', grad_fn=<NllLossBackward0>)|\n",
       "|  0   | 60/125  | tensor(5.8357, device='cuda:0', grad_fn=<NllLossBackward0>)|\n",
       "|  0   | 70/125  | tensor(6.0591, device='cuda:0', grad_fn=<NllLossBackward0>)|\n",
       "|  0   | 80/125  | tensor(5.6659, device='cuda:0', grad_fn=<NllLossBackward0>)|\n",
       "|  0   | 90/125  | tensor(5.6208, device='cuda:0', grad_fn=<NllLossBackward0>)|\n",
       "|  0   | 100/125 | tensor(5.3076, device='cuda:0', grad_fn=<NllLossBackward0>)|\n",
       "|  0   | 110/125 | tensor(5.4850, device='cuda:0', grad_fn=<NllLossBackward0>)|\n",
       "|  0   | 120/125 | tensor(5.3753, device='cuda:0', grad_fn=<NllLossBackward0>)|\n",
       "|  1   |  0/125  | tensor(5.7506, device='cuda:0', grad_fn=<NllLossBackward0>)|\n",
       "|  1   | 10/125  | tensor(5.7020, device='cuda:0', grad_fn=<NllLossBackward0>)|\n",
       "|  1   | 20/125  | tensor(5.6206, device='cuda:0', grad_fn=<NllLossBackward0>)|\n",
       "|  1   | 30/125  | tensor(5.5501, device='cuda:0', grad_fn=<NllLossBackward0>)|\n",
       "|  1   | 40/125  | tensor(5.6147, device='cuda:0', grad_fn=<NllLossBackward0>)|\n",
       "|  1   | 50/125  | tensor(5.4470, device='cuda:0', grad_fn=<NllLossBackward0>)|\n",
       "|  1   | 60/125  | tensor(5.4128, device='cuda:0', grad_fn=<NllLossBackward0>)|\n",
       "|  1   | 70/125  | tensor(5.5632, device='cuda:0', grad_fn=<NllLossBackward0>)|\n",
       "+-----------------------------------------------------------------------------+\n"
      ]
     },
     "metadata": {},
     "output_type": "display_data"
    },
    {
     "name": "stdout",
     "output_type": "stream",
     "text": [
      "STEP:  80 / 125\n"
     ]
    },
    {
     "data": {
      "text/html": [
       "<pre style=\"white-space:pre;overflow-x:auto;line-height:normal;font-family:Menlo,'DejaVu Sans Mono',consolas,'Courier New',monospace\"><span style=\"font-style: italic\">                                Training Status                                </span>\n",
       "+-----------------------------------------------------------------------------+\n",
       "|<span style=\"font-weight: bold\">Epoch </span>|<span style=\"font-weight: bold\">  Steps  </span>|<span style=\"font-weight: bold\">                            Loss                            </span>|\n",
       "|------+---------+------------------------------------------------------------|\n",
       "|  0   |  0/125  | tensor(6.2060, device='cuda:0', grad_fn=&lt;NllLossBackward0&gt;)|\n",
       "|  0   | 10/125  | tensor(6.0331, device='cuda:0', grad_fn=&lt;NllLossBackward0&gt;)|\n",
       "|  0   | 20/125  | tensor(6.0198, device='cuda:0', grad_fn=&lt;NllLossBackward0&gt;)|\n",
       "|  0   | 30/125  | tensor(6.3243, device='cuda:0', grad_fn=&lt;NllLossBackward0&gt;)|\n",
       "|  0   | 40/125  | tensor(6.0157, device='cuda:0', grad_fn=&lt;NllLossBackward0&gt;)|\n",
       "|  0   | 50/125  | tensor(5.3991, device='cuda:0', grad_fn=&lt;NllLossBackward0&gt;)|\n",
       "|  0   | 60/125  | tensor(5.8357, device='cuda:0', grad_fn=&lt;NllLossBackward0&gt;)|\n",
       "|  0   | 70/125  | tensor(6.0591, device='cuda:0', grad_fn=&lt;NllLossBackward0&gt;)|\n",
       "|  0   | 80/125  | tensor(5.6659, device='cuda:0', grad_fn=&lt;NllLossBackward0&gt;)|\n",
       "|  0   | 90/125  | tensor(5.6208, device='cuda:0', grad_fn=&lt;NllLossBackward0&gt;)|\n",
       "|  0   | 100/125 | tensor(5.3076, device='cuda:0', grad_fn=&lt;NllLossBackward0&gt;)|\n",
       "|  0   | 110/125 | tensor(5.4850, device='cuda:0', grad_fn=&lt;NllLossBackward0&gt;)|\n",
       "|  0   | 120/125 | tensor(5.3753, device='cuda:0', grad_fn=&lt;NllLossBackward0&gt;)|\n",
       "|  1   |  0/125  | tensor(5.7506, device='cuda:0', grad_fn=&lt;NllLossBackward0&gt;)|\n",
       "|  1   | 10/125  | tensor(5.7020, device='cuda:0', grad_fn=&lt;NllLossBackward0&gt;)|\n",
       "|  1   | 20/125  | tensor(5.6206, device='cuda:0', grad_fn=&lt;NllLossBackward0&gt;)|\n",
       "|  1   | 30/125  | tensor(5.5501, device='cuda:0', grad_fn=&lt;NllLossBackward0&gt;)|\n",
       "|  1   | 40/125  | tensor(5.6147, device='cuda:0', grad_fn=&lt;NllLossBackward0&gt;)|\n",
       "|  1   | 50/125  | tensor(5.4470, device='cuda:0', grad_fn=&lt;NllLossBackward0&gt;)|\n",
       "|  1   | 60/125  | tensor(5.4128, device='cuda:0', grad_fn=&lt;NllLossBackward0&gt;)|\n",
       "|  1   | 70/125  | tensor(5.5632, device='cuda:0', grad_fn=&lt;NllLossBackward0&gt;)|\n",
       "|  1   | 80/125  | tensor(5.7657, device='cuda:0', grad_fn=&lt;NllLossBackward0&gt;)|\n",
       "+-----------------------------------------------------------------------------+\n",
       "</pre>\n"
      ],
      "text/plain": [
       "\u001b[3m                                Training Status                                \u001b[0m\n",
       "+-----------------------------------------------------------------------------+\n",
       "|\u001b[1mEpoch\u001b[0m\u001b[1m \u001b[0m|\u001b[1m \u001b[0m\u001b[1m Steps \u001b[0m\u001b[1m \u001b[0m|\u001b[1m \u001b[0m\u001b[1m                           Loss                            \u001b[0m|\n",
       "|------+---------+------------------------------------------------------------|\n",
       "|  0   |  0/125  | tensor(6.2060, device='cuda:0', grad_fn=<NllLossBackward0>)|\n",
       "|  0   | 10/125  | tensor(6.0331, device='cuda:0', grad_fn=<NllLossBackward0>)|\n",
       "|  0   | 20/125  | tensor(6.0198, device='cuda:0', grad_fn=<NllLossBackward0>)|\n",
       "|  0   | 30/125  | tensor(6.3243, device='cuda:0', grad_fn=<NllLossBackward0>)|\n",
       "|  0   | 40/125  | tensor(6.0157, device='cuda:0', grad_fn=<NllLossBackward0>)|\n",
       "|  0   | 50/125  | tensor(5.3991, device='cuda:0', grad_fn=<NllLossBackward0>)|\n",
       "|  0   | 60/125  | tensor(5.8357, device='cuda:0', grad_fn=<NllLossBackward0>)|\n",
       "|  0   | 70/125  | tensor(6.0591, device='cuda:0', grad_fn=<NllLossBackward0>)|\n",
       "|  0   | 80/125  | tensor(5.6659, device='cuda:0', grad_fn=<NllLossBackward0>)|\n",
       "|  0   | 90/125  | tensor(5.6208, device='cuda:0', grad_fn=<NllLossBackward0>)|\n",
       "|  0   | 100/125 | tensor(5.3076, device='cuda:0', grad_fn=<NllLossBackward0>)|\n",
       "|  0   | 110/125 | tensor(5.4850, device='cuda:0', grad_fn=<NllLossBackward0>)|\n",
       "|  0   | 120/125 | tensor(5.3753, device='cuda:0', grad_fn=<NllLossBackward0>)|\n",
       "|  1   |  0/125  | tensor(5.7506, device='cuda:0', grad_fn=<NllLossBackward0>)|\n",
       "|  1   | 10/125  | tensor(5.7020, device='cuda:0', grad_fn=<NllLossBackward0>)|\n",
       "|  1   | 20/125  | tensor(5.6206, device='cuda:0', grad_fn=<NllLossBackward0>)|\n",
       "|  1   | 30/125  | tensor(5.5501, device='cuda:0', grad_fn=<NllLossBackward0>)|\n",
       "|  1   | 40/125  | tensor(5.6147, device='cuda:0', grad_fn=<NllLossBackward0>)|\n",
       "|  1   | 50/125  | tensor(5.4470, device='cuda:0', grad_fn=<NllLossBackward0>)|\n",
       "|  1   | 60/125  | tensor(5.4128, device='cuda:0', grad_fn=<NllLossBackward0>)|\n",
       "|  1   | 70/125  | tensor(5.5632, device='cuda:0', grad_fn=<NllLossBackward0>)|\n",
       "|  1   | 80/125  | tensor(5.7657, device='cuda:0', grad_fn=<NllLossBackward0>)|\n",
       "+-----------------------------------------------------------------------------+\n"
      ]
     },
     "metadata": {},
     "output_type": "display_data"
    },
    {
     "name": "stdout",
     "output_type": "stream",
     "text": [
      "STEP:  90 / 125\n"
     ]
    },
    {
     "data": {
      "text/html": [
       "<pre style=\"white-space:pre;overflow-x:auto;line-height:normal;font-family:Menlo,'DejaVu Sans Mono',consolas,'Courier New',monospace\"><span style=\"font-style: italic\">                                Training Status                                </span>\n",
       "+-----------------------------------------------------------------------------+\n",
       "|<span style=\"font-weight: bold\">Epoch </span>|<span style=\"font-weight: bold\">  Steps  </span>|<span style=\"font-weight: bold\">                            Loss                            </span>|\n",
       "|------+---------+------------------------------------------------------------|\n",
       "|  0   |  0/125  | tensor(6.2060, device='cuda:0', grad_fn=&lt;NllLossBackward0&gt;)|\n",
       "|  0   | 10/125  | tensor(6.0331, device='cuda:0', grad_fn=&lt;NllLossBackward0&gt;)|\n",
       "|  0   | 20/125  | tensor(6.0198, device='cuda:0', grad_fn=&lt;NllLossBackward0&gt;)|\n",
       "|  0   | 30/125  | tensor(6.3243, device='cuda:0', grad_fn=&lt;NllLossBackward0&gt;)|\n",
       "|  0   | 40/125  | tensor(6.0157, device='cuda:0', grad_fn=&lt;NllLossBackward0&gt;)|\n",
       "|  0   | 50/125  | tensor(5.3991, device='cuda:0', grad_fn=&lt;NllLossBackward0&gt;)|\n",
       "|  0   | 60/125  | tensor(5.8357, device='cuda:0', grad_fn=&lt;NllLossBackward0&gt;)|\n",
       "|  0   | 70/125  | tensor(6.0591, device='cuda:0', grad_fn=&lt;NllLossBackward0&gt;)|\n",
       "|  0   | 80/125  | tensor(5.6659, device='cuda:0', grad_fn=&lt;NllLossBackward0&gt;)|\n",
       "|  0   | 90/125  | tensor(5.6208, device='cuda:0', grad_fn=&lt;NllLossBackward0&gt;)|\n",
       "|  0   | 100/125 | tensor(5.3076, device='cuda:0', grad_fn=&lt;NllLossBackward0&gt;)|\n",
       "|  0   | 110/125 | tensor(5.4850, device='cuda:0', grad_fn=&lt;NllLossBackward0&gt;)|\n",
       "|  0   | 120/125 | tensor(5.3753, device='cuda:0', grad_fn=&lt;NllLossBackward0&gt;)|\n",
       "|  1   |  0/125  | tensor(5.7506, device='cuda:0', grad_fn=&lt;NllLossBackward0&gt;)|\n",
       "|  1   | 10/125  | tensor(5.7020, device='cuda:0', grad_fn=&lt;NllLossBackward0&gt;)|\n",
       "|  1   | 20/125  | tensor(5.6206, device='cuda:0', grad_fn=&lt;NllLossBackward0&gt;)|\n",
       "|  1   | 30/125  | tensor(5.5501, device='cuda:0', grad_fn=&lt;NllLossBackward0&gt;)|\n",
       "|  1   | 40/125  | tensor(5.6147, device='cuda:0', grad_fn=&lt;NllLossBackward0&gt;)|\n",
       "|  1   | 50/125  | tensor(5.4470, device='cuda:0', grad_fn=&lt;NllLossBackward0&gt;)|\n",
       "|  1   | 60/125  | tensor(5.4128, device='cuda:0', grad_fn=&lt;NllLossBackward0&gt;)|\n",
       "|  1   | 70/125  | tensor(5.5632, device='cuda:0', grad_fn=&lt;NllLossBackward0&gt;)|\n",
       "|  1   | 80/125  | tensor(5.7657, device='cuda:0', grad_fn=&lt;NllLossBackward0&gt;)|\n",
       "|  1   | 90/125  | tensor(5.4529, device='cuda:0', grad_fn=&lt;NllLossBackward0&gt;)|\n",
       "+-----------------------------------------------------------------------------+\n",
       "</pre>\n"
      ],
      "text/plain": [
       "\u001b[3m                                Training Status                                \u001b[0m\n",
       "+-----------------------------------------------------------------------------+\n",
       "|\u001b[1mEpoch\u001b[0m\u001b[1m \u001b[0m|\u001b[1m \u001b[0m\u001b[1m Steps \u001b[0m\u001b[1m \u001b[0m|\u001b[1m \u001b[0m\u001b[1m                           Loss                            \u001b[0m|\n",
       "|------+---------+------------------------------------------------------------|\n",
       "|  0   |  0/125  | tensor(6.2060, device='cuda:0', grad_fn=<NllLossBackward0>)|\n",
       "|  0   | 10/125  | tensor(6.0331, device='cuda:0', grad_fn=<NllLossBackward0>)|\n",
       "|  0   | 20/125  | tensor(6.0198, device='cuda:0', grad_fn=<NllLossBackward0>)|\n",
       "|  0   | 30/125  | tensor(6.3243, device='cuda:0', grad_fn=<NllLossBackward0>)|\n",
       "|  0   | 40/125  | tensor(6.0157, device='cuda:0', grad_fn=<NllLossBackward0>)|\n",
       "|  0   | 50/125  | tensor(5.3991, device='cuda:0', grad_fn=<NllLossBackward0>)|\n",
       "|  0   | 60/125  | tensor(5.8357, device='cuda:0', grad_fn=<NllLossBackward0>)|\n",
       "|  0   | 70/125  | tensor(6.0591, device='cuda:0', grad_fn=<NllLossBackward0>)|\n",
       "|  0   | 80/125  | tensor(5.6659, device='cuda:0', grad_fn=<NllLossBackward0>)|\n",
       "|  0   | 90/125  | tensor(5.6208, device='cuda:0', grad_fn=<NllLossBackward0>)|\n",
       "|  0   | 100/125 | tensor(5.3076, device='cuda:0', grad_fn=<NllLossBackward0>)|\n",
       "|  0   | 110/125 | tensor(5.4850, device='cuda:0', grad_fn=<NllLossBackward0>)|\n",
       "|  0   | 120/125 | tensor(5.3753, device='cuda:0', grad_fn=<NllLossBackward0>)|\n",
       "|  1   |  0/125  | tensor(5.7506, device='cuda:0', grad_fn=<NllLossBackward0>)|\n",
       "|  1   | 10/125  | tensor(5.7020, device='cuda:0', grad_fn=<NllLossBackward0>)|\n",
       "|  1   | 20/125  | tensor(5.6206, device='cuda:0', grad_fn=<NllLossBackward0>)|\n",
       "|  1   | 30/125  | tensor(5.5501, device='cuda:0', grad_fn=<NllLossBackward0>)|\n",
       "|  1   | 40/125  | tensor(5.6147, device='cuda:0', grad_fn=<NllLossBackward0>)|\n",
       "|  1   | 50/125  | tensor(5.4470, device='cuda:0', grad_fn=<NllLossBackward0>)|\n",
       "|  1   | 60/125  | tensor(5.4128, device='cuda:0', grad_fn=<NllLossBackward0>)|\n",
       "|  1   | 70/125  | tensor(5.5632, device='cuda:0', grad_fn=<NllLossBackward0>)|\n",
       "|  1   | 80/125  | tensor(5.7657, device='cuda:0', grad_fn=<NllLossBackward0>)|\n",
       "|  1   | 90/125  | tensor(5.4529, device='cuda:0', grad_fn=<NllLossBackward0>)|\n",
       "+-----------------------------------------------------------------------------+\n"
      ]
     },
     "metadata": {},
     "output_type": "display_data"
    },
    {
     "name": "stdout",
     "output_type": "stream",
     "text": [
      "STEP:  100 / 125\n"
     ]
    },
    {
     "data": {
      "text/html": [
       "<pre style=\"white-space:pre;overflow-x:auto;line-height:normal;font-family:Menlo,'DejaVu Sans Mono',consolas,'Courier New',monospace\"><span style=\"font-style: italic\">                                Training Status                                </span>\n",
       "+-----------------------------------------------------------------------------+\n",
       "|<span style=\"font-weight: bold\">Epoch </span>|<span style=\"font-weight: bold\">  Steps  </span>|<span style=\"font-weight: bold\">                            Loss                            </span>|\n",
       "|------+---------+------------------------------------------------------------|\n",
       "|  0   |  0/125  | tensor(6.2060, device='cuda:0', grad_fn=&lt;NllLossBackward0&gt;)|\n",
       "|  0   | 10/125  | tensor(6.0331, device='cuda:0', grad_fn=&lt;NllLossBackward0&gt;)|\n",
       "|  0   | 20/125  | tensor(6.0198, device='cuda:0', grad_fn=&lt;NllLossBackward0&gt;)|\n",
       "|  0   | 30/125  | tensor(6.3243, device='cuda:0', grad_fn=&lt;NllLossBackward0&gt;)|\n",
       "|  0   | 40/125  | tensor(6.0157, device='cuda:0', grad_fn=&lt;NllLossBackward0&gt;)|\n",
       "|  0   | 50/125  | tensor(5.3991, device='cuda:0', grad_fn=&lt;NllLossBackward0&gt;)|\n",
       "|  0   | 60/125  | tensor(5.8357, device='cuda:0', grad_fn=&lt;NllLossBackward0&gt;)|\n",
       "|  0   | 70/125  | tensor(6.0591, device='cuda:0', grad_fn=&lt;NllLossBackward0&gt;)|\n",
       "|  0   | 80/125  | tensor(5.6659, device='cuda:0', grad_fn=&lt;NllLossBackward0&gt;)|\n",
       "|  0   | 90/125  | tensor(5.6208, device='cuda:0', grad_fn=&lt;NllLossBackward0&gt;)|\n",
       "|  0   | 100/125 | tensor(5.3076, device='cuda:0', grad_fn=&lt;NllLossBackward0&gt;)|\n",
       "|  0   | 110/125 | tensor(5.4850, device='cuda:0', grad_fn=&lt;NllLossBackward0&gt;)|\n",
       "|  0   | 120/125 | tensor(5.3753, device='cuda:0', grad_fn=&lt;NllLossBackward0&gt;)|\n",
       "|  1   |  0/125  | tensor(5.7506, device='cuda:0', grad_fn=&lt;NllLossBackward0&gt;)|\n",
       "|  1   | 10/125  | tensor(5.7020, device='cuda:0', grad_fn=&lt;NllLossBackward0&gt;)|\n",
       "|  1   | 20/125  | tensor(5.6206, device='cuda:0', grad_fn=&lt;NllLossBackward0&gt;)|\n",
       "|  1   | 30/125  | tensor(5.5501, device='cuda:0', grad_fn=&lt;NllLossBackward0&gt;)|\n",
       "|  1   | 40/125  | tensor(5.6147, device='cuda:0', grad_fn=&lt;NllLossBackward0&gt;)|\n",
       "|  1   | 50/125  | tensor(5.4470, device='cuda:0', grad_fn=&lt;NllLossBackward0&gt;)|\n",
       "|  1   | 60/125  | tensor(5.4128, device='cuda:0', grad_fn=&lt;NllLossBackward0&gt;)|\n",
       "|  1   | 70/125  | tensor(5.5632, device='cuda:0', grad_fn=&lt;NllLossBackward0&gt;)|\n",
       "|  1   | 80/125  | tensor(5.7657, device='cuda:0', grad_fn=&lt;NllLossBackward0&gt;)|\n",
       "|  1   | 90/125  | tensor(5.4529, device='cuda:0', grad_fn=&lt;NllLossBackward0&gt;)|\n",
       "|  1   | 100/125 | tensor(4.9634, device='cuda:0', grad_fn=&lt;NllLossBackward0&gt;)|\n",
       "+-----------------------------------------------------------------------------+\n",
       "</pre>\n"
      ],
      "text/plain": [
       "\u001b[3m                                Training Status                                \u001b[0m\n",
       "+-----------------------------------------------------------------------------+\n",
       "|\u001b[1mEpoch\u001b[0m\u001b[1m \u001b[0m|\u001b[1m \u001b[0m\u001b[1m Steps \u001b[0m\u001b[1m \u001b[0m|\u001b[1m \u001b[0m\u001b[1m                           Loss                            \u001b[0m|\n",
       "|------+---------+------------------------------------------------------------|\n",
       "|  0   |  0/125  | tensor(6.2060, device='cuda:0', grad_fn=<NllLossBackward0>)|\n",
       "|  0   | 10/125  | tensor(6.0331, device='cuda:0', grad_fn=<NllLossBackward0>)|\n",
       "|  0   | 20/125  | tensor(6.0198, device='cuda:0', grad_fn=<NllLossBackward0>)|\n",
       "|  0   | 30/125  | tensor(6.3243, device='cuda:0', grad_fn=<NllLossBackward0>)|\n",
       "|  0   | 40/125  | tensor(6.0157, device='cuda:0', grad_fn=<NllLossBackward0>)|\n",
       "|  0   | 50/125  | tensor(5.3991, device='cuda:0', grad_fn=<NllLossBackward0>)|\n",
       "|  0   | 60/125  | tensor(5.8357, device='cuda:0', grad_fn=<NllLossBackward0>)|\n",
       "|  0   | 70/125  | tensor(6.0591, device='cuda:0', grad_fn=<NllLossBackward0>)|\n",
       "|  0   | 80/125  | tensor(5.6659, device='cuda:0', grad_fn=<NllLossBackward0>)|\n",
       "|  0   | 90/125  | tensor(5.6208, device='cuda:0', grad_fn=<NllLossBackward0>)|\n",
       "|  0   | 100/125 | tensor(5.3076, device='cuda:0', grad_fn=<NllLossBackward0>)|\n",
       "|  0   | 110/125 | tensor(5.4850, device='cuda:0', grad_fn=<NllLossBackward0>)|\n",
       "|  0   | 120/125 | tensor(5.3753, device='cuda:0', grad_fn=<NllLossBackward0>)|\n",
       "|  1   |  0/125  | tensor(5.7506, device='cuda:0', grad_fn=<NllLossBackward0>)|\n",
       "|  1   | 10/125  | tensor(5.7020, device='cuda:0', grad_fn=<NllLossBackward0>)|\n",
       "|  1   | 20/125  | tensor(5.6206, device='cuda:0', grad_fn=<NllLossBackward0>)|\n",
       "|  1   | 30/125  | tensor(5.5501, device='cuda:0', grad_fn=<NllLossBackward0>)|\n",
       "|  1   | 40/125  | tensor(5.6147, device='cuda:0', grad_fn=<NllLossBackward0>)|\n",
       "|  1   | 50/125  | tensor(5.4470, device='cuda:0', grad_fn=<NllLossBackward0>)|\n",
       "|  1   | 60/125  | tensor(5.4128, device='cuda:0', grad_fn=<NllLossBackward0>)|\n",
       "|  1   | 70/125  | tensor(5.5632, device='cuda:0', grad_fn=<NllLossBackward0>)|\n",
       "|  1   | 80/125  | tensor(5.7657, device='cuda:0', grad_fn=<NllLossBackward0>)|\n",
       "|  1   | 90/125  | tensor(5.4529, device='cuda:0', grad_fn=<NllLossBackward0>)|\n",
       "|  1   | 100/125 | tensor(4.9634, device='cuda:0', grad_fn=<NllLossBackward0>)|\n",
       "+-----------------------------------------------------------------------------+\n"
      ]
     },
     "metadata": {},
     "output_type": "display_data"
    },
    {
     "name": "stdout",
     "output_type": "stream",
     "text": [
      "STEP:  110 / 125\n"
     ]
    },
    {
     "data": {
      "text/html": [
       "<pre style=\"white-space:pre;overflow-x:auto;line-height:normal;font-family:Menlo,'DejaVu Sans Mono',consolas,'Courier New',monospace\"><span style=\"font-style: italic\">                                Training Status                                </span>\n",
       "+-----------------------------------------------------------------------------+\n",
       "|<span style=\"font-weight: bold\">Epoch </span>|<span style=\"font-weight: bold\">  Steps  </span>|<span style=\"font-weight: bold\">                            Loss                            </span>|\n",
       "|------+---------+------------------------------------------------------------|\n",
       "|  0   |  0/125  | tensor(6.2060, device='cuda:0', grad_fn=&lt;NllLossBackward0&gt;)|\n",
       "|  0   | 10/125  | tensor(6.0331, device='cuda:0', grad_fn=&lt;NllLossBackward0&gt;)|\n",
       "|  0   | 20/125  | tensor(6.0198, device='cuda:0', grad_fn=&lt;NllLossBackward0&gt;)|\n",
       "|  0   | 30/125  | tensor(6.3243, device='cuda:0', grad_fn=&lt;NllLossBackward0&gt;)|\n",
       "|  0   | 40/125  | tensor(6.0157, device='cuda:0', grad_fn=&lt;NllLossBackward0&gt;)|\n",
       "|  0   | 50/125  | tensor(5.3991, device='cuda:0', grad_fn=&lt;NllLossBackward0&gt;)|\n",
       "|  0   | 60/125  | tensor(5.8357, device='cuda:0', grad_fn=&lt;NllLossBackward0&gt;)|\n",
       "|  0   | 70/125  | tensor(6.0591, device='cuda:0', grad_fn=&lt;NllLossBackward0&gt;)|\n",
       "|  0   | 80/125  | tensor(5.6659, device='cuda:0', grad_fn=&lt;NllLossBackward0&gt;)|\n",
       "|  0   | 90/125  | tensor(5.6208, device='cuda:0', grad_fn=&lt;NllLossBackward0&gt;)|\n",
       "|  0   | 100/125 | tensor(5.3076, device='cuda:0', grad_fn=&lt;NllLossBackward0&gt;)|\n",
       "|  0   | 110/125 | tensor(5.4850, device='cuda:0', grad_fn=&lt;NllLossBackward0&gt;)|\n",
       "|  0   | 120/125 | tensor(5.3753, device='cuda:0', grad_fn=&lt;NllLossBackward0&gt;)|\n",
       "|  1   |  0/125  | tensor(5.7506, device='cuda:0', grad_fn=&lt;NllLossBackward0&gt;)|\n",
       "|  1   | 10/125  | tensor(5.7020, device='cuda:0', grad_fn=&lt;NllLossBackward0&gt;)|\n",
       "|  1   | 20/125  | tensor(5.6206, device='cuda:0', grad_fn=&lt;NllLossBackward0&gt;)|\n",
       "|  1   | 30/125  | tensor(5.5501, device='cuda:0', grad_fn=&lt;NllLossBackward0&gt;)|\n",
       "|  1   | 40/125  | tensor(5.6147, device='cuda:0', grad_fn=&lt;NllLossBackward0&gt;)|\n",
       "|  1   | 50/125  | tensor(5.4470, device='cuda:0', grad_fn=&lt;NllLossBackward0&gt;)|\n",
       "|  1   | 60/125  | tensor(5.4128, device='cuda:0', grad_fn=&lt;NllLossBackward0&gt;)|\n",
       "|  1   | 70/125  | tensor(5.5632, device='cuda:0', grad_fn=&lt;NllLossBackward0&gt;)|\n",
       "|  1   | 80/125  | tensor(5.7657, device='cuda:0', grad_fn=&lt;NllLossBackward0&gt;)|\n",
       "|  1   | 90/125  | tensor(5.4529, device='cuda:0', grad_fn=&lt;NllLossBackward0&gt;)|\n",
       "|  1   | 100/125 | tensor(4.9634, device='cuda:0', grad_fn=&lt;NllLossBackward0&gt;)|\n",
       "|  1   | 110/125 | tensor(5.6437, device='cuda:0', grad_fn=&lt;NllLossBackward0&gt;)|\n",
       "+-----------------------------------------------------------------------------+\n",
       "</pre>\n"
      ],
      "text/plain": [
       "\u001b[3m                                Training Status                                \u001b[0m\n",
       "+-----------------------------------------------------------------------------+\n",
       "|\u001b[1mEpoch\u001b[0m\u001b[1m \u001b[0m|\u001b[1m \u001b[0m\u001b[1m Steps \u001b[0m\u001b[1m \u001b[0m|\u001b[1m \u001b[0m\u001b[1m                           Loss                            \u001b[0m|\n",
       "|------+---------+------------------------------------------------------------|\n",
       "|  0   |  0/125  | tensor(6.2060, device='cuda:0', grad_fn=<NllLossBackward0>)|\n",
       "|  0   | 10/125  | tensor(6.0331, device='cuda:0', grad_fn=<NllLossBackward0>)|\n",
       "|  0   | 20/125  | tensor(6.0198, device='cuda:0', grad_fn=<NllLossBackward0>)|\n",
       "|  0   | 30/125  | tensor(6.3243, device='cuda:0', grad_fn=<NllLossBackward0>)|\n",
       "|  0   | 40/125  | tensor(6.0157, device='cuda:0', grad_fn=<NllLossBackward0>)|\n",
       "|  0   | 50/125  | tensor(5.3991, device='cuda:0', grad_fn=<NllLossBackward0>)|\n",
       "|  0   | 60/125  | tensor(5.8357, device='cuda:0', grad_fn=<NllLossBackward0>)|\n",
       "|  0   | 70/125  | tensor(6.0591, device='cuda:0', grad_fn=<NllLossBackward0>)|\n",
       "|  0   | 80/125  | tensor(5.6659, device='cuda:0', grad_fn=<NllLossBackward0>)|\n",
       "|  0   | 90/125  | tensor(5.6208, device='cuda:0', grad_fn=<NllLossBackward0>)|\n",
       "|  0   | 100/125 | tensor(5.3076, device='cuda:0', grad_fn=<NllLossBackward0>)|\n",
       "|  0   | 110/125 | tensor(5.4850, device='cuda:0', grad_fn=<NllLossBackward0>)|\n",
       "|  0   | 120/125 | tensor(5.3753, device='cuda:0', grad_fn=<NllLossBackward0>)|\n",
       "|  1   |  0/125  | tensor(5.7506, device='cuda:0', grad_fn=<NllLossBackward0>)|\n",
       "|  1   | 10/125  | tensor(5.7020, device='cuda:0', grad_fn=<NllLossBackward0>)|\n",
       "|  1   | 20/125  | tensor(5.6206, device='cuda:0', grad_fn=<NllLossBackward0>)|\n",
       "|  1   | 30/125  | tensor(5.5501, device='cuda:0', grad_fn=<NllLossBackward0>)|\n",
       "|  1   | 40/125  | tensor(5.6147, device='cuda:0', grad_fn=<NllLossBackward0>)|\n",
       "|  1   | 50/125  | tensor(5.4470, device='cuda:0', grad_fn=<NllLossBackward0>)|\n",
       "|  1   | 60/125  | tensor(5.4128, device='cuda:0', grad_fn=<NllLossBackward0>)|\n",
       "|  1   | 70/125  | tensor(5.5632, device='cuda:0', grad_fn=<NllLossBackward0>)|\n",
       "|  1   | 80/125  | tensor(5.7657, device='cuda:0', grad_fn=<NllLossBackward0>)|\n",
       "|  1   | 90/125  | tensor(5.4529, device='cuda:0', grad_fn=<NllLossBackward0>)|\n",
       "|  1   | 100/125 | tensor(4.9634, device='cuda:0', grad_fn=<NllLossBackward0>)|\n",
       "|  1   | 110/125 | tensor(5.6437, device='cuda:0', grad_fn=<NllLossBackward0>)|\n",
       "+-----------------------------------------------------------------------------+\n"
      ]
     },
     "metadata": {},
     "output_type": "display_data"
    },
    {
     "name": "stdout",
     "output_type": "stream",
     "text": [
      "STEP:  120 / 125\n"
     ]
    },
    {
     "data": {
      "text/html": [
       "<pre style=\"white-space:pre;overflow-x:auto;line-height:normal;font-family:Menlo,'DejaVu Sans Mono',consolas,'Courier New',monospace\"><span style=\"font-style: italic\">                                Training Status                                </span>\n",
       "+-----------------------------------------------------------------------------+\n",
       "|<span style=\"font-weight: bold\">Epoch </span>|<span style=\"font-weight: bold\">  Steps  </span>|<span style=\"font-weight: bold\">                            Loss                            </span>|\n",
       "|------+---------+------------------------------------------------------------|\n",
       "|  0   |  0/125  | tensor(6.2060, device='cuda:0', grad_fn=&lt;NllLossBackward0&gt;)|\n",
       "|  0   | 10/125  | tensor(6.0331, device='cuda:0', grad_fn=&lt;NllLossBackward0&gt;)|\n",
       "|  0   | 20/125  | tensor(6.0198, device='cuda:0', grad_fn=&lt;NllLossBackward0&gt;)|\n",
       "|  0   | 30/125  | tensor(6.3243, device='cuda:0', grad_fn=&lt;NllLossBackward0&gt;)|\n",
       "|  0   | 40/125  | tensor(6.0157, device='cuda:0', grad_fn=&lt;NllLossBackward0&gt;)|\n",
       "|  0   | 50/125  | tensor(5.3991, device='cuda:0', grad_fn=&lt;NllLossBackward0&gt;)|\n",
       "|  0   | 60/125  | tensor(5.8357, device='cuda:0', grad_fn=&lt;NllLossBackward0&gt;)|\n",
       "|  0   | 70/125  | tensor(6.0591, device='cuda:0', grad_fn=&lt;NllLossBackward0&gt;)|\n",
       "|  0   | 80/125  | tensor(5.6659, device='cuda:0', grad_fn=&lt;NllLossBackward0&gt;)|\n",
       "|  0   | 90/125  | tensor(5.6208, device='cuda:0', grad_fn=&lt;NllLossBackward0&gt;)|\n",
       "|  0   | 100/125 | tensor(5.3076, device='cuda:0', grad_fn=&lt;NllLossBackward0&gt;)|\n",
       "|  0   | 110/125 | tensor(5.4850, device='cuda:0', grad_fn=&lt;NllLossBackward0&gt;)|\n",
       "|  0   | 120/125 | tensor(5.3753, device='cuda:0', grad_fn=&lt;NllLossBackward0&gt;)|\n",
       "|  1   |  0/125  | tensor(5.7506, device='cuda:0', grad_fn=&lt;NllLossBackward0&gt;)|\n",
       "|  1   | 10/125  | tensor(5.7020, device='cuda:0', grad_fn=&lt;NllLossBackward0&gt;)|\n",
       "|  1   | 20/125  | tensor(5.6206, device='cuda:0', grad_fn=&lt;NllLossBackward0&gt;)|\n",
       "|  1   | 30/125  | tensor(5.5501, device='cuda:0', grad_fn=&lt;NllLossBackward0&gt;)|\n",
       "|  1   | 40/125  | tensor(5.6147, device='cuda:0', grad_fn=&lt;NllLossBackward0&gt;)|\n",
       "|  1   | 50/125  | tensor(5.4470, device='cuda:0', grad_fn=&lt;NllLossBackward0&gt;)|\n",
       "|  1   | 60/125  | tensor(5.4128, device='cuda:0', grad_fn=&lt;NllLossBackward0&gt;)|\n",
       "|  1   | 70/125  | tensor(5.5632, device='cuda:0', grad_fn=&lt;NllLossBackward0&gt;)|\n",
       "|  1   | 80/125  | tensor(5.7657, device='cuda:0', grad_fn=&lt;NllLossBackward0&gt;)|\n",
       "|  1   | 90/125  | tensor(5.4529, device='cuda:0', grad_fn=&lt;NllLossBackward0&gt;)|\n",
       "|  1   | 100/125 | tensor(4.9634, device='cuda:0', grad_fn=&lt;NllLossBackward0&gt;)|\n",
       "|  1   | 110/125 | tensor(5.6437, device='cuda:0', grad_fn=&lt;NllLossBackward0&gt;)|\n",
       "|  1   | 120/125 | tensor(4.9752, device='cuda:0', grad_fn=&lt;NllLossBackward0&gt;)|\n",
       "+-----------------------------------------------------------------------------+\n",
       "</pre>\n"
      ],
      "text/plain": [
       "\u001b[3m                                Training Status                                \u001b[0m\n",
       "+-----------------------------------------------------------------------------+\n",
       "|\u001b[1mEpoch\u001b[0m\u001b[1m \u001b[0m|\u001b[1m \u001b[0m\u001b[1m Steps \u001b[0m\u001b[1m \u001b[0m|\u001b[1m \u001b[0m\u001b[1m                           Loss                            \u001b[0m|\n",
       "|------+---------+------------------------------------------------------------|\n",
       "|  0   |  0/125  | tensor(6.2060, device='cuda:0', grad_fn=<NllLossBackward0>)|\n",
       "|  0   | 10/125  | tensor(6.0331, device='cuda:0', grad_fn=<NllLossBackward0>)|\n",
       "|  0   | 20/125  | tensor(6.0198, device='cuda:0', grad_fn=<NllLossBackward0>)|\n",
       "|  0   | 30/125  | tensor(6.3243, device='cuda:0', grad_fn=<NllLossBackward0>)|\n",
       "|  0   | 40/125  | tensor(6.0157, device='cuda:0', grad_fn=<NllLossBackward0>)|\n",
       "|  0   | 50/125  | tensor(5.3991, device='cuda:0', grad_fn=<NllLossBackward0>)|\n",
       "|  0   | 60/125  | tensor(5.8357, device='cuda:0', grad_fn=<NllLossBackward0>)|\n",
       "|  0   | 70/125  | tensor(6.0591, device='cuda:0', grad_fn=<NllLossBackward0>)|\n",
       "|  0   | 80/125  | tensor(5.6659, device='cuda:0', grad_fn=<NllLossBackward0>)|\n",
       "|  0   | 90/125  | tensor(5.6208, device='cuda:0', grad_fn=<NllLossBackward0>)|\n",
       "|  0   | 100/125 | tensor(5.3076, device='cuda:0', grad_fn=<NllLossBackward0>)|\n",
       "|  0   | 110/125 | tensor(5.4850, device='cuda:0', grad_fn=<NllLossBackward0>)|\n",
       "|  0   | 120/125 | tensor(5.3753, device='cuda:0', grad_fn=<NllLossBackward0>)|\n",
       "|  1   |  0/125  | tensor(5.7506, device='cuda:0', grad_fn=<NllLossBackward0>)|\n",
       "|  1   | 10/125  | tensor(5.7020, device='cuda:0', grad_fn=<NllLossBackward0>)|\n",
       "|  1   | 20/125  | tensor(5.6206, device='cuda:0', grad_fn=<NllLossBackward0>)|\n",
       "|  1   | 30/125  | tensor(5.5501, device='cuda:0', grad_fn=<NllLossBackward0>)|\n",
       "|  1   | 40/125  | tensor(5.6147, device='cuda:0', grad_fn=<NllLossBackward0>)|\n",
       "|  1   | 50/125  | tensor(5.4470, device='cuda:0', grad_fn=<NllLossBackward0>)|\n",
       "|  1   | 60/125  | tensor(5.4128, device='cuda:0', grad_fn=<NllLossBackward0>)|\n",
       "|  1   | 70/125  | tensor(5.5632, device='cuda:0', grad_fn=<NllLossBackward0>)|\n",
       "|  1   | 80/125  | tensor(5.7657, device='cuda:0', grad_fn=<NllLossBackward0>)|\n",
       "|  1   | 90/125  | tensor(5.4529, device='cuda:0', grad_fn=<NllLossBackward0>)|\n",
       "|  1   | 100/125 | tensor(4.9634, device='cuda:0', grad_fn=<NllLossBackward0>)|\n",
       "|  1   | 110/125 | tensor(5.6437, device='cuda:0', grad_fn=<NllLossBackward0>)|\n",
       "|  1   | 120/125 | tensor(4.9752, device='cuda:0', grad_fn=<NllLossBackward0>)|\n",
       "+-----------------------------------------------------------------------------+\n"
      ]
     },
     "metadata": {},
     "output_type": "display_data"
    },
    {
     "data": {
      "text/html": [
       "<pre style=\"white-space:pre;overflow-x:auto;line-height:normal;font-family:Menlo,'DejaVu Sans Mono',consolas,'Courier New',monospace\">Completed <span style=\"color: #008080; text-decoration-color: #008080; font-weight: bold\">0</span>\n",
       "</pre>\n"
      ],
      "text/plain": [
       "Completed \u001b[1;36m0\u001b[0m\n"
      ]
     },
     "metadata": {},
     "output_type": "display_data"
    },
    {
     "data": {
      "text/html": [
       "<pre style=\"white-space:pre;overflow-x:auto;line-height:normal;font-family:Menlo,'DejaVu Sans Mono',consolas,'Courier New',monospace\">Completed <span style=\"color: #008080; text-decoration-color: #008080; font-weight: bold\">10</span>\n",
       "</pre>\n"
      ],
      "text/plain": [
       "Completed \u001b[1;36m10\u001b[0m\n"
      ]
     },
     "metadata": {},
     "output_type": "display_data"
    },
    {
     "data": {
      "text/html": [
       "<pre style=\"white-space:pre;overflow-x:auto;line-height:normal;font-family:Menlo,'DejaVu Sans Mono',consolas,'Courier New',monospace\">Completed <span style=\"color: #008080; text-decoration-color: #008080; font-weight: bold\">20</span>\n",
       "</pre>\n"
      ],
      "text/plain": [
       "Completed \u001b[1;36m20\u001b[0m\n"
      ]
     },
     "metadata": {},
     "output_type": "display_data"
    },
    {
     "data": {
      "text/html": [
       "<pre style=\"white-space:pre;overflow-x:auto;line-height:normal;font-family:Menlo,'DejaVu Sans Mono',consolas,'Courier New',monospace\">Completed <span style=\"color: #008080; text-decoration-color: #008080; font-weight: bold\">30</span>\n",
       "</pre>\n"
      ],
      "text/plain": [
       "Completed \u001b[1;36m30\u001b[0m\n"
      ]
     },
     "metadata": {},
     "output_type": "display_data"
    },
    {
     "data": {
      "text/html": [
       "<pre style=\"white-space:pre;overflow-x:auto;line-height:normal;font-family:Menlo,'DejaVu Sans Mono',consolas,'Courier New',monospace\">Completed <span style=\"color: #008080; text-decoration-color: #008080; font-weight: bold\">40</span>\n",
       "</pre>\n"
      ],
      "text/plain": [
       "Completed \u001b[1;36m40\u001b[0m\n"
      ]
     },
     "metadata": {},
     "output_type": "display_data"
    },
    {
     "data": {
      "text/html": [
       "<pre style=\"white-space:pre;overflow-x:auto;line-height:normal;font-family:Menlo,'DejaVu Sans Mono',consolas,'Courier New',monospace\">Completed <span style=\"color: #008080; text-decoration-color: #008080; font-weight: bold\">50</span>\n",
       "</pre>\n"
      ],
      "text/plain": [
       "Completed \u001b[1;36m50\u001b[0m\n"
      ]
     },
     "metadata": {},
     "output_type": "display_data"
    },
    {
     "data": {
      "text/html": [
       "<pre style=\"white-space:pre;overflow-x:auto;line-height:normal;font-family:Menlo,'DejaVu Sans Mono',consolas,'Courier New',monospace\">Completed <span style=\"color: #008080; text-decoration-color: #008080; font-weight: bold\">60</span>\n",
       "</pre>\n"
      ],
      "text/plain": [
       "Completed \u001b[1;36m60\u001b[0m\n"
      ]
     },
     "metadata": {},
     "output_type": "display_data"
    },
    {
     "data": {
      "text/html": [
       "<pre style=\"white-space:pre;overflow-x:auto;line-height:normal;font-family:Menlo,'DejaVu Sans Mono',consolas,'Courier New',monospace\">Completed <span style=\"color: #008080; text-decoration-color: #008080; font-weight: bold\">70</span>\n",
       "</pre>\n"
      ],
      "text/plain": [
       "Completed \u001b[1;36m70\u001b[0m\n"
      ]
     },
     "metadata": {},
     "output_type": "display_data"
    },
    {
     "data": {
      "text/html": [
       "<pre style=\"white-space:pre;overflow-x:auto;line-height:normal;font-family:Menlo,'DejaVu Sans Mono',consolas,'Courier New',monospace\">Completed <span style=\"color: #008080; text-decoration-color: #008080; font-weight: bold\">80</span>\n",
       "</pre>\n"
      ],
      "text/plain": [
       "Completed \u001b[1;36m80\u001b[0m\n"
      ]
     },
     "metadata": {},
     "output_type": "display_data"
    },
    {
     "data": {
      "text/html": [
       "<pre style=\"white-space:pre;overflow-x:auto;line-height:normal;font-family:Menlo,'DejaVu Sans Mono',consolas,'Courier New',monospace\">Completed <span style=\"color: #008080; text-decoration-color: #008080; font-weight: bold\">90</span>\n",
       "</pre>\n"
      ],
      "text/plain": [
       "Completed \u001b[1;36m90\u001b[0m\n"
      ]
     },
     "metadata": {},
     "output_type": "display_data"
    },
    {
     "data": {
      "text/html": [
       "<pre style=\"white-space:pre;overflow-x:auto;line-height:normal;font-family:Menlo,'DejaVu Sans Mono',consolas,'Courier New',monospace\">Completed <span style=\"color: #008080; text-decoration-color: #008080; font-weight: bold\">100</span>\n",
       "</pre>\n"
      ],
      "text/plain": [
       "Completed \u001b[1;36m100\u001b[0m\n"
      ]
     },
     "metadata": {},
     "output_type": "display_data"
    },
    {
     "data": {
      "text/html": [
       "<pre style=\"white-space:pre;overflow-x:auto;line-height:normal;font-family:Menlo,'DejaVu Sans Mono',consolas,'Courier New',monospace\">Completed <span style=\"color: #008080; text-decoration-color: #008080; font-weight: bold\">110</span>\n",
       "</pre>\n"
      ],
      "text/plain": [
       "Completed \u001b[1;36m110\u001b[0m\n"
      ]
     },
     "metadata": {},
     "output_type": "display_data"
    },
    {
     "data": {
      "text/html": [
       "<pre style=\"white-space:pre;overflow-x:auto;line-height:normal;font-family:Menlo,'DejaVu Sans Mono',consolas,'Courier New',monospace\">Completed <span style=\"color: #008080; text-decoration-color: #008080; font-weight: bold\">120</span>\n",
       "</pre>\n"
      ],
      "text/plain": [
       "Completed \u001b[1;36m120\u001b[0m\n"
      ]
     },
     "metadata": {},
     "output_type": "display_data"
    },
    {
     "name": "stdout",
     "output_type": "stream",
     "text": [
      "SAVE TO CSV FINISHED\n",
      "SAVE ROUGE TO CSV FINISHED\n",
      "STEP:  0 / 125\n"
     ]
    },
    {
     "data": {
      "text/html": [
       "<pre style=\"white-space:pre;overflow-x:auto;line-height:normal;font-family:Menlo,'DejaVu Sans Mono',consolas,'Courier New',monospace\"><span style=\"font-style: italic\">                                Training Status                                </span>\n",
       "+-----------------------------------------------------------------------------+\n",
       "|<span style=\"font-weight: bold\">Epoch </span>|<span style=\"font-weight: bold\">  Steps  </span>|<span style=\"font-weight: bold\">                            Loss                            </span>|\n",
       "|------+---------+------------------------------------------------------------|\n",
       "|  0   |  0/125  | tensor(6.2060, device='cuda:0', grad_fn=&lt;NllLossBackward0&gt;)|\n",
       "|  0   | 10/125  | tensor(6.0331, device='cuda:0', grad_fn=&lt;NllLossBackward0&gt;)|\n",
       "|  0   | 20/125  | tensor(6.0198, device='cuda:0', grad_fn=&lt;NllLossBackward0&gt;)|\n",
       "|  0   | 30/125  | tensor(6.3243, device='cuda:0', grad_fn=&lt;NllLossBackward0&gt;)|\n",
       "|  0   | 40/125  | tensor(6.0157, device='cuda:0', grad_fn=&lt;NllLossBackward0&gt;)|\n",
       "|  0   | 50/125  | tensor(5.3991, device='cuda:0', grad_fn=&lt;NllLossBackward0&gt;)|\n",
       "|  0   | 60/125  | tensor(5.8357, device='cuda:0', grad_fn=&lt;NllLossBackward0&gt;)|\n",
       "|  0   | 70/125  | tensor(6.0591, device='cuda:0', grad_fn=&lt;NllLossBackward0&gt;)|\n",
       "|  0   | 80/125  | tensor(5.6659, device='cuda:0', grad_fn=&lt;NllLossBackward0&gt;)|\n",
       "|  0   | 90/125  | tensor(5.6208, device='cuda:0', grad_fn=&lt;NllLossBackward0&gt;)|\n",
       "|  0   | 100/125 | tensor(5.3076, device='cuda:0', grad_fn=&lt;NllLossBackward0&gt;)|\n",
       "|  0   | 110/125 | tensor(5.4850, device='cuda:0', grad_fn=&lt;NllLossBackward0&gt;)|\n",
       "|  0   | 120/125 | tensor(5.3753, device='cuda:0', grad_fn=&lt;NllLossBackward0&gt;)|\n",
       "|  1   |  0/125  | tensor(5.7506, device='cuda:0', grad_fn=&lt;NllLossBackward0&gt;)|\n",
       "|  1   | 10/125  | tensor(5.7020, device='cuda:0', grad_fn=&lt;NllLossBackward0&gt;)|\n",
       "|  1   | 20/125  | tensor(5.6206, device='cuda:0', grad_fn=&lt;NllLossBackward0&gt;)|\n",
       "|  1   | 30/125  | tensor(5.5501, device='cuda:0', grad_fn=&lt;NllLossBackward0&gt;)|\n",
       "|  1   | 40/125  | tensor(5.6147, device='cuda:0', grad_fn=&lt;NllLossBackward0&gt;)|\n",
       "|  1   | 50/125  | tensor(5.4470, device='cuda:0', grad_fn=&lt;NllLossBackward0&gt;)|\n",
       "|  1   | 60/125  | tensor(5.4128, device='cuda:0', grad_fn=&lt;NllLossBackward0&gt;)|\n",
       "|  1   | 70/125  | tensor(5.5632, device='cuda:0', grad_fn=&lt;NllLossBackward0&gt;)|\n",
       "|  1   | 80/125  | tensor(5.7657, device='cuda:0', grad_fn=&lt;NllLossBackward0&gt;)|\n",
       "|  1   | 90/125  | tensor(5.4529, device='cuda:0', grad_fn=&lt;NllLossBackward0&gt;)|\n",
       "|  1   | 100/125 | tensor(4.9634, device='cuda:0', grad_fn=&lt;NllLossBackward0&gt;)|\n",
       "|  1   | 110/125 | tensor(5.6437, device='cuda:0', grad_fn=&lt;NllLossBackward0&gt;)|\n",
       "|  1   | 120/125 | tensor(4.9752, device='cuda:0', grad_fn=&lt;NllLossBackward0&gt;)|\n",
       "|  2   |  0/125  | tensor(5.0796, device='cuda:0', grad_fn=&lt;NllLossBackward0&gt;)|\n",
       "+-----------------------------------------------------------------------------+\n",
       "</pre>\n"
      ],
      "text/plain": [
       "\u001b[3m                                Training Status                                \u001b[0m\n",
       "+-----------------------------------------------------------------------------+\n",
       "|\u001b[1mEpoch\u001b[0m\u001b[1m \u001b[0m|\u001b[1m \u001b[0m\u001b[1m Steps \u001b[0m\u001b[1m \u001b[0m|\u001b[1m \u001b[0m\u001b[1m                           Loss                            \u001b[0m|\n",
       "|------+---------+------------------------------------------------------------|\n",
       "|  0   |  0/125  | tensor(6.2060, device='cuda:0', grad_fn=<NllLossBackward0>)|\n",
       "|  0   | 10/125  | tensor(6.0331, device='cuda:0', grad_fn=<NllLossBackward0>)|\n",
       "|  0   | 20/125  | tensor(6.0198, device='cuda:0', grad_fn=<NllLossBackward0>)|\n",
       "|  0   | 30/125  | tensor(6.3243, device='cuda:0', grad_fn=<NllLossBackward0>)|\n",
       "|  0   | 40/125  | tensor(6.0157, device='cuda:0', grad_fn=<NllLossBackward0>)|\n",
       "|  0   | 50/125  | tensor(5.3991, device='cuda:0', grad_fn=<NllLossBackward0>)|\n",
       "|  0   | 60/125  | tensor(5.8357, device='cuda:0', grad_fn=<NllLossBackward0>)|\n",
       "|  0   | 70/125  | tensor(6.0591, device='cuda:0', grad_fn=<NllLossBackward0>)|\n",
       "|  0   | 80/125  | tensor(5.6659, device='cuda:0', grad_fn=<NllLossBackward0>)|\n",
       "|  0   | 90/125  | tensor(5.6208, device='cuda:0', grad_fn=<NllLossBackward0>)|\n",
       "|  0   | 100/125 | tensor(5.3076, device='cuda:0', grad_fn=<NllLossBackward0>)|\n",
       "|  0   | 110/125 | tensor(5.4850, device='cuda:0', grad_fn=<NllLossBackward0>)|\n",
       "|  0   | 120/125 | tensor(5.3753, device='cuda:0', grad_fn=<NllLossBackward0>)|\n",
       "|  1   |  0/125  | tensor(5.7506, device='cuda:0', grad_fn=<NllLossBackward0>)|\n",
       "|  1   | 10/125  | tensor(5.7020, device='cuda:0', grad_fn=<NllLossBackward0>)|\n",
       "|  1   | 20/125  | tensor(5.6206, device='cuda:0', grad_fn=<NllLossBackward0>)|\n",
       "|  1   | 30/125  | tensor(5.5501, device='cuda:0', grad_fn=<NllLossBackward0>)|\n",
       "|  1   | 40/125  | tensor(5.6147, device='cuda:0', grad_fn=<NllLossBackward0>)|\n",
       "|  1   | 50/125  | tensor(5.4470, device='cuda:0', grad_fn=<NllLossBackward0>)|\n",
       "|  1   | 60/125  | tensor(5.4128, device='cuda:0', grad_fn=<NllLossBackward0>)|\n",
       "|  1   | 70/125  | tensor(5.5632, device='cuda:0', grad_fn=<NllLossBackward0>)|\n",
       "|  1   | 80/125  | tensor(5.7657, device='cuda:0', grad_fn=<NllLossBackward0>)|\n",
       "|  1   | 90/125  | tensor(5.4529, device='cuda:0', grad_fn=<NllLossBackward0>)|\n",
       "|  1   | 100/125 | tensor(4.9634, device='cuda:0', grad_fn=<NllLossBackward0>)|\n",
       "|  1   | 110/125 | tensor(5.6437, device='cuda:0', grad_fn=<NllLossBackward0>)|\n",
       "|  1   | 120/125 | tensor(4.9752, device='cuda:0', grad_fn=<NllLossBackward0>)|\n",
       "|  2   |  0/125  | tensor(5.0796, device='cuda:0', grad_fn=<NllLossBackward0>)|\n",
       "+-----------------------------------------------------------------------------+\n"
      ]
     },
     "metadata": {},
     "output_type": "display_data"
    },
    {
     "name": "stdout",
     "output_type": "stream",
     "text": [
      "STEP:  10 / 125\n"
     ]
    },
    {
     "data": {
      "text/html": [
       "<pre style=\"white-space:pre;overflow-x:auto;line-height:normal;font-family:Menlo,'DejaVu Sans Mono',consolas,'Courier New',monospace\"><span style=\"font-style: italic\">                                Training Status                                </span>\n",
       "+-----------------------------------------------------------------------------+\n",
       "|<span style=\"font-weight: bold\">Epoch </span>|<span style=\"font-weight: bold\">  Steps  </span>|<span style=\"font-weight: bold\">                            Loss                            </span>|\n",
       "|------+---------+------------------------------------------------------------|\n",
       "|  0   |  0/125  | tensor(6.2060, device='cuda:0', grad_fn=&lt;NllLossBackward0&gt;)|\n",
       "|  0   | 10/125  | tensor(6.0331, device='cuda:0', grad_fn=&lt;NllLossBackward0&gt;)|\n",
       "|  0   | 20/125  | tensor(6.0198, device='cuda:0', grad_fn=&lt;NllLossBackward0&gt;)|\n",
       "|  0   | 30/125  | tensor(6.3243, device='cuda:0', grad_fn=&lt;NllLossBackward0&gt;)|\n",
       "|  0   | 40/125  | tensor(6.0157, device='cuda:0', grad_fn=&lt;NllLossBackward0&gt;)|\n",
       "|  0   | 50/125  | tensor(5.3991, device='cuda:0', grad_fn=&lt;NllLossBackward0&gt;)|\n",
       "|  0   | 60/125  | tensor(5.8357, device='cuda:0', grad_fn=&lt;NllLossBackward0&gt;)|\n",
       "|  0   | 70/125  | tensor(6.0591, device='cuda:0', grad_fn=&lt;NllLossBackward0&gt;)|\n",
       "|  0   | 80/125  | tensor(5.6659, device='cuda:0', grad_fn=&lt;NllLossBackward0&gt;)|\n",
       "|  0   | 90/125  | tensor(5.6208, device='cuda:0', grad_fn=&lt;NllLossBackward0&gt;)|\n",
       "|  0   | 100/125 | tensor(5.3076, device='cuda:0', grad_fn=&lt;NllLossBackward0&gt;)|\n",
       "|  0   | 110/125 | tensor(5.4850, device='cuda:0', grad_fn=&lt;NllLossBackward0&gt;)|\n",
       "|  0   | 120/125 | tensor(5.3753, device='cuda:0', grad_fn=&lt;NllLossBackward0&gt;)|\n",
       "|  1   |  0/125  | tensor(5.7506, device='cuda:0', grad_fn=&lt;NllLossBackward0&gt;)|\n",
       "|  1   | 10/125  | tensor(5.7020, device='cuda:0', grad_fn=&lt;NllLossBackward0&gt;)|\n",
       "|  1   | 20/125  | tensor(5.6206, device='cuda:0', grad_fn=&lt;NllLossBackward0&gt;)|\n",
       "|  1   | 30/125  | tensor(5.5501, device='cuda:0', grad_fn=&lt;NllLossBackward0&gt;)|\n",
       "|  1   | 40/125  | tensor(5.6147, device='cuda:0', grad_fn=&lt;NllLossBackward0&gt;)|\n",
       "|  1   | 50/125  | tensor(5.4470, device='cuda:0', grad_fn=&lt;NllLossBackward0&gt;)|\n",
       "|  1   | 60/125  | tensor(5.4128, device='cuda:0', grad_fn=&lt;NllLossBackward0&gt;)|\n",
       "|  1   | 70/125  | tensor(5.5632, device='cuda:0', grad_fn=&lt;NllLossBackward0&gt;)|\n",
       "|  1   | 80/125  | tensor(5.7657, device='cuda:0', grad_fn=&lt;NllLossBackward0&gt;)|\n",
       "|  1   | 90/125  | tensor(5.4529, device='cuda:0', grad_fn=&lt;NllLossBackward0&gt;)|\n",
       "|  1   | 100/125 | tensor(4.9634, device='cuda:0', grad_fn=&lt;NllLossBackward0&gt;)|\n",
       "|  1   | 110/125 | tensor(5.6437, device='cuda:0', grad_fn=&lt;NllLossBackward0&gt;)|\n",
       "|  1   | 120/125 | tensor(4.9752, device='cuda:0', grad_fn=&lt;NllLossBackward0&gt;)|\n",
       "|  2   |  0/125  | tensor(5.0796, device='cuda:0', grad_fn=&lt;NllLossBackward0&gt;)|\n",
       "|  2   | 10/125  | tensor(5.1159, device='cuda:0', grad_fn=&lt;NllLossBackward0&gt;)|\n",
       "+-----------------------------------------------------------------------------+\n",
       "</pre>\n"
      ],
      "text/plain": [
       "\u001b[3m                                Training Status                                \u001b[0m\n",
       "+-----------------------------------------------------------------------------+\n",
       "|\u001b[1mEpoch\u001b[0m\u001b[1m \u001b[0m|\u001b[1m \u001b[0m\u001b[1m Steps \u001b[0m\u001b[1m \u001b[0m|\u001b[1m \u001b[0m\u001b[1m                           Loss                            \u001b[0m|\n",
       "|------+---------+------------------------------------------------------------|\n",
       "|  0   |  0/125  | tensor(6.2060, device='cuda:0', grad_fn=<NllLossBackward0>)|\n",
       "|  0   | 10/125  | tensor(6.0331, device='cuda:0', grad_fn=<NllLossBackward0>)|\n",
       "|  0   | 20/125  | tensor(6.0198, device='cuda:0', grad_fn=<NllLossBackward0>)|\n",
       "|  0   | 30/125  | tensor(6.3243, device='cuda:0', grad_fn=<NllLossBackward0>)|\n",
       "|  0   | 40/125  | tensor(6.0157, device='cuda:0', grad_fn=<NllLossBackward0>)|\n",
       "|  0   | 50/125  | tensor(5.3991, device='cuda:0', grad_fn=<NllLossBackward0>)|\n",
       "|  0   | 60/125  | tensor(5.8357, device='cuda:0', grad_fn=<NllLossBackward0>)|\n",
       "|  0   | 70/125  | tensor(6.0591, device='cuda:0', grad_fn=<NllLossBackward0>)|\n",
       "|  0   | 80/125  | tensor(5.6659, device='cuda:0', grad_fn=<NllLossBackward0>)|\n",
       "|  0   | 90/125  | tensor(5.6208, device='cuda:0', grad_fn=<NllLossBackward0>)|\n",
       "|  0   | 100/125 | tensor(5.3076, device='cuda:0', grad_fn=<NllLossBackward0>)|\n",
       "|  0   | 110/125 | tensor(5.4850, device='cuda:0', grad_fn=<NllLossBackward0>)|\n",
       "|  0   | 120/125 | tensor(5.3753, device='cuda:0', grad_fn=<NllLossBackward0>)|\n",
       "|  1   |  0/125  | tensor(5.7506, device='cuda:0', grad_fn=<NllLossBackward0>)|\n",
       "|  1   | 10/125  | tensor(5.7020, device='cuda:0', grad_fn=<NllLossBackward0>)|\n",
       "|  1   | 20/125  | tensor(5.6206, device='cuda:0', grad_fn=<NllLossBackward0>)|\n",
       "|  1   | 30/125  | tensor(5.5501, device='cuda:0', grad_fn=<NllLossBackward0>)|\n",
       "|  1   | 40/125  | tensor(5.6147, device='cuda:0', grad_fn=<NllLossBackward0>)|\n",
       "|  1   | 50/125  | tensor(5.4470, device='cuda:0', grad_fn=<NllLossBackward0>)|\n",
       "|  1   | 60/125  | tensor(5.4128, device='cuda:0', grad_fn=<NllLossBackward0>)|\n",
       "|  1   | 70/125  | tensor(5.5632, device='cuda:0', grad_fn=<NllLossBackward0>)|\n",
       "|  1   | 80/125  | tensor(5.7657, device='cuda:0', grad_fn=<NllLossBackward0>)|\n",
       "|  1   | 90/125  | tensor(5.4529, device='cuda:0', grad_fn=<NllLossBackward0>)|\n",
       "|  1   | 100/125 | tensor(4.9634, device='cuda:0', grad_fn=<NllLossBackward0>)|\n",
       "|  1   | 110/125 | tensor(5.6437, device='cuda:0', grad_fn=<NllLossBackward0>)|\n",
       "|  1   | 120/125 | tensor(4.9752, device='cuda:0', grad_fn=<NllLossBackward0>)|\n",
       "|  2   |  0/125  | tensor(5.0796, device='cuda:0', grad_fn=<NllLossBackward0>)|\n",
       "|  2   | 10/125  | tensor(5.1159, device='cuda:0', grad_fn=<NllLossBackward0>)|\n",
       "+-----------------------------------------------------------------------------+\n"
      ]
     },
     "metadata": {},
     "output_type": "display_data"
    },
    {
     "name": "stdout",
     "output_type": "stream",
     "text": [
      "STEP:  20 / 125\n"
     ]
    },
    {
     "data": {
      "text/html": [
       "<pre style=\"white-space:pre;overflow-x:auto;line-height:normal;font-family:Menlo,'DejaVu Sans Mono',consolas,'Courier New',monospace\"><span style=\"font-style: italic\">                                Training Status                                </span>\n",
       "+-----------------------------------------------------------------------------+\n",
       "|<span style=\"font-weight: bold\">Epoch </span>|<span style=\"font-weight: bold\">  Steps  </span>|<span style=\"font-weight: bold\">                            Loss                            </span>|\n",
       "|------+---------+------------------------------------------------------------|\n",
       "|  0   |  0/125  | tensor(6.2060, device='cuda:0', grad_fn=&lt;NllLossBackward0&gt;)|\n",
       "|  0   | 10/125  | tensor(6.0331, device='cuda:0', grad_fn=&lt;NllLossBackward0&gt;)|\n",
       "|  0   | 20/125  | tensor(6.0198, device='cuda:0', grad_fn=&lt;NllLossBackward0&gt;)|\n",
       "|  0   | 30/125  | tensor(6.3243, device='cuda:0', grad_fn=&lt;NllLossBackward0&gt;)|\n",
       "|  0   | 40/125  | tensor(6.0157, device='cuda:0', grad_fn=&lt;NllLossBackward0&gt;)|\n",
       "|  0   | 50/125  | tensor(5.3991, device='cuda:0', grad_fn=&lt;NllLossBackward0&gt;)|\n",
       "|  0   | 60/125  | tensor(5.8357, device='cuda:0', grad_fn=&lt;NllLossBackward0&gt;)|\n",
       "|  0   | 70/125  | tensor(6.0591, device='cuda:0', grad_fn=&lt;NllLossBackward0&gt;)|\n",
       "|  0   | 80/125  | tensor(5.6659, device='cuda:0', grad_fn=&lt;NllLossBackward0&gt;)|\n",
       "|  0   | 90/125  | tensor(5.6208, device='cuda:0', grad_fn=&lt;NllLossBackward0&gt;)|\n",
       "|  0   | 100/125 | tensor(5.3076, device='cuda:0', grad_fn=&lt;NllLossBackward0&gt;)|\n",
       "|  0   | 110/125 | tensor(5.4850, device='cuda:0', grad_fn=&lt;NllLossBackward0&gt;)|\n",
       "|  0   | 120/125 | tensor(5.3753, device='cuda:0', grad_fn=&lt;NllLossBackward0&gt;)|\n",
       "|  1   |  0/125  | tensor(5.7506, device='cuda:0', grad_fn=&lt;NllLossBackward0&gt;)|\n",
       "|  1   | 10/125  | tensor(5.7020, device='cuda:0', grad_fn=&lt;NllLossBackward0&gt;)|\n",
       "|  1   | 20/125  | tensor(5.6206, device='cuda:0', grad_fn=&lt;NllLossBackward0&gt;)|\n",
       "|  1   | 30/125  | tensor(5.5501, device='cuda:0', grad_fn=&lt;NllLossBackward0&gt;)|\n",
       "|  1   | 40/125  | tensor(5.6147, device='cuda:0', grad_fn=&lt;NllLossBackward0&gt;)|\n",
       "|  1   | 50/125  | tensor(5.4470, device='cuda:0', grad_fn=&lt;NllLossBackward0&gt;)|\n",
       "|  1   | 60/125  | tensor(5.4128, device='cuda:0', grad_fn=&lt;NllLossBackward0&gt;)|\n",
       "|  1   | 70/125  | tensor(5.5632, device='cuda:0', grad_fn=&lt;NllLossBackward0&gt;)|\n",
       "|  1   | 80/125  | tensor(5.7657, device='cuda:0', grad_fn=&lt;NllLossBackward0&gt;)|\n",
       "|  1   | 90/125  | tensor(5.4529, device='cuda:0', grad_fn=&lt;NllLossBackward0&gt;)|\n",
       "|  1   | 100/125 | tensor(4.9634, device='cuda:0', grad_fn=&lt;NllLossBackward0&gt;)|\n",
       "|  1   | 110/125 | tensor(5.6437, device='cuda:0', grad_fn=&lt;NllLossBackward0&gt;)|\n",
       "|  1   | 120/125 | tensor(4.9752, device='cuda:0', grad_fn=&lt;NllLossBackward0&gt;)|\n",
       "|  2   |  0/125  | tensor(5.0796, device='cuda:0', grad_fn=&lt;NllLossBackward0&gt;)|\n",
       "|  2   | 10/125  | tensor(5.1159, device='cuda:0', grad_fn=&lt;NllLossBackward0&gt;)|\n",
       "|  2   | 20/125  | tensor(4.9573, device='cuda:0', grad_fn=&lt;NllLossBackward0&gt;)|\n",
       "+-----------------------------------------------------------------------------+\n",
       "</pre>\n"
      ],
      "text/plain": [
       "\u001b[3m                                Training Status                                \u001b[0m\n",
       "+-----------------------------------------------------------------------------+\n",
       "|\u001b[1mEpoch\u001b[0m\u001b[1m \u001b[0m|\u001b[1m \u001b[0m\u001b[1m Steps \u001b[0m\u001b[1m \u001b[0m|\u001b[1m \u001b[0m\u001b[1m                           Loss                            \u001b[0m|\n",
       "|------+---------+------------------------------------------------------------|\n",
       "|  0   |  0/125  | tensor(6.2060, device='cuda:0', grad_fn=<NllLossBackward0>)|\n",
       "|  0   | 10/125  | tensor(6.0331, device='cuda:0', grad_fn=<NllLossBackward0>)|\n",
       "|  0   | 20/125  | tensor(6.0198, device='cuda:0', grad_fn=<NllLossBackward0>)|\n",
       "|  0   | 30/125  | tensor(6.3243, device='cuda:0', grad_fn=<NllLossBackward0>)|\n",
       "|  0   | 40/125  | tensor(6.0157, device='cuda:0', grad_fn=<NllLossBackward0>)|\n",
       "|  0   | 50/125  | tensor(5.3991, device='cuda:0', grad_fn=<NllLossBackward0>)|\n",
       "|  0   | 60/125  | tensor(5.8357, device='cuda:0', grad_fn=<NllLossBackward0>)|\n",
       "|  0   | 70/125  | tensor(6.0591, device='cuda:0', grad_fn=<NllLossBackward0>)|\n",
       "|  0   | 80/125  | tensor(5.6659, device='cuda:0', grad_fn=<NllLossBackward0>)|\n",
       "|  0   | 90/125  | tensor(5.6208, device='cuda:0', grad_fn=<NllLossBackward0>)|\n",
       "|  0   | 100/125 | tensor(5.3076, device='cuda:0', grad_fn=<NllLossBackward0>)|\n",
       "|  0   | 110/125 | tensor(5.4850, device='cuda:0', grad_fn=<NllLossBackward0>)|\n",
       "|  0   | 120/125 | tensor(5.3753, device='cuda:0', grad_fn=<NllLossBackward0>)|\n",
       "|  1   |  0/125  | tensor(5.7506, device='cuda:0', grad_fn=<NllLossBackward0>)|\n",
       "|  1   | 10/125  | tensor(5.7020, device='cuda:0', grad_fn=<NllLossBackward0>)|\n",
       "|  1   | 20/125  | tensor(5.6206, device='cuda:0', grad_fn=<NllLossBackward0>)|\n",
       "|  1   | 30/125  | tensor(5.5501, device='cuda:0', grad_fn=<NllLossBackward0>)|\n",
       "|  1   | 40/125  | tensor(5.6147, device='cuda:0', grad_fn=<NllLossBackward0>)|\n",
       "|  1   | 50/125  | tensor(5.4470, device='cuda:0', grad_fn=<NllLossBackward0>)|\n",
       "|  1   | 60/125  | tensor(5.4128, device='cuda:0', grad_fn=<NllLossBackward0>)|\n",
       "|  1   | 70/125  | tensor(5.5632, device='cuda:0', grad_fn=<NllLossBackward0>)|\n",
       "|  1   | 80/125  | tensor(5.7657, device='cuda:0', grad_fn=<NllLossBackward0>)|\n",
       "|  1   | 90/125  | tensor(5.4529, device='cuda:0', grad_fn=<NllLossBackward0>)|\n",
       "|  1   | 100/125 | tensor(4.9634, device='cuda:0', grad_fn=<NllLossBackward0>)|\n",
       "|  1   | 110/125 | tensor(5.6437, device='cuda:0', grad_fn=<NllLossBackward0>)|\n",
       "|  1   | 120/125 | tensor(4.9752, device='cuda:0', grad_fn=<NllLossBackward0>)|\n",
       "|  2   |  0/125  | tensor(5.0796, device='cuda:0', grad_fn=<NllLossBackward0>)|\n",
       "|  2   | 10/125  | tensor(5.1159, device='cuda:0', grad_fn=<NllLossBackward0>)|\n",
       "|  2   | 20/125  | tensor(4.9573, device='cuda:0', grad_fn=<NllLossBackward0>)|\n",
       "+-----------------------------------------------------------------------------+\n"
      ]
     },
     "metadata": {},
     "output_type": "display_data"
    },
    {
     "name": "stdout",
     "output_type": "stream",
     "text": [
      "STEP:  30 / 125\n"
     ]
    },
    {
     "data": {
      "text/html": [
       "<pre style=\"white-space:pre;overflow-x:auto;line-height:normal;font-family:Menlo,'DejaVu Sans Mono',consolas,'Courier New',monospace\"><span style=\"font-style: italic\">                                Training Status                                </span>\n",
       "+-----------------------------------------------------------------------------+\n",
       "|<span style=\"font-weight: bold\">Epoch </span>|<span style=\"font-weight: bold\">  Steps  </span>|<span style=\"font-weight: bold\">                            Loss                            </span>|\n",
       "|------+---------+------------------------------------------------------------|\n",
       "|  0   |  0/125  | tensor(6.2060, device='cuda:0', grad_fn=&lt;NllLossBackward0&gt;)|\n",
       "|  0   | 10/125  | tensor(6.0331, device='cuda:0', grad_fn=&lt;NllLossBackward0&gt;)|\n",
       "|  0   | 20/125  | tensor(6.0198, device='cuda:0', grad_fn=&lt;NllLossBackward0&gt;)|\n",
       "|  0   | 30/125  | tensor(6.3243, device='cuda:0', grad_fn=&lt;NllLossBackward0&gt;)|\n",
       "|  0   | 40/125  | tensor(6.0157, device='cuda:0', grad_fn=&lt;NllLossBackward0&gt;)|\n",
       "|  0   | 50/125  | tensor(5.3991, device='cuda:0', grad_fn=&lt;NllLossBackward0&gt;)|\n",
       "|  0   | 60/125  | tensor(5.8357, device='cuda:0', grad_fn=&lt;NllLossBackward0&gt;)|\n",
       "|  0   | 70/125  | tensor(6.0591, device='cuda:0', grad_fn=&lt;NllLossBackward0&gt;)|\n",
       "|  0   | 80/125  | tensor(5.6659, device='cuda:0', grad_fn=&lt;NllLossBackward0&gt;)|\n",
       "|  0   | 90/125  | tensor(5.6208, device='cuda:0', grad_fn=&lt;NllLossBackward0&gt;)|\n",
       "|  0   | 100/125 | tensor(5.3076, device='cuda:0', grad_fn=&lt;NllLossBackward0&gt;)|\n",
       "|  0   | 110/125 | tensor(5.4850, device='cuda:0', grad_fn=&lt;NllLossBackward0&gt;)|\n",
       "|  0   | 120/125 | tensor(5.3753, device='cuda:0', grad_fn=&lt;NllLossBackward0&gt;)|\n",
       "|  1   |  0/125  | tensor(5.7506, device='cuda:0', grad_fn=&lt;NllLossBackward0&gt;)|\n",
       "|  1   | 10/125  | tensor(5.7020, device='cuda:0', grad_fn=&lt;NllLossBackward0&gt;)|\n",
       "|  1   | 20/125  | tensor(5.6206, device='cuda:0', grad_fn=&lt;NllLossBackward0&gt;)|\n",
       "|  1   | 30/125  | tensor(5.5501, device='cuda:0', grad_fn=&lt;NllLossBackward0&gt;)|\n",
       "|  1   | 40/125  | tensor(5.6147, device='cuda:0', grad_fn=&lt;NllLossBackward0&gt;)|\n",
       "|  1   | 50/125  | tensor(5.4470, device='cuda:0', grad_fn=&lt;NllLossBackward0&gt;)|\n",
       "|  1   | 60/125  | tensor(5.4128, device='cuda:0', grad_fn=&lt;NllLossBackward0&gt;)|\n",
       "|  1   | 70/125  | tensor(5.5632, device='cuda:0', grad_fn=&lt;NllLossBackward0&gt;)|\n",
       "|  1   | 80/125  | tensor(5.7657, device='cuda:0', grad_fn=&lt;NllLossBackward0&gt;)|\n",
       "|  1   | 90/125  | tensor(5.4529, device='cuda:0', grad_fn=&lt;NllLossBackward0&gt;)|\n",
       "|  1   | 100/125 | tensor(4.9634, device='cuda:0', grad_fn=&lt;NllLossBackward0&gt;)|\n",
       "|  1   | 110/125 | tensor(5.6437, device='cuda:0', grad_fn=&lt;NllLossBackward0&gt;)|\n",
       "|  1   | 120/125 | tensor(4.9752, device='cuda:0', grad_fn=&lt;NllLossBackward0&gt;)|\n",
       "|  2   |  0/125  | tensor(5.0796, device='cuda:0', grad_fn=&lt;NllLossBackward0&gt;)|\n",
       "|  2   | 10/125  | tensor(5.1159, device='cuda:0', grad_fn=&lt;NllLossBackward0&gt;)|\n",
       "|  2   | 20/125  | tensor(4.9573, device='cuda:0', grad_fn=&lt;NllLossBackward0&gt;)|\n",
       "|  2   | 30/125  | tensor(5.1663, device='cuda:0', grad_fn=&lt;NllLossBackward0&gt;)|\n",
       "+-----------------------------------------------------------------------------+\n",
       "</pre>\n"
      ],
      "text/plain": [
       "\u001b[3m                                Training Status                                \u001b[0m\n",
       "+-----------------------------------------------------------------------------+\n",
       "|\u001b[1mEpoch\u001b[0m\u001b[1m \u001b[0m|\u001b[1m \u001b[0m\u001b[1m Steps \u001b[0m\u001b[1m \u001b[0m|\u001b[1m \u001b[0m\u001b[1m                           Loss                            \u001b[0m|\n",
       "|------+---------+------------------------------------------------------------|\n",
       "|  0   |  0/125  | tensor(6.2060, device='cuda:0', grad_fn=<NllLossBackward0>)|\n",
       "|  0   | 10/125  | tensor(6.0331, device='cuda:0', grad_fn=<NllLossBackward0>)|\n",
       "|  0   | 20/125  | tensor(6.0198, device='cuda:0', grad_fn=<NllLossBackward0>)|\n",
       "|  0   | 30/125  | tensor(6.3243, device='cuda:0', grad_fn=<NllLossBackward0>)|\n",
       "|  0   | 40/125  | tensor(6.0157, device='cuda:0', grad_fn=<NllLossBackward0>)|\n",
       "|  0   | 50/125  | tensor(5.3991, device='cuda:0', grad_fn=<NllLossBackward0>)|\n",
       "|  0   | 60/125  | tensor(5.8357, device='cuda:0', grad_fn=<NllLossBackward0>)|\n",
       "|  0   | 70/125  | tensor(6.0591, device='cuda:0', grad_fn=<NllLossBackward0>)|\n",
       "|  0   | 80/125  | tensor(5.6659, device='cuda:0', grad_fn=<NllLossBackward0>)|\n",
       "|  0   | 90/125  | tensor(5.6208, device='cuda:0', grad_fn=<NllLossBackward0>)|\n",
       "|  0   | 100/125 | tensor(5.3076, device='cuda:0', grad_fn=<NllLossBackward0>)|\n",
       "|  0   | 110/125 | tensor(5.4850, device='cuda:0', grad_fn=<NllLossBackward0>)|\n",
       "|  0   | 120/125 | tensor(5.3753, device='cuda:0', grad_fn=<NllLossBackward0>)|\n",
       "|  1   |  0/125  | tensor(5.7506, device='cuda:0', grad_fn=<NllLossBackward0>)|\n",
       "|  1   | 10/125  | tensor(5.7020, device='cuda:0', grad_fn=<NllLossBackward0>)|\n",
       "|  1   | 20/125  | tensor(5.6206, device='cuda:0', grad_fn=<NllLossBackward0>)|\n",
       "|  1   | 30/125  | tensor(5.5501, device='cuda:0', grad_fn=<NllLossBackward0>)|\n",
       "|  1   | 40/125  | tensor(5.6147, device='cuda:0', grad_fn=<NllLossBackward0>)|\n",
       "|  1   | 50/125  | tensor(5.4470, device='cuda:0', grad_fn=<NllLossBackward0>)|\n",
       "|  1   | 60/125  | tensor(5.4128, device='cuda:0', grad_fn=<NllLossBackward0>)|\n",
       "|  1   | 70/125  | tensor(5.5632, device='cuda:0', grad_fn=<NllLossBackward0>)|\n",
       "|  1   | 80/125  | tensor(5.7657, device='cuda:0', grad_fn=<NllLossBackward0>)|\n",
       "|  1   | 90/125  | tensor(5.4529, device='cuda:0', grad_fn=<NllLossBackward0>)|\n",
       "|  1   | 100/125 | tensor(4.9634, device='cuda:0', grad_fn=<NllLossBackward0>)|\n",
       "|  1   | 110/125 | tensor(5.6437, device='cuda:0', grad_fn=<NllLossBackward0>)|\n",
       "|  1   | 120/125 | tensor(4.9752, device='cuda:0', grad_fn=<NllLossBackward0>)|\n",
       "|  2   |  0/125  | tensor(5.0796, device='cuda:0', grad_fn=<NllLossBackward0>)|\n",
       "|  2   | 10/125  | tensor(5.1159, device='cuda:0', grad_fn=<NllLossBackward0>)|\n",
       "|  2   | 20/125  | tensor(4.9573, device='cuda:0', grad_fn=<NllLossBackward0>)|\n",
       "|  2   | 30/125  | tensor(5.1663, device='cuda:0', grad_fn=<NllLossBackward0>)|\n",
       "+-----------------------------------------------------------------------------+\n"
      ]
     },
     "metadata": {},
     "output_type": "display_data"
    },
    {
     "name": "stdout",
     "output_type": "stream",
     "text": [
      "STEP:  40 / 125\n"
     ]
    },
    {
     "data": {
      "text/html": [
       "<pre style=\"white-space:pre;overflow-x:auto;line-height:normal;font-family:Menlo,'DejaVu Sans Mono',consolas,'Courier New',monospace\"><span style=\"font-style: italic\">                                Training Status                                </span>\n",
       "+-----------------------------------------------------------------------------+\n",
       "|<span style=\"font-weight: bold\">Epoch </span>|<span style=\"font-weight: bold\">  Steps  </span>|<span style=\"font-weight: bold\">                            Loss                            </span>|\n",
       "|------+---------+------------------------------------------------------------|\n",
       "|  0   |  0/125  | tensor(6.2060, device='cuda:0', grad_fn=&lt;NllLossBackward0&gt;)|\n",
       "|  0   | 10/125  | tensor(6.0331, device='cuda:0', grad_fn=&lt;NllLossBackward0&gt;)|\n",
       "|  0   | 20/125  | tensor(6.0198, device='cuda:0', grad_fn=&lt;NllLossBackward0&gt;)|\n",
       "|  0   | 30/125  | tensor(6.3243, device='cuda:0', grad_fn=&lt;NllLossBackward0&gt;)|\n",
       "|  0   | 40/125  | tensor(6.0157, device='cuda:0', grad_fn=&lt;NllLossBackward0&gt;)|\n",
       "|  0   | 50/125  | tensor(5.3991, device='cuda:0', grad_fn=&lt;NllLossBackward0&gt;)|\n",
       "|  0   | 60/125  | tensor(5.8357, device='cuda:0', grad_fn=&lt;NllLossBackward0&gt;)|\n",
       "|  0   | 70/125  | tensor(6.0591, device='cuda:0', grad_fn=&lt;NllLossBackward0&gt;)|\n",
       "|  0   | 80/125  | tensor(5.6659, device='cuda:0', grad_fn=&lt;NllLossBackward0&gt;)|\n",
       "|  0   | 90/125  | tensor(5.6208, device='cuda:0', grad_fn=&lt;NllLossBackward0&gt;)|\n",
       "|  0   | 100/125 | tensor(5.3076, device='cuda:0', grad_fn=&lt;NllLossBackward0&gt;)|\n",
       "|  0   | 110/125 | tensor(5.4850, device='cuda:0', grad_fn=&lt;NllLossBackward0&gt;)|\n",
       "|  0   | 120/125 | tensor(5.3753, device='cuda:0', grad_fn=&lt;NllLossBackward0&gt;)|\n",
       "|  1   |  0/125  | tensor(5.7506, device='cuda:0', grad_fn=&lt;NllLossBackward0&gt;)|\n",
       "|  1   | 10/125  | tensor(5.7020, device='cuda:0', grad_fn=&lt;NllLossBackward0&gt;)|\n",
       "|  1   | 20/125  | tensor(5.6206, device='cuda:0', grad_fn=&lt;NllLossBackward0&gt;)|\n",
       "|  1   | 30/125  | tensor(5.5501, device='cuda:0', grad_fn=&lt;NllLossBackward0&gt;)|\n",
       "|  1   | 40/125  | tensor(5.6147, device='cuda:0', grad_fn=&lt;NllLossBackward0&gt;)|\n",
       "|  1   | 50/125  | tensor(5.4470, device='cuda:0', grad_fn=&lt;NllLossBackward0&gt;)|\n",
       "|  1   | 60/125  | tensor(5.4128, device='cuda:0', grad_fn=&lt;NllLossBackward0&gt;)|\n",
       "|  1   | 70/125  | tensor(5.5632, device='cuda:0', grad_fn=&lt;NllLossBackward0&gt;)|\n",
       "|  1   | 80/125  | tensor(5.7657, device='cuda:0', grad_fn=&lt;NllLossBackward0&gt;)|\n",
       "|  1   | 90/125  | tensor(5.4529, device='cuda:0', grad_fn=&lt;NllLossBackward0&gt;)|\n",
       "|  1   | 100/125 | tensor(4.9634, device='cuda:0', grad_fn=&lt;NllLossBackward0&gt;)|\n",
       "|  1   | 110/125 | tensor(5.6437, device='cuda:0', grad_fn=&lt;NllLossBackward0&gt;)|\n",
       "|  1   | 120/125 | tensor(4.9752, device='cuda:0', grad_fn=&lt;NllLossBackward0&gt;)|\n",
       "|  2   |  0/125  | tensor(5.0796, device='cuda:0', grad_fn=&lt;NllLossBackward0&gt;)|\n",
       "|  2   | 10/125  | tensor(5.1159, device='cuda:0', grad_fn=&lt;NllLossBackward0&gt;)|\n",
       "|  2   | 20/125  | tensor(4.9573, device='cuda:0', grad_fn=&lt;NllLossBackward0&gt;)|\n",
       "|  2   | 30/125  | tensor(5.1663, device='cuda:0', grad_fn=&lt;NllLossBackward0&gt;)|\n",
       "|  2   | 40/125  | tensor(4.9444, device='cuda:0', grad_fn=&lt;NllLossBackward0&gt;)|\n",
       "+-----------------------------------------------------------------------------+\n",
       "</pre>\n"
      ],
      "text/plain": [
       "\u001b[3m                                Training Status                                \u001b[0m\n",
       "+-----------------------------------------------------------------------------+\n",
       "|\u001b[1mEpoch\u001b[0m\u001b[1m \u001b[0m|\u001b[1m \u001b[0m\u001b[1m Steps \u001b[0m\u001b[1m \u001b[0m|\u001b[1m \u001b[0m\u001b[1m                           Loss                            \u001b[0m|\n",
       "|------+---------+------------------------------------------------------------|\n",
       "|  0   |  0/125  | tensor(6.2060, device='cuda:0', grad_fn=<NllLossBackward0>)|\n",
       "|  0   | 10/125  | tensor(6.0331, device='cuda:0', grad_fn=<NllLossBackward0>)|\n",
       "|  0   | 20/125  | tensor(6.0198, device='cuda:0', grad_fn=<NllLossBackward0>)|\n",
       "|  0   | 30/125  | tensor(6.3243, device='cuda:0', grad_fn=<NllLossBackward0>)|\n",
       "|  0   | 40/125  | tensor(6.0157, device='cuda:0', grad_fn=<NllLossBackward0>)|\n",
       "|  0   | 50/125  | tensor(5.3991, device='cuda:0', grad_fn=<NllLossBackward0>)|\n",
       "|  0   | 60/125  | tensor(5.8357, device='cuda:0', grad_fn=<NllLossBackward0>)|\n",
       "|  0   | 70/125  | tensor(6.0591, device='cuda:0', grad_fn=<NllLossBackward0>)|\n",
       "|  0   | 80/125  | tensor(5.6659, device='cuda:0', grad_fn=<NllLossBackward0>)|\n",
       "|  0   | 90/125  | tensor(5.6208, device='cuda:0', grad_fn=<NllLossBackward0>)|\n",
       "|  0   | 100/125 | tensor(5.3076, device='cuda:0', grad_fn=<NllLossBackward0>)|\n",
       "|  0   | 110/125 | tensor(5.4850, device='cuda:0', grad_fn=<NllLossBackward0>)|\n",
       "|  0   | 120/125 | tensor(5.3753, device='cuda:0', grad_fn=<NllLossBackward0>)|\n",
       "|  1   |  0/125  | tensor(5.7506, device='cuda:0', grad_fn=<NllLossBackward0>)|\n",
       "|  1   | 10/125  | tensor(5.7020, device='cuda:0', grad_fn=<NllLossBackward0>)|\n",
       "|  1   | 20/125  | tensor(5.6206, device='cuda:0', grad_fn=<NllLossBackward0>)|\n",
       "|  1   | 30/125  | tensor(5.5501, device='cuda:0', grad_fn=<NllLossBackward0>)|\n",
       "|  1   | 40/125  | tensor(5.6147, device='cuda:0', grad_fn=<NllLossBackward0>)|\n",
       "|  1   | 50/125  | tensor(5.4470, device='cuda:0', grad_fn=<NllLossBackward0>)|\n",
       "|  1   | 60/125  | tensor(5.4128, device='cuda:0', grad_fn=<NllLossBackward0>)|\n",
       "|  1   | 70/125  | tensor(5.5632, device='cuda:0', grad_fn=<NllLossBackward0>)|\n",
       "|  1   | 80/125  | tensor(5.7657, device='cuda:0', grad_fn=<NllLossBackward0>)|\n",
       "|  1   | 90/125  | tensor(5.4529, device='cuda:0', grad_fn=<NllLossBackward0>)|\n",
       "|  1   | 100/125 | tensor(4.9634, device='cuda:0', grad_fn=<NllLossBackward0>)|\n",
       "|  1   | 110/125 | tensor(5.6437, device='cuda:0', grad_fn=<NllLossBackward0>)|\n",
       "|  1   | 120/125 | tensor(4.9752, device='cuda:0', grad_fn=<NllLossBackward0>)|\n",
       "|  2   |  0/125  | tensor(5.0796, device='cuda:0', grad_fn=<NllLossBackward0>)|\n",
       "|  2   | 10/125  | tensor(5.1159, device='cuda:0', grad_fn=<NllLossBackward0>)|\n",
       "|  2   | 20/125  | tensor(4.9573, device='cuda:0', grad_fn=<NllLossBackward0>)|\n",
       "|  2   | 30/125  | tensor(5.1663, device='cuda:0', grad_fn=<NllLossBackward0>)|\n",
       "|  2   | 40/125  | tensor(4.9444, device='cuda:0', grad_fn=<NllLossBackward0>)|\n",
       "+-----------------------------------------------------------------------------+\n"
      ]
     },
     "metadata": {},
     "output_type": "display_data"
    },
    {
     "name": "stdout",
     "output_type": "stream",
     "text": [
      "STEP:  50 / 125\n"
     ]
    },
    {
     "data": {
      "text/html": [
       "<pre style=\"white-space:pre;overflow-x:auto;line-height:normal;font-family:Menlo,'DejaVu Sans Mono',consolas,'Courier New',monospace\"><span style=\"font-style: italic\">                                Training Status                                </span>\n",
       "+-----------------------------------------------------------------------------+\n",
       "|<span style=\"font-weight: bold\">Epoch </span>|<span style=\"font-weight: bold\">  Steps  </span>|<span style=\"font-weight: bold\">                            Loss                            </span>|\n",
       "|------+---------+------------------------------------------------------------|\n",
       "|  0   |  0/125  | tensor(6.2060, device='cuda:0', grad_fn=&lt;NllLossBackward0&gt;)|\n",
       "|  0   | 10/125  | tensor(6.0331, device='cuda:0', grad_fn=&lt;NllLossBackward0&gt;)|\n",
       "|  0   | 20/125  | tensor(6.0198, device='cuda:0', grad_fn=&lt;NllLossBackward0&gt;)|\n",
       "|  0   | 30/125  | tensor(6.3243, device='cuda:0', grad_fn=&lt;NllLossBackward0&gt;)|\n",
       "|  0   | 40/125  | tensor(6.0157, device='cuda:0', grad_fn=&lt;NllLossBackward0&gt;)|\n",
       "|  0   | 50/125  | tensor(5.3991, device='cuda:0', grad_fn=&lt;NllLossBackward0&gt;)|\n",
       "|  0   | 60/125  | tensor(5.8357, device='cuda:0', grad_fn=&lt;NllLossBackward0&gt;)|\n",
       "|  0   | 70/125  | tensor(6.0591, device='cuda:0', grad_fn=&lt;NllLossBackward0&gt;)|\n",
       "|  0   | 80/125  | tensor(5.6659, device='cuda:0', grad_fn=&lt;NllLossBackward0&gt;)|\n",
       "|  0   | 90/125  | tensor(5.6208, device='cuda:0', grad_fn=&lt;NllLossBackward0&gt;)|\n",
       "|  0   | 100/125 | tensor(5.3076, device='cuda:0', grad_fn=&lt;NllLossBackward0&gt;)|\n",
       "|  0   | 110/125 | tensor(5.4850, device='cuda:0', grad_fn=&lt;NllLossBackward0&gt;)|\n",
       "|  0   | 120/125 | tensor(5.3753, device='cuda:0', grad_fn=&lt;NllLossBackward0&gt;)|\n",
       "|  1   |  0/125  | tensor(5.7506, device='cuda:0', grad_fn=&lt;NllLossBackward0&gt;)|\n",
       "|  1   | 10/125  | tensor(5.7020, device='cuda:0', grad_fn=&lt;NllLossBackward0&gt;)|\n",
       "|  1   | 20/125  | tensor(5.6206, device='cuda:0', grad_fn=&lt;NllLossBackward0&gt;)|\n",
       "|  1   | 30/125  | tensor(5.5501, device='cuda:0', grad_fn=&lt;NllLossBackward0&gt;)|\n",
       "|  1   | 40/125  | tensor(5.6147, device='cuda:0', grad_fn=&lt;NllLossBackward0&gt;)|\n",
       "|  1   | 50/125  | tensor(5.4470, device='cuda:0', grad_fn=&lt;NllLossBackward0&gt;)|\n",
       "|  1   | 60/125  | tensor(5.4128, device='cuda:0', grad_fn=&lt;NllLossBackward0&gt;)|\n",
       "|  1   | 70/125  | tensor(5.5632, device='cuda:0', grad_fn=&lt;NllLossBackward0&gt;)|\n",
       "|  1   | 80/125  | tensor(5.7657, device='cuda:0', grad_fn=&lt;NllLossBackward0&gt;)|\n",
       "|  1   | 90/125  | tensor(5.4529, device='cuda:0', grad_fn=&lt;NllLossBackward0&gt;)|\n",
       "|  1   | 100/125 | tensor(4.9634, device='cuda:0', grad_fn=&lt;NllLossBackward0&gt;)|\n",
       "|  1   | 110/125 | tensor(5.6437, device='cuda:0', grad_fn=&lt;NllLossBackward0&gt;)|\n",
       "|  1   | 120/125 | tensor(4.9752, device='cuda:0', grad_fn=&lt;NllLossBackward0&gt;)|\n",
       "|  2   |  0/125  | tensor(5.0796, device='cuda:0', grad_fn=&lt;NllLossBackward0&gt;)|\n",
       "|  2   | 10/125  | tensor(5.1159, device='cuda:0', grad_fn=&lt;NllLossBackward0&gt;)|\n",
       "|  2   | 20/125  | tensor(4.9573, device='cuda:0', grad_fn=&lt;NllLossBackward0&gt;)|\n",
       "|  2   | 30/125  | tensor(5.1663, device='cuda:0', grad_fn=&lt;NllLossBackward0&gt;)|\n",
       "|  2   | 40/125  | tensor(4.9444, device='cuda:0', grad_fn=&lt;NllLossBackward0&gt;)|\n",
       "|  2   | 50/125  | tensor(5.2201, device='cuda:0', grad_fn=&lt;NllLossBackward0&gt;)|\n",
       "+-----------------------------------------------------------------------------+\n",
       "</pre>\n"
      ],
      "text/plain": [
       "\u001b[3m                                Training Status                                \u001b[0m\n",
       "+-----------------------------------------------------------------------------+\n",
       "|\u001b[1mEpoch\u001b[0m\u001b[1m \u001b[0m|\u001b[1m \u001b[0m\u001b[1m Steps \u001b[0m\u001b[1m \u001b[0m|\u001b[1m \u001b[0m\u001b[1m                           Loss                            \u001b[0m|\n",
       "|------+---------+------------------------------------------------------------|\n",
       "|  0   |  0/125  | tensor(6.2060, device='cuda:0', grad_fn=<NllLossBackward0>)|\n",
       "|  0   | 10/125  | tensor(6.0331, device='cuda:0', grad_fn=<NllLossBackward0>)|\n",
       "|  0   | 20/125  | tensor(6.0198, device='cuda:0', grad_fn=<NllLossBackward0>)|\n",
       "|  0   | 30/125  | tensor(6.3243, device='cuda:0', grad_fn=<NllLossBackward0>)|\n",
       "|  0   | 40/125  | tensor(6.0157, device='cuda:0', grad_fn=<NllLossBackward0>)|\n",
       "|  0   | 50/125  | tensor(5.3991, device='cuda:0', grad_fn=<NllLossBackward0>)|\n",
       "|  0   | 60/125  | tensor(5.8357, device='cuda:0', grad_fn=<NllLossBackward0>)|\n",
       "|  0   | 70/125  | tensor(6.0591, device='cuda:0', grad_fn=<NllLossBackward0>)|\n",
       "|  0   | 80/125  | tensor(5.6659, device='cuda:0', grad_fn=<NllLossBackward0>)|\n",
       "|  0   | 90/125  | tensor(5.6208, device='cuda:0', grad_fn=<NllLossBackward0>)|\n",
       "|  0   | 100/125 | tensor(5.3076, device='cuda:0', grad_fn=<NllLossBackward0>)|\n",
       "|  0   | 110/125 | tensor(5.4850, device='cuda:0', grad_fn=<NllLossBackward0>)|\n",
       "|  0   | 120/125 | tensor(5.3753, device='cuda:0', grad_fn=<NllLossBackward0>)|\n",
       "|  1   |  0/125  | tensor(5.7506, device='cuda:0', grad_fn=<NllLossBackward0>)|\n",
       "|  1   | 10/125  | tensor(5.7020, device='cuda:0', grad_fn=<NllLossBackward0>)|\n",
       "|  1   | 20/125  | tensor(5.6206, device='cuda:0', grad_fn=<NllLossBackward0>)|\n",
       "|  1   | 30/125  | tensor(5.5501, device='cuda:0', grad_fn=<NllLossBackward0>)|\n",
       "|  1   | 40/125  | tensor(5.6147, device='cuda:0', grad_fn=<NllLossBackward0>)|\n",
       "|  1   | 50/125  | tensor(5.4470, device='cuda:0', grad_fn=<NllLossBackward0>)|\n",
       "|  1   | 60/125  | tensor(5.4128, device='cuda:0', grad_fn=<NllLossBackward0>)|\n",
       "|  1   | 70/125  | tensor(5.5632, device='cuda:0', grad_fn=<NllLossBackward0>)|\n",
       "|  1   | 80/125  | tensor(5.7657, device='cuda:0', grad_fn=<NllLossBackward0>)|\n",
       "|  1   | 90/125  | tensor(5.4529, device='cuda:0', grad_fn=<NllLossBackward0>)|\n",
       "|  1   | 100/125 | tensor(4.9634, device='cuda:0', grad_fn=<NllLossBackward0>)|\n",
       "|  1   | 110/125 | tensor(5.6437, device='cuda:0', grad_fn=<NllLossBackward0>)|\n",
       "|  1   | 120/125 | tensor(4.9752, device='cuda:0', grad_fn=<NllLossBackward0>)|\n",
       "|  2   |  0/125  | tensor(5.0796, device='cuda:0', grad_fn=<NllLossBackward0>)|\n",
       "|  2   | 10/125  | tensor(5.1159, device='cuda:0', grad_fn=<NllLossBackward0>)|\n",
       "|  2   | 20/125  | tensor(4.9573, device='cuda:0', grad_fn=<NllLossBackward0>)|\n",
       "|  2   | 30/125  | tensor(5.1663, device='cuda:0', grad_fn=<NllLossBackward0>)|\n",
       "|  2   | 40/125  | tensor(4.9444, device='cuda:0', grad_fn=<NllLossBackward0>)|\n",
       "|  2   | 50/125  | tensor(5.2201, device='cuda:0', grad_fn=<NllLossBackward0>)|\n",
       "+-----------------------------------------------------------------------------+\n"
      ]
     },
     "metadata": {},
     "output_type": "display_data"
    },
    {
     "name": "stdout",
     "output_type": "stream",
     "text": [
      "STEP:  60 / 125\n"
     ]
    },
    {
     "data": {
      "text/html": [
       "<pre style=\"white-space:pre;overflow-x:auto;line-height:normal;font-family:Menlo,'DejaVu Sans Mono',consolas,'Courier New',monospace\"><span style=\"font-style: italic\">                                Training Status                                </span>\n",
       "+-----------------------------------------------------------------------------+\n",
       "|<span style=\"font-weight: bold\">Epoch </span>|<span style=\"font-weight: bold\">  Steps  </span>|<span style=\"font-weight: bold\">                            Loss                            </span>|\n",
       "|------+---------+------------------------------------------------------------|\n",
       "|  0   |  0/125  | tensor(6.2060, device='cuda:0', grad_fn=&lt;NllLossBackward0&gt;)|\n",
       "|  0   | 10/125  | tensor(6.0331, device='cuda:0', grad_fn=&lt;NllLossBackward0&gt;)|\n",
       "|  0   | 20/125  | tensor(6.0198, device='cuda:0', grad_fn=&lt;NllLossBackward0&gt;)|\n",
       "|  0   | 30/125  | tensor(6.3243, device='cuda:0', grad_fn=&lt;NllLossBackward0&gt;)|\n",
       "|  0   | 40/125  | tensor(6.0157, device='cuda:0', grad_fn=&lt;NllLossBackward0&gt;)|\n",
       "|  0   | 50/125  | tensor(5.3991, device='cuda:0', grad_fn=&lt;NllLossBackward0&gt;)|\n",
       "|  0   | 60/125  | tensor(5.8357, device='cuda:0', grad_fn=&lt;NllLossBackward0&gt;)|\n",
       "|  0   | 70/125  | tensor(6.0591, device='cuda:0', grad_fn=&lt;NllLossBackward0&gt;)|\n",
       "|  0   | 80/125  | tensor(5.6659, device='cuda:0', grad_fn=&lt;NllLossBackward0&gt;)|\n",
       "|  0   | 90/125  | tensor(5.6208, device='cuda:0', grad_fn=&lt;NllLossBackward0&gt;)|\n",
       "|  0   | 100/125 | tensor(5.3076, device='cuda:0', grad_fn=&lt;NllLossBackward0&gt;)|\n",
       "|  0   | 110/125 | tensor(5.4850, device='cuda:0', grad_fn=&lt;NllLossBackward0&gt;)|\n",
       "|  0   | 120/125 | tensor(5.3753, device='cuda:0', grad_fn=&lt;NllLossBackward0&gt;)|\n",
       "|  1   |  0/125  | tensor(5.7506, device='cuda:0', grad_fn=&lt;NllLossBackward0&gt;)|\n",
       "|  1   | 10/125  | tensor(5.7020, device='cuda:0', grad_fn=&lt;NllLossBackward0&gt;)|\n",
       "|  1   | 20/125  | tensor(5.6206, device='cuda:0', grad_fn=&lt;NllLossBackward0&gt;)|\n",
       "|  1   | 30/125  | tensor(5.5501, device='cuda:0', grad_fn=&lt;NllLossBackward0&gt;)|\n",
       "|  1   | 40/125  | tensor(5.6147, device='cuda:0', grad_fn=&lt;NllLossBackward0&gt;)|\n",
       "|  1   | 50/125  | tensor(5.4470, device='cuda:0', grad_fn=&lt;NllLossBackward0&gt;)|\n",
       "|  1   | 60/125  | tensor(5.4128, device='cuda:0', grad_fn=&lt;NllLossBackward0&gt;)|\n",
       "|  1   | 70/125  | tensor(5.5632, device='cuda:0', grad_fn=&lt;NllLossBackward0&gt;)|\n",
       "|  1   | 80/125  | tensor(5.7657, device='cuda:0', grad_fn=&lt;NllLossBackward0&gt;)|\n",
       "|  1   | 90/125  | tensor(5.4529, device='cuda:0', grad_fn=&lt;NllLossBackward0&gt;)|\n",
       "|  1   | 100/125 | tensor(4.9634, device='cuda:0', grad_fn=&lt;NllLossBackward0&gt;)|\n",
       "|  1   | 110/125 | tensor(5.6437, device='cuda:0', grad_fn=&lt;NllLossBackward0&gt;)|\n",
       "|  1   | 120/125 | tensor(4.9752, device='cuda:0', grad_fn=&lt;NllLossBackward0&gt;)|\n",
       "|  2   |  0/125  | tensor(5.0796, device='cuda:0', grad_fn=&lt;NllLossBackward0&gt;)|\n",
       "|  2   | 10/125  | tensor(5.1159, device='cuda:0', grad_fn=&lt;NllLossBackward0&gt;)|\n",
       "|  2   | 20/125  | tensor(4.9573, device='cuda:0', grad_fn=&lt;NllLossBackward0&gt;)|\n",
       "|  2   | 30/125  | tensor(5.1663, device='cuda:0', grad_fn=&lt;NllLossBackward0&gt;)|\n",
       "|  2   | 40/125  | tensor(4.9444, device='cuda:0', grad_fn=&lt;NllLossBackward0&gt;)|\n",
       "|  2   | 50/125  | tensor(5.2201, device='cuda:0', grad_fn=&lt;NllLossBackward0&gt;)|\n",
       "|  2   | 60/125  | tensor(5.2388, device='cuda:0', grad_fn=&lt;NllLossBackward0&gt;)|\n",
       "+-----------------------------------------------------------------------------+\n",
       "</pre>\n"
      ],
      "text/plain": [
       "\u001b[3m                                Training Status                                \u001b[0m\n",
       "+-----------------------------------------------------------------------------+\n",
       "|\u001b[1mEpoch\u001b[0m\u001b[1m \u001b[0m|\u001b[1m \u001b[0m\u001b[1m Steps \u001b[0m\u001b[1m \u001b[0m|\u001b[1m \u001b[0m\u001b[1m                           Loss                            \u001b[0m|\n",
       "|------+---------+------------------------------------------------------------|\n",
       "|  0   |  0/125  | tensor(6.2060, device='cuda:0', grad_fn=<NllLossBackward0>)|\n",
       "|  0   | 10/125  | tensor(6.0331, device='cuda:0', grad_fn=<NllLossBackward0>)|\n",
       "|  0   | 20/125  | tensor(6.0198, device='cuda:0', grad_fn=<NllLossBackward0>)|\n",
       "|  0   | 30/125  | tensor(6.3243, device='cuda:0', grad_fn=<NllLossBackward0>)|\n",
       "|  0   | 40/125  | tensor(6.0157, device='cuda:0', grad_fn=<NllLossBackward0>)|\n",
       "|  0   | 50/125  | tensor(5.3991, device='cuda:0', grad_fn=<NllLossBackward0>)|\n",
       "|  0   | 60/125  | tensor(5.8357, device='cuda:0', grad_fn=<NllLossBackward0>)|\n",
       "|  0   | 70/125  | tensor(6.0591, device='cuda:0', grad_fn=<NllLossBackward0>)|\n",
       "|  0   | 80/125  | tensor(5.6659, device='cuda:0', grad_fn=<NllLossBackward0>)|\n",
       "|  0   | 90/125  | tensor(5.6208, device='cuda:0', grad_fn=<NllLossBackward0>)|\n",
       "|  0   | 100/125 | tensor(5.3076, device='cuda:0', grad_fn=<NllLossBackward0>)|\n",
       "|  0   | 110/125 | tensor(5.4850, device='cuda:0', grad_fn=<NllLossBackward0>)|\n",
       "|  0   | 120/125 | tensor(5.3753, device='cuda:0', grad_fn=<NllLossBackward0>)|\n",
       "|  1   |  0/125  | tensor(5.7506, device='cuda:0', grad_fn=<NllLossBackward0>)|\n",
       "|  1   | 10/125  | tensor(5.7020, device='cuda:0', grad_fn=<NllLossBackward0>)|\n",
       "|  1   | 20/125  | tensor(5.6206, device='cuda:0', grad_fn=<NllLossBackward0>)|\n",
       "|  1   | 30/125  | tensor(5.5501, device='cuda:0', grad_fn=<NllLossBackward0>)|\n",
       "|  1   | 40/125  | tensor(5.6147, device='cuda:0', grad_fn=<NllLossBackward0>)|\n",
       "|  1   | 50/125  | tensor(5.4470, device='cuda:0', grad_fn=<NllLossBackward0>)|\n",
       "|  1   | 60/125  | tensor(5.4128, device='cuda:0', grad_fn=<NllLossBackward0>)|\n",
       "|  1   | 70/125  | tensor(5.5632, device='cuda:0', grad_fn=<NllLossBackward0>)|\n",
       "|  1   | 80/125  | tensor(5.7657, device='cuda:0', grad_fn=<NllLossBackward0>)|\n",
       "|  1   | 90/125  | tensor(5.4529, device='cuda:0', grad_fn=<NllLossBackward0>)|\n",
       "|  1   | 100/125 | tensor(4.9634, device='cuda:0', grad_fn=<NllLossBackward0>)|\n",
       "|  1   | 110/125 | tensor(5.6437, device='cuda:0', grad_fn=<NllLossBackward0>)|\n",
       "|  1   | 120/125 | tensor(4.9752, device='cuda:0', grad_fn=<NllLossBackward0>)|\n",
       "|  2   |  0/125  | tensor(5.0796, device='cuda:0', grad_fn=<NllLossBackward0>)|\n",
       "|  2   | 10/125  | tensor(5.1159, device='cuda:0', grad_fn=<NllLossBackward0>)|\n",
       "|  2   | 20/125  | tensor(4.9573, device='cuda:0', grad_fn=<NllLossBackward0>)|\n",
       "|  2   | 30/125  | tensor(5.1663, device='cuda:0', grad_fn=<NllLossBackward0>)|\n",
       "|  2   | 40/125  | tensor(4.9444, device='cuda:0', grad_fn=<NllLossBackward0>)|\n",
       "|  2   | 50/125  | tensor(5.2201, device='cuda:0', grad_fn=<NllLossBackward0>)|\n",
       "|  2   | 60/125  | tensor(5.2388, device='cuda:0', grad_fn=<NllLossBackward0>)|\n",
       "+-----------------------------------------------------------------------------+\n"
      ]
     },
     "metadata": {},
     "output_type": "display_data"
    },
    {
     "name": "stdout",
     "output_type": "stream",
     "text": [
      "STEP:  70 / 125\n"
     ]
    },
    {
     "data": {
      "text/html": [
       "<pre style=\"white-space:pre;overflow-x:auto;line-height:normal;font-family:Menlo,'DejaVu Sans Mono',consolas,'Courier New',monospace\"><span style=\"font-style: italic\">                                Training Status                                </span>\n",
       "+-----------------------------------------------------------------------------+\n",
       "|<span style=\"font-weight: bold\">Epoch </span>|<span style=\"font-weight: bold\">  Steps  </span>|<span style=\"font-weight: bold\">                            Loss                            </span>|\n",
       "|------+---------+------------------------------------------------------------|\n",
       "|  0   |  0/125  | tensor(6.2060, device='cuda:0', grad_fn=&lt;NllLossBackward0&gt;)|\n",
       "|  0   | 10/125  | tensor(6.0331, device='cuda:0', grad_fn=&lt;NllLossBackward0&gt;)|\n",
       "|  0   | 20/125  | tensor(6.0198, device='cuda:0', grad_fn=&lt;NllLossBackward0&gt;)|\n",
       "|  0   | 30/125  | tensor(6.3243, device='cuda:0', grad_fn=&lt;NllLossBackward0&gt;)|\n",
       "|  0   | 40/125  | tensor(6.0157, device='cuda:0', grad_fn=&lt;NllLossBackward0&gt;)|\n",
       "|  0   | 50/125  | tensor(5.3991, device='cuda:0', grad_fn=&lt;NllLossBackward0&gt;)|\n",
       "|  0   | 60/125  | tensor(5.8357, device='cuda:0', grad_fn=&lt;NllLossBackward0&gt;)|\n",
       "|  0   | 70/125  | tensor(6.0591, device='cuda:0', grad_fn=&lt;NllLossBackward0&gt;)|\n",
       "|  0   | 80/125  | tensor(5.6659, device='cuda:0', grad_fn=&lt;NllLossBackward0&gt;)|\n",
       "|  0   | 90/125  | tensor(5.6208, device='cuda:0', grad_fn=&lt;NllLossBackward0&gt;)|\n",
       "|  0   | 100/125 | tensor(5.3076, device='cuda:0', grad_fn=&lt;NllLossBackward0&gt;)|\n",
       "|  0   | 110/125 | tensor(5.4850, device='cuda:0', grad_fn=&lt;NllLossBackward0&gt;)|\n",
       "|  0   | 120/125 | tensor(5.3753, device='cuda:0', grad_fn=&lt;NllLossBackward0&gt;)|\n",
       "|  1   |  0/125  | tensor(5.7506, device='cuda:0', grad_fn=&lt;NllLossBackward0&gt;)|\n",
       "|  1   | 10/125  | tensor(5.7020, device='cuda:0', grad_fn=&lt;NllLossBackward0&gt;)|\n",
       "|  1   | 20/125  | tensor(5.6206, device='cuda:0', grad_fn=&lt;NllLossBackward0&gt;)|\n",
       "|  1   | 30/125  | tensor(5.5501, device='cuda:0', grad_fn=&lt;NllLossBackward0&gt;)|\n",
       "|  1   | 40/125  | tensor(5.6147, device='cuda:0', grad_fn=&lt;NllLossBackward0&gt;)|\n",
       "|  1   | 50/125  | tensor(5.4470, device='cuda:0', grad_fn=&lt;NllLossBackward0&gt;)|\n",
       "|  1   | 60/125  | tensor(5.4128, device='cuda:0', grad_fn=&lt;NllLossBackward0&gt;)|\n",
       "|  1   | 70/125  | tensor(5.5632, device='cuda:0', grad_fn=&lt;NllLossBackward0&gt;)|\n",
       "|  1   | 80/125  | tensor(5.7657, device='cuda:0', grad_fn=&lt;NllLossBackward0&gt;)|\n",
       "|  1   | 90/125  | tensor(5.4529, device='cuda:0', grad_fn=&lt;NllLossBackward0&gt;)|\n",
       "|  1   | 100/125 | tensor(4.9634, device='cuda:0', grad_fn=&lt;NllLossBackward0&gt;)|\n",
       "|  1   | 110/125 | tensor(5.6437, device='cuda:0', grad_fn=&lt;NllLossBackward0&gt;)|\n",
       "|  1   | 120/125 | tensor(4.9752, device='cuda:0', grad_fn=&lt;NllLossBackward0&gt;)|\n",
       "|  2   |  0/125  | tensor(5.0796, device='cuda:0', grad_fn=&lt;NllLossBackward0&gt;)|\n",
       "|  2   | 10/125  | tensor(5.1159, device='cuda:0', grad_fn=&lt;NllLossBackward0&gt;)|\n",
       "|  2   | 20/125  | tensor(4.9573, device='cuda:0', grad_fn=&lt;NllLossBackward0&gt;)|\n",
       "|  2   | 30/125  | tensor(5.1663, device='cuda:0', grad_fn=&lt;NllLossBackward0&gt;)|\n",
       "|  2   | 40/125  | tensor(4.9444, device='cuda:0', grad_fn=&lt;NllLossBackward0&gt;)|\n",
       "|  2   | 50/125  | tensor(5.2201, device='cuda:0', grad_fn=&lt;NllLossBackward0&gt;)|\n",
       "|  2   | 60/125  | tensor(5.2388, device='cuda:0', grad_fn=&lt;NllLossBackward0&gt;)|\n",
       "|  2   | 70/125  | tensor(4.9634, device='cuda:0', grad_fn=&lt;NllLossBackward0&gt;)|\n",
       "+-----------------------------------------------------------------------------+\n",
       "</pre>\n"
      ],
      "text/plain": [
       "\u001b[3m                                Training Status                                \u001b[0m\n",
       "+-----------------------------------------------------------------------------+\n",
       "|\u001b[1mEpoch\u001b[0m\u001b[1m \u001b[0m|\u001b[1m \u001b[0m\u001b[1m Steps \u001b[0m\u001b[1m \u001b[0m|\u001b[1m \u001b[0m\u001b[1m                           Loss                            \u001b[0m|\n",
       "|------+---------+------------------------------------------------------------|\n",
       "|  0   |  0/125  | tensor(6.2060, device='cuda:0', grad_fn=<NllLossBackward0>)|\n",
       "|  0   | 10/125  | tensor(6.0331, device='cuda:0', grad_fn=<NllLossBackward0>)|\n",
       "|  0   | 20/125  | tensor(6.0198, device='cuda:0', grad_fn=<NllLossBackward0>)|\n",
       "|  0   | 30/125  | tensor(6.3243, device='cuda:0', grad_fn=<NllLossBackward0>)|\n",
       "|  0   | 40/125  | tensor(6.0157, device='cuda:0', grad_fn=<NllLossBackward0>)|\n",
       "|  0   | 50/125  | tensor(5.3991, device='cuda:0', grad_fn=<NllLossBackward0>)|\n",
       "|  0   | 60/125  | tensor(5.8357, device='cuda:0', grad_fn=<NllLossBackward0>)|\n",
       "|  0   | 70/125  | tensor(6.0591, device='cuda:0', grad_fn=<NllLossBackward0>)|\n",
       "|  0   | 80/125  | tensor(5.6659, device='cuda:0', grad_fn=<NllLossBackward0>)|\n",
       "|  0   | 90/125  | tensor(5.6208, device='cuda:0', grad_fn=<NllLossBackward0>)|\n",
       "|  0   | 100/125 | tensor(5.3076, device='cuda:0', grad_fn=<NllLossBackward0>)|\n",
       "|  0   | 110/125 | tensor(5.4850, device='cuda:0', grad_fn=<NllLossBackward0>)|\n",
       "|  0   | 120/125 | tensor(5.3753, device='cuda:0', grad_fn=<NllLossBackward0>)|\n",
       "|  1   |  0/125  | tensor(5.7506, device='cuda:0', grad_fn=<NllLossBackward0>)|\n",
       "|  1   | 10/125  | tensor(5.7020, device='cuda:0', grad_fn=<NllLossBackward0>)|\n",
       "|  1   | 20/125  | tensor(5.6206, device='cuda:0', grad_fn=<NllLossBackward0>)|\n",
       "|  1   | 30/125  | tensor(5.5501, device='cuda:0', grad_fn=<NllLossBackward0>)|\n",
       "|  1   | 40/125  | tensor(5.6147, device='cuda:0', grad_fn=<NllLossBackward0>)|\n",
       "|  1   | 50/125  | tensor(5.4470, device='cuda:0', grad_fn=<NllLossBackward0>)|\n",
       "|  1   | 60/125  | tensor(5.4128, device='cuda:0', grad_fn=<NllLossBackward0>)|\n",
       "|  1   | 70/125  | tensor(5.5632, device='cuda:0', grad_fn=<NllLossBackward0>)|\n",
       "|  1   | 80/125  | tensor(5.7657, device='cuda:0', grad_fn=<NllLossBackward0>)|\n",
       "|  1   | 90/125  | tensor(5.4529, device='cuda:0', grad_fn=<NllLossBackward0>)|\n",
       "|  1   | 100/125 | tensor(4.9634, device='cuda:0', grad_fn=<NllLossBackward0>)|\n",
       "|  1   | 110/125 | tensor(5.6437, device='cuda:0', grad_fn=<NllLossBackward0>)|\n",
       "|  1   | 120/125 | tensor(4.9752, device='cuda:0', grad_fn=<NllLossBackward0>)|\n",
       "|  2   |  0/125  | tensor(5.0796, device='cuda:0', grad_fn=<NllLossBackward0>)|\n",
       "|  2   | 10/125  | tensor(5.1159, device='cuda:0', grad_fn=<NllLossBackward0>)|\n",
       "|  2   | 20/125  | tensor(4.9573, device='cuda:0', grad_fn=<NllLossBackward0>)|\n",
       "|  2   | 30/125  | tensor(5.1663, device='cuda:0', grad_fn=<NllLossBackward0>)|\n",
       "|  2   | 40/125  | tensor(4.9444, device='cuda:0', grad_fn=<NllLossBackward0>)|\n",
       "|  2   | 50/125  | tensor(5.2201, device='cuda:0', grad_fn=<NllLossBackward0>)|\n",
       "|  2   | 60/125  | tensor(5.2388, device='cuda:0', grad_fn=<NllLossBackward0>)|\n",
       "|  2   | 70/125  | tensor(4.9634, device='cuda:0', grad_fn=<NllLossBackward0>)|\n",
       "+-----------------------------------------------------------------------------+\n"
      ]
     },
     "metadata": {},
     "output_type": "display_data"
    },
    {
     "name": "stdout",
     "output_type": "stream",
     "text": [
      "STEP:  80 / 125\n"
     ]
    },
    {
     "data": {
      "text/html": [
       "<pre style=\"white-space:pre;overflow-x:auto;line-height:normal;font-family:Menlo,'DejaVu Sans Mono',consolas,'Courier New',monospace\"><span style=\"font-style: italic\">                                Training Status                                </span>\n",
       "+-----------------------------------------------------------------------------+\n",
       "|<span style=\"font-weight: bold\">Epoch </span>|<span style=\"font-weight: bold\">  Steps  </span>|<span style=\"font-weight: bold\">                            Loss                            </span>|\n",
       "|------+---------+------------------------------------------------------------|\n",
       "|  0   |  0/125  | tensor(6.2060, device='cuda:0', grad_fn=&lt;NllLossBackward0&gt;)|\n",
       "|  0   | 10/125  | tensor(6.0331, device='cuda:0', grad_fn=&lt;NllLossBackward0&gt;)|\n",
       "|  0   | 20/125  | tensor(6.0198, device='cuda:0', grad_fn=&lt;NllLossBackward0&gt;)|\n",
       "|  0   | 30/125  | tensor(6.3243, device='cuda:0', grad_fn=&lt;NllLossBackward0&gt;)|\n",
       "|  0   | 40/125  | tensor(6.0157, device='cuda:0', grad_fn=&lt;NllLossBackward0&gt;)|\n",
       "|  0   | 50/125  | tensor(5.3991, device='cuda:0', grad_fn=&lt;NllLossBackward0&gt;)|\n",
       "|  0   | 60/125  | tensor(5.8357, device='cuda:0', grad_fn=&lt;NllLossBackward0&gt;)|\n",
       "|  0   | 70/125  | tensor(6.0591, device='cuda:0', grad_fn=&lt;NllLossBackward0&gt;)|\n",
       "|  0   | 80/125  | tensor(5.6659, device='cuda:0', grad_fn=&lt;NllLossBackward0&gt;)|\n",
       "|  0   | 90/125  | tensor(5.6208, device='cuda:0', grad_fn=&lt;NllLossBackward0&gt;)|\n",
       "|  0   | 100/125 | tensor(5.3076, device='cuda:0', grad_fn=&lt;NllLossBackward0&gt;)|\n",
       "|  0   | 110/125 | tensor(5.4850, device='cuda:0', grad_fn=&lt;NllLossBackward0&gt;)|\n",
       "|  0   | 120/125 | tensor(5.3753, device='cuda:0', grad_fn=&lt;NllLossBackward0&gt;)|\n",
       "|  1   |  0/125  | tensor(5.7506, device='cuda:0', grad_fn=&lt;NllLossBackward0&gt;)|\n",
       "|  1   | 10/125  | tensor(5.7020, device='cuda:0', grad_fn=&lt;NllLossBackward0&gt;)|\n",
       "|  1   | 20/125  | tensor(5.6206, device='cuda:0', grad_fn=&lt;NllLossBackward0&gt;)|\n",
       "|  1   | 30/125  | tensor(5.5501, device='cuda:0', grad_fn=&lt;NllLossBackward0&gt;)|\n",
       "|  1   | 40/125  | tensor(5.6147, device='cuda:0', grad_fn=&lt;NllLossBackward0&gt;)|\n",
       "|  1   | 50/125  | tensor(5.4470, device='cuda:0', grad_fn=&lt;NllLossBackward0&gt;)|\n",
       "|  1   | 60/125  | tensor(5.4128, device='cuda:0', grad_fn=&lt;NllLossBackward0&gt;)|\n",
       "|  1   | 70/125  | tensor(5.5632, device='cuda:0', grad_fn=&lt;NllLossBackward0&gt;)|\n",
       "|  1   | 80/125  | tensor(5.7657, device='cuda:0', grad_fn=&lt;NllLossBackward0&gt;)|\n",
       "|  1   | 90/125  | tensor(5.4529, device='cuda:0', grad_fn=&lt;NllLossBackward0&gt;)|\n",
       "|  1   | 100/125 | tensor(4.9634, device='cuda:0', grad_fn=&lt;NllLossBackward0&gt;)|\n",
       "|  1   | 110/125 | tensor(5.6437, device='cuda:0', grad_fn=&lt;NllLossBackward0&gt;)|\n",
       "|  1   | 120/125 | tensor(4.9752, device='cuda:0', grad_fn=&lt;NllLossBackward0&gt;)|\n",
       "|  2   |  0/125  | tensor(5.0796, device='cuda:0', grad_fn=&lt;NllLossBackward0&gt;)|\n",
       "|  2   | 10/125  | tensor(5.1159, device='cuda:0', grad_fn=&lt;NllLossBackward0&gt;)|\n",
       "|  2   | 20/125  | tensor(4.9573, device='cuda:0', grad_fn=&lt;NllLossBackward0&gt;)|\n",
       "|  2   | 30/125  | tensor(5.1663, device='cuda:0', grad_fn=&lt;NllLossBackward0&gt;)|\n",
       "|  2   | 40/125  | tensor(4.9444, device='cuda:0', grad_fn=&lt;NllLossBackward0&gt;)|\n",
       "|  2   | 50/125  | tensor(5.2201, device='cuda:0', grad_fn=&lt;NllLossBackward0&gt;)|\n",
       "|  2   | 60/125  | tensor(5.2388, device='cuda:0', grad_fn=&lt;NllLossBackward0&gt;)|\n",
       "|  2   | 70/125  | tensor(4.9634, device='cuda:0', grad_fn=&lt;NllLossBackward0&gt;)|\n",
       "|  2   | 80/125  | tensor(5.2895, device='cuda:0', grad_fn=&lt;NllLossBackward0&gt;)|\n",
       "+-----------------------------------------------------------------------------+\n",
       "</pre>\n"
      ],
      "text/plain": [
       "\u001b[3m                                Training Status                                \u001b[0m\n",
       "+-----------------------------------------------------------------------------+\n",
       "|\u001b[1mEpoch\u001b[0m\u001b[1m \u001b[0m|\u001b[1m \u001b[0m\u001b[1m Steps \u001b[0m\u001b[1m \u001b[0m|\u001b[1m \u001b[0m\u001b[1m                           Loss                            \u001b[0m|\n",
       "|------+---------+------------------------------------------------------------|\n",
       "|  0   |  0/125  | tensor(6.2060, device='cuda:0', grad_fn=<NllLossBackward0>)|\n",
       "|  0   | 10/125  | tensor(6.0331, device='cuda:0', grad_fn=<NllLossBackward0>)|\n",
       "|  0   | 20/125  | tensor(6.0198, device='cuda:0', grad_fn=<NllLossBackward0>)|\n",
       "|  0   | 30/125  | tensor(6.3243, device='cuda:0', grad_fn=<NllLossBackward0>)|\n",
       "|  0   | 40/125  | tensor(6.0157, device='cuda:0', grad_fn=<NllLossBackward0>)|\n",
       "|  0   | 50/125  | tensor(5.3991, device='cuda:0', grad_fn=<NllLossBackward0>)|\n",
       "|  0   | 60/125  | tensor(5.8357, device='cuda:0', grad_fn=<NllLossBackward0>)|\n",
       "|  0   | 70/125  | tensor(6.0591, device='cuda:0', grad_fn=<NllLossBackward0>)|\n",
       "|  0   | 80/125  | tensor(5.6659, device='cuda:0', grad_fn=<NllLossBackward0>)|\n",
       "|  0   | 90/125  | tensor(5.6208, device='cuda:0', grad_fn=<NllLossBackward0>)|\n",
       "|  0   | 100/125 | tensor(5.3076, device='cuda:0', grad_fn=<NllLossBackward0>)|\n",
       "|  0   | 110/125 | tensor(5.4850, device='cuda:0', grad_fn=<NllLossBackward0>)|\n",
       "|  0   | 120/125 | tensor(5.3753, device='cuda:0', grad_fn=<NllLossBackward0>)|\n",
       "|  1   |  0/125  | tensor(5.7506, device='cuda:0', grad_fn=<NllLossBackward0>)|\n",
       "|  1   | 10/125  | tensor(5.7020, device='cuda:0', grad_fn=<NllLossBackward0>)|\n",
       "|  1   | 20/125  | tensor(5.6206, device='cuda:0', grad_fn=<NllLossBackward0>)|\n",
       "|  1   | 30/125  | tensor(5.5501, device='cuda:0', grad_fn=<NllLossBackward0>)|\n",
       "|  1   | 40/125  | tensor(5.6147, device='cuda:0', grad_fn=<NllLossBackward0>)|\n",
       "|  1   | 50/125  | tensor(5.4470, device='cuda:0', grad_fn=<NllLossBackward0>)|\n",
       "|  1   | 60/125  | tensor(5.4128, device='cuda:0', grad_fn=<NllLossBackward0>)|\n",
       "|  1   | 70/125  | tensor(5.5632, device='cuda:0', grad_fn=<NllLossBackward0>)|\n",
       "|  1   | 80/125  | tensor(5.7657, device='cuda:0', grad_fn=<NllLossBackward0>)|\n",
       "|  1   | 90/125  | tensor(5.4529, device='cuda:0', grad_fn=<NllLossBackward0>)|\n",
       "|  1   | 100/125 | tensor(4.9634, device='cuda:0', grad_fn=<NllLossBackward0>)|\n",
       "|  1   | 110/125 | tensor(5.6437, device='cuda:0', grad_fn=<NllLossBackward0>)|\n",
       "|  1   | 120/125 | tensor(4.9752, device='cuda:0', grad_fn=<NllLossBackward0>)|\n",
       "|  2   |  0/125  | tensor(5.0796, device='cuda:0', grad_fn=<NllLossBackward0>)|\n",
       "|  2   | 10/125  | tensor(5.1159, device='cuda:0', grad_fn=<NllLossBackward0>)|\n",
       "|  2   | 20/125  | tensor(4.9573, device='cuda:0', grad_fn=<NllLossBackward0>)|\n",
       "|  2   | 30/125  | tensor(5.1663, device='cuda:0', grad_fn=<NllLossBackward0>)|\n",
       "|  2   | 40/125  | tensor(4.9444, device='cuda:0', grad_fn=<NllLossBackward0>)|\n",
       "|  2   | 50/125  | tensor(5.2201, device='cuda:0', grad_fn=<NllLossBackward0>)|\n",
       "|  2   | 60/125  | tensor(5.2388, device='cuda:0', grad_fn=<NllLossBackward0>)|\n",
       "|  2   | 70/125  | tensor(4.9634, device='cuda:0', grad_fn=<NllLossBackward0>)|\n",
       "|  2   | 80/125  | tensor(5.2895, device='cuda:0', grad_fn=<NllLossBackward0>)|\n",
       "+-----------------------------------------------------------------------------+\n"
      ]
     },
     "metadata": {},
     "output_type": "display_data"
    },
    {
     "name": "stdout",
     "output_type": "stream",
     "text": [
      "STEP:  90 / 125\n"
     ]
    },
    {
     "data": {
      "text/html": [
       "<pre style=\"white-space:pre;overflow-x:auto;line-height:normal;font-family:Menlo,'DejaVu Sans Mono',consolas,'Courier New',monospace\"><span style=\"font-style: italic\">                                Training Status                                </span>\n",
       "+-----------------------------------------------------------------------------+\n",
       "|<span style=\"font-weight: bold\">Epoch </span>|<span style=\"font-weight: bold\">  Steps  </span>|<span style=\"font-weight: bold\">                            Loss                            </span>|\n",
       "|------+---------+------------------------------------------------------------|\n",
       "|  0   |  0/125  | tensor(6.2060, device='cuda:0', grad_fn=&lt;NllLossBackward0&gt;)|\n",
       "|  0   | 10/125  | tensor(6.0331, device='cuda:0', grad_fn=&lt;NllLossBackward0&gt;)|\n",
       "|  0   | 20/125  | tensor(6.0198, device='cuda:0', grad_fn=&lt;NllLossBackward0&gt;)|\n",
       "|  0   | 30/125  | tensor(6.3243, device='cuda:0', grad_fn=&lt;NllLossBackward0&gt;)|\n",
       "|  0   | 40/125  | tensor(6.0157, device='cuda:0', grad_fn=&lt;NllLossBackward0&gt;)|\n",
       "|  0   | 50/125  | tensor(5.3991, device='cuda:0', grad_fn=&lt;NllLossBackward0&gt;)|\n",
       "|  0   | 60/125  | tensor(5.8357, device='cuda:0', grad_fn=&lt;NllLossBackward0&gt;)|\n",
       "|  0   | 70/125  | tensor(6.0591, device='cuda:0', grad_fn=&lt;NllLossBackward0&gt;)|\n",
       "|  0   | 80/125  | tensor(5.6659, device='cuda:0', grad_fn=&lt;NllLossBackward0&gt;)|\n",
       "|  0   | 90/125  | tensor(5.6208, device='cuda:0', grad_fn=&lt;NllLossBackward0&gt;)|\n",
       "|  0   | 100/125 | tensor(5.3076, device='cuda:0', grad_fn=&lt;NllLossBackward0&gt;)|\n",
       "|  0   | 110/125 | tensor(5.4850, device='cuda:0', grad_fn=&lt;NllLossBackward0&gt;)|\n",
       "|  0   | 120/125 | tensor(5.3753, device='cuda:0', grad_fn=&lt;NllLossBackward0&gt;)|\n",
       "|  1   |  0/125  | tensor(5.7506, device='cuda:0', grad_fn=&lt;NllLossBackward0&gt;)|\n",
       "|  1   | 10/125  | tensor(5.7020, device='cuda:0', grad_fn=&lt;NllLossBackward0&gt;)|\n",
       "|  1   | 20/125  | tensor(5.6206, device='cuda:0', grad_fn=&lt;NllLossBackward0&gt;)|\n",
       "|  1   | 30/125  | tensor(5.5501, device='cuda:0', grad_fn=&lt;NllLossBackward0&gt;)|\n",
       "|  1   | 40/125  | tensor(5.6147, device='cuda:0', grad_fn=&lt;NllLossBackward0&gt;)|\n",
       "|  1   | 50/125  | tensor(5.4470, device='cuda:0', grad_fn=&lt;NllLossBackward0&gt;)|\n",
       "|  1   | 60/125  | tensor(5.4128, device='cuda:0', grad_fn=&lt;NllLossBackward0&gt;)|\n",
       "|  1   | 70/125  | tensor(5.5632, device='cuda:0', grad_fn=&lt;NllLossBackward0&gt;)|\n",
       "|  1   | 80/125  | tensor(5.7657, device='cuda:0', grad_fn=&lt;NllLossBackward0&gt;)|\n",
       "|  1   | 90/125  | tensor(5.4529, device='cuda:0', grad_fn=&lt;NllLossBackward0&gt;)|\n",
       "|  1   | 100/125 | tensor(4.9634, device='cuda:0', grad_fn=&lt;NllLossBackward0&gt;)|\n",
       "|  1   | 110/125 | tensor(5.6437, device='cuda:0', grad_fn=&lt;NllLossBackward0&gt;)|\n",
       "|  1   | 120/125 | tensor(4.9752, device='cuda:0', grad_fn=&lt;NllLossBackward0&gt;)|\n",
       "|  2   |  0/125  | tensor(5.0796, device='cuda:0', grad_fn=&lt;NllLossBackward0&gt;)|\n",
       "|  2   | 10/125  | tensor(5.1159, device='cuda:0', grad_fn=&lt;NllLossBackward0&gt;)|\n",
       "|  2   | 20/125  | tensor(4.9573, device='cuda:0', grad_fn=&lt;NllLossBackward0&gt;)|\n",
       "|  2   | 30/125  | tensor(5.1663, device='cuda:0', grad_fn=&lt;NllLossBackward0&gt;)|\n",
       "|  2   | 40/125  | tensor(4.9444, device='cuda:0', grad_fn=&lt;NllLossBackward0&gt;)|\n",
       "|  2   | 50/125  | tensor(5.2201, device='cuda:0', grad_fn=&lt;NllLossBackward0&gt;)|\n",
       "|  2   | 60/125  | tensor(5.2388, device='cuda:0', grad_fn=&lt;NllLossBackward0&gt;)|\n",
       "|  2   | 70/125  | tensor(4.9634, device='cuda:0', grad_fn=&lt;NllLossBackward0&gt;)|\n",
       "|  2   | 80/125  | tensor(5.2895, device='cuda:0', grad_fn=&lt;NllLossBackward0&gt;)|\n",
       "|  2   | 90/125  | tensor(5.0735, device='cuda:0', grad_fn=&lt;NllLossBackward0&gt;)|\n",
       "+-----------------------------------------------------------------------------+\n",
       "</pre>\n"
      ],
      "text/plain": [
       "\u001b[3m                                Training Status                                \u001b[0m\n",
       "+-----------------------------------------------------------------------------+\n",
       "|\u001b[1mEpoch\u001b[0m\u001b[1m \u001b[0m|\u001b[1m \u001b[0m\u001b[1m Steps \u001b[0m\u001b[1m \u001b[0m|\u001b[1m \u001b[0m\u001b[1m                           Loss                            \u001b[0m|\n",
       "|------+---------+------------------------------------------------------------|\n",
       "|  0   |  0/125  | tensor(6.2060, device='cuda:0', grad_fn=<NllLossBackward0>)|\n",
       "|  0   | 10/125  | tensor(6.0331, device='cuda:0', grad_fn=<NllLossBackward0>)|\n",
       "|  0   | 20/125  | tensor(6.0198, device='cuda:0', grad_fn=<NllLossBackward0>)|\n",
       "|  0   | 30/125  | tensor(6.3243, device='cuda:0', grad_fn=<NllLossBackward0>)|\n",
       "|  0   | 40/125  | tensor(6.0157, device='cuda:0', grad_fn=<NllLossBackward0>)|\n",
       "|  0   | 50/125  | tensor(5.3991, device='cuda:0', grad_fn=<NllLossBackward0>)|\n",
       "|  0   | 60/125  | tensor(5.8357, device='cuda:0', grad_fn=<NllLossBackward0>)|\n",
       "|  0   | 70/125  | tensor(6.0591, device='cuda:0', grad_fn=<NllLossBackward0>)|\n",
       "|  0   | 80/125  | tensor(5.6659, device='cuda:0', grad_fn=<NllLossBackward0>)|\n",
       "|  0   | 90/125  | tensor(5.6208, device='cuda:0', grad_fn=<NllLossBackward0>)|\n",
       "|  0   | 100/125 | tensor(5.3076, device='cuda:0', grad_fn=<NllLossBackward0>)|\n",
       "|  0   | 110/125 | tensor(5.4850, device='cuda:0', grad_fn=<NllLossBackward0>)|\n",
       "|  0   | 120/125 | tensor(5.3753, device='cuda:0', grad_fn=<NllLossBackward0>)|\n",
       "|  1   |  0/125  | tensor(5.7506, device='cuda:0', grad_fn=<NllLossBackward0>)|\n",
       "|  1   | 10/125  | tensor(5.7020, device='cuda:0', grad_fn=<NllLossBackward0>)|\n",
       "|  1   | 20/125  | tensor(5.6206, device='cuda:0', grad_fn=<NllLossBackward0>)|\n",
       "|  1   | 30/125  | tensor(5.5501, device='cuda:0', grad_fn=<NllLossBackward0>)|\n",
       "|  1   | 40/125  | tensor(5.6147, device='cuda:0', grad_fn=<NllLossBackward0>)|\n",
       "|  1   | 50/125  | tensor(5.4470, device='cuda:0', grad_fn=<NllLossBackward0>)|\n",
       "|  1   | 60/125  | tensor(5.4128, device='cuda:0', grad_fn=<NllLossBackward0>)|\n",
       "|  1   | 70/125  | tensor(5.5632, device='cuda:0', grad_fn=<NllLossBackward0>)|\n",
       "|  1   | 80/125  | tensor(5.7657, device='cuda:0', grad_fn=<NllLossBackward0>)|\n",
       "|  1   | 90/125  | tensor(5.4529, device='cuda:0', grad_fn=<NllLossBackward0>)|\n",
       "|  1   | 100/125 | tensor(4.9634, device='cuda:0', grad_fn=<NllLossBackward0>)|\n",
       "|  1   | 110/125 | tensor(5.6437, device='cuda:0', grad_fn=<NllLossBackward0>)|\n",
       "|  1   | 120/125 | tensor(4.9752, device='cuda:0', grad_fn=<NllLossBackward0>)|\n",
       "|  2   |  0/125  | tensor(5.0796, device='cuda:0', grad_fn=<NllLossBackward0>)|\n",
       "|  2   | 10/125  | tensor(5.1159, device='cuda:0', grad_fn=<NllLossBackward0>)|\n",
       "|  2   | 20/125  | tensor(4.9573, device='cuda:0', grad_fn=<NllLossBackward0>)|\n",
       "|  2   | 30/125  | tensor(5.1663, device='cuda:0', grad_fn=<NllLossBackward0>)|\n",
       "|  2   | 40/125  | tensor(4.9444, device='cuda:0', grad_fn=<NllLossBackward0>)|\n",
       "|  2   | 50/125  | tensor(5.2201, device='cuda:0', grad_fn=<NllLossBackward0>)|\n",
       "|  2   | 60/125  | tensor(5.2388, device='cuda:0', grad_fn=<NllLossBackward0>)|\n",
       "|  2   | 70/125  | tensor(4.9634, device='cuda:0', grad_fn=<NllLossBackward0>)|\n",
       "|  2   | 80/125  | tensor(5.2895, device='cuda:0', grad_fn=<NllLossBackward0>)|\n",
       "|  2   | 90/125  | tensor(5.0735, device='cuda:0', grad_fn=<NllLossBackward0>)|\n",
       "+-----------------------------------------------------------------------------+\n"
      ]
     },
     "metadata": {},
     "output_type": "display_data"
    },
    {
     "name": "stdout",
     "output_type": "stream",
     "text": [
      "STEP:  100 / 125\n"
     ]
    },
    {
     "data": {
      "text/html": [
       "<pre style=\"white-space:pre;overflow-x:auto;line-height:normal;font-family:Menlo,'DejaVu Sans Mono',consolas,'Courier New',monospace\"><span style=\"font-style: italic\">                                Training Status                                </span>\n",
       "+-----------------------------------------------------------------------------+\n",
       "|<span style=\"font-weight: bold\">Epoch </span>|<span style=\"font-weight: bold\">  Steps  </span>|<span style=\"font-weight: bold\">                            Loss                            </span>|\n",
       "|------+---------+------------------------------------------------------------|\n",
       "|  0   |  0/125  | tensor(6.2060, device='cuda:0', grad_fn=&lt;NllLossBackward0&gt;)|\n",
       "|  0   | 10/125  | tensor(6.0331, device='cuda:0', grad_fn=&lt;NllLossBackward0&gt;)|\n",
       "|  0   | 20/125  | tensor(6.0198, device='cuda:0', grad_fn=&lt;NllLossBackward0&gt;)|\n",
       "|  0   | 30/125  | tensor(6.3243, device='cuda:0', grad_fn=&lt;NllLossBackward0&gt;)|\n",
       "|  0   | 40/125  | tensor(6.0157, device='cuda:0', grad_fn=&lt;NllLossBackward0&gt;)|\n",
       "|  0   | 50/125  | tensor(5.3991, device='cuda:0', grad_fn=&lt;NllLossBackward0&gt;)|\n",
       "|  0   | 60/125  | tensor(5.8357, device='cuda:0', grad_fn=&lt;NllLossBackward0&gt;)|\n",
       "|  0   | 70/125  | tensor(6.0591, device='cuda:0', grad_fn=&lt;NllLossBackward0&gt;)|\n",
       "|  0   | 80/125  | tensor(5.6659, device='cuda:0', grad_fn=&lt;NllLossBackward0&gt;)|\n",
       "|  0   | 90/125  | tensor(5.6208, device='cuda:0', grad_fn=&lt;NllLossBackward0&gt;)|\n",
       "|  0   | 100/125 | tensor(5.3076, device='cuda:0', grad_fn=&lt;NllLossBackward0&gt;)|\n",
       "|  0   | 110/125 | tensor(5.4850, device='cuda:0', grad_fn=&lt;NllLossBackward0&gt;)|\n",
       "|  0   | 120/125 | tensor(5.3753, device='cuda:0', grad_fn=&lt;NllLossBackward0&gt;)|\n",
       "|  1   |  0/125  | tensor(5.7506, device='cuda:0', grad_fn=&lt;NllLossBackward0&gt;)|\n",
       "|  1   | 10/125  | tensor(5.7020, device='cuda:0', grad_fn=&lt;NllLossBackward0&gt;)|\n",
       "|  1   | 20/125  | tensor(5.6206, device='cuda:0', grad_fn=&lt;NllLossBackward0&gt;)|\n",
       "|  1   | 30/125  | tensor(5.5501, device='cuda:0', grad_fn=&lt;NllLossBackward0&gt;)|\n",
       "|  1   | 40/125  | tensor(5.6147, device='cuda:0', grad_fn=&lt;NllLossBackward0&gt;)|\n",
       "|  1   | 50/125  | tensor(5.4470, device='cuda:0', grad_fn=&lt;NllLossBackward0&gt;)|\n",
       "|  1   | 60/125  | tensor(5.4128, device='cuda:0', grad_fn=&lt;NllLossBackward0&gt;)|\n",
       "|  1   | 70/125  | tensor(5.5632, device='cuda:0', grad_fn=&lt;NllLossBackward0&gt;)|\n",
       "|  1   | 80/125  | tensor(5.7657, device='cuda:0', grad_fn=&lt;NllLossBackward0&gt;)|\n",
       "|  1   | 90/125  | tensor(5.4529, device='cuda:0', grad_fn=&lt;NllLossBackward0&gt;)|\n",
       "|  1   | 100/125 | tensor(4.9634, device='cuda:0', grad_fn=&lt;NllLossBackward0&gt;)|\n",
       "|  1   | 110/125 | tensor(5.6437, device='cuda:0', grad_fn=&lt;NllLossBackward0&gt;)|\n",
       "|  1   | 120/125 | tensor(4.9752, device='cuda:0', grad_fn=&lt;NllLossBackward0&gt;)|\n",
       "|  2   |  0/125  | tensor(5.0796, device='cuda:0', grad_fn=&lt;NllLossBackward0&gt;)|\n",
       "|  2   | 10/125  | tensor(5.1159, device='cuda:0', grad_fn=&lt;NllLossBackward0&gt;)|\n",
       "|  2   | 20/125  | tensor(4.9573, device='cuda:0', grad_fn=&lt;NllLossBackward0&gt;)|\n",
       "|  2   | 30/125  | tensor(5.1663, device='cuda:0', grad_fn=&lt;NllLossBackward0&gt;)|\n",
       "|  2   | 40/125  | tensor(4.9444, device='cuda:0', grad_fn=&lt;NllLossBackward0&gt;)|\n",
       "|  2   | 50/125  | tensor(5.2201, device='cuda:0', grad_fn=&lt;NllLossBackward0&gt;)|\n",
       "|  2   | 60/125  | tensor(5.2388, device='cuda:0', grad_fn=&lt;NllLossBackward0&gt;)|\n",
       "|  2   | 70/125  | tensor(4.9634, device='cuda:0', grad_fn=&lt;NllLossBackward0&gt;)|\n",
       "|  2   | 80/125  | tensor(5.2895, device='cuda:0', grad_fn=&lt;NllLossBackward0&gt;)|\n",
       "|  2   | 90/125  | tensor(5.0735, device='cuda:0', grad_fn=&lt;NllLossBackward0&gt;)|\n",
       "|  2   | 100/125 | tensor(4.9074, device='cuda:0', grad_fn=&lt;NllLossBackward0&gt;)|\n",
       "+-----------------------------------------------------------------------------+\n",
       "</pre>\n"
      ],
      "text/plain": [
       "\u001b[3m                                Training Status                                \u001b[0m\n",
       "+-----------------------------------------------------------------------------+\n",
       "|\u001b[1mEpoch\u001b[0m\u001b[1m \u001b[0m|\u001b[1m \u001b[0m\u001b[1m Steps \u001b[0m\u001b[1m \u001b[0m|\u001b[1m \u001b[0m\u001b[1m                           Loss                            \u001b[0m|\n",
       "|------+---------+------------------------------------------------------------|\n",
       "|  0   |  0/125  | tensor(6.2060, device='cuda:0', grad_fn=<NllLossBackward0>)|\n",
       "|  0   | 10/125  | tensor(6.0331, device='cuda:0', grad_fn=<NllLossBackward0>)|\n",
       "|  0   | 20/125  | tensor(6.0198, device='cuda:0', grad_fn=<NllLossBackward0>)|\n",
       "|  0   | 30/125  | tensor(6.3243, device='cuda:0', grad_fn=<NllLossBackward0>)|\n",
       "|  0   | 40/125  | tensor(6.0157, device='cuda:0', grad_fn=<NllLossBackward0>)|\n",
       "|  0   | 50/125  | tensor(5.3991, device='cuda:0', grad_fn=<NllLossBackward0>)|\n",
       "|  0   | 60/125  | tensor(5.8357, device='cuda:0', grad_fn=<NllLossBackward0>)|\n",
       "|  0   | 70/125  | tensor(6.0591, device='cuda:0', grad_fn=<NllLossBackward0>)|\n",
       "|  0   | 80/125  | tensor(5.6659, device='cuda:0', grad_fn=<NllLossBackward0>)|\n",
       "|  0   | 90/125  | tensor(5.6208, device='cuda:0', grad_fn=<NllLossBackward0>)|\n",
       "|  0   | 100/125 | tensor(5.3076, device='cuda:0', grad_fn=<NllLossBackward0>)|\n",
       "|  0   | 110/125 | tensor(5.4850, device='cuda:0', grad_fn=<NllLossBackward0>)|\n",
       "|  0   | 120/125 | tensor(5.3753, device='cuda:0', grad_fn=<NllLossBackward0>)|\n",
       "|  1   |  0/125  | tensor(5.7506, device='cuda:0', grad_fn=<NllLossBackward0>)|\n",
       "|  1   | 10/125  | tensor(5.7020, device='cuda:0', grad_fn=<NllLossBackward0>)|\n",
       "|  1   | 20/125  | tensor(5.6206, device='cuda:0', grad_fn=<NllLossBackward0>)|\n",
       "|  1   | 30/125  | tensor(5.5501, device='cuda:0', grad_fn=<NllLossBackward0>)|\n",
       "|  1   | 40/125  | tensor(5.6147, device='cuda:0', grad_fn=<NllLossBackward0>)|\n",
       "|  1   | 50/125  | tensor(5.4470, device='cuda:0', grad_fn=<NllLossBackward0>)|\n",
       "|  1   | 60/125  | tensor(5.4128, device='cuda:0', grad_fn=<NllLossBackward0>)|\n",
       "|  1   | 70/125  | tensor(5.5632, device='cuda:0', grad_fn=<NllLossBackward0>)|\n",
       "|  1   | 80/125  | tensor(5.7657, device='cuda:0', grad_fn=<NllLossBackward0>)|\n",
       "|  1   | 90/125  | tensor(5.4529, device='cuda:0', grad_fn=<NllLossBackward0>)|\n",
       "|  1   | 100/125 | tensor(4.9634, device='cuda:0', grad_fn=<NllLossBackward0>)|\n",
       "|  1   | 110/125 | tensor(5.6437, device='cuda:0', grad_fn=<NllLossBackward0>)|\n",
       "|  1   | 120/125 | tensor(4.9752, device='cuda:0', grad_fn=<NllLossBackward0>)|\n",
       "|  2   |  0/125  | tensor(5.0796, device='cuda:0', grad_fn=<NllLossBackward0>)|\n",
       "|  2   | 10/125  | tensor(5.1159, device='cuda:0', grad_fn=<NllLossBackward0>)|\n",
       "|  2   | 20/125  | tensor(4.9573, device='cuda:0', grad_fn=<NllLossBackward0>)|\n",
       "|  2   | 30/125  | tensor(5.1663, device='cuda:0', grad_fn=<NllLossBackward0>)|\n",
       "|  2   | 40/125  | tensor(4.9444, device='cuda:0', grad_fn=<NllLossBackward0>)|\n",
       "|  2   | 50/125  | tensor(5.2201, device='cuda:0', grad_fn=<NllLossBackward0>)|\n",
       "|  2   | 60/125  | tensor(5.2388, device='cuda:0', grad_fn=<NllLossBackward0>)|\n",
       "|  2   | 70/125  | tensor(4.9634, device='cuda:0', grad_fn=<NllLossBackward0>)|\n",
       "|  2   | 80/125  | tensor(5.2895, device='cuda:0', grad_fn=<NllLossBackward0>)|\n",
       "|  2   | 90/125  | tensor(5.0735, device='cuda:0', grad_fn=<NllLossBackward0>)|\n",
       "|  2   | 100/125 | tensor(4.9074, device='cuda:0', grad_fn=<NllLossBackward0>)|\n",
       "+-----------------------------------------------------------------------------+\n"
      ]
     },
     "metadata": {},
     "output_type": "display_data"
    },
    {
     "name": "stdout",
     "output_type": "stream",
     "text": [
      "STEP:  110 / 125\n"
     ]
    },
    {
     "data": {
      "text/html": [
       "<pre style=\"white-space:pre;overflow-x:auto;line-height:normal;font-family:Menlo,'DejaVu Sans Mono',consolas,'Courier New',monospace\"><span style=\"font-style: italic\">                                Training Status                                </span>\n",
       "+-----------------------------------------------------------------------------+\n",
       "|<span style=\"font-weight: bold\">Epoch </span>|<span style=\"font-weight: bold\">  Steps  </span>|<span style=\"font-weight: bold\">                            Loss                            </span>|\n",
       "|------+---------+------------------------------------------------------------|\n",
       "|  0   |  0/125  | tensor(6.2060, device='cuda:0', grad_fn=&lt;NllLossBackward0&gt;)|\n",
       "|  0   | 10/125  | tensor(6.0331, device='cuda:0', grad_fn=&lt;NllLossBackward0&gt;)|\n",
       "|  0   | 20/125  | tensor(6.0198, device='cuda:0', grad_fn=&lt;NllLossBackward0&gt;)|\n",
       "|  0   | 30/125  | tensor(6.3243, device='cuda:0', grad_fn=&lt;NllLossBackward0&gt;)|\n",
       "|  0   | 40/125  | tensor(6.0157, device='cuda:0', grad_fn=&lt;NllLossBackward0&gt;)|\n",
       "|  0   | 50/125  | tensor(5.3991, device='cuda:0', grad_fn=&lt;NllLossBackward0&gt;)|\n",
       "|  0   | 60/125  | tensor(5.8357, device='cuda:0', grad_fn=&lt;NllLossBackward0&gt;)|\n",
       "|  0   | 70/125  | tensor(6.0591, device='cuda:0', grad_fn=&lt;NllLossBackward0&gt;)|\n",
       "|  0   | 80/125  | tensor(5.6659, device='cuda:0', grad_fn=&lt;NllLossBackward0&gt;)|\n",
       "|  0   | 90/125  | tensor(5.6208, device='cuda:0', grad_fn=&lt;NllLossBackward0&gt;)|\n",
       "|  0   | 100/125 | tensor(5.3076, device='cuda:0', grad_fn=&lt;NllLossBackward0&gt;)|\n",
       "|  0   | 110/125 | tensor(5.4850, device='cuda:0', grad_fn=&lt;NllLossBackward0&gt;)|\n",
       "|  0   | 120/125 | tensor(5.3753, device='cuda:0', grad_fn=&lt;NllLossBackward0&gt;)|\n",
       "|  1   |  0/125  | tensor(5.7506, device='cuda:0', grad_fn=&lt;NllLossBackward0&gt;)|\n",
       "|  1   | 10/125  | tensor(5.7020, device='cuda:0', grad_fn=&lt;NllLossBackward0&gt;)|\n",
       "|  1   | 20/125  | tensor(5.6206, device='cuda:0', grad_fn=&lt;NllLossBackward0&gt;)|\n",
       "|  1   | 30/125  | tensor(5.5501, device='cuda:0', grad_fn=&lt;NllLossBackward0&gt;)|\n",
       "|  1   | 40/125  | tensor(5.6147, device='cuda:0', grad_fn=&lt;NllLossBackward0&gt;)|\n",
       "|  1   | 50/125  | tensor(5.4470, device='cuda:0', grad_fn=&lt;NllLossBackward0&gt;)|\n",
       "|  1   | 60/125  | tensor(5.4128, device='cuda:0', grad_fn=&lt;NllLossBackward0&gt;)|\n",
       "|  1   | 70/125  | tensor(5.5632, device='cuda:0', grad_fn=&lt;NllLossBackward0&gt;)|\n",
       "|  1   | 80/125  | tensor(5.7657, device='cuda:0', grad_fn=&lt;NllLossBackward0&gt;)|\n",
       "|  1   | 90/125  | tensor(5.4529, device='cuda:0', grad_fn=&lt;NllLossBackward0&gt;)|\n",
       "|  1   | 100/125 | tensor(4.9634, device='cuda:0', grad_fn=&lt;NllLossBackward0&gt;)|\n",
       "|  1   | 110/125 | tensor(5.6437, device='cuda:0', grad_fn=&lt;NllLossBackward0&gt;)|\n",
       "|  1   | 120/125 | tensor(4.9752, device='cuda:0', grad_fn=&lt;NllLossBackward0&gt;)|\n",
       "|  2   |  0/125  | tensor(5.0796, device='cuda:0', grad_fn=&lt;NllLossBackward0&gt;)|\n",
       "|  2   | 10/125  | tensor(5.1159, device='cuda:0', grad_fn=&lt;NllLossBackward0&gt;)|\n",
       "|  2   | 20/125  | tensor(4.9573, device='cuda:0', grad_fn=&lt;NllLossBackward0&gt;)|\n",
       "|  2   | 30/125  | tensor(5.1663, device='cuda:0', grad_fn=&lt;NllLossBackward0&gt;)|\n",
       "|  2   | 40/125  | tensor(4.9444, device='cuda:0', grad_fn=&lt;NllLossBackward0&gt;)|\n",
       "|  2   | 50/125  | tensor(5.2201, device='cuda:0', grad_fn=&lt;NllLossBackward0&gt;)|\n",
       "|  2   | 60/125  | tensor(5.2388, device='cuda:0', grad_fn=&lt;NllLossBackward0&gt;)|\n",
       "|  2   | 70/125  | tensor(4.9634, device='cuda:0', grad_fn=&lt;NllLossBackward0&gt;)|\n",
       "|  2   | 80/125  | tensor(5.2895, device='cuda:0', grad_fn=&lt;NllLossBackward0&gt;)|\n",
       "|  2   | 90/125  | tensor(5.0735, device='cuda:0', grad_fn=&lt;NllLossBackward0&gt;)|\n",
       "|  2   | 100/125 | tensor(4.9074, device='cuda:0', grad_fn=&lt;NllLossBackward0&gt;)|\n",
       "|  2   | 110/125 | tensor(5.2607, device='cuda:0', grad_fn=&lt;NllLossBackward0&gt;)|\n",
       "+-----------------------------------------------------------------------------+\n",
       "</pre>\n"
      ],
      "text/plain": [
       "\u001b[3m                                Training Status                                \u001b[0m\n",
       "+-----------------------------------------------------------------------------+\n",
       "|\u001b[1mEpoch\u001b[0m\u001b[1m \u001b[0m|\u001b[1m \u001b[0m\u001b[1m Steps \u001b[0m\u001b[1m \u001b[0m|\u001b[1m \u001b[0m\u001b[1m                           Loss                            \u001b[0m|\n",
       "|------+---------+------------------------------------------------------------|\n",
       "|  0   |  0/125  | tensor(6.2060, device='cuda:0', grad_fn=<NllLossBackward0>)|\n",
       "|  0   | 10/125  | tensor(6.0331, device='cuda:0', grad_fn=<NllLossBackward0>)|\n",
       "|  0   | 20/125  | tensor(6.0198, device='cuda:0', grad_fn=<NllLossBackward0>)|\n",
       "|  0   | 30/125  | tensor(6.3243, device='cuda:0', grad_fn=<NllLossBackward0>)|\n",
       "|  0   | 40/125  | tensor(6.0157, device='cuda:0', grad_fn=<NllLossBackward0>)|\n",
       "|  0   | 50/125  | tensor(5.3991, device='cuda:0', grad_fn=<NllLossBackward0>)|\n",
       "|  0   | 60/125  | tensor(5.8357, device='cuda:0', grad_fn=<NllLossBackward0>)|\n",
       "|  0   | 70/125  | tensor(6.0591, device='cuda:0', grad_fn=<NllLossBackward0>)|\n",
       "|  0   | 80/125  | tensor(5.6659, device='cuda:0', grad_fn=<NllLossBackward0>)|\n",
       "|  0   | 90/125  | tensor(5.6208, device='cuda:0', grad_fn=<NllLossBackward0>)|\n",
       "|  0   | 100/125 | tensor(5.3076, device='cuda:0', grad_fn=<NllLossBackward0>)|\n",
       "|  0   | 110/125 | tensor(5.4850, device='cuda:0', grad_fn=<NllLossBackward0>)|\n",
       "|  0   | 120/125 | tensor(5.3753, device='cuda:0', grad_fn=<NllLossBackward0>)|\n",
       "|  1   |  0/125  | tensor(5.7506, device='cuda:0', grad_fn=<NllLossBackward0>)|\n",
       "|  1   | 10/125  | tensor(5.7020, device='cuda:0', grad_fn=<NllLossBackward0>)|\n",
       "|  1   | 20/125  | tensor(5.6206, device='cuda:0', grad_fn=<NllLossBackward0>)|\n",
       "|  1   | 30/125  | tensor(5.5501, device='cuda:0', grad_fn=<NllLossBackward0>)|\n",
       "|  1   | 40/125  | tensor(5.6147, device='cuda:0', grad_fn=<NllLossBackward0>)|\n",
       "|  1   | 50/125  | tensor(5.4470, device='cuda:0', grad_fn=<NllLossBackward0>)|\n",
       "|  1   | 60/125  | tensor(5.4128, device='cuda:0', grad_fn=<NllLossBackward0>)|\n",
       "|  1   | 70/125  | tensor(5.5632, device='cuda:0', grad_fn=<NllLossBackward0>)|\n",
       "|  1   | 80/125  | tensor(5.7657, device='cuda:0', grad_fn=<NllLossBackward0>)|\n",
       "|  1   | 90/125  | tensor(5.4529, device='cuda:0', grad_fn=<NllLossBackward0>)|\n",
       "|  1   | 100/125 | tensor(4.9634, device='cuda:0', grad_fn=<NllLossBackward0>)|\n",
       "|  1   | 110/125 | tensor(5.6437, device='cuda:0', grad_fn=<NllLossBackward0>)|\n",
       "|  1   | 120/125 | tensor(4.9752, device='cuda:0', grad_fn=<NllLossBackward0>)|\n",
       "|  2   |  0/125  | tensor(5.0796, device='cuda:0', grad_fn=<NllLossBackward0>)|\n",
       "|  2   | 10/125  | tensor(5.1159, device='cuda:0', grad_fn=<NllLossBackward0>)|\n",
       "|  2   | 20/125  | tensor(4.9573, device='cuda:0', grad_fn=<NllLossBackward0>)|\n",
       "|  2   | 30/125  | tensor(5.1663, device='cuda:0', grad_fn=<NllLossBackward0>)|\n",
       "|  2   | 40/125  | tensor(4.9444, device='cuda:0', grad_fn=<NllLossBackward0>)|\n",
       "|  2   | 50/125  | tensor(5.2201, device='cuda:0', grad_fn=<NllLossBackward0>)|\n",
       "|  2   | 60/125  | tensor(5.2388, device='cuda:0', grad_fn=<NllLossBackward0>)|\n",
       "|  2   | 70/125  | tensor(4.9634, device='cuda:0', grad_fn=<NllLossBackward0>)|\n",
       "|  2   | 80/125  | tensor(5.2895, device='cuda:0', grad_fn=<NllLossBackward0>)|\n",
       "|  2   | 90/125  | tensor(5.0735, device='cuda:0', grad_fn=<NllLossBackward0>)|\n",
       "|  2   | 100/125 | tensor(4.9074, device='cuda:0', grad_fn=<NllLossBackward0>)|\n",
       "|  2   | 110/125 | tensor(5.2607, device='cuda:0', grad_fn=<NllLossBackward0>)|\n",
       "+-----------------------------------------------------------------------------+\n"
      ]
     },
     "metadata": {},
     "output_type": "display_data"
    },
    {
     "name": "stdout",
     "output_type": "stream",
     "text": [
      "STEP:  120 / 125\n"
     ]
    },
    {
     "data": {
      "text/html": [
       "<pre style=\"white-space:pre;overflow-x:auto;line-height:normal;font-family:Menlo,'DejaVu Sans Mono',consolas,'Courier New',monospace\"><span style=\"font-style: italic\">                                Training Status                                </span>\n",
       "+-----------------------------------------------------------------------------+\n",
       "|<span style=\"font-weight: bold\">Epoch </span>|<span style=\"font-weight: bold\">  Steps  </span>|<span style=\"font-weight: bold\">                            Loss                            </span>|\n",
       "|------+---------+------------------------------------------------------------|\n",
       "|  0   |  0/125  | tensor(6.2060, device='cuda:0', grad_fn=&lt;NllLossBackward0&gt;)|\n",
       "|  0   | 10/125  | tensor(6.0331, device='cuda:0', grad_fn=&lt;NllLossBackward0&gt;)|\n",
       "|  0   | 20/125  | tensor(6.0198, device='cuda:0', grad_fn=&lt;NllLossBackward0&gt;)|\n",
       "|  0   | 30/125  | tensor(6.3243, device='cuda:0', grad_fn=&lt;NllLossBackward0&gt;)|\n",
       "|  0   | 40/125  | tensor(6.0157, device='cuda:0', grad_fn=&lt;NllLossBackward0&gt;)|\n",
       "|  0   | 50/125  | tensor(5.3991, device='cuda:0', grad_fn=&lt;NllLossBackward0&gt;)|\n",
       "|  0   | 60/125  | tensor(5.8357, device='cuda:0', grad_fn=&lt;NllLossBackward0&gt;)|\n",
       "|  0   | 70/125  | tensor(6.0591, device='cuda:0', grad_fn=&lt;NllLossBackward0&gt;)|\n",
       "|  0   | 80/125  | tensor(5.6659, device='cuda:0', grad_fn=&lt;NllLossBackward0&gt;)|\n",
       "|  0   | 90/125  | tensor(5.6208, device='cuda:0', grad_fn=&lt;NllLossBackward0&gt;)|\n",
       "|  0   | 100/125 | tensor(5.3076, device='cuda:0', grad_fn=&lt;NllLossBackward0&gt;)|\n",
       "|  0   | 110/125 | tensor(5.4850, device='cuda:0', grad_fn=&lt;NllLossBackward0&gt;)|\n",
       "|  0   | 120/125 | tensor(5.3753, device='cuda:0', grad_fn=&lt;NllLossBackward0&gt;)|\n",
       "|  1   |  0/125  | tensor(5.7506, device='cuda:0', grad_fn=&lt;NllLossBackward0&gt;)|\n",
       "|  1   | 10/125  | tensor(5.7020, device='cuda:0', grad_fn=&lt;NllLossBackward0&gt;)|\n",
       "|  1   | 20/125  | tensor(5.6206, device='cuda:0', grad_fn=&lt;NllLossBackward0&gt;)|\n",
       "|  1   | 30/125  | tensor(5.5501, device='cuda:0', grad_fn=&lt;NllLossBackward0&gt;)|\n",
       "|  1   | 40/125  | tensor(5.6147, device='cuda:0', grad_fn=&lt;NllLossBackward0&gt;)|\n",
       "|  1   | 50/125  | tensor(5.4470, device='cuda:0', grad_fn=&lt;NllLossBackward0&gt;)|\n",
       "|  1   | 60/125  | tensor(5.4128, device='cuda:0', grad_fn=&lt;NllLossBackward0&gt;)|\n",
       "|  1   | 70/125  | tensor(5.5632, device='cuda:0', grad_fn=&lt;NllLossBackward0&gt;)|\n",
       "|  1   | 80/125  | tensor(5.7657, device='cuda:0', grad_fn=&lt;NllLossBackward0&gt;)|\n",
       "|  1   | 90/125  | tensor(5.4529, device='cuda:0', grad_fn=&lt;NllLossBackward0&gt;)|\n",
       "|  1   | 100/125 | tensor(4.9634, device='cuda:0', grad_fn=&lt;NllLossBackward0&gt;)|\n",
       "|  1   | 110/125 | tensor(5.6437, device='cuda:0', grad_fn=&lt;NllLossBackward0&gt;)|\n",
       "|  1   | 120/125 | tensor(4.9752, device='cuda:0', grad_fn=&lt;NllLossBackward0&gt;)|\n",
       "|  2   |  0/125  | tensor(5.0796, device='cuda:0', grad_fn=&lt;NllLossBackward0&gt;)|\n",
       "|  2   | 10/125  | tensor(5.1159, device='cuda:0', grad_fn=&lt;NllLossBackward0&gt;)|\n",
       "|  2   | 20/125  | tensor(4.9573, device='cuda:0', grad_fn=&lt;NllLossBackward0&gt;)|\n",
       "|  2   | 30/125  | tensor(5.1663, device='cuda:0', grad_fn=&lt;NllLossBackward0&gt;)|\n",
       "|  2   | 40/125  | tensor(4.9444, device='cuda:0', grad_fn=&lt;NllLossBackward0&gt;)|\n",
       "|  2   | 50/125  | tensor(5.2201, device='cuda:0', grad_fn=&lt;NllLossBackward0&gt;)|\n",
       "|  2   | 60/125  | tensor(5.2388, device='cuda:0', grad_fn=&lt;NllLossBackward0&gt;)|\n",
       "|  2   | 70/125  | tensor(4.9634, device='cuda:0', grad_fn=&lt;NllLossBackward0&gt;)|\n",
       "|  2   | 80/125  | tensor(5.2895, device='cuda:0', grad_fn=&lt;NllLossBackward0&gt;)|\n",
       "|  2   | 90/125  | tensor(5.0735, device='cuda:0', grad_fn=&lt;NllLossBackward0&gt;)|\n",
       "|  2   | 100/125 | tensor(4.9074, device='cuda:0', grad_fn=&lt;NllLossBackward0&gt;)|\n",
       "|  2   | 110/125 | tensor(5.2607, device='cuda:0', grad_fn=&lt;NllLossBackward0&gt;)|\n",
       "|  2   | 120/125 | tensor(5.0027, device='cuda:0', grad_fn=&lt;NllLossBackward0&gt;)|\n",
       "+-----------------------------------------------------------------------------+\n",
       "</pre>\n"
      ],
      "text/plain": [
       "\u001b[3m                                Training Status                                \u001b[0m\n",
       "+-----------------------------------------------------------------------------+\n",
       "|\u001b[1mEpoch\u001b[0m\u001b[1m \u001b[0m|\u001b[1m \u001b[0m\u001b[1m Steps \u001b[0m\u001b[1m \u001b[0m|\u001b[1m \u001b[0m\u001b[1m                           Loss                            \u001b[0m|\n",
       "|------+---------+------------------------------------------------------------|\n",
       "|  0   |  0/125  | tensor(6.2060, device='cuda:0', grad_fn=<NllLossBackward0>)|\n",
       "|  0   | 10/125  | tensor(6.0331, device='cuda:0', grad_fn=<NllLossBackward0>)|\n",
       "|  0   | 20/125  | tensor(6.0198, device='cuda:0', grad_fn=<NllLossBackward0>)|\n",
       "|  0   | 30/125  | tensor(6.3243, device='cuda:0', grad_fn=<NllLossBackward0>)|\n",
       "|  0   | 40/125  | tensor(6.0157, device='cuda:0', grad_fn=<NllLossBackward0>)|\n",
       "|  0   | 50/125  | tensor(5.3991, device='cuda:0', grad_fn=<NllLossBackward0>)|\n",
       "|  0   | 60/125  | tensor(5.8357, device='cuda:0', grad_fn=<NllLossBackward0>)|\n",
       "|  0   | 70/125  | tensor(6.0591, device='cuda:0', grad_fn=<NllLossBackward0>)|\n",
       "|  0   | 80/125  | tensor(5.6659, device='cuda:0', grad_fn=<NllLossBackward0>)|\n",
       "|  0   | 90/125  | tensor(5.6208, device='cuda:0', grad_fn=<NllLossBackward0>)|\n",
       "|  0   | 100/125 | tensor(5.3076, device='cuda:0', grad_fn=<NllLossBackward0>)|\n",
       "|  0   | 110/125 | tensor(5.4850, device='cuda:0', grad_fn=<NllLossBackward0>)|\n",
       "|  0   | 120/125 | tensor(5.3753, device='cuda:0', grad_fn=<NllLossBackward0>)|\n",
       "|  1   |  0/125  | tensor(5.7506, device='cuda:0', grad_fn=<NllLossBackward0>)|\n",
       "|  1   | 10/125  | tensor(5.7020, device='cuda:0', grad_fn=<NllLossBackward0>)|\n",
       "|  1   | 20/125  | tensor(5.6206, device='cuda:0', grad_fn=<NllLossBackward0>)|\n",
       "|  1   | 30/125  | tensor(5.5501, device='cuda:0', grad_fn=<NllLossBackward0>)|\n",
       "|  1   | 40/125  | tensor(5.6147, device='cuda:0', grad_fn=<NllLossBackward0>)|\n",
       "|  1   | 50/125  | tensor(5.4470, device='cuda:0', grad_fn=<NllLossBackward0>)|\n",
       "|  1   | 60/125  | tensor(5.4128, device='cuda:0', grad_fn=<NllLossBackward0>)|\n",
       "|  1   | 70/125  | tensor(5.5632, device='cuda:0', grad_fn=<NllLossBackward0>)|\n",
       "|  1   | 80/125  | tensor(5.7657, device='cuda:0', grad_fn=<NllLossBackward0>)|\n",
       "|  1   | 90/125  | tensor(5.4529, device='cuda:0', grad_fn=<NllLossBackward0>)|\n",
       "|  1   | 100/125 | tensor(4.9634, device='cuda:0', grad_fn=<NllLossBackward0>)|\n",
       "|  1   | 110/125 | tensor(5.6437, device='cuda:0', grad_fn=<NllLossBackward0>)|\n",
       "|  1   | 120/125 | tensor(4.9752, device='cuda:0', grad_fn=<NllLossBackward0>)|\n",
       "|  2   |  0/125  | tensor(5.0796, device='cuda:0', grad_fn=<NllLossBackward0>)|\n",
       "|  2   | 10/125  | tensor(5.1159, device='cuda:0', grad_fn=<NllLossBackward0>)|\n",
       "|  2   | 20/125  | tensor(4.9573, device='cuda:0', grad_fn=<NllLossBackward0>)|\n",
       "|  2   | 30/125  | tensor(5.1663, device='cuda:0', grad_fn=<NllLossBackward0>)|\n",
       "|  2   | 40/125  | tensor(4.9444, device='cuda:0', grad_fn=<NllLossBackward0>)|\n",
       "|  2   | 50/125  | tensor(5.2201, device='cuda:0', grad_fn=<NllLossBackward0>)|\n",
       "|  2   | 60/125  | tensor(5.2388, device='cuda:0', grad_fn=<NllLossBackward0>)|\n",
       "|  2   | 70/125  | tensor(4.9634, device='cuda:0', grad_fn=<NllLossBackward0>)|\n",
       "|  2   | 80/125  | tensor(5.2895, device='cuda:0', grad_fn=<NllLossBackward0>)|\n",
       "|  2   | 90/125  | tensor(5.0735, device='cuda:0', grad_fn=<NllLossBackward0>)|\n",
       "|  2   | 100/125 | tensor(4.9074, device='cuda:0', grad_fn=<NllLossBackward0>)|\n",
       "|  2   | 110/125 | tensor(5.2607, device='cuda:0', grad_fn=<NllLossBackward0>)|\n",
       "|  2   | 120/125 | tensor(5.0027, device='cuda:0', grad_fn=<NllLossBackward0>)|\n",
       "+-----------------------------------------------------------------------------+\n"
      ]
     },
     "metadata": {},
     "output_type": "display_data"
    },
    {
     "data": {
      "text/html": [
       "<pre style=\"white-space:pre;overflow-x:auto;line-height:normal;font-family:Menlo,'DejaVu Sans Mono',consolas,'Courier New',monospace\">Completed <span style=\"color: #008080; text-decoration-color: #008080; font-weight: bold\">0</span>\n",
       "</pre>\n"
      ],
      "text/plain": [
       "Completed \u001b[1;36m0\u001b[0m\n"
      ]
     },
     "metadata": {},
     "output_type": "display_data"
    },
    {
     "data": {
      "text/html": [
       "<pre style=\"white-space:pre;overflow-x:auto;line-height:normal;font-family:Menlo,'DejaVu Sans Mono',consolas,'Courier New',monospace\">Completed <span style=\"color: #008080; text-decoration-color: #008080; font-weight: bold\">10</span>\n",
       "</pre>\n"
      ],
      "text/plain": [
       "Completed \u001b[1;36m10\u001b[0m\n"
      ]
     },
     "metadata": {},
     "output_type": "display_data"
    },
    {
     "data": {
      "text/html": [
       "<pre style=\"white-space:pre;overflow-x:auto;line-height:normal;font-family:Menlo,'DejaVu Sans Mono',consolas,'Courier New',monospace\">Completed <span style=\"color: #008080; text-decoration-color: #008080; font-weight: bold\">20</span>\n",
       "</pre>\n"
      ],
      "text/plain": [
       "Completed \u001b[1;36m20\u001b[0m\n"
      ]
     },
     "metadata": {},
     "output_type": "display_data"
    },
    {
     "data": {
      "text/html": [
       "<pre style=\"white-space:pre;overflow-x:auto;line-height:normal;font-family:Menlo,'DejaVu Sans Mono',consolas,'Courier New',monospace\">Completed <span style=\"color: #008080; text-decoration-color: #008080; font-weight: bold\">30</span>\n",
       "</pre>\n"
      ],
      "text/plain": [
       "Completed \u001b[1;36m30\u001b[0m\n"
      ]
     },
     "metadata": {},
     "output_type": "display_data"
    },
    {
     "data": {
      "text/html": [
       "<pre style=\"white-space:pre;overflow-x:auto;line-height:normal;font-family:Menlo,'DejaVu Sans Mono',consolas,'Courier New',monospace\">Completed <span style=\"color: #008080; text-decoration-color: #008080; font-weight: bold\">40</span>\n",
       "</pre>\n"
      ],
      "text/plain": [
       "Completed \u001b[1;36m40\u001b[0m\n"
      ]
     },
     "metadata": {},
     "output_type": "display_data"
    },
    {
     "data": {
      "text/html": [
       "<pre style=\"white-space:pre;overflow-x:auto;line-height:normal;font-family:Menlo,'DejaVu Sans Mono',consolas,'Courier New',monospace\">Completed <span style=\"color: #008080; text-decoration-color: #008080; font-weight: bold\">50</span>\n",
       "</pre>\n"
      ],
      "text/plain": [
       "Completed \u001b[1;36m50\u001b[0m\n"
      ]
     },
     "metadata": {},
     "output_type": "display_data"
    },
    {
     "data": {
      "text/html": [
       "<pre style=\"white-space:pre;overflow-x:auto;line-height:normal;font-family:Menlo,'DejaVu Sans Mono',consolas,'Courier New',monospace\">Completed <span style=\"color: #008080; text-decoration-color: #008080; font-weight: bold\">60</span>\n",
       "</pre>\n"
      ],
      "text/plain": [
       "Completed \u001b[1;36m60\u001b[0m\n"
      ]
     },
     "metadata": {},
     "output_type": "display_data"
    },
    {
     "data": {
      "text/html": [
       "<pre style=\"white-space:pre;overflow-x:auto;line-height:normal;font-family:Menlo,'DejaVu Sans Mono',consolas,'Courier New',monospace\">Completed <span style=\"color: #008080; text-decoration-color: #008080; font-weight: bold\">70</span>\n",
       "</pre>\n"
      ],
      "text/plain": [
       "Completed \u001b[1;36m70\u001b[0m\n"
      ]
     },
     "metadata": {},
     "output_type": "display_data"
    },
    {
     "data": {
      "text/html": [
       "<pre style=\"white-space:pre;overflow-x:auto;line-height:normal;font-family:Menlo,'DejaVu Sans Mono',consolas,'Courier New',monospace\">Completed <span style=\"color: #008080; text-decoration-color: #008080; font-weight: bold\">80</span>\n",
       "</pre>\n"
      ],
      "text/plain": [
       "Completed \u001b[1;36m80\u001b[0m\n"
      ]
     },
     "metadata": {},
     "output_type": "display_data"
    },
    {
     "data": {
      "text/html": [
       "<pre style=\"white-space:pre;overflow-x:auto;line-height:normal;font-family:Menlo,'DejaVu Sans Mono',consolas,'Courier New',monospace\">Completed <span style=\"color: #008080; text-decoration-color: #008080; font-weight: bold\">90</span>\n",
       "</pre>\n"
      ],
      "text/plain": [
       "Completed \u001b[1;36m90\u001b[0m\n"
      ]
     },
     "metadata": {},
     "output_type": "display_data"
    },
    {
     "data": {
      "text/html": [
       "<pre style=\"white-space:pre;overflow-x:auto;line-height:normal;font-family:Menlo,'DejaVu Sans Mono',consolas,'Courier New',monospace\">Completed <span style=\"color: #008080; text-decoration-color: #008080; font-weight: bold\">100</span>\n",
       "</pre>\n"
      ],
      "text/plain": [
       "Completed \u001b[1;36m100\u001b[0m\n"
      ]
     },
     "metadata": {},
     "output_type": "display_data"
    },
    {
     "data": {
      "text/html": [
       "<pre style=\"white-space:pre;overflow-x:auto;line-height:normal;font-family:Menlo,'DejaVu Sans Mono',consolas,'Courier New',monospace\">Completed <span style=\"color: #008080; text-decoration-color: #008080; font-weight: bold\">110</span>\n",
       "</pre>\n"
      ],
      "text/plain": [
       "Completed \u001b[1;36m110\u001b[0m\n"
      ]
     },
     "metadata": {},
     "output_type": "display_data"
    },
    {
     "data": {
      "text/html": [
       "<pre style=\"white-space:pre;overflow-x:auto;line-height:normal;font-family:Menlo,'DejaVu Sans Mono',consolas,'Courier New',monospace\">Completed <span style=\"color: #008080; text-decoration-color: #008080; font-weight: bold\">120</span>\n",
       "</pre>\n"
      ],
      "text/plain": [
       "Completed \u001b[1;36m120\u001b[0m\n"
      ]
     },
     "metadata": {},
     "output_type": "display_data"
    },
    {
     "name": "stdout",
     "output_type": "stream",
     "text": [
      "SAVE TO CSV FINISHED\n",
      "SAVE ROUGE TO CSV FINISHED\n"
     ]
    },
    {
     "data": {
      "text/html": [
       "<pre style=\"white-space:pre;overflow-x:auto;line-height:normal;font-family:Menlo,'DejaVu Sans Mono',consolas,'Courier New',monospace\"><span style=\"color: #7fbfbf; text-decoration-color: #7fbfbf\">[13:41:28] </span><span style=\"font-weight: bold\">[</span>Saving Model<span style=\"font-weight: bold\">]</span><span style=\"color: #808000; text-decoration-color: #808000\">...</span>                    <a href=\"file://C:\\Users\\Public\\Documents\\Wondershare\\CreatorTemp\\ipykernel_12248\\3408253027.py\"><span style=\"color: #7f7f7f; text-decoration-color: #7f7f7f\">CreatorTemp/ipykernel_12248/3408253027.py</span></a><span style=\"color: #7f7f7f; text-decoration-color: #7f7f7f\">:</span><a href=\"file://C:\\Users\\Public\\Documents\\Wondershare\\CreatorTemp\\ipykernel_12248\\3408253027.py#126\"><span style=\"color: #7f7f7f; text-decoration-color: #7f7f7f\">126</span></a>\n",
       "<span style=\"color: #7fbfbf; text-decoration-color: #7fbfbf\">           </span>                                     <span style=\"color: #7f7f7f; text-decoration-color: #7f7f7f\">                                             </span>\n",
       "</pre>\n"
      ],
      "text/plain": [
       "\u001b[2;36m[13:41:28]\u001b[0m\u001b[2;36m \u001b[0m\u001b[1m[\u001b[0mSaving Model\u001b[1m]\u001b[0m\u001b[33m...\u001b[0m                    \u001b]8;id=688728;file://C:\\Users\\Public\\Documents\\Wondershare\\CreatorTemp\\ipykernel_12248\\3408253027.py\u001b\\\u001b[2mCreatorTemp/ipykernel_12248/3408253027.py\u001b[0m\u001b]8;;\u001b\\\u001b[2m:\u001b[0m\u001b]8;id=742733;file://C:\\Users\\Public\\Documents\\Wondershare\\CreatorTemp\\ipykernel_12248\\3408253027.py#126\u001b\\\u001b[2m126\u001b[0m\u001b]8;;\u001b\\\n",
       "\u001b[2;36m           \u001b[0m                                     \u001b[2m                                             \u001b[0m\n"
      ]
     },
     "metadata": {},
     "output_type": "display_data"
    },
    {
     "data": {
      "text/html": [
       "<pre style=\"white-space:pre;overflow-x:auto;line-height:normal;font-family:Menlo,'DejaVu Sans Mono',consolas,'Courier New',monospace\"><span style=\"color: #7fbfbf; text-decoration-color: #7fbfbf\">[13:41:29] </span><span style=\"font-weight: bold\">[</span>Validation Completed.<span style=\"font-weight: bold\">]</span>              <a href=\"file://C:\\Users\\Public\\Documents\\Wondershare\\CreatorTemp\\ipykernel_12248\\3408253027.py\"><span style=\"color: #7f7f7f; text-decoration-color: #7f7f7f\">CreatorTemp/ipykernel_12248/3408253027.py</span></a><span style=\"color: #7f7f7f; text-decoration-color: #7f7f7f\">:</span><a href=\"file://C:\\Users\\Public\\Documents\\Wondershare\\CreatorTemp\\ipykernel_12248\\3408253027.py#138\"><span style=\"color: #7f7f7f; text-decoration-color: #7f7f7f\">138</span></a>\n",
       "<span style=\"color: #7fbfbf; text-decoration-color: #7fbfbf\">           </span>                                     <span style=\"color: #7f7f7f; text-decoration-color: #7f7f7f\">                                             </span>\n",
       "</pre>\n"
      ],
      "text/plain": [
       "\u001b[2;36m[13:41:29]\u001b[0m\u001b[2;36m \u001b[0m\u001b[1m[\u001b[0mValidation Completed.\u001b[1m]\u001b[0m              \u001b]8;id=63577;file://C:\\Users\\Public\\Documents\\Wondershare\\CreatorTemp\\ipykernel_12248\\3408253027.py\u001b\\\u001b[2mCreatorTemp/ipykernel_12248/3408253027.py\u001b[0m\u001b]8;;\u001b\\\u001b[2m:\u001b[0m\u001b]8;id=386060;file://C:\\Users\\Public\\Documents\\Wondershare\\CreatorTemp\\ipykernel_12248\\3408253027.py#138\u001b\\\u001b[2m138\u001b[0m\u001b]8;;\u001b\\\n",
       "\u001b[2;36m           \u001b[0m                                     \u001b[2m                                             \u001b[0m\n"
      ]
     },
     "metadata": {},
     "output_type": "display_data"
    },
    {
     "data": {
      "text/html": [
       "<pre style=\"white-space:pre;overflow-x:auto;line-height:normal;font-family:Menlo,'DejaVu Sans Mono',consolas,'Courier New',monospace\"><span style=\"font-weight: bold\">[</span>Model<span style=\"font-weight: bold\">]</span> Model saved @ C:\\Program Files <span style=\"font-weight: bold\">(</span>x86<span style=\"font-weight: bold\">)</span>\\Projects - \n",
       "Ongoing\\AIT\\NLP\\Project\\nlp-ablation-t5\\experiments\\outputs\\model_files\n",
       "\n",
       "</pre>\n"
      ],
      "text/plain": [
       "\u001b[1m[\u001b[0mModel\u001b[1m]\u001b[0m Model saved @ C:\\Program Files \u001b[1m(\u001b[0mx86\u001b[1m)\u001b[0m\\Projects - \n",
       "Ongoing\\AIT\\NLP\\Project\\nlp-ablation-t5\\experiments\\outputs\\model_files\n",
       "\n"
      ]
     },
     "metadata": {},
     "output_type": "display_data"
    },
    {
     "data": {
      "text/html": [
       "<pre style=\"white-space:pre;overflow-x:auto;line-height:normal;font-family:Menlo,'DejaVu Sans Mono',consolas,'Courier New',monospace\"><span style=\"font-weight: bold\">[</span>Validation<span style=\"font-weight: bold\">]</span> Generation on Validation data saved @ C:\\Program Files <span style=\"font-weight: bold\">(</span>x86<span style=\"font-weight: bold\">)</span>\\Projects - \n",
       "Ongoing\\AIT\\NLP\\Project\\nlp-ablation-t5\\experiments\\outputs\\predictions.csv\n",
       "\n",
       "</pre>\n"
      ],
      "text/plain": [
       "\u001b[1m[\u001b[0mValidation\u001b[1m]\u001b[0m Generation on Validation data saved @ C:\\Program Files \u001b[1m(\u001b[0mx86\u001b[1m)\u001b[0m\\Projects - \n",
       "Ongoing\\AIT\\NLP\\Project\\nlp-ablation-t5\\experiments\\outputs\\predictions.csv\n",
       "\n"
      ]
     },
     "metadata": {},
     "output_type": "display_data"
    },
    {
     "data": {
      "text/html": [
       "<pre style=\"white-space:pre;overflow-x:auto;line-height:normal;font-family:Menlo,'DejaVu Sans Mono',consolas,'Courier New',monospace\"><span style=\"font-weight: bold\">[</span>Logs<span style=\"font-weight: bold\">]</span> Logs saved @ C:\\Program Files <span style=\"font-weight: bold\">(</span>x86<span style=\"font-weight: bold\">)</span>\\Projects - \n",
       "Ongoing\\AIT\\NLP\\Project\\nlp-ablation-t5\\experiments\\outputs\\logs.txt\n",
       "\n",
       "</pre>\n"
      ],
      "text/plain": [
       "\u001b[1m[\u001b[0mLogs\u001b[1m]\u001b[0m Logs saved @ C:\\Program Files \u001b[1m(\u001b[0mx86\u001b[1m)\u001b[0m\\Projects - \n",
       "Ongoing\\AIT\\NLP\\Project\\nlp-ablation-t5\\experiments\\outputs\\logs.txt\n",
       "\n"
      ]
     },
     "metadata": {},
     "output_type": "display_data"
    }
   ],
   "source": [
    "console = Console(record=True)\n",
    "\n",
    "training_logger = Table(\n",
    "    Column(\"Epoch\", justify=\"center\"),\n",
    "    Column(\"Steps\", justify=\"center\"),\n",
    "    Column(\"Loss\", justify=\"center\"),\n",
    "    title=\"Training Status\",\n",
    "    pad_edge=False,\n",
    "    box=box.ASCII,\n",
    ")\n",
    "\n",
    "Trainer(\n",
    "    dataset=dataset,\n",
    "    source_text=source_text, \n",
    "    target_text=target_text,\n",
    "    model_params=model_params,\n",
    "    output_dir=os.getcwd() + '\\outputs\\\\',\n",
    "    device = device,\n",
    ")"
   ]
  },
  {
   "cell_type": "code",
   "execution_count": 13,
   "id": "cfadd612",
   "metadata": {},
   "outputs": [
    {
     "name": "stdout",
     "output_type": "stream",
     "text": [
      "====================== Done =======================\n"
     ]
    }
   ],
   "source": [
    "print(\"====================== Done =======================\")"
   ]
  },
  {
   "cell_type": "code",
   "execution_count": 17,
   "id": "cfa8ddfd",
   "metadata": {},
   "outputs": [
    {
     "data": {
      "text/html": [
       "<div>\n",
       "<style scoped>\n",
       "    .dataframe tbody tr th:only-of-type {\n",
       "        vertical-align: middle;\n",
       "    }\n",
       "\n",
       "    .dataframe tbody tr th {\n",
       "        vertical-align: top;\n",
       "    }\n",
       "\n",
       "    .dataframe thead th {\n",
       "        text-align: right;\n",
       "    }\n",
       "</style>\n",
       "<table border=\"1\" class=\"dataframe\">\n",
       "  <thead>\n",
       "    <tr style=\"text-align: right;\">\n",
       "      <th></th>\n",
       "      <th>Unnamed: 0</th>\n",
       "      <th>0</th>\n",
       "      <th>1</th>\n",
       "      <th>2</th>\n",
       "      <th>3</th>\n",
       "      <th>4</th>\n",
       "      <th>5</th>\n",
       "      <th>6</th>\n",
       "      <th>7</th>\n",
       "      <th>8</th>\n",
       "      <th>...</th>\n",
       "      <th>989</th>\n",
       "      <th>990</th>\n",
       "      <th>991</th>\n",
       "      <th>992</th>\n",
       "      <th>993</th>\n",
       "      <th>994</th>\n",
       "      <th>995</th>\n",
       "      <th>996</th>\n",
       "      <th>997</th>\n",
       "      <th>998</th>\n",
       "    </tr>\n",
       "  </thead>\n",
       "  <tbody>\n",
       "    <tr>\n",
       "      <th>0</th>\n",
       "      <td>precision</td>\n",
       "      <td>0.052632</td>\n",
       "      <td>0.166667</td>\n",
       "      <td>0.133333</td>\n",
       "      <td>0.045455</td>\n",
       "      <td>0.333333</td>\n",
       "      <td>0.120000</td>\n",
       "      <td>0.045455</td>\n",
       "      <td>0.037037</td>\n",
       "      <td>0.136364</td>\n",
       "      <td>...</td>\n",
       "      <td>0.157895</td>\n",
       "      <td>0.200000</td>\n",
       "      <td>0.105263</td>\n",
       "      <td>0.153846</td>\n",
       "      <td>0.137931</td>\n",
       "      <td>0.074074</td>\n",
       "      <td>0.208333</td>\n",
       "      <td>0.115385</td>\n",
       "      <td>0.040000</td>\n",
       "      <td>0.038462</td>\n",
       "    </tr>\n",
       "    <tr>\n",
       "      <th>1</th>\n",
       "      <td>recall</td>\n",
       "      <td>0.035714</td>\n",
       "      <td>0.093750</td>\n",
       "      <td>0.100000</td>\n",
       "      <td>0.041667</td>\n",
       "      <td>0.178571</td>\n",
       "      <td>0.142857</td>\n",
       "      <td>0.033333</td>\n",
       "      <td>0.033333</td>\n",
       "      <td>0.053571</td>\n",
       "      <td>...</td>\n",
       "      <td>0.057692</td>\n",
       "      <td>0.111111</td>\n",
       "      <td>0.066667</td>\n",
       "      <td>0.190476</td>\n",
       "      <td>0.088889</td>\n",
       "      <td>0.200000</td>\n",
       "      <td>0.138889</td>\n",
       "      <td>0.100000</td>\n",
       "      <td>0.025641</td>\n",
       "      <td>0.047619</td>\n",
       "    </tr>\n",
       "    <tr>\n",
       "      <th>2</th>\n",
       "      <td>fmeasure</td>\n",
       "      <td>0.042553</td>\n",
       "      <td>0.120000</td>\n",
       "      <td>0.114286</td>\n",
       "      <td>0.043478</td>\n",
       "      <td>0.232558</td>\n",
       "      <td>0.130435</td>\n",
       "      <td>0.038462</td>\n",
       "      <td>0.035088</td>\n",
       "      <td>0.076923</td>\n",
       "      <td>...</td>\n",
       "      <td>0.084507</td>\n",
       "      <td>0.142857</td>\n",
       "      <td>0.081633</td>\n",
       "      <td>0.170213</td>\n",
       "      <td>0.108108</td>\n",
       "      <td>0.108108</td>\n",
       "      <td>0.166667</td>\n",
       "      <td>0.107143</td>\n",
       "      <td>0.031250</td>\n",
       "      <td>0.042553</td>\n",
       "    </tr>\n",
       "  </tbody>\n",
       "</table>\n",
       "<p>3 rows × 1000 columns</p>\n",
       "</div>"
      ],
      "text/plain": [
       "  Unnamed: 0         0         1         2         3         4         5  \\\n",
       "0  precision  0.052632  0.166667  0.133333  0.045455  0.333333  0.120000   \n",
       "1     recall  0.035714  0.093750  0.100000  0.041667  0.178571  0.142857   \n",
       "2   fmeasure  0.042553  0.120000  0.114286  0.043478  0.232558  0.130435   \n",
       "\n",
       "          6         7         8  ...       989       990       991       992  \\\n",
       "0  0.045455  0.037037  0.136364  ...  0.157895  0.200000  0.105263  0.153846   \n",
       "1  0.033333  0.033333  0.053571  ...  0.057692  0.111111  0.066667  0.190476   \n",
       "2  0.038462  0.035088  0.076923  ...  0.084507  0.142857  0.081633  0.170213   \n",
       "\n",
       "        993       994       995       996       997       998  \n",
       "0  0.137931  0.074074  0.208333  0.115385  0.040000  0.038462  \n",
       "1  0.088889  0.200000  0.138889  0.100000  0.025641  0.047619  \n",
       "2  0.108108  0.108108  0.166667  0.107143  0.031250  0.042553  \n",
       "\n",
       "[3 rows x 1000 columns]"
      ]
     },
     "execution_count": 17,
     "metadata": {},
     "output_type": "execute_result"
    }
   ],
   "source": [
    "import pandas as pd\n",
    "\n",
    "rouge_df = pd.read_csv('outputs/rouge_t5-small_epoch2.csv')\n",
    "\n",
    "rouge_df.head()"
   ]
  },
  {
   "cell_type": "markdown",
   "id": "684972b4",
   "metadata": {},
   "source": [
    "<hr>"
   ]
  },
  {
   "cell_type": "markdown",
   "id": "4cfdcfaf",
   "metadata": {},
   "source": [
    "<a id=\"2\"></a>\n",
    "# 2. Truncating middle tokens with T5 and Xsum"
   ]
  },
  {
   "cell_type": "markdown",
   "id": "f35a983c",
   "metadata": {},
   "source": [
    "Create a dataset class that truncates text data with tokenizer"
   ]
  },
  {
   "cell_type": "code",
   "execution_count": 19,
   "id": "8f63251c",
   "metadata": {},
   "outputs": [],
   "source": [
    "class Truncate_Dataset(Dataset):\n",
    "    \"\"\"\n",
    "    Creating a custom dataset for reading the dataset and\n",
    "    loading it into the dataloader to pass it to the\n",
    "    neural network for finetuning the model\n",
    "\n",
    "    \"\"\"\n",
    "\n",
    "    def __init__(\n",
    "        self, data, tokenizer, model_name, source_len, target_len, source_text, target_text, #train = True,\n",
    "    ):\n",
    "        \"\"\"\n",
    "        Initializes a Dataset class\n",
    "\n",
    "        Args:yo\n",
    "            data: Input data\n",
    "            tokenizer (transformers.tokenizer): Transformers tokenizer\n",
    "            source_len (int): Max length of source text\n",
    "            target_len (int): Max length of target text\n",
    "            source_text (str): column name of source text\n",
    "            target_text (str): column name of target text\n",
    "        \"\"\"\n",
    "        self.tokenizer = tokenizer\n",
    "        self.data = data\n",
    "        self.source_len = source_len\n",
    "        self.summ_len = target_len\n",
    "        \n",
    "        # Xsum contains about 200000+ samples, so lets just take a small portion\n",
    "        self.source_text = self.data[source_text][:1000]\n",
    "        if \"t5\" in model_name:\n",
    "            self.source_text = self.add_prefix(self.source_text)\n",
    "        self.target_text = self.data[target_text][1:1000]\n",
    "\n",
    "    def __len__(self):\n",
    "        \"\"\"returns the length of data\"\"\"\n",
    "\n",
    "        return len(self.target_text)\n",
    "\n",
    "    def __getitem__(self, index):\n",
    "        \"\"\"return the input ids, attention masks and target ids\"\"\"\n",
    "\n",
    "        source_text = str(self.source_text[index])\n",
    "        target_text = str(self.target_text[index])\n",
    "        \n",
    "\n",
    "        # cleaning data so as to ensure data is in string type\n",
    "        source_text = \" \".join(source_text.split())\n",
    "        target_text = \" \".join(target_text.split())\n",
    "\n",
    "        source = self.tokenizer.batch_encode_plus(\n",
    "            [source_text],\n",
    "            max_length=self.source_len,\n",
    "            pad_to_max_length=True,\n",
    "            truncation=True,\n",
    "            padding=\"max_length\",\n",
    "            return_tensors=\"pt\",\n",
    "        )\n",
    "        \n",
    "        # =====================\n",
    "        # Beginning truncation\n",
    "        # select 40% of tokens to the left and 40% to the right of the length of the sentence\n",
    "        left_remove_percent = .4\n",
    "        right_remove_percent = .4\n",
    "        \n",
    "        left = int(left_remove_percent * len(source.input_ids[0]))\n",
    "        right = int(right_remove_percent * len(source.input_ids[0]))\n",
    "\n",
    "        left_selection_ids = source.input_ids[0][:left]\n",
    "        right_selection_ids = source.input_ids[0][-right:]\n",
    "        \n",
    "        \n",
    "        left_attention_mask = source.attention_mask[0][:left]\n",
    "        right_attention_mask = source.attention_mask[0][-right:]\n",
    "        \n",
    "        new_ids = torch.concat([left_selection_ids, right_selection_ids], 0)        \n",
    "        new_masks = torch.concat([left_attention_mask,right_attention_mask], 0)\n",
    "        \n",
    "        new_ids = new_ids.tolist()\n",
    "        new_masks = new_masks.tolist()\n",
    "        \n",
    "        new_encoding = {\n",
    "            'input_ids': torch.Tensor([new_ids]),\n",
    "            'attention_mask': torch.Tensor([new_masks])\n",
    "        }\n",
    "        \n",
    "        # building new encoding\n",
    "        source = tokenization_utils_base.BatchEncoding(new_encoding)\n",
    "        \n",
    "        # =====================\n",
    "        \n",
    "        target = self.tokenizer.batch_encode_plus(\n",
    "            [target_text],\n",
    "            max_length=self.summ_len,\n",
    "            pad_to_max_length=True,\n",
    "            truncation=True,\n",
    "            padding=\"max_length\",\n",
    "            return_tensors=\"pt\",\n",
    "        )\n",
    "\n",
    "        source_ids = source[\"input_ids\"].squeeze()\n",
    "        source_mask = source[\"attention_mask\"].squeeze()\n",
    "        target_ids = target[\"input_ids\"].squeeze()\n",
    "        target_mask = target[\"attention_mask\"].squeeze()\n",
    "\n",
    "        return {\n",
    "            \"source_ids\": source_ids.to(dtype=torch.long),\n",
    "            \"source_mask\": source_mask.to(dtype=torch.long),\n",
    "            \"target_ids\": target_ids.to(dtype=torch.long),\n",
    "            \"target_ids_y\": target_ids.to(dtype=torch.long),\n",
    "        }\n",
    "    \n",
    "    def add_prefix(self, examples):\n",
    "        prefix = \"summarize: \"\n",
    "        inputs = [prefix + doc for doc in examples]\n",
    "        return inputs"
   ]
  },
  {
   "cell_type": "code",
   "execution_count": 12,
   "id": "86509e82",
   "metadata": {},
   "outputs": [],
   "source": [
    "def Truncate_Trainer(\n",
    "    dataset, source_text, target_text, model_params, output_dir=\"outputs/\", device = \"cuda\"\n",
    "):\n",
    "\n",
    "    \"\"\"\n",
    "    trainer\n",
    "\n",
    "    \"\"\"\n",
    "    \n",
    "    losses = []\n",
    "    \n",
    "    # Set random seeds and deterministic pytorch for reproducibility\n",
    "    torch.manual_seed(model_params[\"SEED\"])  # pytorch random seed\n",
    "    np.random.seed(model_params[\"SEED\"])  # numpy random seed\n",
    "    torch.backends.cudnn.deterministic = True\n",
    "\n",
    "    # logging\n",
    "    console.log(f\"\"\"[Model]: Loading {model_params[\"MODEL\"]}...\\n\"\"\")\n",
    "\n",
    "    # Defining the model. We are using t5-base model and added a Language model layer on top for generation of Summary.\n",
    "    # tokenzier for encoding the text\n",
    "    # Further this model is sent to device (GPU/TPU) for using the hardware.\n",
    "    if \"bart\" in model_params[\"MODEL\"]:\n",
    "        tokenizer = BartTokenizer.from_pretrained(f'facebook/{model_params[\"MODEL\"]}')\n",
    "        model = BartForConditionalGeneration.from_pretrained(f'facebook/{model_params[\"MODEL\"]}')\n",
    "    elif \"t5\" in model_params[\"MODEL\"]:\n",
    "        tokenizer = T5Tokenizer.from_pretrained(model_params[\"MODEL\"])\n",
    "        model = T5ForConditionalGeneration.from_pretrained(model_params[\"MODEL\"])\n",
    "    elif \"pegasus\" in model_params[\"MODEL\"]:\n",
    "        tokenizer = PegasusTokenizer.from_pretrained(f'google/{model_params[\"MODEL\"]}')\n",
    "        model = PegasusForConditionalGeneration.from_pretrained(f'google/{model_params[\"MODEL\"]}')\n",
    "    else:\n",
    "        raise ValueError(\"Undefined model\")\n",
    "        \n",
    "    model = model.to(device)\n",
    "\n",
    "    # logging\n",
    "    console.log(f\"[Data]: Reading data...\\n\")\n",
    "\n",
    "    # Creation of Dataset and Dataloader\n",
    "    train_dataset = dataset[\"train\"]\n",
    "    val_dataset = dataset[\"validation\"]\n",
    "    \n",
    "    console.print(f\"FULL Dataset: {dataset.shape}\")\n",
    "    console.print(f\"TRAIN Dataset: {train_dataset.shape}\")\n",
    "    console.print(f\"TEST Dataset: {val_dataset.shape}\\n\")\n",
    "    \n",
    "    del dataset\n",
    "    \n",
    "    # Creating the Training and Validation dataset for further creation of Dataloader\n",
    "    training_set = Truncate_Dataset(\n",
    "        train_dataset,\n",
    "        tokenizer,\n",
    "        model_params[\"MODEL\"],\n",
    "        model_params[\"MAX_SOURCE_TEXT_LENGTH\"],\n",
    "        model_params[\"MAX_TARGET_TEXT_LENGTH\"],\n",
    "        source_text,\n",
    "        target_text,\n",
    "#         train = True,\n",
    "    )\n",
    "    val_set = Truncate_Dataset(\n",
    "        val_dataset,\n",
    "        tokenizer,\n",
    "        model_params[\"MODEL\"],\n",
    "        model_params[\"MAX_SOURCE_TEXT_LENGTH\"],\n",
    "        model_params[\"MAX_TARGET_TEXT_LENGTH\"],\n",
    "        source_text,\n",
    "        target_text,\n",
    "#         train = False,\n",
    "    )\n",
    "    \n",
    "    del train_dataset, val_dataset\n",
    "    \n",
    "    # Defining the parameters for creation of dataloaders\n",
    "    train_params = {\n",
    "        \"batch_size\": model_params[\"TRAIN_BATCH_SIZE\"],\n",
    "        \"shuffle\": True,\n",
    "        \"num_workers\": 0,\n",
    "    }\n",
    "\n",
    "    val_params = {\n",
    "        \"batch_size\": model_params[\"VALID_BATCH_SIZE\"],\n",
    "        \"shuffle\": False,\n",
    "        \"num_workers\": 0,\n",
    "    }\n",
    "\n",
    "    # Creation of Dataloaders for testing and validation. This will be used down for training and validation stage for the model.\n",
    "    training_loader = DataLoader(training_set, **train_params)\n",
    "    val_loader = DataLoader(val_set, **val_params)\n",
    "    \n",
    "    print(\"TRAIN LOADER: \", len(training_loader))\n",
    "    print(\"VAL LOADER: \", len(val_loader))\n",
    "    \n",
    "    del train_params, val_params\n",
    "    \n",
    "    # Defining the optimizer that will be used to tune the weights of the network in the training session.\n",
    "    optimizer = torch.optim.Adam(\n",
    "        params=model.parameters(), lr=model_params[\"LEARNING_RATE\"]\n",
    "    )\n",
    "    \n",
    "    if model_params[\"SCHEDULER\"] == \"linear\":\n",
    "        scheduler = torch.optim.lr_scheduler.LinearLR(optimizer)\n",
    "    \n",
    "    # Training loop\n",
    "    console.log(f\"[Initiating Fine Tuning]...\\n\")\n",
    "\n",
    "    for epoch in range(model_params[\"TRAIN_EPOCHS\"]):\n",
    "\n",
    "        loss = train(epoch, tokenizer, model, device, training_loader, optimizer, scheduler)\n",
    "        losses.append(loss.cpu().numpy())\n",
    "\n",
    "        # evaluating test dataset        \n",
    "        predictions, actuals = validate(epoch, tokenizer, model, device, val_loader)\n",
    "        \n",
    "        final_df = pd.DataFrame({\"Generated Text\": predictions, \"Actual Text\": actuals})\n",
    "        final_df.to_csv(os.path.join(output_dir, f\"\"\"head+tail_predictions_{model_params['MODEL']}_epoch{epoch}.csv\"\"\"))\n",
    "        print(\"SAVE TO CSV FINISHED\")\n",
    "        \n",
    "        \n",
    "        rouge = compute_metrics(predictions, actuals, tokenizer)\n",
    "        \n",
    "        rouge_df = pd.DataFrame.from_dict(rouge, orient='index')\n",
    "        rouge_df.to_csv(os.path.join(output_dir, f\"\"\"head+tail_rouge_{model_params['MODEL']}_epoch{epoch}.csv\"\"\"))\n",
    "        print(\"SAVE ROUGE TO CSV FINISHED\")\n",
    "    \n",
    "    console.log(f\"[Saving Model]...\\n\")\n",
    "    # Saving the model after training\n",
    "    path = os.path.join(output_dir, \"model_files\")\n",
    "    model.save_pretrained(path)\n",
    "    tokenizer.save_pretrained(path)\n",
    "    \n",
    "    # converting list to array\n",
    "    arr = np.array(losses)\n",
    "    np.save(os.path.join(output_dir, f\"\"\"head+tail_losses_{model_params['MODEL']}_epoch{model_params['TRAIN_EPOCHS']}\"\"\"), arr)\n",
    "\n",
    "    console.save_text(os.path.join(output_dir, \"logs.txt\"))\n",
    "\n",
    "    console.log(f\"[Validation Completed.]\\n\")\n",
    "    console.print(\n",
    "        f\"\"\"[Model] Model saved @ {os.path.join(output_dir, \"model_files\")}\\n\"\"\"\n",
    "    )\n",
    "    console.print(\n",
    "        f\"\"\"[Validation] Generation on Validation data saved @ {os.path.join(output_dir,'predictions.csv')}\\n\"\"\"\n",
    "    )\n",
    "    console.print(f\"\"\"[Logs] Logs saved @ {os.path.join(output_dir,'logs.txt')}\\n\"\"\")"
   ]
  },
  {
   "cell_type": "code",
   "execution_count": 13,
   "id": "e6f26af0",
   "metadata": {},
   "outputs": [
    {
     "data": {
      "text/html": [
       "<pre style=\"white-space:pre;overflow-x:auto;line-height:normal;font-family:Menlo,'DejaVu Sans Mono',consolas,'Courier New',monospace\"><span style=\"color: #7fbfbf; text-decoration-color: #7fbfbf\">[18:48:13] </span><span style=\"font-weight: bold\">[</span>Model<span style=\"font-weight: bold\">]</span>: Loading t5-small<span style=\"color: #808000; text-decoration-color: #808000\">...</span>            <a href=\"file://C:\\Users\\Public\\Documents\\Wondershare\\CreatorTemp\\ipykernel_3020\\922985184.py\"><span style=\"color: #7f7f7f; text-decoration-color: #7f7f7f\">CreatorTemp/ipykernel_3020/922985184.py</span></a><span style=\"color: #7f7f7f; text-decoration-color: #7f7f7f\">:</span><a href=\"file://C:\\Users\\Public\\Documents\\Wondershare\\CreatorTemp\\ipykernel_3020\\922985184.py#18\"><span style=\"color: #7f7f7f; text-decoration-color: #7f7f7f\">18</span></a>\n",
       "<span style=\"color: #7fbfbf; text-decoration-color: #7fbfbf\">           </span>                                        <span style=\"color: #7f7f7f; text-decoration-color: #7f7f7f\">                                          </span>\n",
       "</pre>\n"
      ],
      "text/plain": [
       "\u001b[2;36m[18:48:13]\u001b[0m\u001b[2;36m \u001b[0m\u001b[1m[\u001b[0mModel\u001b[1m]\u001b[0m: Loading t5-small\u001b[33m...\u001b[0m            \u001b]8;id=812513;file://C:\\Users\\Public\\Documents\\Wondershare\\CreatorTemp\\ipykernel_3020\\922985184.py\u001b\\\u001b[2mCreatorTemp/ipykernel_3020/922985184.py\u001b[0m\u001b]8;;\u001b\\\u001b[2m:\u001b[0m\u001b]8;id=304328;file://C:\\Users\\Public\\Documents\\Wondershare\\CreatorTemp\\ipykernel_3020\\922985184.py#18\u001b\\\u001b[2m18\u001b[0m\u001b]8;;\u001b\\\n",
       "\u001b[2;36m           \u001b[0m                                        \u001b[2m                                          \u001b[0m\n"
      ]
     },
     "metadata": {},
     "output_type": "display_data"
    },
    {
     "data": {
      "text/html": [
       "<pre style=\"white-space:pre;overflow-x:auto;line-height:normal;font-family:Menlo,'DejaVu Sans Mono',consolas,'Courier New',monospace\"><span style=\"color: #7fbfbf; text-decoration-color: #7fbfbf\">[18:48:24] </span><span style=\"font-weight: bold\">[</span>Data<span style=\"font-weight: bold\">]</span>: Reading data<span style=\"color: #808000; text-decoration-color: #808000\">...</span>                 <a href=\"file://C:\\Users\\Public\\Documents\\Wondershare\\CreatorTemp\\ipykernel_3020\\922985184.py\"><span style=\"color: #7f7f7f; text-decoration-color: #7f7f7f\">CreatorTemp/ipykernel_3020/922985184.py</span></a><span style=\"color: #7f7f7f; text-decoration-color: #7f7f7f\">:</span><a href=\"file://C:\\Users\\Public\\Documents\\Wondershare\\CreatorTemp\\ipykernel_3020\\922985184.py#38\"><span style=\"color: #7f7f7f; text-decoration-color: #7f7f7f\">38</span></a>\n",
       "<span style=\"color: #7fbfbf; text-decoration-color: #7fbfbf\">           </span>                                        <span style=\"color: #7f7f7f; text-decoration-color: #7f7f7f\">                                          </span>\n",
       "</pre>\n"
      ],
      "text/plain": [
       "\u001b[2;36m[18:48:24]\u001b[0m\u001b[2;36m \u001b[0m\u001b[1m[\u001b[0mData\u001b[1m]\u001b[0m: Reading data\u001b[33m...\u001b[0m                 \u001b]8;id=11782;file://C:\\Users\\Public\\Documents\\Wondershare\\CreatorTemp\\ipykernel_3020\\922985184.py\u001b\\\u001b[2mCreatorTemp/ipykernel_3020/922985184.py\u001b[0m\u001b]8;;\u001b\\\u001b[2m:\u001b[0m\u001b]8;id=978333;file://C:\\Users\\Public\\Documents\\Wondershare\\CreatorTemp\\ipykernel_3020\\922985184.py#38\u001b\\\u001b[2m38\u001b[0m\u001b]8;;\u001b\\\n",
       "\u001b[2;36m           \u001b[0m                                        \u001b[2m                                          \u001b[0m\n"
      ]
     },
     "metadata": {},
     "output_type": "display_data"
    },
    {
     "data": {
      "text/html": [
       "<pre style=\"white-space:pre;overflow-x:auto;line-height:normal;font-family:Menlo,'DejaVu Sans Mono',consolas,'Courier New',monospace\">FULL Dataset: <span style=\"font-weight: bold\">{</span><span style=\"color: #008000; text-decoration-color: #008000\">'train'</span>: <span style=\"font-weight: bold\">(</span><span style=\"color: #008080; text-decoration-color: #008080; font-weight: bold\">204045</span>, <span style=\"color: #008080; text-decoration-color: #008080; font-weight: bold\">3</span><span style=\"font-weight: bold\">)</span>, <span style=\"color: #008000; text-decoration-color: #008000\">'validation'</span>: <span style=\"font-weight: bold\">(</span><span style=\"color: #008080; text-decoration-color: #008080; font-weight: bold\">11332</span>, <span style=\"color: #008080; text-decoration-color: #008080; font-weight: bold\">3</span><span style=\"font-weight: bold\">)</span>, <span style=\"color: #008000; text-decoration-color: #008000\">'test'</span>: <span style=\"font-weight: bold\">(</span><span style=\"color: #008080; text-decoration-color: #008080; font-weight: bold\">11334</span>, <span style=\"color: #008080; text-decoration-color: #008080; font-weight: bold\">3</span><span style=\"font-weight: bold\">)}</span>\n",
       "</pre>\n"
      ],
      "text/plain": [
       "FULL Dataset: \u001b[1m{\u001b[0m\u001b[32m'train'\u001b[0m: \u001b[1m(\u001b[0m\u001b[1;36m204045\u001b[0m, \u001b[1;36m3\u001b[0m\u001b[1m)\u001b[0m, \u001b[32m'validation'\u001b[0m: \u001b[1m(\u001b[0m\u001b[1;36m11332\u001b[0m, \u001b[1;36m3\u001b[0m\u001b[1m)\u001b[0m, \u001b[32m'test'\u001b[0m: \u001b[1m(\u001b[0m\u001b[1;36m11334\u001b[0m, \u001b[1;36m3\u001b[0m\u001b[1m)\u001b[0m\u001b[1m}\u001b[0m\n"
      ]
     },
     "metadata": {},
     "output_type": "display_data"
    },
    {
     "data": {
      "text/html": [
       "<pre style=\"white-space:pre;overflow-x:auto;line-height:normal;font-family:Menlo,'DejaVu Sans Mono',consolas,'Courier New',monospace\">TRAIN Dataset: <span style=\"font-weight: bold\">(</span><span style=\"color: #008080; text-decoration-color: #008080; font-weight: bold\">204045</span>, <span style=\"color: #008080; text-decoration-color: #008080; font-weight: bold\">3</span><span style=\"font-weight: bold\">)</span>\n",
       "</pre>\n"
      ],
      "text/plain": [
       "TRAIN Dataset: \u001b[1m(\u001b[0m\u001b[1;36m204045\u001b[0m, \u001b[1;36m3\u001b[0m\u001b[1m)\u001b[0m\n"
      ]
     },
     "metadata": {},
     "output_type": "display_data"
    },
    {
     "data": {
      "text/html": [
       "<pre style=\"white-space:pre;overflow-x:auto;line-height:normal;font-family:Menlo,'DejaVu Sans Mono',consolas,'Courier New',monospace\">TEST Dataset: <span style=\"font-weight: bold\">(</span><span style=\"color: #008080; text-decoration-color: #008080; font-weight: bold\">11332</span>, <span style=\"color: #008080; text-decoration-color: #008080; font-weight: bold\">3</span><span style=\"font-weight: bold\">)</span>\n",
       "\n",
       "</pre>\n"
      ],
      "text/plain": [
       "TEST Dataset: \u001b[1m(\u001b[0m\u001b[1;36m11332\u001b[0m, \u001b[1;36m3\u001b[0m\u001b[1m)\u001b[0m\n",
       "\n"
      ]
     },
     "metadata": {},
     "output_type": "display_data"
    },
    {
     "name": "stdout",
     "output_type": "stream",
     "text": [
      "TRAIN LOADER:  125\n",
      "VAL LOADER:  125\n"
     ]
    },
    {
     "data": {
      "text/html": [
       "<pre style=\"white-space:pre;overflow-x:auto;line-height:normal;font-family:Menlo,'DejaVu Sans Mono',consolas,'Courier New',monospace\"><span style=\"color: #7fbfbf; text-decoration-color: #7fbfbf\">[18:48:25] </span><span style=\"font-weight: bold\">[</span>Initiating Fine Tuning<span style=\"font-weight: bold\">]</span><span style=\"color: #808000; text-decoration-color: #808000\">...</span>            <a href=\"file://C:\\Users\\Public\\Documents\\Wondershare\\CreatorTemp\\ipykernel_3020\\922985184.py\"><span style=\"color: #7f7f7f; text-decoration-color: #7f7f7f\">CreatorTemp/ipykernel_3020/922985184.py</span></a><span style=\"color: #7f7f7f; text-decoration-color: #7f7f7f\">:</span><a href=\"file://C:\\Users\\Public\\Documents\\Wondershare\\CreatorTemp\\ipykernel_3020\\922985184.py#105\"><span style=\"color: #7f7f7f; text-decoration-color: #7f7f7f\">105</span></a>\n",
       "<span style=\"color: #7fbfbf; text-decoration-color: #7fbfbf\">           </span>                                       <span style=\"color: #7f7f7f; text-decoration-color: #7f7f7f\">                                           </span>\n",
       "</pre>\n"
      ],
      "text/plain": [
       "\u001b[2;36m[18:48:25]\u001b[0m\u001b[2;36m \u001b[0m\u001b[1m[\u001b[0mInitiating Fine Tuning\u001b[1m]\u001b[0m\u001b[33m...\u001b[0m            \u001b]8;id=513684;file://C:\\Users\\Public\\Documents\\Wondershare\\CreatorTemp\\ipykernel_3020\\922985184.py\u001b\\\u001b[2mCreatorTemp/ipykernel_3020/922985184.py\u001b[0m\u001b]8;;\u001b\\\u001b[2m:\u001b[0m\u001b]8;id=82796;file://C:\\Users\\Public\\Documents\\Wondershare\\CreatorTemp\\ipykernel_3020\\922985184.py#105\u001b\\\u001b[2m105\u001b[0m\u001b]8;;\u001b\\\n",
       "\u001b[2;36m           \u001b[0m                                       \u001b[2m                                           \u001b[0m\n"
      ]
     },
     "metadata": {},
     "output_type": "display_data"
    },
    {
     "name": "stdout",
     "output_type": "stream",
     "text": [
      "STEP:  0 / 125\n"
     ]
    },
    {
     "data": {
      "text/html": [
       "<pre style=\"white-space:pre;overflow-x:auto;line-height:normal;font-family:Menlo,'DejaVu Sans Mono',consolas,'Courier New',monospace\"><span style=\"font-style: italic\">                               Training Status                               </span>\n",
       "+---------------------------------------------------------------------------+\n",
       "|<span style=\"font-weight: bold\">Epoch </span>|<span style=\"font-weight: bold\"> Steps </span>|<span style=\"font-weight: bold\">                            Loss                            </span>|\n",
       "|------+-------+------------------------------------------------------------|\n",
       "|  0   | 0/125 | tensor(6.2194, device='cuda:0', grad_fn=&lt;NllLossBackward0&gt;)|\n",
       "+---------------------------------------------------------------------------+\n",
       "</pre>\n"
      ],
      "text/plain": [
       "\u001b[3m                               Training Status                               \u001b[0m\n",
       "+---------------------------------------------------------------------------+\n",
       "|\u001b[1mEpoch\u001b[0m\u001b[1m \u001b[0m|\u001b[1m \u001b[0m\u001b[1mSteps\u001b[0m\u001b[1m \u001b[0m|\u001b[1m \u001b[0m\u001b[1m                           Loss                            \u001b[0m|\n",
       "|------+-------+------------------------------------------------------------|\n",
       "|  0   | 0/125 | tensor(6.2194, device='cuda:0', grad_fn=<NllLossBackward0>)|\n",
       "+---------------------------------------------------------------------------+\n"
      ]
     },
     "metadata": {},
     "output_type": "display_data"
    },
    {
     "name": "stdout",
     "output_type": "stream",
     "text": [
      "STEP:  10 / 125\n"
     ]
    },
    {
     "data": {
      "text/html": [
       "<pre style=\"white-space:pre;overflow-x:auto;line-height:normal;font-family:Menlo,'DejaVu Sans Mono',consolas,'Courier New',monospace\"><span style=\"font-style: italic\">                               Training Status                                </span>\n",
       "+----------------------------------------------------------------------------+\n",
       "|<span style=\"font-weight: bold\">Epoch </span>|<span style=\"font-weight: bold\"> Steps  </span>|<span style=\"font-weight: bold\">                            Loss                            </span>|\n",
       "|------+--------+------------------------------------------------------------|\n",
       "|  0   | 0/125  | tensor(6.2194, device='cuda:0', grad_fn=&lt;NllLossBackward0&gt;)|\n",
       "|  0   | 10/125 | tensor(5.9434, device='cuda:0', grad_fn=&lt;NllLossBackward0&gt;)|\n",
       "+----------------------------------------------------------------------------+\n",
       "</pre>\n"
      ],
      "text/plain": [
       "\u001b[3m                               Training Status                                \u001b[0m\n",
       "+----------------------------------------------------------------------------+\n",
       "|\u001b[1mEpoch\u001b[0m\u001b[1m \u001b[0m|\u001b[1m \u001b[0m\u001b[1mSteps \u001b[0m\u001b[1m \u001b[0m|\u001b[1m \u001b[0m\u001b[1m                           Loss                            \u001b[0m|\n",
       "|------+--------+------------------------------------------------------------|\n",
       "|  0   | 0/125  | tensor(6.2194, device='cuda:0', grad_fn=<NllLossBackward0>)|\n",
       "|  0   | 10/125 | tensor(5.9434, device='cuda:0', grad_fn=<NllLossBackward0>)|\n",
       "+----------------------------------------------------------------------------+\n"
      ]
     },
     "metadata": {},
     "output_type": "display_data"
    },
    {
     "name": "stdout",
     "output_type": "stream",
     "text": [
      "STEP:  20 / 125\n"
     ]
    },
    {
     "data": {
      "text/html": [
       "<pre style=\"white-space:pre;overflow-x:auto;line-height:normal;font-family:Menlo,'DejaVu Sans Mono',consolas,'Courier New',monospace\"><span style=\"font-style: italic\">                               Training Status                                </span>\n",
       "+----------------------------------------------------------------------------+\n",
       "|<span style=\"font-weight: bold\">Epoch </span>|<span style=\"font-weight: bold\"> Steps  </span>|<span style=\"font-weight: bold\">                            Loss                            </span>|\n",
       "|------+--------+------------------------------------------------------------|\n",
       "|  0   | 0/125  | tensor(6.2194, device='cuda:0', grad_fn=&lt;NllLossBackward0&gt;)|\n",
       "|  0   | 10/125 | tensor(5.9434, device='cuda:0', grad_fn=&lt;NllLossBackward0&gt;)|\n",
       "|  0   | 20/125 | tensor(6.3498, device='cuda:0', grad_fn=&lt;NllLossBackward0&gt;)|\n",
       "+----------------------------------------------------------------------------+\n",
       "</pre>\n"
      ],
      "text/plain": [
       "\u001b[3m                               Training Status                                \u001b[0m\n",
       "+----------------------------------------------------------------------------+\n",
       "|\u001b[1mEpoch\u001b[0m\u001b[1m \u001b[0m|\u001b[1m \u001b[0m\u001b[1mSteps \u001b[0m\u001b[1m \u001b[0m|\u001b[1m \u001b[0m\u001b[1m                           Loss                            \u001b[0m|\n",
       "|------+--------+------------------------------------------------------------|\n",
       "|  0   | 0/125  | tensor(6.2194, device='cuda:0', grad_fn=<NllLossBackward0>)|\n",
       "|  0   | 10/125 | tensor(5.9434, device='cuda:0', grad_fn=<NllLossBackward0>)|\n",
       "|  0   | 20/125 | tensor(6.3498, device='cuda:0', grad_fn=<NllLossBackward0>)|\n",
       "+----------------------------------------------------------------------------+\n"
      ]
     },
     "metadata": {},
     "output_type": "display_data"
    },
    {
     "name": "stdout",
     "output_type": "stream",
     "text": [
      "STEP:  30 / 125\n"
     ]
    },
    {
     "data": {
      "text/html": [
       "<pre style=\"white-space:pre;overflow-x:auto;line-height:normal;font-family:Menlo,'DejaVu Sans Mono',consolas,'Courier New',monospace\"><span style=\"font-style: italic\">                               Training Status                                </span>\n",
       "+----------------------------------------------------------------------------+\n",
       "|<span style=\"font-weight: bold\">Epoch </span>|<span style=\"font-weight: bold\"> Steps  </span>|<span style=\"font-weight: bold\">                            Loss                            </span>|\n",
       "|------+--------+------------------------------------------------------------|\n",
       "|  0   | 0/125  | tensor(6.2194, device='cuda:0', grad_fn=&lt;NllLossBackward0&gt;)|\n",
       "|  0   | 10/125 | tensor(5.9434, device='cuda:0', grad_fn=&lt;NllLossBackward0&gt;)|\n",
       "|  0   | 20/125 | tensor(6.3498, device='cuda:0', grad_fn=&lt;NllLossBackward0&gt;)|\n",
       "|  0   | 30/125 | tensor(6.2160, device='cuda:0', grad_fn=&lt;NllLossBackward0&gt;)|\n",
       "+----------------------------------------------------------------------------+\n",
       "</pre>\n"
      ],
      "text/plain": [
       "\u001b[3m                               Training Status                                \u001b[0m\n",
       "+----------------------------------------------------------------------------+\n",
       "|\u001b[1mEpoch\u001b[0m\u001b[1m \u001b[0m|\u001b[1m \u001b[0m\u001b[1mSteps \u001b[0m\u001b[1m \u001b[0m|\u001b[1m \u001b[0m\u001b[1m                           Loss                            \u001b[0m|\n",
       "|------+--------+------------------------------------------------------------|\n",
       "|  0   | 0/125  | tensor(6.2194, device='cuda:0', grad_fn=<NllLossBackward0>)|\n",
       "|  0   | 10/125 | tensor(5.9434, device='cuda:0', grad_fn=<NllLossBackward0>)|\n",
       "|  0   | 20/125 | tensor(6.3498, device='cuda:0', grad_fn=<NllLossBackward0>)|\n",
       "|  0   | 30/125 | tensor(6.2160, device='cuda:0', grad_fn=<NllLossBackward0>)|\n",
       "+----------------------------------------------------------------------------+\n"
      ]
     },
     "metadata": {},
     "output_type": "display_data"
    },
    {
     "name": "stdout",
     "output_type": "stream",
     "text": [
      "STEP:  40 / 125\n"
     ]
    },
    {
     "data": {
      "text/html": [
       "<pre style=\"white-space:pre;overflow-x:auto;line-height:normal;font-family:Menlo,'DejaVu Sans Mono',consolas,'Courier New',monospace\"><span style=\"font-style: italic\">                               Training Status                                </span>\n",
       "+----------------------------------------------------------------------------+\n",
       "|<span style=\"font-weight: bold\">Epoch </span>|<span style=\"font-weight: bold\"> Steps  </span>|<span style=\"font-weight: bold\">                            Loss                            </span>|\n",
       "|------+--------+------------------------------------------------------------|\n",
       "|  0   | 0/125  | tensor(6.2194, device='cuda:0', grad_fn=&lt;NllLossBackward0&gt;)|\n",
       "|  0   | 10/125 | tensor(5.9434, device='cuda:0', grad_fn=&lt;NllLossBackward0&gt;)|\n",
       "|  0   | 20/125 | tensor(6.3498, device='cuda:0', grad_fn=&lt;NllLossBackward0&gt;)|\n",
       "|  0   | 30/125 | tensor(6.2160, device='cuda:0', grad_fn=&lt;NllLossBackward0&gt;)|\n",
       "|  0   | 40/125 | tensor(6.1416, device='cuda:0', grad_fn=&lt;NllLossBackward0&gt;)|\n",
       "+----------------------------------------------------------------------------+\n",
       "</pre>\n"
      ],
      "text/plain": [
       "\u001b[3m                               Training Status                                \u001b[0m\n",
       "+----------------------------------------------------------------------------+\n",
       "|\u001b[1mEpoch\u001b[0m\u001b[1m \u001b[0m|\u001b[1m \u001b[0m\u001b[1mSteps \u001b[0m\u001b[1m \u001b[0m|\u001b[1m \u001b[0m\u001b[1m                           Loss                            \u001b[0m|\n",
       "|------+--------+------------------------------------------------------------|\n",
       "|  0   | 0/125  | tensor(6.2194, device='cuda:0', grad_fn=<NllLossBackward0>)|\n",
       "|  0   | 10/125 | tensor(5.9434, device='cuda:0', grad_fn=<NllLossBackward0>)|\n",
       "|  0   | 20/125 | tensor(6.3498, device='cuda:0', grad_fn=<NllLossBackward0>)|\n",
       "|  0   | 30/125 | tensor(6.2160, device='cuda:0', grad_fn=<NllLossBackward0>)|\n",
       "|  0   | 40/125 | tensor(6.1416, device='cuda:0', grad_fn=<NllLossBackward0>)|\n",
       "+----------------------------------------------------------------------------+\n"
      ]
     },
     "metadata": {},
     "output_type": "display_data"
    },
    {
     "name": "stdout",
     "output_type": "stream",
     "text": [
      "STEP:  50 / 125\n"
     ]
    },
    {
     "data": {
      "text/html": [
       "<pre style=\"white-space:pre;overflow-x:auto;line-height:normal;font-family:Menlo,'DejaVu Sans Mono',consolas,'Courier New',monospace\"><span style=\"font-style: italic\">                               Training Status                                </span>\n",
       "+----------------------------------------------------------------------------+\n",
       "|<span style=\"font-weight: bold\">Epoch </span>|<span style=\"font-weight: bold\"> Steps  </span>|<span style=\"font-weight: bold\">                            Loss                            </span>|\n",
       "|------+--------+------------------------------------------------------------|\n",
       "|  0   | 0/125  | tensor(6.2194, device='cuda:0', grad_fn=&lt;NllLossBackward0&gt;)|\n",
       "|  0   | 10/125 | tensor(5.9434, device='cuda:0', grad_fn=&lt;NllLossBackward0&gt;)|\n",
       "|  0   | 20/125 | tensor(6.3498, device='cuda:0', grad_fn=&lt;NllLossBackward0&gt;)|\n",
       "|  0   | 30/125 | tensor(6.2160, device='cuda:0', grad_fn=&lt;NllLossBackward0&gt;)|\n",
       "|  0   | 40/125 | tensor(6.1416, device='cuda:0', grad_fn=&lt;NllLossBackward0&gt;)|\n",
       "|  0   | 50/125 | tensor(5.5193, device='cuda:0', grad_fn=&lt;NllLossBackward0&gt;)|\n",
       "+----------------------------------------------------------------------------+\n",
       "</pre>\n"
      ],
      "text/plain": [
       "\u001b[3m                               Training Status                                \u001b[0m\n",
       "+----------------------------------------------------------------------------+\n",
       "|\u001b[1mEpoch\u001b[0m\u001b[1m \u001b[0m|\u001b[1m \u001b[0m\u001b[1mSteps \u001b[0m\u001b[1m \u001b[0m|\u001b[1m \u001b[0m\u001b[1m                           Loss                            \u001b[0m|\n",
       "|------+--------+------------------------------------------------------------|\n",
       "|  0   | 0/125  | tensor(6.2194, device='cuda:0', grad_fn=<NllLossBackward0>)|\n",
       "|  0   | 10/125 | tensor(5.9434, device='cuda:0', grad_fn=<NllLossBackward0>)|\n",
       "|  0   | 20/125 | tensor(6.3498, device='cuda:0', grad_fn=<NllLossBackward0>)|\n",
       "|  0   | 30/125 | tensor(6.2160, device='cuda:0', grad_fn=<NllLossBackward0>)|\n",
       "|  0   | 40/125 | tensor(6.1416, device='cuda:0', grad_fn=<NllLossBackward0>)|\n",
       "|  0   | 50/125 | tensor(5.5193, device='cuda:0', grad_fn=<NllLossBackward0>)|\n",
       "+----------------------------------------------------------------------------+\n"
      ]
     },
     "metadata": {},
     "output_type": "display_data"
    },
    {
     "name": "stdout",
     "output_type": "stream",
     "text": [
      "STEP:  60 / 125\n"
     ]
    },
    {
     "data": {
      "text/html": [
       "<pre style=\"white-space:pre;overflow-x:auto;line-height:normal;font-family:Menlo,'DejaVu Sans Mono',consolas,'Courier New',monospace\"><span style=\"font-style: italic\">                               Training Status                                </span>\n",
       "+----------------------------------------------------------------------------+\n",
       "|<span style=\"font-weight: bold\">Epoch </span>|<span style=\"font-weight: bold\"> Steps  </span>|<span style=\"font-weight: bold\">                            Loss                            </span>|\n",
       "|------+--------+------------------------------------------------------------|\n",
       "|  0   | 0/125  | tensor(6.2194, device='cuda:0', grad_fn=&lt;NllLossBackward0&gt;)|\n",
       "|  0   | 10/125 | tensor(5.9434, device='cuda:0', grad_fn=&lt;NllLossBackward0&gt;)|\n",
       "|  0   | 20/125 | tensor(6.3498, device='cuda:0', grad_fn=&lt;NllLossBackward0&gt;)|\n",
       "|  0   | 30/125 | tensor(6.2160, device='cuda:0', grad_fn=&lt;NllLossBackward0&gt;)|\n",
       "|  0   | 40/125 | tensor(6.1416, device='cuda:0', grad_fn=&lt;NllLossBackward0&gt;)|\n",
       "|  0   | 50/125 | tensor(5.5193, device='cuda:0', grad_fn=&lt;NllLossBackward0&gt;)|\n",
       "|  0   | 60/125 | tensor(5.8637, device='cuda:0', grad_fn=&lt;NllLossBackward0&gt;)|\n",
       "+----------------------------------------------------------------------------+\n",
       "</pre>\n"
      ],
      "text/plain": [
       "\u001b[3m                               Training Status                                \u001b[0m\n",
       "+----------------------------------------------------------------------------+\n",
       "|\u001b[1mEpoch\u001b[0m\u001b[1m \u001b[0m|\u001b[1m \u001b[0m\u001b[1mSteps \u001b[0m\u001b[1m \u001b[0m|\u001b[1m \u001b[0m\u001b[1m                           Loss                            \u001b[0m|\n",
       "|------+--------+------------------------------------------------------------|\n",
       "|  0   | 0/125  | tensor(6.2194, device='cuda:0', grad_fn=<NllLossBackward0>)|\n",
       "|  0   | 10/125 | tensor(5.9434, device='cuda:0', grad_fn=<NllLossBackward0>)|\n",
       "|  0   | 20/125 | tensor(6.3498, device='cuda:0', grad_fn=<NllLossBackward0>)|\n",
       "|  0   | 30/125 | tensor(6.2160, device='cuda:0', grad_fn=<NllLossBackward0>)|\n",
       "|  0   | 40/125 | tensor(6.1416, device='cuda:0', grad_fn=<NllLossBackward0>)|\n",
       "|  0   | 50/125 | tensor(5.5193, device='cuda:0', grad_fn=<NllLossBackward0>)|\n",
       "|  0   | 60/125 | tensor(5.8637, device='cuda:0', grad_fn=<NllLossBackward0>)|\n",
       "+----------------------------------------------------------------------------+\n"
      ]
     },
     "metadata": {},
     "output_type": "display_data"
    },
    {
     "name": "stdout",
     "output_type": "stream",
     "text": [
      "STEP:  70 / 125\n"
     ]
    },
    {
     "data": {
      "text/html": [
       "<pre style=\"white-space:pre;overflow-x:auto;line-height:normal;font-family:Menlo,'DejaVu Sans Mono',consolas,'Courier New',monospace\"><span style=\"font-style: italic\">                               Training Status                                </span>\n",
       "+----------------------------------------------------------------------------+\n",
       "|<span style=\"font-weight: bold\">Epoch </span>|<span style=\"font-weight: bold\"> Steps  </span>|<span style=\"font-weight: bold\">                            Loss                            </span>|\n",
       "|------+--------+------------------------------------------------------------|\n",
       "|  0   | 0/125  | tensor(6.2194, device='cuda:0', grad_fn=&lt;NllLossBackward0&gt;)|\n",
       "|  0   | 10/125 | tensor(5.9434, device='cuda:0', grad_fn=&lt;NllLossBackward0&gt;)|\n",
       "|  0   | 20/125 | tensor(6.3498, device='cuda:0', grad_fn=&lt;NllLossBackward0&gt;)|\n",
       "|  0   | 30/125 | tensor(6.2160, device='cuda:0', grad_fn=&lt;NllLossBackward0&gt;)|\n",
       "|  0   | 40/125 | tensor(6.1416, device='cuda:0', grad_fn=&lt;NllLossBackward0&gt;)|\n",
       "|  0   | 50/125 | tensor(5.5193, device='cuda:0', grad_fn=&lt;NllLossBackward0&gt;)|\n",
       "|  0   | 60/125 | tensor(5.8637, device='cuda:0', grad_fn=&lt;NllLossBackward0&gt;)|\n",
       "|  0   | 70/125 | tensor(6.2125, device='cuda:0', grad_fn=&lt;NllLossBackward0&gt;)|\n",
       "+----------------------------------------------------------------------------+\n",
       "</pre>\n"
      ],
      "text/plain": [
       "\u001b[3m                               Training Status                                \u001b[0m\n",
       "+----------------------------------------------------------------------------+\n",
       "|\u001b[1mEpoch\u001b[0m\u001b[1m \u001b[0m|\u001b[1m \u001b[0m\u001b[1mSteps \u001b[0m\u001b[1m \u001b[0m|\u001b[1m \u001b[0m\u001b[1m                           Loss                            \u001b[0m|\n",
       "|------+--------+------------------------------------------------------------|\n",
       "|  0   | 0/125  | tensor(6.2194, device='cuda:0', grad_fn=<NllLossBackward0>)|\n",
       "|  0   | 10/125 | tensor(5.9434, device='cuda:0', grad_fn=<NllLossBackward0>)|\n",
       "|  0   | 20/125 | tensor(6.3498, device='cuda:0', grad_fn=<NllLossBackward0>)|\n",
       "|  0   | 30/125 | tensor(6.2160, device='cuda:0', grad_fn=<NllLossBackward0>)|\n",
       "|  0   | 40/125 | tensor(6.1416, device='cuda:0', grad_fn=<NllLossBackward0>)|\n",
       "|  0   | 50/125 | tensor(5.5193, device='cuda:0', grad_fn=<NllLossBackward0>)|\n",
       "|  0   | 60/125 | tensor(5.8637, device='cuda:0', grad_fn=<NllLossBackward0>)|\n",
       "|  0   | 70/125 | tensor(6.2125, device='cuda:0', grad_fn=<NllLossBackward0>)|\n",
       "+----------------------------------------------------------------------------+\n"
      ]
     },
     "metadata": {},
     "output_type": "display_data"
    },
    {
     "name": "stdout",
     "output_type": "stream",
     "text": [
      "STEP:  80 / 125\n"
     ]
    },
    {
     "data": {
      "text/html": [
       "<pre style=\"white-space:pre;overflow-x:auto;line-height:normal;font-family:Menlo,'DejaVu Sans Mono',consolas,'Courier New',monospace\"><span style=\"font-style: italic\">                               Training Status                                </span>\n",
       "+----------------------------------------------------------------------------+\n",
       "|<span style=\"font-weight: bold\">Epoch </span>|<span style=\"font-weight: bold\"> Steps  </span>|<span style=\"font-weight: bold\">                            Loss                            </span>|\n",
       "|------+--------+------------------------------------------------------------|\n",
       "|  0   | 0/125  | tensor(6.2194, device='cuda:0', grad_fn=&lt;NllLossBackward0&gt;)|\n",
       "|  0   | 10/125 | tensor(5.9434, device='cuda:0', grad_fn=&lt;NllLossBackward0&gt;)|\n",
       "|  0   | 20/125 | tensor(6.3498, device='cuda:0', grad_fn=&lt;NllLossBackward0&gt;)|\n",
       "|  0   | 30/125 | tensor(6.2160, device='cuda:0', grad_fn=&lt;NllLossBackward0&gt;)|\n",
       "|  0   | 40/125 | tensor(6.1416, device='cuda:0', grad_fn=&lt;NllLossBackward0&gt;)|\n",
       "|  0   | 50/125 | tensor(5.5193, device='cuda:0', grad_fn=&lt;NllLossBackward0&gt;)|\n",
       "|  0   | 60/125 | tensor(5.8637, device='cuda:0', grad_fn=&lt;NllLossBackward0&gt;)|\n",
       "|  0   | 70/125 | tensor(6.2125, device='cuda:0', grad_fn=&lt;NllLossBackward0&gt;)|\n",
       "|  0   | 80/125 | tensor(5.9123, device='cuda:0', grad_fn=&lt;NllLossBackward0&gt;)|\n",
       "+----------------------------------------------------------------------------+\n",
       "</pre>\n"
      ],
      "text/plain": [
       "\u001b[3m                               Training Status                                \u001b[0m\n",
       "+----------------------------------------------------------------------------+\n",
       "|\u001b[1mEpoch\u001b[0m\u001b[1m \u001b[0m|\u001b[1m \u001b[0m\u001b[1mSteps \u001b[0m\u001b[1m \u001b[0m|\u001b[1m \u001b[0m\u001b[1m                           Loss                            \u001b[0m|\n",
       "|------+--------+------------------------------------------------------------|\n",
       "|  0   | 0/125  | tensor(6.2194, device='cuda:0', grad_fn=<NllLossBackward0>)|\n",
       "|  0   | 10/125 | tensor(5.9434, device='cuda:0', grad_fn=<NllLossBackward0>)|\n",
       "|  0   | 20/125 | tensor(6.3498, device='cuda:0', grad_fn=<NllLossBackward0>)|\n",
       "|  0   | 30/125 | tensor(6.2160, device='cuda:0', grad_fn=<NllLossBackward0>)|\n",
       "|  0   | 40/125 | tensor(6.1416, device='cuda:0', grad_fn=<NllLossBackward0>)|\n",
       "|  0   | 50/125 | tensor(5.5193, device='cuda:0', grad_fn=<NllLossBackward0>)|\n",
       "|  0   | 60/125 | tensor(5.8637, device='cuda:0', grad_fn=<NllLossBackward0>)|\n",
       "|  0   | 70/125 | tensor(6.2125, device='cuda:0', grad_fn=<NllLossBackward0>)|\n",
       "|  0   | 80/125 | tensor(5.9123, device='cuda:0', grad_fn=<NllLossBackward0>)|\n",
       "+----------------------------------------------------------------------------+\n"
      ]
     },
     "metadata": {},
     "output_type": "display_data"
    },
    {
     "name": "stdout",
     "output_type": "stream",
     "text": [
      "STEP:  90 / 125\n"
     ]
    },
    {
     "data": {
      "text/html": [
       "<pre style=\"white-space:pre;overflow-x:auto;line-height:normal;font-family:Menlo,'DejaVu Sans Mono',consolas,'Courier New',monospace\"><span style=\"font-style: italic\">                               Training Status                                </span>\n",
       "+----------------------------------------------------------------------------+\n",
       "|<span style=\"font-weight: bold\">Epoch </span>|<span style=\"font-weight: bold\"> Steps  </span>|<span style=\"font-weight: bold\">                            Loss                            </span>|\n",
       "|------+--------+------------------------------------------------------------|\n",
       "|  0   | 0/125  | tensor(6.2194, device='cuda:0', grad_fn=&lt;NllLossBackward0&gt;)|\n",
       "|  0   | 10/125 | tensor(5.9434, device='cuda:0', grad_fn=&lt;NllLossBackward0&gt;)|\n",
       "|  0   | 20/125 | tensor(6.3498, device='cuda:0', grad_fn=&lt;NllLossBackward0&gt;)|\n",
       "|  0   | 30/125 | tensor(6.2160, device='cuda:0', grad_fn=&lt;NllLossBackward0&gt;)|\n",
       "|  0   | 40/125 | tensor(6.1416, device='cuda:0', grad_fn=&lt;NllLossBackward0&gt;)|\n",
       "|  0   | 50/125 | tensor(5.5193, device='cuda:0', grad_fn=&lt;NllLossBackward0&gt;)|\n",
       "|  0   | 60/125 | tensor(5.8637, device='cuda:0', grad_fn=&lt;NllLossBackward0&gt;)|\n",
       "|  0   | 70/125 | tensor(6.2125, device='cuda:0', grad_fn=&lt;NllLossBackward0&gt;)|\n",
       "|  0   | 80/125 | tensor(5.9123, device='cuda:0', grad_fn=&lt;NllLossBackward0&gt;)|\n",
       "|  0   | 90/125 | tensor(5.6646, device='cuda:0', grad_fn=&lt;NllLossBackward0&gt;)|\n",
       "+----------------------------------------------------------------------------+\n",
       "</pre>\n"
      ],
      "text/plain": [
       "\u001b[3m                               Training Status                                \u001b[0m\n",
       "+----------------------------------------------------------------------------+\n",
       "|\u001b[1mEpoch\u001b[0m\u001b[1m \u001b[0m|\u001b[1m \u001b[0m\u001b[1mSteps \u001b[0m\u001b[1m \u001b[0m|\u001b[1m \u001b[0m\u001b[1m                           Loss                            \u001b[0m|\n",
       "|------+--------+------------------------------------------------------------|\n",
       "|  0   | 0/125  | tensor(6.2194, device='cuda:0', grad_fn=<NllLossBackward0>)|\n",
       "|  0   | 10/125 | tensor(5.9434, device='cuda:0', grad_fn=<NllLossBackward0>)|\n",
       "|  0   | 20/125 | tensor(6.3498, device='cuda:0', grad_fn=<NllLossBackward0>)|\n",
       "|  0   | 30/125 | tensor(6.2160, device='cuda:0', grad_fn=<NllLossBackward0>)|\n",
       "|  0   | 40/125 | tensor(6.1416, device='cuda:0', grad_fn=<NllLossBackward0>)|\n",
       "|  0   | 50/125 | tensor(5.5193, device='cuda:0', grad_fn=<NllLossBackward0>)|\n",
       "|  0   | 60/125 | tensor(5.8637, device='cuda:0', grad_fn=<NllLossBackward0>)|\n",
       "|  0   | 70/125 | tensor(6.2125, device='cuda:0', grad_fn=<NllLossBackward0>)|\n",
       "|  0   | 80/125 | tensor(5.9123, device='cuda:0', grad_fn=<NllLossBackward0>)|\n",
       "|  0   | 90/125 | tensor(5.6646, device='cuda:0', grad_fn=<NllLossBackward0>)|\n",
       "+----------------------------------------------------------------------------+\n"
      ]
     },
     "metadata": {},
     "output_type": "display_data"
    },
    {
     "name": "stdout",
     "output_type": "stream",
     "text": [
      "STEP:  100 / 125\n"
     ]
    },
    {
     "data": {
      "text/html": [
       "<pre style=\"white-space:pre;overflow-x:auto;line-height:normal;font-family:Menlo,'DejaVu Sans Mono',consolas,'Courier New',monospace\"><span style=\"font-style: italic\">                                Training Status                                </span>\n",
       "+-----------------------------------------------------------------------------+\n",
       "|<span style=\"font-weight: bold\">Epoch </span>|<span style=\"font-weight: bold\">  Steps  </span>|<span style=\"font-weight: bold\">                            Loss                            </span>|\n",
       "|------+---------+------------------------------------------------------------|\n",
       "|  0   |  0/125  | tensor(6.2194, device='cuda:0', grad_fn=&lt;NllLossBackward0&gt;)|\n",
       "|  0   | 10/125  | tensor(5.9434, device='cuda:0', grad_fn=&lt;NllLossBackward0&gt;)|\n",
       "|  0   | 20/125  | tensor(6.3498, device='cuda:0', grad_fn=&lt;NllLossBackward0&gt;)|\n",
       "|  0   | 30/125  | tensor(6.2160, device='cuda:0', grad_fn=&lt;NllLossBackward0&gt;)|\n",
       "|  0   | 40/125  | tensor(6.1416, device='cuda:0', grad_fn=&lt;NllLossBackward0&gt;)|\n",
       "|  0   | 50/125  | tensor(5.5193, device='cuda:0', grad_fn=&lt;NllLossBackward0&gt;)|\n",
       "|  0   | 60/125  | tensor(5.8637, device='cuda:0', grad_fn=&lt;NllLossBackward0&gt;)|\n",
       "|  0   | 70/125  | tensor(6.2125, device='cuda:0', grad_fn=&lt;NllLossBackward0&gt;)|\n",
       "|  0   | 80/125  | tensor(5.9123, device='cuda:0', grad_fn=&lt;NllLossBackward0&gt;)|\n",
       "|  0   | 90/125  | tensor(5.6646, device='cuda:0', grad_fn=&lt;NllLossBackward0&gt;)|\n",
       "|  0   | 100/125 | tensor(5.3036, device='cuda:0', grad_fn=&lt;NllLossBackward0&gt;)|\n",
       "+-----------------------------------------------------------------------------+\n",
       "</pre>\n"
      ],
      "text/plain": [
       "\u001b[3m                                Training Status                                \u001b[0m\n",
       "+-----------------------------------------------------------------------------+\n",
       "|\u001b[1mEpoch\u001b[0m\u001b[1m \u001b[0m|\u001b[1m \u001b[0m\u001b[1m Steps \u001b[0m\u001b[1m \u001b[0m|\u001b[1m \u001b[0m\u001b[1m                           Loss                            \u001b[0m|\n",
       "|------+---------+------------------------------------------------------------|\n",
       "|  0   |  0/125  | tensor(6.2194, device='cuda:0', grad_fn=<NllLossBackward0>)|\n",
       "|  0   | 10/125  | tensor(5.9434, device='cuda:0', grad_fn=<NllLossBackward0>)|\n",
       "|  0   | 20/125  | tensor(6.3498, device='cuda:0', grad_fn=<NllLossBackward0>)|\n",
       "|  0   | 30/125  | tensor(6.2160, device='cuda:0', grad_fn=<NllLossBackward0>)|\n",
       "|  0   | 40/125  | tensor(6.1416, device='cuda:0', grad_fn=<NllLossBackward0>)|\n",
       "|  0   | 50/125  | tensor(5.5193, device='cuda:0', grad_fn=<NllLossBackward0>)|\n",
       "|  0   | 60/125  | tensor(5.8637, device='cuda:0', grad_fn=<NllLossBackward0>)|\n",
       "|  0   | 70/125  | tensor(6.2125, device='cuda:0', grad_fn=<NllLossBackward0>)|\n",
       "|  0   | 80/125  | tensor(5.9123, device='cuda:0', grad_fn=<NllLossBackward0>)|\n",
       "|  0   | 90/125  | tensor(5.6646, device='cuda:0', grad_fn=<NllLossBackward0>)|\n",
       "|  0   | 100/125 | tensor(5.3036, device='cuda:0', grad_fn=<NllLossBackward0>)|\n",
       "+-----------------------------------------------------------------------------+\n"
      ]
     },
     "metadata": {},
     "output_type": "display_data"
    },
    {
     "name": "stdout",
     "output_type": "stream",
     "text": [
      "STEP:  110 / 125\n"
     ]
    },
    {
     "data": {
      "text/html": [
       "<pre style=\"white-space:pre;overflow-x:auto;line-height:normal;font-family:Menlo,'DejaVu Sans Mono',consolas,'Courier New',monospace\"><span style=\"font-style: italic\">                                Training Status                                </span>\n",
       "+-----------------------------------------------------------------------------+\n",
       "|<span style=\"font-weight: bold\">Epoch </span>|<span style=\"font-weight: bold\">  Steps  </span>|<span style=\"font-weight: bold\">                            Loss                            </span>|\n",
       "|------+---------+------------------------------------------------------------|\n",
       "|  0   |  0/125  | tensor(6.2194, device='cuda:0', grad_fn=&lt;NllLossBackward0&gt;)|\n",
       "|  0   | 10/125  | tensor(5.9434, device='cuda:0', grad_fn=&lt;NllLossBackward0&gt;)|\n",
       "|  0   | 20/125  | tensor(6.3498, device='cuda:0', grad_fn=&lt;NllLossBackward0&gt;)|\n",
       "|  0   | 30/125  | tensor(6.2160, device='cuda:0', grad_fn=&lt;NllLossBackward0&gt;)|\n",
       "|  0   | 40/125  | tensor(6.1416, device='cuda:0', grad_fn=&lt;NllLossBackward0&gt;)|\n",
       "|  0   | 50/125  | tensor(5.5193, device='cuda:0', grad_fn=&lt;NllLossBackward0&gt;)|\n",
       "|  0   | 60/125  | tensor(5.8637, device='cuda:0', grad_fn=&lt;NllLossBackward0&gt;)|\n",
       "|  0   | 70/125  | tensor(6.2125, device='cuda:0', grad_fn=&lt;NllLossBackward0&gt;)|\n",
       "|  0   | 80/125  | tensor(5.9123, device='cuda:0', grad_fn=&lt;NllLossBackward0&gt;)|\n",
       "|  0   | 90/125  | tensor(5.6646, device='cuda:0', grad_fn=&lt;NllLossBackward0&gt;)|\n",
       "|  0   | 100/125 | tensor(5.3036, device='cuda:0', grad_fn=&lt;NllLossBackward0&gt;)|\n",
       "|  0   | 110/125 | tensor(5.3769, device='cuda:0', grad_fn=&lt;NllLossBackward0&gt;)|\n",
       "+-----------------------------------------------------------------------------+\n",
       "</pre>\n"
      ],
      "text/plain": [
       "\u001b[3m                                Training Status                                \u001b[0m\n",
       "+-----------------------------------------------------------------------------+\n",
       "|\u001b[1mEpoch\u001b[0m\u001b[1m \u001b[0m|\u001b[1m \u001b[0m\u001b[1m Steps \u001b[0m\u001b[1m \u001b[0m|\u001b[1m \u001b[0m\u001b[1m                           Loss                            \u001b[0m|\n",
       "|------+---------+------------------------------------------------------------|\n",
       "|  0   |  0/125  | tensor(6.2194, device='cuda:0', grad_fn=<NllLossBackward0>)|\n",
       "|  0   | 10/125  | tensor(5.9434, device='cuda:0', grad_fn=<NllLossBackward0>)|\n",
       "|  0   | 20/125  | tensor(6.3498, device='cuda:0', grad_fn=<NllLossBackward0>)|\n",
       "|  0   | 30/125  | tensor(6.2160, device='cuda:0', grad_fn=<NllLossBackward0>)|\n",
       "|  0   | 40/125  | tensor(6.1416, device='cuda:0', grad_fn=<NllLossBackward0>)|\n",
       "|  0   | 50/125  | tensor(5.5193, device='cuda:0', grad_fn=<NllLossBackward0>)|\n",
       "|  0   | 60/125  | tensor(5.8637, device='cuda:0', grad_fn=<NllLossBackward0>)|\n",
       "|  0   | 70/125  | tensor(6.2125, device='cuda:0', grad_fn=<NllLossBackward0>)|\n",
       "|  0   | 80/125  | tensor(5.9123, device='cuda:0', grad_fn=<NllLossBackward0>)|\n",
       "|  0   | 90/125  | tensor(5.6646, device='cuda:0', grad_fn=<NllLossBackward0>)|\n",
       "|  0   | 100/125 | tensor(5.3036, device='cuda:0', grad_fn=<NllLossBackward0>)|\n",
       "|  0   | 110/125 | tensor(5.3769, device='cuda:0', grad_fn=<NllLossBackward0>)|\n",
       "+-----------------------------------------------------------------------------+\n"
      ]
     },
     "metadata": {},
     "output_type": "display_data"
    },
    {
     "name": "stdout",
     "output_type": "stream",
     "text": [
      "STEP:  120 / 125\n"
     ]
    },
    {
     "data": {
      "text/html": [
       "<pre style=\"white-space:pre;overflow-x:auto;line-height:normal;font-family:Menlo,'DejaVu Sans Mono',consolas,'Courier New',monospace\"><span style=\"font-style: italic\">                                Training Status                                </span>\n",
       "+-----------------------------------------------------------------------------+\n",
       "|<span style=\"font-weight: bold\">Epoch </span>|<span style=\"font-weight: bold\">  Steps  </span>|<span style=\"font-weight: bold\">                            Loss                            </span>|\n",
       "|------+---------+------------------------------------------------------------|\n",
       "|  0   |  0/125  | tensor(6.2194, device='cuda:0', grad_fn=&lt;NllLossBackward0&gt;)|\n",
       "|  0   | 10/125  | tensor(5.9434, device='cuda:0', grad_fn=&lt;NllLossBackward0&gt;)|\n",
       "|  0   | 20/125  | tensor(6.3498, device='cuda:0', grad_fn=&lt;NllLossBackward0&gt;)|\n",
       "|  0   | 30/125  | tensor(6.2160, device='cuda:0', grad_fn=&lt;NllLossBackward0&gt;)|\n",
       "|  0   | 40/125  | tensor(6.1416, device='cuda:0', grad_fn=&lt;NllLossBackward0&gt;)|\n",
       "|  0   | 50/125  | tensor(5.5193, device='cuda:0', grad_fn=&lt;NllLossBackward0&gt;)|\n",
       "|  0   | 60/125  | tensor(5.8637, device='cuda:0', grad_fn=&lt;NllLossBackward0&gt;)|\n",
       "|  0   | 70/125  | tensor(6.2125, device='cuda:0', grad_fn=&lt;NllLossBackward0&gt;)|\n",
       "|  0   | 80/125  | tensor(5.9123, device='cuda:0', grad_fn=&lt;NllLossBackward0&gt;)|\n",
       "|  0   | 90/125  | tensor(5.6646, device='cuda:0', grad_fn=&lt;NllLossBackward0&gt;)|\n",
       "|  0   | 100/125 | tensor(5.3036, device='cuda:0', grad_fn=&lt;NllLossBackward0&gt;)|\n",
       "|  0   | 110/125 | tensor(5.3769, device='cuda:0', grad_fn=&lt;NllLossBackward0&gt;)|\n",
       "|  0   | 120/125 | tensor(5.3473, device='cuda:0', grad_fn=&lt;NllLossBackward0&gt;)|\n",
       "+-----------------------------------------------------------------------------+\n",
       "</pre>\n"
      ],
      "text/plain": [
       "\u001b[3m                                Training Status                                \u001b[0m\n",
       "+-----------------------------------------------------------------------------+\n",
       "|\u001b[1mEpoch\u001b[0m\u001b[1m \u001b[0m|\u001b[1m \u001b[0m\u001b[1m Steps \u001b[0m\u001b[1m \u001b[0m|\u001b[1m \u001b[0m\u001b[1m                           Loss                            \u001b[0m|\n",
       "|------+---------+------------------------------------------------------------|\n",
       "|  0   |  0/125  | tensor(6.2194, device='cuda:0', grad_fn=<NllLossBackward0>)|\n",
       "|  0   | 10/125  | tensor(5.9434, device='cuda:0', grad_fn=<NllLossBackward0>)|\n",
       "|  0   | 20/125  | tensor(6.3498, device='cuda:0', grad_fn=<NllLossBackward0>)|\n",
       "|  0   | 30/125  | tensor(6.2160, device='cuda:0', grad_fn=<NllLossBackward0>)|\n",
       "|  0   | 40/125  | tensor(6.1416, device='cuda:0', grad_fn=<NllLossBackward0>)|\n",
       "|  0   | 50/125  | tensor(5.5193, device='cuda:0', grad_fn=<NllLossBackward0>)|\n",
       "|  0   | 60/125  | tensor(5.8637, device='cuda:0', grad_fn=<NllLossBackward0>)|\n",
       "|  0   | 70/125  | tensor(6.2125, device='cuda:0', grad_fn=<NllLossBackward0>)|\n",
       "|  0   | 80/125  | tensor(5.9123, device='cuda:0', grad_fn=<NllLossBackward0>)|\n",
       "|  0   | 90/125  | tensor(5.6646, device='cuda:0', grad_fn=<NllLossBackward0>)|\n",
       "|  0   | 100/125 | tensor(5.3036, device='cuda:0', grad_fn=<NllLossBackward0>)|\n",
       "|  0   | 110/125 | tensor(5.3769, device='cuda:0', grad_fn=<NllLossBackward0>)|\n",
       "|  0   | 120/125 | tensor(5.3473, device='cuda:0', grad_fn=<NllLossBackward0>)|\n",
       "+-----------------------------------------------------------------------------+\n"
      ]
     },
     "metadata": {},
     "output_type": "display_data"
    },
    {
     "data": {
      "text/html": [
       "<pre style=\"white-space:pre;overflow-x:auto;line-height:normal;font-family:Menlo,'DejaVu Sans Mono',consolas,'Courier New',monospace\">Completed <span style=\"color: #008080; text-decoration-color: #008080; font-weight: bold\">0</span>\n",
       "</pre>\n"
      ],
      "text/plain": [
       "Completed \u001b[1;36m0\u001b[0m\n"
      ]
     },
     "metadata": {},
     "output_type": "display_data"
    },
    {
     "data": {
      "text/html": [
       "<pre style=\"white-space:pre;overflow-x:auto;line-height:normal;font-family:Menlo,'DejaVu Sans Mono',consolas,'Courier New',monospace\">Completed <span style=\"color: #008080; text-decoration-color: #008080; font-weight: bold\">10</span>\n",
       "</pre>\n"
      ],
      "text/plain": [
       "Completed \u001b[1;36m10\u001b[0m\n"
      ]
     },
     "metadata": {},
     "output_type": "display_data"
    },
    {
     "data": {
      "text/html": [
       "<pre style=\"white-space:pre;overflow-x:auto;line-height:normal;font-family:Menlo,'DejaVu Sans Mono',consolas,'Courier New',monospace\">Completed <span style=\"color: #008080; text-decoration-color: #008080; font-weight: bold\">20</span>\n",
       "</pre>\n"
      ],
      "text/plain": [
       "Completed \u001b[1;36m20\u001b[0m\n"
      ]
     },
     "metadata": {},
     "output_type": "display_data"
    },
    {
     "data": {
      "text/html": [
       "<pre style=\"white-space:pre;overflow-x:auto;line-height:normal;font-family:Menlo,'DejaVu Sans Mono',consolas,'Courier New',monospace\">Completed <span style=\"color: #008080; text-decoration-color: #008080; font-weight: bold\">30</span>\n",
       "</pre>\n"
      ],
      "text/plain": [
       "Completed \u001b[1;36m30\u001b[0m\n"
      ]
     },
     "metadata": {},
     "output_type": "display_data"
    },
    {
     "data": {
      "text/html": [
       "<pre style=\"white-space:pre;overflow-x:auto;line-height:normal;font-family:Menlo,'DejaVu Sans Mono',consolas,'Courier New',monospace\">Completed <span style=\"color: #008080; text-decoration-color: #008080; font-weight: bold\">40</span>\n",
       "</pre>\n"
      ],
      "text/plain": [
       "Completed \u001b[1;36m40\u001b[0m\n"
      ]
     },
     "metadata": {},
     "output_type": "display_data"
    },
    {
     "data": {
      "text/html": [
       "<pre style=\"white-space:pre;overflow-x:auto;line-height:normal;font-family:Menlo,'DejaVu Sans Mono',consolas,'Courier New',monospace\">Completed <span style=\"color: #008080; text-decoration-color: #008080; font-weight: bold\">50</span>\n",
       "</pre>\n"
      ],
      "text/plain": [
       "Completed \u001b[1;36m50\u001b[0m\n"
      ]
     },
     "metadata": {},
     "output_type": "display_data"
    },
    {
     "data": {
      "text/html": [
       "<pre style=\"white-space:pre;overflow-x:auto;line-height:normal;font-family:Menlo,'DejaVu Sans Mono',consolas,'Courier New',monospace\">Completed <span style=\"color: #008080; text-decoration-color: #008080; font-weight: bold\">60</span>\n",
       "</pre>\n"
      ],
      "text/plain": [
       "Completed \u001b[1;36m60\u001b[0m\n"
      ]
     },
     "metadata": {},
     "output_type": "display_data"
    },
    {
     "data": {
      "text/html": [
       "<pre style=\"white-space:pre;overflow-x:auto;line-height:normal;font-family:Menlo,'DejaVu Sans Mono',consolas,'Courier New',monospace\">Completed <span style=\"color: #008080; text-decoration-color: #008080; font-weight: bold\">70</span>\n",
       "</pre>\n"
      ],
      "text/plain": [
       "Completed \u001b[1;36m70\u001b[0m\n"
      ]
     },
     "metadata": {},
     "output_type": "display_data"
    },
    {
     "data": {
      "text/html": [
       "<pre style=\"white-space:pre;overflow-x:auto;line-height:normal;font-family:Menlo,'DejaVu Sans Mono',consolas,'Courier New',monospace\">Completed <span style=\"color: #008080; text-decoration-color: #008080; font-weight: bold\">80</span>\n",
       "</pre>\n"
      ],
      "text/plain": [
       "Completed \u001b[1;36m80\u001b[0m\n"
      ]
     },
     "metadata": {},
     "output_type": "display_data"
    },
    {
     "data": {
      "text/html": [
       "<pre style=\"white-space:pre;overflow-x:auto;line-height:normal;font-family:Menlo,'DejaVu Sans Mono',consolas,'Courier New',monospace\">Completed <span style=\"color: #008080; text-decoration-color: #008080; font-weight: bold\">90</span>\n",
       "</pre>\n"
      ],
      "text/plain": [
       "Completed \u001b[1;36m90\u001b[0m\n"
      ]
     },
     "metadata": {},
     "output_type": "display_data"
    },
    {
     "data": {
      "text/html": [
       "<pre style=\"white-space:pre;overflow-x:auto;line-height:normal;font-family:Menlo,'DejaVu Sans Mono',consolas,'Courier New',monospace\">Completed <span style=\"color: #008080; text-decoration-color: #008080; font-weight: bold\">100</span>\n",
       "</pre>\n"
      ],
      "text/plain": [
       "Completed \u001b[1;36m100\u001b[0m\n"
      ]
     },
     "metadata": {},
     "output_type": "display_data"
    },
    {
     "data": {
      "text/html": [
       "<pre style=\"white-space:pre;overflow-x:auto;line-height:normal;font-family:Menlo,'DejaVu Sans Mono',consolas,'Courier New',monospace\">Completed <span style=\"color: #008080; text-decoration-color: #008080; font-weight: bold\">110</span>\n",
       "</pre>\n"
      ],
      "text/plain": [
       "Completed \u001b[1;36m110\u001b[0m\n"
      ]
     },
     "metadata": {},
     "output_type": "display_data"
    },
    {
     "data": {
      "text/html": [
       "<pre style=\"white-space:pre;overflow-x:auto;line-height:normal;font-family:Menlo,'DejaVu Sans Mono',consolas,'Courier New',monospace\">Completed <span style=\"color: #008080; text-decoration-color: #008080; font-weight: bold\">120</span>\n",
       "</pre>\n"
      ],
      "text/plain": [
       "Completed \u001b[1;36m120\u001b[0m\n"
      ]
     },
     "metadata": {},
     "output_type": "display_data"
    },
    {
     "name": "stdout",
     "output_type": "stream",
     "text": [
      "SAVE TO CSV FINISHED\n",
      "SAVE ROUGE TO CSV FINISHED\n",
      "STEP:  0 / 125\n"
     ]
    },
    {
     "data": {
      "text/html": [
       "<pre style=\"white-space:pre;overflow-x:auto;line-height:normal;font-family:Menlo,'DejaVu Sans Mono',consolas,'Courier New',monospace\"><span style=\"font-style: italic\">                                Training Status                                </span>\n",
       "+-----------------------------------------------------------------------------+\n",
       "|<span style=\"font-weight: bold\">Epoch </span>|<span style=\"font-weight: bold\">  Steps  </span>|<span style=\"font-weight: bold\">                            Loss                            </span>|\n",
       "|------+---------+------------------------------------------------------------|\n",
       "|  0   |  0/125  | tensor(6.2194, device='cuda:0', grad_fn=&lt;NllLossBackward0&gt;)|\n",
       "|  0   | 10/125  | tensor(5.9434, device='cuda:0', grad_fn=&lt;NllLossBackward0&gt;)|\n",
       "|  0   | 20/125  | tensor(6.3498, device='cuda:0', grad_fn=&lt;NllLossBackward0&gt;)|\n",
       "|  0   | 30/125  | tensor(6.2160, device='cuda:0', grad_fn=&lt;NllLossBackward0&gt;)|\n",
       "|  0   | 40/125  | tensor(6.1416, device='cuda:0', grad_fn=&lt;NllLossBackward0&gt;)|\n",
       "|  0   | 50/125  | tensor(5.5193, device='cuda:0', grad_fn=&lt;NllLossBackward0&gt;)|\n",
       "|  0   | 60/125  | tensor(5.8637, device='cuda:0', grad_fn=&lt;NllLossBackward0&gt;)|\n",
       "|  0   | 70/125  | tensor(6.2125, device='cuda:0', grad_fn=&lt;NllLossBackward0&gt;)|\n",
       "|  0   | 80/125  | tensor(5.9123, device='cuda:0', grad_fn=&lt;NllLossBackward0&gt;)|\n",
       "|  0   | 90/125  | tensor(5.6646, device='cuda:0', grad_fn=&lt;NllLossBackward0&gt;)|\n",
       "|  0   | 100/125 | tensor(5.3036, device='cuda:0', grad_fn=&lt;NllLossBackward0&gt;)|\n",
       "|  0   | 110/125 | tensor(5.3769, device='cuda:0', grad_fn=&lt;NllLossBackward0&gt;)|\n",
       "|  0   | 120/125 | tensor(5.3473, device='cuda:0', grad_fn=&lt;NllLossBackward0&gt;)|\n",
       "|  1   |  0/125  | tensor(5.7035, device='cuda:0', grad_fn=&lt;NllLossBackward0&gt;)|\n",
       "+-----------------------------------------------------------------------------+\n",
       "</pre>\n"
      ],
      "text/plain": [
       "\u001b[3m                                Training Status                                \u001b[0m\n",
       "+-----------------------------------------------------------------------------+\n",
       "|\u001b[1mEpoch\u001b[0m\u001b[1m \u001b[0m|\u001b[1m \u001b[0m\u001b[1m Steps \u001b[0m\u001b[1m \u001b[0m|\u001b[1m \u001b[0m\u001b[1m                           Loss                            \u001b[0m|\n",
       "|------+---------+------------------------------------------------------------|\n",
       "|  0   |  0/125  | tensor(6.2194, device='cuda:0', grad_fn=<NllLossBackward0>)|\n",
       "|  0   | 10/125  | tensor(5.9434, device='cuda:0', grad_fn=<NllLossBackward0>)|\n",
       "|  0   | 20/125  | tensor(6.3498, device='cuda:0', grad_fn=<NllLossBackward0>)|\n",
       "|  0   | 30/125  | tensor(6.2160, device='cuda:0', grad_fn=<NllLossBackward0>)|\n",
       "|  0   | 40/125  | tensor(6.1416, device='cuda:0', grad_fn=<NllLossBackward0>)|\n",
       "|  0   | 50/125  | tensor(5.5193, device='cuda:0', grad_fn=<NllLossBackward0>)|\n",
       "|  0   | 60/125  | tensor(5.8637, device='cuda:0', grad_fn=<NllLossBackward0>)|\n",
       "|  0   | 70/125  | tensor(6.2125, device='cuda:0', grad_fn=<NllLossBackward0>)|\n",
       "|  0   | 80/125  | tensor(5.9123, device='cuda:0', grad_fn=<NllLossBackward0>)|\n",
       "|  0   | 90/125  | tensor(5.6646, device='cuda:0', grad_fn=<NllLossBackward0>)|\n",
       "|  0   | 100/125 | tensor(5.3036, device='cuda:0', grad_fn=<NllLossBackward0>)|\n",
       "|  0   | 110/125 | tensor(5.3769, device='cuda:0', grad_fn=<NllLossBackward0>)|\n",
       "|  0   | 120/125 | tensor(5.3473, device='cuda:0', grad_fn=<NllLossBackward0>)|\n",
       "|  1   |  0/125  | tensor(5.7035, device='cuda:0', grad_fn=<NllLossBackward0>)|\n",
       "+-----------------------------------------------------------------------------+\n"
      ]
     },
     "metadata": {},
     "output_type": "display_data"
    },
    {
     "name": "stdout",
     "output_type": "stream",
     "text": [
      "STEP:  10 / 125\n"
     ]
    },
    {
     "data": {
      "text/html": [
       "<pre style=\"white-space:pre;overflow-x:auto;line-height:normal;font-family:Menlo,'DejaVu Sans Mono',consolas,'Courier New',monospace\"><span style=\"font-style: italic\">                                Training Status                                </span>\n",
       "+-----------------------------------------------------------------------------+\n",
       "|<span style=\"font-weight: bold\">Epoch </span>|<span style=\"font-weight: bold\">  Steps  </span>|<span style=\"font-weight: bold\">                            Loss                            </span>|\n",
       "|------+---------+------------------------------------------------------------|\n",
       "|  0   |  0/125  | tensor(6.2194, device='cuda:0', grad_fn=&lt;NllLossBackward0&gt;)|\n",
       "|  0   | 10/125  | tensor(5.9434, device='cuda:0', grad_fn=&lt;NllLossBackward0&gt;)|\n",
       "|  0   | 20/125  | tensor(6.3498, device='cuda:0', grad_fn=&lt;NllLossBackward0&gt;)|\n",
       "|  0   | 30/125  | tensor(6.2160, device='cuda:0', grad_fn=&lt;NllLossBackward0&gt;)|\n",
       "|  0   | 40/125  | tensor(6.1416, device='cuda:0', grad_fn=&lt;NllLossBackward0&gt;)|\n",
       "|  0   | 50/125  | tensor(5.5193, device='cuda:0', grad_fn=&lt;NllLossBackward0&gt;)|\n",
       "|  0   | 60/125  | tensor(5.8637, device='cuda:0', grad_fn=&lt;NllLossBackward0&gt;)|\n",
       "|  0   | 70/125  | tensor(6.2125, device='cuda:0', grad_fn=&lt;NllLossBackward0&gt;)|\n",
       "|  0   | 80/125  | tensor(5.9123, device='cuda:0', grad_fn=&lt;NllLossBackward0&gt;)|\n",
       "|  0   | 90/125  | tensor(5.6646, device='cuda:0', grad_fn=&lt;NllLossBackward0&gt;)|\n",
       "|  0   | 100/125 | tensor(5.3036, device='cuda:0', grad_fn=&lt;NllLossBackward0&gt;)|\n",
       "|  0   | 110/125 | tensor(5.3769, device='cuda:0', grad_fn=&lt;NllLossBackward0&gt;)|\n",
       "|  0   | 120/125 | tensor(5.3473, device='cuda:0', grad_fn=&lt;NllLossBackward0&gt;)|\n",
       "|  1   |  0/125  | tensor(5.7035, device='cuda:0', grad_fn=&lt;NllLossBackward0&gt;)|\n",
       "|  1   | 10/125  | tensor(5.5592, device='cuda:0', grad_fn=&lt;NllLossBackward0&gt;)|\n",
       "+-----------------------------------------------------------------------------+\n",
       "</pre>\n"
      ],
      "text/plain": [
       "\u001b[3m                                Training Status                                \u001b[0m\n",
       "+-----------------------------------------------------------------------------+\n",
       "|\u001b[1mEpoch\u001b[0m\u001b[1m \u001b[0m|\u001b[1m \u001b[0m\u001b[1m Steps \u001b[0m\u001b[1m \u001b[0m|\u001b[1m \u001b[0m\u001b[1m                           Loss                            \u001b[0m|\n",
       "|------+---------+------------------------------------------------------------|\n",
       "|  0   |  0/125  | tensor(6.2194, device='cuda:0', grad_fn=<NllLossBackward0>)|\n",
       "|  0   | 10/125  | tensor(5.9434, device='cuda:0', grad_fn=<NllLossBackward0>)|\n",
       "|  0   | 20/125  | tensor(6.3498, device='cuda:0', grad_fn=<NllLossBackward0>)|\n",
       "|  0   | 30/125  | tensor(6.2160, device='cuda:0', grad_fn=<NllLossBackward0>)|\n",
       "|  0   | 40/125  | tensor(6.1416, device='cuda:0', grad_fn=<NllLossBackward0>)|\n",
       "|  0   | 50/125  | tensor(5.5193, device='cuda:0', grad_fn=<NllLossBackward0>)|\n",
       "|  0   | 60/125  | tensor(5.8637, device='cuda:0', grad_fn=<NllLossBackward0>)|\n",
       "|  0   | 70/125  | tensor(6.2125, device='cuda:0', grad_fn=<NllLossBackward0>)|\n",
       "|  0   | 80/125  | tensor(5.9123, device='cuda:0', grad_fn=<NllLossBackward0>)|\n",
       "|  0   | 90/125  | tensor(5.6646, device='cuda:0', grad_fn=<NllLossBackward0>)|\n",
       "|  0   | 100/125 | tensor(5.3036, device='cuda:0', grad_fn=<NllLossBackward0>)|\n",
       "|  0   | 110/125 | tensor(5.3769, device='cuda:0', grad_fn=<NllLossBackward0>)|\n",
       "|  0   | 120/125 | tensor(5.3473, device='cuda:0', grad_fn=<NllLossBackward0>)|\n",
       "|  1   |  0/125  | tensor(5.7035, device='cuda:0', grad_fn=<NllLossBackward0>)|\n",
       "|  1   | 10/125  | tensor(5.5592, device='cuda:0', grad_fn=<NllLossBackward0>)|\n",
       "+-----------------------------------------------------------------------------+\n"
      ]
     },
     "metadata": {},
     "output_type": "display_data"
    },
    {
     "name": "stdout",
     "output_type": "stream",
     "text": [
      "STEP:  20 / 125\n"
     ]
    },
    {
     "data": {
      "text/html": [
       "<pre style=\"white-space:pre;overflow-x:auto;line-height:normal;font-family:Menlo,'DejaVu Sans Mono',consolas,'Courier New',monospace\"><span style=\"font-style: italic\">                                Training Status                                </span>\n",
       "+-----------------------------------------------------------------------------+\n",
       "|<span style=\"font-weight: bold\">Epoch </span>|<span style=\"font-weight: bold\">  Steps  </span>|<span style=\"font-weight: bold\">                            Loss                            </span>|\n",
       "|------+---------+------------------------------------------------------------|\n",
       "|  0   |  0/125  | tensor(6.2194, device='cuda:0', grad_fn=&lt;NllLossBackward0&gt;)|\n",
       "|  0   | 10/125  | tensor(5.9434, device='cuda:0', grad_fn=&lt;NllLossBackward0&gt;)|\n",
       "|  0   | 20/125  | tensor(6.3498, device='cuda:0', grad_fn=&lt;NllLossBackward0&gt;)|\n",
       "|  0   | 30/125  | tensor(6.2160, device='cuda:0', grad_fn=&lt;NllLossBackward0&gt;)|\n",
       "|  0   | 40/125  | tensor(6.1416, device='cuda:0', grad_fn=&lt;NllLossBackward0&gt;)|\n",
       "|  0   | 50/125  | tensor(5.5193, device='cuda:0', grad_fn=&lt;NllLossBackward0&gt;)|\n",
       "|  0   | 60/125  | tensor(5.8637, device='cuda:0', grad_fn=&lt;NllLossBackward0&gt;)|\n",
       "|  0   | 70/125  | tensor(6.2125, device='cuda:0', grad_fn=&lt;NllLossBackward0&gt;)|\n",
       "|  0   | 80/125  | tensor(5.9123, device='cuda:0', grad_fn=&lt;NllLossBackward0&gt;)|\n",
       "|  0   | 90/125  | tensor(5.6646, device='cuda:0', grad_fn=&lt;NllLossBackward0&gt;)|\n",
       "|  0   | 100/125 | tensor(5.3036, device='cuda:0', grad_fn=&lt;NllLossBackward0&gt;)|\n",
       "|  0   | 110/125 | tensor(5.3769, device='cuda:0', grad_fn=&lt;NllLossBackward0&gt;)|\n",
       "|  0   | 120/125 | tensor(5.3473, device='cuda:0', grad_fn=&lt;NllLossBackward0&gt;)|\n",
       "|  1   |  0/125  | tensor(5.7035, device='cuda:0', grad_fn=&lt;NllLossBackward0&gt;)|\n",
       "|  1   | 10/125  | tensor(5.5592, device='cuda:0', grad_fn=&lt;NllLossBackward0&gt;)|\n",
       "|  1   | 20/125  | tensor(5.6873, device='cuda:0', grad_fn=&lt;NllLossBackward0&gt;)|\n",
       "+-----------------------------------------------------------------------------+\n",
       "</pre>\n"
      ],
      "text/plain": [
       "\u001b[3m                                Training Status                                \u001b[0m\n",
       "+-----------------------------------------------------------------------------+\n",
       "|\u001b[1mEpoch\u001b[0m\u001b[1m \u001b[0m|\u001b[1m \u001b[0m\u001b[1m Steps \u001b[0m\u001b[1m \u001b[0m|\u001b[1m \u001b[0m\u001b[1m                           Loss                            \u001b[0m|\n",
       "|------+---------+------------------------------------------------------------|\n",
       "|  0   |  0/125  | tensor(6.2194, device='cuda:0', grad_fn=<NllLossBackward0>)|\n",
       "|  0   | 10/125  | tensor(5.9434, device='cuda:0', grad_fn=<NllLossBackward0>)|\n",
       "|  0   | 20/125  | tensor(6.3498, device='cuda:0', grad_fn=<NllLossBackward0>)|\n",
       "|  0   | 30/125  | tensor(6.2160, device='cuda:0', grad_fn=<NllLossBackward0>)|\n",
       "|  0   | 40/125  | tensor(6.1416, device='cuda:0', grad_fn=<NllLossBackward0>)|\n",
       "|  0   | 50/125  | tensor(5.5193, device='cuda:0', grad_fn=<NllLossBackward0>)|\n",
       "|  0   | 60/125  | tensor(5.8637, device='cuda:0', grad_fn=<NllLossBackward0>)|\n",
       "|  0   | 70/125  | tensor(6.2125, device='cuda:0', grad_fn=<NllLossBackward0>)|\n",
       "|  0   | 80/125  | tensor(5.9123, device='cuda:0', grad_fn=<NllLossBackward0>)|\n",
       "|  0   | 90/125  | tensor(5.6646, device='cuda:0', grad_fn=<NllLossBackward0>)|\n",
       "|  0   | 100/125 | tensor(5.3036, device='cuda:0', grad_fn=<NllLossBackward0>)|\n",
       "|  0   | 110/125 | tensor(5.3769, device='cuda:0', grad_fn=<NllLossBackward0>)|\n",
       "|  0   | 120/125 | tensor(5.3473, device='cuda:0', grad_fn=<NllLossBackward0>)|\n",
       "|  1   |  0/125  | tensor(5.7035, device='cuda:0', grad_fn=<NllLossBackward0>)|\n",
       "|  1   | 10/125  | tensor(5.5592, device='cuda:0', grad_fn=<NllLossBackward0>)|\n",
       "|  1   | 20/125  | tensor(5.6873, device='cuda:0', grad_fn=<NllLossBackward0>)|\n",
       "+-----------------------------------------------------------------------------+\n"
      ]
     },
     "metadata": {},
     "output_type": "display_data"
    },
    {
     "name": "stdout",
     "output_type": "stream",
     "text": [
      "STEP:  30 / 125\n"
     ]
    },
    {
     "data": {
      "text/html": [
       "<pre style=\"white-space:pre;overflow-x:auto;line-height:normal;font-family:Menlo,'DejaVu Sans Mono',consolas,'Courier New',monospace\"><span style=\"font-style: italic\">                                Training Status                                </span>\n",
       "+-----------------------------------------------------------------------------+\n",
       "|<span style=\"font-weight: bold\">Epoch </span>|<span style=\"font-weight: bold\">  Steps  </span>|<span style=\"font-weight: bold\">                            Loss                            </span>|\n",
       "|------+---------+------------------------------------------------------------|\n",
       "|  0   |  0/125  | tensor(6.2194, device='cuda:0', grad_fn=&lt;NllLossBackward0&gt;)|\n",
       "|  0   | 10/125  | tensor(5.9434, device='cuda:0', grad_fn=&lt;NllLossBackward0&gt;)|\n",
       "|  0   | 20/125  | tensor(6.3498, device='cuda:0', grad_fn=&lt;NllLossBackward0&gt;)|\n",
       "|  0   | 30/125  | tensor(6.2160, device='cuda:0', grad_fn=&lt;NllLossBackward0&gt;)|\n",
       "|  0   | 40/125  | tensor(6.1416, device='cuda:0', grad_fn=&lt;NllLossBackward0&gt;)|\n",
       "|  0   | 50/125  | tensor(5.5193, device='cuda:0', grad_fn=&lt;NllLossBackward0&gt;)|\n",
       "|  0   | 60/125  | tensor(5.8637, device='cuda:0', grad_fn=&lt;NllLossBackward0&gt;)|\n",
       "|  0   | 70/125  | tensor(6.2125, device='cuda:0', grad_fn=&lt;NllLossBackward0&gt;)|\n",
       "|  0   | 80/125  | tensor(5.9123, device='cuda:0', grad_fn=&lt;NllLossBackward0&gt;)|\n",
       "|  0   | 90/125  | tensor(5.6646, device='cuda:0', grad_fn=&lt;NllLossBackward0&gt;)|\n",
       "|  0   | 100/125 | tensor(5.3036, device='cuda:0', grad_fn=&lt;NllLossBackward0&gt;)|\n",
       "|  0   | 110/125 | tensor(5.3769, device='cuda:0', grad_fn=&lt;NllLossBackward0&gt;)|\n",
       "|  0   | 120/125 | tensor(5.3473, device='cuda:0', grad_fn=&lt;NllLossBackward0&gt;)|\n",
       "|  1   |  0/125  | tensor(5.7035, device='cuda:0', grad_fn=&lt;NllLossBackward0&gt;)|\n",
       "|  1   | 10/125  | tensor(5.5592, device='cuda:0', grad_fn=&lt;NllLossBackward0&gt;)|\n",
       "|  1   | 20/125  | tensor(5.6873, device='cuda:0', grad_fn=&lt;NllLossBackward0&gt;)|\n",
       "|  1   | 30/125  | tensor(5.6297, device='cuda:0', grad_fn=&lt;NllLossBackward0&gt;)|\n",
       "+-----------------------------------------------------------------------------+\n",
       "</pre>\n"
      ],
      "text/plain": [
       "\u001b[3m                                Training Status                                \u001b[0m\n",
       "+-----------------------------------------------------------------------------+\n",
       "|\u001b[1mEpoch\u001b[0m\u001b[1m \u001b[0m|\u001b[1m \u001b[0m\u001b[1m Steps \u001b[0m\u001b[1m \u001b[0m|\u001b[1m \u001b[0m\u001b[1m                           Loss                            \u001b[0m|\n",
       "|------+---------+------------------------------------------------------------|\n",
       "|  0   |  0/125  | tensor(6.2194, device='cuda:0', grad_fn=<NllLossBackward0>)|\n",
       "|  0   | 10/125  | tensor(5.9434, device='cuda:0', grad_fn=<NllLossBackward0>)|\n",
       "|  0   | 20/125  | tensor(6.3498, device='cuda:0', grad_fn=<NllLossBackward0>)|\n",
       "|  0   | 30/125  | tensor(6.2160, device='cuda:0', grad_fn=<NllLossBackward0>)|\n",
       "|  0   | 40/125  | tensor(6.1416, device='cuda:0', grad_fn=<NllLossBackward0>)|\n",
       "|  0   | 50/125  | tensor(5.5193, device='cuda:0', grad_fn=<NllLossBackward0>)|\n",
       "|  0   | 60/125  | tensor(5.8637, device='cuda:0', grad_fn=<NllLossBackward0>)|\n",
       "|  0   | 70/125  | tensor(6.2125, device='cuda:0', grad_fn=<NllLossBackward0>)|\n",
       "|  0   | 80/125  | tensor(5.9123, device='cuda:0', grad_fn=<NllLossBackward0>)|\n",
       "|  0   | 90/125  | tensor(5.6646, device='cuda:0', grad_fn=<NllLossBackward0>)|\n",
       "|  0   | 100/125 | tensor(5.3036, device='cuda:0', grad_fn=<NllLossBackward0>)|\n",
       "|  0   | 110/125 | tensor(5.3769, device='cuda:0', grad_fn=<NllLossBackward0>)|\n",
       "|  0   | 120/125 | tensor(5.3473, device='cuda:0', grad_fn=<NllLossBackward0>)|\n",
       "|  1   |  0/125  | tensor(5.7035, device='cuda:0', grad_fn=<NllLossBackward0>)|\n",
       "|  1   | 10/125  | tensor(5.5592, device='cuda:0', grad_fn=<NllLossBackward0>)|\n",
       "|  1   | 20/125  | tensor(5.6873, device='cuda:0', grad_fn=<NllLossBackward0>)|\n",
       "|  1   | 30/125  | tensor(5.6297, device='cuda:0', grad_fn=<NllLossBackward0>)|\n",
       "+-----------------------------------------------------------------------------+\n"
      ]
     },
     "metadata": {},
     "output_type": "display_data"
    },
    {
     "name": "stdout",
     "output_type": "stream",
     "text": [
      "STEP:  40 / 125\n"
     ]
    },
    {
     "data": {
      "text/html": [
       "<pre style=\"white-space:pre;overflow-x:auto;line-height:normal;font-family:Menlo,'DejaVu Sans Mono',consolas,'Courier New',monospace\"><span style=\"font-style: italic\">                                Training Status                                </span>\n",
       "+-----------------------------------------------------------------------------+\n",
       "|<span style=\"font-weight: bold\">Epoch </span>|<span style=\"font-weight: bold\">  Steps  </span>|<span style=\"font-weight: bold\">                            Loss                            </span>|\n",
       "|------+---------+------------------------------------------------------------|\n",
       "|  0   |  0/125  | tensor(6.2194, device='cuda:0', grad_fn=&lt;NllLossBackward0&gt;)|\n",
       "|  0   | 10/125  | tensor(5.9434, device='cuda:0', grad_fn=&lt;NllLossBackward0&gt;)|\n",
       "|  0   | 20/125  | tensor(6.3498, device='cuda:0', grad_fn=&lt;NllLossBackward0&gt;)|\n",
       "|  0   | 30/125  | tensor(6.2160, device='cuda:0', grad_fn=&lt;NllLossBackward0&gt;)|\n",
       "|  0   | 40/125  | tensor(6.1416, device='cuda:0', grad_fn=&lt;NllLossBackward0&gt;)|\n",
       "|  0   | 50/125  | tensor(5.5193, device='cuda:0', grad_fn=&lt;NllLossBackward0&gt;)|\n",
       "|  0   | 60/125  | tensor(5.8637, device='cuda:0', grad_fn=&lt;NllLossBackward0&gt;)|\n",
       "|  0   | 70/125  | tensor(6.2125, device='cuda:0', grad_fn=&lt;NllLossBackward0&gt;)|\n",
       "|  0   | 80/125  | tensor(5.9123, device='cuda:0', grad_fn=&lt;NllLossBackward0&gt;)|\n",
       "|  0   | 90/125  | tensor(5.6646, device='cuda:0', grad_fn=&lt;NllLossBackward0&gt;)|\n",
       "|  0   | 100/125 | tensor(5.3036, device='cuda:0', grad_fn=&lt;NllLossBackward0&gt;)|\n",
       "|  0   | 110/125 | tensor(5.3769, device='cuda:0', grad_fn=&lt;NllLossBackward0&gt;)|\n",
       "|  0   | 120/125 | tensor(5.3473, device='cuda:0', grad_fn=&lt;NllLossBackward0&gt;)|\n",
       "|  1   |  0/125  | tensor(5.7035, device='cuda:0', grad_fn=&lt;NllLossBackward0&gt;)|\n",
       "|  1   | 10/125  | tensor(5.5592, device='cuda:0', grad_fn=&lt;NllLossBackward0&gt;)|\n",
       "|  1   | 20/125  | tensor(5.6873, device='cuda:0', grad_fn=&lt;NllLossBackward0&gt;)|\n",
       "|  1   | 30/125  | tensor(5.6297, device='cuda:0', grad_fn=&lt;NllLossBackward0&gt;)|\n",
       "|  1   | 40/125  | tensor(5.6179, device='cuda:0', grad_fn=&lt;NllLossBackward0&gt;)|\n",
       "+-----------------------------------------------------------------------------+\n",
       "</pre>\n"
      ],
      "text/plain": [
       "\u001b[3m                                Training Status                                \u001b[0m\n",
       "+-----------------------------------------------------------------------------+\n",
       "|\u001b[1mEpoch\u001b[0m\u001b[1m \u001b[0m|\u001b[1m \u001b[0m\u001b[1m Steps \u001b[0m\u001b[1m \u001b[0m|\u001b[1m \u001b[0m\u001b[1m                           Loss                            \u001b[0m|\n",
       "|------+---------+------------------------------------------------------------|\n",
       "|  0   |  0/125  | tensor(6.2194, device='cuda:0', grad_fn=<NllLossBackward0>)|\n",
       "|  0   | 10/125  | tensor(5.9434, device='cuda:0', grad_fn=<NllLossBackward0>)|\n",
       "|  0   | 20/125  | tensor(6.3498, device='cuda:0', grad_fn=<NllLossBackward0>)|\n",
       "|  0   | 30/125  | tensor(6.2160, device='cuda:0', grad_fn=<NllLossBackward0>)|\n",
       "|  0   | 40/125  | tensor(6.1416, device='cuda:0', grad_fn=<NllLossBackward0>)|\n",
       "|  0   | 50/125  | tensor(5.5193, device='cuda:0', grad_fn=<NllLossBackward0>)|\n",
       "|  0   | 60/125  | tensor(5.8637, device='cuda:0', grad_fn=<NllLossBackward0>)|\n",
       "|  0   | 70/125  | tensor(6.2125, device='cuda:0', grad_fn=<NllLossBackward0>)|\n",
       "|  0   | 80/125  | tensor(5.9123, device='cuda:0', grad_fn=<NllLossBackward0>)|\n",
       "|  0   | 90/125  | tensor(5.6646, device='cuda:0', grad_fn=<NllLossBackward0>)|\n",
       "|  0   | 100/125 | tensor(5.3036, device='cuda:0', grad_fn=<NllLossBackward0>)|\n",
       "|  0   | 110/125 | tensor(5.3769, device='cuda:0', grad_fn=<NllLossBackward0>)|\n",
       "|  0   | 120/125 | tensor(5.3473, device='cuda:0', grad_fn=<NllLossBackward0>)|\n",
       "|  1   |  0/125  | tensor(5.7035, device='cuda:0', grad_fn=<NllLossBackward0>)|\n",
       "|  1   | 10/125  | tensor(5.5592, device='cuda:0', grad_fn=<NllLossBackward0>)|\n",
       "|  1   | 20/125  | tensor(5.6873, device='cuda:0', grad_fn=<NllLossBackward0>)|\n",
       "|  1   | 30/125  | tensor(5.6297, device='cuda:0', grad_fn=<NllLossBackward0>)|\n",
       "|  1   | 40/125  | tensor(5.6179, device='cuda:0', grad_fn=<NllLossBackward0>)|\n",
       "+-----------------------------------------------------------------------------+\n"
      ]
     },
     "metadata": {},
     "output_type": "display_data"
    },
    {
     "name": "stdout",
     "output_type": "stream",
     "text": [
      "STEP:  50 / 125\n"
     ]
    },
    {
     "data": {
      "text/html": [
       "<pre style=\"white-space:pre;overflow-x:auto;line-height:normal;font-family:Menlo,'DejaVu Sans Mono',consolas,'Courier New',monospace\"><span style=\"font-style: italic\">                                Training Status                                </span>\n",
       "+-----------------------------------------------------------------------------+\n",
       "|<span style=\"font-weight: bold\">Epoch </span>|<span style=\"font-weight: bold\">  Steps  </span>|<span style=\"font-weight: bold\">                            Loss                            </span>|\n",
       "|------+---------+------------------------------------------------------------|\n",
       "|  0   |  0/125  | tensor(6.2194, device='cuda:0', grad_fn=&lt;NllLossBackward0&gt;)|\n",
       "|  0   | 10/125  | tensor(5.9434, device='cuda:0', grad_fn=&lt;NllLossBackward0&gt;)|\n",
       "|  0   | 20/125  | tensor(6.3498, device='cuda:0', grad_fn=&lt;NllLossBackward0&gt;)|\n",
       "|  0   | 30/125  | tensor(6.2160, device='cuda:0', grad_fn=&lt;NllLossBackward0&gt;)|\n",
       "|  0   | 40/125  | tensor(6.1416, device='cuda:0', grad_fn=&lt;NllLossBackward0&gt;)|\n",
       "|  0   | 50/125  | tensor(5.5193, device='cuda:0', grad_fn=&lt;NllLossBackward0&gt;)|\n",
       "|  0   | 60/125  | tensor(5.8637, device='cuda:0', grad_fn=&lt;NllLossBackward0&gt;)|\n",
       "|  0   | 70/125  | tensor(6.2125, device='cuda:0', grad_fn=&lt;NllLossBackward0&gt;)|\n",
       "|  0   | 80/125  | tensor(5.9123, device='cuda:0', grad_fn=&lt;NllLossBackward0&gt;)|\n",
       "|  0   | 90/125  | tensor(5.6646, device='cuda:0', grad_fn=&lt;NllLossBackward0&gt;)|\n",
       "|  0   | 100/125 | tensor(5.3036, device='cuda:0', grad_fn=&lt;NllLossBackward0&gt;)|\n",
       "|  0   | 110/125 | tensor(5.3769, device='cuda:0', grad_fn=&lt;NllLossBackward0&gt;)|\n",
       "|  0   | 120/125 | tensor(5.3473, device='cuda:0', grad_fn=&lt;NllLossBackward0&gt;)|\n",
       "|  1   |  0/125  | tensor(5.7035, device='cuda:0', grad_fn=&lt;NllLossBackward0&gt;)|\n",
       "|  1   | 10/125  | tensor(5.5592, device='cuda:0', grad_fn=&lt;NllLossBackward0&gt;)|\n",
       "|  1   | 20/125  | tensor(5.6873, device='cuda:0', grad_fn=&lt;NllLossBackward0&gt;)|\n",
       "|  1   | 30/125  | tensor(5.6297, device='cuda:0', grad_fn=&lt;NllLossBackward0&gt;)|\n",
       "|  1   | 40/125  | tensor(5.6179, device='cuda:0', grad_fn=&lt;NllLossBackward0&gt;)|\n",
       "|  1   | 50/125  | tensor(5.3450, device='cuda:0', grad_fn=&lt;NllLossBackward0&gt;)|\n",
       "+-----------------------------------------------------------------------------+\n",
       "</pre>\n"
      ],
      "text/plain": [
       "\u001b[3m                                Training Status                                \u001b[0m\n",
       "+-----------------------------------------------------------------------------+\n",
       "|\u001b[1mEpoch\u001b[0m\u001b[1m \u001b[0m|\u001b[1m \u001b[0m\u001b[1m Steps \u001b[0m\u001b[1m \u001b[0m|\u001b[1m \u001b[0m\u001b[1m                           Loss                            \u001b[0m|\n",
       "|------+---------+------------------------------------------------------------|\n",
       "|  0   |  0/125  | tensor(6.2194, device='cuda:0', grad_fn=<NllLossBackward0>)|\n",
       "|  0   | 10/125  | tensor(5.9434, device='cuda:0', grad_fn=<NllLossBackward0>)|\n",
       "|  0   | 20/125  | tensor(6.3498, device='cuda:0', grad_fn=<NllLossBackward0>)|\n",
       "|  0   | 30/125  | tensor(6.2160, device='cuda:0', grad_fn=<NllLossBackward0>)|\n",
       "|  0   | 40/125  | tensor(6.1416, device='cuda:0', grad_fn=<NllLossBackward0>)|\n",
       "|  0   | 50/125  | tensor(5.5193, device='cuda:0', grad_fn=<NllLossBackward0>)|\n",
       "|  0   | 60/125  | tensor(5.8637, device='cuda:0', grad_fn=<NllLossBackward0>)|\n",
       "|  0   | 70/125  | tensor(6.2125, device='cuda:0', grad_fn=<NllLossBackward0>)|\n",
       "|  0   | 80/125  | tensor(5.9123, device='cuda:0', grad_fn=<NllLossBackward0>)|\n",
       "|  0   | 90/125  | tensor(5.6646, device='cuda:0', grad_fn=<NllLossBackward0>)|\n",
       "|  0   | 100/125 | tensor(5.3036, device='cuda:0', grad_fn=<NllLossBackward0>)|\n",
       "|  0   | 110/125 | tensor(5.3769, device='cuda:0', grad_fn=<NllLossBackward0>)|\n",
       "|  0   | 120/125 | tensor(5.3473, device='cuda:0', grad_fn=<NllLossBackward0>)|\n",
       "|  1   |  0/125  | tensor(5.7035, device='cuda:0', grad_fn=<NllLossBackward0>)|\n",
       "|  1   | 10/125  | tensor(5.5592, device='cuda:0', grad_fn=<NllLossBackward0>)|\n",
       "|  1   | 20/125  | tensor(5.6873, device='cuda:0', grad_fn=<NllLossBackward0>)|\n",
       "|  1   | 30/125  | tensor(5.6297, device='cuda:0', grad_fn=<NllLossBackward0>)|\n",
       "|  1   | 40/125  | tensor(5.6179, device='cuda:0', grad_fn=<NllLossBackward0>)|\n",
       "|  1   | 50/125  | tensor(5.3450, device='cuda:0', grad_fn=<NllLossBackward0>)|\n",
       "+-----------------------------------------------------------------------------+\n"
      ]
     },
     "metadata": {},
     "output_type": "display_data"
    },
    {
     "name": "stdout",
     "output_type": "stream",
     "text": [
      "STEP:  60 / 125\n"
     ]
    },
    {
     "data": {
      "text/html": [
       "<pre style=\"white-space:pre;overflow-x:auto;line-height:normal;font-family:Menlo,'DejaVu Sans Mono',consolas,'Courier New',monospace\"><span style=\"font-style: italic\">                                Training Status                                </span>\n",
       "+-----------------------------------------------------------------------------+\n",
       "|<span style=\"font-weight: bold\">Epoch </span>|<span style=\"font-weight: bold\">  Steps  </span>|<span style=\"font-weight: bold\">                            Loss                            </span>|\n",
       "|------+---------+------------------------------------------------------------|\n",
       "|  0   |  0/125  | tensor(6.2194, device='cuda:0', grad_fn=&lt;NllLossBackward0&gt;)|\n",
       "|  0   | 10/125  | tensor(5.9434, device='cuda:0', grad_fn=&lt;NllLossBackward0&gt;)|\n",
       "|  0   | 20/125  | tensor(6.3498, device='cuda:0', grad_fn=&lt;NllLossBackward0&gt;)|\n",
       "|  0   | 30/125  | tensor(6.2160, device='cuda:0', grad_fn=&lt;NllLossBackward0&gt;)|\n",
       "|  0   | 40/125  | tensor(6.1416, device='cuda:0', grad_fn=&lt;NllLossBackward0&gt;)|\n",
       "|  0   | 50/125  | tensor(5.5193, device='cuda:0', grad_fn=&lt;NllLossBackward0&gt;)|\n",
       "|  0   | 60/125  | tensor(5.8637, device='cuda:0', grad_fn=&lt;NllLossBackward0&gt;)|\n",
       "|  0   | 70/125  | tensor(6.2125, device='cuda:0', grad_fn=&lt;NllLossBackward0&gt;)|\n",
       "|  0   | 80/125  | tensor(5.9123, device='cuda:0', grad_fn=&lt;NllLossBackward0&gt;)|\n",
       "|  0   | 90/125  | tensor(5.6646, device='cuda:0', grad_fn=&lt;NllLossBackward0&gt;)|\n",
       "|  0   | 100/125 | tensor(5.3036, device='cuda:0', grad_fn=&lt;NllLossBackward0&gt;)|\n",
       "|  0   | 110/125 | tensor(5.3769, device='cuda:0', grad_fn=&lt;NllLossBackward0&gt;)|\n",
       "|  0   | 120/125 | tensor(5.3473, device='cuda:0', grad_fn=&lt;NllLossBackward0&gt;)|\n",
       "|  1   |  0/125  | tensor(5.7035, device='cuda:0', grad_fn=&lt;NllLossBackward0&gt;)|\n",
       "|  1   | 10/125  | tensor(5.5592, device='cuda:0', grad_fn=&lt;NllLossBackward0&gt;)|\n",
       "|  1   | 20/125  | tensor(5.6873, device='cuda:0', grad_fn=&lt;NllLossBackward0&gt;)|\n",
       "|  1   | 30/125  | tensor(5.6297, device='cuda:0', grad_fn=&lt;NllLossBackward0&gt;)|\n",
       "|  1   | 40/125  | tensor(5.6179, device='cuda:0', grad_fn=&lt;NllLossBackward0&gt;)|\n",
       "|  1   | 50/125  | tensor(5.3450, device='cuda:0', grad_fn=&lt;NllLossBackward0&gt;)|\n",
       "|  1   | 60/125  | tensor(5.2201, device='cuda:0', grad_fn=&lt;NllLossBackward0&gt;)|\n",
       "+-----------------------------------------------------------------------------+\n",
       "</pre>\n"
      ],
      "text/plain": [
       "\u001b[3m                                Training Status                                \u001b[0m\n",
       "+-----------------------------------------------------------------------------+\n",
       "|\u001b[1mEpoch\u001b[0m\u001b[1m \u001b[0m|\u001b[1m \u001b[0m\u001b[1m Steps \u001b[0m\u001b[1m \u001b[0m|\u001b[1m \u001b[0m\u001b[1m                           Loss                            \u001b[0m|\n",
       "|------+---------+------------------------------------------------------------|\n",
       "|  0   |  0/125  | tensor(6.2194, device='cuda:0', grad_fn=<NllLossBackward0>)|\n",
       "|  0   | 10/125  | tensor(5.9434, device='cuda:0', grad_fn=<NllLossBackward0>)|\n",
       "|  0   | 20/125  | tensor(6.3498, device='cuda:0', grad_fn=<NllLossBackward0>)|\n",
       "|  0   | 30/125  | tensor(6.2160, device='cuda:0', grad_fn=<NllLossBackward0>)|\n",
       "|  0   | 40/125  | tensor(6.1416, device='cuda:0', grad_fn=<NllLossBackward0>)|\n",
       "|  0   | 50/125  | tensor(5.5193, device='cuda:0', grad_fn=<NllLossBackward0>)|\n",
       "|  0   | 60/125  | tensor(5.8637, device='cuda:0', grad_fn=<NllLossBackward0>)|\n",
       "|  0   | 70/125  | tensor(6.2125, device='cuda:0', grad_fn=<NllLossBackward0>)|\n",
       "|  0   | 80/125  | tensor(5.9123, device='cuda:0', grad_fn=<NllLossBackward0>)|\n",
       "|  0   | 90/125  | tensor(5.6646, device='cuda:0', grad_fn=<NllLossBackward0>)|\n",
       "|  0   | 100/125 | tensor(5.3036, device='cuda:0', grad_fn=<NllLossBackward0>)|\n",
       "|  0   | 110/125 | tensor(5.3769, device='cuda:0', grad_fn=<NllLossBackward0>)|\n",
       "|  0   | 120/125 | tensor(5.3473, device='cuda:0', grad_fn=<NllLossBackward0>)|\n",
       "|  1   |  0/125  | tensor(5.7035, device='cuda:0', grad_fn=<NllLossBackward0>)|\n",
       "|  1   | 10/125  | tensor(5.5592, device='cuda:0', grad_fn=<NllLossBackward0>)|\n",
       "|  1   | 20/125  | tensor(5.6873, device='cuda:0', grad_fn=<NllLossBackward0>)|\n",
       "|  1   | 30/125  | tensor(5.6297, device='cuda:0', grad_fn=<NllLossBackward0>)|\n",
       "|  1   | 40/125  | tensor(5.6179, device='cuda:0', grad_fn=<NllLossBackward0>)|\n",
       "|  1   | 50/125  | tensor(5.3450, device='cuda:0', grad_fn=<NllLossBackward0>)|\n",
       "|  1   | 60/125  | tensor(5.2201, device='cuda:0', grad_fn=<NllLossBackward0>)|\n",
       "+-----------------------------------------------------------------------------+\n"
      ]
     },
     "metadata": {},
     "output_type": "display_data"
    },
    {
     "name": "stdout",
     "output_type": "stream",
     "text": [
      "STEP:  70 / 125\n"
     ]
    },
    {
     "data": {
      "text/html": [
       "<pre style=\"white-space:pre;overflow-x:auto;line-height:normal;font-family:Menlo,'DejaVu Sans Mono',consolas,'Courier New',monospace\"><span style=\"font-style: italic\">                                Training Status                                </span>\n",
       "+-----------------------------------------------------------------------------+\n",
       "|<span style=\"font-weight: bold\">Epoch </span>|<span style=\"font-weight: bold\">  Steps  </span>|<span style=\"font-weight: bold\">                            Loss                            </span>|\n",
       "|------+---------+------------------------------------------------------------|\n",
       "|  0   |  0/125  | tensor(6.2194, device='cuda:0', grad_fn=&lt;NllLossBackward0&gt;)|\n",
       "|  0   | 10/125  | tensor(5.9434, device='cuda:0', grad_fn=&lt;NllLossBackward0&gt;)|\n",
       "|  0   | 20/125  | tensor(6.3498, device='cuda:0', grad_fn=&lt;NllLossBackward0&gt;)|\n",
       "|  0   | 30/125  | tensor(6.2160, device='cuda:0', grad_fn=&lt;NllLossBackward0&gt;)|\n",
       "|  0   | 40/125  | tensor(6.1416, device='cuda:0', grad_fn=&lt;NllLossBackward0&gt;)|\n",
       "|  0   | 50/125  | tensor(5.5193, device='cuda:0', grad_fn=&lt;NllLossBackward0&gt;)|\n",
       "|  0   | 60/125  | tensor(5.8637, device='cuda:0', grad_fn=&lt;NllLossBackward0&gt;)|\n",
       "|  0   | 70/125  | tensor(6.2125, device='cuda:0', grad_fn=&lt;NllLossBackward0&gt;)|\n",
       "|  0   | 80/125  | tensor(5.9123, device='cuda:0', grad_fn=&lt;NllLossBackward0&gt;)|\n",
       "|  0   | 90/125  | tensor(5.6646, device='cuda:0', grad_fn=&lt;NllLossBackward0&gt;)|\n",
       "|  0   | 100/125 | tensor(5.3036, device='cuda:0', grad_fn=&lt;NllLossBackward0&gt;)|\n",
       "|  0   | 110/125 | tensor(5.3769, device='cuda:0', grad_fn=&lt;NllLossBackward0&gt;)|\n",
       "|  0   | 120/125 | tensor(5.3473, device='cuda:0', grad_fn=&lt;NllLossBackward0&gt;)|\n",
       "|  1   |  0/125  | tensor(5.7035, device='cuda:0', grad_fn=&lt;NllLossBackward0&gt;)|\n",
       "|  1   | 10/125  | tensor(5.5592, device='cuda:0', grad_fn=&lt;NllLossBackward0&gt;)|\n",
       "|  1   | 20/125  | tensor(5.6873, device='cuda:0', grad_fn=&lt;NllLossBackward0&gt;)|\n",
       "|  1   | 30/125  | tensor(5.6297, device='cuda:0', grad_fn=&lt;NllLossBackward0&gt;)|\n",
       "|  1   | 40/125  | tensor(5.6179, device='cuda:0', grad_fn=&lt;NllLossBackward0&gt;)|\n",
       "|  1   | 50/125  | tensor(5.3450, device='cuda:0', grad_fn=&lt;NllLossBackward0&gt;)|\n",
       "|  1   | 60/125  | tensor(5.2201, device='cuda:0', grad_fn=&lt;NllLossBackward0&gt;)|\n",
       "|  1   | 70/125  | tensor(5.5509, device='cuda:0', grad_fn=&lt;NllLossBackward0&gt;)|\n",
       "+-----------------------------------------------------------------------------+\n",
       "</pre>\n"
      ],
      "text/plain": [
       "\u001b[3m                                Training Status                                \u001b[0m\n",
       "+-----------------------------------------------------------------------------+\n",
       "|\u001b[1mEpoch\u001b[0m\u001b[1m \u001b[0m|\u001b[1m \u001b[0m\u001b[1m Steps \u001b[0m\u001b[1m \u001b[0m|\u001b[1m \u001b[0m\u001b[1m                           Loss                            \u001b[0m|\n",
       "|------+---------+------------------------------------------------------------|\n",
       "|  0   |  0/125  | tensor(6.2194, device='cuda:0', grad_fn=<NllLossBackward0>)|\n",
       "|  0   | 10/125  | tensor(5.9434, device='cuda:0', grad_fn=<NllLossBackward0>)|\n",
       "|  0   | 20/125  | tensor(6.3498, device='cuda:0', grad_fn=<NllLossBackward0>)|\n",
       "|  0   | 30/125  | tensor(6.2160, device='cuda:0', grad_fn=<NllLossBackward0>)|\n",
       "|  0   | 40/125  | tensor(6.1416, device='cuda:0', grad_fn=<NllLossBackward0>)|\n",
       "|  0   | 50/125  | tensor(5.5193, device='cuda:0', grad_fn=<NllLossBackward0>)|\n",
       "|  0   | 60/125  | tensor(5.8637, device='cuda:0', grad_fn=<NllLossBackward0>)|\n",
       "|  0   | 70/125  | tensor(6.2125, device='cuda:0', grad_fn=<NllLossBackward0>)|\n",
       "|  0   | 80/125  | tensor(5.9123, device='cuda:0', grad_fn=<NllLossBackward0>)|\n",
       "|  0   | 90/125  | tensor(5.6646, device='cuda:0', grad_fn=<NllLossBackward0>)|\n",
       "|  0   | 100/125 | tensor(5.3036, device='cuda:0', grad_fn=<NllLossBackward0>)|\n",
       "|  0   | 110/125 | tensor(5.3769, device='cuda:0', grad_fn=<NllLossBackward0>)|\n",
       "|  0   | 120/125 | tensor(5.3473, device='cuda:0', grad_fn=<NllLossBackward0>)|\n",
       "|  1   |  0/125  | tensor(5.7035, device='cuda:0', grad_fn=<NllLossBackward0>)|\n",
       "|  1   | 10/125  | tensor(5.5592, device='cuda:0', grad_fn=<NllLossBackward0>)|\n",
       "|  1   | 20/125  | tensor(5.6873, device='cuda:0', grad_fn=<NllLossBackward0>)|\n",
       "|  1   | 30/125  | tensor(5.6297, device='cuda:0', grad_fn=<NllLossBackward0>)|\n",
       "|  1   | 40/125  | tensor(5.6179, device='cuda:0', grad_fn=<NllLossBackward0>)|\n",
       "|  1   | 50/125  | tensor(5.3450, device='cuda:0', grad_fn=<NllLossBackward0>)|\n",
       "|  1   | 60/125  | tensor(5.2201, device='cuda:0', grad_fn=<NllLossBackward0>)|\n",
       "|  1   | 70/125  | tensor(5.5509, device='cuda:0', grad_fn=<NllLossBackward0>)|\n",
       "+-----------------------------------------------------------------------------+\n"
      ]
     },
     "metadata": {},
     "output_type": "display_data"
    },
    {
     "name": "stdout",
     "output_type": "stream",
     "text": [
      "STEP:  80 / 125\n"
     ]
    },
    {
     "data": {
      "text/html": [
       "<pre style=\"white-space:pre;overflow-x:auto;line-height:normal;font-family:Menlo,'DejaVu Sans Mono',consolas,'Courier New',monospace\"><span style=\"font-style: italic\">                                Training Status                                </span>\n",
       "+-----------------------------------------------------------------------------+\n",
       "|<span style=\"font-weight: bold\">Epoch </span>|<span style=\"font-weight: bold\">  Steps  </span>|<span style=\"font-weight: bold\">                            Loss                            </span>|\n",
       "|------+---------+------------------------------------------------------------|\n",
       "|  0   |  0/125  | tensor(6.2194, device='cuda:0', grad_fn=&lt;NllLossBackward0&gt;)|\n",
       "|  0   | 10/125  | tensor(5.9434, device='cuda:0', grad_fn=&lt;NllLossBackward0&gt;)|\n",
       "|  0   | 20/125  | tensor(6.3498, device='cuda:0', grad_fn=&lt;NllLossBackward0&gt;)|\n",
       "|  0   | 30/125  | tensor(6.2160, device='cuda:0', grad_fn=&lt;NllLossBackward0&gt;)|\n",
       "|  0   | 40/125  | tensor(6.1416, device='cuda:0', grad_fn=&lt;NllLossBackward0&gt;)|\n",
       "|  0   | 50/125  | tensor(5.5193, device='cuda:0', grad_fn=&lt;NllLossBackward0&gt;)|\n",
       "|  0   | 60/125  | tensor(5.8637, device='cuda:0', grad_fn=&lt;NllLossBackward0&gt;)|\n",
       "|  0   | 70/125  | tensor(6.2125, device='cuda:0', grad_fn=&lt;NllLossBackward0&gt;)|\n",
       "|  0   | 80/125  | tensor(5.9123, device='cuda:0', grad_fn=&lt;NllLossBackward0&gt;)|\n",
       "|  0   | 90/125  | tensor(5.6646, device='cuda:0', grad_fn=&lt;NllLossBackward0&gt;)|\n",
       "|  0   | 100/125 | tensor(5.3036, device='cuda:0', grad_fn=&lt;NllLossBackward0&gt;)|\n",
       "|  0   | 110/125 | tensor(5.3769, device='cuda:0', grad_fn=&lt;NllLossBackward0&gt;)|\n",
       "|  0   | 120/125 | tensor(5.3473, device='cuda:0', grad_fn=&lt;NllLossBackward0&gt;)|\n",
       "|  1   |  0/125  | tensor(5.7035, device='cuda:0', grad_fn=&lt;NllLossBackward0&gt;)|\n",
       "|  1   | 10/125  | tensor(5.5592, device='cuda:0', grad_fn=&lt;NllLossBackward0&gt;)|\n",
       "|  1   | 20/125  | tensor(5.6873, device='cuda:0', grad_fn=&lt;NllLossBackward0&gt;)|\n",
       "|  1   | 30/125  | tensor(5.6297, device='cuda:0', grad_fn=&lt;NllLossBackward0&gt;)|\n",
       "|  1   | 40/125  | tensor(5.6179, device='cuda:0', grad_fn=&lt;NllLossBackward0&gt;)|\n",
       "|  1   | 50/125  | tensor(5.3450, device='cuda:0', grad_fn=&lt;NllLossBackward0&gt;)|\n",
       "|  1   | 60/125  | tensor(5.2201, device='cuda:0', grad_fn=&lt;NllLossBackward0&gt;)|\n",
       "|  1   | 70/125  | tensor(5.5509, device='cuda:0', grad_fn=&lt;NllLossBackward0&gt;)|\n",
       "|  1   | 80/125  | tensor(5.6929, device='cuda:0', grad_fn=&lt;NllLossBackward0&gt;)|\n",
       "+-----------------------------------------------------------------------------+\n",
       "</pre>\n"
      ],
      "text/plain": [
       "\u001b[3m                                Training Status                                \u001b[0m\n",
       "+-----------------------------------------------------------------------------+\n",
       "|\u001b[1mEpoch\u001b[0m\u001b[1m \u001b[0m|\u001b[1m \u001b[0m\u001b[1m Steps \u001b[0m\u001b[1m \u001b[0m|\u001b[1m \u001b[0m\u001b[1m                           Loss                            \u001b[0m|\n",
       "|------+---------+------------------------------------------------------------|\n",
       "|  0   |  0/125  | tensor(6.2194, device='cuda:0', grad_fn=<NllLossBackward0>)|\n",
       "|  0   | 10/125  | tensor(5.9434, device='cuda:0', grad_fn=<NllLossBackward0>)|\n",
       "|  0   | 20/125  | tensor(6.3498, device='cuda:0', grad_fn=<NllLossBackward0>)|\n",
       "|  0   | 30/125  | tensor(6.2160, device='cuda:0', grad_fn=<NllLossBackward0>)|\n",
       "|  0   | 40/125  | tensor(6.1416, device='cuda:0', grad_fn=<NllLossBackward0>)|\n",
       "|  0   | 50/125  | tensor(5.5193, device='cuda:0', grad_fn=<NllLossBackward0>)|\n",
       "|  0   | 60/125  | tensor(5.8637, device='cuda:0', grad_fn=<NllLossBackward0>)|\n",
       "|  0   | 70/125  | tensor(6.2125, device='cuda:0', grad_fn=<NllLossBackward0>)|\n",
       "|  0   | 80/125  | tensor(5.9123, device='cuda:0', grad_fn=<NllLossBackward0>)|\n",
       "|  0   | 90/125  | tensor(5.6646, device='cuda:0', grad_fn=<NllLossBackward0>)|\n",
       "|  0   | 100/125 | tensor(5.3036, device='cuda:0', grad_fn=<NllLossBackward0>)|\n",
       "|  0   | 110/125 | tensor(5.3769, device='cuda:0', grad_fn=<NllLossBackward0>)|\n",
       "|  0   | 120/125 | tensor(5.3473, device='cuda:0', grad_fn=<NllLossBackward0>)|\n",
       "|  1   |  0/125  | tensor(5.7035, device='cuda:0', grad_fn=<NllLossBackward0>)|\n",
       "|  1   | 10/125  | tensor(5.5592, device='cuda:0', grad_fn=<NllLossBackward0>)|\n",
       "|  1   | 20/125  | tensor(5.6873, device='cuda:0', grad_fn=<NllLossBackward0>)|\n",
       "|  1   | 30/125  | tensor(5.6297, device='cuda:0', grad_fn=<NllLossBackward0>)|\n",
       "|  1   | 40/125  | tensor(5.6179, device='cuda:0', grad_fn=<NllLossBackward0>)|\n",
       "|  1   | 50/125  | tensor(5.3450, device='cuda:0', grad_fn=<NllLossBackward0>)|\n",
       "|  1   | 60/125  | tensor(5.2201, device='cuda:0', grad_fn=<NllLossBackward0>)|\n",
       "|  1   | 70/125  | tensor(5.5509, device='cuda:0', grad_fn=<NllLossBackward0>)|\n",
       "|  1   | 80/125  | tensor(5.6929, device='cuda:0', grad_fn=<NllLossBackward0>)|\n",
       "+-----------------------------------------------------------------------------+\n"
      ]
     },
     "metadata": {},
     "output_type": "display_data"
    },
    {
     "name": "stdout",
     "output_type": "stream",
     "text": [
      "STEP:  90 / 125\n"
     ]
    },
    {
     "data": {
      "text/html": [
       "<pre style=\"white-space:pre;overflow-x:auto;line-height:normal;font-family:Menlo,'DejaVu Sans Mono',consolas,'Courier New',monospace\"><span style=\"font-style: italic\">                                Training Status                                </span>\n",
       "+-----------------------------------------------------------------------------+\n",
       "|<span style=\"font-weight: bold\">Epoch </span>|<span style=\"font-weight: bold\">  Steps  </span>|<span style=\"font-weight: bold\">                            Loss                            </span>|\n",
       "|------+---------+------------------------------------------------------------|\n",
       "|  0   |  0/125  | tensor(6.2194, device='cuda:0', grad_fn=&lt;NllLossBackward0&gt;)|\n",
       "|  0   | 10/125  | tensor(5.9434, device='cuda:0', grad_fn=&lt;NllLossBackward0&gt;)|\n",
       "|  0   | 20/125  | tensor(6.3498, device='cuda:0', grad_fn=&lt;NllLossBackward0&gt;)|\n",
       "|  0   | 30/125  | tensor(6.2160, device='cuda:0', grad_fn=&lt;NllLossBackward0&gt;)|\n",
       "|  0   | 40/125  | tensor(6.1416, device='cuda:0', grad_fn=&lt;NllLossBackward0&gt;)|\n",
       "|  0   | 50/125  | tensor(5.5193, device='cuda:0', grad_fn=&lt;NllLossBackward0&gt;)|\n",
       "|  0   | 60/125  | tensor(5.8637, device='cuda:0', grad_fn=&lt;NllLossBackward0&gt;)|\n",
       "|  0   | 70/125  | tensor(6.2125, device='cuda:0', grad_fn=&lt;NllLossBackward0&gt;)|\n",
       "|  0   | 80/125  | tensor(5.9123, device='cuda:0', grad_fn=&lt;NllLossBackward0&gt;)|\n",
       "|  0   | 90/125  | tensor(5.6646, device='cuda:0', grad_fn=&lt;NllLossBackward0&gt;)|\n",
       "|  0   | 100/125 | tensor(5.3036, device='cuda:0', grad_fn=&lt;NllLossBackward0&gt;)|\n",
       "|  0   | 110/125 | tensor(5.3769, device='cuda:0', grad_fn=&lt;NllLossBackward0&gt;)|\n",
       "|  0   | 120/125 | tensor(5.3473, device='cuda:0', grad_fn=&lt;NllLossBackward0&gt;)|\n",
       "|  1   |  0/125  | tensor(5.7035, device='cuda:0', grad_fn=&lt;NllLossBackward0&gt;)|\n",
       "|  1   | 10/125  | tensor(5.5592, device='cuda:0', grad_fn=&lt;NllLossBackward0&gt;)|\n",
       "|  1   | 20/125  | tensor(5.6873, device='cuda:0', grad_fn=&lt;NllLossBackward0&gt;)|\n",
       "|  1   | 30/125  | tensor(5.6297, device='cuda:0', grad_fn=&lt;NllLossBackward0&gt;)|\n",
       "|  1   | 40/125  | tensor(5.6179, device='cuda:0', grad_fn=&lt;NllLossBackward0&gt;)|\n",
       "|  1   | 50/125  | tensor(5.3450, device='cuda:0', grad_fn=&lt;NllLossBackward0&gt;)|\n",
       "|  1   | 60/125  | tensor(5.2201, device='cuda:0', grad_fn=&lt;NllLossBackward0&gt;)|\n",
       "|  1   | 70/125  | tensor(5.5509, device='cuda:0', grad_fn=&lt;NllLossBackward0&gt;)|\n",
       "|  1   | 80/125  | tensor(5.6929, device='cuda:0', grad_fn=&lt;NllLossBackward0&gt;)|\n",
       "|  1   | 90/125  | tensor(5.4524, device='cuda:0', grad_fn=&lt;NllLossBackward0&gt;)|\n",
       "+-----------------------------------------------------------------------------+\n",
       "</pre>\n"
      ],
      "text/plain": [
       "\u001b[3m                                Training Status                                \u001b[0m\n",
       "+-----------------------------------------------------------------------------+\n",
       "|\u001b[1mEpoch\u001b[0m\u001b[1m \u001b[0m|\u001b[1m \u001b[0m\u001b[1m Steps \u001b[0m\u001b[1m \u001b[0m|\u001b[1m \u001b[0m\u001b[1m                           Loss                            \u001b[0m|\n",
       "|------+---------+------------------------------------------------------------|\n",
       "|  0   |  0/125  | tensor(6.2194, device='cuda:0', grad_fn=<NllLossBackward0>)|\n",
       "|  0   | 10/125  | tensor(5.9434, device='cuda:0', grad_fn=<NllLossBackward0>)|\n",
       "|  0   | 20/125  | tensor(6.3498, device='cuda:0', grad_fn=<NllLossBackward0>)|\n",
       "|  0   | 30/125  | tensor(6.2160, device='cuda:0', grad_fn=<NllLossBackward0>)|\n",
       "|  0   | 40/125  | tensor(6.1416, device='cuda:0', grad_fn=<NllLossBackward0>)|\n",
       "|  0   | 50/125  | tensor(5.5193, device='cuda:0', grad_fn=<NllLossBackward0>)|\n",
       "|  0   | 60/125  | tensor(5.8637, device='cuda:0', grad_fn=<NllLossBackward0>)|\n",
       "|  0   | 70/125  | tensor(6.2125, device='cuda:0', grad_fn=<NllLossBackward0>)|\n",
       "|  0   | 80/125  | tensor(5.9123, device='cuda:0', grad_fn=<NllLossBackward0>)|\n",
       "|  0   | 90/125  | tensor(5.6646, device='cuda:0', grad_fn=<NllLossBackward0>)|\n",
       "|  0   | 100/125 | tensor(5.3036, device='cuda:0', grad_fn=<NllLossBackward0>)|\n",
       "|  0   | 110/125 | tensor(5.3769, device='cuda:0', grad_fn=<NllLossBackward0>)|\n",
       "|  0   | 120/125 | tensor(5.3473, device='cuda:0', grad_fn=<NllLossBackward0>)|\n",
       "|  1   |  0/125  | tensor(5.7035, device='cuda:0', grad_fn=<NllLossBackward0>)|\n",
       "|  1   | 10/125  | tensor(5.5592, device='cuda:0', grad_fn=<NllLossBackward0>)|\n",
       "|  1   | 20/125  | tensor(5.6873, device='cuda:0', grad_fn=<NllLossBackward0>)|\n",
       "|  1   | 30/125  | tensor(5.6297, device='cuda:0', grad_fn=<NllLossBackward0>)|\n",
       "|  1   | 40/125  | tensor(5.6179, device='cuda:0', grad_fn=<NllLossBackward0>)|\n",
       "|  1   | 50/125  | tensor(5.3450, device='cuda:0', grad_fn=<NllLossBackward0>)|\n",
       "|  1   | 60/125  | tensor(5.2201, device='cuda:0', grad_fn=<NllLossBackward0>)|\n",
       "|  1   | 70/125  | tensor(5.5509, device='cuda:0', grad_fn=<NllLossBackward0>)|\n",
       "|  1   | 80/125  | tensor(5.6929, device='cuda:0', grad_fn=<NllLossBackward0>)|\n",
       "|  1   | 90/125  | tensor(5.4524, device='cuda:0', grad_fn=<NllLossBackward0>)|\n",
       "+-----------------------------------------------------------------------------+\n"
      ]
     },
     "metadata": {},
     "output_type": "display_data"
    },
    {
     "name": "stdout",
     "output_type": "stream",
     "text": [
      "STEP:  100 / 125\n"
     ]
    },
    {
     "data": {
      "text/html": [
       "<pre style=\"white-space:pre;overflow-x:auto;line-height:normal;font-family:Menlo,'DejaVu Sans Mono',consolas,'Courier New',monospace\"><span style=\"font-style: italic\">                                Training Status                                </span>\n",
       "+-----------------------------------------------------------------------------+\n",
       "|<span style=\"font-weight: bold\">Epoch </span>|<span style=\"font-weight: bold\">  Steps  </span>|<span style=\"font-weight: bold\">                            Loss                            </span>|\n",
       "|------+---------+------------------------------------------------------------|\n",
       "|  0   |  0/125  | tensor(6.2194, device='cuda:0', grad_fn=&lt;NllLossBackward0&gt;)|\n",
       "|  0   | 10/125  | tensor(5.9434, device='cuda:0', grad_fn=&lt;NllLossBackward0&gt;)|\n",
       "|  0   | 20/125  | tensor(6.3498, device='cuda:0', grad_fn=&lt;NllLossBackward0&gt;)|\n",
       "|  0   | 30/125  | tensor(6.2160, device='cuda:0', grad_fn=&lt;NllLossBackward0&gt;)|\n",
       "|  0   | 40/125  | tensor(6.1416, device='cuda:0', grad_fn=&lt;NllLossBackward0&gt;)|\n",
       "|  0   | 50/125  | tensor(5.5193, device='cuda:0', grad_fn=&lt;NllLossBackward0&gt;)|\n",
       "|  0   | 60/125  | tensor(5.8637, device='cuda:0', grad_fn=&lt;NllLossBackward0&gt;)|\n",
       "|  0   | 70/125  | tensor(6.2125, device='cuda:0', grad_fn=&lt;NllLossBackward0&gt;)|\n",
       "|  0   | 80/125  | tensor(5.9123, device='cuda:0', grad_fn=&lt;NllLossBackward0&gt;)|\n",
       "|  0   | 90/125  | tensor(5.6646, device='cuda:0', grad_fn=&lt;NllLossBackward0&gt;)|\n",
       "|  0   | 100/125 | tensor(5.3036, device='cuda:0', grad_fn=&lt;NllLossBackward0&gt;)|\n",
       "|  0   | 110/125 | tensor(5.3769, device='cuda:0', grad_fn=&lt;NllLossBackward0&gt;)|\n",
       "|  0   | 120/125 | tensor(5.3473, device='cuda:0', grad_fn=&lt;NllLossBackward0&gt;)|\n",
       "|  1   |  0/125  | tensor(5.7035, device='cuda:0', grad_fn=&lt;NllLossBackward0&gt;)|\n",
       "|  1   | 10/125  | tensor(5.5592, device='cuda:0', grad_fn=&lt;NllLossBackward0&gt;)|\n",
       "|  1   | 20/125  | tensor(5.6873, device='cuda:0', grad_fn=&lt;NllLossBackward0&gt;)|\n",
       "|  1   | 30/125  | tensor(5.6297, device='cuda:0', grad_fn=&lt;NllLossBackward0&gt;)|\n",
       "|  1   | 40/125  | tensor(5.6179, device='cuda:0', grad_fn=&lt;NllLossBackward0&gt;)|\n",
       "|  1   | 50/125  | tensor(5.3450, device='cuda:0', grad_fn=&lt;NllLossBackward0&gt;)|\n",
       "|  1   | 60/125  | tensor(5.2201, device='cuda:0', grad_fn=&lt;NllLossBackward0&gt;)|\n",
       "|  1   | 70/125  | tensor(5.5509, device='cuda:0', grad_fn=&lt;NllLossBackward0&gt;)|\n",
       "|  1   | 80/125  | tensor(5.6929, device='cuda:0', grad_fn=&lt;NllLossBackward0&gt;)|\n",
       "|  1   | 90/125  | tensor(5.4524, device='cuda:0', grad_fn=&lt;NllLossBackward0&gt;)|\n",
       "|  1   | 100/125 | tensor(5.1404, device='cuda:0', grad_fn=&lt;NllLossBackward0&gt;)|\n",
       "+-----------------------------------------------------------------------------+\n",
       "</pre>\n"
      ],
      "text/plain": [
       "\u001b[3m                                Training Status                                \u001b[0m\n",
       "+-----------------------------------------------------------------------------+\n",
       "|\u001b[1mEpoch\u001b[0m\u001b[1m \u001b[0m|\u001b[1m \u001b[0m\u001b[1m Steps \u001b[0m\u001b[1m \u001b[0m|\u001b[1m \u001b[0m\u001b[1m                           Loss                            \u001b[0m|\n",
       "|------+---------+------------------------------------------------------------|\n",
       "|  0   |  0/125  | tensor(6.2194, device='cuda:0', grad_fn=<NllLossBackward0>)|\n",
       "|  0   | 10/125  | tensor(5.9434, device='cuda:0', grad_fn=<NllLossBackward0>)|\n",
       "|  0   | 20/125  | tensor(6.3498, device='cuda:0', grad_fn=<NllLossBackward0>)|\n",
       "|  0   | 30/125  | tensor(6.2160, device='cuda:0', grad_fn=<NllLossBackward0>)|\n",
       "|  0   | 40/125  | tensor(6.1416, device='cuda:0', grad_fn=<NllLossBackward0>)|\n",
       "|  0   | 50/125  | tensor(5.5193, device='cuda:0', grad_fn=<NllLossBackward0>)|\n",
       "|  0   | 60/125  | tensor(5.8637, device='cuda:0', grad_fn=<NllLossBackward0>)|\n",
       "|  0   | 70/125  | tensor(6.2125, device='cuda:0', grad_fn=<NllLossBackward0>)|\n",
       "|  0   | 80/125  | tensor(5.9123, device='cuda:0', grad_fn=<NllLossBackward0>)|\n",
       "|  0   | 90/125  | tensor(5.6646, device='cuda:0', grad_fn=<NllLossBackward0>)|\n",
       "|  0   | 100/125 | tensor(5.3036, device='cuda:0', grad_fn=<NllLossBackward0>)|\n",
       "|  0   | 110/125 | tensor(5.3769, device='cuda:0', grad_fn=<NllLossBackward0>)|\n",
       "|  0   | 120/125 | tensor(5.3473, device='cuda:0', grad_fn=<NllLossBackward0>)|\n",
       "|  1   |  0/125  | tensor(5.7035, device='cuda:0', grad_fn=<NllLossBackward0>)|\n",
       "|  1   | 10/125  | tensor(5.5592, device='cuda:0', grad_fn=<NllLossBackward0>)|\n",
       "|  1   | 20/125  | tensor(5.6873, device='cuda:0', grad_fn=<NllLossBackward0>)|\n",
       "|  1   | 30/125  | tensor(5.6297, device='cuda:0', grad_fn=<NllLossBackward0>)|\n",
       "|  1   | 40/125  | tensor(5.6179, device='cuda:0', grad_fn=<NllLossBackward0>)|\n",
       "|  1   | 50/125  | tensor(5.3450, device='cuda:0', grad_fn=<NllLossBackward0>)|\n",
       "|  1   | 60/125  | tensor(5.2201, device='cuda:0', grad_fn=<NllLossBackward0>)|\n",
       "|  1   | 70/125  | tensor(5.5509, device='cuda:0', grad_fn=<NllLossBackward0>)|\n",
       "|  1   | 80/125  | tensor(5.6929, device='cuda:0', grad_fn=<NllLossBackward0>)|\n",
       "|  1   | 90/125  | tensor(5.4524, device='cuda:0', grad_fn=<NllLossBackward0>)|\n",
       "|  1   | 100/125 | tensor(5.1404, device='cuda:0', grad_fn=<NllLossBackward0>)|\n",
       "+-----------------------------------------------------------------------------+\n"
      ]
     },
     "metadata": {},
     "output_type": "display_data"
    },
    {
     "name": "stdout",
     "output_type": "stream",
     "text": [
      "STEP:  110 / 125\n"
     ]
    },
    {
     "data": {
      "text/html": [
       "<pre style=\"white-space:pre;overflow-x:auto;line-height:normal;font-family:Menlo,'DejaVu Sans Mono',consolas,'Courier New',monospace\"><span style=\"font-style: italic\">                                Training Status                                </span>\n",
       "+-----------------------------------------------------------------------------+\n",
       "|<span style=\"font-weight: bold\">Epoch </span>|<span style=\"font-weight: bold\">  Steps  </span>|<span style=\"font-weight: bold\">                            Loss                            </span>|\n",
       "|------+---------+------------------------------------------------------------|\n",
       "|  0   |  0/125  | tensor(6.2194, device='cuda:0', grad_fn=&lt;NllLossBackward0&gt;)|\n",
       "|  0   | 10/125  | tensor(5.9434, device='cuda:0', grad_fn=&lt;NllLossBackward0&gt;)|\n",
       "|  0   | 20/125  | tensor(6.3498, device='cuda:0', grad_fn=&lt;NllLossBackward0&gt;)|\n",
       "|  0   | 30/125  | tensor(6.2160, device='cuda:0', grad_fn=&lt;NllLossBackward0&gt;)|\n",
       "|  0   | 40/125  | tensor(6.1416, device='cuda:0', grad_fn=&lt;NllLossBackward0&gt;)|\n",
       "|  0   | 50/125  | tensor(5.5193, device='cuda:0', grad_fn=&lt;NllLossBackward0&gt;)|\n",
       "|  0   | 60/125  | tensor(5.8637, device='cuda:0', grad_fn=&lt;NllLossBackward0&gt;)|\n",
       "|  0   | 70/125  | tensor(6.2125, device='cuda:0', grad_fn=&lt;NllLossBackward0&gt;)|\n",
       "|  0   | 80/125  | tensor(5.9123, device='cuda:0', grad_fn=&lt;NllLossBackward0&gt;)|\n",
       "|  0   | 90/125  | tensor(5.6646, device='cuda:0', grad_fn=&lt;NllLossBackward0&gt;)|\n",
       "|  0   | 100/125 | tensor(5.3036, device='cuda:0', grad_fn=&lt;NllLossBackward0&gt;)|\n",
       "|  0   | 110/125 | tensor(5.3769, device='cuda:0', grad_fn=&lt;NllLossBackward0&gt;)|\n",
       "|  0   | 120/125 | tensor(5.3473, device='cuda:0', grad_fn=&lt;NllLossBackward0&gt;)|\n",
       "|  1   |  0/125  | tensor(5.7035, device='cuda:0', grad_fn=&lt;NllLossBackward0&gt;)|\n",
       "|  1   | 10/125  | tensor(5.5592, device='cuda:0', grad_fn=&lt;NllLossBackward0&gt;)|\n",
       "|  1   | 20/125  | tensor(5.6873, device='cuda:0', grad_fn=&lt;NllLossBackward0&gt;)|\n",
       "|  1   | 30/125  | tensor(5.6297, device='cuda:0', grad_fn=&lt;NllLossBackward0&gt;)|\n",
       "|  1   | 40/125  | tensor(5.6179, device='cuda:0', grad_fn=&lt;NllLossBackward0&gt;)|\n",
       "|  1   | 50/125  | tensor(5.3450, device='cuda:0', grad_fn=&lt;NllLossBackward0&gt;)|\n",
       "|  1   | 60/125  | tensor(5.2201, device='cuda:0', grad_fn=&lt;NllLossBackward0&gt;)|\n",
       "|  1   | 70/125  | tensor(5.5509, device='cuda:0', grad_fn=&lt;NllLossBackward0&gt;)|\n",
       "|  1   | 80/125  | tensor(5.6929, device='cuda:0', grad_fn=&lt;NllLossBackward0&gt;)|\n",
       "|  1   | 90/125  | tensor(5.4524, device='cuda:0', grad_fn=&lt;NllLossBackward0&gt;)|\n",
       "|  1   | 100/125 | tensor(5.1404, device='cuda:0', grad_fn=&lt;NllLossBackward0&gt;)|\n",
       "|  1   | 110/125 | tensor(5.5899, device='cuda:0', grad_fn=&lt;NllLossBackward0&gt;)|\n",
       "+-----------------------------------------------------------------------------+\n",
       "</pre>\n"
      ],
      "text/plain": [
       "\u001b[3m                                Training Status                                \u001b[0m\n",
       "+-----------------------------------------------------------------------------+\n",
       "|\u001b[1mEpoch\u001b[0m\u001b[1m \u001b[0m|\u001b[1m \u001b[0m\u001b[1m Steps \u001b[0m\u001b[1m \u001b[0m|\u001b[1m \u001b[0m\u001b[1m                           Loss                            \u001b[0m|\n",
       "|------+---------+------------------------------------------------------------|\n",
       "|  0   |  0/125  | tensor(6.2194, device='cuda:0', grad_fn=<NllLossBackward0>)|\n",
       "|  0   | 10/125  | tensor(5.9434, device='cuda:0', grad_fn=<NllLossBackward0>)|\n",
       "|  0   | 20/125  | tensor(6.3498, device='cuda:0', grad_fn=<NllLossBackward0>)|\n",
       "|  0   | 30/125  | tensor(6.2160, device='cuda:0', grad_fn=<NllLossBackward0>)|\n",
       "|  0   | 40/125  | tensor(6.1416, device='cuda:0', grad_fn=<NllLossBackward0>)|\n",
       "|  0   | 50/125  | tensor(5.5193, device='cuda:0', grad_fn=<NllLossBackward0>)|\n",
       "|  0   | 60/125  | tensor(5.8637, device='cuda:0', grad_fn=<NllLossBackward0>)|\n",
       "|  0   | 70/125  | tensor(6.2125, device='cuda:0', grad_fn=<NllLossBackward0>)|\n",
       "|  0   | 80/125  | tensor(5.9123, device='cuda:0', grad_fn=<NllLossBackward0>)|\n",
       "|  0   | 90/125  | tensor(5.6646, device='cuda:0', grad_fn=<NllLossBackward0>)|\n",
       "|  0   | 100/125 | tensor(5.3036, device='cuda:0', grad_fn=<NllLossBackward0>)|\n",
       "|  0   | 110/125 | tensor(5.3769, device='cuda:0', grad_fn=<NllLossBackward0>)|\n",
       "|  0   | 120/125 | tensor(5.3473, device='cuda:0', grad_fn=<NllLossBackward0>)|\n",
       "|  1   |  0/125  | tensor(5.7035, device='cuda:0', grad_fn=<NllLossBackward0>)|\n",
       "|  1   | 10/125  | tensor(5.5592, device='cuda:0', grad_fn=<NllLossBackward0>)|\n",
       "|  1   | 20/125  | tensor(5.6873, device='cuda:0', grad_fn=<NllLossBackward0>)|\n",
       "|  1   | 30/125  | tensor(5.6297, device='cuda:0', grad_fn=<NllLossBackward0>)|\n",
       "|  1   | 40/125  | tensor(5.6179, device='cuda:0', grad_fn=<NllLossBackward0>)|\n",
       "|  1   | 50/125  | tensor(5.3450, device='cuda:0', grad_fn=<NllLossBackward0>)|\n",
       "|  1   | 60/125  | tensor(5.2201, device='cuda:0', grad_fn=<NllLossBackward0>)|\n",
       "|  1   | 70/125  | tensor(5.5509, device='cuda:0', grad_fn=<NllLossBackward0>)|\n",
       "|  1   | 80/125  | tensor(5.6929, device='cuda:0', grad_fn=<NllLossBackward0>)|\n",
       "|  1   | 90/125  | tensor(5.4524, device='cuda:0', grad_fn=<NllLossBackward0>)|\n",
       "|  1   | 100/125 | tensor(5.1404, device='cuda:0', grad_fn=<NllLossBackward0>)|\n",
       "|  1   | 110/125 | tensor(5.5899, device='cuda:0', grad_fn=<NllLossBackward0>)|\n",
       "+-----------------------------------------------------------------------------+\n"
      ]
     },
     "metadata": {},
     "output_type": "display_data"
    },
    {
     "name": "stdout",
     "output_type": "stream",
     "text": [
      "STEP:  120 / 125\n"
     ]
    },
    {
     "data": {
      "text/html": [
       "<pre style=\"white-space:pre;overflow-x:auto;line-height:normal;font-family:Menlo,'DejaVu Sans Mono',consolas,'Courier New',monospace\"><span style=\"font-style: italic\">                                Training Status                                </span>\n",
       "+-----------------------------------------------------------------------------+\n",
       "|<span style=\"font-weight: bold\">Epoch </span>|<span style=\"font-weight: bold\">  Steps  </span>|<span style=\"font-weight: bold\">                            Loss                            </span>|\n",
       "|------+---------+------------------------------------------------------------|\n",
       "|  0   |  0/125  | tensor(6.2194, device='cuda:0', grad_fn=&lt;NllLossBackward0&gt;)|\n",
       "|  0   | 10/125  | tensor(5.9434, device='cuda:0', grad_fn=&lt;NllLossBackward0&gt;)|\n",
       "|  0   | 20/125  | tensor(6.3498, device='cuda:0', grad_fn=&lt;NllLossBackward0&gt;)|\n",
       "|  0   | 30/125  | tensor(6.2160, device='cuda:0', grad_fn=&lt;NllLossBackward0&gt;)|\n",
       "|  0   | 40/125  | tensor(6.1416, device='cuda:0', grad_fn=&lt;NllLossBackward0&gt;)|\n",
       "|  0   | 50/125  | tensor(5.5193, device='cuda:0', grad_fn=&lt;NllLossBackward0&gt;)|\n",
       "|  0   | 60/125  | tensor(5.8637, device='cuda:0', grad_fn=&lt;NllLossBackward0&gt;)|\n",
       "|  0   | 70/125  | tensor(6.2125, device='cuda:0', grad_fn=&lt;NllLossBackward0&gt;)|\n",
       "|  0   | 80/125  | tensor(5.9123, device='cuda:0', grad_fn=&lt;NllLossBackward0&gt;)|\n",
       "|  0   | 90/125  | tensor(5.6646, device='cuda:0', grad_fn=&lt;NllLossBackward0&gt;)|\n",
       "|  0   | 100/125 | tensor(5.3036, device='cuda:0', grad_fn=&lt;NllLossBackward0&gt;)|\n",
       "|  0   | 110/125 | tensor(5.3769, device='cuda:0', grad_fn=&lt;NllLossBackward0&gt;)|\n",
       "|  0   | 120/125 | tensor(5.3473, device='cuda:0', grad_fn=&lt;NllLossBackward0&gt;)|\n",
       "|  1   |  0/125  | tensor(5.7035, device='cuda:0', grad_fn=&lt;NllLossBackward0&gt;)|\n",
       "|  1   | 10/125  | tensor(5.5592, device='cuda:0', grad_fn=&lt;NllLossBackward0&gt;)|\n",
       "|  1   | 20/125  | tensor(5.6873, device='cuda:0', grad_fn=&lt;NllLossBackward0&gt;)|\n",
       "|  1   | 30/125  | tensor(5.6297, device='cuda:0', grad_fn=&lt;NllLossBackward0&gt;)|\n",
       "|  1   | 40/125  | tensor(5.6179, device='cuda:0', grad_fn=&lt;NllLossBackward0&gt;)|\n",
       "|  1   | 50/125  | tensor(5.3450, device='cuda:0', grad_fn=&lt;NllLossBackward0&gt;)|\n",
       "|  1   | 60/125  | tensor(5.2201, device='cuda:0', grad_fn=&lt;NllLossBackward0&gt;)|\n",
       "|  1   | 70/125  | tensor(5.5509, device='cuda:0', grad_fn=&lt;NllLossBackward0&gt;)|\n",
       "|  1   | 80/125  | tensor(5.6929, device='cuda:0', grad_fn=&lt;NllLossBackward0&gt;)|\n",
       "|  1   | 90/125  | tensor(5.4524, device='cuda:0', grad_fn=&lt;NllLossBackward0&gt;)|\n",
       "|  1   | 100/125 | tensor(5.1404, device='cuda:0', grad_fn=&lt;NllLossBackward0&gt;)|\n",
       "|  1   | 110/125 | tensor(5.5899, device='cuda:0', grad_fn=&lt;NllLossBackward0&gt;)|\n",
       "|  1   | 120/125 | tensor(4.8967, device='cuda:0', grad_fn=&lt;NllLossBackward0&gt;)|\n",
       "+-----------------------------------------------------------------------------+\n",
       "</pre>\n"
      ],
      "text/plain": [
       "\u001b[3m                                Training Status                                \u001b[0m\n",
       "+-----------------------------------------------------------------------------+\n",
       "|\u001b[1mEpoch\u001b[0m\u001b[1m \u001b[0m|\u001b[1m \u001b[0m\u001b[1m Steps \u001b[0m\u001b[1m \u001b[0m|\u001b[1m \u001b[0m\u001b[1m                           Loss                            \u001b[0m|\n",
       "|------+---------+------------------------------------------------------------|\n",
       "|  0   |  0/125  | tensor(6.2194, device='cuda:0', grad_fn=<NllLossBackward0>)|\n",
       "|  0   | 10/125  | tensor(5.9434, device='cuda:0', grad_fn=<NllLossBackward0>)|\n",
       "|  0   | 20/125  | tensor(6.3498, device='cuda:0', grad_fn=<NllLossBackward0>)|\n",
       "|  0   | 30/125  | tensor(6.2160, device='cuda:0', grad_fn=<NllLossBackward0>)|\n",
       "|  0   | 40/125  | tensor(6.1416, device='cuda:0', grad_fn=<NllLossBackward0>)|\n",
       "|  0   | 50/125  | tensor(5.5193, device='cuda:0', grad_fn=<NllLossBackward0>)|\n",
       "|  0   | 60/125  | tensor(5.8637, device='cuda:0', grad_fn=<NllLossBackward0>)|\n",
       "|  0   | 70/125  | tensor(6.2125, device='cuda:0', grad_fn=<NllLossBackward0>)|\n",
       "|  0   | 80/125  | tensor(5.9123, device='cuda:0', grad_fn=<NllLossBackward0>)|\n",
       "|  0   | 90/125  | tensor(5.6646, device='cuda:0', grad_fn=<NllLossBackward0>)|\n",
       "|  0   | 100/125 | tensor(5.3036, device='cuda:0', grad_fn=<NllLossBackward0>)|\n",
       "|  0   | 110/125 | tensor(5.3769, device='cuda:0', grad_fn=<NllLossBackward0>)|\n",
       "|  0   | 120/125 | tensor(5.3473, device='cuda:0', grad_fn=<NllLossBackward0>)|\n",
       "|  1   |  0/125  | tensor(5.7035, device='cuda:0', grad_fn=<NllLossBackward0>)|\n",
       "|  1   | 10/125  | tensor(5.5592, device='cuda:0', grad_fn=<NllLossBackward0>)|\n",
       "|  1   | 20/125  | tensor(5.6873, device='cuda:0', grad_fn=<NllLossBackward0>)|\n",
       "|  1   | 30/125  | tensor(5.6297, device='cuda:0', grad_fn=<NllLossBackward0>)|\n",
       "|  1   | 40/125  | tensor(5.6179, device='cuda:0', grad_fn=<NllLossBackward0>)|\n",
       "|  1   | 50/125  | tensor(5.3450, device='cuda:0', grad_fn=<NllLossBackward0>)|\n",
       "|  1   | 60/125  | tensor(5.2201, device='cuda:0', grad_fn=<NllLossBackward0>)|\n",
       "|  1   | 70/125  | tensor(5.5509, device='cuda:0', grad_fn=<NllLossBackward0>)|\n",
       "|  1   | 80/125  | tensor(5.6929, device='cuda:0', grad_fn=<NllLossBackward0>)|\n",
       "|  1   | 90/125  | tensor(5.4524, device='cuda:0', grad_fn=<NllLossBackward0>)|\n",
       "|  1   | 100/125 | tensor(5.1404, device='cuda:0', grad_fn=<NllLossBackward0>)|\n",
       "|  1   | 110/125 | tensor(5.5899, device='cuda:0', grad_fn=<NllLossBackward0>)|\n",
       "|  1   | 120/125 | tensor(4.8967, device='cuda:0', grad_fn=<NllLossBackward0>)|\n",
       "+-----------------------------------------------------------------------------+\n"
      ]
     },
     "metadata": {},
     "output_type": "display_data"
    },
    {
     "data": {
      "text/html": [
       "<pre style=\"white-space:pre;overflow-x:auto;line-height:normal;font-family:Menlo,'DejaVu Sans Mono',consolas,'Courier New',monospace\">Completed <span style=\"color: #008080; text-decoration-color: #008080; font-weight: bold\">0</span>\n",
       "</pre>\n"
      ],
      "text/plain": [
       "Completed \u001b[1;36m0\u001b[0m\n"
      ]
     },
     "metadata": {},
     "output_type": "display_data"
    },
    {
     "data": {
      "text/html": [
       "<pre style=\"white-space:pre;overflow-x:auto;line-height:normal;font-family:Menlo,'DejaVu Sans Mono',consolas,'Courier New',monospace\">Completed <span style=\"color: #008080; text-decoration-color: #008080; font-weight: bold\">10</span>\n",
       "</pre>\n"
      ],
      "text/plain": [
       "Completed \u001b[1;36m10\u001b[0m\n"
      ]
     },
     "metadata": {},
     "output_type": "display_data"
    },
    {
     "data": {
      "text/html": [
       "<pre style=\"white-space:pre;overflow-x:auto;line-height:normal;font-family:Menlo,'DejaVu Sans Mono',consolas,'Courier New',monospace\">Completed <span style=\"color: #008080; text-decoration-color: #008080; font-weight: bold\">20</span>\n",
       "</pre>\n"
      ],
      "text/plain": [
       "Completed \u001b[1;36m20\u001b[0m\n"
      ]
     },
     "metadata": {},
     "output_type": "display_data"
    },
    {
     "data": {
      "text/html": [
       "<pre style=\"white-space:pre;overflow-x:auto;line-height:normal;font-family:Menlo,'DejaVu Sans Mono',consolas,'Courier New',monospace\">Completed <span style=\"color: #008080; text-decoration-color: #008080; font-weight: bold\">30</span>\n",
       "</pre>\n"
      ],
      "text/plain": [
       "Completed \u001b[1;36m30\u001b[0m\n"
      ]
     },
     "metadata": {},
     "output_type": "display_data"
    },
    {
     "data": {
      "text/html": [
       "<pre style=\"white-space:pre;overflow-x:auto;line-height:normal;font-family:Menlo,'DejaVu Sans Mono',consolas,'Courier New',monospace\">Completed <span style=\"color: #008080; text-decoration-color: #008080; font-weight: bold\">40</span>\n",
       "</pre>\n"
      ],
      "text/plain": [
       "Completed \u001b[1;36m40\u001b[0m\n"
      ]
     },
     "metadata": {},
     "output_type": "display_data"
    },
    {
     "data": {
      "text/html": [
       "<pre style=\"white-space:pre;overflow-x:auto;line-height:normal;font-family:Menlo,'DejaVu Sans Mono',consolas,'Courier New',monospace\">Completed <span style=\"color: #008080; text-decoration-color: #008080; font-weight: bold\">50</span>\n",
       "</pre>\n"
      ],
      "text/plain": [
       "Completed \u001b[1;36m50\u001b[0m\n"
      ]
     },
     "metadata": {},
     "output_type": "display_data"
    },
    {
     "data": {
      "text/html": [
       "<pre style=\"white-space:pre;overflow-x:auto;line-height:normal;font-family:Menlo,'DejaVu Sans Mono',consolas,'Courier New',monospace\">Completed <span style=\"color: #008080; text-decoration-color: #008080; font-weight: bold\">60</span>\n",
       "</pre>\n"
      ],
      "text/plain": [
       "Completed \u001b[1;36m60\u001b[0m\n"
      ]
     },
     "metadata": {},
     "output_type": "display_data"
    },
    {
     "data": {
      "text/html": [
       "<pre style=\"white-space:pre;overflow-x:auto;line-height:normal;font-family:Menlo,'DejaVu Sans Mono',consolas,'Courier New',monospace\">Completed <span style=\"color: #008080; text-decoration-color: #008080; font-weight: bold\">70</span>\n",
       "</pre>\n"
      ],
      "text/plain": [
       "Completed \u001b[1;36m70\u001b[0m\n"
      ]
     },
     "metadata": {},
     "output_type": "display_data"
    },
    {
     "data": {
      "text/html": [
       "<pre style=\"white-space:pre;overflow-x:auto;line-height:normal;font-family:Menlo,'DejaVu Sans Mono',consolas,'Courier New',monospace\">Completed <span style=\"color: #008080; text-decoration-color: #008080; font-weight: bold\">80</span>\n",
       "</pre>\n"
      ],
      "text/plain": [
       "Completed \u001b[1;36m80\u001b[0m\n"
      ]
     },
     "metadata": {},
     "output_type": "display_data"
    },
    {
     "data": {
      "text/html": [
       "<pre style=\"white-space:pre;overflow-x:auto;line-height:normal;font-family:Menlo,'DejaVu Sans Mono',consolas,'Courier New',monospace\">Completed <span style=\"color: #008080; text-decoration-color: #008080; font-weight: bold\">90</span>\n",
       "</pre>\n"
      ],
      "text/plain": [
       "Completed \u001b[1;36m90\u001b[0m\n"
      ]
     },
     "metadata": {},
     "output_type": "display_data"
    },
    {
     "data": {
      "text/html": [
       "<pre style=\"white-space:pre;overflow-x:auto;line-height:normal;font-family:Menlo,'DejaVu Sans Mono',consolas,'Courier New',monospace\">Completed <span style=\"color: #008080; text-decoration-color: #008080; font-weight: bold\">100</span>\n",
       "</pre>\n"
      ],
      "text/plain": [
       "Completed \u001b[1;36m100\u001b[0m\n"
      ]
     },
     "metadata": {},
     "output_type": "display_data"
    },
    {
     "data": {
      "text/html": [
       "<pre style=\"white-space:pre;overflow-x:auto;line-height:normal;font-family:Menlo,'DejaVu Sans Mono',consolas,'Courier New',monospace\">Completed <span style=\"color: #008080; text-decoration-color: #008080; font-weight: bold\">110</span>\n",
       "</pre>\n"
      ],
      "text/plain": [
       "Completed \u001b[1;36m110\u001b[0m\n"
      ]
     },
     "metadata": {},
     "output_type": "display_data"
    },
    {
     "data": {
      "text/html": [
       "<pre style=\"white-space:pre;overflow-x:auto;line-height:normal;font-family:Menlo,'DejaVu Sans Mono',consolas,'Courier New',monospace\">Completed <span style=\"color: #008080; text-decoration-color: #008080; font-weight: bold\">120</span>\n",
       "</pre>\n"
      ],
      "text/plain": [
       "Completed \u001b[1;36m120\u001b[0m\n"
      ]
     },
     "metadata": {},
     "output_type": "display_data"
    },
    {
     "name": "stdout",
     "output_type": "stream",
     "text": [
      "SAVE TO CSV FINISHED\n",
      "SAVE ROUGE TO CSV FINISHED\n",
      "STEP:  0 / 125\n"
     ]
    },
    {
     "data": {
      "text/html": [
       "<pre style=\"white-space:pre;overflow-x:auto;line-height:normal;font-family:Menlo,'DejaVu Sans Mono',consolas,'Courier New',monospace\"><span style=\"font-style: italic\">                                Training Status                                </span>\n",
       "+-----------------------------------------------------------------------------+\n",
       "|<span style=\"font-weight: bold\">Epoch </span>|<span style=\"font-weight: bold\">  Steps  </span>|<span style=\"font-weight: bold\">                            Loss                            </span>|\n",
       "|------+---------+------------------------------------------------------------|\n",
       "|  0   |  0/125  | tensor(6.2194, device='cuda:0', grad_fn=&lt;NllLossBackward0&gt;)|\n",
       "|  0   | 10/125  | tensor(5.9434, device='cuda:0', grad_fn=&lt;NllLossBackward0&gt;)|\n",
       "|  0   | 20/125  | tensor(6.3498, device='cuda:0', grad_fn=&lt;NllLossBackward0&gt;)|\n",
       "|  0   | 30/125  | tensor(6.2160, device='cuda:0', grad_fn=&lt;NllLossBackward0&gt;)|\n",
       "|  0   | 40/125  | tensor(6.1416, device='cuda:0', grad_fn=&lt;NllLossBackward0&gt;)|\n",
       "|  0   | 50/125  | tensor(5.5193, device='cuda:0', grad_fn=&lt;NllLossBackward0&gt;)|\n",
       "|  0   | 60/125  | tensor(5.8637, device='cuda:0', grad_fn=&lt;NllLossBackward0&gt;)|\n",
       "|  0   | 70/125  | tensor(6.2125, device='cuda:0', grad_fn=&lt;NllLossBackward0&gt;)|\n",
       "|  0   | 80/125  | tensor(5.9123, device='cuda:0', grad_fn=&lt;NllLossBackward0&gt;)|\n",
       "|  0   | 90/125  | tensor(5.6646, device='cuda:0', grad_fn=&lt;NllLossBackward0&gt;)|\n",
       "|  0   | 100/125 | tensor(5.3036, device='cuda:0', grad_fn=&lt;NllLossBackward0&gt;)|\n",
       "|  0   | 110/125 | tensor(5.3769, device='cuda:0', grad_fn=&lt;NllLossBackward0&gt;)|\n",
       "|  0   | 120/125 | tensor(5.3473, device='cuda:0', grad_fn=&lt;NllLossBackward0&gt;)|\n",
       "|  1   |  0/125  | tensor(5.7035, device='cuda:0', grad_fn=&lt;NllLossBackward0&gt;)|\n",
       "|  1   | 10/125  | tensor(5.5592, device='cuda:0', grad_fn=&lt;NllLossBackward0&gt;)|\n",
       "|  1   | 20/125  | tensor(5.6873, device='cuda:0', grad_fn=&lt;NllLossBackward0&gt;)|\n",
       "|  1   | 30/125  | tensor(5.6297, device='cuda:0', grad_fn=&lt;NllLossBackward0&gt;)|\n",
       "|  1   | 40/125  | tensor(5.6179, device='cuda:0', grad_fn=&lt;NllLossBackward0&gt;)|\n",
       "|  1   | 50/125  | tensor(5.3450, device='cuda:0', grad_fn=&lt;NllLossBackward0&gt;)|\n",
       "|  1   | 60/125  | tensor(5.2201, device='cuda:0', grad_fn=&lt;NllLossBackward0&gt;)|\n",
       "|  1   | 70/125  | tensor(5.5509, device='cuda:0', grad_fn=&lt;NllLossBackward0&gt;)|\n",
       "|  1   | 80/125  | tensor(5.6929, device='cuda:0', grad_fn=&lt;NllLossBackward0&gt;)|\n",
       "|  1   | 90/125  | tensor(5.4524, device='cuda:0', grad_fn=&lt;NllLossBackward0&gt;)|\n",
       "|  1   | 100/125 | tensor(5.1404, device='cuda:0', grad_fn=&lt;NllLossBackward0&gt;)|\n",
       "|  1   | 110/125 | tensor(5.5899, device='cuda:0', grad_fn=&lt;NllLossBackward0&gt;)|\n",
       "|  1   | 120/125 | tensor(4.8967, device='cuda:0', grad_fn=&lt;NllLossBackward0&gt;)|\n",
       "|  2   |  0/125  | tensor(5.2942, device='cuda:0', grad_fn=&lt;NllLossBackward0&gt;)|\n",
       "+-----------------------------------------------------------------------------+\n",
       "</pre>\n"
      ],
      "text/plain": [
       "\u001b[3m                                Training Status                                \u001b[0m\n",
       "+-----------------------------------------------------------------------------+\n",
       "|\u001b[1mEpoch\u001b[0m\u001b[1m \u001b[0m|\u001b[1m \u001b[0m\u001b[1m Steps \u001b[0m\u001b[1m \u001b[0m|\u001b[1m \u001b[0m\u001b[1m                           Loss                            \u001b[0m|\n",
       "|------+---------+------------------------------------------------------------|\n",
       "|  0   |  0/125  | tensor(6.2194, device='cuda:0', grad_fn=<NllLossBackward0>)|\n",
       "|  0   | 10/125  | tensor(5.9434, device='cuda:0', grad_fn=<NllLossBackward0>)|\n",
       "|  0   | 20/125  | tensor(6.3498, device='cuda:0', grad_fn=<NllLossBackward0>)|\n",
       "|  0   | 30/125  | tensor(6.2160, device='cuda:0', grad_fn=<NllLossBackward0>)|\n",
       "|  0   | 40/125  | tensor(6.1416, device='cuda:0', grad_fn=<NllLossBackward0>)|\n",
       "|  0   | 50/125  | tensor(5.5193, device='cuda:0', grad_fn=<NllLossBackward0>)|\n",
       "|  0   | 60/125  | tensor(5.8637, device='cuda:0', grad_fn=<NllLossBackward0>)|\n",
       "|  0   | 70/125  | tensor(6.2125, device='cuda:0', grad_fn=<NllLossBackward0>)|\n",
       "|  0   | 80/125  | tensor(5.9123, device='cuda:0', grad_fn=<NllLossBackward0>)|\n",
       "|  0   | 90/125  | tensor(5.6646, device='cuda:0', grad_fn=<NllLossBackward0>)|\n",
       "|  0   | 100/125 | tensor(5.3036, device='cuda:0', grad_fn=<NllLossBackward0>)|\n",
       "|  0   | 110/125 | tensor(5.3769, device='cuda:0', grad_fn=<NllLossBackward0>)|\n",
       "|  0   | 120/125 | tensor(5.3473, device='cuda:0', grad_fn=<NllLossBackward0>)|\n",
       "|  1   |  0/125  | tensor(5.7035, device='cuda:0', grad_fn=<NllLossBackward0>)|\n",
       "|  1   | 10/125  | tensor(5.5592, device='cuda:0', grad_fn=<NllLossBackward0>)|\n",
       "|  1   | 20/125  | tensor(5.6873, device='cuda:0', grad_fn=<NllLossBackward0>)|\n",
       "|  1   | 30/125  | tensor(5.6297, device='cuda:0', grad_fn=<NllLossBackward0>)|\n",
       "|  1   | 40/125  | tensor(5.6179, device='cuda:0', grad_fn=<NllLossBackward0>)|\n",
       "|  1   | 50/125  | tensor(5.3450, device='cuda:0', grad_fn=<NllLossBackward0>)|\n",
       "|  1   | 60/125  | tensor(5.2201, device='cuda:0', grad_fn=<NllLossBackward0>)|\n",
       "|  1   | 70/125  | tensor(5.5509, device='cuda:0', grad_fn=<NllLossBackward0>)|\n",
       "|  1   | 80/125  | tensor(5.6929, device='cuda:0', grad_fn=<NllLossBackward0>)|\n",
       "|  1   | 90/125  | tensor(5.4524, device='cuda:0', grad_fn=<NllLossBackward0>)|\n",
       "|  1   | 100/125 | tensor(5.1404, device='cuda:0', grad_fn=<NllLossBackward0>)|\n",
       "|  1   | 110/125 | tensor(5.5899, device='cuda:0', grad_fn=<NllLossBackward0>)|\n",
       "|  1   | 120/125 | tensor(4.8967, device='cuda:0', grad_fn=<NllLossBackward0>)|\n",
       "|  2   |  0/125  | tensor(5.2942, device='cuda:0', grad_fn=<NllLossBackward0>)|\n",
       "+-----------------------------------------------------------------------------+\n"
      ]
     },
     "metadata": {},
     "output_type": "display_data"
    },
    {
     "name": "stdout",
     "output_type": "stream",
     "text": [
      "STEP:  10 / 125\n"
     ]
    },
    {
     "data": {
      "text/html": [
       "<pre style=\"white-space:pre;overflow-x:auto;line-height:normal;font-family:Menlo,'DejaVu Sans Mono',consolas,'Courier New',monospace\"><span style=\"font-style: italic\">                                Training Status                                </span>\n",
       "+-----------------------------------------------------------------------------+\n",
       "|<span style=\"font-weight: bold\">Epoch </span>|<span style=\"font-weight: bold\">  Steps  </span>|<span style=\"font-weight: bold\">                            Loss                            </span>|\n",
       "|------+---------+------------------------------------------------------------|\n",
       "|  0   |  0/125  | tensor(6.2194, device='cuda:0', grad_fn=&lt;NllLossBackward0&gt;)|\n",
       "|  0   | 10/125  | tensor(5.9434, device='cuda:0', grad_fn=&lt;NllLossBackward0&gt;)|\n",
       "|  0   | 20/125  | tensor(6.3498, device='cuda:0', grad_fn=&lt;NllLossBackward0&gt;)|\n",
       "|  0   | 30/125  | tensor(6.2160, device='cuda:0', grad_fn=&lt;NllLossBackward0&gt;)|\n",
       "|  0   | 40/125  | tensor(6.1416, device='cuda:0', grad_fn=&lt;NllLossBackward0&gt;)|\n",
       "|  0   | 50/125  | tensor(5.5193, device='cuda:0', grad_fn=&lt;NllLossBackward0&gt;)|\n",
       "|  0   | 60/125  | tensor(5.8637, device='cuda:0', grad_fn=&lt;NllLossBackward0&gt;)|\n",
       "|  0   | 70/125  | tensor(6.2125, device='cuda:0', grad_fn=&lt;NllLossBackward0&gt;)|\n",
       "|  0   | 80/125  | tensor(5.9123, device='cuda:0', grad_fn=&lt;NllLossBackward0&gt;)|\n",
       "|  0   | 90/125  | tensor(5.6646, device='cuda:0', grad_fn=&lt;NllLossBackward0&gt;)|\n",
       "|  0   | 100/125 | tensor(5.3036, device='cuda:0', grad_fn=&lt;NllLossBackward0&gt;)|\n",
       "|  0   | 110/125 | tensor(5.3769, device='cuda:0', grad_fn=&lt;NllLossBackward0&gt;)|\n",
       "|  0   | 120/125 | tensor(5.3473, device='cuda:0', grad_fn=&lt;NllLossBackward0&gt;)|\n",
       "|  1   |  0/125  | tensor(5.7035, device='cuda:0', grad_fn=&lt;NllLossBackward0&gt;)|\n",
       "|  1   | 10/125  | tensor(5.5592, device='cuda:0', grad_fn=&lt;NllLossBackward0&gt;)|\n",
       "|  1   | 20/125  | tensor(5.6873, device='cuda:0', grad_fn=&lt;NllLossBackward0&gt;)|\n",
       "|  1   | 30/125  | tensor(5.6297, device='cuda:0', grad_fn=&lt;NllLossBackward0&gt;)|\n",
       "|  1   | 40/125  | tensor(5.6179, device='cuda:0', grad_fn=&lt;NllLossBackward0&gt;)|\n",
       "|  1   | 50/125  | tensor(5.3450, device='cuda:0', grad_fn=&lt;NllLossBackward0&gt;)|\n",
       "|  1   | 60/125  | tensor(5.2201, device='cuda:0', grad_fn=&lt;NllLossBackward0&gt;)|\n",
       "|  1   | 70/125  | tensor(5.5509, device='cuda:0', grad_fn=&lt;NllLossBackward0&gt;)|\n",
       "|  1   | 80/125  | tensor(5.6929, device='cuda:0', grad_fn=&lt;NllLossBackward0&gt;)|\n",
       "|  1   | 90/125  | tensor(5.4524, device='cuda:0', grad_fn=&lt;NllLossBackward0&gt;)|\n",
       "|  1   | 100/125 | tensor(5.1404, device='cuda:0', grad_fn=&lt;NllLossBackward0&gt;)|\n",
       "|  1   | 110/125 | tensor(5.5899, device='cuda:0', grad_fn=&lt;NllLossBackward0&gt;)|\n",
       "|  1   | 120/125 | tensor(4.8967, device='cuda:0', grad_fn=&lt;NllLossBackward0&gt;)|\n",
       "|  2   |  0/125  | tensor(5.2942, device='cuda:0', grad_fn=&lt;NllLossBackward0&gt;)|\n",
       "|  2   | 10/125  | tensor(5.2110, device='cuda:0', grad_fn=&lt;NllLossBackward0&gt;)|\n",
       "+-----------------------------------------------------------------------------+\n",
       "</pre>\n"
      ],
      "text/plain": [
       "\u001b[3m                                Training Status                                \u001b[0m\n",
       "+-----------------------------------------------------------------------------+\n",
       "|\u001b[1mEpoch\u001b[0m\u001b[1m \u001b[0m|\u001b[1m \u001b[0m\u001b[1m Steps \u001b[0m\u001b[1m \u001b[0m|\u001b[1m \u001b[0m\u001b[1m                           Loss                            \u001b[0m|\n",
       "|------+---------+------------------------------------------------------------|\n",
       "|  0   |  0/125  | tensor(6.2194, device='cuda:0', grad_fn=<NllLossBackward0>)|\n",
       "|  0   | 10/125  | tensor(5.9434, device='cuda:0', grad_fn=<NllLossBackward0>)|\n",
       "|  0   | 20/125  | tensor(6.3498, device='cuda:0', grad_fn=<NllLossBackward0>)|\n",
       "|  0   | 30/125  | tensor(6.2160, device='cuda:0', grad_fn=<NllLossBackward0>)|\n",
       "|  0   | 40/125  | tensor(6.1416, device='cuda:0', grad_fn=<NllLossBackward0>)|\n",
       "|  0   | 50/125  | tensor(5.5193, device='cuda:0', grad_fn=<NllLossBackward0>)|\n",
       "|  0   | 60/125  | tensor(5.8637, device='cuda:0', grad_fn=<NllLossBackward0>)|\n",
       "|  0   | 70/125  | tensor(6.2125, device='cuda:0', grad_fn=<NllLossBackward0>)|\n",
       "|  0   | 80/125  | tensor(5.9123, device='cuda:0', grad_fn=<NllLossBackward0>)|\n",
       "|  0   | 90/125  | tensor(5.6646, device='cuda:0', grad_fn=<NllLossBackward0>)|\n",
       "|  0   | 100/125 | tensor(5.3036, device='cuda:0', grad_fn=<NllLossBackward0>)|\n",
       "|  0   | 110/125 | tensor(5.3769, device='cuda:0', grad_fn=<NllLossBackward0>)|\n",
       "|  0   | 120/125 | tensor(5.3473, device='cuda:0', grad_fn=<NllLossBackward0>)|\n",
       "|  1   |  0/125  | tensor(5.7035, device='cuda:0', grad_fn=<NllLossBackward0>)|\n",
       "|  1   | 10/125  | tensor(5.5592, device='cuda:0', grad_fn=<NllLossBackward0>)|\n",
       "|  1   | 20/125  | tensor(5.6873, device='cuda:0', grad_fn=<NllLossBackward0>)|\n",
       "|  1   | 30/125  | tensor(5.6297, device='cuda:0', grad_fn=<NllLossBackward0>)|\n",
       "|  1   | 40/125  | tensor(5.6179, device='cuda:0', grad_fn=<NllLossBackward0>)|\n",
       "|  1   | 50/125  | tensor(5.3450, device='cuda:0', grad_fn=<NllLossBackward0>)|\n",
       "|  1   | 60/125  | tensor(5.2201, device='cuda:0', grad_fn=<NllLossBackward0>)|\n",
       "|  1   | 70/125  | tensor(5.5509, device='cuda:0', grad_fn=<NllLossBackward0>)|\n",
       "|  1   | 80/125  | tensor(5.6929, device='cuda:0', grad_fn=<NllLossBackward0>)|\n",
       "|  1   | 90/125  | tensor(5.4524, device='cuda:0', grad_fn=<NllLossBackward0>)|\n",
       "|  1   | 100/125 | tensor(5.1404, device='cuda:0', grad_fn=<NllLossBackward0>)|\n",
       "|  1   | 110/125 | tensor(5.5899, device='cuda:0', grad_fn=<NllLossBackward0>)|\n",
       "|  1   | 120/125 | tensor(4.8967, device='cuda:0', grad_fn=<NllLossBackward0>)|\n",
       "|  2   |  0/125  | tensor(5.2942, device='cuda:0', grad_fn=<NllLossBackward0>)|\n",
       "|  2   | 10/125  | tensor(5.2110, device='cuda:0', grad_fn=<NllLossBackward0>)|\n",
       "+-----------------------------------------------------------------------------+\n"
      ]
     },
     "metadata": {},
     "output_type": "display_data"
    },
    {
     "name": "stdout",
     "output_type": "stream",
     "text": [
      "STEP:  20 / 125\n"
     ]
    },
    {
     "data": {
      "text/html": [
       "<pre style=\"white-space:pre;overflow-x:auto;line-height:normal;font-family:Menlo,'DejaVu Sans Mono',consolas,'Courier New',monospace\"><span style=\"font-style: italic\">                                Training Status                                </span>\n",
       "+-----------------------------------------------------------------------------+\n",
       "|<span style=\"font-weight: bold\">Epoch </span>|<span style=\"font-weight: bold\">  Steps  </span>|<span style=\"font-weight: bold\">                            Loss                            </span>|\n",
       "|------+---------+------------------------------------------------------------|\n",
       "|  0   |  0/125  | tensor(6.2194, device='cuda:0', grad_fn=&lt;NllLossBackward0&gt;)|\n",
       "|  0   | 10/125  | tensor(5.9434, device='cuda:0', grad_fn=&lt;NllLossBackward0&gt;)|\n",
       "|  0   | 20/125  | tensor(6.3498, device='cuda:0', grad_fn=&lt;NllLossBackward0&gt;)|\n",
       "|  0   | 30/125  | tensor(6.2160, device='cuda:0', grad_fn=&lt;NllLossBackward0&gt;)|\n",
       "|  0   | 40/125  | tensor(6.1416, device='cuda:0', grad_fn=&lt;NllLossBackward0&gt;)|\n",
       "|  0   | 50/125  | tensor(5.5193, device='cuda:0', grad_fn=&lt;NllLossBackward0&gt;)|\n",
       "|  0   | 60/125  | tensor(5.8637, device='cuda:0', grad_fn=&lt;NllLossBackward0&gt;)|\n",
       "|  0   | 70/125  | tensor(6.2125, device='cuda:0', grad_fn=&lt;NllLossBackward0&gt;)|\n",
       "|  0   | 80/125  | tensor(5.9123, device='cuda:0', grad_fn=&lt;NllLossBackward0&gt;)|\n",
       "|  0   | 90/125  | tensor(5.6646, device='cuda:0', grad_fn=&lt;NllLossBackward0&gt;)|\n",
       "|  0   | 100/125 | tensor(5.3036, device='cuda:0', grad_fn=&lt;NllLossBackward0&gt;)|\n",
       "|  0   | 110/125 | tensor(5.3769, device='cuda:0', grad_fn=&lt;NllLossBackward0&gt;)|\n",
       "|  0   | 120/125 | tensor(5.3473, device='cuda:0', grad_fn=&lt;NllLossBackward0&gt;)|\n",
       "|  1   |  0/125  | tensor(5.7035, device='cuda:0', grad_fn=&lt;NllLossBackward0&gt;)|\n",
       "|  1   | 10/125  | tensor(5.5592, device='cuda:0', grad_fn=&lt;NllLossBackward0&gt;)|\n",
       "|  1   | 20/125  | tensor(5.6873, device='cuda:0', grad_fn=&lt;NllLossBackward0&gt;)|\n",
       "|  1   | 30/125  | tensor(5.6297, device='cuda:0', grad_fn=&lt;NllLossBackward0&gt;)|\n",
       "|  1   | 40/125  | tensor(5.6179, device='cuda:0', grad_fn=&lt;NllLossBackward0&gt;)|\n",
       "|  1   | 50/125  | tensor(5.3450, device='cuda:0', grad_fn=&lt;NllLossBackward0&gt;)|\n",
       "|  1   | 60/125  | tensor(5.2201, device='cuda:0', grad_fn=&lt;NllLossBackward0&gt;)|\n",
       "|  1   | 70/125  | tensor(5.5509, device='cuda:0', grad_fn=&lt;NllLossBackward0&gt;)|\n",
       "|  1   | 80/125  | tensor(5.6929, device='cuda:0', grad_fn=&lt;NllLossBackward0&gt;)|\n",
       "|  1   | 90/125  | tensor(5.4524, device='cuda:0', grad_fn=&lt;NllLossBackward0&gt;)|\n",
       "|  1   | 100/125 | tensor(5.1404, device='cuda:0', grad_fn=&lt;NllLossBackward0&gt;)|\n",
       "|  1   | 110/125 | tensor(5.5899, device='cuda:0', grad_fn=&lt;NllLossBackward0&gt;)|\n",
       "|  1   | 120/125 | tensor(4.8967, device='cuda:0', grad_fn=&lt;NllLossBackward0&gt;)|\n",
       "|  2   |  0/125  | tensor(5.2942, device='cuda:0', grad_fn=&lt;NllLossBackward0&gt;)|\n",
       "|  2   | 10/125  | tensor(5.2110, device='cuda:0', grad_fn=&lt;NllLossBackward0&gt;)|\n",
       "|  2   | 20/125  | tensor(5.1159, device='cuda:0', grad_fn=&lt;NllLossBackward0&gt;)|\n",
       "+-----------------------------------------------------------------------------+\n",
       "</pre>\n"
      ],
      "text/plain": [
       "\u001b[3m                                Training Status                                \u001b[0m\n",
       "+-----------------------------------------------------------------------------+\n",
       "|\u001b[1mEpoch\u001b[0m\u001b[1m \u001b[0m|\u001b[1m \u001b[0m\u001b[1m Steps \u001b[0m\u001b[1m \u001b[0m|\u001b[1m \u001b[0m\u001b[1m                           Loss                            \u001b[0m|\n",
       "|------+---------+------------------------------------------------------------|\n",
       "|  0   |  0/125  | tensor(6.2194, device='cuda:0', grad_fn=<NllLossBackward0>)|\n",
       "|  0   | 10/125  | tensor(5.9434, device='cuda:0', grad_fn=<NllLossBackward0>)|\n",
       "|  0   | 20/125  | tensor(6.3498, device='cuda:0', grad_fn=<NllLossBackward0>)|\n",
       "|  0   | 30/125  | tensor(6.2160, device='cuda:0', grad_fn=<NllLossBackward0>)|\n",
       "|  0   | 40/125  | tensor(6.1416, device='cuda:0', grad_fn=<NllLossBackward0>)|\n",
       "|  0   | 50/125  | tensor(5.5193, device='cuda:0', grad_fn=<NllLossBackward0>)|\n",
       "|  0   | 60/125  | tensor(5.8637, device='cuda:0', grad_fn=<NllLossBackward0>)|\n",
       "|  0   | 70/125  | tensor(6.2125, device='cuda:0', grad_fn=<NllLossBackward0>)|\n",
       "|  0   | 80/125  | tensor(5.9123, device='cuda:0', grad_fn=<NllLossBackward0>)|\n",
       "|  0   | 90/125  | tensor(5.6646, device='cuda:0', grad_fn=<NllLossBackward0>)|\n",
       "|  0   | 100/125 | tensor(5.3036, device='cuda:0', grad_fn=<NllLossBackward0>)|\n",
       "|  0   | 110/125 | tensor(5.3769, device='cuda:0', grad_fn=<NllLossBackward0>)|\n",
       "|  0   | 120/125 | tensor(5.3473, device='cuda:0', grad_fn=<NllLossBackward0>)|\n",
       "|  1   |  0/125  | tensor(5.7035, device='cuda:0', grad_fn=<NllLossBackward0>)|\n",
       "|  1   | 10/125  | tensor(5.5592, device='cuda:0', grad_fn=<NllLossBackward0>)|\n",
       "|  1   | 20/125  | tensor(5.6873, device='cuda:0', grad_fn=<NllLossBackward0>)|\n",
       "|  1   | 30/125  | tensor(5.6297, device='cuda:0', grad_fn=<NllLossBackward0>)|\n",
       "|  1   | 40/125  | tensor(5.6179, device='cuda:0', grad_fn=<NllLossBackward0>)|\n",
       "|  1   | 50/125  | tensor(5.3450, device='cuda:0', grad_fn=<NllLossBackward0>)|\n",
       "|  1   | 60/125  | tensor(5.2201, device='cuda:0', grad_fn=<NllLossBackward0>)|\n",
       "|  1   | 70/125  | tensor(5.5509, device='cuda:0', grad_fn=<NllLossBackward0>)|\n",
       "|  1   | 80/125  | tensor(5.6929, device='cuda:0', grad_fn=<NllLossBackward0>)|\n",
       "|  1   | 90/125  | tensor(5.4524, device='cuda:0', grad_fn=<NllLossBackward0>)|\n",
       "|  1   | 100/125 | tensor(5.1404, device='cuda:0', grad_fn=<NllLossBackward0>)|\n",
       "|  1   | 110/125 | tensor(5.5899, device='cuda:0', grad_fn=<NllLossBackward0>)|\n",
       "|  1   | 120/125 | tensor(4.8967, device='cuda:0', grad_fn=<NllLossBackward0>)|\n",
       "|  2   |  0/125  | tensor(5.2942, device='cuda:0', grad_fn=<NllLossBackward0>)|\n",
       "|  2   | 10/125  | tensor(5.2110, device='cuda:0', grad_fn=<NllLossBackward0>)|\n",
       "|  2   | 20/125  | tensor(5.1159, device='cuda:0', grad_fn=<NllLossBackward0>)|\n",
       "+-----------------------------------------------------------------------------+\n"
      ]
     },
     "metadata": {},
     "output_type": "display_data"
    },
    {
     "name": "stdout",
     "output_type": "stream",
     "text": [
      "STEP:  30 / 125\n"
     ]
    },
    {
     "data": {
      "text/html": [
       "<pre style=\"white-space:pre;overflow-x:auto;line-height:normal;font-family:Menlo,'DejaVu Sans Mono',consolas,'Courier New',monospace\"><span style=\"font-style: italic\">                                Training Status                                </span>\n",
       "+-----------------------------------------------------------------------------+\n",
       "|<span style=\"font-weight: bold\">Epoch </span>|<span style=\"font-weight: bold\">  Steps  </span>|<span style=\"font-weight: bold\">                            Loss                            </span>|\n",
       "|------+---------+------------------------------------------------------------|\n",
       "|  0   |  0/125  | tensor(6.2194, device='cuda:0', grad_fn=&lt;NllLossBackward0&gt;)|\n",
       "|  0   | 10/125  | tensor(5.9434, device='cuda:0', grad_fn=&lt;NllLossBackward0&gt;)|\n",
       "|  0   | 20/125  | tensor(6.3498, device='cuda:0', grad_fn=&lt;NllLossBackward0&gt;)|\n",
       "|  0   | 30/125  | tensor(6.2160, device='cuda:0', grad_fn=&lt;NllLossBackward0&gt;)|\n",
       "|  0   | 40/125  | tensor(6.1416, device='cuda:0', grad_fn=&lt;NllLossBackward0&gt;)|\n",
       "|  0   | 50/125  | tensor(5.5193, device='cuda:0', grad_fn=&lt;NllLossBackward0&gt;)|\n",
       "|  0   | 60/125  | tensor(5.8637, device='cuda:0', grad_fn=&lt;NllLossBackward0&gt;)|\n",
       "|  0   | 70/125  | tensor(6.2125, device='cuda:0', grad_fn=&lt;NllLossBackward0&gt;)|\n",
       "|  0   | 80/125  | tensor(5.9123, device='cuda:0', grad_fn=&lt;NllLossBackward0&gt;)|\n",
       "|  0   | 90/125  | tensor(5.6646, device='cuda:0', grad_fn=&lt;NllLossBackward0&gt;)|\n",
       "|  0   | 100/125 | tensor(5.3036, device='cuda:0', grad_fn=&lt;NllLossBackward0&gt;)|\n",
       "|  0   | 110/125 | tensor(5.3769, device='cuda:0', grad_fn=&lt;NllLossBackward0&gt;)|\n",
       "|  0   | 120/125 | tensor(5.3473, device='cuda:0', grad_fn=&lt;NllLossBackward0&gt;)|\n",
       "|  1   |  0/125  | tensor(5.7035, device='cuda:0', grad_fn=&lt;NllLossBackward0&gt;)|\n",
       "|  1   | 10/125  | tensor(5.5592, device='cuda:0', grad_fn=&lt;NllLossBackward0&gt;)|\n",
       "|  1   | 20/125  | tensor(5.6873, device='cuda:0', grad_fn=&lt;NllLossBackward0&gt;)|\n",
       "|  1   | 30/125  | tensor(5.6297, device='cuda:0', grad_fn=&lt;NllLossBackward0&gt;)|\n",
       "|  1   | 40/125  | tensor(5.6179, device='cuda:0', grad_fn=&lt;NllLossBackward0&gt;)|\n",
       "|  1   | 50/125  | tensor(5.3450, device='cuda:0', grad_fn=&lt;NllLossBackward0&gt;)|\n",
       "|  1   | 60/125  | tensor(5.2201, device='cuda:0', grad_fn=&lt;NllLossBackward0&gt;)|\n",
       "|  1   | 70/125  | tensor(5.5509, device='cuda:0', grad_fn=&lt;NllLossBackward0&gt;)|\n",
       "|  1   | 80/125  | tensor(5.6929, device='cuda:0', grad_fn=&lt;NllLossBackward0&gt;)|\n",
       "|  1   | 90/125  | tensor(5.4524, device='cuda:0', grad_fn=&lt;NllLossBackward0&gt;)|\n",
       "|  1   | 100/125 | tensor(5.1404, device='cuda:0', grad_fn=&lt;NllLossBackward0&gt;)|\n",
       "|  1   | 110/125 | tensor(5.5899, device='cuda:0', grad_fn=&lt;NllLossBackward0&gt;)|\n",
       "|  1   | 120/125 | tensor(4.8967, device='cuda:0', grad_fn=&lt;NllLossBackward0&gt;)|\n",
       "|  2   |  0/125  | tensor(5.2942, device='cuda:0', grad_fn=&lt;NllLossBackward0&gt;)|\n",
       "|  2   | 10/125  | tensor(5.2110, device='cuda:0', grad_fn=&lt;NllLossBackward0&gt;)|\n",
       "|  2   | 20/125  | tensor(5.1159, device='cuda:0', grad_fn=&lt;NllLossBackward0&gt;)|\n",
       "|  2   | 30/125  | tensor(5.2183, device='cuda:0', grad_fn=&lt;NllLossBackward0&gt;)|\n",
       "+-----------------------------------------------------------------------------+\n",
       "</pre>\n"
      ],
      "text/plain": [
       "\u001b[3m                                Training Status                                \u001b[0m\n",
       "+-----------------------------------------------------------------------------+\n",
       "|\u001b[1mEpoch\u001b[0m\u001b[1m \u001b[0m|\u001b[1m \u001b[0m\u001b[1m Steps \u001b[0m\u001b[1m \u001b[0m|\u001b[1m \u001b[0m\u001b[1m                           Loss                            \u001b[0m|\n",
       "|------+---------+------------------------------------------------------------|\n",
       "|  0   |  0/125  | tensor(6.2194, device='cuda:0', grad_fn=<NllLossBackward0>)|\n",
       "|  0   | 10/125  | tensor(5.9434, device='cuda:0', grad_fn=<NllLossBackward0>)|\n",
       "|  0   | 20/125  | tensor(6.3498, device='cuda:0', grad_fn=<NllLossBackward0>)|\n",
       "|  0   | 30/125  | tensor(6.2160, device='cuda:0', grad_fn=<NllLossBackward0>)|\n",
       "|  0   | 40/125  | tensor(6.1416, device='cuda:0', grad_fn=<NllLossBackward0>)|\n",
       "|  0   | 50/125  | tensor(5.5193, device='cuda:0', grad_fn=<NllLossBackward0>)|\n",
       "|  0   | 60/125  | tensor(5.8637, device='cuda:0', grad_fn=<NllLossBackward0>)|\n",
       "|  0   | 70/125  | tensor(6.2125, device='cuda:0', grad_fn=<NllLossBackward0>)|\n",
       "|  0   | 80/125  | tensor(5.9123, device='cuda:0', grad_fn=<NllLossBackward0>)|\n",
       "|  0   | 90/125  | tensor(5.6646, device='cuda:0', grad_fn=<NllLossBackward0>)|\n",
       "|  0   | 100/125 | tensor(5.3036, device='cuda:0', grad_fn=<NllLossBackward0>)|\n",
       "|  0   | 110/125 | tensor(5.3769, device='cuda:0', grad_fn=<NllLossBackward0>)|\n",
       "|  0   | 120/125 | tensor(5.3473, device='cuda:0', grad_fn=<NllLossBackward0>)|\n",
       "|  1   |  0/125  | tensor(5.7035, device='cuda:0', grad_fn=<NllLossBackward0>)|\n",
       "|  1   | 10/125  | tensor(5.5592, device='cuda:0', grad_fn=<NllLossBackward0>)|\n",
       "|  1   | 20/125  | tensor(5.6873, device='cuda:0', grad_fn=<NllLossBackward0>)|\n",
       "|  1   | 30/125  | tensor(5.6297, device='cuda:0', grad_fn=<NllLossBackward0>)|\n",
       "|  1   | 40/125  | tensor(5.6179, device='cuda:0', grad_fn=<NllLossBackward0>)|\n",
       "|  1   | 50/125  | tensor(5.3450, device='cuda:0', grad_fn=<NllLossBackward0>)|\n",
       "|  1   | 60/125  | tensor(5.2201, device='cuda:0', grad_fn=<NllLossBackward0>)|\n",
       "|  1   | 70/125  | tensor(5.5509, device='cuda:0', grad_fn=<NllLossBackward0>)|\n",
       "|  1   | 80/125  | tensor(5.6929, device='cuda:0', grad_fn=<NllLossBackward0>)|\n",
       "|  1   | 90/125  | tensor(5.4524, device='cuda:0', grad_fn=<NllLossBackward0>)|\n",
       "|  1   | 100/125 | tensor(5.1404, device='cuda:0', grad_fn=<NllLossBackward0>)|\n",
       "|  1   | 110/125 | tensor(5.5899, device='cuda:0', grad_fn=<NllLossBackward0>)|\n",
       "|  1   | 120/125 | tensor(4.8967, device='cuda:0', grad_fn=<NllLossBackward0>)|\n",
       "|  2   |  0/125  | tensor(5.2942, device='cuda:0', grad_fn=<NllLossBackward0>)|\n",
       "|  2   | 10/125  | tensor(5.2110, device='cuda:0', grad_fn=<NllLossBackward0>)|\n",
       "|  2   | 20/125  | tensor(5.1159, device='cuda:0', grad_fn=<NllLossBackward0>)|\n",
       "|  2   | 30/125  | tensor(5.2183, device='cuda:0', grad_fn=<NllLossBackward0>)|\n",
       "+-----------------------------------------------------------------------------+\n"
      ]
     },
     "metadata": {},
     "output_type": "display_data"
    },
    {
     "name": "stdout",
     "output_type": "stream",
     "text": [
      "STEP:  40 / 125\n"
     ]
    },
    {
     "data": {
      "text/html": [
       "<pre style=\"white-space:pre;overflow-x:auto;line-height:normal;font-family:Menlo,'DejaVu Sans Mono',consolas,'Courier New',monospace\"><span style=\"font-style: italic\">                                Training Status                                </span>\n",
       "+-----------------------------------------------------------------------------+\n",
       "|<span style=\"font-weight: bold\">Epoch </span>|<span style=\"font-weight: bold\">  Steps  </span>|<span style=\"font-weight: bold\">                            Loss                            </span>|\n",
       "|------+---------+------------------------------------------------------------|\n",
       "|  0   |  0/125  | tensor(6.2194, device='cuda:0', grad_fn=&lt;NllLossBackward0&gt;)|\n",
       "|  0   | 10/125  | tensor(5.9434, device='cuda:0', grad_fn=&lt;NllLossBackward0&gt;)|\n",
       "|  0   | 20/125  | tensor(6.3498, device='cuda:0', grad_fn=&lt;NllLossBackward0&gt;)|\n",
       "|  0   | 30/125  | tensor(6.2160, device='cuda:0', grad_fn=&lt;NllLossBackward0&gt;)|\n",
       "|  0   | 40/125  | tensor(6.1416, device='cuda:0', grad_fn=&lt;NllLossBackward0&gt;)|\n",
       "|  0   | 50/125  | tensor(5.5193, device='cuda:0', grad_fn=&lt;NllLossBackward0&gt;)|\n",
       "|  0   | 60/125  | tensor(5.8637, device='cuda:0', grad_fn=&lt;NllLossBackward0&gt;)|\n",
       "|  0   | 70/125  | tensor(6.2125, device='cuda:0', grad_fn=&lt;NllLossBackward0&gt;)|\n",
       "|  0   | 80/125  | tensor(5.9123, device='cuda:0', grad_fn=&lt;NllLossBackward0&gt;)|\n",
       "|  0   | 90/125  | tensor(5.6646, device='cuda:0', grad_fn=&lt;NllLossBackward0&gt;)|\n",
       "|  0   | 100/125 | tensor(5.3036, device='cuda:0', grad_fn=&lt;NllLossBackward0&gt;)|\n",
       "|  0   | 110/125 | tensor(5.3769, device='cuda:0', grad_fn=&lt;NllLossBackward0&gt;)|\n",
       "|  0   | 120/125 | tensor(5.3473, device='cuda:0', grad_fn=&lt;NllLossBackward0&gt;)|\n",
       "|  1   |  0/125  | tensor(5.7035, device='cuda:0', grad_fn=&lt;NllLossBackward0&gt;)|\n",
       "|  1   | 10/125  | tensor(5.5592, device='cuda:0', grad_fn=&lt;NllLossBackward0&gt;)|\n",
       "|  1   | 20/125  | tensor(5.6873, device='cuda:0', grad_fn=&lt;NllLossBackward0&gt;)|\n",
       "|  1   | 30/125  | tensor(5.6297, device='cuda:0', grad_fn=&lt;NllLossBackward0&gt;)|\n",
       "|  1   | 40/125  | tensor(5.6179, device='cuda:0', grad_fn=&lt;NllLossBackward0&gt;)|\n",
       "|  1   | 50/125  | tensor(5.3450, device='cuda:0', grad_fn=&lt;NllLossBackward0&gt;)|\n",
       "|  1   | 60/125  | tensor(5.2201, device='cuda:0', grad_fn=&lt;NllLossBackward0&gt;)|\n",
       "|  1   | 70/125  | tensor(5.5509, device='cuda:0', grad_fn=&lt;NllLossBackward0&gt;)|\n",
       "|  1   | 80/125  | tensor(5.6929, device='cuda:0', grad_fn=&lt;NllLossBackward0&gt;)|\n",
       "|  1   | 90/125  | tensor(5.4524, device='cuda:0', grad_fn=&lt;NllLossBackward0&gt;)|\n",
       "|  1   | 100/125 | tensor(5.1404, device='cuda:0', grad_fn=&lt;NllLossBackward0&gt;)|\n",
       "|  1   | 110/125 | tensor(5.5899, device='cuda:0', grad_fn=&lt;NllLossBackward0&gt;)|\n",
       "|  1   | 120/125 | tensor(4.8967, device='cuda:0', grad_fn=&lt;NllLossBackward0&gt;)|\n",
       "|  2   |  0/125  | tensor(5.2942, device='cuda:0', grad_fn=&lt;NllLossBackward0&gt;)|\n",
       "|  2   | 10/125  | tensor(5.2110, device='cuda:0', grad_fn=&lt;NllLossBackward0&gt;)|\n",
       "|  2   | 20/125  | tensor(5.1159, device='cuda:0', grad_fn=&lt;NllLossBackward0&gt;)|\n",
       "|  2   | 30/125  | tensor(5.2183, device='cuda:0', grad_fn=&lt;NllLossBackward0&gt;)|\n",
       "|  2   | 40/125  | tensor(5.0357, device='cuda:0', grad_fn=&lt;NllLossBackward0&gt;)|\n",
       "+-----------------------------------------------------------------------------+\n",
       "</pre>\n"
      ],
      "text/plain": [
       "\u001b[3m                                Training Status                                \u001b[0m\n",
       "+-----------------------------------------------------------------------------+\n",
       "|\u001b[1mEpoch\u001b[0m\u001b[1m \u001b[0m|\u001b[1m \u001b[0m\u001b[1m Steps \u001b[0m\u001b[1m \u001b[0m|\u001b[1m \u001b[0m\u001b[1m                           Loss                            \u001b[0m|\n",
       "|------+---------+------------------------------------------------------------|\n",
       "|  0   |  0/125  | tensor(6.2194, device='cuda:0', grad_fn=<NllLossBackward0>)|\n",
       "|  0   | 10/125  | tensor(5.9434, device='cuda:0', grad_fn=<NllLossBackward0>)|\n",
       "|  0   | 20/125  | tensor(6.3498, device='cuda:0', grad_fn=<NllLossBackward0>)|\n",
       "|  0   | 30/125  | tensor(6.2160, device='cuda:0', grad_fn=<NllLossBackward0>)|\n",
       "|  0   | 40/125  | tensor(6.1416, device='cuda:0', grad_fn=<NllLossBackward0>)|\n",
       "|  0   | 50/125  | tensor(5.5193, device='cuda:0', grad_fn=<NllLossBackward0>)|\n",
       "|  0   | 60/125  | tensor(5.8637, device='cuda:0', grad_fn=<NllLossBackward0>)|\n",
       "|  0   | 70/125  | tensor(6.2125, device='cuda:0', grad_fn=<NllLossBackward0>)|\n",
       "|  0   | 80/125  | tensor(5.9123, device='cuda:0', grad_fn=<NllLossBackward0>)|\n",
       "|  0   | 90/125  | tensor(5.6646, device='cuda:0', grad_fn=<NllLossBackward0>)|\n",
       "|  0   | 100/125 | tensor(5.3036, device='cuda:0', grad_fn=<NllLossBackward0>)|\n",
       "|  0   | 110/125 | tensor(5.3769, device='cuda:0', grad_fn=<NllLossBackward0>)|\n",
       "|  0   | 120/125 | tensor(5.3473, device='cuda:0', grad_fn=<NllLossBackward0>)|\n",
       "|  1   |  0/125  | tensor(5.7035, device='cuda:0', grad_fn=<NllLossBackward0>)|\n",
       "|  1   | 10/125  | tensor(5.5592, device='cuda:0', grad_fn=<NllLossBackward0>)|\n",
       "|  1   | 20/125  | tensor(5.6873, device='cuda:0', grad_fn=<NllLossBackward0>)|\n",
       "|  1   | 30/125  | tensor(5.6297, device='cuda:0', grad_fn=<NllLossBackward0>)|\n",
       "|  1   | 40/125  | tensor(5.6179, device='cuda:0', grad_fn=<NllLossBackward0>)|\n",
       "|  1   | 50/125  | tensor(5.3450, device='cuda:0', grad_fn=<NllLossBackward0>)|\n",
       "|  1   | 60/125  | tensor(5.2201, device='cuda:0', grad_fn=<NllLossBackward0>)|\n",
       "|  1   | 70/125  | tensor(5.5509, device='cuda:0', grad_fn=<NllLossBackward0>)|\n",
       "|  1   | 80/125  | tensor(5.6929, device='cuda:0', grad_fn=<NllLossBackward0>)|\n",
       "|  1   | 90/125  | tensor(5.4524, device='cuda:0', grad_fn=<NllLossBackward0>)|\n",
       "|  1   | 100/125 | tensor(5.1404, device='cuda:0', grad_fn=<NllLossBackward0>)|\n",
       "|  1   | 110/125 | tensor(5.5899, device='cuda:0', grad_fn=<NllLossBackward0>)|\n",
       "|  1   | 120/125 | tensor(4.8967, device='cuda:0', grad_fn=<NllLossBackward0>)|\n",
       "|  2   |  0/125  | tensor(5.2942, device='cuda:0', grad_fn=<NllLossBackward0>)|\n",
       "|  2   | 10/125  | tensor(5.2110, device='cuda:0', grad_fn=<NllLossBackward0>)|\n",
       "|  2   | 20/125  | tensor(5.1159, device='cuda:0', grad_fn=<NllLossBackward0>)|\n",
       "|  2   | 30/125  | tensor(5.2183, device='cuda:0', grad_fn=<NllLossBackward0>)|\n",
       "|  2   | 40/125  | tensor(5.0357, device='cuda:0', grad_fn=<NllLossBackward0>)|\n",
       "+-----------------------------------------------------------------------------+\n"
      ]
     },
     "metadata": {},
     "output_type": "display_data"
    },
    {
     "name": "stdout",
     "output_type": "stream",
     "text": [
      "STEP:  50 / 125\n"
     ]
    },
    {
     "data": {
      "text/html": [
       "<pre style=\"white-space:pre;overflow-x:auto;line-height:normal;font-family:Menlo,'DejaVu Sans Mono',consolas,'Courier New',monospace\"><span style=\"font-style: italic\">                                Training Status                                </span>\n",
       "+-----------------------------------------------------------------------------+\n",
       "|<span style=\"font-weight: bold\">Epoch </span>|<span style=\"font-weight: bold\">  Steps  </span>|<span style=\"font-weight: bold\">                            Loss                            </span>|\n",
       "|------+---------+------------------------------------------------------------|\n",
       "|  0   |  0/125  | tensor(6.2194, device='cuda:0', grad_fn=&lt;NllLossBackward0&gt;)|\n",
       "|  0   | 10/125  | tensor(5.9434, device='cuda:0', grad_fn=&lt;NllLossBackward0&gt;)|\n",
       "|  0   | 20/125  | tensor(6.3498, device='cuda:0', grad_fn=&lt;NllLossBackward0&gt;)|\n",
       "|  0   | 30/125  | tensor(6.2160, device='cuda:0', grad_fn=&lt;NllLossBackward0&gt;)|\n",
       "|  0   | 40/125  | tensor(6.1416, device='cuda:0', grad_fn=&lt;NllLossBackward0&gt;)|\n",
       "|  0   | 50/125  | tensor(5.5193, device='cuda:0', grad_fn=&lt;NllLossBackward0&gt;)|\n",
       "|  0   | 60/125  | tensor(5.8637, device='cuda:0', grad_fn=&lt;NllLossBackward0&gt;)|\n",
       "|  0   | 70/125  | tensor(6.2125, device='cuda:0', grad_fn=&lt;NllLossBackward0&gt;)|\n",
       "|  0   | 80/125  | tensor(5.9123, device='cuda:0', grad_fn=&lt;NllLossBackward0&gt;)|\n",
       "|  0   | 90/125  | tensor(5.6646, device='cuda:0', grad_fn=&lt;NllLossBackward0&gt;)|\n",
       "|  0   | 100/125 | tensor(5.3036, device='cuda:0', grad_fn=&lt;NllLossBackward0&gt;)|\n",
       "|  0   | 110/125 | tensor(5.3769, device='cuda:0', grad_fn=&lt;NllLossBackward0&gt;)|\n",
       "|  0   | 120/125 | tensor(5.3473, device='cuda:0', grad_fn=&lt;NllLossBackward0&gt;)|\n",
       "|  1   |  0/125  | tensor(5.7035, device='cuda:0', grad_fn=&lt;NllLossBackward0&gt;)|\n",
       "|  1   | 10/125  | tensor(5.5592, device='cuda:0', grad_fn=&lt;NllLossBackward0&gt;)|\n",
       "|  1   | 20/125  | tensor(5.6873, device='cuda:0', grad_fn=&lt;NllLossBackward0&gt;)|\n",
       "|  1   | 30/125  | tensor(5.6297, device='cuda:0', grad_fn=&lt;NllLossBackward0&gt;)|\n",
       "|  1   | 40/125  | tensor(5.6179, device='cuda:0', grad_fn=&lt;NllLossBackward0&gt;)|\n",
       "|  1   | 50/125  | tensor(5.3450, device='cuda:0', grad_fn=&lt;NllLossBackward0&gt;)|\n",
       "|  1   | 60/125  | tensor(5.2201, device='cuda:0', grad_fn=&lt;NllLossBackward0&gt;)|\n",
       "|  1   | 70/125  | tensor(5.5509, device='cuda:0', grad_fn=&lt;NllLossBackward0&gt;)|\n",
       "|  1   | 80/125  | tensor(5.6929, device='cuda:0', grad_fn=&lt;NllLossBackward0&gt;)|\n",
       "|  1   | 90/125  | tensor(5.4524, device='cuda:0', grad_fn=&lt;NllLossBackward0&gt;)|\n",
       "|  1   | 100/125 | tensor(5.1404, device='cuda:0', grad_fn=&lt;NllLossBackward0&gt;)|\n",
       "|  1   | 110/125 | tensor(5.5899, device='cuda:0', grad_fn=&lt;NllLossBackward0&gt;)|\n",
       "|  1   | 120/125 | tensor(4.8967, device='cuda:0', grad_fn=&lt;NllLossBackward0&gt;)|\n",
       "|  2   |  0/125  | tensor(5.2942, device='cuda:0', grad_fn=&lt;NllLossBackward0&gt;)|\n",
       "|  2   | 10/125  | tensor(5.2110, device='cuda:0', grad_fn=&lt;NllLossBackward0&gt;)|\n",
       "|  2   | 20/125  | tensor(5.1159, device='cuda:0', grad_fn=&lt;NllLossBackward0&gt;)|\n",
       "|  2   | 30/125  | tensor(5.2183, device='cuda:0', grad_fn=&lt;NllLossBackward0&gt;)|\n",
       "|  2   | 40/125  | tensor(5.0357, device='cuda:0', grad_fn=&lt;NllLossBackward0&gt;)|\n",
       "|  2   | 50/125  | tensor(5.1824, device='cuda:0', grad_fn=&lt;NllLossBackward0&gt;)|\n",
       "+-----------------------------------------------------------------------------+\n",
       "</pre>\n"
      ],
      "text/plain": [
       "\u001b[3m                                Training Status                                \u001b[0m\n",
       "+-----------------------------------------------------------------------------+\n",
       "|\u001b[1mEpoch\u001b[0m\u001b[1m \u001b[0m|\u001b[1m \u001b[0m\u001b[1m Steps \u001b[0m\u001b[1m \u001b[0m|\u001b[1m \u001b[0m\u001b[1m                           Loss                            \u001b[0m|\n",
       "|------+---------+------------------------------------------------------------|\n",
       "|  0   |  0/125  | tensor(6.2194, device='cuda:0', grad_fn=<NllLossBackward0>)|\n",
       "|  0   | 10/125  | tensor(5.9434, device='cuda:0', grad_fn=<NllLossBackward0>)|\n",
       "|  0   | 20/125  | tensor(6.3498, device='cuda:0', grad_fn=<NllLossBackward0>)|\n",
       "|  0   | 30/125  | tensor(6.2160, device='cuda:0', grad_fn=<NllLossBackward0>)|\n",
       "|  0   | 40/125  | tensor(6.1416, device='cuda:0', grad_fn=<NllLossBackward0>)|\n",
       "|  0   | 50/125  | tensor(5.5193, device='cuda:0', grad_fn=<NllLossBackward0>)|\n",
       "|  0   | 60/125  | tensor(5.8637, device='cuda:0', grad_fn=<NllLossBackward0>)|\n",
       "|  0   | 70/125  | tensor(6.2125, device='cuda:0', grad_fn=<NllLossBackward0>)|\n",
       "|  0   | 80/125  | tensor(5.9123, device='cuda:0', grad_fn=<NllLossBackward0>)|\n",
       "|  0   | 90/125  | tensor(5.6646, device='cuda:0', grad_fn=<NllLossBackward0>)|\n",
       "|  0   | 100/125 | tensor(5.3036, device='cuda:0', grad_fn=<NllLossBackward0>)|\n",
       "|  0   | 110/125 | tensor(5.3769, device='cuda:0', grad_fn=<NllLossBackward0>)|\n",
       "|  0   | 120/125 | tensor(5.3473, device='cuda:0', grad_fn=<NllLossBackward0>)|\n",
       "|  1   |  0/125  | tensor(5.7035, device='cuda:0', grad_fn=<NllLossBackward0>)|\n",
       "|  1   | 10/125  | tensor(5.5592, device='cuda:0', grad_fn=<NllLossBackward0>)|\n",
       "|  1   | 20/125  | tensor(5.6873, device='cuda:0', grad_fn=<NllLossBackward0>)|\n",
       "|  1   | 30/125  | tensor(5.6297, device='cuda:0', grad_fn=<NllLossBackward0>)|\n",
       "|  1   | 40/125  | tensor(5.6179, device='cuda:0', grad_fn=<NllLossBackward0>)|\n",
       "|  1   | 50/125  | tensor(5.3450, device='cuda:0', grad_fn=<NllLossBackward0>)|\n",
       "|  1   | 60/125  | tensor(5.2201, device='cuda:0', grad_fn=<NllLossBackward0>)|\n",
       "|  1   | 70/125  | tensor(5.5509, device='cuda:0', grad_fn=<NllLossBackward0>)|\n",
       "|  1   | 80/125  | tensor(5.6929, device='cuda:0', grad_fn=<NllLossBackward0>)|\n",
       "|  1   | 90/125  | tensor(5.4524, device='cuda:0', grad_fn=<NllLossBackward0>)|\n",
       "|  1   | 100/125 | tensor(5.1404, device='cuda:0', grad_fn=<NllLossBackward0>)|\n",
       "|  1   | 110/125 | tensor(5.5899, device='cuda:0', grad_fn=<NllLossBackward0>)|\n",
       "|  1   | 120/125 | tensor(4.8967, device='cuda:0', grad_fn=<NllLossBackward0>)|\n",
       "|  2   |  0/125  | tensor(5.2942, device='cuda:0', grad_fn=<NllLossBackward0>)|\n",
       "|  2   | 10/125  | tensor(5.2110, device='cuda:0', grad_fn=<NllLossBackward0>)|\n",
       "|  2   | 20/125  | tensor(5.1159, device='cuda:0', grad_fn=<NllLossBackward0>)|\n",
       "|  2   | 30/125  | tensor(5.2183, device='cuda:0', grad_fn=<NllLossBackward0>)|\n",
       "|  2   | 40/125  | tensor(5.0357, device='cuda:0', grad_fn=<NllLossBackward0>)|\n",
       "|  2   | 50/125  | tensor(5.1824, device='cuda:0', grad_fn=<NllLossBackward0>)|\n",
       "+-----------------------------------------------------------------------------+\n"
      ]
     },
     "metadata": {},
     "output_type": "display_data"
    },
    {
     "name": "stdout",
     "output_type": "stream",
     "text": [
      "STEP:  60 / 125\n"
     ]
    },
    {
     "data": {
      "text/html": [
       "<pre style=\"white-space:pre;overflow-x:auto;line-height:normal;font-family:Menlo,'DejaVu Sans Mono',consolas,'Courier New',monospace\"><span style=\"font-style: italic\">                                Training Status                                </span>\n",
       "+-----------------------------------------------------------------------------+\n",
       "|<span style=\"font-weight: bold\">Epoch </span>|<span style=\"font-weight: bold\">  Steps  </span>|<span style=\"font-weight: bold\">                            Loss                            </span>|\n",
       "|------+---------+------------------------------------------------------------|\n",
       "|  0   |  0/125  | tensor(6.2194, device='cuda:0', grad_fn=&lt;NllLossBackward0&gt;)|\n",
       "|  0   | 10/125  | tensor(5.9434, device='cuda:0', grad_fn=&lt;NllLossBackward0&gt;)|\n",
       "|  0   | 20/125  | tensor(6.3498, device='cuda:0', grad_fn=&lt;NllLossBackward0&gt;)|\n",
       "|  0   | 30/125  | tensor(6.2160, device='cuda:0', grad_fn=&lt;NllLossBackward0&gt;)|\n",
       "|  0   | 40/125  | tensor(6.1416, device='cuda:0', grad_fn=&lt;NllLossBackward0&gt;)|\n",
       "|  0   | 50/125  | tensor(5.5193, device='cuda:0', grad_fn=&lt;NllLossBackward0&gt;)|\n",
       "|  0   | 60/125  | tensor(5.8637, device='cuda:0', grad_fn=&lt;NllLossBackward0&gt;)|\n",
       "|  0   | 70/125  | tensor(6.2125, device='cuda:0', grad_fn=&lt;NllLossBackward0&gt;)|\n",
       "|  0   | 80/125  | tensor(5.9123, device='cuda:0', grad_fn=&lt;NllLossBackward0&gt;)|\n",
       "|  0   | 90/125  | tensor(5.6646, device='cuda:0', grad_fn=&lt;NllLossBackward0&gt;)|\n",
       "|  0   | 100/125 | tensor(5.3036, device='cuda:0', grad_fn=&lt;NllLossBackward0&gt;)|\n",
       "|  0   | 110/125 | tensor(5.3769, device='cuda:0', grad_fn=&lt;NllLossBackward0&gt;)|\n",
       "|  0   | 120/125 | tensor(5.3473, device='cuda:0', grad_fn=&lt;NllLossBackward0&gt;)|\n",
       "|  1   |  0/125  | tensor(5.7035, device='cuda:0', grad_fn=&lt;NllLossBackward0&gt;)|\n",
       "|  1   | 10/125  | tensor(5.5592, device='cuda:0', grad_fn=&lt;NllLossBackward0&gt;)|\n",
       "|  1   | 20/125  | tensor(5.6873, device='cuda:0', grad_fn=&lt;NllLossBackward0&gt;)|\n",
       "|  1   | 30/125  | tensor(5.6297, device='cuda:0', grad_fn=&lt;NllLossBackward0&gt;)|\n",
       "|  1   | 40/125  | tensor(5.6179, device='cuda:0', grad_fn=&lt;NllLossBackward0&gt;)|\n",
       "|  1   | 50/125  | tensor(5.3450, device='cuda:0', grad_fn=&lt;NllLossBackward0&gt;)|\n",
       "|  1   | 60/125  | tensor(5.2201, device='cuda:0', grad_fn=&lt;NllLossBackward0&gt;)|\n",
       "|  1   | 70/125  | tensor(5.5509, device='cuda:0', grad_fn=&lt;NllLossBackward0&gt;)|\n",
       "|  1   | 80/125  | tensor(5.6929, device='cuda:0', grad_fn=&lt;NllLossBackward0&gt;)|\n",
       "|  1   | 90/125  | tensor(5.4524, device='cuda:0', grad_fn=&lt;NllLossBackward0&gt;)|\n",
       "|  1   | 100/125 | tensor(5.1404, device='cuda:0', grad_fn=&lt;NllLossBackward0&gt;)|\n",
       "|  1   | 110/125 | tensor(5.5899, device='cuda:0', grad_fn=&lt;NllLossBackward0&gt;)|\n",
       "|  1   | 120/125 | tensor(4.8967, device='cuda:0', grad_fn=&lt;NllLossBackward0&gt;)|\n",
       "|  2   |  0/125  | tensor(5.2942, device='cuda:0', grad_fn=&lt;NllLossBackward0&gt;)|\n",
       "|  2   | 10/125  | tensor(5.2110, device='cuda:0', grad_fn=&lt;NllLossBackward0&gt;)|\n",
       "|  2   | 20/125  | tensor(5.1159, device='cuda:0', grad_fn=&lt;NllLossBackward0&gt;)|\n",
       "|  2   | 30/125  | tensor(5.2183, device='cuda:0', grad_fn=&lt;NllLossBackward0&gt;)|\n",
       "|  2   | 40/125  | tensor(5.0357, device='cuda:0', grad_fn=&lt;NllLossBackward0&gt;)|\n",
       "|  2   | 50/125  | tensor(5.1824, device='cuda:0', grad_fn=&lt;NllLossBackward0&gt;)|\n",
       "|  2   | 60/125  | tensor(5.2067, device='cuda:0', grad_fn=&lt;NllLossBackward0&gt;)|\n",
       "+-----------------------------------------------------------------------------+\n",
       "</pre>\n"
      ],
      "text/plain": [
       "\u001b[3m                                Training Status                                \u001b[0m\n",
       "+-----------------------------------------------------------------------------+\n",
       "|\u001b[1mEpoch\u001b[0m\u001b[1m \u001b[0m|\u001b[1m \u001b[0m\u001b[1m Steps \u001b[0m\u001b[1m \u001b[0m|\u001b[1m \u001b[0m\u001b[1m                           Loss                            \u001b[0m|\n",
       "|------+---------+------------------------------------------------------------|\n",
       "|  0   |  0/125  | tensor(6.2194, device='cuda:0', grad_fn=<NllLossBackward0>)|\n",
       "|  0   | 10/125  | tensor(5.9434, device='cuda:0', grad_fn=<NllLossBackward0>)|\n",
       "|  0   | 20/125  | tensor(6.3498, device='cuda:0', grad_fn=<NllLossBackward0>)|\n",
       "|  0   | 30/125  | tensor(6.2160, device='cuda:0', grad_fn=<NllLossBackward0>)|\n",
       "|  0   | 40/125  | tensor(6.1416, device='cuda:0', grad_fn=<NllLossBackward0>)|\n",
       "|  0   | 50/125  | tensor(5.5193, device='cuda:0', grad_fn=<NllLossBackward0>)|\n",
       "|  0   | 60/125  | tensor(5.8637, device='cuda:0', grad_fn=<NllLossBackward0>)|\n",
       "|  0   | 70/125  | tensor(6.2125, device='cuda:0', grad_fn=<NllLossBackward0>)|\n",
       "|  0   | 80/125  | tensor(5.9123, device='cuda:0', grad_fn=<NllLossBackward0>)|\n",
       "|  0   | 90/125  | tensor(5.6646, device='cuda:0', grad_fn=<NllLossBackward0>)|\n",
       "|  0   | 100/125 | tensor(5.3036, device='cuda:0', grad_fn=<NllLossBackward0>)|\n",
       "|  0   | 110/125 | tensor(5.3769, device='cuda:0', grad_fn=<NllLossBackward0>)|\n",
       "|  0   | 120/125 | tensor(5.3473, device='cuda:0', grad_fn=<NllLossBackward0>)|\n",
       "|  1   |  0/125  | tensor(5.7035, device='cuda:0', grad_fn=<NllLossBackward0>)|\n",
       "|  1   | 10/125  | tensor(5.5592, device='cuda:0', grad_fn=<NllLossBackward0>)|\n",
       "|  1   | 20/125  | tensor(5.6873, device='cuda:0', grad_fn=<NllLossBackward0>)|\n",
       "|  1   | 30/125  | tensor(5.6297, device='cuda:0', grad_fn=<NllLossBackward0>)|\n",
       "|  1   | 40/125  | tensor(5.6179, device='cuda:0', grad_fn=<NllLossBackward0>)|\n",
       "|  1   | 50/125  | tensor(5.3450, device='cuda:0', grad_fn=<NllLossBackward0>)|\n",
       "|  1   | 60/125  | tensor(5.2201, device='cuda:0', grad_fn=<NllLossBackward0>)|\n",
       "|  1   | 70/125  | tensor(5.5509, device='cuda:0', grad_fn=<NllLossBackward0>)|\n",
       "|  1   | 80/125  | tensor(5.6929, device='cuda:0', grad_fn=<NllLossBackward0>)|\n",
       "|  1   | 90/125  | tensor(5.4524, device='cuda:0', grad_fn=<NllLossBackward0>)|\n",
       "|  1   | 100/125 | tensor(5.1404, device='cuda:0', grad_fn=<NllLossBackward0>)|\n",
       "|  1   | 110/125 | tensor(5.5899, device='cuda:0', grad_fn=<NllLossBackward0>)|\n",
       "|  1   | 120/125 | tensor(4.8967, device='cuda:0', grad_fn=<NllLossBackward0>)|\n",
       "|  2   |  0/125  | tensor(5.2942, device='cuda:0', grad_fn=<NllLossBackward0>)|\n",
       "|  2   | 10/125  | tensor(5.2110, device='cuda:0', grad_fn=<NllLossBackward0>)|\n",
       "|  2   | 20/125  | tensor(5.1159, device='cuda:0', grad_fn=<NllLossBackward0>)|\n",
       "|  2   | 30/125  | tensor(5.2183, device='cuda:0', grad_fn=<NllLossBackward0>)|\n",
       "|  2   | 40/125  | tensor(5.0357, device='cuda:0', grad_fn=<NllLossBackward0>)|\n",
       "|  2   | 50/125  | tensor(5.1824, device='cuda:0', grad_fn=<NllLossBackward0>)|\n",
       "|  2   | 60/125  | tensor(5.2067, device='cuda:0', grad_fn=<NllLossBackward0>)|\n",
       "+-----------------------------------------------------------------------------+\n"
      ]
     },
     "metadata": {},
     "output_type": "display_data"
    },
    {
     "name": "stdout",
     "output_type": "stream",
     "text": [
      "STEP:  70 / 125\n"
     ]
    },
    {
     "data": {
      "text/html": [
       "<pre style=\"white-space:pre;overflow-x:auto;line-height:normal;font-family:Menlo,'DejaVu Sans Mono',consolas,'Courier New',monospace\"><span style=\"font-style: italic\">                                Training Status                                </span>\n",
       "+-----------------------------------------------------------------------------+\n",
       "|<span style=\"font-weight: bold\">Epoch </span>|<span style=\"font-weight: bold\">  Steps  </span>|<span style=\"font-weight: bold\">                            Loss                            </span>|\n",
       "|------+---------+------------------------------------------------------------|\n",
       "|  0   |  0/125  | tensor(6.2194, device='cuda:0', grad_fn=&lt;NllLossBackward0&gt;)|\n",
       "|  0   | 10/125  | tensor(5.9434, device='cuda:0', grad_fn=&lt;NllLossBackward0&gt;)|\n",
       "|  0   | 20/125  | tensor(6.3498, device='cuda:0', grad_fn=&lt;NllLossBackward0&gt;)|\n",
       "|  0   | 30/125  | tensor(6.2160, device='cuda:0', grad_fn=&lt;NllLossBackward0&gt;)|\n",
       "|  0   | 40/125  | tensor(6.1416, device='cuda:0', grad_fn=&lt;NllLossBackward0&gt;)|\n",
       "|  0   | 50/125  | tensor(5.5193, device='cuda:0', grad_fn=&lt;NllLossBackward0&gt;)|\n",
       "|  0   | 60/125  | tensor(5.8637, device='cuda:0', grad_fn=&lt;NllLossBackward0&gt;)|\n",
       "|  0   | 70/125  | tensor(6.2125, device='cuda:0', grad_fn=&lt;NllLossBackward0&gt;)|\n",
       "|  0   | 80/125  | tensor(5.9123, device='cuda:0', grad_fn=&lt;NllLossBackward0&gt;)|\n",
       "|  0   | 90/125  | tensor(5.6646, device='cuda:0', grad_fn=&lt;NllLossBackward0&gt;)|\n",
       "|  0   | 100/125 | tensor(5.3036, device='cuda:0', grad_fn=&lt;NllLossBackward0&gt;)|\n",
       "|  0   | 110/125 | tensor(5.3769, device='cuda:0', grad_fn=&lt;NllLossBackward0&gt;)|\n",
       "|  0   | 120/125 | tensor(5.3473, device='cuda:0', grad_fn=&lt;NllLossBackward0&gt;)|\n",
       "|  1   |  0/125  | tensor(5.7035, device='cuda:0', grad_fn=&lt;NllLossBackward0&gt;)|\n",
       "|  1   | 10/125  | tensor(5.5592, device='cuda:0', grad_fn=&lt;NllLossBackward0&gt;)|\n",
       "|  1   | 20/125  | tensor(5.6873, device='cuda:0', grad_fn=&lt;NllLossBackward0&gt;)|\n",
       "|  1   | 30/125  | tensor(5.6297, device='cuda:0', grad_fn=&lt;NllLossBackward0&gt;)|\n",
       "|  1   | 40/125  | tensor(5.6179, device='cuda:0', grad_fn=&lt;NllLossBackward0&gt;)|\n",
       "|  1   | 50/125  | tensor(5.3450, device='cuda:0', grad_fn=&lt;NllLossBackward0&gt;)|\n",
       "|  1   | 60/125  | tensor(5.2201, device='cuda:0', grad_fn=&lt;NllLossBackward0&gt;)|\n",
       "|  1   | 70/125  | tensor(5.5509, device='cuda:0', grad_fn=&lt;NllLossBackward0&gt;)|\n",
       "|  1   | 80/125  | tensor(5.6929, device='cuda:0', grad_fn=&lt;NllLossBackward0&gt;)|\n",
       "|  1   | 90/125  | tensor(5.4524, device='cuda:0', grad_fn=&lt;NllLossBackward0&gt;)|\n",
       "|  1   | 100/125 | tensor(5.1404, device='cuda:0', grad_fn=&lt;NllLossBackward0&gt;)|\n",
       "|  1   | 110/125 | tensor(5.5899, device='cuda:0', grad_fn=&lt;NllLossBackward0&gt;)|\n",
       "|  1   | 120/125 | tensor(4.8967, device='cuda:0', grad_fn=&lt;NllLossBackward0&gt;)|\n",
       "|  2   |  0/125  | tensor(5.2942, device='cuda:0', grad_fn=&lt;NllLossBackward0&gt;)|\n",
       "|  2   | 10/125  | tensor(5.2110, device='cuda:0', grad_fn=&lt;NllLossBackward0&gt;)|\n",
       "|  2   | 20/125  | tensor(5.1159, device='cuda:0', grad_fn=&lt;NllLossBackward0&gt;)|\n",
       "|  2   | 30/125  | tensor(5.2183, device='cuda:0', grad_fn=&lt;NllLossBackward0&gt;)|\n",
       "|  2   | 40/125  | tensor(5.0357, device='cuda:0', grad_fn=&lt;NllLossBackward0&gt;)|\n",
       "|  2   | 50/125  | tensor(5.1824, device='cuda:0', grad_fn=&lt;NllLossBackward0&gt;)|\n",
       "|  2   | 60/125  | tensor(5.2067, device='cuda:0', grad_fn=&lt;NllLossBackward0&gt;)|\n",
       "|  2   | 70/125  | tensor(5.1950, device='cuda:0', grad_fn=&lt;NllLossBackward0&gt;)|\n",
       "+-----------------------------------------------------------------------------+\n",
       "</pre>\n"
      ],
      "text/plain": [
       "\u001b[3m                                Training Status                                \u001b[0m\n",
       "+-----------------------------------------------------------------------------+\n",
       "|\u001b[1mEpoch\u001b[0m\u001b[1m \u001b[0m|\u001b[1m \u001b[0m\u001b[1m Steps \u001b[0m\u001b[1m \u001b[0m|\u001b[1m \u001b[0m\u001b[1m                           Loss                            \u001b[0m|\n",
       "|------+---------+------------------------------------------------------------|\n",
       "|  0   |  0/125  | tensor(6.2194, device='cuda:0', grad_fn=<NllLossBackward0>)|\n",
       "|  0   | 10/125  | tensor(5.9434, device='cuda:0', grad_fn=<NllLossBackward0>)|\n",
       "|  0   | 20/125  | tensor(6.3498, device='cuda:0', grad_fn=<NllLossBackward0>)|\n",
       "|  0   | 30/125  | tensor(6.2160, device='cuda:0', grad_fn=<NllLossBackward0>)|\n",
       "|  0   | 40/125  | tensor(6.1416, device='cuda:0', grad_fn=<NllLossBackward0>)|\n",
       "|  0   | 50/125  | tensor(5.5193, device='cuda:0', grad_fn=<NllLossBackward0>)|\n",
       "|  0   | 60/125  | tensor(5.8637, device='cuda:0', grad_fn=<NllLossBackward0>)|\n",
       "|  0   | 70/125  | tensor(6.2125, device='cuda:0', grad_fn=<NllLossBackward0>)|\n",
       "|  0   | 80/125  | tensor(5.9123, device='cuda:0', grad_fn=<NllLossBackward0>)|\n",
       "|  0   | 90/125  | tensor(5.6646, device='cuda:0', grad_fn=<NllLossBackward0>)|\n",
       "|  0   | 100/125 | tensor(5.3036, device='cuda:0', grad_fn=<NllLossBackward0>)|\n",
       "|  0   | 110/125 | tensor(5.3769, device='cuda:0', grad_fn=<NllLossBackward0>)|\n",
       "|  0   | 120/125 | tensor(5.3473, device='cuda:0', grad_fn=<NllLossBackward0>)|\n",
       "|  1   |  0/125  | tensor(5.7035, device='cuda:0', grad_fn=<NllLossBackward0>)|\n",
       "|  1   | 10/125  | tensor(5.5592, device='cuda:0', grad_fn=<NllLossBackward0>)|\n",
       "|  1   | 20/125  | tensor(5.6873, device='cuda:0', grad_fn=<NllLossBackward0>)|\n",
       "|  1   | 30/125  | tensor(5.6297, device='cuda:0', grad_fn=<NllLossBackward0>)|\n",
       "|  1   | 40/125  | tensor(5.6179, device='cuda:0', grad_fn=<NllLossBackward0>)|\n",
       "|  1   | 50/125  | tensor(5.3450, device='cuda:0', grad_fn=<NllLossBackward0>)|\n",
       "|  1   | 60/125  | tensor(5.2201, device='cuda:0', grad_fn=<NllLossBackward0>)|\n",
       "|  1   | 70/125  | tensor(5.5509, device='cuda:0', grad_fn=<NllLossBackward0>)|\n",
       "|  1   | 80/125  | tensor(5.6929, device='cuda:0', grad_fn=<NllLossBackward0>)|\n",
       "|  1   | 90/125  | tensor(5.4524, device='cuda:0', grad_fn=<NllLossBackward0>)|\n",
       "|  1   | 100/125 | tensor(5.1404, device='cuda:0', grad_fn=<NllLossBackward0>)|\n",
       "|  1   | 110/125 | tensor(5.5899, device='cuda:0', grad_fn=<NllLossBackward0>)|\n",
       "|  1   | 120/125 | tensor(4.8967, device='cuda:0', grad_fn=<NllLossBackward0>)|\n",
       "|  2   |  0/125  | tensor(5.2942, device='cuda:0', grad_fn=<NllLossBackward0>)|\n",
       "|  2   | 10/125  | tensor(5.2110, device='cuda:0', grad_fn=<NllLossBackward0>)|\n",
       "|  2   | 20/125  | tensor(5.1159, device='cuda:0', grad_fn=<NllLossBackward0>)|\n",
       "|  2   | 30/125  | tensor(5.2183, device='cuda:0', grad_fn=<NllLossBackward0>)|\n",
       "|  2   | 40/125  | tensor(5.0357, device='cuda:0', grad_fn=<NllLossBackward0>)|\n",
       "|  2   | 50/125  | tensor(5.1824, device='cuda:0', grad_fn=<NllLossBackward0>)|\n",
       "|  2   | 60/125  | tensor(5.2067, device='cuda:0', grad_fn=<NllLossBackward0>)|\n",
       "|  2   | 70/125  | tensor(5.1950, device='cuda:0', grad_fn=<NllLossBackward0>)|\n",
       "+-----------------------------------------------------------------------------+\n"
      ]
     },
     "metadata": {},
     "output_type": "display_data"
    },
    {
     "name": "stdout",
     "output_type": "stream",
     "text": [
      "STEP:  80 / 125\n"
     ]
    },
    {
     "data": {
      "text/html": [
       "<pre style=\"white-space:pre;overflow-x:auto;line-height:normal;font-family:Menlo,'DejaVu Sans Mono',consolas,'Courier New',monospace\"><span style=\"font-style: italic\">                                Training Status                                </span>\n",
       "+-----------------------------------------------------------------------------+\n",
       "|<span style=\"font-weight: bold\">Epoch </span>|<span style=\"font-weight: bold\">  Steps  </span>|<span style=\"font-weight: bold\">                            Loss                            </span>|\n",
       "|------+---------+------------------------------------------------------------|\n",
       "|  0   |  0/125  | tensor(6.2194, device='cuda:0', grad_fn=&lt;NllLossBackward0&gt;)|\n",
       "|  0   | 10/125  | tensor(5.9434, device='cuda:0', grad_fn=&lt;NllLossBackward0&gt;)|\n",
       "|  0   | 20/125  | tensor(6.3498, device='cuda:0', grad_fn=&lt;NllLossBackward0&gt;)|\n",
       "|  0   | 30/125  | tensor(6.2160, device='cuda:0', grad_fn=&lt;NllLossBackward0&gt;)|\n",
       "|  0   | 40/125  | tensor(6.1416, device='cuda:0', grad_fn=&lt;NllLossBackward0&gt;)|\n",
       "|  0   | 50/125  | tensor(5.5193, device='cuda:0', grad_fn=&lt;NllLossBackward0&gt;)|\n",
       "|  0   | 60/125  | tensor(5.8637, device='cuda:0', grad_fn=&lt;NllLossBackward0&gt;)|\n",
       "|  0   | 70/125  | tensor(6.2125, device='cuda:0', grad_fn=&lt;NllLossBackward0&gt;)|\n",
       "|  0   | 80/125  | tensor(5.9123, device='cuda:0', grad_fn=&lt;NllLossBackward0&gt;)|\n",
       "|  0   | 90/125  | tensor(5.6646, device='cuda:0', grad_fn=&lt;NllLossBackward0&gt;)|\n",
       "|  0   | 100/125 | tensor(5.3036, device='cuda:0', grad_fn=&lt;NllLossBackward0&gt;)|\n",
       "|  0   | 110/125 | tensor(5.3769, device='cuda:0', grad_fn=&lt;NllLossBackward0&gt;)|\n",
       "|  0   | 120/125 | tensor(5.3473, device='cuda:0', grad_fn=&lt;NllLossBackward0&gt;)|\n",
       "|  1   |  0/125  | tensor(5.7035, device='cuda:0', grad_fn=&lt;NllLossBackward0&gt;)|\n",
       "|  1   | 10/125  | tensor(5.5592, device='cuda:0', grad_fn=&lt;NllLossBackward0&gt;)|\n",
       "|  1   | 20/125  | tensor(5.6873, device='cuda:0', grad_fn=&lt;NllLossBackward0&gt;)|\n",
       "|  1   | 30/125  | tensor(5.6297, device='cuda:0', grad_fn=&lt;NllLossBackward0&gt;)|\n",
       "|  1   | 40/125  | tensor(5.6179, device='cuda:0', grad_fn=&lt;NllLossBackward0&gt;)|\n",
       "|  1   | 50/125  | tensor(5.3450, device='cuda:0', grad_fn=&lt;NllLossBackward0&gt;)|\n",
       "|  1   | 60/125  | tensor(5.2201, device='cuda:0', grad_fn=&lt;NllLossBackward0&gt;)|\n",
       "|  1   | 70/125  | tensor(5.5509, device='cuda:0', grad_fn=&lt;NllLossBackward0&gt;)|\n",
       "|  1   | 80/125  | tensor(5.6929, device='cuda:0', grad_fn=&lt;NllLossBackward0&gt;)|\n",
       "|  1   | 90/125  | tensor(5.4524, device='cuda:0', grad_fn=&lt;NllLossBackward0&gt;)|\n",
       "|  1   | 100/125 | tensor(5.1404, device='cuda:0', grad_fn=&lt;NllLossBackward0&gt;)|\n",
       "|  1   | 110/125 | tensor(5.5899, device='cuda:0', grad_fn=&lt;NllLossBackward0&gt;)|\n",
       "|  1   | 120/125 | tensor(4.8967, device='cuda:0', grad_fn=&lt;NllLossBackward0&gt;)|\n",
       "|  2   |  0/125  | tensor(5.2942, device='cuda:0', grad_fn=&lt;NllLossBackward0&gt;)|\n",
       "|  2   | 10/125  | tensor(5.2110, device='cuda:0', grad_fn=&lt;NllLossBackward0&gt;)|\n",
       "|  2   | 20/125  | tensor(5.1159, device='cuda:0', grad_fn=&lt;NllLossBackward0&gt;)|\n",
       "|  2   | 30/125  | tensor(5.2183, device='cuda:0', grad_fn=&lt;NllLossBackward0&gt;)|\n",
       "|  2   | 40/125  | tensor(5.0357, device='cuda:0', grad_fn=&lt;NllLossBackward0&gt;)|\n",
       "|  2   | 50/125  | tensor(5.1824, device='cuda:0', grad_fn=&lt;NllLossBackward0&gt;)|\n",
       "|  2   | 60/125  | tensor(5.2067, device='cuda:0', grad_fn=&lt;NllLossBackward0&gt;)|\n",
       "|  2   | 70/125  | tensor(5.1950, device='cuda:0', grad_fn=&lt;NllLossBackward0&gt;)|\n",
       "|  2   | 80/125  | tensor(5.3242, device='cuda:0', grad_fn=&lt;NllLossBackward0&gt;)|\n",
       "+-----------------------------------------------------------------------------+\n",
       "</pre>\n"
      ],
      "text/plain": [
       "\u001b[3m                                Training Status                                \u001b[0m\n",
       "+-----------------------------------------------------------------------------+\n",
       "|\u001b[1mEpoch\u001b[0m\u001b[1m \u001b[0m|\u001b[1m \u001b[0m\u001b[1m Steps \u001b[0m\u001b[1m \u001b[0m|\u001b[1m \u001b[0m\u001b[1m                           Loss                            \u001b[0m|\n",
       "|------+---------+------------------------------------------------------------|\n",
       "|  0   |  0/125  | tensor(6.2194, device='cuda:0', grad_fn=<NllLossBackward0>)|\n",
       "|  0   | 10/125  | tensor(5.9434, device='cuda:0', grad_fn=<NllLossBackward0>)|\n",
       "|  0   | 20/125  | tensor(6.3498, device='cuda:0', grad_fn=<NllLossBackward0>)|\n",
       "|  0   | 30/125  | tensor(6.2160, device='cuda:0', grad_fn=<NllLossBackward0>)|\n",
       "|  0   | 40/125  | tensor(6.1416, device='cuda:0', grad_fn=<NllLossBackward0>)|\n",
       "|  0   | 50/125  | tensor(5.5193, device='cuda:0', grad_fn=<NllLossBackward0>)|\n",
       "|  0   | 60/125  | tensor(5.8637, device='cuda:0', grad_fn=<NllLossBackward0>)|\n",
       "|  0   | 70/125  | tensor(6.2125, device='cuda:0', grad_fn=<NllLossBackward0>)|\n",
       "|  0   | 80/125  | tensor(5.9123, device='cuda:0', grad_fn=<NllLossBackward0>)|\n",
       "|  0   | 90/125  | tensor(5.6646, device='cuda:0', grad_fn=<NllLossBackward0>)|\n",
       "|  0   | 100/125 | tensor(5.3036, device='cuda:0', grad_fn=<NllLossBackward0>)|\n",
       "|  0   | 110/125 | tensor(5.3769, device='cuda:0', grad_fn=<NllLossBackward0>)|\n",
       "|  0   | 120/125 | tensor(5.3473, device='cuda:0', grad_fn=<NllLossBackward0>)|\n",
       "|  1   |  0/125  | tensor(5.7035, device='cuda:0', grad_fn=<NllLossBackward0>)|\n",
       "|  1   | 10/125  | tensor(5.5592, device='cuda:0', grad_fn=<NllLossBackward0>)|\n",
       "|  1   | 20/125  | tensor(5.6873, device='cuda:0', grad_fn=<NllLossBackward0>)|\n",
       "|  1   | 30/125  | tensor(5.6297, device='cuda:0', grad_fn=<NllLossBackward0>)|\n",
       "|  1   | 40/125  | tensor(5.6179, device='cuda:0', grad_fn=<NllLossBackward0>)|\n",
       "|  1   | 50/125  | tensor(5.3450, device='cuda:0', grad_fn=<NllLossBackward0>)|\n",
       "|  1   | 60/125  | tensor(5.2201, device='cuda:0', grad_fn=<NllLossBackward0>)|\n",
       "|  1   | 70/125  | tensor(5.5509, device='cuda:0', grad_fn=<NllLossBackward0>)|\n",
       "|  1   | 80/125  | tensor(5.6929, device='cuda:0', grad_fn=<NllLossBackward0>)|\n",
       "|  1   | 90/125  | tensor(5.4524, device='cuda:0', grad_fn=<NllLossBackward0>)|\n",
       "|  1   | 100/125 | tensor(5.1404, device='cuda:0', grad_fn=<NllLossBackward0>)|\n",
       "|  1   | 110/125 | tensor(5.5899, device='cuda:0', grad_fn=<NllLossBackward0>)|\n",
       "|  1   | 120/125 | tensor(4.8967, device='cuda:0', grad_fn=<NllLossBackward0>)|\n",
       "|  2   |  0/125  | tensor(5.2942, device='cuda:0', grad_fn=<NllLossBackward0>)|\n",
       "|  2   | 10/125  | tensor(5.2110, device='cuda:0', grad_fn=<NllLossBackward0>)|\n",
       "|  2   | 20/125  | tensor(5.1159, device='cuda:0', grad_fn=<NllLossBackward0>)|\n",
       "|  2   | 30/125  | tensor(5.2183, device='cuda:0', grad_fn=<NllLossBackward0>)|\n",
       "|  2   | 40/125  | tensor(5.0357, device='cuda:0', grad_fn=<NllLossBackward0>)|\n",
       "|  2   | 50/125  | tensor(5.1824, device='cuda:0', grad_fn=<NllLossBackward0>)|\n",
       "|  2   | 60/125  | tensor(5.2067, device='cuda:0', grad_fn=<NllLossBackward0>)|\n",
       "|  2   | 70/125  | tensor(5.1950, device='cuda:0', grad_fn=<NllLossBackward0>)|\n",
       "|  2   | 80/125  | tensor(5.3242, device='cuda:0', grad_fn=<NllLossBackward0>)|\n",
       "+-----------------------------------------------------------------------------+\n"
      ]
     },
     "metadata": {},
     "output_type": "display_data"
    },
    {
     "name": "stdout",
     "output_type": "stream",
     "text": [
      "STEP:  90 / 125\n"
     ]
    },
    {
     "data": {
      "text/html": [
       "<pre style=\"white-space:pre;overflow-x:auto;line-height:normal;font-family:Menlo,'DejaVu Sans Mono',consolas,'Courier New',monospace\"><span style=\"font-style: italic\">                                Training Status                                </span>\n",
       "+-----------------------------------------------------------------------------+\n",
       "|<span style=\"font-weight: bold\">Epoch </span>|<span style=\"font-weight: bold\">  Steps  </span>|<span style=\"font-weight: bold\">                            Loss                            </span>|\n",
       "|------+---------+------------------------------------------------------------|\n",
       "|  0   |  0/125  | tensor(6.2194, device='cuda:0', grad_fn=&lt;NllLossBackward0&gt;)|\n",
       "|  0   | 10/125  | tensor(5.9434, device='cuda:0', grad_fn=&lt;NllLossBackward0&gt;)|\n",
       "|  0   | 20/125  | tensor(6.3498, device='cuda:0', grad_fn=&lt;NllLossBackward0&gt;)|\n",
       "|  0   | 30/125  | tensor(6.2160, device='cuda:0', grad_fn=&lt;NllLossBackward0&gt;)|\n",
       "|  0   | 40/125  | tensor(6.1416, device='cuda:0', grad_fn=&lt;NllLossBackward0&gt;)|\n",
       "|  0   | 50/125  | tensor(5.5193, device='cuda:0', grad_fn=&lt;NllLossBackward0&gt;)|\n",
       "|  0   | 60/125  | tensor(5.8637, device='cuda:0', grad_fn=&lt;NllLossBackward0&gt;)|\n",
       "|  0   | 70/125  | tensor(6.2125, device='cuda:0', grad_fn=&lt;NllLossBackward0&gt;)|\n",
       "|  0   | 80/125  | tensor(5.9123, device='cuda:0', grad_fn=&lt;NllLossBackward0&gt;)|\n",
       "|  0   | 90/125  | tensor(5.6646, device='cuda:0', grad_fn=&lt;NllLossBackward0&gt;)|\n",
       "|  0   | 100/125 | tensor(5.3036, device='cuda:0', grad_fn=&lt;NllLossBackward0&gt;)|\n",
       "|  0   | 110/125 | tensor(5.3769, device='cuda:0', grad_fn=&lt;NllLossBackward0&gt;)|\n",
       "|  0   | 120/125 | tensor(5.3473, device='cuda:0', grad_fn=&lt;NllLossBackward0&gt;)|\n",
       "|  1   |  0/125  | tensor(5.7035, device='cuda:0', grad_fn=&lt;NllLossBackward0&gt;)|\n",
       "|  1   | 10/125  | tensor(5.5592, device='cuda:0', grad_fn=&lt;NllLossBackward0&gt;)|\n",
       "|  1   | 20/125  | tensor(5.6873, device='cuda:0', grad_fn=&lt;NllLossBackward0&gt;)|\n",
       "|  1   | 30/125  | tensor(5.6297, device='cuda:0', grad_fn=&lt;NllLossBackward0&gt;)|\n",
       "|  1   | 40/125  | tensor(5.6179, device='cuda:0', grad_fn=&lt;NllLossBackward0&gt;)|\n",
       "|  1   | 50/125  | tensor(5.3450, device='cuda:0', grad_fn=&lt;NllLossBackward0&gt;)|\n",
       "|  1   | 60/125  | tensor(5.2201, device='cuda:0', grad_fn=&lt;NllLossBackward0&gt;)|\n",
       "|  1   | 70/125  | tensor(5.5509, device='cuda:0', grad_fn=&lt;NllLossBackward0&gt;)|\n",
       "|  1   | 80/125  | tensor(5.6929, device='cuda:0', grad_fn=&lt;NllLossBackward0&gt;)|\n",
       "|  1   | 90/125  | tensor(5.4524, device='cuda:0', grad_fn=&lt;NllLossBackward0&gt;)|\n",
       "|  1   | 100/125 | tensor(5.1404, device='cuda:0', grad_fn=&lt;NllLossBackward0&gt;)|\n",
       "|  1   | 110/125 | tensor(5.5899, device='cuda:0', grad_fn=&lt;NllLossBackward0&gt;)|\n",
       "|  1   | 120/125 | tensor(4.8967, device='cuda:0', grad_fn=&lt;NllLossBackward0&gt;)|\n",
       "|  2   |  0/125  | tensor(5.2942, device='cuda:0', grad_fn=&lt;NllLossBackward0&gt;)|\n",
       "|  2   | 10/125  | tensor(5.2110, device='cuda:0', grad_fn=&lt;NllLossBackward0&gt;)|\n",
       "|  2   | 20/125  | tensor(5.1159, device='cuda:0', grad_fn=&lt;NllLossBackward0&gt;)|\n",
       "|  2   | 30/125  | tensor(5.2183, device='cuda:0', grad_fn=&lt;NllLossBackward0&gt;)|\n",
       "|  2   | 40/125  | tensor(5.0357, device='cuda:0', grad_fn=&lt;NllLossBackward0&gt;)|\n",
       "|  2   | 50/125  | tensor(5.1824, device='cuda:0', grad_fn=&lt;NllLossBackward0&gt;)|\n",
       "|  2   | 60/125  | tensor(5.2067, device='cuda:0', grad_fn=&lt;NllLossBackward0&gt;)|\n",
       "|  2   | 70/125  | tensor(5.1950, device='cuda:0', grad_fn=&lt;NllLossBackward0&gt;)|\n",
       "|  2   | 80/125  | tensor(5.3242, device='cuda:0', grad_fn=&lt;NllLossBackward0&gt;)|\n",
       "|  2   | 90/125  | tensor(5.0791, device='cuda:0', grad_fn=&lt;NllLossBackward0&gt;)|\n",
       "+-----------------------------------------------------------------------------+\n",
       "</pre>\n"
      ],
      "text/plain": [
       "\u001b[3m                                Training Status                                \u001b[0m\n",
       "+-----------------------------------------------------------------------------+\n",
       "|\u001b[1mEpoch\u001b[0m\u001b[1m \u001b[0m|\u001b[1m \u001b[0m\u001b[1m Steps \u001b[0m\u001b[1m \u001b[0m|\u001b[1m \u001b[0m\u001b[1m                           Loss                            \u001b[0m|\n",
       "|------+---------+------------------------------------------------------------|\n",
       "|  0   |  0/125  | tensor(6.2194, device='cuda:0', grad_fn=<NllLossBackward0>)|\n",
       "|  0   | 10/125  | tensor(5.9434, device='cuda:0', grad_fn=<NllLossBackward0>)|\n",
       "|  0   | 20/125  | tensor(6.3498, device='cuda:0', grad_fn=<NllLossBackward0>)|\n",
       "|  0   | 30/125  | tensor(6.2160, device='cuda:0', grad_fn=<NllLossBackward0>)|\n",
       "|  0   | 40/125  | tensor(6.1416, device='cuda:0', grad_fn=<NllLossBackward0>)|\n",
       "|  0   | 50/125  | tensor(5.5193, device='cuda:0', grad_fn=<NllLossBackward0>)|\n",
       "|  0   | 60/125  | tensor(5.8637, device='cuda:0', grad_fn=<NllLossBackward0>)|\n",
       "|  0   | 70/125  | tensor(6.2125, device='cuda:0', grad_fn=<NllLossBackward0>)|\n",
       "|  0   | 80/125  | tensor(5.9123, device='cuda:0', grad_fn=<NllLossBackward0>)|\n",
       "|  0   | 90/125  | tensor(5.6646, device='cuda:0', grad_fn=<NllLossBackward0>)|\n",
       "|  0   | 100/125 | tensor(5.3036, device='cuda:0', grad_fn=<NllLossBackward0>)|\n",
       "|  0   | 110/125 | tensor(5.3769, device='cuda:0', grad_fn=<NllLossBackward0>)|\n",
       "|  0   | 120/125 | tensor(5.3473, device='cuda:0', grad_fn=<NllLossBackward0>)|\n",
       "|  1   |  0/125  | tensor(5.7035, device='cuda:0', grad_fn=<NllLossBackward0>)|\n",
       "|  1   | 10/125  | tensor(5.5592, device='cuda:0', grad_fn=<NllLossBackward0>)|\n",
       "|  1   | 20/125  | tensor(5.6873, device='cuda:0', grad_fn=<NllLossBackward0>)|\n",
       "|  1   | 30/125  | tensor(5.6297, device='cuda:0', grad_fn=<NllLossBackward0>)|\n",
       "|  1   | 40/125  | tensor(5.6179, device='cuda:0', grad_fn=<NllLossBackward0>)|\n",
       "|  1   | 50/125  | tensor(5.3450, device='cuda:0', grad_fn=<NllLossBackward0>)|\n",
       "|  1   | 60/125  | tensor(5.2201, device='cuda:0', grad_fn=<NllLossBackward0>)|\n",
       "|  1   | 70/125  | tensor(5.5509, device='cuda:0', grad_fn=<NllLossBackward0>)|\n",
       "|  1   | 80/125  | tensor(5.6929, device='cuda:0', grad_fn=<NllLossBackward0>)|\n",
       "|  1   | 90/125  | tensor(5.4524, device='cuda:0', grad_fn=<NllLossBackward0>)|\n",
       "|  1   | 100/125 | tensor(5.1404, device='cuda:0', grad_fn=<NllLossBackward0>)|\n",
       "|  1   | 110/125 | tensor(5.5899, device='cuda:0', grad_fn=<NllLossBackward0>)|\n",
       "|  1   | 120/125 | tensor(4.8967, device='cuda:0', grad_fn=<NllLossBackward0>)|\n",
       "|  2   |  0/125  | tensor(5.2942, device='cuda:0', grad_fn=<NllLossBackward0>)|\n",
       "|  2   | 10/125  | tensor(5.2110, device='cuda:0', grad_fn=<NllLossBackward0>)|\n",
       "|  2   | 20/125  | tensor(5.1159, device='cuda:0', grad_fn=<NllLossBackward0>)|\n",
       "|  2   | 30/125  | tensor(5.2183, device='cuda:0', grad_fn=<NllLossBackward0>)|\n",
       "|  2   | 40/125  | tensor(5.0357, device='cuda:0', grad_fn=<NllLossBackward0>)|\n",
       "|  2   | 50/125  | tensor(5.1824, device='cuda:0', grad_fn=<NllLossBackward0>)|\n",
       "|  2   | 60/125  | tensor(5.2067, device='cuda:0', grad_fn=<NllLossBackward0>)|\n",
       "|  2   | 70/125  | tensor(5.1950, device='cuda:0', grad_fn=<NllLossBackward0>)|\n",
       "|  2   | 80/125  | tensor(5.3242, device='cuda:0', grad_fn=<NllLossBackward0>)|\n",
       "|  2   | 90/125  | tensor(5.0791, device='cuda:0', grad_fn=<NllLossBackward0>)|\n",
       "+-----------------------------------------------------------------------------+\n"
      ]
     },
     "metadata": {},
     "output_type": "display_data"
    },
    {
     "name": "stdout",
     "output_type": "stream",
     "text": [
      "STEP:  100 / 125\n"
     ]
    },
    {
     "data": {
      "text/html": [
       "<pre style=\"white-space:pre;overflow-x:auto;line-height:normal;font-family:Menlo,'DejaVu Sans Mono',consolas,'Courier New',monospace\"><span style=\"font-style: italic\">                                Training Status                                </span>\n",
       "+-----------------------------------------------------------------------------+\n",
       "|<span style=\"font-weight: bold\">Epoch </span>|<span style=\"font-weight: bold\">  Steps  </span>|<span style=\"font-weight: bold\">                            Loss                            </span>|\n",
       "|------+---------+------------------------------------------------------------|\n",
       "|  0   |  0/125  | tensor(6.2194, device='cuda:0', grad_fn=&lt;NllLossBackward0&gt;)|\n",
       "|  0   | 10/125  | tensor(5.9434, device='cuda:0', grad_fn=&lt;NllLossBackward0&gt;)|\n",
       "|  0   | 20/125  | tensor(6.3498, device='cuda:0', grad_fn=&lt;NllLossBackward0&gt;)|\n",
       "|  0   | 30/125  | tensor(6.2160, device='cuda:0', grad_fn=&lt;NllLossBackward0&gt;)|\n",
       "|  0   | 40/125  | tensor(6.1416, device='cuda:0', grad_fn=&lt;NllLossBackward0&gt;)|\n",
       "|  0   | 50/125  | tensor(5.5193, device='cuda:0', grad_fn=&lt;NllLossBackward0&gt;)|\n",
       "|  0   | 60/125  | tensor(5.8637, device='cuda:0', grad_fn=&lt;NllLossBackward0&gt;)|\n",
       "|  0   | 70/125  | tensor(6.2125, device='cuda:0', grad_fn=&lt;NllLossBackward0&gt;)|\n",
       "|  0   | 80/125  | tensor(5.9123, device='cuda:0', grad_fn=&lt;NllLossBackward0&gt;)|\n",
       "|  0   | 90/125  | tensor(5.6646, device='cuda:0', grad_fn=&lt;NllLossBackward0&gt;)|\n",
       "|  0   | 100/125 | tensor(5.3036, device='cuda:0', grad_fn=&lt;NllLossBackward0&gt;)|\n",
       "|  0   | 110/125 | tensor(5.3769, device='cuda:0', grad_fn=&lt;NllLossBackward0&gt;)|\n",
       "|  0   | 120/125 | tensor(5.3473, device='cuda:0', grad_fn=&lt;NllLossBackward0&gt;)|\n",
       "|  1   |  0/125  | tensor(5.7035, device='cuda:0', grad_fn=&lt;NllLossBackward0&gt;)|\n",
       "|  1   | 10/125  | tensor(5.5592, device='cuda:0', grad_fn=&lt;NllLossBackward0&gt;)|\n",
       "|  1   | 20/125  | tensor(5.6873, device='cuda:0', grad_fn=&lt;NllLossBackward0&gt;)|\n",
       "|  1   | 30/125  | tensor(5.6297, device='cuda:0', grad_fn=&lt;NllLossBackward0&gt;)|\n",
       "|  1   | 40/125  | tensor(5.6179, device='cuda:0', grad_fn=&lt;NllLossBackward0&gt;)|\n",
       "|  1   | 50/125  | tensor(5.3450, device='cuda:0', grad_fn=&lt;NllLossBackward0&gt;)|\n",
       "|  1   | 60/125  | tensor(5.2201, device='cuda:0', grad_fn=&lt;NllLossBackward0&gt;)|\n",
       "|  1   | 70/125  | tensor(5.5509, device='cuda:0', grad_fn=&lt;NllLossBackward0&gt;)|\n",
       "|  1   | 80/125  | tensor(5.6929, device='cuda:0', grad_fn=&lt;NllLossBackward0&gt;)|\n",
       "|  1   | 90/125  | tensor(5.4524, device='cuda:0', grad_fn=&lt;NllLossBackward0&gt;)|\n",
       "|  1   | 100/125 | tensor(5.1404, device='cuda:0', grad_fn=&lt;NllLossBackward0&gt;)|\n",
       "|  1   | 110/125 | tensor(5.5899, device='cuda:0', grad_fn=&lt;NllLossBackward0&gt;)|\n",
       "|  1   | 120/125 | tensor(4.8967, device='cuda:0', grad_fn=&lt;NllLossBackward0&gt;)|\n",
       "|  2   |  0/125  | tensor(5.2942, device='cuda:0', grad_fn=&lt;NllLossBackward0&gt;)|\n",
       "|  2   | 10/125  | tensor(5.2110, device='cuda:0', grad_fn=&lt;NllLossBackward0&gt;)|\n",
       "|  2   | 20/125  | tensor(5.1159, device='cuda:0', grad_fn=&lt;NllLossBackward0&gt;)|\n",
       "|  2   | 30/125  | tensor(5.2183, device='cuda:0', grad_fn=&lt;NllLossBackward0&gt;)|\n",
       "|  2   | 40/125  | tensor(5.0357, device='cuda:0', grad_fn=&lt;NllLossBackward0&gt;)|\n",
       "|  2   | 50/125  | tensor(5.1824, device='cuda:0', grad_fn=&lt;NllLossBackward0&gt;)|\n",
       "|  2   | 60/125  | tensor(5.2067, device='cuda:0', grad_fn=&lt;NllLossBackward0&gt;)|\n",
       "|  2   | 70/125  | tensor(5.1950, device='cuda:0', grad_fn=&lt;NllLossBackward0&gt;)|\n",
       "|  2   | 80/125  | tensor(5.3242, device='cuda:0', grad_fn=&lt;NllLossBackward0&gt;)|\n",
       "|  2   | 90/125  | tensor(5.0791, device='cuda:0', grad_fn=&lt;NllLossBackward0&gt;)|\n",
       "|  2   | 100/125 | tensor(4.8463, device='cuda:0', grad_fn=&lt;NllLossBackward0&gt;)|\n",
       "+-----------------------------------------------------------------------------+\n",
       "</pre>\n"
      ],
      "text/plain": [
       "\u001b[3m                                Training Status                                \u001b[0m\n",
       "+-----------------------------------------------------------------------------+\n",
       "|\u001b[1mEpoch\u001b[0m\u001b[1m \u001b[0m|\u001b[1m \u001b[0m\u001b[1m Steps \u001b[0m\u001b[1m \u001b[0m|\u001b[1m \u001b[0m\u001b[1m                           Loss                            \u001b[0m|\n",
       "|------+---------+------------------------------------------------------------|\n",
       "|  0   |  0/125  | tensor(6.2194, device='cuda:0', grad_fn=<NllLossBackward0>)|\n",
       "|  0   | 10/125  | tensor(5.9434, device='cuda:0', grad_fn=<NllLossBackward0>)|\n",
       "|  0   | 20/125  | tensor(6.3498, device='cuda:0', grad_fn=<NllLossBackward0>)|\n",
       "|  0   | 30/125  | tensor(6.2160, device='cuda:0', grad_fn=<NllLossBackward0>)|\n",
       "|  0   | 40/125  | tensor(6.1416, device='cuda:0', grad_fn=<NllLossBackward0>)|\n",
       "|  0   | 50/125  | tensor(5.5193, device='cuda:0', grad_fn=<NllLossBackward0>)|\n",
       "|  0   | 60/125  | tensor(5.8637, device='cuda:0', grad_fn=<NllLossBackward0>)|\n",
       "|  0   | 70/125  | tensor(6.2125, device='cuda:0', grad_fn=<NllLossBackward0>)|\n",
       "|  0   | 80/125  | tensor(5.9123, device='cuda:0', grad_fn=<NllLossBackward0>)|\n",
       "|  0   | 90/125  | tensor(5.6646, device='cuda:0', grad_fn=<NllLossBackward0>)|\n",
       "|  0   | 100/125 | tensor(5.3036, device='cuda:0', grad_fn=<NllLossBackward0>)|\n",
       "|  0   | 110/125 | tensor(5.3769, device='cuda:0', grad_fn=<NllLossBackward0>)|\n",
       "|  0   | 120/125 | tensor(5.3473, device='cuda:0', grad_fn=<NllLossBackward0>)|\n",
       "|  1   |  0/125  | tensor(5.7035, device='cuda:0', grad_fn=<NllLossBackward0>)|\n",
       "|  1   | 10/125  | tensor(5.5592, device='cuda:0', grad_fn=<NllLossBackward0>)|\n",
       "|  1   | 20/125  | tensor(5.6873, device='cuda:0', grad_fn=<NllLossBackward0>)|\n",
       "|  1   | 30/125  | tensor(5.6297, device='cuda:0', grad_fn=<NllLossBackward0>)|\n",
       "|  1   | 40/125  | tensor(5.6179, device='cuda:0', grad_fn=<NllLossBackward0>)|\n",
       "|  1   | 50/125  | tensor(5.3450, device='cuda:0', grad_fn=<NllLossBackward0>)|\n",
       "|  1   | 60/125  | tensor(5.2201, device='cuda:0', grad_fn=<NllLossBackward0>)|\n",
       "|  1   | 70/125  | tensor(5.5509, device='cuda:0', grad_fn=<NllLossBackward0>)|\n",
       "|  1   | 80/125  | tensor(5.6929, device='cuda:0', grad_fn=<NllLossBackward0>)|\n",
       "|  1   | 90/125  | tensor(5.4524, device='cuda:0', grad_fn=<NllLossBackward0>)|\n",
       "|  1   | 100/125 | tensor(5.1404, device='cuda:0', grad_fn=<NllLossBackward0>)|\n",
       "|  1   | 110/125 | tensor(5.5899, device='cuda:0', grad_fn=<NllLossBackward0>)|\n",
       "|  1   | 120/125 | tensor(4.8967, device='cuda:0', grad_fn=<NllLossBackward0>)|\n",
       "|  2   |  0/125  | tensor(5.2942, device='cuda:0', grad_fn=<NllLossBackward0>)|\n",
       "|  2   | 10/125  | tensor(5.2110, device='cuda:0', grad_fn=<NllLossBackward0>)|\n",
       "|  2   | 20/125  | tensor(5.1159, device='cuda:0', grad_fn=<NllLossBackward0>)|\n",
       "|  2   | 30/125  | tensor(5.2183, device='cuda:0', grad_fn=<NllLossBackward0>)|\n",
       "|  2   | 40/125  | tensor(5.0357, device='cuda:0', grad_fn=<NllLossBackward0>)|\n",
       "|  2   | 50/125  | tensor(5.1824, device='cuda:0', grad_fn=<NllLossBackward0>)|\n",
       "|  2   | 60/125  | tensor(5.2067, device='cuda:0', grad_fn=<NllLossBackward0>)|\n",
       "|  2   | 70/125  | tensor(5.1950, device='cuda:0', grad_fn=<NllLossBackward0>)|\n",
       "|  2   | 80/125  | tensor(5.3242, device='cuda:0', grad_fn=<NllLossBackward0>)|\n",
       "|  2   | 90/125  | tensor(5.0791, device='cuda:0', grad_fn=<NllLossBackward0>)|\n",
       "|  2   | 100/125 | tensor(4.8463, device='cuda:0', grad_fn=<NllLossBackward0>)|\n",
       "+-----------------------------------------------------------------------------+\n"
      ]
     },
     "metadata": {},
     "output_type": "display_data"
    },
    {
     "name": "stdout",
     "output_type": "stream",
     "text": [
      "STEP:  110 / 125\n"
     ]
    },
    {
     "data": {
      "text/html": [
       "<pre style=\"white-space:pre;overflow-x:auto;line-height:normal;font-family:Menlo,'DejaVu Sans Mono',consolas,'Courier New',monospace\"><span style=\"font-style: italic\">                                Training Status                                </span>\n",
       "+-----------------------------------------------------------------------------+\n",
       "|<span style=\"font-weight: bold\">Epoch </span>|<span style=\"font-weight: bold\">  Steps  </span>|<span style=\"font-weight: bold\">                            Loss                            </span>|\n",
       "|------+---------+------------------------------------------------------------|\n",
       "|  0   |  0/125  | tensor(6.2194, device='cuda:0', grad_fn=&lt;NllLossBackward0&gt;)|\n",
       "|  0   | 10/125  | tensor(5.9434, device='cuda:0', grad_fn=&lt;NllLossBackward0&gt;)|\n",
       "|  0   | 20/125  | tensor(6.3498, device='cuda:0', grad_fn=&lt;NllLossBackward0&gt;)|\n",
       "|  0   | 30/125  | tensor(6.2160, device='cuda:0', grad_fn=&lt;NllLossBackward0&gt;)|\n",
       "|  0   | 40/125  | tensor(6.1416, device='cuda:0', grad_fn=&lt;NllLossBackward0&gt;)|\n",
       "|  0   | 50/125  | tensor(5.5193, device='cuda:0', grad_fn=&lt;NllLossBackward0&gt;)|\n",
       "|  0   | 60/125  | tensor(5.8637, device='cuda:0', grad_fn=&lt;NllLossBackward0&gt;)|\n",
       "|  0   | 70/125  | tensor(6.2125, device='cuda:0', grad_fn=&lt;NllLossBackward0&gt;)|\n",
       "|  0   | 80/125  | tensor(5.9123, device='cuda:0', grad_fn=&lt;NllLossBackward0&gt;)|\n",
       "|  0   | 90/125  | tensor(5.6646, device='cuda:0', grad_fn=&lt;NllLossBackward0&gt;)|\n",
       "|  0   | 100/125 | tensor(5.3036, device='cuda:0', grad_fn=&lt;NllLossBackward0&gt;)|\n",
       "|  0   | 110/125 | tensor(5.3769, device='cuda:0', grad_fn=&lt;NllLossBackward0&gt;)|\n",
       "|  0   | 120/125 | tensor(5.3473, device='cuda:0', grad_fn=&lt;NllLossBackward0&gt;)|\n",
       "|  1   |  0/125  | tensor(5.7035, device='cuda:0', grad_fn=&lt;NllLossBackward0&gt;)|\n",
       "|  1   | 10/125  | tensor(5.5592, device='cuda:0', grad_fn=&lt;NllLossBackward0&gt;)|\n",
       "|  1   | 20/125  | tensor(5.6873, device='cuda:0', grad_fn=&lt;NllLossBackward0&gt;)|\n",
       "|  1   | 30/125  | tensor(5.6297, device='cuda:0', grad_fn=&lt;NllLossBackward0&gt;)|\n",
       "|  1   | 40/125  | tensor(5.6179, device='cuda:0', grad_fn=&lt;NllLossBackward0&gt;)|\n",
       "|  1   | 50/125  | tensor(5.3450, device='cuda:0', grad_fn=&lt;NllLossBackward0&gt;)|\n",
       "|  1   | 60/125  | tensor(5.2201, device='cuda:0', grad_fn=&lt;NllLossBackward0&gt;)|\n",
       "|  1   | 70/125  | tensor(5.5509, device='cuda:0', grad_fn=&lt;NllLossBackward0&gt;)|\n",
       "|  1   | 80/125  | tensor(5.6929, device='cuda:0', grad_fn=&lt;NllLossBackward0&gt;)|\n",
       "|  1   | 90/125  | tensor(5.4524, device='cuda:0', grad_fn=&lt;NllLossBackward0&gt;)|\n",
       "|  1   | 100/125 | tensor(5.1404, device='cuda:0', grad_fn=&lt;NllLossBackward0&gt;)|\n",
       "|  1   | 110/125 | tensor(5.5899, device='cuda:0', grad_fn=&lt;NllLossBackward0&gt;)|\n",
       "|  1   | 120/125 | tensor(4.8967, device='cuda:0', grad_fn=&lt;NllLossBackward0&gt;)|\n",
       "|  2   |  0/125  | tensor(5.2942, device='cuda:0', grad_fn=&lt;NllLossBackward0&gt;)|\n",
       "|  2   | 10/125  | tensor(5.2110, device='cuda:0', grad_fn=&lt;NllLossBackward0&gt;)|\n",
       "|  2   | 20/125  | tensor(5.1159, device='cuda:0', grad_fn=&lt;NllLossBackward0&gt;)|\n",
       "|  2   | 30/125  | tensor(5.2183, device='cuda:0', grad_fn=&lt;NllLossBackward0&gt;)|\n",
       "|  2   | 40/125  | tensor(5.0357, device='cuda:0', grad_fn=&lt;NllLossBackward0&gt;)|\n",
       "|  2   | 50/125  | tensor(5.1824, device='cuda:0', grad_fn=&lt;NllLossBackward0&gt;)|\n",
       "|  2   | 60/125  | tensor(5.2067, device='cuda:0', grad_fn=&lt;NllLossBackward0&gt;)|\n",
       "|  2   | 70/125  | tensor(5.1950, device='cuda:0', grad_fn=&lt;NllLossBackward0&gt;)|\n",
       "|  2   | 80/125  | tensor(5.3242, device='cuda:0', grad_fn=&lt;NllLossBackward0&gt;)|\n",
       "|  2   | 90/125  | tensor(5.0791, device='cuda:0', grad_fn=&lt;NllLossBackward0&gt;)|\n",
       "|  2   | 100/125 | tensor(4.8463, device='cuda:0', grad_fn=&lt;NllLossBackward0&gt;)|\n",
       "|  2   | 110/125 | tensor(5.2361, device='cuda:0', grad_fn=&lt;NllLossBackward0&gt;)|\n",
       "+-----------------------------------------------------------------------------+\n",
       "</pre>\n"
      ],
      "text/plain": [
       "\u001b[3m                                Training Status                                \u001b[0m\n",
       "+-----------------------------------------------------------------------------+\n",
       "|\u001b[1mEpoch\u001b[0m\u001b[1m \u001b[0m|\u001b[1m \u001b[0m\u001b[1m Steps \u001b[0m\u001b[1m \u001b[0m|\u001b[1m \u001b[0m\u001b[1m                           Loss                            \u001b[0m|\n",
       "|------+---------+------------------------------------------------------------|\n",
       "|  0   |  0/125  | tensor(6.2194, device='cuda:0', grad_fn=<NllLossBackward0>)|\n",
       "|  0   | 10/125  | tensor(5.9434, device='cuda:0', grad_fn=<NllLossBackward0>)|\n",
       "|  0   | 20/125  | tensor(6.3498, device='cuda:0', grad_fn=<NllLossBackward0>)|\n",
       "|  0   | 30/125  | tensor(6.2160, device='cuda:0', grad_fn=<NllLossBackward0>)|\n",
       "|  0   | 40/125  | tensor(6.1416, device='cuda:0', grad_fn=<NllLossBackward0>)|\n",
       "|  0   | 50/125  | tensor(5.5193, device='cuda:0', grad_fn=<NllLossBackward0>)|\n",
       "|  0   | 60/125  | tensor(5.8637, device='cuda:0', grad_fn=<NllLossBackward0>)|\n",
       "|  0   | 70/125  | tensor(6.2125, device='cuda:0', grad_fn=<NllLossBackward0>)|\n",
       "|  0   | 80/125  | tensor(5.9123, device='cuda:0', grad_fn=<NllLossBackward0>)|\n",
       "|  0   | 90/125  | tensor(5.6646, device='cuda:0', grad_fn=<NllLossBackward0>)|\n",
       "|  0   | 100/125 | tensor(5.3036, device='cuda:0', grad_fn=<NllLossBackward0>)|\n",
       "|  0   | 110/125 | tensor(5.3769, device='cuda:0', grad_fn=<NllLossBackward0>)|\n",
       "|  0   | 120/125 | tensor(5.3473, device='cuda:0', grad_fn=<NllLossBackward0>)|\n",
       "|  1   |  0/125  | tensor(5.7035, device='cuda:0', grad_fn=<NllLossBackward0>)|\n",
       "|  1   | 10/125  | tensor(5.5592, device='cuda:0', grad_fn=<NllLossBackward0>)|\n",
       "|  1   | 20/125  | tensor(5.6873, device='cuda:0', grad_fn=<NllLossBackward0>)|\n",
       "|  1   | 30/125  | tensor(5.6297, device='cuda:0', grad_fn=<NllLossBackward0>)|\n",
       "|  1   | 40/125  | tensor(5.6179, device='cuda:0', grad_fn=<NllLossBackward0>)|\n",
       "|  1   | 50/125  | tensor(5.3450, device='cuda:0', grad_fn=<NllLossBackward0>)|\n",
       "|  1   | 60/125  | tensor(5.2201, device='cuda:0', grad_fn=<NllLossBackward0>)|\n",
       "|  1   | 70/125  | tensor(5.5509, device='cuda:0', grad_fn=<NllLossBackward0>)|\n",
       "|  1   | 80/125  | tensor(5.6929, device='cuda:0', grad_fn=<NllLossBackward0>)|\n",
       "|  1   | 90/125  | tensor(5.4524, device='cuda:0', grad_fn=<NllLossBackward0>)|\n",
       "|  1   | 100/125 | tensor(5.1404, device='cuda:0', grad_fn=<NllLossBackward0>)|\n",
       "|  1   | 110/125 | tensor(5.5899, device='cuda:0', grad_fn=<NllLossBackward0>)|\n",
       "|  1   | 120/125 | tensor(4.8967, device='cuda:0', grad_fn=<NllLossBackward0>)|\n",
       "|  2   |  0/125  | tensor(5.2942, device='cuda:0', grad_fn=<NllLossBackward0>)|\n",
       "|  2   | 10/125  | tensor(5.2110, device='cuda:0', grad_fn=<NllLossBackward0>)|\n",
       "|  2   | 20/125  | tensor(5.1159, device='cuda:0', grad_fn=<NllLossBackward0>)|\n",
       "|  2   | 30/125  | tensor(5.2183, device='cuda:0', grad_fn=<NllLossBackward0>)|\n",
       "|  2   | 40/125  | tensor(5.0357, device='cuda:0', grad_fn=<NllLossBackward0>)|\n",
       "|  2   | 50/125  | tensor(5.1824, device='cuda:0', grad_fn=<NllLossBackward0>)|\n",
       "|  2   | 60/125  | tensor(5.2067, device='cuda:0', grad_fn=<NllLossBackward0>)|\n",
       "|  2   | 70/125  | tensor(5.1950, device='cuda:0', grad_fn=<NllLossBackward0>)|\n",
       "|  2   | 80/125  | tensor(5.3242, device='cuda:0', grad_fn=<NllLossBackward0>)|\n",
       "|  2   | 90/125  | tensor(5.0791, device='cuda:0', grad_fn=<NllLossBackward0>)|\n",
       "|  2   | 100/125 | tensor(4.8463, device='cuda:0', grad_fn=<NllLossBackward0>)|\n",
       "|  2   | 110/125 | tensor(5.2361, device='cuda:0', grad_fn=<NllLossBackward0>)|\n",
       "+-----------------------------------------------------------------------------+\n"
      ]
     },
     "metadata": {},
     "output_type": "display_data"
    },
    {
     "name": "stdout",
     "output_type": "stream",
     "text": [
      "STEP:  120 / 125\n"
     ]
    },
    {
     "data": {
      "text/html": [
       "<pre style=\"white-space:pre;overflow-x:auto;line-height:normal;font-family:Menlo,'DejaVu Sans Mono',consolas,'Courier New',monospace\"><span style=\"font-style: italic\">                                Training Status                                </span>\n",
       "+-----------------------------------------------------------------------------+\n",
       "|<span style=\"font-weight: bold\">Epoch </span>|<span style=\"font-weight: bold\">  Steps  </span>|<span style=\"font-weight: bold\">                            Loss                            </span>|\n",
       "|------+---------+------------------------------------------------------------|\n",
       "|  0   |  0/125  | tensor(6.2194, device='cuda:0', grad_fn=&lt;NllLossBackward0&gt;)|\n",
       "|  0   | 10/125  | tensor(5.9434, device='cuda:0', grad_fn=&lt;NllLossBackward0&gt;)|\n",
       "|  0   | 20/125  | tensor(6.3498, device='cuda:0', grad_fn=&lt;NllLossBackward0&gt;)|\n",
       "|  0   | 30/125  | tensor(6.2160, device='cuda:0', grad_fn=&lt;NllLossBackward0&gt;)|\n",
       "|  0   | 40/125  | tensor(6.1416, device='cuda:0', grad_fn=&lt;NllLossBackward0&gt;)|\n",
       "|  0   | 50/125  | tensor(5.5193, device='cuda:0', grad_fn=&lt;NllLossBackward0&gt;)|\n",
       "|  0   | 60/125  | tensor(5.8637, device='cuda:0', grad_fn=&lt;NllLossBackward0&gt;)|\n",
       "|  0   | 70/125  | tensor(6.2125, device='cuda:0', grad_fn=&lt;NllLossBackward0&gt;)|\n",
       "|  0   | 80/125  | tensor(5.9123, device='cuda:0', grad_fn=&lt;NllLossBackward0&gt;)|\n",
       "|  0   | 90/125  | tensor(5.6646, device='cuda:0', grad_fn=&lt;NllLossBackward0&gt;)|\n",
       "|  0   | 100/125 | tensor(5.3036, device='cuda:0', grad_fn=&lt;NllLossBackward0&gt;)|\n",
       "|  0   | 110/125 | tensor(5.3769, device='cuda:0', grad_fn=&lt;NllLossBackward0&gt;)|\n",
       "|  0   | 120/125 | tensor(5.3473, device='cuda:0', grad_fn=&lt;NllLossBackward0&gt;)|\n",
       "|  1   |  0/125  | tensor(5.7035, device='cuda:0', grad_fn=&lt;NllLossBackward0&gt;)|\n",
       "|  1   | 10/125  | tensor(5.5592, device='cuda:0', grad_fn=&lt;NllLossBackward0&gt;)|\n",
       "|  1   | 20/125  | tensor(5.6873, device='cuda:0', grad_fn=&lt;NllLossBackward0&gt;)|\n",
       "|  1   | 30/125  | tensor(5.6297, device='cuda:0', grad_fn=&lt;NllLossBackward0&gt;)|\n",
       "|  1   | 40/125  | tensor(5.6179, device='cuda:0', grad_fn=&lt;NllLossBackward0&gt;)|\n",
       "|  1   | 50/125  | tensor(5.3450, device='cuda:0', grad_fn=&lt;NllLossBackward0&gt;)|\n",
       "|  1   | 60/125  | tensor(5.2201, device='cuda:0', grad_fn=&lt;NllLossBackward0&gt;)|\n",
       "|  1   | 70/125  | tensor(5.5509, device='cuda:0', grad_fn=&lt;NllLossBackward0&gt;)|\n",
       "|  1   | 80/125  | tensor(5.6929, device='cuda:0', grad_fn=&lt;NllLossBackward0&gt;)|\n",
       "|  1   | 90/125  | tensor(5.4524, device='cuda:0', grad_fn=&lt;NllLossBackward0&gt;)|\n",
       "|  1   | 100/125 | tensor(5.1404, device='cuda:0', grad_fn=&lt;NllLossBackward0&gt;)|\n",
       "|  1   | 110/125 | tensor(5.5899, device='cuda:0', grad_fn=&lt;NllLossBackward0&gt;)|\n",
       "|  1   | 120/125 | tensor(4.8967, device='cuda:0', grad_fn=&lt;NllLossBackward0&gt;)|\n",
       "|  2   |  0/125  | tensor(5.2942, device='cuda:0', grad_fn=&lt;NllLossBackward0&gt;)|\n",
       "|  2   | 10/125  | tensor(5.2110, device='cuda:0', grad_fn=&lt;NllLossBackward0&gt;)|\n",
       "|  2   | 20/125  | tensor(5.1159, device='cuda:0', grad_fn=&lt;NllLossBackward0&gt;)|\n",
       "|  2   | 30/125  | tensor(5.2183, device='cuda:0', grad_fn=&lt;NllLossBackward0&gt;)|\n",
       "|  2   | 40/125  | tensor(5.0357, device='cuda:0', grad_fn=&lt;NllLossBackward0&gt;)|\n",
       "|  2   | 50/125  | tensor(5.1824, device='cuda:0', grad_fn=&lt;NllLossBackward0&gt;)|\n",
       "|  2   | 60/125  | tensor(5.2067, device='cuda:0', grad_fn=&lt;NllLossBackward0&gt;)|\n",
       "|  2   | 70/125  | tensor(5.1950, device='cuda:0', grad_fn=&lt;NllLossBackward0&gt;)|\n",
       "|  2   | 80/125  | tensor(5.3242, device='cuda:0', grad_fn=&lt;NllLossBackward0&gt;)|\n",
       "|  2   | 90/125  | tensor(5.0791, device='cuda:0', grad_fn=&lt;NllLossBackward0&gt;)|\n",
       "|  2   | 100/125 | tensor(4.8463, device='cuda:0', grad_fn=&lt;NllLossBackward0&gt;)|\n",
       "|  2   | 110/125 | tensor(5.2361, device='cuda:0', grad_fn=&lt;NllLossBackward0&gt;)|\n",
       "|  2   | 120/125 | tensor(4.9442, device='cuda:0', grad_fn=&lt;NllLossBackward0&gt;)|\n",
       "+-----------------------------------------------------------------------------+\n",
       "</pre>\n"
      ],
      "text/plain": [
       "\u001b[3m                                Training Status                                \u001b[0m\n",
       "+-----------------------------------------------------------------------------+\n",
       "|\u001b[1mEpoch\u001b[0m\u001b[1m \u001b[0m|\u001b[1m \u001b[0m\u001b[1m Steps \u001b[0m\u001b[1m \u001b[0m|\u001b[1m \u001b[0m\u001b[1m                           Loss                            \u001b[0m|\n",
       "|------+---------+------------------------------------------------------------|\n",
       "|  0   |  0/125  | tensor(6.2194, device='cuda:0', grad_fn=<NllLossBackward0>)|\n",
       "|  0   | 10/125  | tensor(5.9434, device='cuda:0', grad_fn=<NllLossBackward0>)|\n",
       "|  0   | 20/125  | tensor(6.3498, device='cuda:0', grad_fn=<NllLossBackward0>)|\n",
       "|  0   | 30/125  | tensor(6.2160, device='cuda:0', grad_fn=<NllLossBackward0>)|\n",
       "|  0   | 40/125  | tensor(6.1416, device='cuda:0', grad_fn=<NllLossBackward0>)|\n",
       "|  0   | 50/125  | tensor(5.5193, device='cuda:0', grad_fn=<NllLossBackward0>)|\n",
       "|  0   | 60/125  | tensor(5.8637, device='cuda:0', grad_fn=<NllLossBackward0>)|\n",
       "|  0   | 70/125  | tensor(6.2125, device='cuda:0', grad_fn=<NllLossBackward0>)|\n",
       "|  0   | 80/125  | tensor(5.9123, device='cuda:0', grad_fn=<NllLossBackward0>)|\n",
       "|  0   | 90/125  | tensor(5.6646, device='cuda:0', grad_fn=<NllLossBackward0>)|\n",
       "|  0   | 100/125 | tensor(5.3036, device='cuda:0', grad_fn=<NllLossBackward0>)|\n",
       "|  0   | 110/125 | tensor(5.3769, device='cuda:0', grad_fn=<NllLossBackward0>)|\n",
       "|  0   | 120/125 | tensor(5.3473, device='cuda:0', grad_fn=<NllLossBackward0>)|\n",
       "|  1   |  0/125  | tensor(5.7035, device='cuda:0', grad_fn=<NllLossBackward0>)|\n",
       "|  1   | 10/125  | tensor(5.5592, device='cuda:0', grad_fn=<NllLossBackward0>)|\n",
       "|  1   | 20/125  | tensor(5.6873, device='cuda:0', grad_fn=<NllLossBackward0>)|\n",
       "|  1   | 30/125  | tensor(5.6297, device='cuda:0', grad_fn=<NllLossBackward0>)|\n",
       "|  1   | 40/125  | tensor(5.6179, device='cuda:0', grad_fn=<NllLossBackward0>)|\n",
       "|  1   | 50/125  | tensor(5.3450, device='cuda:0', grad_fn=<NllLossBackward0>)|\n",
       "|  1   | 60/125  | tensor(5.2201, device='cuda:0', grad_fn=<NllLossBackward0>)|\n",
       "|  1   | 70/125  | tensor(5.5509, device='cuda:0', grad_fn=<NllLossBackward0>)|\n",
       "|  1   | 80/125  | tensor(5.6929, device='cuda:0', grad_fn=<NllLossBackward0>)|\n",
       "|  1   | 90/125  | tensor(5.4524, device='cuda:0', grad_fn=<NllLossBackward0>)|\n",
       "|  1   | 100/125 | tensor(5.1404, device='cuda:0', grad_fn=<NllLossBackward0>)|\n",
       "|  1   | 110/125 | tensor(5.5899, device='cuda:0', grad_fn=<NllLossBackward0>)|\n",
       "|  1   | 120/125 | tensor(4.8967, device='cuda:0', grad_fn=<NllLossBackward0>)|\n",
       "|  2   |  0/125  | tensor(5.2942, device='cuda:0', grad_fn=<NllLossBackward0>)|\n",
       "|  2   | 10/125  | tensor(5.2110, device='cuda:0', grad_fn=<NllLossBackward0>)|\n",
       "|  2   | 20/125  | tensor(5.1159, device='cuda:0', grad_fn=<NllLossBackward0>)|\n",
       "|  2   | 30/125  | tensor(5.2183, device='cuda:0', grad_fn=<NllLossBackward0>)|\n",
       "|  2   | 40/125  | tensor(5.0357, device='cuda:0', grad_fn=<NllLossBackward0>)|\n",
       "|  2   | 50/125  | tensor(5.1824, device='cuda:0', grad_fn=<NllLossBackward0>)|\n",
       "|  2   | 60/125  | tensor(5.2067, device='cuda:0', grad_fn=<NllLossBackward0>)|\n",
       "|  2   | 70/125  | tensor(5.1950, device='cuda:0', grad_fn=<NllLossBackward0>)|\n",
       "|  2   | 80/125  | tensor(5.3242, device='cuda:0', grad_fn=<NllLossBackward0>)|\n",
       "|  2   | 90/125  | tensor(5.0791, device='cuda:0', grad_fn=<NllLossBackward0>)|\n",
       "|  2   | 100/125 | tensor(4.8463, device='cuda:0', grad_fn=<NllLossBackward0>)|\n",
       "|  2   | 110/125 | tensor(5.2361, device='cuda:0', grad_fn=<NllLossBackward0>)|\n",
       "|  2   | 120/125 | tensor(4.9442, device='cuda:0', grad_fn=<NllLossBackward0>)|\n",
       "+-----------------------------------------------------------------------------+\n"
      ]
     },
     "metadata": {},
     "output_type": "display_data"
    },
    {
     "data": {
      "text/html": [
       "<pre style=\"white-space:pre;overflow-x:auto;line-height:normal;font-family:Menlo,'DejaVu Sans Mono',consolas,'Courier New',monospace\">Completed <span style=\"color: #008080; text-decoration-color: #008080; font-weight: bold\">0</span>\n",
       "</pre>\n"
      ],
      "text/plain": [
       "Completed \u001b[1;36m0\u001b[0m\n"
      ]
     },
     "metadata": {},
     "output_type": "display_data"
    },
    {
     "data": {
      "text/html": [
       "<pre style=\"white-space:pre;overflow-x:auto;line-height:normal;font-family:Menlo,'DejaVu Sans Mono',consolas,'Courier New',monospace\">Completed <span style=\"color: #008080; text-decoration-color: #008080; font-weight: bold\">10</span>\n",
       "</pre>\n"
      ],
      "text/plain": [
       "Completed \u001b[1;36m10\u001b[0m\n"
      ]
     },
     "metadata": {},
     "output_type": "display_data"
    },
    {
     "data": {
      "text/html": [
       "<pre style=\"white-space:pre;overflow-x:auto;line-height:normal;font-family:Menlo,'DejaVu Sans Mono',consolas,'Courier New',monospace\">Completed <span style=\"color: #008080; text-decoration-color: #008080; font-weight: bold\">20</span>\n",
       "</pre>\n"
      ],
      "text/plain": [
       "Completed \u001b[1;36m20\u001b[0m\n"
      ]
     },
     "metadata": {},
     "output_type": "display_data"
    },
    {
     "data": {
      "text/html": [
       "<pre style=\"white-space:pre;overflow-x:auto;line-height:normal;font-family:Menlo,'DejaVu Sans Mono',consolas,'Courier New',monospace\">Completed <span style=\"color: #008080; text-decoration-color: #008080; font-weight: bold\">30</span>\n",
       "</pre>\n"
      ],
      "text/plain": [
       "Completed \u001b[1;36m30\u001b[0m\n"
      ]
     },
     "metadata": {},
     "output_type": "display_data"
    },
    {
     "data": {
      "text/html": [
       "<pre style=\"white-space:pre;overflow-x:auto;line-height:normal;font-family:Menlo,'DejaVu Sans Mono',consolas,'Courier New',monospace\">Completed <span style=\"color: #008080; text-decoration-color: #008080; font-weight: bold\">40</span>\n",
       "</pre>\n"
      ],
      "text/plain": [
       "Completed \u001b[1;36m40\u001b[0m\n"
      ]
     },
     "metadata": {},
     "output_type": "display_data"
    },
    {
     "data": {
      "text/html": [
       "<pre style=\"white-space:pre;overflow-x:auto;line-height:normal;font-family:Menlo,'DejaVu Sans Mono',consolas,'Courier New',monospace\">Completed <span style=\"color: #008080; text-decoration-color: #008080; font-weight: bold\">50</span>\n",
       "</pre>\n"
      ],
      "text/plain": [
       "Completed \u001b[1;36m50\u001b[0m\n"
      ]
     },
     "metadata": {},
     "output_type": "display_data"
    },
    {
     "data": {
      "text/html": [
       "<pre style=\"white-space:pre;overflow-x:auto;line-height:normal;font-family:Menlo,'DejaVu Sans Mono',consolas,'Courier New',monospace\">Completed <span style=\"color: #008080; text-decoration-color: #008080; font-weight: bold\">60</span>\n",
       "</pre>\n"
      ],
      "text/plain": [
       "Completed \u001b[1;36m60\u001b[0m\n"
      ]
     },
     "metadata": {},
     "output_type": "display_data"
    },
    {
     "data": {
      "text/html": [
       "<pre style=\"white-space:pre;overflow-x:auto;line-height:normal;font-family:Menlo,'DejaVu Sans Mono',consolas,'Courier New',monospace\">Completed <span style=\"color: #008080; text-decoration-color: #008080; font-weight: bold\">70</span>\n",
       "</pre>\n"
      ],
      "text/plain": [
       "Completed \u001b[1;36m70\u001b[0m\n"
      ]
     },
     "metadata": {},
     "output_type": "display_data"
    },
    {
     "data": {
      "text/html": [
       "<pre style=\"white-space:pre;overflow-x:auto;line-height:normal;font-family:Menlo,'DejaVu Sans Mono',consolas,'Courier New',monospace\">Completed <span style=\"color: #008080; text-decoration-color: #008080; font-weight: bold\">80</span>\n",
       "</pre>\n"
      ],
      "text/plain": [
       "Completed \u001b[1;36m80\u001b[0m\n"
      ]
     },
     "metadata": {},
     "output_type": "display_data"
    },
    {
     "data": {
      "text/html": [
       "<pre style=\"white-space:pre;overflow-x:auto;line-height:normal;font-family:Menlo,'DejaVu Sans Mono',consolas,'Courier New',monospace\">Completed <span style=\"color: #008080; text-decoration-color: #008080; font-weight: bold\">90</span>\n",
       "</pre>\n"
      ],
      "text/plain": [
       "Completed \u001b[1;36m90\u001b[0m\n"
      ]
     },
     "metadata": {},
     "output_type": "display_data"
    },
    {
     "data": {
      "text/html": [
       "<pre style=\"white-space:pre;overflow-x:auto;line-height:normal;font-family:Menlo,'DejaVu Sans Mono',consolas,'Courier New',monospace\">Completed <span style=\"color: #008080; text-decoration-color: #008080; font-weight: bold\">100</span>\n",
       "</pre>\n"
      ],
      "text/plain": [
       "Completed \u001b[1;36m100\u001b[0m\n"
      ]
     },
     "metadata": {},
     "output_type": "display_data"
    },
    {
     "data": {
      "text/html": [
       "<pre style=\"white-space:pre;overflow-x:auto;line-height:normal;font-family:Menlo,'DejaVu Sans Mono',consolas,'Courier New',monospace\">Completed <span style=\"color: #008080; text-decoration-color: #008080; font-weight: bold\">110</span>\n",
       "</pre>\n"
      ],
      "text/plain": [
       "Completed \u001b[1;36m110\u001b[0m\n"
      ]
     },
     "metadata": {},
     "output_type": "display_data"
    },
    {
     "data": {
      "text/html": [
       "<pre style=\"white-space:pre;overflow-x:auto;line-height:normal;font-family:Menlo,'DejaVu Sans Mono',consolas,'Courier New',monospace\">Completed <span style=\"color: #008080; text-decoration-color: #008080; font-weight: bold\">120</span>\n",
       "</pre>\n"
      ],
      "text/plain": [
       "Completed \u001b[1;36m120\u001b[0m\n"
      ]
     },
     "metadata": {},
     "output_type": "display_data"
    },
    {
     "name": "stdout",
     "output_type": "stream",
     "text": [
      "SAVE TO CSV FINISHED\n",
      "SAVE ROUGE TO CSV FINISHED\n"
     ]
    },
    {
     "data": {
      "text/html": [
       "<pre style=\"white-space:pre;overflow-x:auto;line-height:normal;font-family:Menlo,'DejaVu Sans Mono',consolas,'Courier New',monospace\"><span style=\"color: #7fbfbf; text-decoration-color: #7fbfbf\">[19:01:04] </span><span style=\"font-weight: bold\">[</span>Saving Model<span style=\"font-weight: bold\">]</span><span style=\"color: #808000; text-decoration-color: #808000\">...</span>                      <a href=\"file://C:\\Users\\Public\\Documents\\Wondershare\\CreatorTemp\\ipykernel_3020\\922985184.py\"><span style=\"color: #7f7f7f; text-decoration-color: #7f7f7f\">CreatorTemp/ipykernel_3020/922985184.py</span></a><span style=\"color: #7f7f7f; text-decoration-color: #7f7f7f\">:</span><a href=\"file://C:\\Users\\Public\\Documents\\Wondershare\\CreatorTemp\\ipykernel_3020\\922985184.py#126\"><span style=\"color: #7f7f7f; text-decoration-color: #7f7f7f\">126</span></a>\n",
       "<span style=\"color: #7fbfbf; text-decoration-color: #7fbfbf\">           </span>                                       <span style=\"color: #7f7f7f; text-decoration-color: #7f7f7f\">                                           </span>\n",
       "</pre>\n"
      ],
      "text/plain": [
       "\u001b[2;36m[19:01:04]\u001b[0m\u001b[2;36m \u001b[0m\u001b[1m[\u001b[0mSaving Model\u001b[1m]\u001b[0m\u001b[33m...\u001b[0m                      \u001b]8;id=796988;file://C:\\Users\\Public\\Documents\\Wondershare\\CreatorTemp\\ipykernel_3020\\922985184.py\u001b\\\u001b[2mCreatorTemp/ipykernel_3020/922985184.py\u001b[0m\u001b]8;;\u001b\\\u001b[2m:\u001b[0m\u001b]8;id=551305;file://C:\\Users\\Public\\Documents\\Wondershare\\CreatorTemp\\ipykernel_3020\\922985184.py#126\u001b\\\u001b[2m126\u001b[0m\u001b]8;;\u001b\\\n",
       "\u001b[2;36m           \u001b[0m                                       \u001b[2m                                           \u001b[0m\n"
      ]
     },
     "metadata": {},
     "output_type": "display_data"
    },
    {
     "data": {
      "text/html": [
       "<pre style=\"white-space:pre;overflow-x:auto;line-height:normal;font-family:Menlo,'DejaVu Sans Mono',consolas,'Courier New',monospace\"><span style=\"color: #7fbfbf; text-decoration-color: #7fbfbf\">[19:01:06] </span><span style=\"font-weight: bold\">[</span>Validation Completed.<span style=\"font-weight: bold\">]</span>                <a href=\"file://C:\\Users\\Public\\Documents\\Wondershare\\CreatorTemp\\ipykernel_3020\\922985184.py\"><span style=\"color: #7f7f7f; text-decoration-color: #7f7f7f\">CreatorTemp/ipykernel_3020/922985184.py</span></a><span style=\"color: #7f7f7f; text-decoration-color: #7f7f7f\">:</span><a href=\"file://C:\\Users\\Public\\Documents\\Wondershare\\CreatorTemp\\ipykernel_3020\\922985184.py#138\"><span style=\"color: #7f7f7f; text-decoration-color: #7f7f7f\">138</span></a>\n",
       "<span style=\"color: #7fbfbf; text-decoration-color: #7fbfbf\">           </span>                                       <span style=\"color: #7f7f7f; text-decoration-color: #7f7f7f\">                                           </span>\n",
       "</pre>\n"
      ],
      "text/plain": [
       "\u001b[2;36m[19:01:06]\u001b[0m\u001b[2;36m \u001b[0m\u001b[1m[\u001b[0mValidation Completed.\u001b[1m]\u001b[0m                \u001b]8;id=666860;file://C:\\Users\\Public\\Documents\\Wondershare\\CreatorTemp\\ipykernel_3020\\922985184.py\u001b\\\u001b[2mCreatorTemp/ipykernel_3020/922985184.py\u001b[0m\u001b]8;;\u001b\\\u001b[2m:\u001b[0m\u001b]8;id=574056;file://C:\\Users\\Public\\Documents\\Wondershare\\CreatorTemp\\ipykernel_3020\\922985184.py#138\u001b\\\u001b[2m138\u001b[0m\u001b]8;;\u001b\\\n",
       "\u001b[2;36m           \u001b[0m                                       \u001b[2m                                           \u001b[0m\n"
      ]
     },
     "metadata": {},
     "output_type": "display_data"
    },
    {
     "data": {
      "text/html": [
       "<pre style=\"white-space:pre;overflow-x:auto;line-height:normal;font-family:Menlo,'DejaVu Sans Mono',consolas,'Courier New',monospace\"><span style=\"font-weight: bold\">[</span>Model<span style=\"font-weight: bold\">]</span> Model saved @ C:\\Program Files <span style=\"font-weight: bold\">(</span>x86<span style=\"font-weight: bold\">)</span>\\Projects - \n",
       "Ongoing\\AIT\\NLP\\Project\\nlp-ablation-t5\\experiments\\outputs_with_truncation\\model_files\n",
       "\n",
       "</pre>\n"
      ],
      "text/plain": [
       "\u001b[1m[\u001b[0mModel\u001b[1m]\u001b[0m Model saved @ C:\\Program Files \u001b[1m(\u001b[0mx86\u001b[1m)\u001b[0m\\Projects - \n",
       "Ongoing\\AIT\\NLP\\Project\\nlp-ablation-t5\\experiments\\outputs_with_truncation\\model_files\n",
       "\n"
      ]
     },
     "metadata": {},
     "output_type": "display_data"
    },
    {
     "data": {
      "text/html": [
       "<pre style=\"white-space:pre;overflow-x:auto;line-height:normal;font-family:Menlo,'DejaVu Sans Mono',consolas,'Courier New',monospace\"><span style=\"font-weight: bold\">[</span>Validation<span style=\"font-weight: bold\">]</span> Generation on Validation data saved @ C:\\Program Files <span style=\"font-weight: bold\">(</span>x86<span style=\"font-weight: bold\">)</span>\\Projects - \n",
       "Ongoing\\AIT\\NLP\\Project\\nlp-ablation-t5\\experiments\\outputs_with_truncation\\predictions.csv\n",
       "\n",
       "</pre>\n"
      ],
      "text/plain": [
       "\u001b[1m[\u001b[0mValidation\u001b[1m]\u001b[0m Generation on Validation data saved @ C:\\Program Files \u001b[1m(\u001b[0mx86\u001b[1m)\u001b[0m\\Projects - \n",
       "Ongoing\\AIT\\NLP\\Project\\nlp-ablation-t5\\experiments\\outputs_with_truncation\\predictions.csv\n",
       "\n"
      ]
     },
     "metadata": {},
     "output_type": "display_data"
    },
    {
     "data": {
      "text/html": [
       "<pre style=\"white-space:pre;overflow-x:auto;line-height:normal;font-family:Menlo,'DejaVu Sans Mono',consolas,'Courier New',monospace\"><span style=\"font-weight: bold\">[</span>Logs<span style=\"font-weight: bold\">]</span> Logs saved @ C:\\Program Files <span style=\"font-weight: bold\">(</span>x86<span style=\"font-weight: bold\">)</span>\\Projects - \n",
       "Ongoing\\AIT\\NLP\\Project\\nlp-ablation-t5\\experiments\\outputs_with_truncation\\logs.txt\n",
       "\n",
       "</pre>\n"
      ],
      "text/plain": [
       "\u001b[1m[\u001b[0mLogs\u001b[1m]\u001b[0m Logs saved @ C:\\Program Files \u001b[1m(\u001b[0mx86\u001b[1m)\u001b[0m\\Projects - \n",
       "Ongoing\\AIT\\NLP\\Project\\nlp-ablation-t5\\experiments\\outputs_with_truncation\\logs.txt\n",
       "\n"
      ]
     },
     "metadata": {},
     "output_type": "display_data"
    }
   ],
   "source": [
    "console = Console(record=True)\n",
    "\n",
    "training_logger = Table(\n",
    "    Column(\"Epoch\", justify=\"center\"),\n",
    "    Column(\"Steps\", justify=\"center\"),\n",
    "    Column(\"Loss\", justify=\"center\"),\n",
    "    title=\"Training Status\",\n",
    "    pad_edge=False,\n",
    "    box=box.ASCII,\n",
    ")\n",
    "\n",
    "Truncate_Trainer(\n",
    "    dataset=dataset,\n",
    "    source_text=source_text, \n",
    "    target_text=target_text,\n",
    "    model_params=model_params,\n",
    "    output_dir=os.getcwd() + '\\outputs_with_truncation\\\\',\n",
    "    device = device,\n",
    ")"
   ]
  },
  {
   "cell_type": "code",
   "execution_count": 25,
   "id": "2f4b7d39",
   "metadata": {},
   "outputs": [
    {
     "name": "stdout",
     "output_type": "stream",
     "text": [
      "\n",
      "====================== Results with truncation =======================\n"
     ]
    },
    {
     "data": {
      "text/html": [
       "<div>\n",
       "<style scoped>\n",
       "    .dataframe tbody tr th:only-of-type {\n",
       "        vertical-align: middle;\n",
       "    }\n",
       "\n",
       "    .dataframe tbody tr th {\n",
       "        vertical-align: top;\n",
       "    }\n",
       "\n",
       "    .dataframe thead th {\n",
       "        text-align: right;\n",
       "    }\n",
       "</style>\n",
       "<table border=\"1\" class=\"dataframe\">\n",
       "  <thead>\n",
       "    <tr style=\"text-align: right;\">\n",
       "      <th></th>\n",
       "      <th>Unnamed: 0</th>\n",
       "      <th>0</th>\n",
       "      <th>1</th>\n",
       "      <th>2</th>\n",
       "      <th>3</th>\n",
       "      <th>4</th>\n",
       "      <th>5</th>\n",
       "      <th>6</th>\n",
       "      <th>7</th>\n",
       "      <th>8</th>\n",
       "      <th>...</th>\n",
       "      <th>989</th>\n",
       "      <th>990</th>\n",
       "      <th>991</th>\n",
       "      <th>992</th>\n",
       "      <th>993</th>\n",
       "      <th>994</th>\n",
       "      <th>995</th>\n",
       "      <th>996</th>\n",
       "      <th>997</th>\n",
       "      <th>998</th>\n",
       "    </tr>\n",
       "  </thead>\n",
       "  <tbody>\n",
       "    <tr>\n",
       "      <th>0</th>\n",
       "      <td>precision</td>\n",
       "      <td>0.052632</td>\n",
       "      <td>0.166667</td>\n",
       "      <td>0.133333</td>\n",
       "      <td>0.045455</td>\n",
       "      <td>0.333333</td>\n",
       "      <td>0.120000</td>\n",
       "      <td>0.045455</td>\n",
       "      <td>0.037037</td>\n",
       "      <td>0.136364</td>\n",
       "      <td>...</td>\n",
       "      <td>0.105263</td>\n",
       "      <td>0.266667</td>\n",
       "      <td>0.105263</td>\n",
       "      <td>0.153846</td>\n",
       "      <td>0.137931</td>\n",
       "      <td>0.074074</td>\n",
       "      <td>0.291667</td>\n",
       "      <td>0.153846</td>\n",
       "      <td>0.040000</td>\n",
       "      <td>0.038462</td>\n",
       "    </tr>\n",
       "    <tr>\n",
       "      <th>1</th>\n",
       "      <td>recall</td>\n",
       "      <td>0.037037</td>\n",
       "      <td>0.075000</td>\n",
       "      <td>0.100000</td>\n",
       "      <td>0.041667</td>\n",
       "      <td>0.178571</td>\n",
       "      <td>0.142857</td>\n",
       "      <td>0.043478</td>\n",
       "      <td>0.033333</td>\n",
       "      <td>0.050847</td>\n",
       "      <td>...</td>\n",
       "      <td>0.071429</td>\n",
       "      <td>0.117647</td>\n",
       "      <td>0.064516</td>\n",
       "      <td>0.133333</td>\n",
       "      <td>0.088889</td>\n",
       "      <td>0.200000</td>\n",
       "      <td>0.155556</td>\n",
       "      <td>0.129032</td>\n",
       "      <td>0.025641</td>\n",
       "      <td>0.047619</td>\n",
       "    </tr>\n",
       "    <tr>\n",
       "      <th>2</th>\n",
       "      <td>fmeasure</td>\n",
       "      <td>0.043478</td>\n",
       "      <td>0.103448</td>\n",
       "      <td>0.114286</td>\n",
       "      <td>0.043478</td>\n",
       "      <td>0.232558</td>\n",
       "      <td>0.130435</td>\n",
       "      <td>0.044444</td>\n",
       "      <td>0.035088</td>\n",
       "      <td>0.074074</td>\n",
       "      <td>...</td>\n",
       "      <td>0.085106</td>\n",
       "      <td>0.163265</td>\n",
       "      <td>0.080000</td>\n",
       "      <td>0.142857</td>\n",
       "      <td>0.108108</td>\n",
       "      <td>0.108108</td>\n",
       "      <td>0.202899</td>\n",
       "      <td>0.140351</td>\n",
       "      <td>0.031250</td>\n",
       "      <td>0.042553</td>\n",
       "    </tr>\n",
       "  </tbody>\n",
       "</table>\n",
       "<p>3 rows × 1000 columns</p>\n",
       "</div>"
      ],
      "text/plain": [
       "  Unnamed: 0         0         1         2         3         4         5  \\\n",
       "0  precision  0.052632  0.166667  0.133333  0.045455  0.333333  0.120000   \n",
       "1     recall  0.037037  0.075000  0.100000  0.041667  0.178571  0.142857   \n",
       "2   fmeasure  0.043478  0.103448  0.114286  0.043478  0.232558  0.130435   \n",
       "\n",
       "          6         7         8  ...       989       990       991       992  \\\n",
       "0  0.045455  0.037037  0.136364  ...  0.105263  0.266667  0.105263  0.153846   \n",
       "1  0.043478  0.033333  0.050847  ...  0.071429  0.117647  0.064516  0.133333   \n",
       "2  0.044444  0.035088  0.074074  ...  0.085106  0.163265  0.080000  0.142857   \n",
       "\n",
       "        993       994       995       996       997       998  \n",
       "0  0.137931  0.074074  0.291667  0.153846  0.040000  0.038462  \n",
       "1  0.088889  0.200000  0.155556  0.129032  0.025641  0.047619  \n",
       "2  0.108108  0.108108  0.202899  0.140351  0.031250  0.042553  \n",
       "\n",
       "[3 rows x 1000 columns]"
      ]
     },
     "execution_count": 25,
     "metadata": {},
     "output_type": "execute_result"
    }
   ],
   "source": [
    "print(\"\\n====================== Results with truncation =======================\")\n",
    "\n",
    "import pandas as pd\n",
    "\n",
    "rouge_df_headtail = pd.read_csv('outputs_with_truncation/head+tail_rouge_t5-small_epoch2.csv')\n",
    "\n",
    "rouge_df_headtail\n"
   ]
  },
  {
   "cell_type": "code",
   "execution_count": 24,
   "id": "50fc7776",
   "metadata": {},
   "outputs": [
    {
     "name": "stdout",
     "output_type": "stream",
     "text": [
      "\n",
      "====================== Results without (baseline) =======================\n"
     ]
    },
    {
     "data": {
      "text/html": [
       "<div>\n",
       "<style scoped>\n",
       "    .dataframe tbody tr th:only-of-type {\n",
       "        vertical-align: middle;\n",
       "    }\n",
       "\n",
       "    .dataframe tbody tr th {\n",
       "        vertical-align: top;\n",
       "    }\n",
       "\n",
       "    .dataframe thead th {\n",
       "        text-align: right;\n",
       "    }\n",
       "</style>\n",
       "<table border=\"1\" class=\"dataframe\">\n",
       "  <thead>\n",
       "    <tr style=\"text-align: right;\">\n",
       "      <th></th>\n",
       "      <th>Unnamed: 0</th>\n",
       "      <th>0</th>\n",
       "      <th>1</th>\n",
       "      <th>2</th>\n",
       "      <th>3</th>\n",
       "      <th>4</th>\n",
       "      <th>5</th>\n",
       "      <th>6</th>\n",
       "      <th>7</th>\n",
       "      <th>8</th>\n",
       "      <th>...</th>\n",
       "      <th>989</th>\n",
       "      <th>990</th>\n",
       "      <th>991</th>\n",
       "      <th>992</th>\n",
       "      <th>993</th>\n",
       "      <th>994</th>\n",
       "      <th>995</th>\n",
       "      <th>996</th>\n",
       "      <th>997</th>\n",
       "      <th>998</th>\n",
       "    </tr>\n",
       "  </thead>\n",
       "  <tbody>\n",
       "    <tr>\n",
       "      <th>0</th>\n",
       "      <td>precision</td>\n",
       "      <td>0.052632</td>\n",
       "      <td>0.166667</td>\n",
       "      <td>0.133333</td>\n",
       "      <td>0.045455</td>\n",
       "      <td>0.333333</td>\n",
       "      <td>0.120000</td>\n",
       "      <td>0.045455</td>\n",
       "      <td>0.037037</td>\n",
       "      <td>0.136364</td>\n",
       "      <td>...</td>\n",
       "      <td>0.157895</td>\n",
       "      <td>0.200000</td>\n",
       "      <td>0.105263</td>\n",
       "      <td>0.153846</td>\n",
       "      <td>0.137931</td>\n",
       "      <td>0.074074</td>\n",
       "      <td>0.208333</td>\n",
       "      <td>0.115385</td>\n",
       "      <td>0.040000</td>\n",
       "      <td>0.038462</td>\n",
       "    </tr>\n",
       "    <tr>\n",
       "      <th>1</th>\n",
       "      <td>recall</td>\n",
       "      <td>0.035714</td>\n",
       "      <td>0.093750</td>\n",
       "      <td>0.100000</td>\n",
       "      <td>0.041667</td>\n",
       "      <td>0.178571</td>\n",
       "      <td>0.142857</td>\n",
       "      <td>0.033333</td>\n",
       "      <td>0.033333</td>\n",
       "      <td>0.053571</td>\n",
       "      <td>...</td>\n",
       "      <td>0.057692</td>\n",
       "      <td>0.111111</td>\n",
       "      <td>0.066667</td>\n",
       "      <td>0.190476</td>\n",
       "      <td>0.088889</td>\n",
       "      <td>0.200000</td>\n",
       "      <td>0.138889</td>\n",
       "      <td>0.100000</td>\n",
       "      <td>0.025641</td>\n",
       "      <td>0.047619</td>\n",
       "    </tr>\n",
       "    <tr>\n",
       "      <th>2</th>\n",
       "      <td>fmeasure</td>\n",
       "      <td>0.042553</td>\n",
       "      <td>0.120000</td>\n",
       "      <td>0.114286</td>\n",
       "      <td>0.043478</td>\n",
       "      <td>0.232558</td>\n",
       "      <td>0.130435</td>\n",
       "      <td>0.038462</td>\n",
       "      <td>0.035088</td>\n",
       "      <td>0.076923</td>\n",
       "      <td>...</td>\n",
       "      <td>0.084507</td>\n",
       "      <td>0.142857</td>\n",
       "      <td>0.081633</td>\n",
       "      <td>0.170213</td>\n",
       "      <td>0.108108</td>\n",
       "      <td>0.108108</td>\n",
       "      <td>0.166667</td>\n",
       "      <td>0.107143</td>\n",
       "      <td>0.031250</td>\n",
       "      <td>0.042553</td>\n",
       "    </tr>\n",
       "  </tbody>\n",
       "</table>\n",
       "<p>3 rows × 1000 columns</p>\n",
       "</div>"
      ],
      "text/plain": [
       "  Unnamed: 0         0         1         2         3         4         5  \\\n",
       "0  precision  0.052632  0.166667  0.133333  0.045455  0.333333  0.120000   \n",
       "1     recall  0.035714  0.093750  0.100000  0.041667  0.178571  0.142857   \n",
       "2   fmeasure  0.042553  0.120000  0.114286  0.043478  0.232558  0.130435   \n",
       "\n",
       "          6         7         8  ...       989       990       991       992  \\\n",
       "0  0.045455  0.037037  0.136364  ...  0.157895  0.200000  0.105263  0.153846   \n",
       "1  0.033333  0.033333  0.053571  ...  0.057692  0.111111  0.066667  0.190476   \n",
       "2  0.038462  0.035088  0.076923  ...  0.084507  0.142857  0.081633  0.170213   \n",
       "\n",
       "        993       994       995       996       997       998  \n",
       "0  0.137931  0.074074  0.208333  0.115385  0.040000  0.038462  \n",
       "1  0.088889  0.200000  0.138889  0.100000  0.025641  0.047619  \n",
       "2  0.108108  0.108108  0.166667  0.107143  0.031250  0.042553  \n",
       "\n",
       "[3 rows x 1000 columns]"
      ]
     },
     "execution_count": 24,
     "metadata": {},
     "output_type": "execute_result"
    }
   ],
   "source": [
    "print(\"\\n====================== Results without (baseline) =======================\")\n",
    "\n",
    "rouge_df"
   ]
  },
  {
   "cell_type": "markdown",
   "id": "a0a38486",
   "metadata": {},
   "source": [
    "<hr>"
   ]
  },
  {
   "cell_type": "markdown",
   "id": "30a36783",
   "metadata": {},
   "source": [
    "<a id=\"3\"></a>\n",
    "\n",
    "## Plotting losses"
   ]
  },
  {
   "cell_type": "code",
   "execution_count": 38,
   "id": "a5a3ee76",
   "metadata": {},
   "outputs": [
    {
     "data": {
      "image/png": "[encoded data removed]",
      "text/plain": [
       "<Figure size 432x288 with 1 Axes>"
      ]
     },
     "metadata": {
      "needs_background": "light"
     },
     "output_type": "display_data"
    }
   ],
   "source": [
    "import matplotlib.pyplot as plt\n",
    "import numpy as np\n",
    "\n",
    "\n",
    "baseline_loss = np.load('outputs/losses_t5-small_epoch3.npy')\n",
    "truncate_middle_loss = np.load('outputs_with_truncation/head+tail_losses_t5-small_epoch3.npy')\n",
    "\n",
    "plt.plot(baseline_loss, label='no truncation')\n",
    "\n",
    "plt.plot(truncate_middle_loss, label='middle words truncation')\n",
    "plt.legend()\n",
    "plt.show()"
   ]
  },
  {
   "cell_type": "markdown",
   "id": "ba8e4bf5",
   "metadata": {},
   "source": [
    "<hr>"
   ]
  },
  {
   "cell_type": "markdown",
   "id": "64c85a7d",
   "metadata": {},
   "source": [
    "<a id=\"4\"></a>\n",
    "\n",
    "## Draft Experiments (Random stuff)"
   ]
  },
  {
   "cell_type": "code",
   "execution_count": 30,
   "id": "738b58f4",
   "metadata": {},
   "outputs": [
    {
     "name": "stdout",
     "output_type": "stream",
     "text": [
      "[86, 3411, 6, 132, 19, 150, 6957, 4038, 145, 1]\n"
     ]
    }
   ],
   "source": [
    "### Experiment\n",
    "\n",
    "sentences = [\n",
    "    'In Japan, there is no lake bigger than Lake Biwa.',\n",
    "'Tom\\'s apartment is way too big for just one man.',\n",
    "'Did you hear about the new animal discovered in Ecuador?',\n",
    "]\n",
    "\n",
    "tokenizer = T5Tokenizer.from_pretrained(model_params[\"MODEL\"])\n",
    "encoded_input = tokenizer(sentences, padding=True, truncation=True, max_length=10)\n",
    "print(encoded_input['input_ids'][0])"
   ]
  },
  {
   "cell_type": "code",
   "execution_count": 32,
   "id": "27b88d9b",
   "metadata": {},
   "outputs": [
    {
     "name": "stdout",
     "output_type": "stream",
     "text": [
      "In Japan, there is no lake</s>\n"
     ]
    }
   ],
   "source": [
    "decoded = tokenizer.decode(tokenizer(sentences, padding=True, \n",
    "                                      truncation=True, max_length=8)['input_ids'][0])\n",
    "print(decoded)"
   ]
  },
  {
   "cell_type": "code",
   "execution_count": 33,
   "id": "1f44b3f2",
   "metadata": {},
   "outputs": [
    {
     "name": "stdout",
     "output_type": "stream",
     "text": [
      "Before= {'input_ids': [[86, 3411, 6, 132, 19, 150, 6957, 4038, 145, 1], [3059, 31, 7, 4579, 19, 194, 396, 600, 21, 1], [3963, 25, 1616, 81, 8, 126, 2586, 3883, 16, 1]], 'attention_mask': [[1, 1, 1, 1, 1, 1, 1, 1, 1, 1], [1, 1, 1, 1, 1, 1, 1, 1, 1, 1], [1, 1, 1, 1, 1, 1, 1, 1, 1, 1]]}\n"
     ]
    }
   ],
   "source": [
    "print(\"Before=\", encoded_input)"
   ]
  },
  {
   "cell_type": "code",
   "execution_count": 34,
   "id": "979422eb",
   "metadata": {},
   "outputs": [
    {
     "name": "stdout",
     "output_type": "stream",
     "text": [
      "[0, 1, 2, 3, 4, 5, 6, 7, 8, 9, 15, 16, 17, 18, 19, 20, 21, 22, 23, 24, 25, 26, 27, 28, 29, 30, 31, 32, 33, 34, 35, 36, 37, 38, 39, 40, 41, 42, 43, 44, 45, 46, 47, 48, 49]\n"
     ]
    }
   ],
   "source": [
    "test = [i for i in range(0,50)]\n",
    "left = int(.20 * len(test))\n",
    "right = int(0.70 * len(test))\n",
    "\n",
    "left_selection = test[:left]\n",
    "right_selection = test[-right:]\n",
    "all_indices = left_selection + right_selection\n",
    "print(all_indices)"
   ]
  },
  {
   "cell_type": "code",
   "execution_count": 35,
   "id": "74f3fe72",
   "metadata": {},
   "outputs": [
    {
     "name": "stdout",
     "output_type": "stream",
     "text": [
      "{'input_ids': [[86, 3411, 6, 132, 19, 150, 6957, 4038, 145, 1]]}\n"
     ]
    }
   ],
   "source": [
    "from transformers import tokenization_utils_base\n",
    "\n",
    "newdict = {'input_ids': [[86, 3411, 6, 132, 19, 150, 6957, 4038, 145, 1]]}\n",
    "new_encoding = tokenization_utils_base.BatchEncoding(newdict)\n",
    "\n",
    "print(new_encoding)"
   ]
  },
  {
   "cell_type": "code",
   "execution_count": 36,
   "id": "42d52c7f",
   "metadata": {},
   "outputs": [
    {
     "name": "stdout",
     "output_type": "stream",
     "text": [
      "<class 'list'>\n",
      "<class 'torch.Tensor'>\n",
      "tensor([[  86., 3411.,    6.]])\n",
      "tensor([[  86., 3411.,    6.]])\n",
      "<class 'torch.Tensor'>\n",
      "After: {'input_ids': [[86, 3411, 6, 132, 19, 150, 6957, 4038, 145, 1], [3059, 31, 7, 4579, 19, 194, 396, 600, 21, 1], [3963, 25, 1616, 81, 8, 126, 2586, 3883, 16, 1]], 'attention_mask': [[1, 1, 1, 1, 1, 1, 1, 1, 1, 1], [1, 1, 1, 1, 1, 1, 1, 1, 1, 1], [1, 1, 1, 1, 1, 1, 1, 1, 1, 1]], 'intput_ids': tensor([[  86., 3411.,    6.]])}\n"
     ]
    }
   ],
   "source": [
    "a = encoded_input.input_ids[0][0:3]\n",
    "print(type(a))\n",
    "a = torch.Tensor(a)\n",
    "print(type(a))\n",
    "# after = torch.Tensor([a]) # expected error here\n",
    "\n",
    "#fix:\n",
    "a = a.tolist()\n",
    "after=torch.Tensor([a])\n",
    "\n",
    "\n",
    "\n",
    "print(after)\n",
    "after = torch.Tensor([encoded_input.input_ids[0][0:3]])\n",
    "print(after)\n",
    "print(type(after))\n",
    "encoded_input['intput_ids'] = after\n",
    "print(\"After:\", encoded_input)"
   ]
  },
  {
   "cell_type": "code",
   "execution_count": null,
   "id": "4b2432ac",
   "metadata": {},
   "outputs": [],
   "source": []
  }
 ],
 "metadata": {
  "kernelspec": {
   "display_name": "Python 3 (ipykernel)",
   "language": "python",
   "name": "python3"
  },
  "language_info": {
   "codemirror_mode": {
    "name": "ipython",
    "version": 3
   },
   "file_extension": ".py",
   "mimetype": "text/x-python",
   "name": "python",
   "nbconvert_exporter": "python",
   "pygments_lexer": "ipython3",
   "version": "3.9.5"
  }
 },
 "nbformat": 4,
 "nbformat_minor": 5
}
